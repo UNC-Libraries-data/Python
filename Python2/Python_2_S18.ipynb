{
 "cells": [
  {
   "cell_type": "markdown",
   "metadata": {},
   "source": [
    "<center>\n",
    "<h1>Python 2</h1>\n",
    "</center>\n",
    "\n",
    "\n",
    "Matt Jansen, Davis Library Research Hub <br>\n",
    "February 6, 2018\n",
    "\n",
    "** Abstract:**\n",
    "This workshop will:\n",
    "* Briefly review the basics covered in Python 1\n",
    "* Learn how to work with files and directory\n",
    "* Consider new data types and statements\n",
    "* Survey some of the more important data-related packages"
   ]
  },
  {
   "cell_type": "markdown",
   "metadata": {},
   "source": [
    "### NOTE:\n",
    "This workshop assumes that you already have the <a href=\"https://www.anaconda.com/download/\">Anaconda distribution</a> of Python 3.6 installed.  Detailed installation instructions are available in the <a href=\"http://gis.unc.edu/instruction/Python/Python_1_S18.html\">Python 1 materials</a>. \n",
    "\n",
    "# Pseudocode\n",
    "\n",
    "As you get started coding in Python, there will be many many tasks and steps you aren't familiar with!  As you learn new functions and approaches, you'll become better and better at searching for help online and reviewing documentation.  Learning to write and use pseudocode where appropriate can help organize your plan for any individual script.\n",
    "\n",
    "Pseudocode is essentially a first draft of your code, written in English for **human consumption**, though with the tools of your programming language in mind.  For example, we might write pseudocode for extracting text from pdf files as:\n",
    "\n",
    "1. Set Working Directory\n",
    "2. Loop through each pdf in the directory:\n",
    "    * open the pdf file\n",
    "    * extract text\n",
    "    * check length of text extracted\n",
    "        * if length is zero: add to problems list\n",
    "        * otherwise, add to output file\n",
    "3. Write output file(s)\n",
    "\n",
    "This process can divide a complicated task into more digestible parts.  You may not know how to open a pdf file or extract text from it, but you'll often have better luck finding existing help online on smaller tasks like these than with your overall goal or project.\n",
    "\n",
    "**Exercise:**\n",
    "* Write pseudocode to summarize what's happening in the following code:"
   ]
  },
  {
   "cell_type": "code",
   "execution_count": 19,
   "metadata": {
    "collapsed": true
   },
   "outputs": [],
   "source": [
    "random_words=[\"statement\", \"toy\", \"cars\", \"shoes\", \"ear\", \"busy\", \n",
    "              \"magnificent\", \"brainy\", \"healthy\", \"narrow\", \"join\", \n",
    "              \"decay\", \"dashing\", \"river\", \"gather\", \"stop\", \"satisfying\", \n",
    "              \"holistic\", \"reply\", \"steady\", \"event\", \"house\", \"amused\", \n",
    "              \"soak\", \"increase\"]\n",
    "\n",
    "vowels=[\"a\",\"e\",\"i\",\"o\",\"u\",\"y\"]\n",
    "\n",
    "output=[]\n",
    "\n",
    "for word in random_words:\n",
    "    count=0\n",
    "    for char in word:\n",
    "        if char in vowels:\n",
    "            count=count+1\n",
    "    if count>=3:\n",
    "        output.append(word)"
   ]
  },
  {
   "cell_type": "markdown",
   "metadata": {},
   "source": [
    "* Write pseudocode to check an arbitrary list of numbers, `my_numbers`, to find all even numbers and convert them to odd numbers by adding one.  Put the resulting numbers into a new list `my_numbers2`.  (Recall `for` loops ,`if` conditions, and the modulo function `%` from Python 1.)\n",
    "\n",
    "# Comments\n",
    "\n",
    "Recall that Python ignores anything following a `#` as a comment.  Comments are a vital part of your code, as they leave notes about how or why you're doing something.  As you gain experience, you'll use comments in different ways.\n",
    "\n",
    "Comments can also provide a link between pseudocode and real code.  Once you've written your pseudocode, use comments to put the major steps into your code file itself.  Then fill in the gaps with actual code as you figure it out.\n",
    "\n",
    "Here's a possible answer to the previous exercise."
   ]
  },
  {
   "cell_type": "code",
   "execution_count": 1,
   "metadata": {
    "collapsed": true
   },
   "outputs": [],
   "source": [
    "#1. Get or define the list my_numbers\n",
    "my_numbers=list(range(100))\n",
    "\n",
    "#2. Create an empty list for the new all-odd numbers, my_numbers2.\n",
    "\n",
    "#3. Use a loop to iterate through the list of numbers\n",
    "\n",
    "    #3a. For a given number check to see if it is even.\n",
    "    \n",
    "    #3b. If the number is even, add 1.\n",
    "    \n",
    "    #3c. Append the resulting number to the my_numbers2 list."
   ]
  },
  {
   "cell_type": "markdown",
   "metadata": {},
   "source": [
    "**Exercise:**\n",
    "\n",
    "* Use your own pseudocode or the example above as an outline to fill in with Python code.  Test your code with the `my_numbers` object defined above."
   ]
  },
  {
   "cell_type": "markdown",
   "metadata": {},
   "source": [
    "# Reading and Writing Files from Python\n",
    "\n",
    "## Packages\n",
    "\n",
    "Packages provide additional tools and functions not present in base Python.  Python includes a number of packages to start with, and others can be installed using `pip install <package name>` and/or `conda install <package name>` commands **in your terminal**. \n",
    "\n",
    "Before you can use these functions, you'll need to load them with with the `import` function."
   ]
  },
  {
   "cell_type": "code",
   "execution_count": 4,
   "metadata": {
    "collapsed": true
   },
   "outputs": [],
   "source": [
    "import os #functions for working with your operating system"
   ]
  },
  {
   "cell_type": "markdown",
   "metadata": {},
   "source": [
    "## Working Directories\n",
    "\n",
    "To open a file with Python, you'll need to tell your computer where it's located on your computer.  You can specify the entire absolute filepath (starting with C:\\ on PC or / on Mac), or you can set a working directory and work with relative file paths.  \n",
    "\n",
    "If a file is located in your working directory, its relative path is just the name of the file!\n",
    "\n",
    "**Note:** Windows filepaths use `\\`, which Python interprets as escape characters.  File paths need to be modified to either use `/` or `\\\\` in place of `\\`."
   ]
  },
  {
   "cell_type": "code",
   "execution_count": 2,
   "metadata": {},
   "outputs": [
    {
     "data": {
      "text/plain": [
       "True"
      ]
     },
     "execution_count": 2,
     "metadata": {},
     "output_type": "execute_result"
    }
   ],
   "source": [
    "myfile=\"C:/Users/mtjansen/Dropbox/Python_Sales/day1.txt\" #absolute path\n",
    "os.path.isfile(myfile) #check if Python can find my file "
   ]
  },
  {
   "cell_type": "code",
   "execution_count": 3,
   "metadata": {},
   "outputs": [
    {
     "data": {
      "text/plain": [
       "True"
      ]
     },
     "execution_count": 3,
     "metadata": {},
     "output_type": "execute_result"
    }
   ],
   "source": [
    "os.chdir(\"C:/Users/mtjansen/Dropbox/Python_Sales\") #set working directory\n",
    "myfile=\"day1.txt\"\n",
    "os.path.isfile(myfile)"
   ]
  },
  {
   "cell_type": "markdown",
   "metadata": {},
   "source": [
    "Once we've set a working directory, we can get a list of all files with `os.listdir(\".\")`."
   ]
  },
  {
   "cell_type": "code",
   "execution_count": 4,
   "metadata": {},
   "outputs": [
    {
     "name": "stdout",
     "output_type": "stream",
     "text": [
      "['Day1.txt', 'Day2.txt', 'Day3.txt']\n",
      "['Day1.txt', 'Day2.txt', 'Day3.txt']\n"
     ]
    }
   ],
   "source": [
    "print(os.listdir(\".\"))\n",
    "print(os.listdir(\"C:/Users/mtjansen/Dropbox/Python_Sales\")) #alternatively we can specify a folder"
   ]
  },
  {
   "cell_type": "markdown",
   "metadata": {},
   "source": [
    "**Exercise:**\n",
    "\n",
    "Download the zipped data availalble <a href=\"http://gis.unc.edu/instruction/Python/Python_Sales/Python_Sales.zip\">here</a>. Unzip them somewhere on your computer.\n",
    "\n",
    "Use `import os` and `os.chdir` to set your working directory to the unzipped folder \"Python Sales\".  Use `os.listdir` to check what files are stored there.\n",
    "\n",
    "\n",
    "## Reading and Writing Files\n",
    "\n",
    "Python requires you both open and close files explicitly.  If you forget to close a file, it can remain in use, preventing you from opening it later.\n",
    "\n",
    "Best practices for reading and writing files use the `with` function to make sure files are automatically closed."
   ]
  },
  {
   "cell_type": "code",
   "execution_count": 5,
   "metadata": {},
   "outputs": [
    {
     "name": "stdout",
     "output_type": "stream",
     "text": [
      "19.6\n",
      "60.6\n",
      "67.9\n",
      "76.9\n",
      "44.6\n",
      "61.4\n",
      "39.5\n",
      "42.7\n",
      "48\n",
      "58.9\n"
     ]
    }
   ],
   "source": [
    "with open('Day1.txt',\"r\") as txtfile: #\"r\" indicates that we are reading the textfile and not writing to it\n",
    "    raw=txtfile.read() #read() retrieves raw text information from the file opened in txtfile\n",
    "    \n",
    "print(raw)"
   ]
  },
  {
   "cell_type": "code",
   "execution_count": 6,
   "metadata": {},
   "outputs": [
    {
     "name": "stdout",
     "output_type": "stream",
     "text": [
      "['19.6', '60.6', '67.9', '76.9', '44.6', '61.4', '39.5', '42.7', '48', '58.9']\n"
     ]
    }
   ],
   "source": [
    "rawlist=raw.split(\"\\n\") #.split(\"\\n\") uses each new line, denoted by \"\\n\" to split the string into a list\n",
    "print(rawlist)"
   ]
  },
  {
   "cell_type": "code",
   "execution_count": 7,
   "metadata": {},
   "outputs": [
    {
     "name": "stdout",
     "output_type": "stream",
     "text": [
      "520.1\n"
     ]
    }
   ],
   "source": [
    "total=0\n",
    "for item in rawlist:\n",
    "    n=float(item) #convert strings to decimal numbers (i.e. floats)\n",
    "    total=total+n\n",
    "print(total)"
   ]
  },
  {
   "cell_type": "markdown",
   "metadata": {},
   "source": [
    "Let's write a new file with the total."
   ]
  },
  {
   "cell_type": "code",
   "execution_count": 8,
   "metadata": {
    "collapsed": true
   },
   "outputs": [],
   "source": [
    "total=str(total) #we need to convert numerics to strings before writing\n",
    "with open(\"Day1_TOTAL.txt\",\"w\") as txtfile: #like \"r\" above, \"w\" specifies that we're writing to the file\n",
    "    txtfile.write(total)"
   ]
  },
  {
   "cell_type": "markdown",
   "metadata": {},
   "source": [
    "** Exercise: **\n",
    "\n",
    "* Use a loop to extend the above to get the total for each of the three files, Day1.txt, Day2.txt, and Day3.txt. Create a new file that contains the overall total.  There shouldn't be any sales over 100, so if you find any exclude them!"
   ]
  },
  {
   "cell_type": "markdown",
   "metadata": {
    "collapsed": true
   },
   "source": [
    "# Data Objects: continued\n",
    "\n",
    "Last week, we introduced a number of important data structures in Python: string and numeric types, as well as lists.  We used indexing to specify particular parts of the sequential objects - strings and lists.  \n",
    "\n",
    "## Dictionaries\n",
    "\n",
    "Dictionaries provide a \"mapping object\"; instead of an index, they used named \"keys\" to organized data.  Dictionaries also benefit from faster performance than lists in most cases, due to their use of <a href=\"https://en.wikipedia.org/wiki/Hash_table\">hash tables</a>.  A dictionary is defined as follows:"
   ]
  },
  {
   "cell_type": "code",
   "execution_count": 9,
   "metadata": {},
   "outputs": [
    {
     "data": {
      "text/plain": [
       "dict"
      ]
     },
     "execution_count": 9,
     "metadata": {},
     "output_type": "execute_result"
    }
   ],
   "source": [
    "class_dict = {\"course\":\"Python II\",\"location\":\"Davis Library\",\"time\":\"4pm\"}\n",
    "type(class_dict)"
   ]
  },
  {
   "cell_type": "markdown",
   "metadata": {},
   "source": [
    "In this case, `\"course\"`, `\"location\"`, and `\"time\"` serve as the \"keys\" for this dictionary.  They serve to index a list, like the numbers we use to index lists.  We can print a particular value by placing its key in the same square brackets `[]` used by list indices."
   ]
  },
  {
   "cell_type": "code",
   "execution_count": 10,
   "metadata": {},
   "outputs": [
    {
     "name": "stdout",
     "output_type": "stream",
     "text": [
      "Davis Library\n"
     ]
    }
   ],
   "source": [
    "print(class_dict[\"location\"])"
   ]
  },
  {
   "cell_type": "markdown",
   "metadata": {},
   "source": [
    "We can also generate a list of all of the keys for a dictionary using the `.keys()` method. "
   ]
  },
  {
   "cell_type": "code",
   "execution_count": 8,
   "metadata": {},
   "outputs": [
    {
     "name": "stdout",
     "output_type": "stream",
     "text": [
      "dict_keys(['course', 'location', 'time'])\n"
     ]
    }
   ],
   "source": [
    "print(class_dict.keys())"
   ]
  },
  {
   "cell_type": "markdown",
   "metadata": {},
   "source": [
    "## List and Dictionary Comprehensions\n",
    "\n",
    "Python provides some shortcuts to generating lists and dictionaries, especially those that you might (now) generate with a list.  For example, let's generate a list of the square of each number from 1 to 15."
   ]
  },
  {
   "cell_type": "code",
   "execution_count": 6,
   "metadata": {},
   "outputs": [
    {
     "name": "stdout",
     "output_type": "stream",
     "text": [
      "[1, 4, 9, 16, 25, 36, 49, 64, 81, 100, 121, 144, 169, 196, 225]\n"
     ]
    }
   ],
   "source": [
    "squares=[]\n",
    "for n in range(1,16):\n",
    "    squares.append(n**2)\n",
    "print(squares)"
   ]
  },
  {
   "cell_type": "markdown",
   "metadata": {},
   "source": [
    "Using a \"comprehension\", we can shorten this to a single line, effectively bringing the loop inside the `[]` used to define the list."
   ]
  },
  {
   "cell_type": "code",
   "execution_count": 7,
   "metadata": {},
   "outputs": [
    {
     "name": "stdout",
     "output_type": "stream",
     "text": [
      "[1, 4, 9, 16, 25, 36, 49, 64, 81, 100, 121, 144, 169, 196, 225]\n"
     ]
    }
   ],
   "source": [
    "squares=[x**2 for x in range(1,16)]\n",
    "print(squares)"
   ]
  },
  {
   "cell_type": "markdown",
   "metadata": {},
   "source": [
    "The same general format holds for defining dictionaries."
   ]
  },
  {
   "cell_type": "code",
   "execution_count": 8,
   "metadata": {},
   "outputs": [
    {
     "name": "stdout",
     "output_type": "stream",
     "text": [
      "{1: 1, 2: 4, 3: 9, 4: 16, 5: 25, 6: 36, 7: 49, 8: 64, 9: 81, 10: 100, 11: 121, 12: 144, 13: 169, 14: 196, 15: 225}\n"
     ]
    }
   ],
   "source": [
    "squaresdict={k:k**2 for k in range(1,16)}\n",
    "print(squaresdict)"
   ]
  },
  {
   "cell_type": "markdown",
   "metadata": {},
   "source": [
    "# Defining your own Functions\n",
    "\n",
    "While Python (and its available packages) provide a wide variety of functions, sometimes it's useful to create your own.  Python's syntax for defining a function to return the mean of a list of numbers.  (Base Python does not include a function for the mean.)"
   ]
  },
  {
   "cell_type": "code",
   "execution_count": 11,
   "metadata": {},
   "outputs": [
    {
     "name": "stdout",
     "output_type": "stream",
     "text": [
      "25.5\n"
     ]
    }
   ],
   "source": [
    "def mean(number_list):\n",
    "    s=sum(number_list)\n",
    "    n=len(number_list)\n",
    "    m=s/n\n",
    "    return m\n",
    "\n",
    "numbers=list(range(1,51))\n",
    "print(mean(numbers))"
   ]
  },
  {
   "cell_type": "markdown",
   "metadata": {},
   "source": [
    "**Exercise:**\n",
    "Choose one of the following (or both if you're feeling ambitious!):\n",
    "* Define a function, `median` to find the median of a list.  The median is the middle number of an odd-numbered list or the average of the middle two numbers in an even numbered list.  (Hint: Use `sorted(<your_list>)` to create a list sorted from low to high values.\n",
    "\n",
    "* Define your own function, `variance` to calculate the (population) variance, of a list of numbers:\n",
    "\n",
    "$$ \\sigma^2 = \\frac{1}{N} \\sum_{i=1}^{N} (x_i-\\mu)^2 $$\n",
    "\n",
    "Where $N$ is the length of the list, $x_1, x_2, ... x_N$ are the values in the list, and $\\mu$ is the sample average (you can re-use the `mean` function above).  \n",
    "\n",
    "\n",
    "* Test your function(s) with the lists below:\n"
   ]
  },
  {
   "cell_type": "code",
   "execution_count": 18,
   "metadata": {
    "collapsed": true
   },
   "outputs": [],
   "source": [
    "data1 = list(range(1,100))\n",
    "\n",
    "#Normally Distributed Data:\n",
    "from numpy.random import normal\n",
    "data2 = normal(loc=0,scale=2,size=100) #scale=2 defines the standard deviation as 2"
   ]
  },
  {
   "cell_type": "markdown",
   "metadata": {},
   "source": [
    "# Try / Except - Making your code robust\n",
    "\n",
    "Errors and warnings are a regular occurrence in coding, and an important part of the learning process.  In some cases, they can also be useful in designing an algorithm.  For example, suppose we have a stream of user entered data that is supposed to contain the user's age in years.  You might expect to get a few errors or nonsense entries."
   ]
  },
  {
   "cell_type": "code",
   "execution_count": 10,
   "metadata": {
    "collapsed": true
   },
   "outputs": [],
   "source": [
    "user_ages=[\"34\",\"27\",\"54\",\"19\",\"giraffe\",\"15\",\"83\",\"61\",\"43\",\"91\",\"sixteen\"]"
   ]
  },
  {
   "cell_type": "markdown",
   "metadata": {},
   "source": [
    "It would be useful to convert these values to a numeric type to get the average age of our users, but we want to build something that can set non-numeric values aside.  We can attempt to convert to numeric and give Python instructions for errors with a `try`-`except` statement:"
   ]
  },
  {
   "cell_type": "code",
   "execution_count": 3,
   "metadata": {},
   "outputs": [
    {
     "name": "stdout",
     "output_type": "stream",
     "text": [
      "[34, 27, 54, 19, 15, 83, 61, 43, 91]\n",
      "['giraffe', 'sixteen']\n"
     ]
    }
   ],
   "source": [
    "ages=[]\n",
    "problems=[]\n",
    "\n",
    "for age in user_ages:\n",
    "    try:\n",
    "        a=int(age)\n",
    "        ages.append(a)\n",
    "    except:\n",
    "        problems.append(age)\n",
    "        \n",
    "print(ages)\n",
    "print(problems)"
   ]
  },
  {
   "cell_type": "markdown",
   "metadata": {},
   "source": [
    "# Useful Packages\n",
    "\n",
    "Some of these packages may NOT be included in your Anaconda installation.  Whenever you need to install a package, you need to use the Anaconda prompt window, **NOT Python itself**.  The Anaconda Prompt window can be reached through the Windows Start Menu folder for Anaconda or right clicking and opening a terminal from the Python 3 tab in your Evnironments tab of your Anaconda Navigator on a Mac.\n",
    "\n",
    "Installing packages known to Anaconda can be done with the `conda install <package name>` command in your Anaconda Prompt window.  Otherwise you may need to use a different manager like `pip install <package name>`.\n",
    "\n",
    "<a href=\"https://conda.io/docs/user-guide/tasks/manage-pkgs.html\">More information about managing packages in Python is available here.</a>"
   ]
  },
  {
   "cell_type": "markdown",
   "metadata": {
    "collapsed": true
   },
   "source": [
    "\n",
    "## Data Analysis\n",
    "\n",
    "### Numpy and Scipy\n",
    "\n",
    "<a href=\"http://www.numpy.org/\">`numpy`</a> provides the mathematical functionality (e.g. large arrayes, linear algebra, random numbers, etc.) for many popular statistical and machine learning tasks in Python.  This is a dependency for many of the packages we discuss below.  <a href=\"https://docs.scipy.org/doc/scipy/reference/\">`scipy`</a> adds an array of mathematica and statistical functions that work with `numpy` objects. \n",
    "\n",
    "### Pandas \n",
    "\n",
    "The <a href=\"https://pandas.pydata.org/\">`pandas` package</a> provides high-level data manipulation functionality, similar to that found by default in R.  That means new objects like data frames and time series, as well as new functions to manage missing values, merge, and/or reshape datasets.\n",
    "\n",
    "Download the csv file <a href=\"http://gis.unc.edu/instruction/Python/CountyHealthData_2014-2015.csv\"> \n",
    "CountyHealthData_2014-2015.csv</a>."
   ]
  },
  {
   "cell_type": "code",
   "execution_count": 7,
   "metadata": {},
   "outputs": [
    {
     "data": {
      "text/html": [
       "<div>\n",
       "<style>\n",
       "    .dataframe thead tr:only-child th {\n",
       "        text-align: right;\n",
       "    }\n",
       "\n",
       "    .dataframe thead th {\n",
       "        text-align: left;\n",
       "    }\n",
       "\n",
       "    .dataframe tbody tr th {\n",
       "        vertical-align: top;\n",
       "    }\n",
       "</style>\n",
       "<table border=\"1\" class=\"dataframe\">\n",
       "  <thead>\n",
       "    <tr style=\"text-align: right;\">\n",
       "      <th></th>\n",
       "      <th>State</th>\n",
       "      <th>Region</th>\n",
       "      <th>County</th>\n",
       "      <th>Year</th>\n",
       "      <th>Premature death</th>\n",
       "      <th>Poor physical health days</th>\n",
       "      <th>Poor mental health days</th>\n",
       "      <th>Adult obesity</th>\n",
       "      <th>Food environment index</th>\n",
       "      <th>Physical inactivity</th>\n",
       "      <th>Excessive drinking</th>\n",
       "      <th>Diabetes</th>\n",
       "      <th>Median household income</th>\n",
       "    </tr>\n",
       "  </thead>\n",
       "  <tbody>\n",
       "    <tr>\n",
       "      <th>0</th>\n",
       "      <td>AK</td>\n",
       "      <td>West</td>\n",
       "      <td>Aleutians West Census Area</td>\n",
       "      <td>1/1/2014</td>\n",
       "      <td>NaN</td>\n",
       "      <td>2.1</td>\n",
       "      <td>2.1</td>\n",
       "      <td>0.300</td>\n",
       "      <td>7.002</td>\n",
       "      <td>0.234</td>\n",
       "      <td>0.266</td>\n",
       "      <td>0.067</td>\n",
       "      <td>69192</td>\n",
       "    </tr>\n",
       "    <tr>\n",
       "      <th>1</th>\n",
       "      <td>AK</td>\n",
       "      <td>West</td>\n",
       "      <td>Aleutians West Census Area</td>\n",
       "      <td>1/1/2015</td>\n",
       "      <td>NaN</td>\n",
       "      <td>2.1</td>\n",
       "      <td>2.1</td>\n",
       "      <td>0.329</td>\n",
       "      <td>6.600</td>\n",
       "      <td>0.220</td>\n",
       "      <td>0.266</td>\n",
       "      <td>0.065</td>\n",
       "      <td>74088</td>\n",
       "    </tr>\n",
       "    <tr>\n",
       "      <th>2</th>\n",
       "      <td>AK</td>\n",
       "      <td>West</td>\n",
       "      <td>Anchorage Borough</td>\n",
       "      <td>1/1/2014</td>\n",
       "      <td>6827.0</td>\n",
       "      <td>3.3</td>\n",
       "      <td>3.0</td>\n",
       "      <td>0.257</td>\n",
       "      <td>8.185</td>\n",
       "      <td>0.205</td>\n",
       "      <td>0.185</td>\n",
       "      <td>0.070</td>\n",
       "      <td>71094</td>\n",
       "    </tr>\n",
       "    <tr>\n",
       "      <th>3</th>\n",
       "      <td>AK</td>\n",
       "      <td>West</td>\n",
       "      <td>Anchorage Borough</td>\n",
       "      <td>1/1/2015</td>\n",
       "      <td>6856.0</td>\n",
       "      <td>3.3</td>\n",
       "      <td>3.0</td>\n",
       "      <td>0.268</td>\n",
       "      <td>8.000</td>\n",
       "      <td>0.180</td>\n",
       "      <td>0.185</td>\n",
       "      <td>0.070</td>\n",
       "      <td>76362</td>\n",
       "    </tr>\n",
       "    <tr>\n",
       "      <th>4</th>\n",
       "      <td>AK</td>\n",
       "      <td>West</td>\n",
       "      <td>Bethel Census Area</td>\n",
       "      <td>1/1/2014</td>\n",
       "      <td>13345.0</td>\n",
       "      <td>3.3</td>\n",
       "      <td>2.6</td>\n",
       "      <td>0.315</td>\n",
       "      <td>3.210</td>\n",
       "      <td>0.283</td>\n",
       "      <td>0.171</td>\n",
       "      <td>0.067</td>\n",
       "      <td>41722</td>\n",
       "    </tr>\n",
       "  </tbody>\n",
       "</table>\n",
       "</div>"
      ],
      "text/plain": [
       "  State Region                      County      Year  Premature death  \\\n",
       "0    AK   West  Aleutians West Census Area  1/1/2014              NaN   \n",
       "1    AK   West  Aleutians West Census Area  1/1/2015              NaN   \n",
       "2    AK   West           Anchorage Borough  1/1/2014           6827.0   \n",
       "3    AK   West           Anchorage Borough  1/1/2015           6856.0   \n",
       "4    AK   West          Bethel Census Area  1/1/2014          13345.0   \n",
       "\n",
       "   Poor physical health days  Poor mental health days  Adult obesity  \\\n",
       "0                        2.1                      2.1          0.300   \n",
       "1                        2.1                      2.1          0.329   \n",
       "2                        3.3                      3.0          0.257   \n",
       "3                        3.3                      3.0          0.268   \n",
       "4                        3.3                      2.6          0.315   \n",
       "\n",
       "   Food environment index  Physical inactivity  Excessive drinking  Diabetes  \\\n",
       "0                   7.002                0.234               0.266     0.067   \n",
       "1                   6.600                0.220               0.266     0.065   \n",
       "2                   8.185                0.205               0.185     0.070   \n",
       "3                   8.000                0.180               0.185     0.070   \n",
       "4                   3.210                0.283               0.171     0.067   \n",
       "\n",
       "   Median household income  \n",
       "0                    69192  \n",
       "1                    74088  \n",
       "2                    71094  \n",
       "3                    76362  \n",
       "4                    41722  "
      ]
     },
     "execution_count": 7,
     "metadata": {},
     "output_type": "execute_result"
    }
   ],
   "source": [
    "import pandas as pd #pd shortens the name to make it easier to call functions from pandas\n",
    "os.chdir(\"C:/Users/mtjansen/Dropbox/Python_Spring18\")\n",
    "\n",
    "df = pd.read_csv(\"CountyHealthData_2014-2015.csv\")\n",
    "\n",
    "df.head()"
   ]
  },
  {
   "cell_type": "code",
   "execution_count": 10,
   "metadata": {
    "scrolled": true
   },
   "outputs": [
    {
     "data": {
      "text/html": [
       "<div>\n",
       "<style>\n",
       "    .dataframe thead tr:only-child th {\n",
       "        text-align: right;\n",
       "    }\n",
       "\n",
       "    .dataframe thead th {\n",
       "        text-align: left;\n",
       "    }\n",
       "\n",
       "    .dataframe tbody tr th {\n",
       "        vertical-align: top;\n",
       "    }\n",
       "</style>\n",
       "<table border=\"1\" class=\"dataframe\">\n",
       "  <thead>\n",
       "    <tr style=\"text-align: right;\">\n",
       "      <th></th>\n",
       "      <th>Premature death</th>\n",
       "      <th>Poor physical health days</th>\n",
       "      <th>Poor mental health days</th>\n",
       "      <th>Adult obesity</th>\n",
       "      <th>Food environment index</th>\n",
       "      <th>Physical inactivity</th>\n",
       "      <th>Excessive drinking</th>\n",
       "      <th>Diabetes</th>\n",
       "      <th>Median household income</th>\n",
       "    </tr>\n",
       "    <tr>\n",
       "      <th>Region</th>\n",
       "      <th></th>\n",
       "      <th></th>\n",
       "      <th></th>\n",
       "      <th></th>\n",
       "      <th></th>\n",
       "      <th></th>\n",
       "      <th></th>\n",
       "      <th></th>\n",
       "      <th></th>\n",
       "    </tr>\n",
       "  </thead>\n",
       "  <tbody>\n",
       "    <tr>\n",
       "      <th>Midwest</th>\n",
       "      <td>7183.902799</td>\n",
       "      <td>3.338256</td>\n",
       "      <td>3.165094</td>\n",
       "      <td>0.311058</td>\n",
       "      <td>7.695060</td>\n",
       "      <td>0.271220</td>\n",
       "      <td>0.190614</td>\n",
       "      <td>0.102460</td>\n",
       "      <td>47277.853288</td>\n",
       "    </tr>\n",
       "    <tr>\n",
       "      <th>Northeast</th>\n",
       "      <td>6233.209677</td>\n",
       "      <td>3.535047</td>\n",
       "      <td>3.514623</td>\n",
       "      <td>0.277198</td>\n",
       "      <td>8.197622</td>\n",
       "      <td>0.240961</td>\n",
       "      <td>0.176693</td>\n",
       "      <td>0.097512</td>\n",
       "      <td>53695.292627</td>\n",
       "    </tr>\n",
       "    <tr>\n",
       "      <th>South</th>\n",
       "      <td>9116.940754</td>\n",
       "      <td>4.336586</td>\n",
       "      <td>3.971896</td>\n",
       "      <td>0.322495</td>\n",
       "      <td>6.894375</td>\n",
       "      <td>0.300112</td>\n",
       "      <td>0.132786</td>\n",
       "      <td>0.122163</td>\n",
       "      <td>41787.915448</td>\n",
       "    </tr>\n",
       "    <tr>\n",
       "      <th>West</th>\n",
       "      <td>7293.756250</td>\n",
       "      <td>3.658853</td>\n",
       "      <td>3.361783</td>\n",
       "      <td>0.259058</td>\n",
       "      <td>6.927634</td>\n",
       "      <td>0.211495</td>\n",
       "      <td>0.167510</td>\n",
       "      <td>0.084556</td>\n",
       "      <td>48647.646283</td>\n",
       "    </tr>\n",
       "  </tbody>\n",
       "</table>\n",
       "</div>"
      ],
      "text/plain": [
       "           Premature death  Poor physical health days  \\\n",
       "Region                                                  \n",
       "Midwest        7183.902799                   3.338256   \n",
       "Northeast      6233.209677                   3.535047   \n",
       "South          9116.940754                   4.336586   \n",
       "West           7293.756250                   3.658853   \n",
       "\n",
       "           Poor mental health days  Adult obesity  Food environment index  \\\n",
       "Region                                                                      \n",
       "Midwest                   3.165094       0.311058                7.695060   \n",
       "Northeast                 3.514623       0.277198                8.197622   \n",
       "South                     3.971896       0.322495                6.894375   \n",
       "West                      3.361783       0.259058                6.927634   \n",
       "\n",
       "           Physical inactivity  Excessive drinking  Diabetes  \\\n",
       "Region                                                         \n",
       "Midwest               0.271220            0.190614  0.102460   \n",
       "Northeast             0.240961            0.176693  0.097512   \n",
       "South                 0.300112            0.132786  0.122163   \n",
       "West                  0.211495            0.167510  0.084556   \n",
       "\n",
       "           Median household income  \n",
       "Region                              \n",
       "Midwest               47277.853288  \n",
       "Northeast             53695.292627  \n",
       "South                 41787.915448  \n",
       "West                  48647.646283  "
      ]
     },
     "execution_count": 10,
     "metadata": {},
     "output_type": "execute_result"
    }
   ],
   "source": [
    "df.groupby(\"Region\").mean()"
   ]
  },
  {
   "cell_type": "markdown",
   "metadata": {},
   "source": [
    "**Learn more:**\n",
    "* `pandas` provides a quick introduction <a href=\"https://pandas.pydata.org/pandas-docs/stable/10min.html\">here</a>\n",
    "* <a href=\"https://jakevdp.github.io/PythonDataScienceHandbook/\">Python Data Science Handbook</a> provides more detail and integraion with other software.\n",
    "\n",
    "### Matplotlib and Visualization\n",
    "\n",
    "<a href=\"https://matplotlib.org/\">`matplotlib`</a> is a commonly used data visualization package for Python, oriented towards static, scientific plotting.  There are a number of other packages for visualization including:\n",
    "\n",
    "* `seaborn` provides aesthetic extensions to matplotlib\n",
    "* `ggplot` - a Python version of the popular ggplot2 package for R\n",
    "* `Bokeh` and `Plotly` help create interactive web visualizations\n",
    "\n",
    "## Other Areas\n",
    "\n",
    "### BeautifulSoup (for parsing HTML or XML data)\n",
    "\n",
    "Python's built-in `urllib.request` package makes it relatively easy to download the underlying html from a web page. Note that the `from package import function` notation used here allows you to selectively import only parts of a package as needed."
   ]
  },
  {
   "cell_type": "code",
   "execution_count": 4,
   "metadata": {},
   "outputs": [
    {
     "name": "stdout",
     "output_type": "stream",
     "text": [
      "b'<!DOCTYPE html>\\n<html>\\n<head><meta charset=\"utf-8\" />\\n<title>Python_1_S18</title><script src=\"https://cdnjs.cloudflare.com/ajax/libs/require.js/2.1.10/require.min.js\"></script>\\n<script src=\"https://cdnjs.cloudflare.com/ajax/libs/jquery/2.0.3/jquery.min.js\"></script>\\n\\n<style type=\"text/css\">\\n    /*!\\n*\\n* Twitter Bootstrap\\n*\\n*/\\n/*!\\n * Bootstrap v3.3.7 (http://getbootstrap.com)\\n * Copyright 2011-2016 Twitter, Inc.\\n * Licensed under MIT (https://github.com/twbs/bootstrap/blob/master/LICENSE)\\n */\\n/*! normalize.css v3.0.3 | MIT License | github.com/necolas/normalize.css */\\nhtml {\\n  font-family: sans-serif;\\n  -ms-text-size-adjust: 100%;\\n  -webkit-text-size-adjust: 100%;\\n}\\nbody {\\n  margin: 0;\\n}\\narticle,\\naside,\\ndetails,\\nfigcaption,\\nfigure,\\nfooter,\\nheader,\\nhgroup,\\nmain,\\nmenu,\\nnav,\\nsection,\\nsummary {\\n  display: block;\\n}\\naudio,\\ncanvas,\\nprogress,\\nvideo {\\n  display: inline-block;\\n  vertical-align: baseline;\\n}\\naudio:not([controls]) {\\n  display: none;\\n  height: 0;\\n}\\n[hidden],\\ntemplate {\\n  display: none'\n"
     ]
    }
   ],
   "source": [
    "from urllib.request import urlopen\n",
    "page = urlopen(\"http://gis.unc.edu/instruction/Python/Python_1_S18.html\")  #The Python 1 materials!\n",
    "html = page.read()\n",
    "print(html[:1000]) #print only the first 1000 characters"
   ]
  },
  {
   "cell_type": "markdown",
   "metadata": {},
   "source": [
    "**Note:** Always check a site's Terms of Service before scraping it.  Some sites explicitly prohibit web scraping of their data.\n",
    "\n",
    "### NLTK (text analysis)\n",
    "\n",
    "<a href=\"http://www.nltk.org/\">The Natural Language Toolkit (`nltk`)</a> provides a wide array of tools for processing and analyzing text.  This includes operations like splitting text into sentences or words (\"tokenization\"), tagging them with their part of speech, classification, and more.\n",
    "\n",
    "## Jupyter Notebooks\n",
    "\n",
    "Sooner or later, you'll want to share your code or projects with other people (even if only future-you!).  <a href=\"http://jupyter.org/\">Jupyter notebooks</a>, included with Anaconda, provide integration between code, its output, images, and formatted text beyond what's possible with in-code comments.  The materials for these workshops were created in Jupyter notebooks.\n",
    "\n",
    "## Feedback\n",
    "\n",
    "Please fill out our feedback form available here: http://bit.ly/hubSpring2018\n",
    "\n",
    "We'd love your input on future workshop topics and ways we could improve this workshop next time we teach it!"
   ]
  },
  {
   "cell_type": "markdown",
   "metadata": {},
   "source": [
    "# Other Resources:\n",
    "\n",
    "* <a href=\"https://jakevdp.github.io/PythonDataScienceHandbook/\">Python Data Science Handbook</a>  This free ebook emphasizes Numpy, Scipy, Matplotlib, Pandas and other data analysis packages in Python, assuming some familiarity with the basic principles of the language.\n",
    "\n"
   ]
  }
 ],
 "metadata": {
  "kernelspec": {
   "display_name": "Python 3",
   "language": "python",
   "name": "python3"
  },
  "language_info": {
   "codemirror_mode": {
    "name": "ipython",
    "version": 3
   },
   "file_extension": ".py",
   "mimetype": "text/x-python",
   "name": "python",
   "nbconvert_exporter": "python",
   "pygments_lexer": "ipython3",
   "version": "3.6.1"
  }
 },
 "nbformat": 4,
 "nbformat_minor": 2
}
