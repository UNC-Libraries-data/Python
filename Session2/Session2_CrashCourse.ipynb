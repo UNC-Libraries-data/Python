{
 "cells": [
  {
   "cell_type": "markdown",
   "metadata": {},
   "source": [
    "# Python: Session 2\n",
    "\n",
    "*University Libraries at the University of North Carolina at Chapel Hill*"
   ]
  },
  {
   "cell_type": "markdown",
   "metadata": {
    "tags": []
   },
   "source": [
    "**Tody we will introduce:**\n",
    "\n",
    "* Psuedocode\n",
    "* Exception handling\n",
    "* User-defined functions\n",
    "* Working with Tablular Data in Pandas\n",
    "* Data visualization\n",
    "* Other helpful packages\n",
    "* How to continue learning"
   ]
  },
  {
   "cell_type": "markdown",
   "metadata": {},
   "source": [
    "## Pseudocode and Comments\n",
    "\n",
    "### Pseudocode\n",
    "\n",
    "As you get started coding in Python, there will be many many tasks and steps you aren't familiar with!  As you learn new functions and approaches, you'll become better and better at searching for help online and reviewing documentation.  Learning to write and use pseudocode where appropriate can help organize your plan for any individual script.\n",
    "\n",
    "Pseudocode is essentially a first draft of your code, written in English for **human consumption**, though with the tools of your programming language in mind. For example, let's say we have a list of words, and we want to find only the words with 3 or more vowels. Our psuedocode might look something like this:\n",
    "\n",
    "    1. Create a list of words.\n",
    "    2. Create a list of vowels.\n",
    "    3. Create an output list to store the words with 3 or more vowels.\n",
    "    4. Use a loop to iterate through our list of words.\n",
    "        4a. Use a counter to keep track of how many vowels are found in a word.\n",
    "        4b. Use a loop to iterate through the letters of each word.\n",
    "            * If the letter exists in the list of vowels, add 1 to the counter.\n",
    "        4c. If the counter finds more than 3 vowels, add the word to our output list.\n",
    "        \n",
    "This process can divide a complicated task into more digestible parts. You may not know how to complete the different steps yet, but you'll often have better luck finding existing help online on smaller tasks like these than with your overall goal or project."
   ]
  },
  {
   "cell_type": "markdown",
   "metadata": {},
   "source": [
    "### Comments\n",
    "\n",
    "Recall that Python ignores anything following a `#` as a comment.  Comments are a vital part of your code, as they leave notes about how or why you're doing something.  As you gain experience, you'll use comments in different ways.\n",
    "\n",
    "Comments can also provide a link between pseudocode and real code.  Once you've written your pseudocode, use comments to put the major steps into your code file itself.  Then fill in the gaps with actual code as you figure it out.\n",
    "\n",
    "Here's our possible pseudocode for the vowel counting task:"
   ]
  },
  {
   "cell_type": "code",
   "execution_count": 9,
   "metadata": {},
   "outputs": [],
   "source": [
    "#1. Create a list of words.\n",
    "\n",
    "#2. Create a list of vowels.\n",
    "\n",
    "#3. Create an output list to store the words with 3 or more vowels.\n",
    "\n",
    "#4. Use a loop to iterate through our list of words.\n",
    "\n",
    "    #4a. Use a counter to keep track of how many vowels are found in a word.\n",
    "    \n",
    "    #4b. Use a loop to iterate through the letters of each word.\n",
    "        \n",
    "        #If the letter exists in the list of vowels, add 1 to the counter.\n",
    "            \n",
    "    #c. If the counter is greater or equal to 3, add the word and number of vowels to our output list.\n"
   ]
  },
  {
   "cell_type": "markdown",
   "metadata": {},
   "source": [
    "And here's how it looks once we've added our code:"
   ]
  },
  {
   "cell_type": "code",
   "execution_count": 40,
   "metadata": {},
   "outputs": [],
   "source": [
    "#1. Create a list of words.\n",
    "my_words=[\"statement\", \"toy\", \"cars\", \"shoes\", \"ear\", \"busy\", \n",
    "              \"magnificent\", \"brainy\", \"healthy\", \"narrow\", \"join\", \n",
    "              \"decay\", \"dashing\", \"river\", \"gather\", \"stop\", \"satisfying\", \n",
    "              \"holistic\", \"reply\", \"steady\", \"event\", \"house\", \"amused\", \n",
    "              \"soak\", \"increase\"]\n",
    "\n",
    "#2. Create a list of vowels.\n",
    "vowels=[\"a\", \"e\", \"i\", \"o\", \"u\", \"y\"]\n",
    "\n",
    "#3. Create an output list to store the words with 3 or more vowels.\n",
    "output=[]\n",
    "\n",
    "#4. Use a loop to iterate through our list of words.\n",
    "for word in my_words:\n",
    "    \n",
    "    #4a. Use a counter to keep track of how many vowels are found in a word.\n",
    "    count = 0\n",
    "    \n",
    "    #4b. Use a loop to iterate through the letters of each word.\n",
    "    for char in word:\n",
    "        \n",
    "        #If the letter exists in the list of vowels, add 1 to the counter.\n",
    "        if char in vowels:\n",
    "            count = count + 1\n",
    "            \n",
    "    #c. If the counter finds more than 3 vowels, add the word and number of vowels \n",
    "    #to our output list.\n",
    "    if count >= 3:\n",
    "        output.append([word, count])"
   ]
  },
  {
   "cell_type": "markdown",
   "metadata": {},
   "source": [
    "## Exception Handling: Try / Except\n",
    "\n",
    "Errors and warnings are very common while developing code, and an important part of the learning process.  In some cases, they can also be useful in designing an algorithm.  For example, suppose we have a stream of user entered data that is supposed to contain the user's age in years.  You might expect to get a few errors or nonsense entries."
   ]
  },
  {
   "cell_type": "code",
   "execution_count": 62,
   "metadata": {},
   "outputs": [],
   "source": [
    "user_ages=[\"34\", \"27\", \"54\", \"19\", \"giraffe\", \"15\", \"83\", \"61\", \"43\", \"91\", \"sixteen\"]"
   ]
  },
  {
   "cell_type": "markdown",
   "metadata": {},
   "source": [
    "It would be useful to convert these values to a numeric type to get the average age of our users, but we want to build something that can set non-numeric values aside.  We can attempt to convert to numeric and give Python instructions for errors with a `try`-`except` statement:"
   ]
  },
  {
   "cell_type": "code",
   "execution_count": 63,
   "metadata": {},
   "outputs": [
    {
     "name": "stdout",
     "output_type": "stream",
     "text": [
      "[34, 27, 54, 19, 15, 83, 61, 43, 91]\n",
      "['giraffe', 'sixteen']\n"
     ]
    }
   ],
   "source": [
    "ages = []\n",
    "problems = []\n",
    "\n",
    "for age in user_ages:\n",
    "    try:\n",
    "        a = int(age)\n",
    "        ages.append(a)\n",
    "    except:\n",
    "        problems.append(age)\n",
    "        \n",
    "print(ages)\n",
    "print(problems)"
   ]
  },
  {
   "cell_type": "markdown",
   "metadata": {},
   "source": [
    "## User-defined Functions\n",
    "\n",
    "While Python (and its available packages) provide a wide variety of functions, sometimes it's useful to create your own.  Python's syntax for defining a function is as follows:\n",
    "\n",
    "```\n",
    "def <function_name> ( <arguments> ):\n",
    "    <code depending on arguments>\n",
    "    return <value>\n",
    "        \n",
    "```\n",
    "\n",
    "The `mean` function below returns the mean of a list of numbers.  (Base Python does not include a function for the mean.)"
   ]
  },
  {
   "cell_type": "code",
   "execution_count": 80,
   "metadata": {},
   "outputs": [
    {
     "name": "stdout",
     "output_type": "stream",
     "text": [
      "27.0\n"
     ]
    }
   ],
   "source": [
    "def mean(number_list):\n",
    "    s = sum(number_list)\n",
    "    n = len(number_list)\n",
    "    m = s/n\n",
    "    return m\n",
    "\n",
    "numbers = [1,23,89,5,67,3,1]\n",
    "print(mean(numbers))"
   ]
  },
  {
   "cell_type": "markdown",
   "metadata": {},
   "source": [
    "## Using Other Packages\n",
    "So far, we've learned how to work with Python's base data structures like lists and dictionaries. However, much of the real-world data we encounter comes in the form of spreadsheets and tables - structures that include rows and columns. To work easily with these data types, we will need to use third party packages that extend Python's functionality. Pandas is one of those packages.\n",
    "\n",
    "Whenever you need to install a package, you need to use the Miniforge prompt or temrinal window, **NOT Python itself**.  The Miniforge Prompt window can be reached through the Windows Start Menu folder for Miniforge3 or right clicking and opening a terminal from Applications > Utilities > Terminal on Mac.\n",
    "\n",
    "Installing packages known to conda can be done with the `conda install <package name>` command in your Miniforge Prompt window.  Otherwise you may need to use a different manager like `pip install <package name>`.\n",
    "\n",
    "<a href=\"https://conda.io/projects/conda/en/latest/user-guide/tasks/manage-pkgs.html\">More information about managing packages in Python is available here.</a>\n"
   ]
  },
  {
   "cell_type": "markdown",
   "metadata": {},
   "source": [
    "## Working With Tabular Data in Pandas\n",
    "\n",
    "We will be working with a synthetic dataset that has been created to for practicing in Python. It doesn't include any real information, but is instead made up of fake circulation data about imaginary books, libraries and towns.\n",
    "\n",
    "Download the csv file <a href=\"https://unc-libraries-data.github.io/Python/Session2/library_data.csv\">library_data.csv</a>.  I've stored my copy in the same folder as this Jupyter Notebook.  Remember that Jupyter Notebooks automatically set your working directory to the folder where the .ipynb is saved.  You'll have to save the document at least once to set your directory, but once there you can use relative paths.\n",
    "\n",
    "`pd.read_csv` reads the tabular data from a Comma Separated Values (csv) file into a `DataFrame` object."
   ]
  },
  {
   "cell_type": "code",
   "execution_count": 3,
   "metadata": {},
   "outputs": [],
   "source": [
    "import pandas as pd\n",
    "\n",
    "df = pd.read_csv(\"library_data.csv\")\n",
    "\n",
    "# Having trouble saving your file to the right location? Try uncommenting and running the line of code below.\n",
    "#df = pd.read_csv(\"https://github.com/UNC-Libraries-data/Python/raw/main/Session2/library_data.csv\")"
   ]
  },
  {
   "cell_type": "markdown",
   "metadata": {},
   "source": [
    "### Exploring a Data Frame\n",
    "\n",
    "#### Attributes\n",
    "A good first step in understanding our DataFrame is to examine some of its basic attributes. Attributes contain **values** that help us understand and use the dataframe.\n",
    "\n",
    "Here we use the `.shape` attribute to determine how many rows and columns (in that order) are available.  `.columns` provides the column names for the DataFrame."
   ]
  },
  {
   "cell_type": "code",
   "execution_count": 11,
   "metadata": {},
   "outputs": [
    {
     "data": {
      "text/plain": [
       "(5914, 7)"
      ]
     },
     "execution_count": 11,
     "metadata": {},
     "output_type": "execute_result"
    }
   ],
   "source": [
    "df.shape"
   ]
  },
  {
   "cell_type": "code",
   "execution_count": 15,
   "metadata": {},
   "outputs": [
    {
     "data": {
      "text/plain": [
       "Index(['id', 'library', 'town', 'town pop', 'title', 'genre', 'borrow_date'], dtype='object')"
      ]
     },
     "execution_count": 15,
     "metadata": {},
     "output_type": "execute_result"
    }
   ],
   "source": [
    "df.columns"
   ]
  },
  {
   "cell_type": "markdown",
   "metadata": {},
   "source": [
    "#### Methods\n",
    "\n",
    "Much of the functionality for working with dataframes comes in the form of methods.  Methods are specialized **functions** that only work for a certain type of object - in this case, dataframes.\n",
    "\n",
    "We can look at the first 5 rows in the dataset directly with the `.head()` method. Alternatively, we can get a random sample of rows using `sample()`. Note that we supply the parameter n to specify how many rows we want to sample.\n"
   ]
  },
  {
   "cell_type": "code",
   "execution_count": 17,
   "metadata": {},
   "outputs": [
    {
     "data": {
      "text/html": [
       "<div>\n",
       "<style scoped>\n",
       "    .dataframe tbody tr th:only-of-type {\n",
       "        vertical-align: middle;\n",
       "    }\n",
       "\n",
       "    .dataframe tbody tr th {\n",
       "        vertical-align: top;\n",
       "    }\n",
       "\n",
       "    .dataframe thead th {\n",
       "        text-align: right;\n",
       "    }\n",
       "</style>\n",
       "<table border=\"1\" class=\"dataframe\">\n",
       "  <thead>\n",
       "    <tr style=\"text-align: right;\">\n",
       "      <th></th>\n",
       "      <th>id</th>\n",
       "      <th>library</th>\n",
       "      <th>town</th>\n",
       "      <th>town pop</th>\n",
       "      <th>title</th>\n",
       "      <th>genre</th>\n",
       "      <th>borrow_date</th>\n",
       "    </tr>\n",
       "  </thead>\n",
       "  <tbody>\n",
       "    <tr>\n",
       "      <th>0</th>\n",
       "      <td>491</td>\n",
       "      <td>Heritage Heights Library</td>\n",
       "      <td>Hilltop Springs</td>\n",
       "      <td>75000</td>\n",
       "      <td>Secrets of the Old Manor</td>\n",
       "      <td>Mystery</td>\n",
       "      <td>1/1/2020</td>\n",
       "    </tr>\n",
       "    <tr>\n",
       "      <th>1</th>\n",
       "      <td>3553</td>\n",
       "      <td>Meadowbrook Commons Library</td>\n",
       "      <td>Meadowbrook</td>\n",
       "      <td>45000</td>\n",
       "      <td>The Enchanted Forest</td>\n",
       "      <td>Fantasy</td>\n",
       "      <td>1/1/2020</td>\n",
       "    </tr>\n",
       "    <tr>\n",
       "      <th>2</th>\n",
       "      <td>3384</td>\n",
       "      <td>Riverside Reading Room</td>\n",
       "      <td>Riverdale</td>\n",
       "      <td>150000</td>\n",
       "      <td>The Dragon's Crown</td>\n",
       "      <td>Fantasy</td>\n",
       "      <td>1/2/2020</td>\n",
       "    </tr>\n",
       "    <tr>\n",
       "      <th>3</th>\n",
       "      <td>2267</td>\n",
       "      <td>Heritage Heights Library</td>\n",
       "      <td>Hilltop Springs</td>\n",
       "      <td>75000</td>\n",
       "      <td>Letters to Forever</td>\n",
       "      <td>Romance</td>\n",
       "      <td>1/2/2020</td>\n",
       "    </tr>\n",
       "    <tr>\n",
       "      <th>4</th>\n",
       "      <td>4298</td>\n",
       "      <td>Lakeside Reading Center</td>\n",
       "      <td>Lake Haven</td>\n",
       "      <td>15000</td>\n",
       "      <td>Mathematics Made Simple</td>\n",
       "      <td>Non-Fiction</td>\n",
       "      <td>1/2/2020</td>\n",
       "    </tr>\n",
       "  </tbody>\n",
       "</table>\n",
       "</div>"
      ],
      "text/plain": [
       "     id                      library             town  town pop  \\\n",
       "0   491     Heritage Heights Library  Hilltop Springs     75000   \n",
       "1  3553  Meadowbrook Commons Library      Meadowbrook     45000   \n",
       "2  3384       Riverside Reading Room        Riverdale    150000   \n",
       "3  2267     Heritage Heights Library  Hilltop Springs     75000   \n",
       "4  4298      Lakeside Reading Center       Lake Haven     15000   \n",
       "\n",
       "                      title        genre borrow_date  \n",
       "0  Secrets of the Old Manor      Mystery    1/1/2020  \n",
       "1      The Enchanted Forest      Fantasy    1/1/2020  \n",
       "2        The Dragon's Crown      Fantasy    1/2/2020  \n",
       "3        Letters to Forever      Romance    1/2/2020  \n",
       "4   Mathematics Made Simple  Non-Fiction    1/2/2020  "
      ]
     },
     "execution_count": 17,
     "metadata": {},
     "output_type": "execute_result"
    }
   ],
   "source": [
    "df.head()"
   ]
  },
  {
   "cell_type": "code",
   "execution_count": 18,
   "metadata": {},
   "outputs": [
    {
     "data": {
      "text/html": [
       "<div>\n",
       "<style scoped>\n",
       "    .dataframe tbody tr th:only-of-type {\n",
       "        vertical-align: middle;\n",
       "    }\n",
       "\n",
       "    .dataframe tbody tr th {\n",
       "        vertical-align: top;\n",
       "    }\n",
       "\n",
       "    .dataframe thead th {\n",
       "        text-align: right;\n",
       "    }\n",
       "</style>\n",
       "<table border=\"1\" class=\"dataframe\">\n",
       "  <thead>\n",
       "    <tr style=\"text-align: right;\">\n",
       "      <th></th>\n",
       "      <th>id</th>\n",
       "      <th>library</th>\n",
       "      <th>town</th>\n",
       "      <th>town pop</th>\n",
       "      <th>title</th>\n",
       "      <th>genre</th>\n",
       "      <th>borrow_date</th>\n",
       "    </tr>\n",
       "  </thead>\n",
       "  <tbody>\n",
       "    <tr>\n",
       "      <th>4531</th>\n",
       "      <td>1332</td>\n",
       "      <td>Heritage Heights Library</td>\n",
       "      <td>Hilltop Springs</td>\n",
       "      <td>75000</td>\n",
       "      <td>Android's Promise</td>\n",
       "      <td>Science Fiction</td>\n",
       "      <td>11/21/2023</td>\n",
       "    </tr>\n",
       "    <tr>\n",
       "      <th>3634</th>\n",
       "      <td>1943</td>\n",
       "      <td>Riverside Reading Room</td>\n",
       "      <td>Riverdale</td>\n",
       "      <td>150000</td>\n",
       "      <td>The Bookshop Romance</td>\n",
       "      <td>Romance</td>\n",
       "      <td>3/5/2023</td>\n",
       "    </tr>\n",
       "    <tr>\n",
       "      <th>4805</th>\n",
       "      <td>2481</td>\n",
       "      <td>Heritage Heights Library</td>\n",
       "      <td>Hilltop Springs</td>\n",
       "      <td>75000</td>\n",
       "      <td>Echoes of Yesterday</td>\n",
       "      <td>Literary Fiction</td>\n",
       "      <td>2/4/2024</td>\n",
       "    </tr>\n",
       "    <tr>\n",
       "      <th>2516</th>\n",
       "      <td>168</td>\n",
       "      <td>Meadowbrook Commons Library</td>\n",
       "      <td>Meadowbrook</td>\n",
       "      <td>45000</td>\n",
       "      <td>The Vanishing at Midnight</td>\n",
       "      <td>Mystery</td>\n",
       "      <td>3/8/2022</td>\n",
       "    </tr>\n",
       "    <tr>\n",
       "      <th>2767</th>\n",
       "      <td>2024</td>\n",
       "      <td>Pine Valley Library</td>\n",
       "      <td>Pine Valley</td>\n",
       "      <td>25000</td>\n",
       "      <td>Summer Hearts</td>\n",
       "      <td>Romance</td>\n",
       "      <td>5/21/2022</td>\n",
       "    </tr>\n",
       "  </tbody>\n",
       "</table>\n",
       "</div>"
      ],
      "text/plain": [
       "        id                      library             town  town pop  \\\n",
       "4531  1332     Heritage Heights Library  Hilltop Springs     75000   \n",
       "3634  1943       Riverside Reading Room        Riverdale    150000   \n",
       "4805  2481     Heritage Heights Library  Hilltop Springs     75000   \n",
       "2516   168  Meadowbrook Commons Library      Meadowbrook     45000   \n",
       "2767  2024          Pine Valley Library      Pine Valley     25000   \n",
       "\n",
       "                          title             genre borrow_date  \n",
       "4531          Android's Promise   Science Fiction  11/21/2023  \n",
       "3634       The Bookshop Romance           Romance    3/5/2023  \n",
       "4805        Echoes of Yesterday  Literary Fiction    2/4/2024  \n",
       "2516  The Vanishing at Midnight           Mystery    3/8/2022  \n",
       "2767              Summer Hearts           Romance   5/21/2022  "
      ]
     },
     "execution_count": 18,
     "metadata": {},
     "output_type": "execute_result"
    }
   ],
   "source": [
    "df.sample(n=5)"
   ]
  },
  {
   "cell_type": "markdown",
   "metadata": {},
   "source": [
    "A full list of attributes and methods for DataFrames is available in the [documentation](https://pandas.pydata.org/docs/reference/api/pandas.DataFrame.html).\n",
    "\n",
    "### Indexing\n",
    "We'll often want to select certain rows or columns from a large dataframe. As with elements in a list, this can be accomplished using indexing. There are some limitations, however. For example, we can use numbers in square brackets to select certain rows, but doing so always returns all the columns in our dataset:"
   ]
  },
  {
   "cell_type": "code",
   "execution_count": 21,
   "metadata": {},
   "outputs": [
    {
     "data": {
      "text/html": [
       "<div>\n",
       "<style scoped>\n",
       "    .dataframe tbody tr th:only-of-type {\n",
       "        vertical-align: middle;\n",
       "    }\n",
       "\n",
       "    .dataframe tbody tr th {\n",
       "        vertical-align: top;\n",
       "    }\n",
       "\n",
       "    .dataframe thead th {\n",
       "        text-align: right;\n",
       "    }\n",
       "</style>\n",
       "<table border=\"1\" class=\"dataframe\">\n",
       "  <thead>\n",
       "    <tr style=\"text-align: right;\">\n",
       "      <th></th>\n",
       "      <th>id</th>\n",
       "      <th>library</th>\n",
       "      <th>town</th>\n",
       "      <th>town pop</th>\n",
       "      <th>title</th>\n",
       "      <th>genre</th>\n",
       "      <th>borrow_date</th>\n",
       "    </tr>\n",
       "  </thead>\n",
       "  <tbody>\n",
       "    <tr>\n",
       "      <th>0</th>\n",
       "      <td>491</td>\n",
       "      <td>Heritage Heights Library</td>\n",
       "      <td>Hilltop Springs</td>\n",
       "      <td>75000</td>\n",
       "      <td>Secrets of the Old Manor</td>\n",
       "      <td>Mystery</td>\n",
       "      <td>1/1/2020</td>\n",
       "    </tr>\n",
       "    <tr>\n",
       "      <th>1</th>\n",
       "      <td>3553</td>\n",
       "      <td>Meadowbrook Commons Library</td>\n",
       "      <td>Meadowbrook</td>\n",
       "      <td>45000</td>\n",
       "      <td>The Enchanted Forest</td>\n",
       "      <td>Fantasy</td>\n",
       "      <td>1/1/2020</td>\n",
       "    </tr>\n",
       "    <tr>\n",
       "      <th>2</th>\n",
       "      <td>3384</td>\n",
       "      <td>Riverside Reading Room</td>\n",
       "      <td>Riverdale</td>\n",
       "      <td>150000</td>\n",
       "      <td>The Dragon's Crown</td>\n",
       "      <td>Fantasy</td>\n",
       "      <td>1/2/2020</td>\n",
       "    </tr>\n",
       "  </tbody>\n",
       "</table>\n",
       "</div>"
      ],
      "text/plain": [
       "     id                      library             town  town pop  \\\n",
       "0   491     Heritage Heights Library  Hilltop Springs     75000   \n",
       "1  3553  Meadowbrook Commons Library      Meadowbrook     45000   \n",
       "2  3384       Riverside Reading Room        Riverdale    150000   \n",
       "\n",
       "                      title    genre borrow_date  \n",
       "0  Secrets of the Old Manor  Mystery    1/1/2020  \n",
       "1      The Enchanted Forest  Fantasy    1/1/2020  \n",
       "2        The Dragon's Crown  Fantasy    1/2/2020  "
      ]
     },
     "execution_count": 21,
     "metadata": {},
     "output_type": "execute_result"
    }
   ],
   "source": [
    "df[0:3]"
   ]
  },
  {
   "cell_type": "markdown",
   "metadata": {},
   "source": [
    "We can select rows for specific columns using the column names. If we want to select multiple columns, we must list them in their own nested set of square brackets."
   ]
  },
  {
   "cell_type": "code",
   "execution_count": 23,
   "metadata": {},
   "outputs": [
    {
     "data": {
      "text/plain": [
       "5    Secrets of the Old Manor\n",
       "6          The Dragon's Crown\n",
       "7                Time Paradox\n",
       "8       Murder on Pine Street\n",
       "9           The Perfect Crime\n",
       "Name: title, dtype: object"
      ]
     },
     "execution_count": 23,
     "metadata": {},
     "output_type": "execute_result"
    }
   ],
   "source": [
    "df[\"title\"][5:10]"
   ]
  },
  {
   "cell_type": "code",
   "execution_count": 26,
   "metadata": {},
   "outputs": [
    {
     "data": {
      "text/html": [
       "<div>\n",
       "<style scoped>\n",
       "    .dataframe tbody tr th:only-of-type {\n",
       "        vertical-align: middle;\n",
       "    }\n",
       "\n",
       "    .dataframe tbody tr th {\n",
       "        vertical-align: top;\n",
       "    }\n",
       "\n",
       "    .dataframe thead th {\n",
       "        text-align: right;\n",
       "    }\n",
       "</style>\n",
       "<table border=\"1\" class=\"dataframe\">\n",
       "  <thead>\n",
       "    <tr style=\"text-align: right;\">\n",
       "      <th></th>\n",
       "      <th>title</th>\n",
       "      <th>genre</th>\n",
       "      <th>borrow_date</th>\n",
       "    </tr>\n",
       "  </thead>\n",
       "  <tbody>\n",
       "    <tr>\n",
       "      <th>20</th>\n",
       "      <td>The Perfect Crime</td>\n",
       "      <td>Thriller</td>\n",
       "      <td>1/6/2020</td>\n",
       "    </tr>\n",
       "    <tr>\n",
       "      <th>21</th>\n",
       "      <td>Secrets of the Old Manor</td>\n",
       "      <td>Mystery</td>\n",
       "      <td>1/6/2020</td>\n",
       "    </tr>\n",
       "    <tr>\n",
       "      <th>22</th>\n",
       "      <td>The Silent Witness</td>\n",
       "      <td>Thriller</td>\n",
       "      <td>1/7/2020</td>\n",
       "    </tr>\n",
       "    <tr>\n",
       "      <th>23</th>\n",
       "      <td>Wizard's First Rule</td>\n",
       "      <td>Fantasy</td>\n",
       "      <td>1/7/2020</td>\n",
       "    </tr>\n",
       "  </tbody>\n",
       "</table>\n",
       "</div>"
      ],
      "text/plain": [
       "                       title     genre borrow_date\n",
       "20         The Perfect Crime  Thriller    1/6/2020\n",
       "21  Secrets of the Old Manor   Mystery    1/6/2020\n",
       "22        The Silent Witness  Thriller    1/7/2020\n",
       "23       Wizard's First Rule   Fantasy    1/7/2020"
      ]
     },
     "execution_count": 26,
     "metadata": {},
     "output_type": "execute_result"
    }
   ],
   "source": [
    "df[[\"title\", \"genre\", \"borrow_date\"]][20:24]"
   ]
  },
  {
   "cell_type": "markdown",
   "metadata": {},
   "source": [
    "Typing all those names out gets tiring after a while, though. What if we try to select a column by number instead? Running the code below produces an error. This is where the attributes .iloc and .loc become useful."
   ]
  },
  {
   "cell_type": "markdown",
   "metadata": {},
   "source": [
    "#### `.iloc`\n",
    "\n",
    "If we use the .iloc attribute before our brackets, pandas accepts two numbers separated by a comma. The first number is for rows and the second for columns. Below, we select the second row and sixth column."
   ]
  },
  {
   "cell_type": "code",
   "execution_count": 34,
   "metadata": {},
   "outputs": [
    {
     "data": {
      "text/plain": [
       "'1/2/2020'"
      ]
     },
     "execution_count": 34,
     "metadata": {},
     "output_type": "execute_result"
    }
   ],
   "source": [
    "df.iloc[2,6]"
   ]
  },
  {
   "cell_type": "markdown",
   "metadata": {},
   "source": [
    "We can also use a colon to select multiple rows or columns at once. Note the examples below."
   ]
  },
  {
   "cell_type": "code",
   "execution_count": 40,
   "metadata": {},
   "outputs": [
    {
     "data": {
      "text/plain": [
       "0          Heritage Heights Library\n",
       "1       Meadowbrook Commons Library\n",
       "2            Riverside Reading Room\n",
       "3          Heritage Heights Library\n",
       "4           Lakeside Reading Center\n",
       "                   ...             \n",
       "5909         Riverside Reading Room\n",
       "5910       Heritage Heights Library\n",
       "5911       Heritage Heights Library\n",
       "5912    Meadowbrook Commons Library\n",
       "5913       Heritage Heights Library\n",
       "Name: library, Length: 5914, dtype: object"
      ]
     },
     "execution_count": 40,
     "metadata": {},
     "output_type": "execute_result"
    }
   ],
   "source": [
    "df.iloc[:,1] # All rows of column 1"
   ]
  },
  {
   "cell_type": "code",
   "execution_count": 36,
   "metadata": {},
   "outputs": [
    {
     "data": {
      "text/html": [
       "<div>\n",
       "<style scoped>\n",
       "    .dataframe tbody tr th:only-of-type {\n",
       "        vertical-align: middle;\n",
       "    }\n",
       "\n",
       "    .dataframe tbody tr th {\n",
       "        vertical-align: top;\n",
       "    }\n",
       "\n",
       "    .dataframe thead th {\n",
       "        text-align: right;\n",
       "    }\n",
       "</style>\n",
       "<table border=\"1\" class=\"dataframe\">\n",
       "  <thead>\n",
       "    <tr style=\"text-align: right;\">\n",
       "      <th></th>\n",
       "      <th>id</th>\n",
       "      <th>library</th>\n",
       "      <th>town</th>\n",
       "      <th>town pop</th>\n",
       "      <th>title</th>\n",
       "      <th>genre</th>\n",
       "      <th>borrow_date</th>\n",
       "    </tr>\n",
       "  </thead>\n",
       "  <tbody>\n",
       "    <tr>\n",
       "      <th>0</th>\n",
       "      <td>491</td>\n",
       "      <td>Heritage Heights Library</td>\n",
       "      <td>Hilltop Springs</td>\n",
       "      <td>75000</td>\n",
       "      <td>Secrets of the Old Manor</td>\n",
       "      <td>Mystery</td>\n",
       "      <td>1/1/2020</td>\n",
       "    </tr>\n",
       "    <tr>\n",
       "      <th>1</th>\n",
       "      <td>3553</td>\n",
       "      <td>Meadowbrook Commons Library</td>\n",
       "      <td>Meadowbrook</td>\n",
       "      <td>45000</td>\n",
       "      <td>The Enchanted Forest</td>\n",
       "      <td>Fantasy</td>\n",
       "      <td>1/1/2020</td>\n",
       "    </tr>\n",
       "    <tr>\n",
       "      <th>2</th>\n",
       "      <td>3384</td>\n",
       "      <td>Riverside Reading Room</td>\n",
       "      <td>Riverdale</td>\n",
       "      <td>150000</td>\n",
       "      <td>The Dragon's Crown</td>\n",
       "      <td>Fantasy</td>\n",
       "      <td>1/2/2020</td>\n",
       "    </tr>\n",
       "  </tbody>\n",
       "</table>\n",
       "</div>"
      ],
      "text/plain": [
       "     id                      library             town  town pop  \\\n",
       "0   491     Heritage Heights Library  Hilltop Springs     75000   \n",
       "1  3553  Meadowbrook Commons Library      Meadowbrook     45000   \n",
       "2  3384       Riverside Reading Room        Riverdale    150000   \n",
       "\n",
       "                      title    genre borrow_date  \n",
       "0  Secrets of the Old Manor  Mystery    1/1/2020  \n",
       "1      The Enchanted Forest  Fantasy    1/1/2020  \n",
       "2        The Dragon's Crown  Fantasy    1/2/2020  "
      ]
     },
     "execution_count": 36,
     "metadata": {},
     "output_type": "execute_result"
    }
   ],
   "source": [
    "df.iloc[0:3,:] # Rows 0-2 of all columns"
   ]
  },
  {
   "cell_type": "code",
   "execution_count": 39,
   "metadata": {},
   "outputs": [
    {
     "data": {
      "text/html": [
       "<div>\n",
       "<style scoped>\n",
       "    .dataframe tbody tr th:only-of-type {\n",
       "        vertical-align: middle;\n",
       "    }\n",
       "\n",
       "    .dataframe tbody tr th {\n",
       "        vertical-align: top;\n",
       "    }\n",
       "\n",
       "    .dataframe thead th {\n",
       "        text-align: right;\n",
       "    }\n",
       "</style>\n",
       "<table border=\"1\" class=\"dataframe\">\n",
       "  <thead>\n",
       "    <tr style=\"text-align: right;\">\n",
       "      <th></th>\n",
       "      <th>library</th>\n",
       "      <th>town</th>\n",
       "      <th>town pop</th>\n",
       "    </tr>\n",
       "  </thead>\n",
       "  <tbody>\n",
       "    <tr>\n",
       "      <th>120</th>\n",
       "      <td>Riverside Reading Room</td>\n",
       "      <td>Riverdale</td>\n",
       "      <td>150000</td>\n",
       "    </tr>\n",
       "    <tr>\n",
       "      <th>121</th>\n",
       "      <td>Riverside Reading Room</td>\n",
       "      <td>Riverdale</td>\n",
       "      <td>150000</td>\n",
       "    </tr>\n",
       "    <tr>\n",
       "      <th>122</th>\n",
       "      <td>Riverside Reading Room</td>\n",
       "      <td>Riverdale</td>\n",
       "      <td>150000</td>\n",
       "    </tr>\n",
       "    <tr>\n",
       "      <th>123</th>\n",
       "      <td>Meadowbrook Commons Library</td>\n",
       "      <td>Meadowbrook</td>\n",
       "      <td>45000</td>\n",
       "    </tr>\n",
       "    <tr>\n",
       "      <th>124</th>\n",
       "      <td>Riverside Reading Room</td>\n",
       "      <td>Riverdale</td>\n",
       "      <td>150000</td>\n",
       "    </tr>\n",
       "    <tr>\n",
       "      <th>125</th>\n",
       "      <td>Heritage Heights Library</td>\n",
       "      <td>Hilltop Springs</td>\n",
       "      <td>75000</td>\n",
       "    </tr>\n",
       "  </tbody>\n",
       "</table>\n",
       "</div>"
      ],
      "text/plain": [
       "                         library             town  town pop\n",
       "120       Riverside Reading Room        Riverdale    150000\n",
       "121       Riverside Reading Room        Riverdale    150000\n",
       "122       Riverside Reading Room        Riverdale    150000\n",
       "123  Meadowbrook Commons Library      Meadowbrook     45000\n",
       "124       Riverside Reading Room        Riverdale    150000\n",
       "125     Heritage Heights Library  Hilltop Springs     75000"
      ]
     },
     "execution_count": 39,
     "metadata": {},
     "output_type": "execute_result"
    }
   ],
   "source": [
    "df.iloc[120:126,1:4] # Rows 120-125 of columns 1-3"
   ]
  },
  {
   "cell_type": "markdown",
   "metadata": {},
   "source": [
    "### Series\n",
    "\n",
    "We can think of a DataFrame as a collection rows and columns where each row represents an \"observation\" and each column contains a specific type of information collected about each observation.  In Pandas, our columns are stored as Series objects. A DataFrame, like a dictionary, can be thought of as a named collection of objects, but in this case, the objects are Series.\n",
    "\n",
    "Series have their own set of attributes and methods just like DataFrames. One of the most useful methods for categorical variables is .value_counts() which provides a frequency table."
   ]
  },
  {
   "cell_type": "code",
   "execution_count": 44,
   "metadata": {},
   "outputs": [
    {
     "data": {
      "text/plain": [
       "library\n",
       "Heritage Heights Library       1864\n",
       "Riverside Reading Room         1853\n",
       "Meadowbrook Commons Library    1239\n",
       "Pine Valley Library             649\n",
       "Lakeside Reading Center         309\n",
       "Name: count, dtype: int64"
      ]
     },
     "execution_count": 44,
     "metadata": {},
     "output_type": "execute_result"
    }
   ],
   "source": [
    "# How many books have been borrowed at each library?\n",
    "df.library.value_counts()"
   ]
  },
  {
   "cell_type": "markdown",
   "metadata": {},
   "source": [
    "#### Filtering\n",
    "\n",
    "To filter our dataset based on a logical condition (true or false), we will use nested square brackets. Note the example below.\n",
    "* The inner statement, `df[\"borrow_date\"]==\"6/23/2024\"` looks for a **column** name and checks if it equals \"6/23/2024\"\n",
    "* The outer statement `df[ ... ]` uses the resulting column of True/Falue values to select **rows**\n",
    "* When combined, these two commands call all of the data contained in rows where the value of the borrow_date field is equal to \"6/23/2024\""
   ]
  },
  {
   "cell_type": "code",
   "execution_count": 48,
   "metadata": {},
   "outputs": [
    {
     "data": {
      "text/html": [
       "<div>\n",
       "<style scoped>\n",
       "    .dataframe tbody tr th:only-of-type {\n",
       "        vertical-align: middle;\n",
       "    }\n",
       "\n",
       "    .dataframe tbody tr th {\n",
       "        vertical-align: top;\n",
       "    }\n",
       "\n",
       "    .dataframe thead th {\n",
       "        text-align: right;\n",
       "    }\n",
       "</style>\n",
       "<table border=\"1\" class=\"dataframe\">\n",
       "  <thead>\n",
       "    <tr style=\"text-align: right;\">\n",
       "      <th></th>\n",
       "      <th>id</th>\n",
       "      <th>library</th>\n",
       "      <th>town</th>\n",
       "      <th>town pop</th>\n",
       "      <th>title</th>\n",
       "      <th>genre</th>\n",
       "      <th>borrow_date</th>\n",
       "    </tr>\n",
       "  </thead>\n",
       "  <tbody>\n",
       "    <tr>\n",
       "      <th>5283</th>\n",
       "      <td>1271</td>\n",
       "      <td>Riverside Reading Room</td>\n",
       "      <td>Riverdale</td>\n",
       "      <td>150000</td>\n",
       "      <td>The Last Space Colony</td>\n",
       "      <td>Science Fiction</td>\n",
       "      <td>6/23/2024</td>\n",
       "    </tr>\n",
       "    <tr>\n",
       "      <th>5284</th>\n",
       "      <td>2906</td>\n",
       "      <td>Heritage Heights Library</td>\n",
       "      <td>Hilltop Springs</td>\n",
       "      <td>75000</td>\n",
       "      <td>The Victorian Secret</td>\n",
       "      <td>Historical Fiction</td>\n",
       "      <td>6/23/2024</td>\n",
       "    </tr>\n",
       "    <tr>\n",
       "      <th>5285</th>\n",
       "      <td>4864</td>\n",
       "      <td>Heritage Heights Library</td>\n",
       "      <td>Hilltop Springs</td>\n",
       "      <td>75000</td>\n",
       "      <td>The Inventor's Life</td>\n",
       "      <td>Biography</td>\n",
       "      <td>6/23/2024</td>\n",
       "    </tr>\n",
       "    <tr>\n",
       "      <th>5286</th>\n",
       "      <td>4551</td>\n",
       "      <td>Heritage Heights Library</td>\n",
       "      <td>Hilltop Springs</td>\n",
       "      <td>75000</td>\n",
       "      <td>Life of Einstein</td>\n",
       "      <td>Biography</td>\n",
       "      <td>6/23/2024</td>\n",
       "    </tr>\n",
       "    <tr>\n",
       "      <th>5287</th>\n",
       "      <td>3051</td>\n",
       "      <td>Meadowbrook Commons Library</td>\n",
       "      <td>Meadowbrook</td>\n",
       "      <td>45000</td>\n",
       "      <td>Ancient Promises</td>\n",
       "      <td>Historical Fiction</td>\n",
       "      <td>6/23/2024</td>\n",
       "    </tr>\n",
       "  </tbody>\n",
       "</table>\n",
       "</div>"
      ],
      "text/plain": [
       "        id                      library             town  town pop  \\\n",
       "5283  1271       Riverside Reading Room        Riverdale    150000   \n",
       "5284  2906     Heritage Heights Library  Hilltop Springs     75000   \n",
       "5285  4864     Heritage Heights Library  Hilltop Springs     75000   \n",
       "5286  4551     Heritage Heights Library  Hilltop Springs     75000   \n",
       "5287  3051  Meadowbrook Commons Library      Meadowbrook     45000   \n",
       "\n",
       "                      title               genre borrow_date  \n",
       "5283  The Last Space Colony     Science Fiction   6/23/2024  \n",
       "5284   The Victorian Secret  Historical Fiction   6/23/2024  \n",
       "5285    The Inventor's Life           Biography   6/23/2024  \n",
       "5286       Life of Einstein           Biography   6/23/2024  \n",
       "5287       Ancient Promises  Historical Fiction   6/23/2024  "
      ]
     },
     "execution_count": 48,
     "metadata": {},
     "output_type": "execute_result"
    }
   ],
   "source": [
    "# What books were borrowed on 6/23/2024?\n",
    "df[df[\"borrow_date\"] == \"6/23/2024\"]"
   ]
  },
  {
   "cell_type": "markdown",
   "metadata": {},
   "source": [
    "### Pandas Training on LinkedIn Learning\n",
    "\n",
    "* Get free access to <a href=\"https://software.sites.unc.edu/linkedin/\">LinkedIn Learning</a> through UNC\n",
    "* <a href=\"linkedin.com/learning/data-analysis-with-python-and-pandas\">Data Analysis with Python and Pandas</a>\n",
    "* <a href=\"https://www.linkedin.com/learning/advanced-pandas-29724107/getting-started-with-pandas\">Getting Started with Pandas and Advanced Pandas</a>"
   ]
  },
  {
   "cell_type": "markdown",
   "metadata": {},
   "source": [
    "## Data Visualization\n",
    "\n",
    "There are many libraries for data visualization within Python. We'll introduce three of them to show some examples of data visualization in Python while answering questions about our library dataset.\n",
    "\n",
    "### Simple bar chart using Matplotlib\n",
    "**What are the top 5 most borrowed books?**"
   ]
  },
  {
   "cell_type": "code",
   "execution_count": 72,
   "metadata": {},
   "outputs": [
    {
     "data": {
      "text/plain": [
       "title\n",
       "Secrets of the Old Manor     392\n",
       "The Bookshop Romance         305\n",
       "Summer Hearts                283\n",
       "The Detective's Last Case    252\n",
       "Mathematics Made Simple      231\n",
       "Name: count, dtype: int64"
      ]
     },
     "execution_count": 72,
     "metadata": {},
     "output_type": "execute_result"
    }
   ],
   "source": [
    "# Count how often each book has been borrowed\n",
    "top5 = df.title.value_counts()\n",
    "\n",
    "# Get only the top 5\n",
    "top5 = top5.head()\n",
    "\n",
    "top5"
   ]
  },
  {
   "cell_type": "code",
   "execution_count": 73,
   "metadata": {},
   "outputs": [
    {
     "data": {
      "text/plain": [
       "Text(0.5, 1.0, 'Top 5 Most Borrowed Books')"
      ]
     },
     "execution_count": 73,
     "metadata": {},
     "output_type": "execute_result"
    },
    {
     "data": {
      "image/png": "[encoded data removed]",
      "text/plain": [
       "<Figure size 640x480 with 1 Axes>"
      ]
     },
     "metadata": {},
     "output_type": "display_data"
    }
   ],
   "source": [
    "# load matplotlib\n",
    "import matplotlib.pyplot as plt\n",
    "\n",
    "# Create horizontal bar chart\n",
    "plt.barh(y = top5.index, width = top5.values) # set the x and y axis\n",
    "plt.gca().invert_yaxis() # display bars in descending order\n",
    "plt.xlabel(\"Times Borrowed\") # label the x axis\n",
    "plt.ylabel(\"Title\") # label the y axis\n",
    "plt.title(\"Top 5 Most Borrowed Books\") # create a chart title"
   ]
  },
  {
   "cell_type": "markdown",
   "metadata": {},
   "source": [
    "### Faceted bar charts using Seaborn\n",
    "**What are the top 5 most borrowed books in each library?**"
   ]
  },
  {
   "cell_type": "code",
   "execution_count": 42,
   "metadata": {},
   "outputs": [
    {
     "data": {
      "text/html": [
       "<div>\n",
       "<style scoped>\n",
       "    .dataframe tbody tr th:only-of-type {\n",
       "        vertical-align: middle;\n",
       "    }\n",
       "\n",
       "    .dataframe tbody tr th {\n",
       "        vertical-align: top;\n",
       "    }\n",
       "\n",
       "    .dataframe thead th {\n",
       "        text-align: right;\n",
       "    }\n",
       "</style>\n",
       "<table border=\"1\" class=\"dataframe\">\n",
       "  <thead>\n",
       "    <tr style=\"text-align: right;\">\n",
       "      <th></th>\n",
       "      <th>library</th>\n",
       "      <th>title</th>\n",
       "      <th>count</th>\n",
       "    </tr>\n",
       "  </thead>\n",
       "  <tbody>\n",
       "    <tr>\n",
       "      <th>0</th>\n",
       "      <td>Heritage Heights Library</td>\n",
       "      <td>The Detective's Last Case</td>\n",
       "      <td>102</td>\n",
       "    </tr>\n",
       "    <tr>\n",
       "      <th>1</th>\n",
       "      <td>Heritage Heights Library</td>\n",
       "      <td>The Silent Witness</td>\n",
       "      <td>80</td>\n",
       "    </tr>\n",
       "    <tr>\n",
       "      <th>2</th>\n",
       "      <td>Heritage Heights Library</td>\n",
       "      <td>Secrets of the Old Manor</td>\n",
       "      <td>79</td>\n",
       "    </tr>\n",
       "    <tr>\n",
       "      <th>3</th>\n",
       "      <td>Heritage Heights Library</td>\n",
       "      <td>Murder on Pine Street</td>\n",
       "      <td>76</td>\n",
       "    </tr>\n",
       "    <tr>\n",
       "      <th>4</th>\n",
       "      <td>Heritage Heights Library</td>\n",
       "      <td>The Missing Manuscript</td>\n",
       "      <td>76</td>\n",
       "    </tr>\n",
       "    <tr>\n",
       "      <th>5</th>\n",
       "      <td>Lakeside Reading Center</td>\n",
       "      <td>Secrets of the Old Manor</td>\n",
       "      <td>68</td>\n",
       "    </tr>\n",
       "    <tr>\n",
       "      <th>6</th>\n",
       "      <td>Lakeside Reading Center</td>\n",
       "      <td>The Bookshop Romance</td>\n",
       "      <td>55</td>\n",
       "    </tr>\n",
       "    <tr>\n",
       "      <th>7</th>\n",
       "      <td>Lakeside Reading Center</td>\n",
       "      <td>Philosophy Today</td>\n",
       "      <td>42</td>\n",
       "    </tr>\n",
       "    <tr>\n",
       "      <th>8</th>\n",
       "      <td>Lakeside Reading Center</td>\n",
       "      <td>The Last Space Colony</td>\n",
       "      <td>40</td>\n",
       "    </tr>\n",
       "    <tr>\n",
       "      <th>9</th>\n",
       "      <td>Lakeside Reading Center</td>\n",
       "      <td>Life of Einstein</td>\n",
       "      <td>39</td>\n",
       "    </tr>\n",
       "    <tr>\n",
       "      <th>10</th>\n",
       "      <td>Meadowbrook Commons Library</td>\n",
       "      <td>The Vanishing at Midnight</td>\n",
       "      <td>82</td>\n",
       "    </tr>\n",
       "    <tr>\n",
       "      <th>11</th>\n",
       "      <td>Meadowbrook Commons Library</td>\n",
       "      <td>Deadly Deadline</td>\n",
       "      <td>80</td>\n",
       "    </tr>\n",
       "    <tr>\n",
       "      <th>12</th>\n",
       "      <td>Meadowbrook Commons Library</td>\n",
       "      <td>Secrets of the Old Manor</td>\n",
       "      <td>74</td>\n",
       "    </tr>\n",
       "    <tr>\n",
       "      <th>13</th>\n",
       "      <td>Meadowbrook Commons Library</td>\n",
       "      <td>The Victorian Secret</td>\n",
       "      <td>73</td>\n",
       "    </tr>\n",
       "    <tr>\n",
       "      <th>14</th>\n",
       "      <td>Meadowbrook Commons Library</td>\n",
       "      <td>The Silent Witness</td>\n",
       "      <td>69</td>\n",
       "    </tr>\n",
       "  </tbody>\n",
       "</table>\n",
       "</div>"
      ],
      "text/plain": [
       "                        library                      title  count\n",
       "0      Heritage Heights Library  The Detective's Last Case    102\n",
       "1      Heritage Heights Library         The Silent Witness     80\n",
       "2      Heritage Heights Library   Secrets of the Old Manor     79\n",
       "3      Heritage Heights Library      Murder on Pine Street     76\n",
       "4      Heritage Heights Library     The Missing Manuscript     76\n",
       "5       Lakeside Reading Center   Secrets of the Old Manor     68\n",
       "6       Lakeside Reading Center       The Bookshop Romance     55\n",
       "7       Lakeside Reading Center           Philosophy Today     42\n",
       "8       Lakeside Reading Center      The Last Space Colony     40\n",
       "9       Lakeside Reading Center           Life of Einstein     39\n",
       "10  Meadowbrook Commons Library  The Vanishing at Midnight     82\n",
       "11  Meadowbrook Commons Library            Deadly Deadline     80\n",
       "12  Meadowbrook Commons Library   Secrets of the Old Manor     74\n",
       "13  Meadowbrook Commons Library       The Victorian Secret     73\n",
       "14  Meadowbrook Commons Library         The Silent Witness     69"
      ]
     },
     "execution_count": 42,
     "metadata": {},
     "output_type": "execute_result"
    }
   ],
   "source": [
    "# Group the df by library\n",
    "top5bylib = df.groupby(\"library\")\n",
    "\n",
    "# Count the number of times each book is borrowed in each library. This gives us a series.\n",
    "top5bylib = top5bylib.title.value_counts()\n",
    "\n",
    "# Now that we have a series, we need to group it by library again and get the top 5 in each group\n",
    "top5bylib = top5bylib.groupby(\"library\").nlargest(5)\n",
    "\n",
    "# Turn the series into a dataframe to make it easier to work with in Seaborn\n",
    "top5bylib = top5bylib.reset_index(level=0, drop=True).to_frame().reset_index()\n",
    "\n",
    "top5bylib.head(15)"
   ]
  },
  {
   "cell_type": "code",
   "execution_count": 101,
   "metadata": {},
   "outputs": [
    {
     "data": {
      "image/png": "[encoded data removed]",
      "text/plain": [
       "<Figure size 1350x600 with 5 Axes>"
      ]
     },
     "metadata": {},
     "output_type": "display_data"
    }
   ],
   "source": [
    "# load seaborn\n",
    "import seaborn as sns\n",
    "\n",
    "# create a \"grid\" object using the FacetGrid function. \n",
    "grid = sns.FacetGrid(data = top5bylib, col = \"library\", col_wrap = 3, hue = \"library\", sharey = False, aspect = 1.5)\n",
    "\n",
    "# specify which chart we want to use on the grid and supply the variables for the x and y axis.\n",
    "fig = grid.map_dataframe(sns.barplot, y = \"title\", x = \"count\")"
   ]
  },
  {
   "cell_type": "markdown",
   "metadata": {},
   "source": [
    "### Interactive Line Chart Using Bokeh\n",
    "\n",
    "**What are the borrowing trends for *Secrets of the Old Manor* over time?**"
   ]
  },
  {
   "cell_type": "code",
   "execution_count": 40,
   "metadata": {},
   "outputs": [
    {
     "data": {
      "text/html": [
       "<div>\n",
       "<style scoped>\n",
       "    .dataframe tbody tr th:only-of-type {\n",
       "        vertical-align: middle;\n",
       "    }\n",
       "\n",
       "    .dataframe tbody tr th {\n",
       "        vertical-align: top;\n",
       "    }\n",
       "\n",
       "    .dataframe thead th {\n",
       "        text-align: right;\n",
       "    }\n",
       "</style>\n",
       "<table border=\"1\" class=\"dataframe\">\n",
       "  <thead>\n",
       "    <tr style=\"text-align: right;\">\n",
       "      <th></th>\n",
       "      <th>borrow_date</th>\n",
       "      <th>count</th>\n",
       "    </tr>\n",
       "  </thead>\n",
       "  <tbody>\n",
       "    <tr>\n",
       "      <th>0</th>\n",
       "      <td>2020-01</td>\n",
       "      <td>10</td>\n",
       "    </tr>\n",
       "    <tr>\n",
       "      <th>1</th>\n",
       "      <td>2020-02</td>\n",
       "      <td>9</td>\n",
       "    </tr>\n",
       "    <tr>\n",
       "      <th>2</th>\n",
       "      <td>2020-03</td>\n",
       "      <td>8</td>\n",
       "    </tr>\n",
       "    <tr>\n",
       "      <th>3</th>\n",
       "      <td>2020-04</td>\n",
       "      <td>6</td>\n",
       "    </tr>\n",
       "    <tr>\n",
       "      <th>4</th>\n",
       "      <td>2020-05</td>\n",
       "      <td>10</td>\n",
       "    </tr>\n",
       "  </tbody>\n",
       "</table>\n",
       "</div>"
      ],
      "text/plain": [
       "  borrow_date  count\n",
       "0     2020-01     10\n",
       "1     2020-02      9\n",
       "2     2020-03      8\n",
       "3     2020-04      6\n",
       "4     2020-05     10"
      ]
     },
     "execution_count": 40,
     "metadata": {},
     "output_type": "execute_result"
    }
   ],
   "source": [
    "# Use a filter to select the title we want to focus on\n",
    "somtrend = df[df[\"title\"] == \"Secrets of the Old Manor\"]\n",
    "\n",
    "# Count the number of times the book is borrowed on each date. This gives us a series.\n",
    "somtrend = somtrend.borrow_date.value_counts()\n",
    "\n",
    "# Turn the series into a dataframe\n",
    "somtrend = somtrend.to_frame().reset_index()\n",
    "\n",
    "# Give borrow_date a datetime format\n",
    "somtrend[\"borrow_date\"] = pd.to_datetime(somtrend[\"borrow_date\"])\n",
    "\n",
    "# Group and sum by month for a smoother line. This gives us a series again.\n",
    "somtrend = somtrend.groupby(somtrend[\"borrow_date\"].dt.to_period(\"M\"))[\"count\"].sum()\n",
    "\n",
    "# Turn the series into a dataframe again\n",
    "somtrend = somtrend.to_frame().reset_index()\n",
    "\n",
    "# Sort dataframe in chronological order for Bokeh to display it correctly\n",
    "somtrend = somtrend.sort_values(by=\"borrow_date\")\n",
    "\n",
    "somtrend.head()"
   ]
  },
  {
   "cell_type": "code",
   "execution_count": 43,
   "metadata": {},
   "outputs": [
    {
     "data": {
      "text/html": [
       "    <style>\n",
       "        .bk-notebook-logo {\n",
       "            display: block;\n",
       "            width: 20px;\n",
       "            height: 20px;\n",
       "            background-image: url(data:image/png;base64,iVBORw0KGgoAAAANSUhEUgAAABQAAAAUCAYAAACNiR0NAAAABHNCSVQICAgIfAhkiAAAAAlwSFlzAAALEgAACxIB0t1+/AAAABx0RVh0U29mdHdhcmUAQWRvYmUgRmlyZXdvcmtzIENTNui8sowAAAOkSURBVDiNjZRtaJVlGMd/1/08zzln5zjP1LWcU9N0NkN8m2CYjpgQYQXqSs0I84OLIC0hkEKoPtiH3gmKoiJDU7QpLgoLjLIQCpEsNJ1vqUOdO7ppbuec5+V+rj4ctwzd8IIbbi6u+8f1539dt3A78eXC7QizUF7gyV1fD1Yqg4JWz84yffhm0qkFqBogB9rM8tZdtwVsPUhWhGcFJngGeWrPzHm5oaMmkfEg1usvLFyc8jLRqDOMru7AyC8saQr7GG7f5fvDeH7Ej8CM66nIF+8yngt6HWaKh7k49Soy9nXurCi1o3qUbS3zWfrYeQDTB/Qj6kX6Ybhw4B+bOYoLKCC9H3Nu/leUTZ1JdRWkkn2ldcCamzrcf47KKXdAJllSlxAOkRgyHsGC/zRday5Qld9DyoM4/q/rUoy/CXh3jzOu3bHUVZeU+DEn8FInkPBFlu3+nW3Nw0mk6vCDiWg8CeJaxEwuHS3+z5RgY+YBR6V1Z1nxSOfoaPa4LASWxxdNp+VWTk7+4vzaou8v8PN+xo+KY2xsw6une2frhw05CTYOmQvsEhjhWjn0bmXPjpE1+kplmmkP3suftwTubK9Vq22qKmrBhpY4jvd5afdRA3wGjFAgcnTK2s4hY0/GPNIb0nErGMCRxWOOX64Z8RAC4oCXdklmEvcL8o0BfkNK4lUg9HTl+oPlQxdNo3Mg4Nv175e/1LDGzZen30MEjRUtmXSfiTVu1kK8W4txyV6BMKlbgk3lMwYCiusNy9fVfvvwMxv8Ynl6vxoByANLTWplvuj/nF9m2+PDtt1eiHPBr1oIfhCChQMBw6Aw0UulqTKZdfVvfG7VcfIqLG9bcldL/+pdWTLxLUy8Qq38heUIjh4XlzZxzQm19lLFlr8vdQ97rjZVOLf8nclzckbcD4wxXMidpX30sFd37Fv/GtwwhzhxGVAprjbg0gCAEeIgwCZyTV2Z1REEW8O4py0wsjeloKoMr6iCY6dP92H6Vw/oTyICIthibxjm/DfN9lVz8IqtqKYLUXfoKVMVQVVJOElGjrnnUt9T9wbgp8AyYKaGlqingHZU/uG2NTZSVqwHQTWkx9hxjkpWDaCg6Ckj5qebgBVbT3V3NNXMSiWSDdGV3hrtzla7J+duwPOToIg42ChPQOQjspnSlp1V+Gjdged7+8UN5CRAV7a5EdFNwCjEaBR27b3W890TE7g24NAP/mMDXRWrGoFPQI9ls/MWO2dWFAar/xcOIImbbpA3zgAAAABJRU5ErkJggg==);\n",
       "        }\n",
       "    </style>\n",
       "    <div>\n",
       "        <a href=\"https://bokeh.org\" target=\"_blank\" class=\"bk-notebook-logo\"></a>\n",
       "        <span id=\"b6924fce-e3ed-44c4-a55b-aca3c81226ba\">Loading BokehJS ...</span>\n",
       "    </div>\n"
      ]
     },
     "metadata": {},
     "output_type": "display_data"
    },
    {
     "data": {
      "application/javascript": [
       "'use strict';\n",
       "(function(root) {\n",
       "  function now() {\n",
       "    return new Date();\n",
       "  }\n",
       "\n",
       "  const force = true;\n",
       "\n",
       "  if (typeof root._bokeh_onload_callbacks === \"undefined\" || force === true) {\n",
       "    root._bokeh_onload_callbacks = [];\n",
       "    root._bokeh_is_loading = undefined;\n",
       "  }\n",
       "\n",
       "const JS_MIME_TYPE = 'application/javascript';\n",
       "  const HTML_MIME_TYPE = 'text/html';\n",
       "  const EXEC_MIME_TYPE = 'application/vnd.bokehjs_exec.v0+json';\n",
       "  const CLASS_NAME = 'output_bokeh rendered_html';\n",
       "\n",
       "  /**\n",
       "   * Render data to the DOM node\n",
       "   */\n",
       "  function render(props, node) {\n",
       "    const script = document.createElement(\"script\");\n",
       "    node.appendChild(script);\n",
       "  }\n",
       "\n",
       "  /**\n",
       "   * Handle when an output is cleared or removed\n",
       "   */\n",
       "  function handleClearOutput(event, handle) {\n",
       "    function drop(id) {\n",
       "      const view = Bokeh.index.get_by_id(id)\n",
       "      if (view != null) {\n",
       "        view.model.document.clear()\n",
       "        Bokeh.index.delete(view)\n",
       "      }\n",
       "    }\n",
       "\n",
       "    const cell = handle.cell;\n",
       "\n",
       "    const id = cell.output_area._bokeh_element_id;\n",
       "    const server_id = cell.output_area._bokeh_server_id;\n",
       "\n",
       "    // Clean up Bokeh references\n",
       "    if (id != null) {\n",
       "      drop(id)\n",
       "    }\n",
       "\n",
       "    if (server_id !== undefined) {\n",
       "      // Clean up Bokeh references\n",
       "      const cmd_clean = \"from bokeh.io.state import curstate; print(curstate().uuid_to_server['\" + server_id + \"'].get_sessions()[0].document.roots[0]._id)\";\n",
       "      cell.notebook.kernel.execute(cmd_clean, {\n",
       "        iopub: {\n",
       "          output: function(msg) {\n",
       "            const id = msg.content.text.trim()\n",
       "            drop(id)\n",
       "          }\n",
       "        }\n",
       "      });\n",
       "      // Destroy server and session\n",
       "      const cmd_destroy = \"import bokeh.io.notebook as ion; ion.destroy_server('\" + server_id + \"')\";\n",
       "      cell.notebook.kernel.execute(cmd_destroy);\n",
       "    }\n",
       "  }\n",
       "\n",
       "  /**\n",
       "   * Handle when a new output is added\n",
       "   */\n",
       "  function handleAddOutput(event, handle) {\n",
       "    const output_area = handle.output_area;\n",
       "    const output = handle.output;\n",
       "\n",
       "    // limit handleAddOutput to display_data with EXEC_MIME_TYPE content only\n",
       "    if ((output.output_type != \"display_data\") || (!Object.prototype.hasOwnProperty.call(output.data, EXEC_MIME_TYPE))) {\n",
       "      return\n",
       "    }\n",
       "\n",
       "    const toinsert = output_area.element.find(\".\" + CLASS_NAME.split(' ')[0]);\n",
       "\n",
       "    if (output.metadata[EXEC_MIME_TYPE][\"id\"] !== undefined) {\n",
       "      toinsert[toinsert.length - 1].firstChild.textContent = output.data[JS_MIME_TYPE];\n",
       "      // store reference to embed id on output_area\n",
       "      output_area._bokeh_element_id = output.metadata[EXEC_MIME_TYPE][\"id\"];\n",
       "    }\n",
       "    if (output.metadata[EXEC_MIME_TYPE][\"server_id\"] !== undefined) {\n",
       "      const bk_div = document.createElement(\"div\");\n",
       "      bk_div.innerHTML = output.data[HTML_MIME_TYPE];\n",
       "      const script_attrs = bk_div.children[0].attributes;\n",
       "      for (let i = 0; i < script_attrs.length; i++) {\n",
       "        toinsert[toinsert.length - 1].firstChild.setAttribute(script_attrs[i].name, script_attrs[i].value);\n",
       "        toinsert[toinsert.length - 1].firstChild.textContent = bk_div.children[0].textContent\n",
       "      }\n",
       "      // store reference to server id on output_area\n",
       "      output_area._bokeh_server_id = output.metadata[EXEC_MIME_TYPE][\"server_id\"];\n",
       "    }\n",
       "  }\n",
       "\n",
       "  function register_renderer(events, OutputArea) {\n",
       "\n",
       "    function append_mime(data, metadata, element) {\n",
       "      // create a DOM node to render to\n",
       "      const toinsert = this.create_output_subarea(\n",
       "        metadata,\n",
       "        CLASS_NAME,\n",
       "        EXEC_MIME_TYPE\n",
       "      );\n",
       "      this.keyboard_manager.register_events(toinsert);\n",
       "      // Render to node\n",
       "      const props = {data: data, metadata: metadata[EXEC_MIME_TYPE]};\n",
       "      render(props, toinsert[toinsert.length - 1]);\n",
       "      element.append(toinsert);\n",
       "      return toinsert\n",
       "    }\n",
       "\n",
       "    /* Handle when an output is cleared or removed */\n",
       "    events.on('clear_output.CodeCell', handleClearOutput);\n",
       "    events.on('delete.Cell', handleClearOutput);\n",
       "\n",
       "    /* Handle when a new output is added */\n",
       "    events.on('output_added.OutputArea', handleAddOutput);\n",
       "\n",
       "    /**\n",
       "     * Register the mime type and append_mime function with output_area\n",
       "     */\n",
       "    OutputArea.prototype.register_mime_type(EXEC_MIME_TYPE, append_mime, {\n",
       "      /* Is output safe? */\n",
       "      safe: true,\n",
       "      /* Index of renderer in `output_area.display_order` */\n",
       "      index: 0\n",
       "    });\n",
       "  }\n",
       "\n",
       "  // register the mime type if in Jupyter Notebook environment and previously unregistered\n",
       "  if (root.Jupyter !== undefined) {\n",
       "    const events = require('base/js/events');\n",
       "    const OutputArea = require('notebook/js/outputarea').OutputArea;\n",
       "\n",
       "    if (OutputArea.prototype.mime_types().indexOf(EXEC_MIME_TYPE) == -1) {\n",
       "      register_renderer(events, OutputArea);\n",
       "    }\n",
       "  }\n",
       "  if (typeof (root._bokeh_timeout) === \"undefined\" || force === true) {\n",
       "    root._bokeh_timeout = Date.now() + 5000;\n",
       "    root._bokeh_failed_load = false;\n",
       "  }\n",
       "\n",
       "  const NB_LOAD_WARNING = {'data': {'text/html':\n",
       "     \"<div style='background-color: #fdd'>\\n\"+\n",
       "     \"<p>\\n\"+\n",
       "     \"BokehJS does not appear to have successfully loaded. If loading BokehJS from CDN, this \\n\"+\n",
       "     \"may be due to a slow or bad network connection. Possible fixes:\\n\"+\n",
       "     \"</p>\\n\"+\n",
       "     \"<ul>\\n\"+\n",
       "     \"<li>re-rerun `output_notebook()` to attempt to load from CDN again, or</li>\\n\"+\n",
       "     \"<li>use INLINE resources instead, as so:</li>\\n\"+\n",
       "     \"</ul>\\n\"+\n",
       "     \"<code>\\n\"+\n",
       "     \"from bokeh.resources import INLINE\\n\"+\n",
       "     \"output_notebook(resources=INLINE)\\n\"+\n",
       "     \"</code>\\n\"+\n",
       "     \"</div>\"}};\n",
       "\n",
       "  function display_loaded(error = null) {\n",
       "    const el = document.getElementById(\"b6924fce-e3ed-44c4-a55b-aca3c81226ba\");\n",
       "    if (el != null) {\n",
       "      const html = (() => {\n",
       "        if (typeof root.Bokeh === \"undefined\") {\n",
       "          if (error == null) {\n",
       "            return \"BokehJS is loading ...\";\n",
       "          } else {\n",
       "            return \"BokehJS failed to load.\";\n",
       "          }\n",
       "        } else {\n",
       "          const prefix = `BokehJS ${root.Bokeh.version}`;\n",
       "          if (error == null) {\n",
       "            return `${prefix} successfully loaded.`;\n",
       "          } else {\n",
       "            return `${prefix} <b>encountered errors</b> while loading and may not function as expected.`;\n",
       "          }\n",
       "        }\n",
       "      })();\n",
       "      el.innerHTML = html;\n",
       "\n",
       "      if (error != null) {\n",
       "        const wrapper = document.createElement(\"div\");\n",
       "        wrapper.style.overflow = \"auto\";\n",
       "        wrapper.style.height = \"5em\";\n",
       "        wrapper.style.resize = \"vertical\";\n",
       "        const content = document.createElement(\"div\");\n",
       "        content.style.fontFamily = \"monospace\";\n",
       "        content.style.whiteSpace = \"pre-wrap\";\n",
       "        content.style.backgroundColor = \"rgb(255, 221, 221)\";\n",
       "        content.textContent = error.stack ?? error.toString();\n",
       "        wrapper.append(content);\n",
       "        el.append(wrapper);\n",
       "      }\n",
       "    } else if (Date.now() < root._bokeh_timeout) {\n",
       "      setTimeout(() => display_loaded(error), 100);\n",
       "    }\n",
       "  }\n",
       "\n",
       "  function run_callbacks() {\n",
       "    try {\n",
       "      root._bokeh_onload_callbacks.forEach(function(callback) {\n",
       "        if (callback != null)\n",
       "          callback();\n",
       "      });\n",
       "    } finally {\n",
       "      delete root._bokeh_onload_callbacks\n",
       "    }\n",
       "    console.debug(\"Bokeh: all callbacks have finished\");\n",
       "  }\n",
       "\n",
       "  function load_libs(css_urls, js_urls, callback) {\n",
       "    if (css_urls == null) css_urls = [];\n",
       "    if (js_urls == null) js_urls = [];\n",
       "\n",
       "    root._bokeh_onload_callbacks.push(callback);\n",
       "    if (root._bokeh_is_loading > 0) {\n",
       "      console.debug(\"Bokeh: BokehJS is being loaded, scheduling callback at\", now());\n",
       "      return null;\n",
       "    }\n",
       "    if (js_urls == null || js_urls.length === 0) {\n",
       "      run_callbacks();\n",
       "      return null;\n",
       "    }\n",
       "    console.debug(\"Bokeh: BokehJS not loaded, scheduling load and callback at\", now());\n",
       "    root._bokeh_is_loading = css_urls.length + js_urls.length;\n",
       "\n",
       "    function on_load() {\n",
       "      root._bokeh_is_loading--;\n",
       "      if (root._bokeh_is_loading === 0) {\n",
       "        console.debug(\"Bokeh: all BokehJS libraries/stylesheets loaded\");\n",
       "        run_callbacks()\n",
       "      }\n",
       "    }\n",
       "\n",
       "    function on_error(url) {\n",
       "      console.error(\"failed to load \" + url);\n",
       "    }\n",
       "\n",
       "    for (let i = 0; i < css_urls.length; i++) {\n",
       "      const url = css_urls[i];\n",
       "      const element = document.createElement(\"link\");\n",
       "      element.onload = on_load;\n",
       "      element.onerror = on_error.bind(null, url);\n",
       "      element.rel = \"stylesheet\";\n",
       "      element.type = \"text/css\";\n",
       "      element.href = url;\n",
       "      console.debug(\"Bokeh: injecting link tag for BokehJS stylesheet: \", url);\n",
       "      document.body.appendChild(element);\n",
       "    }\n",
       "\n",
       "    for (let i = 0; i < js_urls.length; i++) {\n",
       "      const url = js_urls[i];\n",
       "      const element = document.createElement('script');\n",
       "      element.onload = on_load;\n",
       "      element.onerror = on_error.bind(null, url);\n",
       "      element.async = false;\n",
       "      element.src = url;\n",
       "      console.debug(\"Bokeh: injecting script tag for BokehJS library: \", url);\n",
       "      document.head.appendChild(element);\n",
       "    }\n",
       "  };\n",
       "\n",
       "  function inject_raw_css(css) {\n",
       "    const element = document.createElement(\"style\");\n",
       "    element.appendChild(document.createTextNode(css));\n",
       "    document.body.appendChild(element);\n",
       "  }\n",
       "\n",
       "  const js_urls = [\"https://cdn.bokeh.org/bokeh/release/bokeh-3.8.0.min.js\", \"https://cdn.bokeh.org/bokeh/release/bokeh-gl-3.8.0.min.js\", \"https://cdn.bokeh.org/bokeh/release/bokeh-widgets-3.8.0.min.js\", \"https://cdn.bokeh.org/bokeh/release/bokeh-tables-3.8.0.min.js\", \"https://cdn.bokeh.org/bokeh/release/bokeh-mathjax-3.8.0.min.js\"];\n",
       "  const css_urls = [];\n",
       "\n",
       "  const inline_js = [    function(Bokeh) {\n",
       "      Bokeh.set_log_level(\"info\");\n",
       "    },\n",
       "function(Bokeh) {\n",
       "    }\n",
       "  ];\n",
       "\n",
       "  function run_inline_js() {\n",
       "    if (root.Bokeh !== undefined || force === true) {\n",
       "      try {\n",
       "            for (let i = 0; i < inline_js.length; i++) {\n",
       "      inline_js[i].call(root, root.Bokeh);\n",
       "    }\n",
       "\n",
       "      } catch (error) {display_loaded(error);throw error;\n",
       "      }if (force === true) {\n",
       "        display_loaded();\n",
       "      }} else if (Date.now() < root._bokeh_timeout) {\n",
       "      setTimeout(run_inline_js, 100);\n",
       "    } else if (!root._bokeh_failed_load) {\n",
       "      console.log(\"Bokeh: BokehJS failed to load within specified timeout.\");\n",
       "      root._bokeh_failed_load = true;\n",
       "    } else if (force !== true) {\n",
       "      const cell = $(document.getElementById(\"b6924fce-e3ed-44c4-a55b-aca3c81226ba\")).parents('.cell').data().cell;\n",
       "      cell.output_area.append_execute_result(NB_LOAD_WARNING)\n",
       "    }\n",
       "  }\n",
       "\n",
       "  if (root._bokeh_is_loading === 0) {\n",
       "    console.debug(\"Bokeh: BokehJS loaded, going straight to plotting\");\n",
       "    run_inline_js();\n",
       "  } else {\n",
       "    load_libs(css_urls, js_urls, function() {\n",
       "      console.debug(\"Bokeh: BokehJS plotting callback run at\", now());\n",
       "      run_inline_js();\n",
       "    });\n",
       "  }\n",
       "}(window));"
      ],
      "application/vnd.bokehjs_load.v0+json": "'use strict';\n(function(root) {\n  function now() {\n    return new Date();\n  }\n\n  const force = true;\n\n  if (typeof root._bokeh_onload_callbacks === \"undefined\" || force === true) {\n    root._bokeh_onload_callbacks = [];\n    root._bokeh_is_loading = undefined;\n  }\n\n\n  if (typeof (root._bokeh_timeout) === \"undefined\" || force === true) {\n    root._bokeh_timeout = Date.now() + 5000;\n    root._bokeh_failed_load = false;\n  }\n\n  const NB_LOAD_WARNING = {'data': {'text/html':\n     \"<div style='background-color: #fdd'>\\n\"+\n     \"<p>\\n\"+\n     \"BokehJS does not appear to have successfully loaded. If loading BokehJS from CDN, this \\n\"+\n     \"may be due to a slow or bad network connection. Possible fixes:\\n\"+\n     \"</p>\\n\"+\n     \"<ul>\\n\"+\n     \"<li>re-rerun `output_notebook()` to attempt to load from CDN again, or</li>\\n\"+\n     \"<li>use INLINE resources instead, as so:</li>\\n\"+\n     \"</ul>\\n\"+\n     \"<code>\\n\"+\n     \"from bokeh.resources import INLINE\\n\"+\n     \"output_notebook(resources=INLINE)\\n\"+\n     \"</code>\\n\"+\n     \"</div>\"}};\n\n  function display_loaded(error = null) {\n    const el = document.getElementById(\"b6924fce-e3ed-44c4-a55b-aca3c81226ba\");\n    if (el != null) {\n      const html = (() => {\n        if (typeof root.Bokeh === \"undefined\") {\n          if (error == null) {\n            return \"BokehJS is loading ...\";\n          } else {\n            return \"BokehJS failed to load.\";\n          }\n        } else {\n          const prefix = `BokehJS ${root.Bokeh.version}`;\n          if (error == null) {\n            return `${prefix} successfully loaded.`;\n          } else {\n            return `${prefix} <b>encountered errors</b> while loading and may not function as expected.`;\n          }\n        }\n      })();\n      el.innerHTML = html;\n\n      if (error != null) {\n        const wrapper = document.createElement(\"div\");\n        wrapper.style.overflow = \"auto\";\n        wrapper.style.height = \"5em\";\n        wrapper.style.resize = \"vertical\";\n        const content = document.createElement(\"div\");\n        content.style.fontFamily = \"monospace\";\n        content.style.whiteSpace = \"pre-wrap\";\n        content.style.backgroundColor = \"rgb(255, 221, 221)\";\n        content.textContent = error.stack ?? error.toString();\n        wrapper.append(content);\n        el.append(wrapper);\n      }\n    } else if (Date.now() < root._bokeh_timeout) {\n      setTimeout(() => display_loaded(error), 100);\n    }\n  }\n\n  function run_callbacks() {\n    try {\n      root._bokeh_onload_callbacks.forEach(function(callback) {\n        if (callback != null)\n          callback();\n      });\n    } finally {\n      delete root._bokeh_onload_callbacks\n    }\n    console.debug(\"Bokeh: all callbacks have finished\");\n  }\n\n  function load_libs(css_urls, js_urls, callback) {\n    if (css_urls == null) css_urls = [];\n    if (js_urls == null) js_urls = [];\n\n    root._bokeh_onload_callbacks.push(callback);\n    if (root._bokeh_is_loading > 0) {\n      console.debug(\"Bokeh: BokehJS is being loaded, scheduling callback at\", now());\n      return null;\n    }\n    if (js_urls == null || js_urls.length === 0) {\n      run_callbacks();\n      return null;\n    }\n    console.debug(\"Bokeh: BokehJS not loaded, scheduling load and callback at\", now());\n    root._bokeh_is_loading = css_urls.length + js_urls.length;\n\n    function on_load() {\n      root._bokeh_is_loading--;\n      if (root._bokeh_is_loading === 0) {\n        console.debug(\"Bokeh: all BokehJS libraries/stylesheets loaded\");\n        run_callbacks()\n      }\n    }\n\n    function on_error(url) {\n      console.error(\"failed to load \" + url);\n    }\n\n    for (let i = 0; i < css_urls.length; i++) {\n      const url = css_urls[i];\n      const element = document.createElement(\"link\");\n      element.onload = on_load;\n      element.onerror = on_error.bind(null, url);\n      element.rel = \"stylesheet\";\n      element.type = \"text/css\";\n      element.href = url;\n      console.debug(\"Bokeh: injecting link tag for BokehJS stylesheet: \", url);\n      document.body.appendChild(element);\n    }\n\n    for (let i = 0; i < js_urls.length; i++) {\n      const url = js_urls[i];\n      const element = document.createElement('script');\n      element.onload = on_load;\n      element.onerror = on_error.bind(null, url);\n      element.async = false;\n      element.src = url;\n      console.debug(\"Bokeh: injecting script tag for BokehJS library: \", url);\n      document.head.appendChild(element);\n    }\n  };\n\n  function inject_raw_css(css) {\n    const element = document.createElement(\"style\");\n    element.appendChild(document.createTextNode(css));\n    document.body.appendChild(element);\n  }\n\n  const js_urls = [\"https://cdn.bokeh.org/bokeh/release/bokeh-3.8.0.min.js\", \"https://cdn.bokeh.org/bokeh/release/bokeh-gl-3.8.0.min.js\", \"https://cdn.bokeh.org/bokeh/release/bokeh-widgets-3.8.0.min.js\", \"https://cdn.bokeh.org/bokeh/release/bokeh-tables-3.8.0.min.js\", \"https://cdn.bokeh.org/bokeh/release/bokeh-mathjax-3.8.0.min.js\"];\n  const css_urls = [];\n\n  const inline_js = [    function(Bokeh) {\n      Bokeh.set_log_level(\"info\");\n    },\nfunction(Bokeh) {\n    }\n  ];\n\n  function run_inline_js() {\n    if (root.Bokeh !== undefined || force === true) {\n      try {\n            for (let i = 0; i < inline_js.length; i++) {\n      inline_js[i].call(root, root.Bokeh);\n    }\n\n      } catch (error) {display_loaded(error);throw error;\n      }if (force === true) {\n        display_loaded();\n      }} else if (Date.now() < root._bokeh_timeout) {\n      setTimeout(run_inline_js, 100);\n    } else if (!root._bokeh_failed_load) {\n      console.log(\"Bokeh: BokehJS failed to load within specified timeout.\");\n      root._bokeh_failed_load = true;\n    } else if (force !== true) {\n      const cell = $(document.getElementById(\"b6924fce-e3ed-44c4-a55b-aca3c81226ba\")).parents('.cell').data().cell;\n      cell.output_area.append_execute_result(NB_LOAD_WARNING)\n    }\n  }\n\n  if (root._bokeh_is_loading === 0) {\n    console.debug(\"Bokeh: BokehJS loaded, going straight to plotting\");\n    run_inline_js();\n  } else {\n    load_libs(css_urls, js_urls, function() {\n      console.debug(\"Bokeh: BokehJS plotting callback run at\", now());\n      run_inline_js();\n    });\n  }\n}(window));"
     },
     "metadata": {},
     "output_type": "display_data"
    },
    {
     "data": {
      "text/html": [
       "\n",
       "  <div id=\"dd29ff00-cafa-414f-a302-afef85508fd9\" data-root-id=\"p2263\" style=\"display: contents;\"></div>\n"
      ]
     },
     "metadata": {},
     "output_type": "display_data"
    },
    {
     "data": {
      "application/javascript": [
       "(function(root) {\n",
       "  function embed_document(root) {\n",
       "  const docs_json = {\"95025510-9cd3-4a28-bd5f-130aa1fc7658\":{\"version\":\"3.8.0\",\"title\":\"Bokeh Application\",\"config\":{\"type\":\"object\",\"name\":\"DocumentConfig\",\"id\":\"p2323\",\"attributes\":{\"notifications\":{\"type\":\"object\",\"name\":\"Notifications\",\"id\":\"p2324\"}}},\"roots\":[{\"type\":\"object\",\"name\":\"Figure\",\"id\":\"p2263\",\"attributes\":{\"height\":300,\"x_range\":{\"type\":\"object\",\"name\":\"DataRange1d\",\"id\":\"p2264\"},\"y_range\":{\"type\":\"object\",\"name\":\"DataRange1d\",\"id\":\"p2265\"},\"x_scale\":{\"type\":\"object\",\"name\":\"LinearScale\",\"id\":\"p2272\"},\"y_scale\":{\"type\":\"object\",\"name\":\"LinearScale\",\"id\":\"p2273\"},\"title\":{\"type\":\"object\",\"name\":\"Title\",\"id\":\"p2270\"},\"renderers\":[{\"type\":\"object\",\"name\":\"GlyphRenderer\",\"id\":\"p2320\",\"attributes\":{\"data_source\":{\"type\":\"object\",\"name\":\"ColumnDataSource\",\"id\":\"p2311\",\"attributes\":{\"selected\":{\"type\":\"object\",\"name\":\"Selection\",\"id\":\"p2312\",\"attributes\":{\"indices\":[],\"line_indices\":[]}},\"selection_policy\":{\"type\":\"object\",\"name\":\"UnionRenderers\",\"id\":\"p2313\"},\"data\":{\"type\":\"map\",\"entries\":[[\"index\",{\"type\":\"ndarray\",\"array\":{\"type\":\"bytes\",\"data\":\"H4sIAAEAAAAC/w3DhQ0CQQAAsMPdXR93d9h/MNqkIYQQM27CpCnTZsyaM2/BoiXLVqxas27Dpi3bduzas+/AoSPHRk6cOnPuwqUr127cunPvwaMnz168evPuw6cv3378+vMPkTYILOwAAAA=\"},\"shape\":[59],\"dtype\":\"int32\",\"order\":\"little\"}],[\"borrow_date\",{\"type\":\"ndarray\",\"array\":[1577836800000.0,1580515200000.0,1583020800000.0,1585699200000.0,1588291200000.0,1590969600000.0,1593561600000.0,1596240000000.0,1598918400000.0,1601510400000.0,1604188800000.0,1606780800000.0,1609459200000.0,1612137600000.0,1614556800000.0,1617235200000.0,1619827200000.0,1622505600000.0,1625097600000.0,1627776000000.0,1630454400000.0,1633046400000.0,1635724800000.0,1638316800000.0,1640995200000.0,1643673600000.0,1646092800000.0,1648771200000.0,1651363200000.0,1654041600000.0,1656633600000.0,1659312000000.0,1661990400000.0,1664582400000.0,1667260800000.0,1669852800000.0,1672531200000.0,1675209600000.0,1677628800000.0,1680307200000.0,1682899200000.0,1685577600000.0,1688169600000.0,1690848000000.0,1693526400000.0,1696118400000.0,1701388800000.0,1704067200000.0,1706745600000.0,1709251200000.0,1711929600000.0,1714521600000.0,1717200000000.0,1719792000000.0,1722470400000.0,1725148800000.0,1727740800000.0,1730419200000.0,1733011200000.0],\"shape\":[59],\"dtype\":\"object\",\"order\":\"little\"}],[\"count\",{\"type\":\"ndarray\",\"array\":{\"type\":\"bytes\",\"data\":\"H4sIAAEAAAAC/12OUQrAMAhDu1VXa1nvf9ylECHs4xEJmpittQkCPCDBS68wcAHnjlELF+/s36DTH2CBzdnkpu4786f8ENIZ0rvpD8k2ajLDOa/f7x8ckWkq7AAAAA==\"},\"shape\":[59],\"dtype\":\"int32\",\"order\":\"little\"}]]}}},\"view\":{\"type\":\"object\",\"name\":\"CDSView\",\"id\":\"p2321\",\"attributes\":{\"filter\":{\"type\":\"object\",\"name\":\"AllIndices\",\"id\":\"p2322\"}}},\"glyph\":{\"type\":\"object\",\"name\":\"Line\",\"id\":\"p2317\",\"attributes\":{\"x\":{\"type\":\"field\",\"field\":\"borrow_date\"},\"y\":{\"type\":\"field\",\"field\":\"count\"},\"line_color\":\"#1f77b4\",\"line_width\":2}},\"nonselection_glyph\":{\"type\":\"object\",\"name\":\"Line\",\"id\":\"p2318\",\"attributes\":{\"x\":{\"type\":\"field\",\"field\":\"borrow_date\"},\"y\":{\"type\":\"field\",\"field\":\"count\"},\"line_color\":\"#1f77b4\",\"line_alpha\":0.1,\"line_width\":2}},\"muted_glyph\":{\"type\":\"object\",\"name\":\"Line\",\"id\":\"p2319\",\"attributes\":{\"x\":{\"type\":\"field\",\"field\":\"borrow_date\"},\"y\":{\"type\":\"field\",\"field\":\"count\"},\"line_color\":\"#1f77b4\",\"line_alpha\":0.2,\"line_width\":2}}}}],\"toolbar\":{\"type\":\"object\",\"name\":\"Toolbar\",\"id\":\"p2271\",\"attributes\":{\"tools\":[{\"type\":\"object\",\"name\":\"PanTool\",\"id\":\"p2298\"},{\"type\":\"object\",\"name\":\"WheelZoomTool\",\"id\":\"p2299\",\"attributes\":{\"renderers\":\"auto\"}},{\"type\":\"object\",\"name\":\"BoxZoomTool\",\"id\":\"p2300\",\"attributes\":{\"dimensions\":\"both\",\"overlay\":{\"type\":\"object\",\"name\":\"BoxAnnotation\",\"id\":\"p2301\",\"attributes\":{\"syncable\":false,\"line_color\":\"black\",\"line_alpha\":1.0,\"line_width\":2,\"line_dash\":[4,4],\"fill_color\":\"lightgrey\",\"fill_alpha\":0.5,\"level\":\"overlay\",\"visible\":false,\"left\":{\"type\":\"number\",\"value\":\"nan\"},\"right\":{\"type\":\"number\",\"value\":\"nan\"},\"top\":{\"type\":\"number\",\"value\":\"nan\"},\"bottom\":{\"type\":\"number\",\"value\":\"nan\"},\"left_units\":\"canvas\",\"right_units\":\"canvas\",\"top_units\":\"canvas\",\"bottom_units\":\"canvas\",\"handles\":{\"type\":\"object\",\"name\":\"BoxInteractionHandles\",\"id\":\"p2307\",\"attributes\":{\"all\":{\"type\":\"object\",\"name\":\"AreaVisuals\",\"id\":\"p2306\",\"attributes\":{\"fill_color\":\"white\",\"hover_fill_color\":\"lightgray\"}}}}}}}},{\"type\":\"object\",\"name\":\"SaveTool\",\"id\":\"p2308\"},{\"type\":\"object\",\"name\":\"ResetTool\",\"id\":\"p2309\"},{\"type\":\"object\",\"name\":\"HelpTool\",\"id\":\"p2310\"}]}},\"left\":[{\"type\":\"object\",\"name\":\"LinearAxis\",\"id\":\"p2293\",\"attributes\":{\"ticker\":{\"type\":\"object\",\"name\":\"BasicTicker\",\"id\":\"p2294\",\"attributes\":{\"mantissas\":[1,2,5]}},\"formatter\":{\"type\":\"object\",\"name\":\"BasicTickFormatter\",\"id\":\"p2295\"},\"major_label_policy\":{\"type\":\"object\",\"name\":\"AllLabels\",\"id\":\"p2296\"}}}],\"below\":[{\"type\":\"object\",\"name\":\"DatetimeAxis\",\"id\":\"p2274\",\"attributes\":{\"ticker\":{\"type\":\"object\",\"name\":\"DatetimeTicker\",\"id\":\"p2275\",\"attributes\":{\"num_minor_ticks\":5,\"tickers\":[{\"type\":\"object\",\"name\":\"AdaptiveTicker\",\"id\":\"p2276\",\"attributes\":{\"num_minor_ticks\":0,\"mantissas\":[1,2,5],\"max_interval\":500.0}},{\"type\":\"object\",\"name\":\"AdaptiveTicker\",\"id\":\"p2277\",\"attributes\":{\"num_minor_ticks\":0,\"base\":60,\"mantissas\":[1,2,5,10,15,20,30],\"min_interval\":1000.0,\"max_interval\":1800000.0}},{\"type\":\"object\",\"name\":\"AdaptiveTicker\",\"id\":\"p2278\",\"attributes\":{\"num_minor_ticks\":0,\"base\":24,\"mantissas\":[1,2,4,6,8,12],\"min_interval\":3600000.0,\"max_interval\":43200000.0}},{\"type\":\"object\",\"name\":\"DaysTicker\",\"id\":\"p2279\",\"attributes\":{\"days\":[1,2,3,4,5,6,7,8,9,10,11,12,13,14,15,16,17,18,19,20,21,22,23,24,25,26,27,28,29,30,31]}},{\"type\":\"object\",\"name\":\"DaysTicker\",\"id\":\"p2280\",\"attributes\":{\"days\":[1,4,7,10,13,16,19,22,25,28]}},{\"type\":\"object\",\"name\":\"DaysTicker\",\"id\":\"p2281\",\"attributes\":{\"days\":[1,8,15,22]}},{\"type\":\"object\",\"name\":\"DaysTicker\",\"id\":\"p2282\",\"attributes\":{\"days\":[1,15]}},{\"type\":\"object\",\"name\":\"MonthsTicker\",\"id\":\"p2283\",\"attributes\":{\"months\":[0,1,2,3,4,5,6,7,8,9,10,11]}},{\"type\":\"object\",\"name\":\"MonthsTicker\",\"id\":\"p2284\",\"attributes\":{\"months\":[0,2,4,6,8,10]}},{\"type\":\"object\",\"name\":\"MonthsTicker\",\"id\":\"p2285\",\"attributes\":{\"months\":[0,4,8]}},{\"type\":\"object\",\"name\":\"MonthsTicker\",\"id\":\"p2286\",\"attributes\":{\"months\":[0,6]}},{\"type\":\"object\",\"name\":\"YearsTicker\",\"id\":\"p2287\"}]}},\"formatter\":{\"type\":\"object\",\"name\":\"DatetimeTickFormatter\",\"id\":\"p2290\",\"attributes\":{\"seconds\":\"%T\",\"minsec\":\"%T\",\"minutes\":\"%H:%M\",\"hours\":\"%H:%M\",\"days\":\"%b %d\",\"months\":\"%b %Y\",\"strip_leading_zeros\":[\"microseconds\",\"milliseconds\",\"seconds\"],\"boundary_scaling\":false,\"context\":{\"type\":\"object\",\"name\":\"DatetimeTickFormatter\",\"id\":\"p2289\",\"attributes\":{\"microseconds\":\"%T\",\"milliseconds\":\"%T\",\"seconds\":\"%b %d, %Y\",\"minsec\":\"%b %d, %Y\",\"minutes\":\"%b %d, %Y\",\"hourmin\":\"%b %d, %Y\",\"hours\":\"%b %d, %Y\",\"days\":\"%Y\",\"months\":\"\",\"years\":\"\",\"boundary_scaling\":false,\"hide_repeats\":true,\"context\":{\"type\":\"object\",\"name\":\"DatetimeTickFormatter\",\"id\":\"p2288\",\"attributes\":{\"microseconds\":\"%b %d, %Y\",\"milliseconds\":\"%b %d, %Y\",\"seconds\":\"\",\"minsec\":\"\",\"minutes\":\"\",\"hourmin\":\"\",\"hours\":\"\",\"days\":\"\",\"months\":\"\",\"years\":\"\",\"boundary_scaling\":false,\"hide_repeats\":true}},\"context_which\":\"all\"}},\"context_which\":\"all\"}},\"major_label_policy\":{\"type\":\"object\",\"name\":\"AllLabels\",\"id\":\"p2291\"}}}],\"center\":[{\"type\":\"object\",\"name\":\"Grid\",\"id\":\"p2292\",\"attributes\":{\"axis\":{\"id\":\"p2274\"}}},{\"type\":\"object\",\"name\":\"Grid\",\"id\":\"p2297\",\"attributes\":{\"dimension\":1,\"axis\":{\"id\":\"p2293\"}}}]}}]}};\n",
       "  const render_items = [{\"docid\":\"95025510-9cd3-4a28-bd5f-130aa1fc7658\",\"roots\":{\"p2263\":\"dd29ff00-cafa-414f-a302-afef85508fd9\"},\"root_ids\":[\"p2263\"]}];\n",
       "  void root.Bokeh.embed.embed_items_notebook(docs_json, render_items);\n",
       "  }\n",
       "  if (root.Bokeh !== undefined) {\n",
       "    embed_document(root);\n",
       "  } else {\n",
       "    let attempts = 0;\n",
       "    const timer = setInterval(function(root) {\n",
       "      if (root.Bokeh !== undefined) {\n",
       "        clearInterval(timer);\n",
       "        embed_document(root);\n",
       "      } else {\n",
       "        attempts++;\n",
       "        if (attempts > 100) {\n",
       "          clearInterval(timer);\n",
       "          console.log(\"Bokeh: ERROR: Unable to run BokehJS code because BokehJS library is missing\");\n",
       "        }\n",
       "      }\n",
       "    }, 10, root)\n",
       "  }\n",
       "})(window);"
      ],
      "application/vnd.bokehjs_exec.v0+json": ""
     },
     "metadata": {
      "application/vnd.bokehjs_exec.v0+json": {
       "id": "p2263"
      }
     },
     "output_type": "display_data"
    }
   ],
   "source": [
    "# load bokeh modules\n",
    "from bokeh.plotting import figure, show, output_notebook\n",
    "\n",
    "# set up bokeh for working in jupyter notebooks\n",
    "output_notebook()\n",
    "\n",
    "# set up the size of our plot and format the x axis for dates\n",
    "p = figure(height = 300, width = 600, x_axis_type = \"datetime\")\n",
    "\n",
    "# add a line to our plot\n",
    "p.line(source = somtrend, x = \"borrow_date\", y = \"count\", width = 2)\n",
    "\n",
    "# show the plot\n",
    "show(p)"
   ]
  },
  {
   "cell_type": "markdown",
   "metadata": {},
   "source": [
    "## Other Helpful Libraries\n",
    "\n",
    "**Data Packages**\n",
    "* <a href=\"https://numpy.org/\">NumPy</a> for numerical computation in Python\n",
    "* <a href=\"https://scikit-learn.org/stable/\">scikit-learn</a> for data analysis and machine learning\n",
    "* <a href=\"https://pola.rs/\">Polars</a> for dataframes designed for large-scale data processing performance\n",
    "* <a href=\"https://duckdb.org/\">DuckDB</a> for creating a SQL database  \n",
    "\n",
    "**Other Utilities**\n",
    "* <a href=\"https://www.crummy.com/software/BeautifulSoup/bs4/doc/#\">Beautiful Soup</a> for parsing HTML etc\n",
    "* <a href=\"https://www.nltk.org/index.html\">NLTK</a> for text analysis\n",
    "* <a href=\"https://pillow.readthedocs.io/en/stable/#\">Pillow</a> for Images\n",
    "* <a href=\"https://joblib.readthedocs.io/en/latest/\">JobLib</a> or <a href=\"https://docs.python.org/3/library/multiprocessing.html\">Multiprocessing</a> for running parallel/concurrent jobs"
   ]
  },
  {
   "cell_type": "markdown",
   "metadata": {},
   "source": [
    "### Numpy\n",
    "\n",
    "[Numpy](http://www.numpy.org/) provides the mathematical functionality (e.g. large arrayes, linear algebra, random numbers, etc.) for many popular statistical and machine learning tasks in Python.  This is a dependency for many of the other packages we have and will discuss, including pandas.  One of the foundational objects in numpy is the array:"
   ]
  },
  {
   "cell_type": "code",
   "execution_count": 46,
   "metadata": {},
   "outputs": [
    {
     "data": {
      "text/plain": [
       "array([[1, 2],\n",
       "       [3, 4],\n",
       "       [5, 6],\n",
       "       [7, 8]])"
      ]
     },
     "execution_count": 46,
     "metadata": {},
     "output_type": "execute_result"
    }
   ],
   "source": [
    "import numpy as np\n",
    "import pandas as pd\n",
    "\n",
    "a_list = [[1,2],[3,4],[5,6],[7,8]] #list of ROWS\n",
    "an_array = np.array(a_list, ndmin = 2)\n",
    "\n",
    "an_array"
   ]
  },
  {
   "cell_type": "markdown",
   "metadata": {},
   "source": [
    "We can use numpy to do many numerical tasks, for example creating random values:"
   ]
  },
  {
   "cell_type": "code",
   "execution_count": 47,
   "metadata": {},
   "outputs": [
    {
     "data": {
      "text/plain": [
       "array([[0.37438578, 0.47633254],\n",
       "       [0.41351988, 0.08877861]])"
      ]
     },
     "execution_count": 47,
     "metadata": {},
     "output_type": "execute_result"
    }
   ],
   "source": [
    "np.random.rand(2,2)"
   ]
  },
  {
   "cell_type": "markdown",
   "metadata": {},
   "source": [
    "### scikit-learn\n",
    "\n",
    "scikit-learn provides a consolidated interface for machine learning in Python:\n",
    "* functions for splitting data into training and testing components\n",
    "* cross validation for model tuning\n",
    "* supervised and unsupervised modeling\n",
    "* model fit assessment and comparison\n",
    "\n",
    "[Read more about using sklearn](https://scikit-learn.org/stable/tutorial/).\n",
    "\n",
    "The following example comes from Scitkit-learn's [Linear Regression Example page](https://scikit-learn.org/stable/auto_examples/linear_model/plot_ols.html#sphx-glr-auto-examples-linear-model-plot-ols-py)"
   ]
  },
  {
   "cell_type": "code",
   "execution_count": 49,
   "metadata": {},
   "outputs": [
    {
     "data": {
      "image/png": "[encoded data removed]",
      "text/plain": [
       "<Figure size 640x480 with 1 Axes>"
      ]
     },
     "metadata": {},
     "output_type": "display_data"
    }
   ],
   "source": [
    "from sklearn import linear_model, datasets\n",
    "import matplotlib.pyplot as plt\n",
    "\n",
    "# Load the diabetes dataset\n",
    "diabetes_X, diabetes_y = datasets.load_diabetes(return_X_y=True)\n",
    "\n",
    "# Use only one feature\n",
    "diabetes_X = diabetes_X[:, np.newaxis, 2]\n",
    "\n",
    "# Split the data into training/testing sets\n",
    "diabetes_X_train = diabetes_X[:-20]\n",
    "diabetes_X_test = diabetes_X[-20:]\n",
    "\n",
    "# Split the targets into training/testing sets\n",
    "diabetes_y_train = diabetes_y[:-20]\n",
    "diabetes_y_test = diabetes_y[-20:]\n",
    "\n",
    "# Create linear regression object\n",
    "regr = linear_model.LinearRegression()\n",
    "\n",
    "# Train the model using the training sets\n",
    "regr.fit(diabetes_X_train, diabetes_y_train)\n",
    "\n",
    "# Make predictions using the testing set\n",
    "diabetes_y_pred = regr.predict(diabetes_X_test)\n",
    "\n",
    "# Plot outputs\n",
    "plt.scatter(diabetes_X_test, diabetes_y_test, color=\"black\")\n",
    "plt.plot(diabetes_X_test, diabetes_y_pred, color=\"blue\", linewidth=3)\n",
    "\n",
    "plt.xticks(())\n",
    "plt.yticks(())\n",
    "\n",
    "plt.show()"
   ]
  },
  {
   "cell_type": "markdown",
   "metadata": {},
   "source": [
    "### Polars (dataframes for large-scale data processing)\n",
    "\n",
    "The Polars library offers an alternative to Pandas dataframes that often performs much faster and uses less RAM for dataframe operations. Polars is built in [Rust](https://www.rust-lang.org/) while Pandas is built on NumPy, which has lower performance and higher memory use than Rust. Polars is also able to efficiently run parallel processes, adding to its improved performance. "
   ]
  },
  {
   "cell_type": "code",
   "execution_count": 50,
   "metadata": {},
   "outputs": [
    {
     "name": "stdout",
     "output_type": "stream",
     "text": [
      "Seconds for Polars to load in the library_data CSV: 0.016093730926513672\n",
      "Seconds for Pandas to load in the library_data CSV: 0.021875381469726562\n",
      "Polars is 1.36x faster\n"
     ]
    }
   ],
   "source": [
    "import sys\n",
    "import time\n",
    "import polars as pl\n",
    "import pandas as pd\n",
    "\n",
    "# how long does it take Polars to load in a CSV?\n",
    "start_pl = time.time()\n",
    "df_pl = pl.read_csv(\"library_data.csv\")\n",
    "end_pl = time.time()\n",
    "print(f'Seconds for Polars to load in the library_data CSV: {end_pl-start_pl}')\n",
    "\n",
    "# how long does it take Pandas to load in a CSV?\n",
    "start_pd = time.time()\n",
    "df_pd= pd.read_csv(\"library_data.csv\")\n",
    "end_pd = time.time()\n",
    "print(f'Seconds for Pandas to load in the library_data CSV: {end_pd-start_pd}')\n",
    "\n",
    "# how much faster is Polars?\n",
    "print(f'Polars is {round((end_pd-start_pd)/(end_pl-start_pl), 2)}x faster')"
   ]
  },
  {
   "cell_type": "code",
   "execution_count": 51,
   "metadata": {},
   "outputs": [
    {
     "name": "stdout",
     "output_type": "stream",
     "text": [
      "The Polars dataframe takes up 48 bytes.\n",
      "The Pandas dataframe takes up 1972339 bytes.\n"
     ]
    }
   ],
   "source": [
    "# compare the memory size of the Polars and Pandas dataframes\n",
    "print(f'The Polars dataframe takes up {sys.getsizeof(df_pl)} bytes.')\n",
    "print(f'The Pandas dataframe takes up {sys.getsizeof(df_pd)} bytes.')"
   ]
  },
  {
   "cell_type": "markdown",
   "metadata": {},
   "source": [
    "### DuckDB (for creating a SQL Database)\n",
    "\n",
    "DuckDB is a great library for setting up a SQL-database with Python. It does not have any dependencies and is very memory efficient, making it a faster alternative to PostgreSQL, MySQL, or SQLite.  "
   ]
  },
  {
   "cell_type": "code",
   "execution_count": 57,
   "metadata": {},
   "outputs": [
    {
     "data": {
      "text/plain": [
       "┌───────┬────────────────────────┬───────────┬──────────────────────────┐\n",
       "│  id   │        library         │   town    │          title           │\n",
       "│ int64 │        varchar         │  varchar  │         varchar          │\n",
       "├───────┼────────────────────────┼───────────┼──────────────────────────┤\n",
       "│  3384 │ Riverside Reading Room │ Riverdale │ The Dragon's Crown       │\n",
       "│  1449 │ Riverside Reading Room │ Riverdale │ Time Paradox             │\n",
       "│   921 │ Riverside Reading Room │ Riverdale │ Murder on Pine Street    │\n",
       "│   931 │ Riverside Reading Room │ Riverdale │ Murder on Pine Street    │\n",
       "│  4122 │ Riverside Reading Room │ Riverdale │ Philosophy Today         │\n",
       "│   886 │ Riverside Reading Room │ Riverdale │ Murder on Pine Street    │\n",
       "│  2404 │ Riverside Reading Room │ Riverdale │ The Great American Novel │\n",
       "│  2488 │ Riverside Reading Room │ Riverdale │ Echoes of Yesterday      │\n",
       "│  5680 │ Riverside Reading Room │ Riverdale │ The Perfect Crime        │\n",
       "│  5767 │ Riverside Reading Room │ Riverdale │ Night Watch              │\n",
       "├───────┴────────────────────────┴───────────┴──────────────────────────┤\n",
       "│ 10 rows                                                     4 columns │\n",
       "└───────────────────────────────────────────────────────────────────────┘"
      ]
     },
     "execution_count": 57,
     "metadata": {},
     "output_type": "execute_result"
    }
   ],
   "source": [
    "import duckdb\n",
    "\n",
    "duckdb.read_csv(\"library_data.csv\")\n",
    "duckdb.sql(\"SELECT id, library, town, title FROM 'library_data.csv' WHERE town = 'Riverdale' LIMIT 10\")"
   ]
  },
  {
   "cell_type": "markdown",
   "metadata": {},
   "source": [
    "### BeautifulSoup (for parsing HTML or XML data)\n",
    "\n",
    "Python's built-in `urllib.request` package makes it relatively easy to download the underlying html from a web page. Note that the `from <package> import <function>` notation used here allows you to selectively import only parts of a package as needed.\n",
    "\n",
    "Be sure to check the terms of services for any website before scraping! We're scraping our own materials here to be safe!"
   ]
  },
  {
   "cell_type": "code",
   "execution_count": 58,
   "metadata": {},
   "outputs": [
    {
     "data": {
      "text/plain": [
       "['Why Python?¶',\n",
       " 'Getting Started¶',\n",
       " 'Data Types and Variables¶',\n",
       " 'Flow Control¶',\n",
       " 'More Data Types¶',\n",
       " 'Review¶',\n",
       " 'Pseudocode and Comments¶',\n",
       " 'User-defined Functions¶',\n",
       " 'Coming up¶',\n",
       " 'References and Resources¶']"
      ]
     },
     "execution_count": 58,
     "metadata": {},
     "output_type": "execute_result"
    }
   ],
   "source": [
    "from urllib.request import urlopen\n",
    "from bs4 import BeautifulSoup\n",
    "\n",
    "# Scrape Python 1 materials!\n",
    "page = urlopen(\"https://unc-libraries-data.github.io/Python/Intro/Introduction.html\")\n",
    "html = page.read()\n",
    "\n",
    "# Parse the HTML\n",
    "soup = BeautifulSoup(html,\"html.parser\")\n",
    "[x.text for x in soup.find_all(\"h2\")] # find all second-level headers"
   ]
  },
  {
   "cell_type": "markdown",
   "metadata": {},
   "source": [
    "### NLTK (for text analysis)\n",
    "\n",
    "<a href=\"http://www.nltk.org/\">The Natural Language Toolkit (`nltk`)</a> provides a wide array of tools for processing and analyzing text.  This includes operations like splitting text into sentences or words (\"tokenization\"), tagging them with their part of speech, classification, and more."
   ]
  },
  {
   "cell_type": "code",
   "execution_count": 78,
   "metadata": {},
   "outputs": [
    {
     "name": "stderr",
     "output_type": "stream",
     "text": [
      "[nltk_data] Downloading package punkt_tab to\n",
      "[nltk_data]     C:\\Users\\tuesday\\AppData\\Roaming\\nltk_data...\n",
      "[nltk_data]   Package punkt_tab is already up-to-date!\n"
     ]
    },
    {
     "data": {
      "text/plain": [
       "Text(0.5, 0, 'Frequency')"
      ]
     },
     "execution_count": 78,
     "metadata": {},
     "output_type": "execute_result"
    },
    {
     "data": {
      "image/png": "[encoded data removed]",
      "text/plain": [
       "<Figure size 640x480 with 1 Axes>"
      ]
     },
     "metadata": {},
     "output_type": "display_data"
    }
   ],
   "source": [
    "import nltk\n",
    "nltk.download('punkt_tab')\n",
    "from nltk.tokenize import word_tokenize\n",
    "from nltk.probability import FreqDist\n",
    "\n",
    "text = \"This is an example sentence. This sentence is a simple example.\" \n",
    "\n",
    "words = word_tokenize(text) # tokenize the text\n",
    "fdist = FreqDist(words) # count how often each word occurs\n",
    "\n",
    "# Show the frequencies\n",
    "plt.figure()\n",
    "plt.barh(fdist.keys(), fdist.values())\n",
    "plt.xticks(range(1,3))\n",
    "plt.xlabel('Frequency')"
   ]
  },
  {
   "cell_type": "markdown",
   "metadata": {},
   "source": [
    "### PIL (Pillow)\n",
    "\n",
    "[Pillow](https://pillow.readthedocs.io/en/stable/) is the updated version of the old Python Imaging Library (PIL), which provides fundamental tools for working with images.  Pillow can work with a many common formats (some of which may require extra packages or other dependencies) to automate a wide variety of image transformations.\n",
    "\n",
    "Note: While `pillow` is how you install the package, you import functions with `import PIL`.\n",
    "\n",
    "Both `display` and `imshow` can be used to preview the image. Currently, `display` returns some errors due to the image's modes, so we're using `imshow` to avoid these errors. Read more about [modes](https://pillow.readthedocs.io/en/stable/handbook/concepts.html#concept-modes).\n"
   ]
  },
  {
   "cell_type": "code",
   "execution_count": 66,
   "metadata": {},
   "outputs": [
    {
     "data": {
      "text/plain": [
       "<matplotlib.image.AxesImage at 0x13ffeb64f80>"
      ]
     },
     "execution_count": 66,
     "metadata": {},
     "output_type": "execute_result"
    },
    {
     "data": {
      "image/png": "[encoded data removed]",
      "text/plain": [
       "<Figure size 640x480 with 1 Axes>"
      ]
     },
     "metadata": {},
     "output_type": "display_data"
    }
   ],
   "source": [
    "from PIL import Image\n",
    "from urllib.request import urlretrieve\n",
    "from matplotlib.pyplot import imshow\n",
    "from IPython.display import display\n",
    "\n",
    "# download the unc logo\n",
    "urlretrieve(\"https://identity.unc.edu/wp-content/uploads/sites/885/2019/01/UNC_logo_webblue-e1517942350314.png\",\n",
    "           \"UNC_logo.png\")\n",
    "\n",
    "# open and display the image\n",
    "UNC = Image.open(\"UNC_logo.png\")\n",
    "imshow(UNC)"
   ]
  },
  {
   "cell_type": "code",
   "execution_count": 67,
   "metadata": {},
   "outputs": [
    {
     "data": {
      "text/plain": [
       "<matplotlib.image.AxesImage at 0x13ffd3c1e20>"
      ]
     },
     "execution_count": 67,
     "metadata": {},
     "output_type": "execute_result"
    },
    {
     "data": {
      "image/png": "[encoded data removed]",
      "text/plain": [
       "<Figure size 640x480 with 1 Axes>"
      ]
     },
     "metadata": {},
     "output_type": "display_data"
    }
   ],
   "source": [
    "# resize the image and make it grayscale\n",
    "# note: // divides two numbers and rounds the result down to get an integer\n",
    "UNC_gray = UNC.convert('LA').resize((UNC.width//2,UNC.height//2))\n",
    "imshow(UNC_gray)"
   ]
  },
  {
   "cell_type": "markdown",
   "metadata": {},
   "source": [
    "### Parallel Processing with joblib\n",
    "\n",
    "As you move into more complicated processes in Python (or applying code to a wide variety of objects or files), processing time can become a major factor.  Fortunately, most modern laptops have multiple processor cores that can do separate things at the same time.  Python only uses **one core** by default.  If you have a set of loops that don't depend on each other (e.g. processing lots of files one after another), you could split up your many loop iterations between processors to greatly increase speed.\n",
    "\n",
    "The [`joblib` package](https://joblib.readthedocs.io/en/latest/) provides a straightforward way to split loops up between your computers cores for faster performance on complicated code.  Note that parallelization may not benefit you much or may even hurt you for very quick jobs because setting up and consolidating information from separate cores creates overhead costs. \n"
   ]
  },
  {
   "cell_type": "markdown",
   "metadata": {},
   "source": [
    "## How to continue learning\n",
    "\n",
    "* [Exercises](https://unc-libraries-data.github.io/Python/Intro/Exercises.html) and [solutions](https://unc-libraries-data.github.io/Python/Intro/Exercises_Solutions.html) for practicing Python\n",
    "* [Exercises](https://unc-libraries-data.github.io/Python/Jupyter/PandasExercises.html) and [solutions](https://unc-libraries-data.github.io/Python/Jupyter/PandasSolutions.html) for praciticing Pandas\n",
    "* [Practice Python](https://www.practicepython.org/)\n",
    "* [Python Projects - Beginner to Advanced](https://www.geeksforgeeks.org/python/python-projects-beginner-to-advanced/)\n",
    "* [Python Projects You Can Build](https://realpython.com/tutorials/projects/)\n",
    "* [Automate the Boring Stuff with Python](https://automatetheboringstuff.com/)\n",
    "* [Python Programming for the Humanities](http://www.karsdorp.io/python-course/)\n",
    "* [Python Data Science Handbook](https://jakevdp.github.io/PythonDataScienceHandbook/) This free ebook emphasizes Numpy, Scipy, Matplotlib, Pandas and other data analysis packages in Python, assuming some familiarity with the basic principles of the language.\n",
    "    + [Whirlwind Tour of Python](https://nbviewer.jupyter.org/github/jakevdp/WhirlwindTourOfPython/blob/master/Index.ipynb)\n",
    "* Are you used to working in R? Check out this [Data manipulation R-Python conversion guide](https://www.mit.edu/~amidi/teaching/data-science-tools/conversion-guide/r-python-data-manipulation/) and [The Struggles I Had When Switching from R to Python](https://towardsdatascience.com/the-struggles-i-had-when-switching-from-r-to-python-baca0139b01b/)"
   ]
  },
  {
   "cell_type": "markdown",
   "metadata": {
    "jp-MarkdownHeadingCollapsed": true
   },
   "source": [
    "\n"
   ]
  }
 ],
 "metadata": {
  "anaconda-cloud": {},
  "kernelspec": {
   "display_name": "Python 3 (ipykernel)",
   "language": "python",
   "name": "python3"
  },
  "language_info": {
   "codemirror_mode": {
    "name": "ipython",
    "version": 3
   },
   "file_extension": ".py",
   "mimetype": "text/x-python",
   "name": "python",
   "nbconvert_exporter": "python",
   "pygments_lexer": "ipython3",
   "version": "3.12.10"
  },
  "toc": {
   "base_numbering": 1,
   "nav_menu": {
    "height": "823px",
    "width": "482px"
   },
   "number_sections": false,
   "sideBar": true,
   "skip_h1_title": false,
   "title_cell": "Table of Contents",
   "title_sidebar": "Contents",
   "toc_cell": false,
   "toc_position": {
    "height": "calc(100% - 180px)",
    "left": "10px",
    "top": "150px",
    "width": "384px"
   },
   "toc_section_display": true,
   "toc_window_display": true
  }
 },
 "nbformat": 4,
 "nbformat_minor": 4
}
