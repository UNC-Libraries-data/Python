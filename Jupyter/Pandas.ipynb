{
 "cells": [
  {
   "cell_type": "markdown",
   "metadata": {
    "toc-hr-collapsed": false
   },
   "source": [
    "# Pandas\n",
    "\n",
    "Like spreadsheets in Microsoft Excel or dataframes in R, Pandas allows us to store our data in tabular, multi-dimensional objects (dataframes) with familiar features like rows, columns, and headers. This is useful because it makes management, manipulation, and cleaning of large datasets much easier than would be the case using Python's built-in data structures such as lists and dictionaries. Pandas also provides a wide range of useful tools for working with data once it has been stored and structured.\n",
    "\n",
    "Notice that we load pandas with the usual `import pandas` and an extra `as pd` statement.  This allows us to call functions from `pandas` with `pd.<function>` instead of `pandas.<function>` for convenience.  `as pd` is **not** necessary to load the package.\n",
    "\n",
    "Download the csv file <a href=\"https://github.com/UNC-Libraries-data/Python/raw/master/Jupyter/CountyHealthData_2014-2015.csv\">CountyHealthData_2014-2015.csv</a>.  I've stored my copy in the same folder as this Jupyter Notebook.  Remember that Jupyter Notebooks automatically set your working directory to the folder where the .ipynb is saved.  You'll have to save the document at least once to set your directory, but once there you can use relative paths.\n",
    "\n",
    "`pd.read_csv` reads the tabular data from a Comma Separated Values (csv) file into a `DataFrame` object.\n"
   ]
  },
  {
   "cell_type": "code",
   "execution_count": 5,
   "metadata": {},
   "outputs": [],
   "source": [
    "import pandas as pd\n",
    "\n",
    "df = pd.read_csv(\"CountyHealthData_2014-2015.csv\")\n",
    "#df = pd.read_csv(\"C:/Users/mtjansen/Desktop/Python/Jupyter/CountyHealthData_2014-2015.csv\")"
   ]
  },
  {
   "cell_type": "markdown",
   "metadata": {},
   "source": [
    "&nbsp;\n",
    "\n",
    "## Exploring a DataFrame"
   ]
  },
  {
   "cell_type": "markdown",
   "metadata": {},
   "source": [
    "### Attributes\n",
    "A good first step in understanding our DataFrame is to examine some of its basic attributes. Attributes contain **values** that help us understand and use the dataframe. In pandas, we access attributes with the following syntax:\n",
    "```\n",
    "<DataFrame name>.<attribute name>\n",
    "```\n",
    "\n",
    "Here we us the `.shape` attribute to determine how many rows and columns (in that order) are available."
   ]
  },
  {
   "cell_type": "code",
   "execution_count": 2,
   "metadata": {},
   "outputs": [
    {
     "data": {
      "text/plain": [
       "(6109, 64)"
      ]
     },
     "execution_count": 2,
     "metadata": {},
     "output_type": "execute_result"
    }
   ],
   "source": [
    "df.shape"
   ]
  },
  {
   "cell_type": "markdown",
   "metadata": {},
   "source": [
    "&nbsp;\n",
    "\n",
    "Other useful attributes include:\n",
    "* `.columns` provides the column names for the DataFrame\n",
    "* `.dtypes` provides the pandas datatype for each column\n",
    "\n",
    "&nbsp;\n",
    "&nbsp;\n",
    "### Methods\n",
    "Much of the functionality for working with dataframes comes in the form of methods.  Methods are specialized **functions** that only work for a certain type of object, with the syntax:\n",
    "```\n",
    "<object name>.<method>()\n",
    "```\n",
    "\n",
    "We can look at the first 5 or last 5 rows in the dataset directly with the `.head()` and `.tail()` methods."
   ]
  },
  {
   "cell_type": "code",
   "execution_count": 3,
   "metadata": {},
   "outputs": [
    {
     "data": {
      "text/html": [
       "<div>\n",
       "<style scoped>\n",
       "    .dataframe tbody tr th:only-of-type {\n",
       "        vertical-align: middle;\n",
       "    }\n",
       "\n",
       "    .dataframe tbody tr th {\n",
       "        vertical-align: top;\n",
       "    }\n",
       "\n",
       "    .dataframe thead th {\n",
       "        text-align: right;\n",
       "    }\n",
       "</style>\n",
       "<table border=\"1\" class=\"dataframe\">\n",
       "  <thead>\n",
       "    <tr style=\"text-align: right;\">\n",
       "      <th></th>\n",
       "      <th>State</th>\n",
       "      <th>Region</th>\n",
       "      <th>Division</th>\n",
       "      <th>County</th>\n",
       "      <th>FIPS</th>\n",
       "      <th>GEOID</th>\n",
       "      <th>SMS Region</th>\n",
       "      <th>Year</th>\n",
       "      <th>Premature death</th>\n",
       "      <th>Poor or fair health</th>\n",
       "      <th>...</th>\n",
       "      <th>Drug poisoning deaths</th>\n",
       "      <th>Uninsured adults</th>\n",
       "      <th>Uninsured children</th>\n",
       "      <th>Health care costs</th>\n",
       "      <th>Could not see doctor due to cost</th>\n",
       "      <th>Other primary care providers</th>\n",
       "      <th>Median household income</th>\n",
       "      <th>Children eligible for free lunch</th>\n",
       "      <th>Homicide rate</th>\n",
       "      <th>Inadequate social support</th>\n",
       "    </tr>\n",
       "  </thead>\n",
       "  <tbody>\n",
       "    <tr>\n",
       "      <th>0</th>\n",
       "      <td>AK</td>\n",
       "      <td>West</td>\n",
       "      <td>Pacific</td>\n",
       "      <td>Aleutians West Census Area</td>\n",
       "      <td>2016</td>\n",
       "      <td>2016</td>\n",
       "      <td>Insuff Data</td>\n",
       "      <td>1/1/2014</td>\n",
       "      <td>NaN</td>\n",
       "      <td>0.122</td>\n",
       "      <td>...</td>\n",
       "      <td>NaN</td>\n",
       "      <td>0.374</td>\n",
       "      <td>0.250</td>\n",
       "      <td>3791.0</td>\n",
       "      <td>0.185</td>\n",
       "      <td>216.0</td>\n",
       "      <td>69192</td>\n",
       "      <td>0.127</td>\n",
       "      <td>NaN</td>\n",
       "      <td>0.287</td>\n",
       "    </tr>\n",
       "    <tr>\n",
       "      <th>1</th>\n",
       "      <td>AK</td>\n",
       "      <td>West</td>\n",
       "      <td>Pacific</td>\n",
       "      <td>Aleutians West Census Area</td>\n",
       "      <td>2016</td>\n",
       "      <td>2016</td>\n",
       "      <td>Insuff Data</td>\n",
       "      <td>1/1/2015</td>\n",
       "      <td>NaN</td>\n",
       "      <td>0.122</td>\n",
       "      <td>...</td>\n",
       "      <td>NaN</td>\n",
       "      <td>0.314</td>\n",
       "      <td>0.176</td>\n",
       "      <td>4837.0</td>\n",
       "      <td>0.185</td>\n",
       "      <td>254.0</td>\n",
       "      <td>74088</td>\n",
       "      <td>0.133</td>\n",
       "      <td>NaN</td>\n",
       "      <td>NaN</td>\n",
       "    </tr>\n",
       "    <tr>\n",
       "      <th>2</th>\n",
       "      <td>AK</td>\n",
       "      <td>West</td>\n",
       "      <td>Pacific</td>\n",
       "      <td>Anchorage Borough</td>\n",
       "      <td>2020</td>\n",
       "      <td>2020</td>\n",
       "      <td>Region 22</td>\n",
       "      <td>1/1/2014</td>\n",
       "      <td>6827.0</td>\n",
       "      <td>0.125</td>\n",
       "      <td>...</td>\n",
       "      <td>15.37</td>\n",
       "      <td>0.218</td>\n",
       "      <td>0.096</td>\n",
       "      <td>6588.0</td>\n",
       "      <td>0.119</td>\n",
       "      <td>135.0</td>\n",
       "      <td>71094</td>\n",
       "      <td>0.319</td>\n",
       "      <td>6.29</td>\n",
       "      <td>0.160</td>\n",
       "    </tr>\n",
       "    <tr>\n",
       "      <th>3</th>\n",
       "      <td>AK</td>\n",
       "      <td>West</td>\n",
       "      <td>Pacific</td>\n",
       "      <td>Anchorage Borough</td>\n",
       "      <td>2020</td>\n",
       "      <td>2020</td>\n",
       "      <td>Region 22</td>\n",
       "      <td>1/1/2015</td>\n",
       "      <td>6856.0</td>\n",
       "      <td>0.125</td>\n",
       "      <td>...</td>\n",
       "      <td>17.08</td>\n",
       "      <td>0.227</td>\n",
       "      <td>0.123</td>\n",
       "      <td>6582.0</td>\n",
       "      <td>0.119</td>\n",
       "      <td>148.0</td>\n",
       "      <td>76362</td>\n",
       "      <td>0.334</td>\n",
       "      <td>5.60</td>\n",
       "      <td>NaN</td>\n",
       "    </tr>\n",
       "    <tr>\n",
       "      <th>4</th>\n",
       "      <td>AK</td>\n",
       "      <td>West</td>\n",
       "      <td>Pacific</td>\n",
       "      <td>Bethel Census Area</td>\n",
       "      <td>2050</td>\n",
       "      <td>2050</td>\n",
       "      <td>Insuff Data</td>\n",
       "      <td>1/1/2014</td>\n",
       "      <td>13345.0</td>\n",
       "      <td>0.211</td>\n",
       "      <td>...</td>\n",
       "      <td>NaN</td>\n",
       "      <td>0.394</td>\n",
       "      <td>0.124</td>\n",
       "      <td>5860.0</td>\n",
       "      <td>0.200</td>\n",
       "      <td>169.0</td>\n",
       "      <td>41722</td>\n",
       "      <td>0.668</td>\n",
       "      <td>12.77</td>\n",
       "      <td>0.477</td>\n",
       "    </tr>\n",
       "  </tbody>\n",
       "</table>\n",
       "<p>5 rows × 64 columns</p>\n",
       "</div>"
      ],
      "text/plain": [
       "  State Region Division                      County  FIPS  GEOID   SMS Region  \\\n",
       "0    AK   West  Pacific  Aleutians West Census Area  2016   2016  Insuff Data   \n",
       "1    AK   West  Pacific  Aleutians West Census Area  2016   2016  Insuff Data   \n",
       "2    AK   West  Pacific           Anchorage Borough  2020   2020    Region 22   \n",
       "3    AK   West  Pacific           Anchorage Borough  2020   2020    Region 22   \n",
       "4    AK   West  Pacific          Bethel Census Area  2050   2050  Insuff Data   \n",
       "\n",
       "       Year  Premature death  Poor or fair health  ...  Drug poisoning deaths  \\\n",
       "0  1/1/2014              NaN                0.122  ...                    NaN   \n",
       "1  1/1/2015              NaN                0.122  ...                    NaN   \n",
       "2  1/1/2014           6827.0                0.125  ...                  15.37   \n",
       "3  1/1/2015           6856.0                0.125  ...                  17.08   \n",
       "4  1/1/2014          13345.0                0.211  ...                    NaN   \n",
       "\n",
       "   Uninsured adults  Uninsured children  Health care costs  \\\n",
       "0             0.374               0.250             3791.0   \n",
       "1             0.314               0.176             4837.0   \n",
       "2             0.218               0.096             6588.0   \n",
       "3             0.227               0.123             6582.0   \n",
       "4             0.394               0.124             5860.0   \n",
       "\n",
       "   Could not see doctor due to cost  Other primary care providers  \\\n",
       "0                             0.185                         216.0   \n",
       "1                             0.185                         254.0   \n",
       "2                             0.119                         135.0   \n",
       "3                             0.119                         148.0   \n",
       "4                             0.200                         169.0   \n",
       "\n",
       "   Median household income  Children eligible for free lunch  Homicide rate  \\\n",
       "0                    69192                             0.127            NaN   \n",
       "1                    74088                             0.133            NaN   \n",
       "2                    71094                             0.319           6.29   \n",
       "3                    76362                             0.334           5.60   \n",
       "4                    41722                             0.668          12.77   \n",
       "\n",
       "   Inadequate social support  \n",
       "0                      0.287  \n",
       "1                        NaN  \n",
       "2                      0.160  \n",
       "3                        NaN  \n",
       "4                      0.477  \n",
       "\n",
       "[5 rows x 64 columns]"
      ]
     },
     "execution_count": 3,
     "metadata": {},
     "output_type": "execute_result"
    }
   ],
   "source": [
    "df.head()"
   ]
  },
  {
   "cell_type": "markdown",
   "metadata": {},
   "source": [
    "&nbsp;\n",
    "\n",
    "We can also get basic summary statistics for each of our columns with the `.describe()` method. Normally, `.describe()` would only show us statistics for numeric columns, but we'll use an argument called \"include\" to summarize our categorical columns as well."
   ]
  },
  {
   "cell_type": "code",
   "execution_count": 4,
   "metadata": {},
   "outputs": [
    {
     "data": {
      "text/html": [
       "<div>\n",
       "<style scoped>\n",
       "    .dataframe tbody tr th:only-of-type {\n",
       "        vertical-align: middle;\n",
       "    }\n",
       "\n",
       "    .dataframe tbody tr th {\n",
       "        vertical-align: top;\n",
       "    }\n",
       "\n",
       "    .dataframe thead th {\n",
       "        text-align: right;\n",
       "    }\n",
       "</style>\n",
       "<table border=\"1\" class=\"dataframe\">\n",
       "  <thead>\n",
       "    <tr style=\"text-align: right;\">\n",
       "      <th></th>\n",
       "      <th>State</th>\n",
       "      <th>Region</th>\n",
       "      <th>Division</th>\n",
       "      <th>County</th>\n",
       "      <th>FIPS</th>\n",
       "      <th>GEOID</th>\n",
       "      <th>SMS Region</th>\n",
       "      <th>Year</th>\n",
       "      <th>Premature death</th>\n",
       "      <th>Poor or fair health</th>\n",
       "      <th>...</th>\n",
       "      <th>Drug poisoning deaths</th>\n",
       "      <th>Uninsured adults</th>\n",
       "      <th>Uninsured children</th>\n",
       "      <th>Health care costs</th>\n",
       "      <th>Could not see doctor due to cost</th>\n",
       "      <th>Other primary care providers</th>\n",
       "      <th>Median household income</th>\n",
       "      <th>Children eligible for free lunch</th>\n",
       "      <th>Homicide rate</th>\n",
       "      <th>Inadequate social support</th>\n",
       "    </tr>\n",
       "  </thead>\n",
       "  <tbody>\n",
       "    <tr>\n",
       "      <th>count</th>\n",
       "      <td>6109</td>\n",
       "      <td>6109</td>\n",
       "      <td>6109</td>\n",
       "      <td>6109</td>\n",
       "      <td>6109.00</td>\n",
       "      <td>6109.00</td>\n",
       "      <td>6109</td>\n",
       "      <td>6109</td>\n",
       "      <td>5984.00</td>\n",
       "      <td>5424.00</td>\n",
       "      <td>...</td>\n",
       "      <td>4113.00</td>\n",
       "      <td>6109.00</td>\n",
       "      <td>6109.00</td>\n",
       "      <td>6105.00</td>\n",
       "      <td>4755.00</td>\n",
       "      <td>5979.00</td>\n",
       "      <td>6109.00</td>\n",
       "      <td>5835.00</td>\n",
       "      <td>2484.00</td>\n",
       "      <td>2427.00</td>\n",
       "    </tr>\n",
       "    <tr>\n",
       "      <th>unique</th>\n",
       "      <td>51</td>\n",
       "      <td>4</td>\n",
       "      <td>9</td>\n",
       "      <td>1830</td>\n",
       "      <td>NaN</td>\n",
       "      <td>NaN</td>\n",
       "      <td>30</td>\n",
       "      <td>2</td>\n",
       "      <td>NaN</td>\n",
       "      <td>NaN</td>\n",
       "      <td>...</td>\n",
       "      <td>NaN</td>\n",
       "      <td>NaN</td>\n",
       "      <td>NaN</td>\n",
       "      <td>NaN</td>\n",
       "      <td>NaN</td>\n",
       "      <td>NaN</td>\n",
       "      <td>NaN</td>\n",
       "      <td>NaN</td>\n",
       "      <td>NaN</td>\n",
       "      <td>NaN</td>\n",
       "    </tr>\n",
       "    <tr>\n",
       "      <th>top</th>\n",
       "      <td>TX</td>\n",
       "      <td>South</td>\n",
       "      <td>South Atlantic</td>\n",
       "      <td>Washington County</td>\n",
       "      <td>NaN</td>\n",
       "      <td>NaN</td>\n",
       "      <td>Insuff Data</td>\n",
       "      <td>1/1/2015</td>\n",
       "      <td>NaN</td>\n",
       "      <td>NaN</td>\n",
       "      <td>...</td>\n",
       "      <td>NaN</td>\n",
       "      <td>NaN</td>\n",
       "      <td>NaN</td>\n",
       "      <td>NaN</td>\n",
       "      <td>NaN</td>\n",
       "      <td>NaN</td>\n",
       "      <td>NaN</td>\n",
       "      <td>NaN</td>\n",
       "      <td>NaN</td>\n",
       "      <td>NaN</td>\n",
       "    </tr>\n",
       "    <tr>\n",
       "      <th>freq</th>\n",
       "      <td>469</td>\n",
       "      <td>2803</td>\n",
       "      <td>1175</td>\n",
       "      <td>60</td>\n",
       "      <td>NaN</td>\n",
       "      <td>NaN</td>\n",
       "      <td>1608</td>\n",
       "      <td>3062</td>\n",
       "      <td>NaN</td>\n",
       "      <td>NaN</td>\n",
       "      <td>...</td>\n",
       "      <td>NaN</td>\n",
       "      <td>NaN</td>\n",
       "      <td>NaN</td>\n",
       "      <td>NaN</td>\n",
       "      <td>NaN</td>\n",
       "      <td>NaN</td>\n",
       "      <td>NaN</td>\n",
       "      <td>NaN</td>\n",
       "      <td>NaN</td>\n",
       "      <td>NaN</td>\n",
       "    </tr>\n",
       "    <tr>\n",
       "      <th>mean</th>\n",
       "      <td>NaN</td>\n",
       "      <td>NaN</td>\n",
       "      <td>NaN</td>\n",
       "      <td>NaN</td>\n",
       "      <td>30322.71</td>\n",
       "      <td>30322.71</td>\n",
       "      <td>NaN</td>\n",
       "      <td>NaN</td>\n",
       "      <td>8029.29</td>\n",
       "      <td>0.17</td>\n",
       "      <td>...</td>\n",
       "      <td>13.61</td>\n",
       "      <td>0.21</td>\n",
       "      <td>0.08</td>\n",
       "      <td>9454.27</td>\n",
       "      <td>0.15</td>\n",
       "      <td>57.34</td>\n",
       "      <td>45401.81</td>\n",
       "      <td>0.43</td>\n",
       "      <td>6.31</td>\n",
       "      <td>0.19</td>\n",
       "    </tr>\n",
       "    <tr>\n",
       "      <th>std</th>\n",
       "      <td>NaN</td>\n",
       "      <td>NaN</td>\n",
       "      <td>NaN</td>\n",
       "      <td>NaN</td>\n",
       "      <td>15177.99</td>\n",
       "      <td>15177.99</td>\n",
       "      <td>NaN</td>\n",
       "      <td>NaN</td>\n",
       "      <td>2413.81</td>\n",
       "      <td>0.06</td>\n",
       "      <td>...</td>\n",
       "      <td>7.40</td>\n",
       "      <td>0.07</td>\n",
       "      <td>0.04</td>\n",
       "      <td>1550.57</td>\n",
       "      <td>0.06</td>\n",
       "      <td>45.71</td>\n",
       "      <td>11603.61</td>\n",
       "      <td>0.17</td>\n",
       "      <td>4.70</td>\n",
       "      <td>0.05</td>\n",
       "    </tr>\n",
       "    <tr>\n",
       "      <th>min</th>\n",
       "      <td>NaN</td>\n",
       "      <td>NaN</td>\n",
       "      <td>NaN</td>\n",
       "      <td>NaN</td>\n",
       "      <td>1001.00</td>\n",
       "      <td>1001.00</td>\n",
       "      <td>NaN</td>\n",
       "      <td>NaN</td>\n",
       "      <td>2398.00</td>\n",
       "      <td>0.04</td>\n",
       "      <td>...</td>\n",
       "      <td>2.32</td>\n",
       "      <td>0.04</td>\n",
       "      <td>0.01</td>\n",
       "      <td>3791.00</td>\n",
       "      <td>0.03</td>\n",
       "      <td>0.00</td>\n",
       "      <td>21572.00</td>\n",
       "      <td>0.00</td>\n",
       "      <td>0.60</td>\n",
       "      <td>0.00</td>\n",
       "    </tr>\n",
       "    <tr>\n",
       "      <th>25%</th>\n",
       "      <td>NaN</td>\n",
       "      <td>NaN</td>\n",
       "      <td>NaN</td>\n",
       "      <td>NaN</td>\n",
       "      <td>18163.00</td>\n",
       "      <td>18163.00</td>\n",
       "      <td>NaN</td>\n",
       "      <td>NaN</td>\n",
       "      <td>6351.50</td>\n",
       "      <td>0.13</td>\n",
       "      <td>...</td>\n",
       "      <td>8.67</td>\n",
       "      <td>0.16</td>\n",
       "      <td>0.06</td>\n",
       "      <td>8379.00</td>\n",
       "      <td>0.11</td>\n",
       "      <td>31.00</td>\n",
       "      <td>37588.00</td>\n",
       "      <td>0.31</td>\n",
       "      <td>3.20</td>\n",
       "      <td>0.16</td>\n",
       "    </tr>\n",
       "    <tr>\n",
       "      <th>50%</th>\n",
       "      <td>NaN</td>\n",
       "      <td>NaN</td>\n",
       "      <td>NaN</td>\n",
       "      <td>NaN</td>\n",
       "      <td>29133.00</td>\n",
       "      <td>29133.00</td>\n",
       "      <td>NaN</td>\n",
       "      <td>NaN</td>\n",
       "      <td>7707.50</td>\n",
       "      <td>0.17</td>\n",
       "      <td>...</td>\n",
       "      <td>11.99</td>\n",
       "      <td>0.21</td>\n",
       "      <td>0.08</td>\n",
       "      <td>9380.00</td>\n",
       "      <td>0.15</td>\n",
       "      <td>48.00</td>\n",
       "      <td>43479.00</td>\n",
       "      <td>0.42</td>\n",
       "      <td>5.08</td>\n",
       "      <td>0.19</td>\n",
       "    </tr>\n",
       "    <tr>\n",
       "      <th>75%</th>\n",
       "      <td>NaN</td>\n",
       "      <td>NaN</td>\n",
       "      <td>NaN</td>\n",
       "      <td>NaN</td>\n",
       "      <td>45067.00</td>\n",
       "      <td>45067.00</td>\n",
       "      <td>NaN</td>\n",
       "      <td>NaN</td>\n",
       "      <td>9374.25</td>\n",
       "      <td>0.21</td>\n",
       "      <td>...</td>\n",
       "      <td>16.61</td>\n",
       "      <td>0.26</td>\n",
       "      <td>0.10</td>\n",
       "      <td>10412.00</td>\n",
       "      <td>0.19</td>\n",
       "      <td>72.00</td>\n",
       "      <td>50884.00</td>\n",
       "      <td>0.54</td>\n",
       "      <td>8.00</td>\n",
       "      <td>0.22</td>\n",
       "    </tr>\n",
       "    <tr>\n",
       "      <th>max</th>\n",
       "      <td>NaN</td>\n",
       "      <td>NaN</td>\n",
       "      <td>NaN</td>\n",
       "      <td>NaN</td>\n",
       "      <td>56045.00</td>\n",
       "      <td>56045.00</td>\n",
       "      <td>NaN</td>\n",
       "      <td>NaN</td>\n",
       "      <td>25394.00</td>\n",
       "      <td>0.51</td>\n",
       "      <td>...</td>\n",
       "      <td>79.78</td>\n",
       "      <td>0.52</td>\n",
       "      <td>0.26</td>\n",
       "      <td>21913.00</td>\n",
       "      <td>0.41</td>\n",
       "      <td>1348.00</td>\n",
       "      <td>121250.00</td>\n",
       "      <td>1.00</td>\n",
       "      <td>51.49</td>\n",
       "      <td>0.57</td>\n",
       "    </tr>\n",
       "  </tbody>\n",
       "</table>\n",
       "<p>11 rows × 64 columns</p>\n",
       "</div>"
      ],
      "text/plain": [
       "       State Region        Division             County      FIPS     GEOID  \\\n",
       "count   6109   6109            6109               6109   6109.00   6109.00   \n",
       "unique    51      4               9               1830       NaN       NaN   \n",
       "top       TX  South  South Atlantic  Washington County       NaN       NaN   \n",
       "freq     469   2803            1175                 60       NaN       NaN   \n",
       "mean     NaN    NaN             NaN                NaN  30322.71  30322.71   \n",
       "std      NaN    NaN             NaN                NaN  15177.99  15177.99   \n",
       "min      NaN    NaN             NaN                NaN   1001.00   1001.00   \n",
       "25%      NaN    NaN             NaN                NaN  18163.00  18163.00   \n",
       "50%      NaN    NaN             NaN                NaN  29133.00  29133.00   \n",
       "75%      NaN    NaN             NaN                NaN  45067.00  45067.00   \n",
       "max      NaN    NaN             NaN                NaN  56045.00  56045.00   \n",
       "\n",
       "         SMS Region      Year  Premature death  Poor or fair health  ...  \\\n",
       "count          6109      6109          5984.00              5424.00  ...   \n",
       "unique           30         2              NaN                  NaN  ...   \n",
       "top     Insuff Data  1/1/2015              NaN                  NaN  ...   \n",
       "freq           1608      3062              NaN                  NaN  ...   \n",
       "mean            NaN       NaN          8029.29                 0.17  ...   \n",
       "std             NaN       NaN          2413.81                 0.06  ...   \n",
       "min             NaN       NaN          2398.00                 0.04  ...   \n",
       "25%             NaN       NaN          6351.50                 0.13  ...   \n",
       "50%             NaN       NaN          7707.50                 0.17  ...   \n",
       "75%             NaN       NaN          9374.25                 0.21  ...   \n",
       "max             NaN       NaN         25394.00                 0.51  ...   \n",
       "\n",
       "        Drug poisoning deaths  Uninsured adults  Uninsured children  \\\n",
       "count                 4113.00           6109.00             6109.00   \n",
       "unique                    NaN               NaN                 NaN   \n",
       "top                       NaN               NaN                 NaN   \n",
       "freq                      NaN               NaN                 NaN   \n",
       "mean                    13.61              0.21                0.08   \n",
       "std                      7.40              0.07                0.04   \n",
       "min                      2.32              0.04                0.01   \n",
       "25%                      8.67              0.16                0.06   \n",
       "50%                     11.99              0.21                0.08   \n",
       "75%                     16.61              0.26                0.10   \n",
       "max                     79.78              0.52                0.26   \n",
       "\n",
       "        Health care costs  Could not see doctor due to cost  \\\n",
       "count             6105.00                           4755.00   \n",
       "unique                NaN                               NaN   \n",
       "top                   NaN                               NaN   \n",
       "freq                  NaN                               NaN   \n",
       "mean              9454.27                              0.15   \n",
       "std               1550.57                              0.06   \n",
       "min               3791.00                              0.03   \n",
       "25%               8379.00                              0.11   \n",
       "50%               9380.00                              0.15   \n",
       "75%              10412.00                              0.19   \n",
       "max              21913.00                              0.41   \n",
       "\n",
       "        Other primary care providers  Median household income  \\\n",
       "count                        5979.00                  6109.00   \n",
       "unique                           NaN                      NaN   \n",
       "top                              NaN                      NaN   \n",
       "freq                             NaN                      NaN   \n",
       "mean                           57.34                 45401.81   \n",
       "std                            45.71                 11603.61   \n",
       "min                             0.00                 21572.00   \n",
       "25%                            31.00                 37588.00   \n",
       "50%                            48.00                 43479.00   \n",
       "75%                            72.00                 50884.00   \n",
       "max                          1348.00                121250.00   \n",
       "\n",
       "        Children eligible for free lunch  Homicide rate  \\\n",
       "count                            5835.00        2484.00   \n",
       "unique                               NaN            NaN   \n",
       "top                                  NaN            NaN   \n",
       "freq                                 NaN            NaN   \n",
       "mean                                0.43           6.31   \n",
       "std                                 0.17           4.70   \n",
       "min                                 0.00           0.60   \n",
       "25%                                 0.31           3.20   \n",
       "50%                                 0.42           5.08   \n",
       "75%                                 0.54           8.00   \n",
       "max                                 1.00          51.49   \n",
       "\n",
       "        Inadequate social support  \n",
       "count                     2427.00  \n",
       "unique                        NaN  \n",
       "top                           NaN  \n",
       "freq                          NaN  \n",
       "mean                         0.19  \n",
       "std                          0.05  \n",
       "min                          0.00  \n",
       "25%                          0.16  \n",
       "50%                          0.19  \n",
       "75%                          0.22  \n",
       "max                          0.57  \n",
       "\n",
       "[11 rows x 64 columns]"
      ]
     },
     "execution_count": 4,
     "metadata": {},
     "output_type": "execute_result"
    }
   ],
   "source": [
    "df.describe(include = \"all\").round(2) \n",
    "#.round(2) allows us to round all of our numbers by 2 decimal places."
   ]
  },
  {
   "cell_type": "markdown",
   "metadata": {},
   "source": [
    "&nbsp;\n",
    "\n",
    "## Indexing"
   ]
  },
  {
   "cell_type": "markdown",
   "metadata": {},
   "source": [
    "We'll often want to select certain rows or columns from a large dataframe. As with elements in a list, this can be accomplished using indexing. There are some limitations, however. For example, we can use numbers in square brackets to select certain rows, but doing so always returns all the columns in our dataset:"
   ]
  },
  {
   "cell_type": "code",
   "execution_count": 5,
   "metadata": {},
   "outputs": [
    {
     "data": {
      "text/html": [
       "<div>\n",
       "<style scoped>\n",
       "    .dataframe tbody tr th:only-of-type {\n",
       "        vertical-align: middle;\n",
       "    }\n",
       "\n",
       "    .dataframe tbody tr th {\n",
       "        vertical-align: top;\n",
       "    }\n",
       "\n",
       "    .dataframe thead th {\n",
       "        text-align: right;\n",
       "    }\n",
       "</style>\n",
       "<table border=\"1\" class=\"dataframe\">\n",
       "  <thead>\n",
       "    <tr style=\"text-align: right;\">\n",
       "      <th></th>\n",
       "      <th>State</th>\n",
       "      <th>Region</th>\n",
       "      <th>Division</th>\n",
       "      <th>County</th>\n",
       "      <th>FIPS</th>\n",
       "      <th>GEOID</th>\n",
       "      <th>SMS Region</th>\n",
       "      <th>Year</th>\n",
       "      <th>Premature death</th>\n",
       "      <th>Poor or fair health</th>\n",
       "      <th>...</th>\n",
       "      <th>Drug poisoning deaths</th>\n",
       "      <th>Uninsured adults</th>\n",
       "      <th>Uninsured children</th>\n",
       "      <th>Health care costs</th>\n",
       "      <th>Could not see doctor due to cost</th>\n",
       "      <th>Other primary care providers</th>\n",
       "      <th>Median household income</th>\n",
       "      <th>Children eligible for free lunch</th>\n",
       "      <th>Homicide rate</th>\n",
       "      <th>Inadequate social support</th>\n",
       "    </tr>\n",
       "  </thead>\n",
       "  <tbody>\n",
       "    <tr>\n",
       "      <th>0</th>\n",
       "      <td>AK</td>\n",
       "      <td>West</td>\n",
       "      <td>Pacific</td>\n",
       "      <td>Aleutians West Census Area</td>\n",
       "      <td>2016</td>\n",
       "      <td>2016</td>\n",
       "      <td>Insuff Data</td>\n",
       "      <td>1/1/2014</td>\n",
       "      <td>NaN</td>\n",
       "      <td>0.122</td>\n",
       "      <td>...</td>\n",
       "      <td>NaN</td>\n",
       "      <td>0.374</td>\n",
       "      <td>0.250</td>\n",
       "      <td>3791.0</td>\n",
       "      <td>0.185</td>\n",
       "      <td>216.0</td>\n",
       "      <td>69192</td>\n",
       "      <td>0.127</td>\n",
       "      <td>NaN</td>\n",
       "      <td>0.287</td>\n",
       "    </tr>\n",
       "    <tr>\n",
       "      <th>1</th>\n",
       "      <td>AK</td>\n",
       "      <td>West</td>\n",
       "      <td>Pacific</td>\n",
       "      <td>Aleutians West Census Area</td>\n",
       "      <td>2016</td>\n",
       "      <td>2016</td>\n",
       "      <td>Insuff Data</td>\n",
       "      <td>1/1/2015</td>\n",
       "      <td>NaN</td>\n",
       "      <td>0.122</td>\n",
       "      <td>...</td>\n",
       "      <td>NaN</td>\n",
       "      <td>0.314</td>\n",
       "      <td>0.176</td>\n",
       "      <td>4837.0</td>\n",
       "      <td>0.185</td>\n",
       "      <td>254.0</td>\n",
       "      <td>74088</td>\n",
       "      <td>0.133</td>\n",
       "      <td>NaN</td>\n",
       "      <td>NaN</td>\n",
       "    </tr>\n",
       "    <tr>\n",
       "      <th>2</th>\n",
       "      <td>AK</td>\n",
       "      <td>West</td>\n",
       "      <td>Pacific</td>\n",
       "      <td>Anchorage Borough</td>\n",
       "      <td>2020</td>\n",
       "      <td>2020</td>\n",
       "      <td>Region 22</td>\n",
       "      <td>1/1/2014</td>\n",
       "      <td>6827.0</td>\n",
       "      <td>0.125</td>\n",
       "      <td>...</td>\n",
       "      <td>15.37</td>\n",
       "      <td>0.218</td>\n",
       "      <td>0.096</td>\n",
       "      <td>6588.0</td>\n",
       "      <td>0.119</td>\n",
       "      <td>135.0</td>\n",
       "      <td>71094</td>\n",
       "      <td>0.319</td>\n",
       "      <td>6.29</td>\n",
       "      <td>0.160</td>\n",
       "    </tr>\n",
       "  </tbody>\n",
       "</table>\n",
       "<p>3 rows × 64 columns</p>\n",
       "</div>"
      ],
      "text/plain": [
       "  State Region Division                      County  FIPS  GEOID   SMS Region  \\\n",
       "0    AK   West  Pacific  Aleutians West Census Area  2016   2016  Insuff Data   \n",
       "1    AK   West  Pacific  Aleutians West Census Area  2016   2016  Insuff Data   \n",
       "2    AK   West  Pacific           Anchorage Borough  2020   2020    Region 22   \n",
       "\n",
       "       Year  Premature death  Poor or fair health  ...  Drug poisoning deaths  \\\n",
       "0  1/1/2014              NaN                0.122  ...                    NaN   \n",
       "1  1/1/2015              NaN                0.122  ...                    NaN   \n",
       "2  1/1/2014           6827.0                0.125  ...                  15.37   \n",
       "\n",
       "   Uninsured adults  Uninsured children  Health care costs  \\\n",
       "0             0.374               0.250             3791.0   \n",
       "1             0.314               0.176             4837.0   \n",
       "2             0.218               0.096             6588.0   \n",
       "\n",
       "   Could not see doctor due to cost  Other primary care providers  \\\n",
       "0                             0.185                         216.0   \n",
       "1                             0.185                         254.0   \n",
       "2                             0.119                         135.0   \n",
       "\n",
       "   Median household income  Children eligible for free lunch  Homicide rate  \\\n",
       "0                    69192                             0.127            NaN   \n",
       "1                    74088                             0.133            NaN   \n",
       "2                    71094                             0.319           6.29   \n",
       "\n",
       "   Inadequate social support  \n",
       "0                      0.287  \n",
       "1                        NaN  \n",
       "2                      0.160  \n",
       "\n",
       "[3 rows x 64 columns]"
      ]
     },
     "execution_count": 5,
     "metadata": {},
     "output_type": "execute_result"
    }
   ],
   "source": [
    "df[0:3]"
   ]
  },
  {
   "cell_type": "markdown",
   "metadata": {},
   "source": [
    "&nbsp;\n",
    "\n",
    "We can select rows for specific columns using the column names."
   ]
  },
  {
   "cell_type": "code",
   "execution_count": 6,
   "metadata": {},
   "outputs": [
    {
     "data": {
      "text/plain": [
       "5    AK\n",
       "6    AK\n",
       "7    AK\n",
       "8    AK\n",
       "9    AK\n",
       "Name: State, dtype: object"
      ]
     },
     "execution_count": 6,
     "metadata": {},
     "output_type": "execute_result"
    }
   ],
   "source": [
    "df[\"State\"][5:10]"
   ]
  },
  {
   "cell_type": "markdown",
   "metadata": {},
   "source": [
    "&nbsp;\n",
    "\n",
    "If we want to select multiple columns, we must list them in their own nested set of square brackets."
   ]
  },
  {
   "cell_type": "code",
   "execution_count": 7,
   "metadata": {},
   "outputs": [
    {
     "data": {
      "text/html": [
       "<div>\n",
       "<style scoped>\n",
       "    .dataframe tbody tr th:only-of-type {\n",
       "        vertical-align: middle;\n",
       "    }\n",
       "\n",
       "    .dataframe tbody tr th {\n",
       "        vertical-align: top;\n",
       "    }\n",
       "\n",
       "    .dataframe thead th {\n",
       "        text-align: right;\n",
       "    }\n",
       "</style>\n",
       "<table border=\"1\" class=\"dataframe\">\n",
       "  <thead>\n",
       "    <tr style=\"text-align: right;\">\n",
       "      <th></th>\n",
       "      <th>State</th>\n",
       "      <th>Year</th>\n",
       "      <th>County</th>\n",
       "      <th>Uninsured adults</th>\n",
       "    </tr>\n",
       "  </thead>\n",
       "  <tbody>\n",
       "    <tr>\n",
       "      <th>19</th>\n",
       "      <td>AK</td>\n",
       "      <td>1/1/2015</td>\n",
       "      <td>Kodiak Island Borough</td>\n",
       "      <td>0.320</td>\n",
       "    </tr>\n",
       "    <tr>\n",
       "      <th>20</th>\n",
       "      <td>AK</td>\n",
       "      <td>1/1/2014</td>\n",
       "      <td>Lake and Peninsula Borough</td>\n",
       "      <td>0.434</td>\n",
       "    </tr>\n",
       "    <tr>\n",
       "      <th>21</th>\n",
       "      <td>AK</td>\n",
       "      <td>1/1/2015</td>\n",
       "      <td>Lake and Peninsula Borough</td>\n",
       "      <td>0.406</td>\n",
       "    </tr>\n",
       "    <tr>\n",
       "      <th>22</th>\n",
       "      <td>AK</td>\n",
       "      <td>1/1/2014</td>\n",
       "      <td>Matanuska-Susitna Borough</td>\n",
       "      <td>0.266</td>\n",
       "    </tr>\n",
       "    <tr>\n",
       "      <th>23</th>\n",
       "      <td>AK</td>\n",
       "      <td>1/1/2015</td>\n",
       "      <td>Matanuska-Susitna Borough</td>\n",
       "      <td>0.254</td>\n",
       "    </tr>\n",
       "    <tr>\n",
       "      <th>24</th>\n",
       "      <td>AK</td>\n",
       "      <td>1/1/2014</td>\n",
       "      <td>Nome Census Area</td>\n",
       "      <td>0.373</td>\n",
       "    </tr>\n",
       "  </tbody>\n",
       "</table>\n",
       "</div>"
      ],
      "text/plain": [
       "   State      Year                      County  Uninsured adults\n",
       "19    AK  1/1/2015       Kodiak Island Borough             0.320\n",
       "20    AK  1/1/2014  Lake and Peninsula Borough             0.434\n",
       "21    AK  1/1/2015  Lake and Peninsula Borough             0.406\n",
       "22    AK  1/1/2014   Matanuska-Susitna Borough             0.266\n",
       "23    AK  1/1/2015   Matanuska-Susitna Borough             0.254\n",
       "24    AK  1/1/2014            Nome Census Area             0.373"
      ]
     },
     "execution_count": 7,
     "metadata": {},
     "output_type": "execute_result"
    }
   ],
   "source": [
    "df[[\"State\", \"Year\", \"County\", \"Uninsured adults\"]][19:25]"
   ]
  },
  {
   "cell_type": "markdown",
   "metadata": {},
   "source": [
    "&nbsp;\n",
    "\n",
    "Typing all those names out gets tiring after a while, though. What if we try to select a column by number instead? **Running the code below produces an error.** This is where the attributes `.iloc` and `.loc` become useful."
   ]
  },
  {
   "cell_type": "code",
   "execution_count": 8,
   "metadata": {
    "scrolled": true
   },
   "outputs": [],
   "source": [
    "# df[1][0:3]"
   ]
  },
  {
   "cell_type": "markdown",
   "metadata": {},
   "source": [
    "&nbsp;\n",
    "\n",
    "### `.iloc`"
   ]
  },
  {
   "cell_type": "markdown",
   "metadata": {},
   "source": [
    "If we use the `.iloc` attribute before our brackets, pandas accepts two numbers separated by a comma. The first number is for rows and the second for columns. Below, we select the second row and third column."
   ]
  },
  {
   "cell_type": "code",
   "execution_count": 9,
   "metadata": {},
   "outputs": [
    {
     "data": {
      "text/plain": [
       "'Anchorage Borough'"
      ]
     },
     "execution_count": 9,
     "metadata": {},
     "output_type": "execute_result"
    }
   ],
   "source": [
    "df.iloc[2,3]"
   ]
  },
  {
   "cell_type": "markdown",
   "metadata": {},
   "source": [
    "&nbsp;\n",
    "\n",
    "We can also use a colon to select multiple rows or columns at once. Note the examples below."
   ]
  },
  {
   "cell_type": "code",
   "execution_count": 10,
   "metadata": {},
   "outputs": [
    {
     "data": {
      "text/plain": [
       "0       Aleutians West Census Area\n",
       "1       Aleutians West Census Area\n",
       "2                Anchorage Borough\n",
       "3                Anchorage Borough\n",
       "4               Bethel Census Area\n",
       "                   ...            \n",
       "6104                  Uinta County\n",
       "6105               Washakie County\n",
       "6106               Washakie County\n",
       "6107                 Weston County\n",
       "6108                 Weston County\n",
       "Name: County, Length: 6109, dtype: object"
      ]
     },
     "execution_count": 10,
     "metadata": {},
     "output_type": "execute_result"
    }
   ],
   "source": [
    "df.iloc[:,3] # All rows of column 3"
   ]
  },
  {
   "cell_type": "markdown",
   "metadata": {},
   "source": [
    "&nbsp;\n",
    "\n"
   ]
  },
  {
   "cell_type": "code",
   "execution_count": 11,
   "metadata": {},
   "outputs": [
    {
     "data": {
      "text/html": [
       "<div>\n",
       "<style scoped>\n",
       "    .dataframe tbody tr th:only-of-type {\n",
       "        vertical-align: middle;\n",
       "    }\n",
       "\n",
       "    .dataframe tbody tr th {\n",
       "        vertical-align: top;\n",
       "    }\n",
       "\n",
       "    .dataframe thead th {\n",
       "        text-align: right;\n",
       "    }\n",
       "</style>\n",
       "<table border=\"1\" class=\"dataframe\">\n",
       "  <thead>\n",
       "    <tr style=\"text-align: right;\">\n",
       "      <th></th>\n",
       "      <th>State</th>\n",
       "      <th>Region</th>\n",
       "      <th>Division</th>\n",
       "      <th>County</th>\n",
       "      <th>FIPS</th>\n",
       "      <th>GEOID</th>\n",
       "      <th>SMS Region</th>\n",
       "      <th>Year</th>\n",
       "      <th>Premature death</th>\n",
       "      <th>Poor or fair health</th>\n",
       "      <th>...</th>\n",
       "      <th>Drug poisoning deaths</th>\n",
       "      <th>Uninsured adults</th>\n",
       "      <th>Uninsured children</th>\n",
       "      <th>Health care costs</th>\n",
       "      <th>Could not see doctor due to cost</th>\n",
       "      <th>Other primary care providers</th>\n",
       "      <th>Median household income</th>\n",
       "      <th>Children eligible for free lunch</th>\n",
       "      <th>Homicide rate</th>\n",
       "      <th>Inadequate social support</th>\n",
       "    </tr>\n",
       "  </thead>\n",
       "  <tbody>\n",
       "    <tr>\n",
       "      <th>0</th>\n",
       "      <td>AK</td>\n",
       "      <td>West</td>\n",
       "      <td>Pacific</td>\n",
       "      <td>Aleutians West Census Area</td>\n",
       "      <td>2016</td>\n",
       "      <td>2016</td>\n",
       "      <td>Insuff Data</td>\n",
       "      <td>1/1/2014</td>\n",
       "      <td>NaN</td>\n",
       "      <td>0.122</td>\n",
       "      <td>...</td>\n",
       "      <td>NaN</td>\n",
       "      <td>0.374</td>\n",
       "      <td>0.250</td>\n",
       "      <td>3791.0</td>\n",
       "      <td>0.185</td>\n",
       "      <td>216.0</td>\n",
       "      <td>69192</td>\n",
       "      <td>0.127</td>\n",
       "      <td>NaN</td>\n",
       "      <td>0.287</td>\n",
       "    </tr>\n",
       "    <tr>\n",
       "      <th>1</th>\n",
       "      <td>AK</td>\n",
       "      <td>West</td>\n",
       "      <td>Pacific</td>\n",
       "      <td>Aleutians West Census Area</td>\n",
       "      <td>2016</td>\n",
       "      <td>2016</td>\n",
       "      <td>Insuff Data</td>\n",
       "      <td>1/1/2015</td>\n",
       "      <td>NaN</td>\n",
       "      <td>0.122</td>\n",
       "      <td>...</td>\n",
       "      <td>NaN</td>\n",
       "      <td>0.314</td>\n",
       "      <td>0.176</td>\n",
       "      <td>4837.0</td>\n",
       "      <td>0.185</td>\n",
       "      <td>254.0</td>\n",
       "      <td>74088</td>\n",
       "      <td>0.133</td>\n",
       "      <td>NaN</td>\n",
       "      <td>NaN</td>\n",
       "    </tr>\n",
       "    <tr>\n",
       "      <th>2</th>\n",
       "      <td>AK</td>\n",
       "      <td>West</td>\n",
       "      <td>Pacific</td>\n",
       "      <td>Anchorage Borough</td>\n",
       "      <td>2020</td>\n",
       "      <td>2020</td>\n",
       "      <td>Region 22</td>\n",
       "      <td>1/1/2014</td>\n",
       "      <td>6827.0</td>\n",
       "      <td>0.125</td>\n",
       "      <td>...</td>\n",
       "      <td>15.37</td>\n",
       "      <td>0.218</td>\n",
       "      <td>0.096</td>\n",
       "      <td>6588.0</td>\n",
       "      <td>0.119</td>\n",
       "      <td>135.0</td>\n",
       "      <td>71094</td>\n",
       "      <td>0.319</td>\n",
       "      <td>6.29</td>\n",
       "      <td>0.160</td>\n",
       "    </tr>\n",
       "  </tbody>\n",
       "</table>\n",
       "<p>3 rows × 64 columns</p>\n",
       "</div>"
      ],
      "text/plain": [
       "  State Region Division                      County  FIPS  GEOID   SMS Region  \\\n",
       "0    AK   West  Pacific  Aleutians West Census Area  2016   2016  Insuff Data   \n",
       "1    AK   West  Pacific  Aleutians West Census Area  2016   2016  Insuff Data   \n",
       "2    AK   West  Pacific           Anchorage Borough  2020   2020    Region 22   \n",
       "\n",
       "       Year  Premature death  Poor or fair health  ...  Drug poisoning deaths  \\\n",
       "0  1/1/2014              NaN                0.122  ...                    NaN   \n",
       "1  1/1/2015              NaN                0.122  ...                    NaN   \n",
       "2  1/1/2014           6827.0                0.125  ...                  15.37   \n",
       "\n",
       "   Uninsured adults  Uninsured children  Health care costs  \\\n",
       "0             0.374               0.250             3791.0   \n",
       "1             0.314               0.176             4837.0   \n",
       "2             0.218               0.096             6588.0   \n",
       "\n",
       "   Could not see doctor due to cost  Other primary care providers  \\\n",
       "0                             0.185                         216.0   \n",
       "1                             0.185                         254.0   \n",
       "2                             0.119                         135.0   \n",
       "\n",
       "   Median household income  Children eligible for free lunch  Homicide rate  \\\n",
       "0                    69192                             0.127            NaN   \n",
       "1                    74088                             0.133            NaN   \n",
       "2                    71094                             0.319           6.29   \n",
       "\n",
       "   Inadequate social support  \n",
       "0                      0.287  \n",
       "1                        NaN  \n",
       "2                      0.160  \n",
       "\n",
       "[3 rows x 64 columns]"
      ]
     },
     "execution_count": 11,
     "metadata": {},
     "output_type": "execute_result"
    }
   ],
   "source": [
    "df.iloc[0:3,:] # Rows 0-2 of all columns"
   ]
  },
  {
   "cell_type": "markdown",
   "metadata": {},
   "source": [
    "&nbsp;\n",
    "\n"
   ]
  },
  {
   "cell_type": "code",
   "execution_count": 12,
   "metadata": {},
   "outputs": [
    {
     "data": {
      "text/html": [
       "<div>\n",
       "<style scoped>\n",
       "    .dataframe tbody tr th:only-of-type {\n",
       "        vertical-align: middle;\n",
       "    }\n",
       "\n",
       "    .dataframe tbody tr th {\n",
       "        vertical-align: top;\n",
       "    }\n",
       "\n",
       "    .dataframe thead th {\n",
       "        text-align: right;\n",
       "    }\n",
       "</style>\n",
       "<table border=\"1\" class=\"dataframe\">\n",
       "  <thead>\n",
       "    <tr style=\"text-align: right;\">\n",
       "      <th></th>\n",
       "      <th>Division</th>\n",
       "      <th>County</th>\n",
       "      <th>FIPS</th>\n",
       "      <th>GEOID</th>\n",
       "      <th>SMS Region</th>\n",
       "      <th>Year</th>\n",
       "    </tr>\n",
       "  </thead>\n",
       "  <tbody>\n",
       "    <tr>\n",
       "      <th>120</th>\n",
       "      <td>East South Central</td>\n",
       "      <td>Lamar County</td>\n",
       "      <td>1075</td>\n",
       "      <td>1075</td>\n",
       "      <td>Region 16</td>\n",
       "      <td>1/1/2014</td>\n",
       "    </tr>\n",
       "    <tr>\n",
       "      <th>121</th>\n",
       "      <td>East South Central</td>\n",
       "      <td>Lamar County</td>\n",
       "      <td>1075</td>\n",
       "      <td>1075</td>\n",
       "      <td>Region 16</td>\n",
       "      <td>1/1/2015</td>\n",
       "    </tr>\n",
       "    <tr>\n",
       "      <th>122</th>\n",
       "      <td>East South Central</td>\n",
       "      <td>Lauderdale County</td>\n",
       "      <td>1077</td>\n",
       "      <td>1077</td>\n",
       "      <td>Region 16</td>\n",
       "      <td>1/1/2014</td>\n",
       "    </tr>\n",
       "    <tr>\n",
       "      <th>123</th>\n",
       "      <td>East South Central</td>\n",
       "      <td>Lauderdale County</td>\n",
       "      <td>1077</td>\n",
       "      <td>1077</td>\n",
       "      <td>Region 16</td>\n",
       "      <td>1/1/2015</td>\n",
       "    </tr>\n",
       "    <tr>\n",
       "      <th>124</th>\n",
       "      <td>East South Central</td>\n",
       "      <td>Lawrence County</td>\n",
       "      <td>1079</td>\n",
       "      <td>1079</td>\n",
       "      <td>Region 16</td>\n",
       "      <td>1/1/2014</td>\n",
       "    </tr>\n",
       "    <tr>\n",
       "      <th>125</th>\n",
       "      <td>East South Central</td>\n",
       "      <td>Lawrence County</td>\n",
       "      <td>1079</td>\n",
       "      <td>1079</td>\n",
       "      <td>Region 16</td>\n",
       "      <td>1/1/2015</td>\n",
       "    </tr>\n",
       "  </tbody>\n",
       "</table>\n",
       "</div>"
      ],
      "text/plain": [
       "               Division             County  FIPS  GEOID SMS Region      Year\n",
       "120  East South Central       Lamar County  1075   1075  Region 16  1/1/2014\n",
       "121  East South Central       Lamar County  1075   1075  Region 16  1/1/2015\n",
       "122  East South Central  Lauderdale County  1077   1077  Region 16  1/1/2014\n",
       "123  East South Central  Lauderdale County  1077   1077  Region 16  1/1/2015\n",
       "124  East South Central    Lawrence County  1079   1079  Region 16  1/1/2014\n",
       "125  East South Central    Lawrence County  1079   1079  Region 16  1/1/2015"
      ]
     },
     "execution_count": 12,
     "metadata": {},
     "output_type": "execute_result"
    }
   ],
   "source": [
    "df.iloc[120:126,2:8] # Rows 120-125 of columns 2-8"
   ]
  },
  {
   "cell_type": "markdown",
   "metadata": {},
   "source": [
    "&nbsp;\n",
    "\n",
    "### `.loc`"
   ]
  },
  {
   "cell_type": "markdown",
   "metadata": {},
   "source": [
    "The **i** in `iloc` stands for **integer**. If we still want to use the column names, we can use the `.loc` attribute instead."
   ]
  },
  {
   "cell_type": "code",
   "execution_count": 13,
   "metadata": {},
   "outputs": [
    {
     "data": {
      "text/plain": [
       "0    Pacific\n",
       "1    Pacific\n",
       "2    Pacific\n",
       "3    Pacific\n",
       "Name: Division, dtype: object"
      ]
     },
     "execution_count": 13,
     "metadata": {},
     "output_type": "execute_result"
    }
   ],
   "source": [
    "df.loc[0:3,\"Division\"]"
   ]
  },
  {
   "cell_type": "markdown",
   "metadata": {},
   "source": [
    "&nbsp;\n",
    "\n"
   ]
  },
  {
   "cell_type": "code",
   "execution_count": 14,
   "metadata": {},
   "outputs": [
    {
     "data": {
      "text/html": [
       "<div>\n",
       "<style scoped>\n",
       "    .dataframe tbody tr th:only-of-type {\n",
       "        vertical-align: middle;\n",
       "    }\n",
       "\n",
       "    .dataframe tbody tr th {\n",
       "        vertical-align: top;\n",
       "    }\n",
       "\n",
       "    .dataframe thead th {\n",
       "        text-align: right;\n",
       "    }\n",
       "</style>\n",
       "<table border=\"1\" class=\"dataframe\">\n",
       "  <thead>\n",
       "    <tr style=\"text-align: right;\">\n",
       "      <th></th>\n",
       "      <th>State</th>\n",
       "      <th>County</th>\n",
       "      <th>Food environment index</th>\n",
       "    </tr>\n",
       "  </thead>\n",
       "  <tbody>\n",
       "    <tr>\n",
       "      <th>0</th>\n",
       "      <td>AK</td>\n",
       "      <td>Aleutians West Census Area</td>\n",
       "      <td>7.002</td>\n",
       "    </tr>\n",
       "    <tr>\n",
       "      <th>1</th>\n",
       "      <td>AK</td>\n",
       "      <td>Aleutians West Census Area</td>\n",
       "      <td>6.600</td>\n",
       "    </tr>\n",
       "    <tr>\n",
       "      <th>2</th>\n",
       "      <td>AK</td>\n",
       "      <td>Anchorage Borough</td>\n",
       "      <td>8.185</td>\n",
       "    </tr>\n",
       "    <tr>\n",
       "      <th>3</th>\n",
       "      <td>AK</td>\n",
       "      <td>Anchorage Borough</td>\n",
       "      <td>8.000</td>\n",
       "    </tr>\n",
       "  </tbody>\n",
       "</table>\n",
       "</div>"
      ],
      "text/plain": [
       "  State                      County  Food environment index\n",
       "0    AK  Aleutians West Census Area                   7.002\n",
       "1    AK  Aleutians West Census Area                   6.600\n",
       "2    AK           Anchorage Borough                   8.185\n",
       "3    AK           Anchorage Borough                   8.000"
      ]
     },
     "execution_count": 14,
     "metadata": {},
     "output_type": "execute_result"
    }
   ],
   "source": [
    "df.loc[0:3,[\"State\",\"County\",\"Food environment index\"]]"
   ]
  },
  {
   "cell_type": "markdown",
   "metadata": {},
   "source": [
    "&nbsp;\n",
    "\n",
    "Indexing in pandas can also be combined with methods. What if we want to see how many records we have for each region in the dataset? We can do this by using the `.value_counts()` method and indexing our Region column."
   ]
  },
  {
   "cell_type": "code",
   "execution_count": 15,
   "metadata": {},
   "outputs": [
    {
     "data": {
      "text/plain": [
       "South        2803\n",
       "Midwest      2038\n",
       "West          834\n",
       "Northeast     434\n",
       "Name: Region, dtype: int64"
      ]
     },
     "execution_count": 15,
     "metadata": {},
     "output_type": "execute_result"
    }
   ],
   "source": [
    "df[\"Region\"].value_counts()"
   ]
  },
  {
   "cell_type": "markdown",
   "metadata": {},
   "source": [
    "&nbsp;\n",
    "\n",
    "Here, we'll use the `head()` method while indexing with .loc."
   ]
  },
  {
   "cell_type": "code",
   "execution_count": 16,
   "metadata": {
    "scrolled": true
   },
   "outputs": [
    {
     "data": {
      "text/html": [
       "<div>\n",
       "<style scoped>\n",
       "    .dataframe tbody tr th:only-of-type {\n",
       "        vertical-align: middle;\n",
       "    }\n",
       "\n",
       "    .dataframe tbody tr th {\n",
       "        vertical-align: top;\n",
       "    }\n",
       "\n",
       "    .dataframe thead th {\n",
       "        text-align: right;\n",
       "    }\n",
       "</style>\n",
       "<table border=\"1\" class=\"dataframe\">\n",
       "  <thead>\n",
       "    <tr style=\"text-align: right;\">\n",
       "      <th></th>\n",
       "      <th>State</th>\n",
       "      <th>County</th>\n",
       "      <th>Health care costs</th>\n",
       "    </tr>\n",
       "  </thead>\n",
       "  <tbody>\n",
       "    <tr>\n",
       "      <th>0</th>\n",
       "      <td>AK</td>\n",
       "      <td>Aleutians West Census Area</td>\n",
       "      <td>3791.0</td>\n",
       "    </tr>\n",
       "    <tr>\n",
       "      <th>1</th>\n",
       "      <td>AK</td>\n",
       "      <td>Aleutians West Census Area</td>\n",
       "      <td>4837.0</td>\n",
       "    </tr>\n",
       "    <tr>\n",
       "      <th>2</th>\n",
       "      <td>AK</td>\n",
       "      <td>Anchorage Borough</td>\n",
       "      <td>6588.0</td>\n",
       "    </tr>\n",
       "    <tr>\n",
       "      <th>3</th>\n",
       "      <td>AK</td>\n",
       "      <td>Anchorage Borough</td>\n",
       "      <td>6582.0</td>\n",
       "    </tr>\n",
       "    <tr>\n",
       "      <th>4</th>\n",
       "      <td>AK</td>\n",
       "      <td>Bethel Census Area</td>\n",
       "      <td>5860.0</td>\n",
       "    </tr>\n",
       "  </tbody>\n",
       "</table>\n",
       "</div>"
      ],
      "text/plain": [
       "  State                      County  Health care costs\n",
       "0    AK  Aleutians West Census Area             3791.0\n",
       "1    AK  Aleutians West Census Area             4837.0\n",
       "2    AK           Anchorage Borough             6588.0\n",
       "3    AK           Anchorage Borough             6582.0\n",
       "4    AK          Bethel Census Area             5860.0"
      ]
     },
     "execution_count": 16,
     "metadata": {},
     "output_type": "execute_result"
    }
   ],
   "source": [
    "df.loc[:,[\"State\",\"County\",\"Health care costs\"]].head()"
   ]
  },
  {
   "cell_type": "markdown",
   "metadata": {},
   "source": [
    "### Indexing and Assignment\n",
    "\n",
    "When we want to assign a value into a cell or region of our DataFrame, it's best practice to use the `.loc` or `.iloc` attributes to select a region of our dataset.  This ensures that when changes are made, they will flow back into the original DataFrame and not into a copy.  This is a particularly common problem when using multiple indices stacked on top of each other.  Unfortunately this problem is inherently unpredictable in Pandas, and can best be avoided by using the `.loc` and `.iloc` attributes.\n",
    "\n",
    "Read more [here](https://pandas.pydata.org/pandas-docs/stable/user_guide/indexing.html#why-does-assignment-fail-when-using-chained-indexing).\n",
    "\n",
    "Try running the commented out code `ex[\"County\"][0] = \"New County\"` below, after creating `ex`.  Both may work, but the commented version will throw a `SettingwithCopyWarning` warning and may sometimes fail."
   ]
  },
  {
   "cell_type": "code",
   "execution_count": 17,
   "metadata": {},
   "outputs": [
    {
     "name": "stdout",
     "output_type": "stream",
     "text": [
      "New County\n"
     ]
    }
   ],
   "source": [
    "ex = df.copy()\n",
    "\n",
    "#Do this:\n",
    "ex.loc[0,\"County\"] = \"New County\"\n",
    "\n",
    "#NOT this:\n",
    "#ex[\"County\"][0] = \"New County\"\n",
    "\n",
    "print(ex.loc[0,\"County\"])"
   ]
  },
  {
   "cell_type": "markdown",
   "metadata": {},
   "source": [
    "&nbsp;\n",
    "\n",
    "### Filtering"
   ]
  },
  {
   "cell_type": "markdown",
   "metadata": {},
   "source": [
    "To filter our dataset based on a logical condition (true or false), we will use nested square brackets. Note the example below.\n",
    "* The inner statement, `df[\"State\"]==\"RI\"` looks for a **column** name and checks if it equals \"RI\"\n",
    "* The outer statement `df[ ... ]` uses the resulting column of True/Falue values to select **rows**\n",
    "* When combined, these two commands call all of the data contained in rows where the value of the State field is equal to \"RI\""
   ]
  },
  {
   "cell_type": "code",
   "execution_count": 18,
   "metadata": {
    "scrolled": true
   },
   "outputs": [
    {
     "data": {
      "text/html": [
       "<div>\n",
       "<style scoped>\n",
       "    .dataframe tbody tr th:only-of-type {\n",
       "        vertical-align: middle;\n",
       "    }\n",
       "\n",
       "    .dataframe tbody tr th {\n",
       "        vertical-align: top;\n",
       "    }\n",
       "\n",
       "    .dataframe thead th {\n",
       "        text-align: right;\n",
       "    }\n",
       "</style>\n",
       "<table border=\"1\" class=\"dataframe\">\n",
       "  <thead>\n",
       "    <tr style=\"text-align: right;\">\n",
       "      <th></th>\n",
       "      <th>State</th>\n",
       "      <th>Region</th>\n",
       "      <th>Division</th>\n",
       "      <th>County</th>\n",
       "      <th>FIPS</th>\n",
       "      <th>GEOID</th>\n",
       "      <th>SMS Region</th>\n",
       "      <th>Year</th>\n",
       "      <th>Premature death</th>\n",
       "      <th>Poor or fair health</th>\n",
       "      <th>...</th>\n",
       "      <th>Drug poisoning deaths</th>\n",
       "      <th>Uninsured adults</th>\n",
       "      <th>Uninsured children</th>\n",
       "      <th>Health care costs</th>\n",
       "      <th>Could not see doctor due to cost</th>\n",
       "      <th>Other primary care providers</th>\n",
       "      <th>Median household income</th>\n",
       "      <th>Children eligible for free lunch</th>\n",
       "      <th>Homicide rate</th>\n",
       "      <th>Inadequate social support</th>\n",
       "    </tr>\n",
       "  </thead>\n",
       "  <tbody>\n",
       "    <tr>\n",
       "      <th>4505</th>\n",
       "      <td>RI</td>\n",
       "      <td>Northeast</td>\n",
       "      <td>New England</td>\n",
       "      <td>Bristol County</td>\n",
       "      <td>44001</td>\n",
       "      <td>44001</td>\n",
       "      <td>Region 12</td>\n",
       "      <td>1/1/2014</td>\n",
       "      <td>4543.0</td>\n",
       "      <td>0.087</td>\n",
       "      <td>...</td>\n",
       "      <td>12.35</td>\n",
       "      <td>0.113</td>\n",
       "      <td>0.027</td>\n",
       "      <td>8579.0</td>\n",
       "      <td>0.077</td>\n",
       "      <td>18.0</td>\n",
       "      <td>64572</td>\n",
       "      <td>0.139</td>\n",
       "      <td>NaN</td>\n",
       "      <td>0.197</td>\n",
       "    </tr>\n",
       "    <tr>\n",
       "      <th>4506</th>\n",
       "      <td>RI</td>\n",
       "      <td>Northeast</td>\n",
       "      <td>New England</td>\n",
       "      <td>Bristol County</td>\n",
       "      <td>44001</td>\n",
       "      <td>44001</td>\n",
       "      <td>Region 12</td>\n",
       "      <td>1/1/2015</td>\n",
       "      <td>3891.0</td>\n",
       "      <td>0.087</td>\n",
       "      <td>...</td>\n",
       "      <td>11.67</td>\n",
       "      <td>0.110</td>\n",
       "      <td>0.044</td>\n",
       "      <td>8355.0</td>\n",
       "      <td>0.077</td>\n",
       "      <td>16.0</td>\n",
       "      <td>68415</td>\n",
       "      <td>0.155</td>\n",
       "      <td>NaN</td>\n",
       "      <td>NaN</td>\n",
       "    </tr>\n",
       "    <tr>\n",
       "      <th>4507</th>\n",
       "      <td>RI</td>\n",
       "      <td>Northeast</td>\n",
       "      <td>New England</td>\n",
       "      <td>Kent County</td>\n",
       "      <td>44003</td>\n",
       "      <td>44003</td>\n",
       "      <td>Region 12</td>\n",
       "      <td>1/1/2014</td>\n",
       "      <td>6313.0</td>\n",
       "      <td>0.122</td>\n",
       "      <td>...</td>\n",
       "      <td>15.55</td>\n",
       "      <td>0.110</td>\n",
       "      <td>0.027</td>\n",
       "      <td>9890.0</td>\n",
       "      <td>0.105</td>\n",
       "      <td>61.0</td>\n",
       "      <td>59682</td>\n",
       "      <td>0.223</td>\n",
       "      <td>1.44</td>\n",
       "      <td>0.187</td>\n",
       "    </tr>\n",
       "    <tr>\n",
       "      <th>4508</th>\n",
       "      <td>RI</td>\n",
       "      <td>Northeast</td>\n",
       "      <td>New England</td>\n",
       "      <td>Kent County</td>\n",
       "      <td>44003</td>\n",
       "      <td>44003</td>\n",
       "      <td>Region 12</td>\n",
       "      <td>1/1/2015</td>\n",
       "      <td>6458.0</td>\n",
       "      <td>0.122</td>\n",
       "      <td>...</td>\n",
       "      <td>18.94</td>\n",
       "      <td>0.114</td>\n",
       "      <td>0.046</td>\n",
       "      <td>9621.0</td>\n",
       "      <td>0.105</td>\n",
       "      <td>68.0</td>\n",
       "      <td>63232</td>\n",
       "      <td>0.230</td>\n",
       "      <td>1.30</td>\n",
       "      <td>NaN</td>\n",
       "    </tr>\n",
       "    <tr>\n",
       "      <th>4509</th>\n",
       "      <td>RI</td>\n",
       "      <td>Northeast</td>\n",
       "      <td>New England</td>\n",
       "      <td>Newport County</td>\n",
       "      <td>44005</td>\n",
       "      <td>44005</td>\n",
       "      <td>Region 12</td>\n",
       "      <td>1/1/2014</td>\n",
       "      <td>4457.0</td>\n",
       "      <td>0.109</td>\n",
       "      <td>...</td>\n",
       "      <td>12.29</td>\n",
       "      <td>0.119</td>\n",
       "      <td>0.033</td>\n",
       "      <td>8897.0</td>\n",
       "      <td>0.090</td>\n",
       "      <td>30.0</td>\n",
       "      <td>63434</td>\n",
       "      <td>0.222</td>\n",
       "      <td>NaN</td>\n",
       "      <td>0.176</td>\n",
       "    </tr>\n",
       "    <tr>\n",
       "      <th>4510</th>\n",
       "      <td>RI</td>\n",
       "      <td>Northeast</td>\n",
       "      <td>New England</td>\n",
       "      <td>Newport County</td>\n",
       "      <td>44005</td>\n",
       "      <td>44005</td>\n",
       "      <td>Region 12</td>\n",
       "      <td>1/1/2015</td>\n",
       "      <td>4730.0</td>\n",
       "      <td>0.109</td>\n",
       "      <td>...</td>\n",
       "      <td>10.33</td>\n",
       "      <td>0.118</td>\n",
       "      <td>0.048</td>\n",
       "      <td>8149.0</td>\n",
       "      <td>0.090</td>\n",
       "      <td>33.0</td>\n",
       "      <td>67291</td>\n",
       "      <td>0.230</td>\n",
       "      <td>NaN</td>\n",
       "      <td>NaN</td>\n",
       "    </tr>\n",
       "    <tr>\n",
       "      <th>4511</th>\n",
       "      <td>RI</td>\n",
       "      <td>Northeast</td>\n",
       "      <td>New England</td>\n",
       "      <td>Providence County</td>\n",
       "      <td>44007</td>\n",
       "      <td>44007</td>\n",
       "      <td>Region 12</td>\n",
       "      <td>1/1/2014</td>\n",
       "      <td>6468.0</td>\n",
       "      <td>0.154</td>\n",
       "      <td>...</td>\n",
       "      <td>15.67</td>\n",
       "      <td>0.190</td>\n",
       "      <td>0.049</td>\n",
       "      <td>9480.0</td>\n",
       "      <td>0.125</td>\n",
       "      <td>88.0</td>\n",
       "      <td>47601</td>\n",
       "      <td>0.484</td>\n",
       "      <td>4.10</td>\n",
       "      <td>0.229</td>\n",
       "    </tr>\n",
       "    <tr>\n",
       "      <th>4512</th>\n",
       "      <td>RI</td>\n",
       "      <td>Northeast</td>\n",
       "      <td>New England</td>\n",
       "      <td>Providence County</td>\n",
       "      <td>44007</td>\n",
       "      <td>44007</td>\n",
       "      <td>Region 12</td>\n",
       "      <td>1/1/2015</td>\n",
       "      <td>6124.0</td>\n",
       "      <td>0.154</td>\n",
       "      <td>...</td>\n",
       "      <td>17.51</td>\n",
       "      <td>0.182</td>\n",
       "      <td>0.058</td>\n",
       "      <td>8983.0</td>\n",
       "      <td>0.125</td>\n",
       "      <td>93.0</td>\n",
       "      <td>47642</td>\n",
       "      <td>0.487</td>\n",
       "      <td>3.70</td>\n",
       "      <td>NaN</td>\n",
       "    </tr>\n",
       "    <tr>\n",
       "      <th>4513</th>\n",
       "      <td>RI</td>\n",
       "      <td>Northeast</td>\n",
       "      <td>New England</td>\n",
       "      <td>Washington County</td>\n",
       "      <td>44009</td>\n",
       "      <td>44009</td>\n",
       "      <td>Region 12</td>\n",
       "      <td>1/1/2014</td>\n",
       "      <td>4961.0</td>\n",
       "      <td>0.092</td>\n",
       "      <td>...</td>\n",
       "      <td>10.56</td>\n",
       "      <td>0.105</td>\n",
       "      <td>0.031</td>\n",
       "      <td>8776.0</td>\n",
       "      <td>0.088</td>\n",
       "      <td>39.0</td>\n",
       "      <td>69150</td>\n",
       "      <td>0.172</td>\n",
       "      <td>NaN</td>\n",
       "      <td>0.157</td>\n",
       "    </tr>\n",
       "    <tr>\n",
       "      <th>4514</th>\n",
       "      <td>RI</td>\n",
       "      <td>Northeast</td>\n",
       "      <td>New England</td>\n",
       "      <td>Washington County</td>\n",
       "      <td>44009</td>\n",
       "      <td>44009</td>\n",
       "      <td>Region 12</td>\n",
       "      <td>1/1/2015</td>\n",
       "      <td>4939.0</td>\n",
       "      <td>0.092</td>\n",
       "      <td>...</td>\n",
       "      <td>13.18</td>\n",
       "      <td>0.107</td>\n",
       "      <td>0.047</td>\n",
       "      <td>8212.0</td>\n",
       "      <td>0.088</td>\n",
       "      <td>49.0</td>\n",
       "      <td>69267</td>\n",
       "      <td>0.177</td>\n",
       "      <td>NaN</td>\n",
       "      <td>NaN</td>\n",
       "    </tr>\n",
       "  </tbody>\n",
       "</table>\n",
       "<p>10 rows × 64 columns</p>\n",
       "</div>"
      ],
      "text/plain": [
       "     State     Region     Division             County   FIPS  GEOID  \\\n",
       "4505    RI  Northeast  New England     Bristol County  44001  44001   \n",
       "4506    RI  Northeast  New England     Bristol County  44001  44001   \n",
       "4507    RI  Northeast  New England        Kent County  44003  44003   \n",
       "4508    RI  Northeast  New England        Kent County  44003  44003   \n",
       "4509    RI  Northeast  New England     Newport County  44005  44005   \n",
       "4510    RI  Northeast  New England     Newport County  44005  44005   \n",
       "4511    RI  Northeast  New England  Providence County  44007  44007   \n",
       "4512    RI  Northeast  New England  Providence County  44007  44007   \n",
       "4513    RI  Northeast  New England  Washington County  44009  44009   \n",
       "4514    RI  Northeast  New England  Washington County  44009  44009   \n",
       "\n",
       "     SMS Region      Year  Premature death  Poor or fair health  ...  \\\n",
       "4505  Region 12  1/1/2014           4543.0                0.087  ...   \n",
       "4506  Region 12  1/1/2015           3891.0                0.087  ...   \n",
       "4507  Region 12  1/1/2014           6313.0                0.122  ...   \n",
       "4508  Region 12  1/1/2015           6458.0                0.122  ...   \n",
       "4509  Region 12  1/1/2014           4457.0                0.109  ...   \n",
       "4510  Region 12  1/1/2015           4730.0                0.109  ...   \n",
       "4511  Region 12  1/1/2014           6468.0                0.154  ...   \n",
       "4512  Region 12  1/1/2015           6124.0                0.154  ...   \n",
       "4513  Region 12  1/1/2014           4961.0                0.092  ...   \n",
       "4514  Region 12  1/1/2015           4939.0                0.092  ...   \n",
       "\n",
       "      Drug poisoning deaths  Uninsured adults  Uninsured children  \\\n",
       "4505                  12.35             0.113               0.027   \n",
       "4506                  11.67             0.110               0.044   \n",
       "4507                  15.55             0.110               0.027   \n",
       "4508                  18.94             0.114               0.046   \n",
       "4509                  12.29             0.119               0.033   \n",
       "4510                  10.33             0.118               0.048   \n",
       "4511                  15.67             0.190               0.049   \n",
       "4512                  17.51             0.182               0.058   \n",
       "4513                  10.56             0.105               0.031   \n",
       "4514                  13.18             0.107               0.047   \n",
       "\n",
       "      Health care costs  Could not see doctor due to cost  \\\n",
       "4505             8579.0                             0.077   \n",
       "4506             8355.0                             0.077   \n",
       "4507             9890.0                             0.105   \n",
       "4508             9621.0                             0.105   \n",
       "4509             8897.0                             0.090   \n",
       "4510             8149.0                             0.090   \n",
       "4511             9480.0                             0.125   \n",
       "4512             8983.0                             0.125   \n",
       "4513             8776.0                             0.088   \n",
       "4514             8212.0                             0.088   \n",
       "\n",
       "      Other primary care providers  Median household income  \\\n",
       "4505                          18.0                    64572   \n",
       "4506                          16.0                    68415   \n",
       "4507                          61.0                    59682   \n",
       "4508                          68.0                    63232   \n",
       "4509                          30.0                    63434   \n",
       "4510                          33.0                    67291   \n",
       "4511                          88.0                    47601   \n",
       "4512                          93.0                    47642   \n",
       "4513                          39.0                    69150   \n",
       "4514                          49.0                    69267   \n",
       "\n",
       "      Children eligible for free lunch  Homicide rate  \\\n",
       "4505                             0.139            NaN   \n",
       "4506                             0.155            NaN   \n",
       "4507                             0.223           1.44   \n",
       "4508                             0.230           1.30   \n",
       "4509                             0.222            NaN   \n",
       "4510                             0.230            NaN   \n",
       "4511                             0.484           4.10   \n",
       "4512                             0.487           3.70   \n",
       "4513                             0.172            NaN   \n",
       "4514                             0.177            NaN   \n",
       "\n",
       "      Inadequate social support  \n",
       "4505                      0.197  \n",
       "4506                        NaN  \n",
       "4507                      0.187  \n",
       "4508                        NaN  \n",
       "4509                      0.176  \n",
       "4510                        NaN  \n",
       "4511                      0.229  \n",
       "4512                        NaN  \n",
       "4513                      0.157  \n",
       "4514                        NaN  \n",
       "\n",
       "[10 rows x 64 columns]"
      ]
     },
     "execution_count": 18,
     "metadata": {},
     "output_type": "execute_result"
    }
   ],
   "source": [
    "df[df[\"State\"] == \"RI\"]"
   ]
  },
  {
   "cell_type": "markdown",
   "metadata": {},
   "source": [
    "#### `SettingwithCopyWarning` and filtered data\n",
    "\n",
    "When we use the notation above to filter a DataFrame we may run into a `SettingwithCopyWarning` warning later on in our code if we save this object and then modify it later on.  That's because this notation creates a reference back to the original dataframe, **not** a copy of the original dataframe, unless we explicitly use the **`.copy()`** method.  If you want to use subset later on, you should create it as follows:"
   ]
  },
  {
   "cell_type": "code",
   "execution_count": 19,
   "metadata": {},
   "outputs": [],
   "source": [
    "RI_subset = df[df[\"State\"] == \"RI\"].copy()"
   ]
  },
  {
   "cell_type": "markdown",
   "metadata": {},
   "source": [
    "&nbsp;\n",
    "\n",
    "## Working Example: Mass Mobilization Data"
   ]
  },
  {
   "cell_type": "markdown",
   "metadata": {},
   "source": [
    "### About the dataset"
   ]
  },
  {
   "cell_type": "markdown",
   "metadata": {},
   "source": [
    "The Mass Mobilization project collects data on demonstrations against governments around the globe, covering protests in 162 countries from 1990 to 2020. The project is a collaboration between researchers from Binghamton University and the University of Notre Dame, and sponsored by the Political Instability Task Force (PITF) which is funded by the Central Intelligence Agency. For more information and links to all associated files, visit the [Harvard Dataverse](https://dataverse.harvard.edu/dataverse/MMdata?q=&types=dataverses%3Adatasets%3Afiles&sort=dateSort&order=desc&page=1). "
   ]
  },
  {
   "cell_type": "markdown",
   "metadata": {},
   "source": [
    "### Setup"
   ]
  },
  {
   "cell_type": "markdown",
   "metadata": {},
   "source": [
    "**Download the CSV file: [protest_data.csv](https://unc-libraries-data.github.io/Python/Jupyter/protest_data.csv)**\n",
    "\n",
    "*Be sure to put it in the same folder as your Jupyter Notebook or working directory.*"
   ]
  },
  {
   "cell_type": "code",
   "execution_count": 21,
   "metadata": {},
   "outputs": [],
   "source": [
    "import pandas as pd\n",
    "\n",
    "protests = pd.read_csv(\"protest_data.csv\")"
   ]
  },
  {
   "cell_type": "markdown",
   "metadata": {},
   "source": [
    "### Research Questions"
   ]
  },
  {
   "cell_type": "markdown",
   "metadata": {},
   "source": [
    "Without any preparation or planning, trying to explore a dataset can be overwhelming, and you may find yourself unsure of where to begin. The first step to successful Exploratory Data Analysis (EDA) is developing a set of research questions. We will use the questions below to guide our research on the dataset. In some cases, we'll create visualizations to answer the questions.\n",
    "\n",
    "1. What information has been collected about the protests in the dataset?\n",
    "2. How many protests does our dataset include, and in which countries do they occur?\n",
    "3. Are there any relationships between protest length, number of people, and whether or not there is violence?\n",
    "\n"
   ]
  },
  {
   "cell_type": "markdown",
   "metadata": {},
   "source": [
    "### Question 1 : What information has been collected about the protests in the dataset?\n",
    "Previously, we have used the `.describe()` method to view column names and get basic summary statistics. However, if we only want a quick list of column names, we can use the `list()` function on `protests.columns`."
   ]
  },
  {
   "cell_type": "code",
   "execution_count": 30,
   "metadata": {},
   "outputs": [
    {
     "data": {
      "text/plain": [
       "['id',\n",
       " 'country',\n",
       " 'ccode',\n",
       " 'year',\n",
       " 'region',\n",
       " 'protest',\n",
       " 'protestnumber',\n",
       " 'startday',\n",
       " 'startmonth',\n",
       " 'startyear',\n",
       " 'endday',\n",
       " 'endmonth',\n",
       " 'endyear',\n",
       " 'protesterviolence',\n",
       " 'location',\n",
       " 'participants_category',\n",
       " 'participants',\n",
       " 'protesteridentity',\n",
       " 'protesterdemand1',\n",
       " 'protesterdemand2',\n",
       " 'protesterdemand3',\n",
       " 'protesterdemand4',\n",
       " 'stateresponse1',\n",
       " 'stateresponse2',\n",
       " 'stateresponse3',\n",
       " 'stateresponse4',\n",
       " 'stateresponse5',\n",
       " 'stateresponse6',\n",
       " 'stateresponse7',\n",
       " 'sources',\n",
       " 'notes']"
      ]
     },
     "execution_count": 30,
     "metadata": {},
     "output_type": "execute_result"
    }
   ],
   "source": [
    "list(protests.columns)"
   ]
  },
  {
   "cell_type": "markdown",
   "metadata": {},
   "source": [
    "### Question 2 : How many protests does our dataset include and in which countries do they occur?\n",
    "\n",
    "Finding the total number of protests is easy enough..."
   ]
  },
  {
   "cell_type": "code",
   "execution_count": 31,
   "metadata": {},
   "outputs": [
    {
     "data": {
      "text/plain": [
       "17145"
      ]
     },
     "execution_count": 31,
     "metadata": {},
     "output_type": "execute_result"
    }
   ],
   "source": [
    "len(protests)"
   ]
  },
  {
   "cell_type": "markdown",
   "metadata": {},
   "source": [
    "But how can we find out how many protests occured in each country? \n",
    "\n",
    "Pandas provides a number of methods for aggregating our data, such as average, minimum, maximum, etc. In our case, we'll use `.count()` to tally up the total number of protest IDs. Often, we'll also want to aggregate our data within a certain group like country, region, etc. The method for grouping in Pandas is called `.groupby()`. To create groups and aggregate them at the same time, we'll need to use **chained methods**."
   ]
  },
  {
   "cell_type": "code",
   "execution_count": 32,
   "metadata": {},
   "outputs": [
    {
     "data": {
      "text/plain": [
       "country\n",
       "Afghanistan     56\n",
       "Albania         93\n",
       "Algeria        122\n",
       "Angola          38\n",
       "Argentina      118\n",
       "              ... \n",
       "Vietnam         36\n",
       "Yemen          166\n",
       "Yugoslavia     138\n",
       "Zambia          99\n",
       "Zimbabwe       119\n",
       "Name: id, Length: 166, dtype: int64"
      ]
     },
     "execution_count": 32,
     "metadata": {},
     "output_type": "execute_result"
    }
   ],
   "source": [
    "# The .copy() method allows us to create a  new copy of the dataframe instead of only referencing the original\n",
    "Q2 = protests.groupby(\"country\").count()[\"id\"].copy()\n",
    "Q2"
   ]
  },
  {
   "cell_type": "markdown",
   "metadata": {},
   "source": [
    "Now that our `byCountry` object includes the count of protests for each country, there are many ways we can display the results. Maybe we'd like to see the top 5 countries with the most and least protests. Perhaps we can even **visualize** them.\n",
    "\n",
    "First, let's find the top 5 countries with the most and least protests. The `.nlargest()` and `.nsmallest()` methods become useful here."
   ]
  },
  {
   "cell_type": "code",
   "execution_count": 33,
   "metadata": {},
   "outputs": [
    {
     "data": {
      "text/plain": [
       "country\n",
       "United Kingdom    578\n",
       "France            547\n",
       "Ireland           438\n",
       "Germany           364\n",
       "Kenya             353\n",
       "Name: id, dtype: int64"
      ]
     },
     "execution_count": 33,
     "metadata": {},
     "output_type": "execute_result"
    }
   ],
   "source": [
    "Q2top = Q2.nlargest(5)\n",
    "Q2top"
   ]
  },
  {
   "cell_type": "code",
   "execution_count": 34,
   "metadata": {},
   "outputs": [
    {
     "data": {
      "text/plain": [
       "country\n",
       "Germany West              2\n",
       "Serbia and Montenegro     5\n",
       "Czechoslovakia            6\n",
       "South Sudan              10\n",
       "Germany East             11\n",
       "Name: id, dtype: int64"
      ]
     },
     "execution_count": 34,
     "metadata": {},
     "output_type": "execute_result"
    }
   ],
   "source": [
    "Q2bot = Q2.nsmallest(5)\n",
    "Q2bot"
   ]
  },
  {
   "cell_type": "markdown",
   "metadata": {},
   "source": [
    "#### Visualization\n",
    "\n",
    "There are many libraries for data visualization within Python. Some of the most popular include:\n",
    "\n",
    "- Matplotlib (basic charts)\n",
    "- Seaborn (extends the functionality of Matplotlib)\n",
    "- Bokeh (interactive charts)\n",
    "- Plot.ly (another library for interactive charts)\n",
    "\n",
    "We'll be creating plots with each of these libraries to get an idea of how they work. Let's start with **matplotlib**. "
   ]
  },
  {
   "cell_type": "code",
   "execution_count": 35,
   "metadata": {},
   "outputs": [],
   "source": [
    "import matplotlib.pyplot as plt\n",
    "\n",
    "# Below is a special function that allows matplotlib visualizations to display in Jupyter Notebooks\n",
    "%matplotlib inline "
   ]
  },
  {
   "cell_type": "markdown",
   "metadata": {},
   "source": [
    "Note that we need to specify the `.index` and `.values` attributes of our pandas object to tell matplotlib what to use for the x axis of our chart and the height of our bars."
   ]
  },
  {
   "cell_type": "code",
   "execution_count": 36,
   "metadata": {},
   "outputs": [
    {
     "data": {
      "text/plain": [
       "Text(0, 0.5, 'Total protests')"
      ]
     },
     "execution_count": 36,
     "metadata": {},
     "output_type": "execute_result"
    },
    {
     "data": {
      "image/png": "[encoded data removed]",
      "text/plain": [
       "<Figure size 432x288 with 1 Axes>"
      ]
     },
     "metadata": {
      "needs_background": "light"
     },
     "output_type": "display_data"
    }
   ],
   "source": [
    "# Create a bar chart showing the top 5 countries with the most protests\n",
    "plt.bar(x = Q2top.index, height = Q2top.values)\n",
    "plt.xlabel(\"Countries\")\n",
    "plt.ylabel(\"Total protests\")"
   ]
  },
  {
   "cell_type": "code",
   "execution_count": 37,
   "metadata": {},
   "outputs": [
    {
     "data": {
      "text/plain": [
       "Text(0, 0.5, 'Total protests')"
      ]
     },
     "execution_count": 37,
     "metadata": {},
     "output_type": "execute_result"
    },
    {
     "data": {
      "image/png": "[encoded data removed]",
      "text/plain": [
       "<Figure size 432x288 with 1 Axes>"
      ]
     },
     "metadata": {
      "needs_background": "light"
     },
     "output_type": "display_data"
    }
   ],
   "source": [
    "# Create a bar chart showing the top 5 countries with the least protests\n",
    "plt.bar(x = Q2bot.index, height = Q2bot.values)\n",
    "plt.xlabel(\"Countries\")\n",
    "plt.ylabel(\"Total protests\")"
   ]
  },
  {
   "cell_type": "markdown",
   "metadata": {},
   "source": [
    "Uh oh! Our country names are so long that they overlap one another. We could always make our chart larger, but why not use a horizontal bar chart instead? Then, we don't have to worry about the length of the labels on our bars.\n",
    "\n",
    "This time, we'll use the `barh` method and specify the data for the y axis and bar widths."
   ]
  },
  {
   "cell_type": "code",
   "execution_count": 38,
   "metadata": {},
   "outputs": [
    {
     "data": {
      "text/plain": [
       "Text(0.5, 0, 'Total protests')"
      ]
     },
     "execution_count": 38,
     "metadata": {},
     "output_type": "execute_result"
    },
    {
     "data": {
      "image/png": "[encoded data removed]",
      "text/plain": [
       "<Figure size 432x288 with 1 Axes>"
      ]
     },
     "metadata": {
      "needs_background": "light"
     },
     "output_type": "display_data"
    }
   ],
   "source": [
    "plt.barh(y = Q2bot.index, width = Q2bot.values)\n",
    "plt.ylabel(\"Countries\")\n",
    "plt.xlabel(\"Total protests\")"
   ]
  },
  {
   "cell_type": "markdown",
   "metadata": {},
   "source": [
    "## Question 3: Are length and size of protests different in various regions of the world?"
   ]
  },
  {
   "cell_type": "code",
   "execution_count": 22,
   "metadata": {},
   "outputs": [
    {
     "name": "stdout",
     "output_type": "stream",
     "text": [
      "<class 'pandas.core.frame.DataFrame'>\n",
      "RangeIndex: 17145 entries, 0 to 17144\n",
      "Data columns (total 8 columns):\n",
      " #   Column        Non-Null Count  Dtype  \n",
      "---  ------        --------------  -----  \n",
      " 0   region        17145 non-null  object \n",
      " 1   startyear     15239 non-null  float64\n",
      " 2   startmonth    15239 non-null  float64\n",
      " 3   startday      15239 non-null  float64\n",
      " 4   endyear       15239 non-null  float64\n",
      " 5   endmonth      15239 non-null  float64\n",
      " 6   endday        15239 non-null  float64\n",
      " 7   participants  15746 non-null  object \n",
      "dtypes: float64(6), object(2)\n",
      "memory usage: 1.0+ MB\n"
     ]
    }
   ],
   "source": [
    "Q3 = protests[[\"region\", \n",
    "               \"startyear\", \"startmonth\", \"startday\", \n",
    "               \"endyear\", \"endmonth\", \"endday\", \n",
    "               \"participants\"]].copy()\n",
    "Q3.info()"
   ]
  },
  {
   "cell_type": "code",
   "execution_count": 23,
   "metadata": {},
   "outputs": [
    {
     "data": {
      "text/plain": [
       "0            1000s\n",
       "1             1000\n",
       "2              500\n",
       "3             100s\n",
       "4              950\n",
       "           ...    \n",
       "17140          50+\n",
       "17141    About 100\n",
       "17142          NaN\n",
       "17143          NaN\n",
       "17144          NaN\n",
       "Name: participants, Length: 17145, dtype: object"
      ]
     },
     "execution_count": 23,
     "metadata": {},
     "output_type": "execute_result"
    }
   ],
   "source": [
    "Q3[\"participants\"]"
   ]
  },
  {
   "cell_type": "code",
   "execution_count": 25,
   "metadata": {},
   "outputs": [
    {
     "data": {
      "text/plain": [
       "0        1000\n",
       "1        1000\n",
       "2         500\n",
       "3         100\n",
       "4         950\n",
       "         ... \n",
       "17140      50\n",
       "17141     100\n",
       "17142     NaN\n",
       "17143     NaN\n",
       "17144     NaN\n",
       "Name: participants, Length: 17145, dtype: object"
      ]
     },
     "execution_count": 25,
     "metadata": {},
     "output_type": "execute_result"
    }
   ],
   "source": [
    "Q3[\"participants\"] = Q3[\"participants\"].str.extract(\"(\\d+)\")\n",
    "Q3[\"participants\"]"
   ]
  },
  {
   "cell_type": "code",
   "execution_count": 27,
   "metadata": {},
   "outputs": [
    {
     "name": "stdout",
     "output_type": "stream",
     "text": [
      "<class 'pandas.core.frame.DataFrame'>\n",
      "Int64Index: 13988 entries, 0 to 17141\n",
      "Data columns (total 8 columns):\n",
      " #   Column        Non-Null Count  Dtype \n",
      "---  ------        --------------  ----- \n",
      " 0   region        13988 non-null  object\n",
      " 1   startyear     13988 non-null  int64 \n",
      " 2   startmonth    13988 non-null  int64 \n",
      " 3   startday      13988 non-null  int64 \n",
      " 4   endyear       13988 non-null  int64 \n",
      " 5   endmonth      13988 non-null  int64 \n",
      " 6   endday        13988 non-null  int64 \n",
      " 7   participants  13988 non-null  int64 \n",
      "dtypes: int64(7), object(1)\n",
      "memory usage: 983.5+ KB\n"
     ]
    }
   ],
   "source": [
    "Q3 = Q3.dropna()\n",
    "Q3.iloc[:,1:8] = Q3.iloc[:,1:8].astype(\"int64\")\n",
    "Q3.info()"
   ]
  },
  {
   "cell_type": "code",
   "execution_count": 28,
   "metadata": {},
   "outputs": [
    {
     "data": {
      "text/html": [
       "<div>\n",
       "<style scoped>\n",
       "    .dataframe tbody tr th:only-of-type {\n",
       "        vertical-align: middle;\n",
       "    }\n",
       "\n",
       "    .dataframe tbody tr th {\n",
       "        vertical-align: top;\n",
       "    }\n",
       "\n",
       "    .dataframe thead th {\n",
       "        text-align: right;\n",
       "    }\n",
       "</style>\n",
       "<table border=\"1\" class=\"dataframe\">\n",
       "  <thead>\n",
       "    <tr style=\"text-align: right;\">\n",
       "      <th></th>\n",
       "      <th>startdate</th>\n",
       "      <th>enddate</th>\n",
       "    </tr>\n",
       "  </thead>\n",
       "  <tbody>\n",
       "    <tr>\n",
       "      <th>0</th>\n",
       "      <td>1990-01-15</td>\n",
       "      <td>1990-01-15</td>\n",
       "    </tr>\n",
       "    <tr>\n",
       "      <th>1</th>\n",
       "      <td>1990-06-25</td>\n",
       "      <td>1990-06-25</td>\n",
       "    </tr>\n",
       "    <tr>\n",
       "      <th>2</th>\n",
       "      <td>1990-07-01</td>\n",
       "      <td>1990-07-01</td>\n",
       "    </tr>\n",
       "    <tr>\n",
       "      <th>3</th>\n",
       "      <td>1990-07-12</td>\n",
       "      <td>1990-09-06</td>\n",
       "    </tr>\n",
       "    <tr>\n",
       "      <th>4</th>\n",
       "      <td>1990-08-14</td>\n",
       "      <td>1990-08-15</td>\n",
       "    </tr>\n",
       "  </tbody>\n",
       "</table>\n",
       "</div>"
      ],
      "text/plain": [
       "   startdate    enddate\n",
       "0 1990-01-15 1990-01-15\n",
       "1 1990-06-25 1990-06-25\n",
       "2 1990-07-01 1990-07-01\n",
       "3 1990-07-12 1990-09-06\n",
       "4 1990-08-14 1990-08-15"
      ]
     },
     "execution_count": 28,
     "metadata": {},
     "output_type": "execute_result"
    }
   ],
   "source": [
    "# create dictionaries that specify which columns represent years, months and days\n",
    "startdict = dict(year = protests[\"startyear\"], month = protests[\"startmonth\"], day = protests[\"startday\"])\n",
    "enddict = dict(year = protests[\"endyear\"], month = protests[\"endmonth\"], day = protests[\"endday\"])\n",
    "\n",
    "# create columns for start and end dates\n",
    "Q3[\"startdate\"] = pd.to_datetime(startdict)\n",
    "Q3[\"enddate\"] = pd.to_datetime(enddict)\n",
    "\n",
    "# preview the new columns\n",
    "Q3[[\"startdate\", \"enddate\"]].head()"
   ]
  },
  {
   "cell_type": "code",
   "execution_count": 31,
   "metadata": {},
   "outputs": [
    {
     "data": {
      "text/html": [
       "<div>\n",
       "<style scoped>\n",
       "    .dataframe tbody tr th:only-of-type {\n",
       "        vertical-align: middle;\n",
       "    }\n",
       "\n",
       "    .dataframe tbody tr th {\n",
       "        vertical-align: top;\n",
       "    }\n",
       "\n",
       "    .dataframe thead th {\n",
       "        text-align: right;\n",
       "    }\n",
       "</style>\n",
       "<table border=\"1\" class=\"dataframe\">\n",
       "  <thead>\n",
       "    <tr style=\"text-align: right;\">\n",
       "      <th></th>\n",
       "      <th>region</th>\n",
       "      <th>startyear</th>\n",
       "      <th>startmonth</th>\n",
       "      <th>startday</th>\n",
       "      <th>endyear</th>\n",
       "      <th>endmonth</th>\n",
       "      <th>endday</th>\n",
       "      <th>participants</th>\n",
       "      <th>startdate</th>\n",
       "      <th>enddate</th>\n",
       "      <th>protestlength</th>\n",
       "    </tr>\n",
       "  </thead>\n",
       "  <tbody>\n",
       "    <tr>\n",
       "      <th>0</th>\n",
       "      <td>North America</td>\n",
       "      <td>1990</td>\n",
       "      <td>1</td>\n",
       "      <td>15</td>\n",
       "      <td>1990</td>\n",
       "      <td>1</td>\n",
       "      <td>15</td>\n",
       "      <td>1000</td>\n",
       "      <td>1990-01-15</td>\n",
       "      <td>1990-01-15</td>\n",
       "      <td>0</td>\n",
       "    </tr>\n",
       "    <tr>\n",
       "      <th>1</th>\n",
       "      <td>North America</td>\n",
       "      <td>1990</td>\n",
       "      <td>6</td>\n",
       "      <td>25</td>\n",
       "      <td>1990</td>\n",
       "      <td>6</td>\n",
       "      <td>25</td>\n",
       "      <td>1000</td>\n",
       "      <td>1990-06-25</td>\n",
       "      <td>1990-06-25</td>\n",
       "      <td>0</td>\n",
       "    </tr>\n",
       "    <tr>\n",
       "      <th>2</th>\n",
       "      <td>North America</td>\n",
       "      <td>1990</td>\n",
       "      <td>7</td>\n",
       "      <td>1</td>\n",
       "      <td>1990</td>\n",
       "      <td>7</td>\n",
       "      <td>1</td>\n",
       "      <td>500</td>\n",
       "      <td>1990-07-01</td>\n",
       "      <td>1990-07-01</td>\n",
       "      <td>0</td>\n",
       "    </tr>\n",
       "    <tr>\n",
       "      <th>3</th>\n",
       "      <td>North America</td>\n",
       "      <td>1990</td>\n",
       "      <td>7</td>\n",
       "      <td>12</td>\n",
       "      <td>1990</td>\n",
       "      <td>9</td>\n",
       "      <td>6</td>\n",
       "      <td>100</td>\n",
       "      <td>1990-07-12</td>\n",
       "      <td>1990-09-06</td>\n",
       "      <td>56</td>\n",
       "    </tr>\n",
       "    <tr>\n",
       "      <th>4</th>\n",
       "      <td>North America</td>\n",
       "      <td>1990</td>\n",
       "      <td>8</td>\n",
       "      <td>14</td>\n",
       "      <td>1990</td>\n",
       "      <td>8</td>\n",
       "      <td>15</td>\n",
       "      <td>950</td>\n",
       "      <td>1990-08-14</td>\n",
       "      <td>1990-08-15</td>\n",
       "      <td>1</td>\n",
       "    </tr>\n",
       "  </tbody>\n",
       "</table>\n",
       "</div>"
      ],
      "text/plain": [
       "          region  startyear  startmonth  startday  endyear  endmonth  endday  \\\n",
       "0  North America       1990           1        15     1990         1      15   \n",
       "1  North America       1990           6        25     1990         6      25   \n",
       "2  North America       1990           7         1     1990         7       1   \n",
       "3  North America       1990           7        12     1990         9       6   \n",
       "4  North America       1990           8        14     1990         8      15   \n",
       "\n",
       "   participants  startdate    enddate  protestlength  \n",
       "0          1000 1990-01-15 1990-01-15              0  \n",
       "1          1000 1990-06-25 1990-06-25              0  \n",
       "2           500 1990-07-01 1990-07-01              0  \n",
       "3           100 1990-07-12 1990-09-06             56  \n",
       "4           950 1990-08-14 1990-08-15              1  "
      ]
     },
     "execution_count": 31,
     "metadata": {},
     "output_type": "execute_result"
    }
   ],
   "source": [
    "#subtract start date from end date and show the result as number of days\n",
    "Q3[\"protestlength\"] = Q3[\"enddate\"] - Q3[\"startdate\"]\n",
    "Q3[\"protestlength\"] = Q3[\"protestlength\"].dt.days\n",
    "Q3.head()"
   ]
  },
  {
   "cell_type": "code",
   "execution_count": 50,
   "metadata": {},
   "outputs": [
    {
     "ename": "AttributeError",
     "evalue": "'FacetGrid' object has no attribute 'ticklabel_format'",
     "output_type": "error",
     "traceback": [
      "\u001b[1;31m---------------------------------------------------------------------------\u001b[0m",
      "\u001b[1;31mAttributeError\u001b[0m                            Traceback (most recent call last)",
      "\u001b[1;32m<ipython-input-50-a62eafd28130>\u001b[0m in \u001b[0;36m<module>\u001b[1;34m\u001b[0m\n\u001b[0;32m      3\u001b[0m \u001b[0mgrid\u001b[0m \u001b[1;33m=\u001b[0m \u001b[0msns\u001b[0m\u001b[1;33m.\u001b[0m\u001b[0mFacetGrid\u001b[0m\u001b[1;33m(\u001b[0m\u001b[0mdata\u001b[0m \u001b[1;33m=\u001b[0m \u001b[0mQ3\u001b[0m\u001b[1;33m,\u001b[0m \u001b[0mcol\u001b[0m\u001b[1;33m=\u001b[0m\u001b[1;34m\"region\"\u001b[0m\u001b[1;33m,\u001b[0m \u001b[0mcol_wrap\u001b[0m \u001b[1;33m=\u001b[0m \u001b[1;36m4\u001b[0m\u001b[1;33m)\u001b[0m\u001b[1;33m\u001b[0m\u001b[1;33m\u001b[0m\u001b[0m\n\u001b[0;32m      4\u001b[0m \u001b[0mgrid\u001b[0m\u001b[1;33m.\u001b[0m\u001b[0mmap_dataframe\u001b[0m\u001b[1;33m(\u001b[0m\u001b[0msns\u001b[0m\u001b[1;33m.\u001b[0m\u001b[0mscatterplot\u001b[0m\u001b[1;33m,\u001b[0m \u001b[0mx\u001b[0m \u001b[1;33m=\u001b[0m \u001b[1;34m\"protestlength\"\u001b[0m\u001b[1;33m,\u001b[0m \u001b[0my\u001b[0m \u001b[1;33m=\u001b[0m \u001b[1;34m\"participants\"\u001b[0m\u001b[1;33m)\u001b[0m\u001b[1;33m\u001b[0m\u001b[1;33m\u001b[0m\u001b[0m\n\u001b[1;32m----> 5\u001b[1;33m \u001b[0mgrid\u001b[0m\u001b[1;33m.\u001b[0m\u001b[0mticklabel_format\u001b[0m\u001b[1;33m(\u001b[0m\u001b[0maxis\u001b[0m \u001b[1;33m=\u001b[0m \u001b[1;34m\"both\"\u001b[0m\u001b[1;33m,\u001b[0m \u001b[0mstyle\u001b[0m \u001b[1;33m=\u001b[0m \u001b[1;34m\"plain\"\u001b[0m\u001b[1;33m)\u001b[0m\u001b[1;33m\u001b[0m\u001b[1;33m\u001b[0m\u001b[0m\n\u001b[0m",
      "\u001b[1;31mAttributeError\u001b[0m: 'FacetGrid' object has no attribute 'ticklabel_format'"
     ]
    },
    {
     "data": {
      "image/png": "[encoded data removed]",
      "text/plain": [
       "<Figure size 864x432 with 8 Axes>"
      ]
     },
     "metadata": {
      "needs_background": "light"
     },
     "output_type": "display_data"
    }
   ],
   "source": [
    "import seaborn as sns\n",
    "\n",
    "grid = sns.FacetGrid(data = Q3, col=\"region\", col_wrap = 4)\n",
    "grid.map_dataframe(sns.scatterplot, x = \"protestlength\", y = \"participants\")\n",
    "grid.ticklabel_format(axis = \"both\", style = \"plain\")"
   ]
  },
  {
   "cell_type": "markdown",
   "metadata": {},
   "source": [
    "## Question 3: Are there any relationships between protest length, number of people, and whether or not there is violence?"
   ]
  },
  {
   "cell_type": "code",
   "execution_count": null,
   "metadata": {},
   "outputs": [],
   "source": []
  },
  {
   "cell_type": "code",
   "execution_count": 69,
   "metadata": {},
   "outputs": [
    {
     "name": "stdout",
     "output_type": "stream",
     "text": [
      "<class 'pandas.core.frame.DataFrame'>\n",
      "RangeIndex: 17145 entries, 0 to 17144\n",
      "Data columns (total 8 columns):\n",
      " #   Column             Non-Null Count  Dtype  \n",
      "---  ------             --------------  -----  \n",
      " 0   participants       15746 non-null  object \n",
      " 1   startyear          15239 non-null  float64\n",
      " 2   startmonth         15239 non-null  float64\n",
      " 3   startday           15239 non-null  float64\n",
      " 4   endyear            15239 non-null  float64\n",
      " 5   endmonth           15239 non-null  float64\n",
      " 6   endday             15239 non-null  float64\n",
      " 7   protesterviolence  15758 non-null  float64\n",
      "dtypes: float64(7), object(1)\n",
      "memory usage: 1.0+ MB\n"
     ]
    }
   ],
   "source": [
    "Q3 = protests[[\"participants\", \n",
    "               \"startyear\", \"startmonth\", \"startday\", \n",
    "               \"endyear\", \"endmonth\", \"endday\", \n",
    "               \"protesterviolence\"]].copy()\n",
    "Q3.info()"
   ]
  },
  {
   "cell_type": "code",
   "execution_count": 70,
   "metadata": {},
   "outputs": [
    {
     "data": {
      "text/plain": [
       "0            1000s\n",
       "1             1000\n",
       "2              500\n",
       "3             100s\n",
       "4              950\n",
       "           ...    \n",
       "17140          50+\n",
       "17141    About 100\n",
       "17142          NaN\n",
       "17143          NaN\n",
       "17144          NaN\n",
       "Name: participants, Length: 17145, dtype: object"
      ]
     },
     "execution_count": 70,
     "metadata": {},
     "output_type": "execute_result"
    }
   ],
   "source": [
    "Q3[\"participants\"]"
   ]
  },
  {
   "cell_type": "code",
   "execution_count": 71,
   "metadata": {},
   "outputs": [
    {
     "data": {
      "text/plain": [
       "0        1000\n",
       "1        1000\n",
       "2         500\n",
       "3         100\n",
       "4         950\n",
       "         ... \n",
       "17140      50\n",
       "17141     100\n",
       "17142     NaN\n",
       "17143     NaN\n",
       "17144     NaN\n",
       "Name: participants, Length: 17145, dtype: object"
      ]
     },
     "execution_count": 71,
     "metadata": {},
     "output_type": "execute_result"
    }
   ],
   "source": [
    "Q3[\"participants\"] = Q3[\"participants\"].str.extract(\"(\\d+)\")\n",
    "Q3[\"participants\"]"
   ]
  },
  {
   "cell_type": "code",
   "execution_count": 72,
   "metadata": {},
   "outputs": [
    {
     "name": "stdout",
     "output_type": "stream",
     "text": [
      "<class 'pandas.core.frame.DataFrame'>\n",
      "Int64Index: 13988 entries, 0 to 17141\n",
      "Data columns (total 8 columns):\n",
      " #   Column             Non-Null Count  Dtype\n",
      "---  ------             --------------  -----\n",
      " 0   participants       13988 non-null  int64\n",
      " 1   startyear          13988 non-null  int64\n",
      " 2   startmonth         13988 non-null  int64\n",
      " 3   startday           13988 non-null  int64\n",
      " 4   endyear            13988 non-null  int64\n",
      " 5   endmonth           13988 non-null  int64\n",
      " 6   endday             13988 non-null  int64\n",
      " 7   protesterviolence  13988 non-null  int64\n",
      "dtypes: int64(8)\n",
      "memory usage: 983.5 KB\n"
     ]
    }
   ],
   "source": [
    "Q3 = Q3.dropna().astype(\"int64\")\n",
    "Q3.info()"
   ]
  },
  {
   "cell_type": "code",
   "execution_count": 73,
   "metadata": {},
   "outputs": [
    {
     "data": {
      "text/html": [
       "<div>\n",
       "<style scoped>\n",
       "    .dataframe tbody tr th:only-of-type {\n",
       "        vertical-align: middle;\n",
       "    }\n",
       "\n",
       "    .dataframe tbody tr th {\n",
       "        vertical-align: top;\n",
       "    }\n",
       "\n",
       "    .dataframe thead th {\n",
       "        text-align: right;\n",
       "    }\n",
       "</style>\n",
       "<table border=\"1\" class=\"dataframe\">\n",
       "  <thead>\n",
       "    <tr style=\"text-align: right;\">\n",
       "      <th></th>\n",
       "      <th>startdate</th>\n",
       "      <th>enddate</th>\n",
       "    </tr>\n",
       "  </thead>\n",
       "  <tbody>\n",
       "    <tr>\n",
       "      <th>0</th>\n",
       "      <td>1990-01-15</td>\n",
       "      <td>1990-01-15</td>\n",
       "    </tr>\n",
       "    <tr>\n",
       "      <th>1</th>\n",
       "      <td>1990-06-25</td>\n",
       "      <td>1990-06-25</td>\n",
       "    </tr>\n",
       "    <tr>\n",
       "      <th>2</th>\n",
       "      <td>1990-07-01</td>\n",
       "      <td>1990-07-01</td>\n",
       "    </tr>\n",
       "    <tr>\n",
       "      <th>3</th>\n",
       "      <td>1990-07-12</td>\n",
       "      <td>1990-09-06</td>\n",
       "    </tr>\n",
       "    <tr>\n",
       "      <th>4</th>\n",
       "      <td>1990-08-14</td>\n",
       "      <td>1990-08-15</td>\n",
       "    </tr>\n",
       "  </tbody>\n",
       "</table>\n",
       "</div>"
      ],
      "text/plain": [
       "   startdate    enddate\n",
       "0 1990-01-15 1990-01-15\n",
       "1 1990-06-25 1990-06-25\n",
       "2 1990-07-01 1990-07-01\n",
       "3 1990-07-12 1990-09-06\n",
       "4 1990-08-14 1990-08-15"
      ]
     },
     "execution_count": 73,
     "metadata": {},
     "output_type": "execute_result"
    }
   ],
   "source": [
    "# create dictionaries that specify which columns represent years, months and days\n",
    "startdict = dict(year = protests[\"startyear\"], month = protests[\"startmonth\"], day = protests[\"startday\"])\n",
    "enddict = dict(year = protests[\"endyear\"], month = protests[\"endmonth\"], day = protests[\"endday\"])\n",
    "\n",
    "# create columns for start and end dates\n",
    "Q3[\"startdate\"] = pd.to_datetime(startdict)\n",
    "Q3[\"enddate\"] = pd.to_datetime(enddict)\n",
    "\n",
    "# preview the new columns\n",
    "Q3[[\"startdate\", \"enddate\"]].head()"
   ]
  },
  {
   "cell_type": "code",
   "execution_count": 29,
   "metadata": {},
   "outputs": [
    {
     "data": {
      "text/html": [
       "<div>\n",
       "<style scoped>\n",
       "    .dataframe tbody tr th:only-of-type {\n",
       "        vertical-align: middle;\n",
       "    }\n",
       "\n",
       "    .dataframe tbody tr th {\n",
       "        vertical-align: top;\n",
       "    }\n",
       "\n",
       "    .dataframe thead th {\n",
       "        text-align: right;\n",
       "    }\n",
       "</style>\n",
       "<table border=\"1\" class=\"dataframe\">\n",
       "  <thead>\n",
       "    <tr style=\"text-align: right;\">\n",
       "      <th></th>\n",
       "      <th>region</th>\n",
       "      <th>startyear</th>\n",
       "      <th>startmonth</th>\n",
       "      <th>startday</th>\n",
       "      <th>endyear</th>\n",
       "      <th>endmonth</th>\n",
       "      <th>endday</th>\n",
       "      <th>participants</th>\n",
       "      <th>startdate</th>\n",
       "      <th>enddate</th>\n",
       "      <th>protestlength</th>\n",
       "    </tr>\n",
       "  </thead>\n",
       "  <tbody>\n",
       "    <tr>\n",
       "      <th>0</th>\n",
       "      <td>North America</td>\n",
       "      <td>1990</td>\n",
       "      <td>1</td>\n",
       "      <td>15</td>\n",
       "      <td>1990</td>\n",
       "      <td>1</td>\n",
       "      <td>15</td>\n",
       "      <td>1000</td>\n",
       "      <td>1990-01-15</td>\n",
       "      <td>1990-01-15</td>\n",
       "      <td>0</td>\n",
       "    </tr>\n",
       "    <tr>\n",
       "      <th>1</th>\n",
       "      <td>North America</td>\n",
       "      <td>1990</td>\n",
       "      <td>6</td>\n",
       "      <td>25</td>\n",
       "      <td>1990</td>\n",
       "      <td>6</td>\n",
       "      <td>25</td>\n",
       "      <td>1000</td>\n",
       "      <td>1990-06-25</td>\n",
       "      <td>1990-06-25</td>\n",
       "      <td>0</td>\n",
       "    </tr>\n",
       "    <tr>\n",
       "      <th>2</th>\n",
       "      <td>North America</td>\n",
       "      <td>1990</td>\n",
       "      <td>7</td>\n",
       "      <td>1</td>\n",
       "      <td>1990</td>\n",
       "      <td>7</td>\n",
       "      <td>1</td>\n",
       "      <td>500</td>\n",
       "      <td>1990-07-01</td>\n",
       "      <td>1990-07-01</td>\n",
       "      <td>0</td>\n",
       "    </tr>\n",
       "    <tr>\n",
       "      <th>3</th>\n",
       "      <td>North America</td>\n",
       "      <td>1990</td>\n",
       "      <td>7</td>\n",
       "      <td>12</td>\n",
       "      <td>1990</td>\n",
       "      <td>9</td>\n",
       "      <td>6</td>\n",
       "      <td>100</td>\n",
       "      <td>1990-07-12</td>\n",
       "      <td>1990-09-06</td>\n",
       "      <td>56</td>\n",
       "    </tr>\n",
       "    <tr>\n",
       "      <th>4</th>\n",
       "      <td>North America</td>\n",
       "      <td>1990</td>\n",
       "      <td>8</td>\n",
       "      <td>14</td>\n",
       "      <td>1990</td>\n",
       "      <td>8</td>\n",
       "      <td>15</td>\n",
       "      <td>950</td>\n",
       "      <td>1990-08-14</td>\n",
       "      <td>1990-08-15</td>\n",
       "      <td>1</td>\n",
       "    </tr>\n",
       "  </tbody>\n",
       "</table>\n",
       "</div>"
      ],
      "text/plain": [
       "          region  startyear  startmonth  startday  endyear  endmonth  endday  \\\n",
       "0  North America       1990           1        15     1990         1      15   \n",
       "1  North America       1990           6        25     1990         6      25   \n",
       "2  North America       1990           7         1     1990         7       1   \n",
       "3  North America       1990           7        12     1990         9       6   \n",
       "4  North America       1990           8        14     1990         8      15   \n",
       "\n",
       "   participants  startdate    enddate  protestlength  \n",
       "0          1000 1990-01-15 1990-01-15              0  \n",
       "1          1000 1990-06-25 1990-06-25              0  \n",
       "2           500 1990-07-01 1990-07-01              0  \n",
       "3           100 1990-07-12 1990-09-06             56  \n",
       "4           950 1990-08-14 1990-08-15              1  "
      ]
     },
     "execution_count": 29,
     "metadata": {},
     "output_type": "execute_result"
    }
   ],
   "source": [
    "#subtract start date from end date and show the result as number of days\n",
    "Q3[\"protestlength\"] = Q3[\"enddate\"] - Q3[\"startdate\"]\n",
    "Q3[\"protestlength\"] = Q3[\"protestlength\"].dt.days\n",
    "Q3.head()"
   ]
  },
  {
   "cell_type": "code",
   "execution_count": 74,
   "metadata": {},
   "outputs": [
    {
     "data": {
      "text/html": [
       "<div>\n",
       "<style scoped>\n",
       "    .dataframe tbody tr th:only-of-type {\n",
       "        vertical-align: middle;\n",
       "    }\n",
       "\n",
       "    .dataframe tbody tr th {\n",
       "        vertical-align: top;\n",
       "    }\n",
       "\n",
       "    .dataframe thead th {\n",
       "        text-align: right;\n",
       "    }\n",
       "</style>\n",
       "<table border=\"1\" class=\"dataframe\">\n",
       "  <thead>\n",
       "    <tr style=\"text-align: right;\">\n",
       "      <th></th>\n",
       "      <th>participants</th>\n",
       "      <th>startyear</th>\n",
       "      <th>startmonth</th>\n",
       "      <th>startday</th>\n",
       "      <th>endyear</th>\n",
       "      <th>endmonth</th>\n",
       "      <th>endday</th>\n",
       "      <th>protesterviolence</th>\n",
       "      <th>startdate</th>\n",
       "      <th>enddate</th>\n",
       "      <th>protestlength</th>\n",
       "    </tr>\n",
       "  </thead>\n",
       "  <tbody>\n",
       "    <tr>\n",
       "      <th>0</th>\n",
       "      <td>1000</td>\n",
       "      <td>1990</td>\n",
       "      <td>1</td>\n",
       "      <td>15</td>\n",
       "      <td>1990</td>\n",
       "      <td>1</td>\n",
       "      <td>15</td>\n",
       "      <td>0</td>\n",
       "      <td>1990-01-15</td>\n",
       "      <td>1990-01-15</td>\n",
       "      <td>0</td>\n",
       "    </tr>\n",
       "    <tr>\n",
       "      <th>1</th>\n",
       "      <td>1000</td>\n",
       "      <td>1990</td>\n",
       "      <td>6</td>\n",
       "      <td>25</td>\n",
       "      <td>1990</td>\n",
       "      <td>6</td>\n",
       "      <td>25</td>\n",
       "      <td>0</td>\n",
       "      <td>1990-06-25</td>\n",
       "      <td>1990-06-25</td>\n",
       "      <td>0</td>\n",
       "    </tr>\n",
       "    <tr>\n",
       "      <th>2</th>\n",
       "      <td>500</td>\n",
       "      <td>1990</td>\n",
       "      <td>7</td>\n",
       "      <td>1</td>\n",
       "      <td>1990</td>\n",
       "      <td>7</td>\n",
       "      <td>1</td>\n",
       "      <td>0</td>\n",
       "      <td>1990-07-01</td>\n",
       "      <td>1990-07-01</td>\n",
       "      <td>0</td>\n",
       "    </tr>\n",
       "    <tr>\n",
       "      <th>3</th>\n",
       "      <td>100</td>\n",
       "      <td>1990</td>\n",
       "      <td>7</td>\n",
       "      <td>12</td>\n",
       "      <td>1990</td>\n",
       "      <td>9</td>\n",
       "      <td>6</td>\n",
       "      <td>1</td>\n",
       "      <td>1990-07-12</td>\n",
       "      <td>1990-09-06</td>\n",
       "      <td>56</td>\n",
       "    </tr>\n",
       "    <tr>\n",
       "      <th>4</th>\n",
       "      <td>950</td>\n",
       "      <td>1990</td>\n",
       "      <td>8</td>\n",
       "      <td>14</td>\n",
       "      <td>1990</td>\n",
       "      <td>8</td>\n",
       "      <td>15</td>\n",
       "      <td>1</td>\n",
       "      <td>1990-08-14</td>\n",
       "      <td>1990-08-15</td>\n",
       "      <td>1</td>\n",
       "    </tr>\n",
       "  </tbody>\n",
       "</table>\n",
       "</div>"
      ],
      "text/plain": [
       "   participants  startyear  startmonth  startday  endyear  endmonth  endday  \\\n",
       "0          1000       1990           1        15     1990         1      15   \n",
       "1          1000       1990           6        25     1990         6      25   \n",
       "2           500       1990           7         1     1990         7       1   \n",
       "3           100       1990           7        12     1990         9       6   \n",
       "4           950       1990           8        14     1990         8      15   \n",
       "\n",
       "   protesterviolence  startdate    enddate  protestlength  \n",
       "0                  0 1990-01-15 1990-01-15              0  \n",
       "1                  0 1990-06-25 1990-06-25              0  \n",
       "2                  0 1990-07-01 1990-07-01              0  \n",
       "3                  1 1990-07-12 1990-09-06             56  \n",
       "4                  1 1990-08-14 1990-08-15              1  "
      ]
     },
     "execution_count": 74,
     "metadata": {},
     "output_type": "execute_result"
    }
   ],
   "source": [
    "#subtract start date from end date and show the result as number of days\n",
    "Q3[\"protestlength\"] = Q3[\"enddate\"] - Q3[\"startdate\"]\n",
    "Q3[\"protestlength\"] = Q3[\"protestlength\"].dt.days\n",
    "Q3.head()"
   ]
  },
  {
   "cell_type": "code",
   "execution_count": 75,
   "metadata": {},
   "outputs": [
    {
     "data": {
      "text/html": [
       "<div>\n",
       "<style scoped>\n",
       "    .dataframe tbody tr th:only-of-type {\n",
       "        vertical-align: middle;\n",
       "    }\n",
       "\n",
       "    .dataframe tbody tr th {\n",
       "        vertical-align: top;\n",
       "    }\n",
       "\n",
       "    .dataframe thead th {\n",
       "        text-align: right;\n",
       "    }\n",
       "</style>\n",
       "<table border=\"1\" class=\"dataframe\">\n",
       "  <thead>\n",
       "    <tr style=\"text-align: right;\">\n",
       "      <th></th>\n",
       "      <th>participants</th>\n",
       "      <th>protestlength</th>\n",
       "      <th>protesterviolence</th>\n",
       "    </tr>\n",
       "  </thead>\n",
       "  <tbody>\n",
       "    <tr>\n",
       "      <th>0</th>\n",
       "      <td>1000</td>\n",
       "      <td>0</td>\n",
       "      <td>False</td>\n",
       "    </tr>\n",
       "    <tr>\n",
       "      <th>1</th>\n",
       "      <td>1000</td>\n",
       "      <td>0</td>\n",
       "      <td>False</td>\n",
       "    </tr>\n",
       "    <tr>\n",
       "      <th>2</th>\n",
       "      <td>500</td>\n",
       "      <td>0</td>\n",
       "      <td>False</td>\n",
       "    </tr>\n",
       "    <tr>\n",
       "      <th>3</th>\n",
       "      <td>100</td>\n",
       "      <td>56</td>\n",
       "      <td>True</td>\n",
       "    </tr>\n",
       "    <tr>\n",
       "      <th>4</th>\n",
       "      <td>950</td>\n",
       "      <td>1</td>\n",
       "      <td>True</td>\n",
       "    </tr>\n",
       "  </tbody>\n",
       "</table>\n",
       "</div>"
      ],
      "text/plain": [
       "   participants  protestlength  protesterviolence\n",
       "0          1000              0              False\n",
       "1          1000              0              False\n",
       "2           500              0              False\n",
       "3           100             56               True\n",
       "4           950              1               True"
      ]
     },
     "execution_count": 75,
     "metadata": {},
     "output_type": "execute_result"
    }
   ],
   "source": [
    "#change protesterviolence to boolean (true/false) data type\n",
    "Q3[\"protesterviolence\"] = Q3[\"protesterviolence\"].astype(bool)\n",
    "\n",
    "#select only the columns we need for visualization\n",
    "Q3 = Q3[[\"participants\", \"protestlength\", \"protesterviolence\"]]\n",
    "\n",
    "Q3.head()"
   ]
  },
  {
   "cell_type": "code",
   "execution_count": 76,
   "metadata": {},
   "outputs": [
    {
     "data": {
      "image/png": "[encoded data removed]",
      "text/plain": [
       "<Figure size 432x288 with 1 Axes>"
      ]
     },
     "metadata": {
      "needs_background": "light"
     },
     "output_type": "display_data"
    }
   ],
   "source": [
    "import seaborn as sns\n",
    "\n",
    "Q3plt = sns.scatterplot(data = Q3, x = \"protestlength\", y = \"participants\", hue = \"protesterviolence\")\n",
    "Q3plt.ticklabel_format(axis = \"both\", style = \"plain\")"
   ]
  },
  {
   "cell_type": "code",
   "execution_count": 80,
   "metadata": {},
   "outputs": [
    {
     "data": {
      "text/plain": [
       "ignore             8239\n",
       "crowd dispersal    3935\n",
       "arrests            1088\n",
       "accomodation        956\n",
       "shootings           424\n",
       "beatings            303\n",
       "killings            263\n",
       "Name: stateresponse1, dtype: int64"
      ]
     },
     "execution_count": 80,
     "metadata": {},
     "output_type": "execute_result"
    }
   ],
   "source": [
    "protests[\"stateresponse1\"].value_counts()"
   ]
  },
  {
   "cell_type": "markdown",
   "metadata": {},
   "source": [
    "### Explore"
   ]
  },
  {
   "cell_type": "markdown",
   "metadata": {},
   "source": [
    "Using summary statistics (average, minimum, maximum, etc.) are an essential part of exploring a dataset. When summarizing our data in pandas, we'll often want to aggregate our data within a certain group like state, region, diviision, etc. The `.groupby()` method allows us to do so. Below, we use **chained methods** to group our data by state before getting the average health care costs."
   ]
  },
  {
   "cell_type": "code",
   "execution_count": 20,
   "metadata": {},
   "outputs": [
    {
     "data": {
      "text/plain": [
       "State\n",
       "AK     7103.239130\n",
       "AL    10218.865672\n",
       "AR     9671.146667\n",
       "AZ     8622.733333\n",
       "CA     8099.701754\n",
       "Name: Health care costs, dtype: float64"
      ]
     },
     "execution_count": 20,
     "metadata": {},
     "output_type": "execute_result"
    }
   ],
   "source": [
    "avgStCosts = df.groupby(\"State\").mean()[\"Health care costs\"]\n",
    "avgStCosts.head()"
   ]
  },
  {
   "cell_type": "markdown",
   "metadata": {},
   "source": [
    "&nbsp;\n",
    "\n",
    "If we want to sort our list of states from highest to lowest health care costs, we'll need to use the `.sort_values()` method. Let's also use chained methods again to round our numbers."
   ]
  },
  {
   "cell_type": "code",
   "execution_count": 21,
   "metadata": {},
   "outputs": [
    {
     "data": {
      "text/plain": [
       "State\n",
       "LA    11962.95\n",
       "MS    10992.99\n",
       "KY    10945.35\n",
       "TN    10840.74\n",
       "FL    10828.53\n",
       "Name: Health care costs, dtype: float64"
      ]
     },
     "execution_count": 21,
     "metadata": {},
     "output_type": "execute_result"
    }
   ],
   "source": [
    "avgStCosts = avgStCosts.sort_values(ascending = False).round(2)\n",
    "avgStCosts.head()"
   ]
  },
  {
   "cell_type": "markdown",
   "metadata": {},
   "source": [
    "&nbsp;\n",
    "\n",
    "Sorting our dataframes in pandas will often end up re-ordering the indices. Notice what happens to the **row numbers** of our dataset when we sort by a particular column."
   ]
  },
  {
   "cell_type": "code",
   "execution_count": 22,
   "metadata": {
    "scrolled": true
   },
   "outputs": [
    {
     "data": {
      "text/html": [
       "<div>\n",
       "<style scoped>\n",
       "    .dataframe tbody tr th:only-of-type {\n",
       "        vertical-align: middle;\n",
       "    }\n",
       "\n",
       "    .dataframe tbody tr th {\n",
       "        vertical-align: top;\n",
       "    }\n",
       "\n",
       "    .dataframe thead th {\n",
       "        text-align: right;\n",
       "    }\n",
       "</style>\n",
       "<table border=\"1\" class=\"dataframe\">\n",
       "  <thead>\n",
       "    <tr style=\"text-align: right;\">\n",
       "      <th></th>\n",
       "      <th>State</th>\n",
       "      <th>Region</th>\n",
       "      <th>Division</th>\n",
       "      <th>County</th>\n",
       "      <th>FIPS</th>\n",
       "      <th>GEOID</th>\n",
       "      <th>SMS Region</th>\n",
       "      <th>Year</th>\n",
       "      <th>Premature death</th>\n",
       "      <th>Poor or fair health</th>\n",
       "      <th>...</th>\n",
       "      <th>Drug poisoning deaths</th>\n",
       "      <th>Uninsured adults</th>\n",
       "      <th>Uninsured children</th>\n",
       "      <th>Health care costs</th>\n",
       "      <th>Could not see doctor due to cost</th>\n",
       "      <th>Other primary care providers</th>\n",
       "      <th>Median household income</th>\n",
       "      <th>Children eligible for free lunch</th>\n",
       "      <th>Homicide rate</th>\n",
       "      <th>Inadequate social support</th>\n",
       "    </tr>\n",
       "  </thead>\n",
       "  <tbody>\n",
       "    <tr>\n",
       "      <th>1769</th>\n",
       "      <td>KS</td>\n",
       "      <td>Midwest</td>\n",
       "      <td>West North Central</td>\n",
       "      <td>Cheyenne County</td>\n",
       "      <td>20023</td>\n",
       "      <td>20023</td>\n",
       "      <td>Insuff Data</td>\n",
       "      <td>1/1/2015</td>\n",
       "      <td>6113.0</td>\n",
       "      <td>0.045</td>\n",
       "      <td>...</td>\n",
       "      <td>NaN</td>\n",
       "      <td>0.187</td>\n",
       "      <td>0.099</td>\n",
       "      <td>11405.0</td>\n",
       "      <td>NaN</td>\n",
       "      <td>148.0</td>\n",
       "      <td>39317</td>\n",
       "      <td>0.368</td>\n",
       "      <td>NaN</td>\n",
       "      <td>NaN</td>\n",
       "    </tr>\n",
       "    <tr>\n",
       "      <th>1768</th>\n",
       "      <td>KS</td>\n",
       "      <td>Midwest</td>\n",
       "      <td>West North Central</td>\n",
       "      <td>Cheyenne County</td>\n",
       "      <td>20023</td>\n",
       "      <td>20023</td>\n",
       "      <td>Insuff Data</td>\n",
       "      <td>1/1/2014</td>\n",
       "      <td>NaN</td>\n",
       "      <td>0.045</td>\n",
       "      <td>...</td>\n",
       "      <td>NaN</td>\n",
       "      <td>0.197</td>\n",
       "      <td>0.095</td>\n",
       "      <td>11707.0</td>\n",
       "      <td>NaN</td>\n",
       "      <td>112.0</td>\n",
       "      <td>40810</td>\n",
       "      <td>0.361</td>\n",
       "      <td>NaN</td>\n",
       "      <td>NaN</td>\n",
       "    </tr>\n",
       "    <tr>\n",
       "      <th>1207</th>\n",
       "      <td>IA</td>\n",
       "      <td>Midwest</td>\n",
       "      <td>West North Central</td>\n",
       "      <td>Mitchell County</td>\n",
       "      <td>19131</td>\n",
       "      <td>19131</td>\n",
       "      <td>Insuff Data</td>\n",
       "      <td>1/1/2015</td>\n",
       "      <td>4231.0</td>\n",
       "      <td>0.047</td>\n",
       "      <td>...</td>\n",
       "      <td>NaN</td>\n",
       "      <td>0.124</td>\n",
       "      <td>0.049</td>\n",
       "      <td>7319.0</td>\n",
       "      <td>NaN</td>\n",
       "      <td>37.0</td>\n",
       "      <td>53049</td>\n",
       "      <td>0.213</td>\n",
       "      <td>NaN</td>\n",
       "      <td>NaN</td>\n",
       "    </tr>\n",
       "    <tr>\n",
       "      <th>1206</th>\n",
       "      <td>IA</td>\n",
       "      <td>Midwest</td>\n",
       "      <td>West North Central</td>\n",
       "      <td>Mitchell County</td>\n",
       "      <td>19131</td>\n",
       "      <td>19131</td>\n",
       "      <td>Insuff Data</td>\n",
       "      <td>1/1/2014</td>\n",
       "      <td>4856.0</td>\n",
       "      <td>0.047</td>\n",
       "      <td>...</td>\n",
       "      <td>NaN</td>\n",
       "      <td>0.134</td>\n",
       "      <td>0.050</td>\n",
       "      <td>7360.0</td>\n",
       "      <td>NaN</td>\n",
       "      <td>37.0</td>\n",
       "      <td>50848</td>\n",
       "      <td>0.201</td>\n",
       "      <td>NaN</td>\n",
       "      <td>0.166</td>\n",
       "    </tr>\n",
       "    <tr>\n",
       "      <th>1922</th>\n",
       "      <td>KS</td>\n",
       "      <td>Midwest</td>\n",
       "      <td>West North Central</td>\n",
       "      <td>Smith County</td>\n",
       "      <td>20183</td>\n",
       "      <td>20183</td>\n",
       "      <td>Insuff Data</td>\n",
       "      <td>1/1/2015</td>\n",
       "      <td>8515.0</td>\n",
       "      <td>0.050</td>\n",
       "      <td>...</td>\n",
       "      <td>NaN</td>\n",
       "      <td>0.184</td>\n",
       "      <td>0.096</td>\n",
       "      <td>9291.0</td>\n",
       "      <td>0.102</td>\n",
       "      <td>54.0</td>\n",
       "      <td>39696</td>\n",
       "      <td>0.267</td>\n",
       "      <td>NaN</td>\n",
       "      <td>NaN</td>\n",
       "    </tr>\n",
       "  </tbody>\n",
       "</table>\n",
       "<p>5 rows × 64 columns</p>\n",
       "</div>"
      ],
      "text/plain": [
       "     State   Region            Division           County   FIPS  GEOID  \\\n",
       "1769    KS  Midwest  West North Central  Cheyenne County  20023  20023   \n",
       "1768    KS  Midwest  West North Central  Cheyenne County  20023  20023   \n",
       "1207    IA  Midwest  West North Central  Mitchell County  19131  19131   \n",
       "1206    IA  Midwest  West North Central  Mitchell County  19131  19131   \n",
       "1922    KS  Midwest  West North Central     Smith County  20183  20183   \n",
       "\n",
       "       SMS Region      Year  Premature death  Poor or fair health  ...  \\\n",
       "1769  Insuff Data  1/1/2015           6113.0                0.045  ...   \n",
       "1768  Insuff Data  1/1/2014              NaN                0.045  ...   \n",
       "1207  Insuff Data  1/1/2015           4231.0                0.047  ...   \n",
       "1206  Insuff Data  1/1/2014           4856.0                0.047  ...   \n",
       "1922  Insuff Data  1/1/2015           8515.0                0.050  ...   \n",
       "\n",
       "      Drug poisoning deaths  Uninsured adults  Uninsured children  \\\n",
       "1769                    NaN             0.187               0.099   \n",
       "1768                    NaN             0.197               0.095   \n",
       "1207                    NaN             0.124               0.049   \n",
       "1206                    NaN             0.134               0.050   \n",
       "1922                    NaN             0.184               0.096   \n",
       "\n",
       "      Health care costs  Could not see doctor due to cost  \\\n",
       "1769            11405.0                               NaN   \n",
       "1768            11707.0                               NaN   \n",
       "1207             7319.0                               NaN   \n",
       "1206             7360.0                               NaN   \n",
       "1922             9291.0                             0.102   \n",
       "\n",
       "      Other primary care providers  Median household income  \\\n",
       "1769                         148.0                    39317   \n",
       "1768                         112.0                    40810   \n",
       "1207                          37.0                    53049   \n",
       "1206                          37.0                    50848   \n",
       "1922                          54.0                    39696   \n",
       "\n",
       "      Children eligible for free lunch  Homicide rate  \\\n",
       "1769                             0.368            NaN   \n",
       "1768                             0.361            NaN   \n",
       "1207                             0.213            NaN   \n",
       "1206                             0.201            NaN   \n",
       "1922                             0.267            NaN   \n",
       "\n",
       "      Inadequate social support  \n",
       "1769                        NaN  \n",
       "1768                        NaN  \n",
       "1207                        NaN  \n",
       "1206                      0.166  \n",
       "1922                        NaN  \n",
       "\n",
       "[5 rows x 64 columns]"
      ]
     },
     "execution_count": 22,
     "metadata": {},
     "output_type": "execute_result"
    }
   ],
   "source": [
    "df.sort_values(by = \"Poor or fair health\").head()"
   ]
  },
  {
   "cell_type": "markdown",
   "metadata": {},
   "source": [
    "&nbsp;\n",
    "\n",
    "The `reset_index()` method takes care of this problem."
   ]
  },
  {
   "cell_type": "code",
   "execution_count": 23,
   "metadata": {
    "scrolled": true
   },
   "outputs": [
    {
     "data": {
      "text/html": [
       "<div>\n",
       "<style scoped>\n",
       "    .dataframe tbody tr th:only-of-type {\n",
       "        vertical-align: middle;\n",
       "    }\n",
       "\n",
       "    .dataframe tbody tr th {\n",
       "        vertical-align: top;\n",
       "    }\n",
       "\n",
       "    .dataframe thead th {\n",
       "        text-align: right;\n",
       "    }\n",
       "</style>\n",
       "<table border=\"1\" class=\"dataframe\">\n",
       "  <thead>\n",
       "    <tr style=\"text-align: right;\">\n",
       "      <th></th>\n",
       "      <th>index</th>\n",
       "      <th>State</th>\n",
       "      <th>Region</th>\n",
       "      <th>Division</th>\n",
       "      <th>County</th>\n",
       "      <th>FIPS</th>\n",
       "      <th>GEOID</th>\n",
       "      <th>SMS Region</th>\n",
       "      <th>Year</th>\n",
       "      <th>Premature death</th>\n",
       "      <th>...</th>\n",
       "      <th>Drug poisoning deaths</th>\n",
       "      <th>Uninsured adults</th>\n",
       "      <th>Uninsured children</th>\n",
       "      <th>Health care costs</th>\n",
       "      <th>Could not see doctor due to cost</th>\n",
       "      <th>Other primary care providers</th>\n",
       "      <th>Median household income</th>\n",
       "      <th>Children eligible for free lunch</th>\n",
       "      <th>Homicide rate</th>\n",
       "      <th>Inadequate social support</th>\n",
       "    </tr>\n",
       "  </thead>\n",
       "  <tbody>\n",
       "    <tr>\n",
       "      <th>0</th>\n",
       "      <td>1769</td>\n",
       "      <td>KS</td>\n",
       "      <td>Midwest</td>\n",
       "      <td>West North Central</td>\n",
       "      <td>Cheyenne County</td>\n",
       "      <td>20023</td>\n",
       "      <td>20023</td>\n",
       "      <td>Insuff Data</td>\n",
       "      <td>1/1/2015</td>\n",
       "      <td>6113.0</td>\n",
       "      <td>...</td>\n",
       "      <td>NaN</td>\n",
       "      <td>0.187</td>\n",
       "      <td>0.099</td>\n",
       "      <td>11405.0</td>\n",
       "      <td>NaN</td>\n",
       "      <td>148.0</td>\n",
       "      <td>39317</td>\n",
       "      <td>0.368</td>\n",
       "      <td>NaN</td>\n",
       "      <td>NaN</td>\n",
       "    </tr>\n",
       "    <tr>\n",
       "      <th>1</th>\n",
       "      <td>1768</td>\n",
       "      <td>KS</td>\n",
       "      <td>Midwest</td>\n",
       "      <td>West North Central</td>\n",
       "      <td>Cheyenne County</td>\n",
       "      <td>20023</td>\n",
       "      <td>20023</td>\n",
       "      <td>Insuff Data</td>\n",
       "      <td>1/1/2014</td>\n",
       "      <td>NaN</td>\n",
       "      <td>...</td>\n",
       "      <td>NaN</td>\n",
       "      <td>0.197</td>\n",
       "      <td>0.095</td>\n",
       "      <td>11707.0</td>\n",
       "      <td>NaN</td>\n",
       "      <td>112.0</td>\n",
       "      <td>40810</td>\n",
       "      <td>0.361</td>\n",
       "      <td>NaN</td>\n",
       "      <td>NaN</td>\n",
       "    </tr>\n",
       "    <tr>\n",
       "      <th>2</th>\n",
       "      <td>1207</td>\n",
       "      <td>IA</td>\n",
       "      <td>Midwest</td>\n",
       "      <td>West North Central</td>\n",
       "      <td>Mitchell County</td>\n",
       "      <td>19131</td>\n",
       "      <td>19131</td>\n",
       "      <td>Insuff Data</td>\n",
       "      <td>1/1/2015</td>\n",
       "      <td>4231.0</td>\n",
       "      <td>...</td>\n",
       "      <td>NaN</td>\n",
       "      <td>0.124</td>\n",
       "      <td>0.049</td>\n",
       "      <td>7319.0</td>\n",
       "      <td>NaN</td>\n",
       "      <td>37.0</td>\n",
       "      <td>53049</td>\n",
       "      <td>0.213</td>\n",
       "      <td>NaN</td>\n",
       "      <td>NaN</td>\n",
       "    </tr>\n",
       "    <tr>\n",
       "      <th>3</th>\n",
       "      <td>1206</td>\n",
       "      <td>IA</td>\n",
       "      <td>Midwest</td>\n",
       "      <td>West North Central</td>\n",
       "      <td>Mitchell County</td>\n",
       "      <td>19131</td>\n",
       "      <td>19131</td>\n",
       "      <td>Insuff Data</td>\n",
       "      <td>1/1/2014</td>\n",
       "      <td>4856.0</td>\n",
       "      <td>...</td>\n",
       "      <td>NaN</td>\n",
       "      <td>0.134</td>\n",
       "      <td>0.050</td>\n",
       "      <td>7360.0</td>\n",
       "      <td>NaN</td>\n",
       "      <td>37.0</td>\n",
       "      <td>50848</td>\n",
       "      <td>0.201</td>\n",
       "      <td>NaN</td>\n",
       "      <td>0.166</td>\n",
       "    </tr>\n",
       "    <tr>\n",
       "      <th>4</th>\n",
       "      <td>1922</td>\n",
       "      <td>KS</td>\n",
       "      <td>Midwest</td>\n",
       "      <td>West North Central</td>\n",
       "      <td>Smith County</td>\n",
       "      <td>20183</td>\n",
       "      <td>20183</td>\n",
       "      <td>Insuff Data</td>\n",
       "      <td>1/1/2015</td>\n",
       "      <td>8515.0</td>\n",
       "      <td>...</td>\n",
       "      <td>NaN</td>\n",
       "      <td>0.184</td>\n",
       "      <td>0.096</td>\n",
       "      <td>9291.0</td>\n",
       "      <td>0.102</td>\n",
       "      <td>54.0</td>\n",
       "      <td>39696</td>\n",
       "      <td>0.267</td>\n",
       "      <td>NaN</td>\n",
       "      <td>NaN</td>\n",
       "    </tr>\n",
       "  </tbody>\n",
       "</table>\n",
       "<p>5 rows × 65 columns</p>\n",
       "</div>"
      ],
      "text/plain": [
       "   index State   Region            Division           County   FIPS  GEOID  \\\n",
       "0   1769    KS  Midwest  West North Central  Cheyenne County  20023  20023   \n",
       "1   1768    KS  Midwest  West North Central  Cheyenne County  20023  20023   \n",
       "2   1207    IA  Midwest  West North Central  Mitchell County  19131  19131   \n",
       "3   1206    IA  Midwest  West North Central  Mitchell County  19131  19131   \n",
       "4   1922    KS  Midwest  West North Central     Smith County  20183  20183   \n",
       "\n",
       "    SMS Region      Year  Premature death  ...  Drug poisoning deaths  \\\n",
       "0  Insuff Data  1/1/2015           6113.0  ...                    NaN   \n",
       "1  Insuff Data  1/1/2014              NaN  ...                    NaN   \n",
       "2  Insuff Data  1/1/2015           4231.0  ...                    NaN   \n",
       "3  Insuff Data  1/1/2014           4856.0  ...                    NaN   \n",
       "4  Insuff Data  1/1/2015           8515.0  ...                    NaN   \n",
       "\n",
       "   Uninsured adults  Uninsured children  Health care costs  \\\n",
       "0             0.187               0.099            11405.0   \n",
       "1             0.197               0.095            11707.0   \n",
       "2             0.124               0.049             7319.0   \n",
       "3             0.134               0.050             7360.0   \n",
       "4             0.184               0.096             9291.0   \n",
       "\n",
       "   Could not see doctor due to cost  Other primary care providers  \\\n",
       "0                               NaN                         148.0   \n",
       "1                               NaN                         112.0   \n",
       "2                               NaN                          37.0   \n",
       "3                               NaN                          37.0   \n",
       "4                             0.102                          54.0   \n",
       "\n",
       "   Median household income  Children eligible for free lunch  Homicide rate  \\\n",
       "0                    39317                             0.368            NaN   \n",
       "1                    40810                             0.361            NaN   \n",
       "2                    53049                             0.213            NaN   \n",
       "3                    50848                             0.201            NaN   \n",
       "4                    39696                             0.267            NaN   \n",
       "\n",
       "   Inadequate social support  \n",
       "0                        NaN  \n",
       "1                        NaN  \n",
       "2                        NaN  \n",
       "3                      0.166  \n",
       "4                        NaN  \n",
       "\n",
       "[5 rows x 65 columns]"
      ]
     },
     "execution_count": 23,
     "metadata": {},
     "output_type": "execute_result"
    }
   ],
   "source": [
    "df.sort_values(by = \"Poor or fair health\").reset_index().head()"
   ]
  },
  {
   "cell_type": "markdown",
   "metadata": {},
   "source": [
    "&nbsp;\n",
    "\n",
    "## Learn more\n",
    "* `pandas` provides a quick introduction <a href=\"https://pandas.pydata.org/pandas-docs/stable/10min.html\">here</a>\n",
    "* <a href=\"https://jakevdp.github.io/PythonDataScienceHandbook/\">Python Data Science Handbook</a> provides more detail and integration with other software.\n",
    "* A full list of attributes and methods available for DataFrames is available <a href=\"https://pandas.pydata.org/pandas-docs/stable/reference/api/pandas.DataFrame.html\">here</a>."
   ]
  },
  {
   "cell_type": "markdown",
   "metadata": {},
   "source": [
    "&nbsp;\n",
    "\n",
    "## Visualization\n",
    "\n",
    "<a href=\"https://matplotlib.org/\">`matplotlib`</a> is a commonly used foundational data visualization package for Python, oriented towards static, scientific plotting.  There are a number of other packages for visualization including:\n",
    "\n",
    "* `seaborn` provides aesthetic extensions to matplotlib and better compatibility with pandas\n",
    "* `plotnine` - a Python version of the popular ggplot2 package for R\n",
    "* `Bokeh` and `Plotly` help create interactive web visualizations\n",
    "\n",
    "&nbsp;\n",
    "\n",
    "### Visualization in Jupyter\n",
    "\n",
    "To make visualizations display seamlessly in Jupyter Notebooks, we have to run the following line of code:"
   ]
  },
  {
   "cell_type": "code",
   "execution_count": 24,
   "metadata": {},
   "outputs": [],
   "source": [
    "%matplotlib inline"
   ]
  },
  {
   "cell_type": "markdown",
   "metadata": {},
   "source": [
    "This is a special function in Python that sets tells the plotting environment to produce plots \"inline\" i.e. to output them along with other outputs in our Jupyter Notebook.  This line is not necessary if you're working in Spyder. \n",
    "\n",
    "&nbsp;\n",
    "\n",
    "### matplotlib example\n"
   ]
  },
  {
   "cell_type": "code",
   "execution_count": 25,
   "metadata": {},
   "outputs": [
    {
     "data": {
      "text/plain": [
       "Text(0, 0.5, 'Poor or fair health')"
      ]
     },
     "execution_count": 25,
     "metadata": {},
     "output_type": "execute_result"
    },
    {
     "data": {
      "image/png": "[encoded data removed]",
      "text/plain": [
       "<Figure size 432x288 with 1 Axes>"
      ]
     },
     "metadata": {
      "needs_background": "light"
     },
     "output_type": "display_data"
    }
   ],
   "source": [
    "import matplotlib.pyplot as plt\n",
    "\n",
    "# Get averages for numeric variables aggregated by state. \n",
    "states = df.groupby(\"State\").mean().reset_index()\n",
    "\n",
    "# Select specific columns to visualize.\n",
    "states = states[[\"State\",\"Poor or fair health\",\"Median household income\"]]\n",
    "\n",
    "# Create a scatterplot. We tell matplotlib which columns to use on each axis.\n",
    "plt.scatter(x = states[\"Median household income\"],\n",
    "            y = states[\"Poor or fair health\"])\n",
    "\n",
    "# Label the axes.\n",
    "plt.xlabel(\"Median household income\")\n",
    "plt.ylabel(\"Poor or fair health\")"
   ]
  },
  {
   "cell_type": "markdown",
   "metadata": {},
   "source": [
    "&nbsp;\n",
    "\n",
    "### Seaborn example\n",
    "\n",
    "Here's an example `seaborn` plot with our County Health Data from above:"
   ]
  },
  {
   "cell_type": "code",
   "execution_count": 26,
   "metadata": {},
   "outputs": [
    {
     "data": {
      "text/plain": [
       "<seaborn.axisgrid.PairGrid at 0x249d4187d68>"
      ]
     },
     "execution_count": 26,
     "metadata": {},
     "output_type": "execute_result"
    },
    {
     "data": {
      "image/png": "[encoded data removed]",
      "text/plain": [
       "<Figure size 805.25x720 with 20 Axes>"
      ]
     },
     "metadata": {
      "needs_background": "light"
     },
     "output_type": "display_data"
    }
   ],
   "source": [
    "import seaborn as sns\n",
    "\n",
    "# Get averages for numeric variables aggregated by state and region. \n",
    "states2 = df.groupby([\"State\",\"Region\"]).mean().reset_index()\n",
    "\n",
    "# Select specific columns to visualize.\n",
    "states2 = states2[[\"Region\",\"Poor or fair health\",\"Poor physical health days\",\"Poor mental health days\",\"Median household income\"]]\n",
    "\n",
    "#Seaborn can plot a grid of pairwise relationships. In these plots, we'll make each region a different color.\n",
    "sns.pairplot(states2, hue = \"Region\")"
   ]
  },
  {
   "cell_type": "markdown",
   "metadata": {},
   "source": [
    "&nbsp;\n",
    "\n",
    "### plotnine example\n",
    "\n",
    "The `plotnine` package brings the functionality of R's ggplot2 package into Python.  If you're already familiar with ggplot syntax from R, it's probably the easiest way to start plotting in Python.\n",
    "\n",
    "Install `plotnine` from `conda-forge` using:  \n",
    "```\n",
    "conda install -c conda-forge plotnine\n",
    "```\n",
    "In your anaconda terminal."
   ]
  },
  {
   "cell_type": "code",
   "execution_count": 27,
   "metadata": {},
   "outputs": [
    {
     "data": {
      "image/png": "[encoded data removed]",
      "text/plain": [
       "<Figure size 640x480 with 1 Axes>"
      ]
     },
     "metadata": {},
     "output_type": "display_data"
    },
    {
     "data": {
      "text/plain": [
       "<ggplot: (-9223371879592311338)>"
      ]
     },
     "execution_count": 27,
     "metadata": {},
     "output_type": "execute_result"
    }
   ],
   "source": [
    "from plotnine import * \n",
    "#Using this syntax means we won't have to refer to functions from plotnine with plotnine.<function>\n",
    "#This makes plotnine code even more similar to R's ggplot functions\n",
    "\n",
    "(ggplot(data = states2,mapping = aes(x = \"Median household income\",\n",
    "                                    y = \"Poor or fair health\",\n",
    "                                    color = \"Region\"))\n",
    "+geom_point()\n",
    "+theme_bw())"
   ]
  },
  {
   "cell_type": "markdown",
   "metadata": {},
   "source": [
    "&nbsp;\n",
    "\n",
    "## \"Big Data\" and iteration in pandas \n",
    "\n",
    "Pandas can also read csvs in smaller chunks to help deal with files that are too large to be read into RAM.  \n",
    "\n",
    "In the code below, setting `chunksize` and `iterator=True` generates a flow of 1000 row chunks out of the main dataset.  This isn't really necessary in our 6109 row dataset, but might be critical to working with a 61 million row dataset."
   ]
  },
  {
   "cell_type": "code",
   "execution_count": 28,
   "metadata": {},
   "outputs": [
    {
     "data": {
      "text/html": [
       "<div>\n",
       "<style scoped>\n",
       "    .dataframe tbody tr th:only-of-type {\n",
       "        vertical-align: middle;\n",
       "    }\n",
       "\n",
       "    .dataframe tbody tr th {\n",
       "        vertical-align: top;\n",
       "    }\n",
       "\n",
       "    .dataframe thead th {\n",
       "        text-align: right;\n",
       "    }\n",
       "</style>\n",
       "<table border=\"1\" class=\"dataframe\">\n",
       "  <thead>\n",
       "    <tr style=\"text-align: right;\">\n",
       "      <th></th>\n",
       "      <th>State</th>\n",
       "      <th>Region</th>\n",
       "      <th>Division</th>\n",
       "      <th>County</th>\n",
       "      <th>FIPS</th>\n",
       "      <th>GEOID</th>\n",
       "      <th>SMS Region</th>\n",
       "      <th>Year</th>\n",
       "      <th>Premature death</th>\n",
       "      <th>Poor or fair health</th>\n",
       "      <th>...</th>\n",
       "      <th>Drug poisoning deaths</th>\n",
       "      <th>Uninsured adults</th>\n",
       "      <th>Uninsured children</th>\n",
       "      <th>Health care costs</th>\n",
       "      <th>Could not see doctor due to cost</th>\n",
       "      <th>Other primary care providers</th>\n",
       "      <th>Median household income</th>\n",
       "      <th>Children eligible for free lunch</th>\n",
       "      <th>Homicide rate</th>\n",
       "      <th>Inadequate social support</th>\n",
       "    </tr>\n",
       "  </thead>\n",
       "  <tbody>\n",
       "    <tr>\n",
       "      <th>0</th>\n",
       "      <td>NC</td>\n",
       "      <td>South</td>\n",
       "      <td>South Atlantic</td>\n",
       "      <td>Alamance County</td>\n",
       "      <td>37001</td>\n",
       "      <td>37001</td>\n",
       "      <td>Region 20</td>\n",
       "      <td>1/1/2014</td>\n",
       "      <td>7123.0</td>\n",
       "      <td>0.192</td>\n",
       "      <td>...</td>\n",
       "      <td>10.48</td>\n",
       "      <td>0.259</td>\n",
       "      <td>0.073</td>\n",
       "      <td>8640.0</td>\n",
       "      <td>0.167</td>\n",
       "      <td>46.0</td>\n",
       "      <td>41394</td>\n",
       "      <td>0.444</td>\n",
       "      <td>4.94</td>\n",
       "      <td>0.202</td>\n",
       "    </tr>\n",
       "    <tr>\n",
       "      <th>1</th>\n",
       "      <td>NC</td>\n",
       "      <td>South</td>\n",
       "      <td>South Atlantic</td>\n",
       "      <td>Alamance County</td>\n",
       "      <td>37001</td>\n",
       "      <td>37001</td>\n",
       "      <td>Region 20</td>\n",
       "      <td>1/1/2015</td>\n",
       "      <td>7291.0</td>\n",
       "      <td>0.192</td>\n",
       "      <td>...</td>\n",
       "      <td>12.38</td>\n",
       "      <td>0.249</td>\n",
       "      <td>0.088</td>\n",
       "      <td>9050.0</td>\n",
       "      <td>0.167</td>\n",
       "      <td>56.0</td>\n",
       "      <td>43001</td>\n",
       "      <td>0.455</td>\n",
       "      <td>4.60</td>\n",
       "      <td>NaN</td>\n",
       "    </tr>\n",
       "    <tr>\n",
       "      <th>2</th>\n",
       "      <td>NC</td>\n",
       "      <td>South</td>\n",
       "      <td>South Atlantic</td>\n",
       "      <td>Alexander County</td>\n",
       "      <td>37003</td>\n",
       "      <td>37003</td>\n",
       "      <td>Region 20</td>\n",
       "      <td>1/1/2014</td>\n",
       "      <td>7974.0</td>\n",
       "      <td>0.178</td>\n",
       "      <td>...</td>\n",
       "      <td>22.74</td>\n",
       "      <td>0.240</td>\n",
       "      <td>0.077</td>\n",
       "      <td>9316.0</td>\n",
       "      <td>0.205</td>\n",
       "      <td>30.0</td>\n",
       "      <td>39655</td>\n",
       "      <td>0.417</td>\n",
       "      <td>6.27</td>\n",
       "      <td>0.273</td>\n",
       "    </tr>\n",
       "    <tr>\n",
       "      <th>3</th>\n",
       "      <td>NC</td>\n",
       "      <td>South</td>\n",
       "      <td>South Atlantic</td>\n",
       "      <td>Alexander County</td>\n",
       "      <td>37003</td>\n",
       "      <td>37003</td>\n",
       "      <td>Region 20</td>\n",
       "      <td>1/1/2015</td>\n",
       "      <td>8079.0</td>\n",
       "      <td>0.178</td>\n",
       "      <td>...</td>\n",
       "      <td>24.04</td>\n",
       "      <td>0.239</td>\n",
       "      <td>0.076</td>\n",
       "      <td>9242.0</td>\n",
       "      <td>0.205</td>\n",
       "      <td>32.0</td>\n",
       "      <td>46064</td>\n",
       "      <td>0.449</td>\n",
       "      <td>7.20</td>\n",
       "      <td>NaN</td>\n",
       "    </tr>\n",
       "    <tr>\n",
       "      <th>4</th>\n",
       "      <td>NC</td>\n",
       "      <td>South</td>\n",
       "      <td>South Atlantic</td>\n",
       "      <td>Alleghany County</td>\n",
       "      <td>37005</td>\n",
       "      <td>37005</td>\n",
       "      <td>Insuff Data</td>\n",
       "      <td>1/1/2014</td>\n",
       "      <td>8817.0</td>\n",
       "      <td>0.234</td>\n",
       "      <td>...</td>\n",
       "      <td>18.18</td>\n",
       "      <td>0.320</td>\n",
       "      <td>0.131</td>\n",
       "      <td>9585.0</td>\n",
       "      <td>0.210</td>\n",
       "      <td>55.0</td>\n",
       "      <td>34046</td>\n",
       "      <td>0.523</td>\n",
       "      <td>NaN</td>\n",
       "      <td>0.215</td>\n",
       "    </tr>\n",
       "  </tbody>\n",
       "</table>\n",
       "<p>5 rows × 64 columns</p>\n",
       "</div>"
      ],
      "text/plain": [
       "  State Region        Division            County   FIPS  GEOID   SMS Region  \\\n",
       "0    NC  South  South Atlantic   Alamance County  37001  37001    Region 20   \n",
       "1    NC  South  South Atlantic   Alamance County  37001  37001    Region 20   \n",
       "2    NC  South  South Atlantic  Alexander County  37003  37003    Region 20   \n",
       "3    NC  South  South Atlantic  Alexander County  37003  37003    Region 20   \n",
       "4    NC  South  South Atlantic  Alleghany County  37005  37005  Insuff Data   \n",
       "\n",
       "       Year  Premature death  Poor or fair health  ...  Drug poisoning deaths  \\\n",
       "0  1/1/2014           7123.0                0.192  ...                  10.48   \n",
       "1  1/1/2015           7291.0                0.192  ...                  12.38   \n",
       "2  1/1/2014           7974.0                0.178  ...                  22.74   \n",
       "3  1/1/2015           8079.0                0.178  ...                  24.04   \n",
       "4  1/1/2014           8817.0                0.234  ...                  18.18   \n",
       "\n",
       "   Uninsured adults  Uninsured children  Health care costs  \\\n",
       "0             0.259               0.073             8640.0   \n",
       "1             0.249               0.088             9050.0   \n",
       "2             0.240               0.077             9316.0   \n",
       "3             0.239               0.076             9242.0   \n",
       "4             0.320               0.131             9585.0   \n",
       "\n",
       "   Could not see doctor due to cost  Other primary care providers  \\\n",
       "0                             0.167                          46.0   \n",
       "1                             0.167                          56.0   \n",
       "2                             0.205                          30.0   \n",
       "3                             0.205                          32.0   \n",
       "4                             0.210                          55.0   \n",
       "\n",
       "   Median household income  Children eligible for free lunch  Homicide rate  \\\n",
       "0                    41394                             0.444           4.94   \n",
       "1                    43001                             0.455           4.60   \n",
       "2                    39655                             0.417           6.27   \n",
       "3                    46064                             0.449           7.20   \n",
       "4                    34046                             0.523            NaN   \n",
       "\n",
       "   Inadequate social support  \n",
       "0                      0.202  \n",
       "1                        NaN  \n",
       "2                      0.273  \n",
       "3                        NaN  \n",
       "4                      0.215  \n",
       "\n",
       "[5 rows x 64 columns]"
      ]
     },
     "execution_count": 28,
     "metadata": {},
     "output_type": "execute_result"
    }
   ],
   "source": [
    "#Create an empty list for storing chunks.\n",
    "chunk_list = []\n",
    "\n",
    "#Read in 1000 rows at a time and store only NC rows as separate chunks in chunk_list.\n",
    "for chunk in pd.read_csv(\"CountyHealthData_2014-2015.csv\", chunksize=1000, iterator=True):\n",
    "    nc_rows = chunk[chunk[\"State\"]==\"NC\"]\n",
    "    chunk_list.append(nc_rows)\n",
    "\n",
    "#Combine NC chunks into single data frame and view top rows.\n",
    "nc_df = pd.concat(chunk_list, ignore_index=True)\n",
    "nc_df.head()"
   ]
  },
  {
   "cell_type": "markdown",
   "metadata": {},
   "source": [
    "&nbsp;\n",
    "\n",
    "###  Alternative: The `csv` package\n",
    "\n",
    "Python also comes packaged with package for reading Comma Separated Values (csv) files.  This can sometimes be easier to work with if you don't need the extra functionality of `pandas` or would prefer base Python objects to work wtih!"
   ]
  },
  {
   "cell_type": "code",
   "execution_count": 29,
   "metadata": {},
   "outputs": [],
   "source": [
    "import csv"
   ]
  },
  {
   "cell_type": "markdown",
   "metadata": {},
   "source": [
    "This package provides two major ways to read csv files:\n",
    "\n",
    "* `csv.reader`: reads the csv into a list of lists where each row is represented by a list within a master list object.\n",
    "* `csv.DictReader`: reads the csv into a list of **dicts** where each row is a dictionary with keys derived from the first row of the dataset.\n",
    "\n",
    "The syntax for each command is similar:"
   ]
  },
  {
   "cell_type": "code",
   "execution_count": 30,
   "metadata": {},
   "outputs": [],
   "source": [
    "list_of_lists = []\n",
    "with open(\"CountyHealthData_2014-2015.csv\",\"r\") as csvfile:\n",
    "    reader=csv.reader(csvfile)\n",
    "    for row in reader:\n",
    "        list_of_lists.append(row)"
   ]
  },
  {
   "cell_type": "code",
   "execution_count": 31,
   "metadata": {},
   "outputs": [],
   "source": [
    "list_of_dicts = []\n",
    "with open(\"CountyHealthData_2014-2015.csv\",\"r\") as csvfile:\n",
    "    reader=csv.DictReader(csvfile)\n",
    "    for row in reader:\n",
    "        list_of_dicts.append(row)"
   ]
  },
  {
   "cell_type": "markdown",
   "metadata": {},
   "source": [
    "Notice that each process reads the csv in row by row - this can be easily adapted with an `if` condition to filter out specific rows from a dataset that might be too large to open all at once.\n",
    "\n",
    "Let's take a look at the differences between the output from each of these processes."
   ]
  },
  {
   "cell_type": "code",
   "execution_count": 32,
   "metadata": {},
   "outputs": [
    {
     "name": "stdout",
     "output_type": "stream",
     "text": [
      "['AK', 'West', 'Pacific', 'Aleutians West Census Area', '2016', '02016', 'Insuff Data', '1/1/2014', '', '0.122', '2.1', '2.1', '', '0.267', '0.3', '7.002', '0.234', '0.896', '0.266', '', '290.7', '21.1', '0.355', '91', '50', '99', '', '', '', '', '0.466', '0.091', '0.087', '', '0.289', '', '322.06', '', '', '0.03', '0.221', '0.272', '0', '5547', '0.078', '1', '0.067', '', '181', '', '', '0.17', '0.075', '', '', '0.374', '0.25', '3791', '0.185', '216', '69192', '0.127', '', '0.287']\n"
     ]
    }
   ],
   "source": [
    "print(list_of_lists[1])"
   ]
  },
  {
   "cell_type": "code",
   "execution_count": 33,
   "metadata": {},
   "outputs": [
    {
     "name": "stdout",
     "output_type": "stream",
     "text": [
      "OrderedDict([('State', 'AK'), ('Region', 'West'), ('Division', 'Pacific'), ('County', 'Aleutians West Census Area'), ('FIPS', '2016'), ('GEOID', '02016'), ('SMS Region', 'Insuff Data'), ('Year', '1/1/2015'), ('Premature death', ''), ('Poor or fair health', '0.122'), ('Poor physical health days', '2.1'), ('Poor mental health days', '2.1'), ('Low birthweight', '0.04'), ('Adult smoking', '0.267'), ('Adult obesity', '0.329'), ('Food environment index', '6.6'), ('Physical inactivity', '0.22'), ('Access to exercise opportunities', '0.896'), ('Excessive drinking', '0.266'), ('Alcohol-impaired driving deaths', ''), ('Sexually transmitted infections', '288.4'), ('Teen births', '21.6'), ('Uninsured', '0.293'), ('Primary care physicians', '36'), ('Dentists', '73'), ('Mental health providers', '163'), ('Preventable hospital stays', ''), ('Diabetic screening', ''), ('Mammography screening', ''), ('High school graduation', ''), ('Some college', '0.474'), ('Unemployment', '0.088'), ('Children in poverty', '0.076'), ('Income inequality', '3.907'), ('Children in single-parent households', '0.289'), ('Social associations', '9.014'), ('Violent crime', '317.35'), ('Injury deaths', '47.2'), ('Air pollution - particulate matter', ''), ('Drinking water violations', '0.026'), ('Severe housing problems', '0.207'), ('Driving alone to work', '0.347'), ('Long commute - driving alone', '0'), ('2011 population estimate', '5511'), ('Population that is not proficient in English', '0.08'), ('Population living in a rural area', '1'), ('Diabetes', '0.065'), ('HIV prevalence rate', ''), ('Premature age-adjusted mortality', '173.7'), ('Infant mortality', ''), ('Child mortality', ''), ('Food insecurity', '0.173'), ('Limited access to healthy foods', '0.075'), ('Motor vehicle crash deaths', ''), ('Drug poisoning deaths', ''), ('Uninsured adults', '0.314'), ('Uninsured children', '0.176'), ('Health care costs', '4837'), ('Could not see doctor due to cost', '0.185'), ('Other primary care providers', '254'), ('Median household income', '74088'), ('Children eligible for free lunch', '0.133'), ('Homicide rate', ''), ('Inadequate social support', '')])\n"
     ]
    }
   ],
   "source": [
    "print(list_of_dicts[1])"
   ]
  },
  {
   "cell_type": "markdown",
   "metadata": {},
   "source": [
    "Read more about the `csv` package here: https://docs.python.org/3/library/csv.html"
   ]
  }
 ],
 "metadata": {
  "kernelspec": {
   "display_name": "Python 3",
   "language": "python",
   "name": "python3"
  },
  "language_info": {
   "codemirror_mode": {
    "name": "ipython",
    "version": 3
   },
   "file_extension": ".py",
   "mimetype": "text/x-python",
   "name": "python",
   "nbconvert_exporter": "python",
   "pygments_lexer": "ipython3",
   "version": "3.8.5"
  },
  "toc": {
   "base_numbering": 1,
   "nav_menu": {},
   "number_sections": false,
   "sideBar": true,
   "skip_h1_title": true,
   "title_cell": "Table of Contents",
   "title_sidebar": "Contents",
   "toc_cell": false,
   "toc_position": {
    "height": "calc(100% - 180px)",
    "left": "10px",
    "top": "150px",
    "width": "384px"
   },
   "toc_section_display": true,
   "toc_window_display": true
  },
  "toc-autonumbering": false,
  "toc-showcode": false,
  "toc-showmarkdowntxt": false,
  "toc-showtags": true
 },
 "nbformat": 4,
 "nbformat_minor": 4
}
