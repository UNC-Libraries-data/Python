{
 "cells": [
  {
   "cell_type": "markdown",
   "metadata": {},
   "source": [
    "# Python Crash Courses: Intro to Data\n",
    "\n",
    "**Table of contents**<a id='toc0_'></a>    \n",
    "- [Review](#toc1_)    \n",
    "  - [Packages](#toc1_1_)    \n",
    "  - [Basic File Paths](#toc1_2_)    \n",
    "- [Pandas](#toc2_)    \n",
    "- [Exploring a DataFrame](#toc3_)    \n",
    "  - [Attributes](#toc3_1_)    \n",
    "  - [Methods](#toc3_2_)    \n",
    "- [Indexing](#toc4_)    \n",
    "  - [`.iloc`](#toc4_1_)    \n",
    "  - [`.loc`](#toc4_2_)    \n",
    "  - [Indexing and Assignment](#toc4_3_)    \n",
    "- [Series](#toc5_)    \n",
    "  - [Filtering](#toc5_1_)    \n",
    "- [Working Example: Mass Mobilization Data](#toc6_)    \n",
    "  - [About the dataset](#toc6_1_)    \n",
    "  - [Setup](#toc6_2_)    \n",
    "  - [Research Questions](#toc6_3_)    \n",
    "  - [Question 1 : What information has been collected about the protests in the dataset?](#toc6_4_)    \n",
    "  - [Question 2 : How many protests does our dataset include and in which countries do they occur?](#toc6_5_)    \n",
    "  - [Question 3: Are length and size of protests different in various regions of the world?](#toc6_6_)    \n",
    "  - [Question 4: Are there certain time periods with greater or fewer protests?](#toc6_7_)    \n",
    "- [Learn more](#toc7_)    \n",
    "\n",
    "<!-- vscode-jupyter-toc-config\n",
    "\tnumbering=false\n",
    "\tanchor=true\n",
    "\tflat=false\n",
    "\tminLevel=2\n",
    "\tmaxLevel=3\n",
    "\t/vscode-jupyter-toc-config -->\n",
    "<!-- THIS CELL WILL BE REPLACED ON TOC UPDATE. DO NOT WRITE YOUR TEXT IN THIS CELL -->"
   ]
  },
  {
   "cell_type": "markdown",
   "metadata": {},
   "source": [
    "\n",
    "## <a id='toc1_'></a>[Review](#toc0_)\n",
    "\n",
    "### <a id='toc1_1_'></a>[Packages](#toc0_)\n",
    "\n",
    "#### Installation\n",
    "Packages provide additional tools and functions not present in base Python. Python includes a number of packages to start with, and others can be installed using `pip install <package name>` and/or `conda install <package name>` commands in your terminal.\n",
    "\n",
    "Open your terminal by:\n",
    "\n",
    "- (PC) Start > Miniforge3 > Miniforge Prompt\n",
    "- (Mac) Finder > Applications > Utilities > Terminal\n",
    "\n",
    "#### Loading\n",
    "Once you've installed a package, you can load it into your current Python session with the import function. Otherwise these functions will not be available."
   ]
  },
  {
   "cell_type": "code",
   "execution_count": 1,
   "metadata": {},
   "outputs": [],
   "source": [
    "import os #functions for working with your operating system\n",
    "import shutil #extra functions for working with files"
   ]
  },
  {
   "cell_type": "markdown",
   "metadata": {},
   "source": [
    "### <a id='toc1_2_'></a>[Basic File Paths](#toc0_)\n",
    "\n",
    "To learn more about File Paths (including an exercise using loops and conditionals), check out the [extended version of this section](https://unc-libraries-data.github.io/Python/Files_Packages/Files_Packages.html).\n",
    "\n",
    "#### Working Directories\n",
    "To open a file with Python, you'll need to tell your computer where it's located on your computer. You can specify the entire absolute filepath (starting with C:\\ on PC or / on Mac), or you can set a working directory and work with relative file paths.\n",
    "\n",
    "You can determine where a file is located on your computer by:\n",
    "\n",
    "- (PC) Navigate to your desired folder in Windows Explorer and click on it. Click in the address bar at the top of the window to copy the path.\n",
    "- (Mac) Right-click a file in your desired directory > Click Get Info > Highlight and copy the path listed next to \"Where:\"\n",
    "- (Alternate Mac) Right-click a file in your desired directory > Hold down the Option key > Click Copy \"file_name\" as Pathname. \n",
    "\n",
    "If a file is located in your working directory, its relative path is just the name of the file!"
   ]
  },
  {
   "cell_type": "code",
   "execution_count": 2,
   "metadata": {},
   "outputs": [
    {
     "data": {
      "text/plain": [
       "True"
      ]
     },
     "execution_count": 2,
     "metadata": {},
     "output_type": "execute_result"
    }
   ],
   "source": [
    "myfile=\"C:/Users/mtjansen/Desktop/Python/Files_Packages/Recipes.zip\" #absolute path\n",
    "os.path.isfile(myfile) #check if Python can find my file "
   ]
  },
  {
   "cell_type": "markdown",
   "metadata": {},
   "source": [
    "**Note: Paths in Jupyter and Jupyter Lab**\n",
    "\n",
    "Jupyter Notebooks automatically set your working directory to the folder where the .ipynb is saved.  You'll have to save the document at least once to set your directory.\n",
    "\n",
    "For example, the csv (comma separated values) file \"Provisional_COVID-19_Death_Counts_by_Sex__Age__and_Week.csv\" is stored in the same folder as this notebook, so we can find it *without any directory information*."
   ]
  },
  {
   "cell_type": "code",
   "execution_count": 3,
   "metadata": {},
   "outputs": [
    {
     "data": {
      "text/plain": [
       "False"
      ]
     },
     "execution_count": 3,
     "metadata": {},
     "output_type": "execute_result"
    }
   ],
   "source": [
    "os.path.isfile(\"Provisional_COVID-19_Death_Counts_by_Sex__Age__and_Week.csv\")"
   ]
  },
  {
   "cell_type": "markdown",
   "metadata": {},
   "source": [
    "**Windows Paths**\n",
    "\n",
    "Windows filepaths use \\, which Python interprets as escape characters. This can be fixed in several ways:\n",
    "\n",
    "- Replace \\ with /.\n",
    "- Replace \\ with \\\\\\\\.\n",
    "- Preface your path with r:\n",
    "\n",
    "       r\"C:\\Users\\mtjansen\\Desktop\""
   ]
  },
  {
   "cell_type": "code",
   "execution_count": 4,
   "metadata": {},
   "outputs": [
    {
     "data": {
      "text/plain": [
       "True"
      ]
     },
     "execution_count": 4,
     "metadata": {},
     "output_type": "execute_result"
    }
   ],
   "source": [
    "os.chdir(\"C:/Users/mtjansen/Desktop/Python/Jupyter\") #set working directory\n",
    "myfile=\"CountyHealthData_2014-2015.csv\" #relative path\n",
    "os.path.isfile(myfile)"
   ]
  },
  {
   "cell_type": "markdown",
   "metadata": {},
   "source": [
    "We can get a list of all files in the working directory with os.listdir(\".\")."
   ]
  },
  {
   "cell_type": "code",
   "execution_count": 5,
   "metadata": {
    "tags": []
   },
   "outputs": [
    {
     "name": "stdout",
     "output_type": "stream",
     "text": [
      "['.ipynb_checkpoints', 'CountyHealthData_2014-2015.csv', 'Jupyter-Notebooks.html', 'Jupyter-Notebooks.ipynb', 'Other-Packages.html', 'Other-Packages.ipynb', 'output_56_1.png', 'output_58_1.png', 'output_60_0.png', 'output_60_1.png', 'output_63_1.png', 'output_64_1.png', 'output_66_1.png', 'output_81_1.png', 'output_83_1.png', 'Pandas-nocontents.html', 'Pandas.html', 'Pandas.ipynb', 'PandasExercises.html', 'PandasExercises.ipynb', 'PandasSolutions.html', 'PandasSolutions.ipynb', 'Pandas_backup.ipynb', 'protest_data.csv', 'UNC_logo.png', 'Untitled.ipynb']\n",
      "['CountyHealthData_2014-2015.csv', 'protest_data.csv']\n"
     ]
    }
   ],
   "source": [
    "print(os.listdir(\".\")) #entire directory\n",
    "print([path for path in os.listdir(\"C:/Users/mtjansen/Desktop/Python/Jupyter\") if path[-3:]==\"csv\"]) #alternatively we can specify a folder and use a list comprehension to get a certain file type."
   ]
  },
  {
   "cell_type": "markdown",
   "metadata": {},
   "source": [
    "## <a id='toc2_'></a>[Pandas](#toc0_)\n",
    "\n",
    "Like spreadsheets in Microsoft Excel or dataframes in R, Pandas allows us to store our data in tabular, multi-dimensional objects (dataframes) with familiar features like rows, columns, and headers. This is useful because it makes management, manipulation, and cleaning of large datasets much easier than would be the case using Python's built-in data structures such as lists and dictionaries. Pandas also provides a wide range of useful tools for working with data once it has been stored and structured.\n",
    "\n",
    "Notice that we load pandas with the usual `import pandas` and an extra `as pd` statement.  This allows us to call functions from `pandas` with `pd.<function>` instead of `pandas.<function>` for convenience.  `as pd` is **not** necessary to load the package.\n",
    "\n",
    "Download the csv file <a href=\"https://unc-libraries-data.github.io/Python/Jupyter/CountyHealthData_2014-2015.csv\">CountyHealthData_2014-2015.csv</a>.  I've stored my copy in the same folder as this Jupyter Notebook.  Remember that Jupyter Notebooks automatically set your working directory to the folder where the .ipynb is saved.  You'll have to save the document at least once to set your directory, but once there you can use relative paths.\n",
    "\n",
    "`pd.read_csv` reads the tabular data from a Comma Separated Values (csv) file into a `DataFrame` object.\n"
   ]
  },
  {
   "cell_type": "code",
   "execution_count": 2,
   "metadata": {},
   "outputs": [],
   "source": [
    "import pandas as pd\n",
    "\n",
    "df = pd.read_csv(\"CountyHealthData_2014-2015.csv\")\n",
    "#df = pd.read_csv(\"C:/Users/mtjansen/Desktop/Python/Jupyter/CountyHealthData_2014-2015.csv\")\n",
    "#df = pd.read_csv(\"https://github.com/UNC-Libraries-data/Python/raw/main/Jupyter/CountyHealthData_2014-2015.csv\")"
   ]
  },
  {
   "cell_type": "markdown",
   "metadata": {},
   "source": [
    "&nbsp;\n",
    "\n",
    "## <a id='toc3_'></a>[Exploring a DataFrame](#toc0_)"
   ]
  },
  {
   "cell_type": "markdown",
   "metadata": {},
   "source": [
    "### <a id='toc3_1_'></a>[Attributes](#toc0_)\n",
    "A good first step in understanding our DataFrame is to examine some of its basic attributes. Attributes contain **values** that help us understand and use the dataframe. In pandas, we access attributes with the following syntax:\n",
    "```\n",
    "<DataFrame name>.<attribute name>\n",
    "```\n",
    "\n",
    "Here we use the `.shape` attribute to determine how many rows and columns (in that order) are available.  `.size` gives us the number of cells in the dataframe (rows * columns)."
   ]
  },
  {
   "cell_type": "code",
   "execution_count": 7,
   "metadata": {},
   "outputs": [
    {
     "data": {
      "text/plain": [
       "(6109, 64)"
      ]
     },
     "execution_count": 7,
     "metadata": {},
     "output_type": "execute_result"
    }
   ],
   "source": [
    "df.shape"
   ]
  },
  {
   "cell_type": "code",
   "execution_count": 8,
   "metadata": {},
   "outputs": [
    {
     "data": {
      "text/plain": [
       "True"
      ]
     },
     "execution_count": 8,
     "metadata": {},
     "output_type": "execute_result"
    }
   ],
   "source": [
    "df.size == 6109 * 64"
   ]
  },
  {
   "cell_type": "markdown",
   "metadata": {},
   "source": [
    "&nbsp;\n",
    "\n",
    "Other useful attributes include:\n",
    "* `.columns` provides the column names for the DataFrame\n",
    "* `.dtypes` provides the pandas datatype for each column\n",
    "\n",
    "We'll also use attributes (`.loc` and `.iloc`) to index our DataFrames later on.\n",
    "\n",
    "&nbsp;\n",
    "&nbsp;\n",
    "### <a id='toc3_2_'></a>[Methods](#toc0_)\n",
    "Much of the functionality for working with dataframes comes in the form of methods.  Methods are specialized **functions** that only work for a certain type of object, with the syntax:\n",
    "```\n",
    "<object name>.<method>()\n",
    "```\n",
    "\n",
    "We can look at the first 5 or last 5 rows in the dataset directly with the `.head()` and `.tail()` methods."
   ]
  },
  {
   "cell_type": "code",
   "execution_count": 9,
   "metadata": {},
   "outputs": [
    {
     "data": {
      "text/html": [
       "<div>\n",
       "<style scoped>\n",
       "    .dataframe tbody tr th:only-of-type {\n",
       "        vertical-align: middle;\n",
       "    }\n",
       "\n",
       "    .dataframe tbody tr th {\n",
       "        vertical-align: top;\n",
       "    }\n",
       "\n",
       "    .dataframe thead th {\n",
       "        text-align: right;\n",
       "    }\n",
       "</style>\n",
       "<table border=\"1\" class=\"dataframe\">\n",
       "  <thead>\n",
       "    <tr style=\"text-align: right;\">\n",
       "      <th></th>\n",
       "      <th>State</th>\n",
       "      <th>Region</th>\n",
       "      <th>Division</th>\n",
       "      <th>County</th>\n",
       "      <th>FIPS</th>\n",
       "      <th>GEOID</th>\n",
       "      <th>SMS Region</th>\n",
       "      <th>Year</th>\n",
       "      <th>Premature death</th>\n",
       "      <th>Poor or fair health</th>\n",
       "      <th>...</th>\n",
       "      <th>Drug poisoning deaths</th>\n",
       "      <th>Uninsured adults</th>\n",
       "      <th>Uninsured children</th>\n",
       "      <th>Health care costs</th>\n",
       "      <th>Could not see doctor due to cost</th>\n",
       "      <th>Other primary care providers</th>\n",
       "      <th>Median household income</th>\n",
       "      <th>Children eligible for free lunch</th>\n",
       "      <th>Homicide rate</th>\n",
       "      <th>Inadequate social support</th>\n",
       "    </tr>\n",
       "  </thead>\n",
       "  <tbody>\n",
       "    <tr>\n",
       "      <th>0</th>\n",
       "      <td>AK</td>\n",
       "      <td>West</td>\n",
       "      <td>Pacific</td>\n",
       "      <td>Aleutians West Census Area</td>\n",
       "      <td>2016</td>\n",
       "      <td>2016</td>\n",
       "      <td>Insuff Data</td>\n",
       "      <td>1/1/2014</td>\n",
       "      <td>NaN</td>\n",
       "      <td>0.122</td>\n",
       "      <td>...</td>\n",
       "      <td>NaN</td>\n",
       "      <td>0.374</td>\n",
       "      <td>0.250</td>\n",
       "      <td>3791.0</td>\n",
       "      <td>0.185</td>\n",
       "      <td>216.0</td>\n",
       "      <td>69192</td>\n",
       "      <td>0.127</td>\n",
       "      <td>NaN</td>\n",
       "      <td>0.287</td>\n",
       "    </tr>\n",
       "    <tr>\n",
       "      <th>1</th>\n",
       "      <td>AK</td>\n",
       "      <td>West</td>\n",
       "      <td>Pacific</td>\n",
       "      <td>Aleutians West Census Area</td>\n",
       "      <td>2016</td>\n",
       "      <td>2016</td>\n",
       "      <td>Insuff Data</td>\n",
       "      <td>1/1/2015</td>\n",
       "      <td>NaN</td>\n",
       "      <td>0.122</td>\n",
       "      <td>...</td>\n",
       "      <td>NaN</td>\n",
       "      <td>0.314</td>\n",
       "      <td>0.176</td>\n",
       "      <td>4837.0</td>\n",
       "      <td>0.185</td>\n",
       "      <td>254.0</td>\n",
       "      <td>74088</td>\n",
       "      <td>0.133</td>\n",
       "      <td>NaN</td>\n",
       "      <td>NaN</td>\n",
       "    </tr>\n",
       "    <tr>\n",
       "      <th>2</th>\n",
       "      <td>AK</td>\n",
       "      <td>West</td>\n",
       "      <td>Pacific</td>\n",
       "      <td>Anchorage Borough</td>\n",
       "      <td>2020</td>\n",
       "      <td>2020</td>\n",
       "      <td>Region 22</td>\n",
       "      <td>1/1/2014</td>\n",
       "      <td>6827.0</td>\n",
       "      <td>0.125</td>\n",
       "      <td>...</td>\n",
       "      <td>15.37</td>\n",
       "      <td>0.218</td>\n",
       "      <td>0.096</td>\n",
       "      <td>6588.0</td>\n",
       "      <td>0.119</td>\n",
       "      <td>135.0</td>\n",
       "      <td>71094</td>\n",
       "      <td>0.319</td>\n",
       "      <td>6.29</td>\n",
       "      <td>0.160</td>\n",
       "    </tr>\n",
       "    <tr>\n",
       "      <th>3</th>\n",
       "      <td>AK</td>\n",
       "      <td>West</td>\n",
       "      <td>Pacific</td>\n",
       "      <td>Anchorage Borough</td>\n",
       "      <td>2020</td>\n",
       "      <td>2020</td>\n",
       "      <td>Region 22</td>\n",
       "      <td>1/1/2015</td>\n",
       "      <td>6856.0</td>\n",
       "      <td>0.125</td>\n",
       "      <td>...</td>\n",
       "      <td>17.08</td>\n",
       "      <td>0.227</td>\n",
       "      <td>0.123</td>\n",
       "      <td>6582.0</td>\n",
       "      <td>0.119</td>\n",
       "      <td>148.0</td>\n",
       "      <td>76362</td>\n",
       "      <td>0.334</td>\n",
       "      <td>5.60</td>\n",
       "      <td>NaN</td>\n",
       "    </tr>\n",
       "    <tr>\n",
       "      <th>4</th>\n",
       "      <td>AK</td>\n",
       "      <td>West</td>\n",
       "      <td>Pacific</td>\n",
       "      <td>Bethel Census Area</td>\n",
       "      <td>2050</td>\n",
       "      <td>2050</td>\n",
       "      <td>Insuff Data</td>\n",
       "      <td>1/1/2014</td>\n",
       "      <td>13345.0</td>\n",
       "      <td>0.211</td>\n",
       "      <td>...</td>\n",
       "      <td>NaN</td>\n",
       "      <td>0.394</td>\n",
       "      <td>0.124</td>\n",
       "      <td>5860.0</td>\n",
       "      <td>0.200</td>\n",
       "      <td>169.0</td>\n",
       "      <td>41722</td>\n",
       "      <td>0.668</td>\n",
       "      <td>12.77</td>\n",
       "      <td>0.477</td>\n",
       "    </tr>\n",
       "  </tbody>\n",
       "</table>\n",
       "<p>5 rows × 64 columns</p>\n",
       "</div>"
      ],
      "text/plain": [
       "  State Region Division                      County  FIPS  GEOID   SMS Region  \\\n",
       "0    AK   West  Pacific  Aleutians West Census Area  2016   2016  Insuff Data   \n",
       "1    AK   West  Pacific  Aleutians West Census Area  2016   2016  Insuff Data   \n",
       "2    AK   West  Pacific           Anchorage Borough  2020   2020    Region 22   \n",
       "3    AK   West  Pacific           Anchorage Borough  2020   2020    Region 22   \n",
       "4    AK   West  Pacific          Bethel Census Area  2050   2050  Insuff Data   \n",
       "\n",
       "       Year  Premature death  Poor or fair health  ...  Drug poisoning deaths  \\\n",
       "0  1/1/2014              NaN                0.122  ...                    NaN   \n",
       "1  1/1/2015              NaN                0.122  ...                    NaN   \n",
       "2  1/1/2014           6827.0                0.125  ...                  15.37   \n",
       "3  1/1/2015           6856.0                0.125  ...                  17.08   \n",
       "4  1/1/2014          13345.0                0.211  ...                    NaN   \n",
       "\n",
       "   Uninsured adults  Uninsured children  Health care costs  \\\n",
       "0             0.374               0.250             3791.0   \n",
       "1             0.314               0.176             4837.0   \n",
       "2             0.218               0.096             6588.0   \n",
       "3             0.227               0.123             6582.0   \n",
       "4             0.394               0.124             5860.0   \n",
       "\n",
       "   Could not see doctor due to cost  Other primary care providers  \\\n",
       "0                             0.185                         216.0   \n",
       "1                             0.185                         254.0   \n",
       "2                             0.119                         135.0   \n",
       "3                             0.119                         148.0   \n",
       "4                             0.200                         169.0   \n",
       "\n",
       "   Median household income  Children eligible for free lunch  Homicide rate  \\\n",
       "0                    69192                             0.127            NaN   \n",
       "1                    74088                             0.133            NaN   \n",
       "2                    71094                             0.319           6.29   \n",
       "3                    76362                             0.334           5.60   \n",
       "4                    41722                             0.668          12.77   \n",
       "\n",
       "   Inadequate social support  \n",
       "0                      0.287  \n",
       "1                        NaN  \n",
       "2                      0.160  \n",
       "3                        NaN  \n",
       "4                      0.477  \n",
       "\n",
       "[5 rows x 64 columns]"
      ]
     },
     "execution_count": 9,
     "metadata": {},
     "output_type": "execute_result"
    }
   ],
   "source": [
    "df.head()"
   ]
  },
  {
   "cell_type": "markdown",
   "metadata": {},
   "source": [
    "Sometimes, our top and bottom rows aren't very representative, and we'd prefer to look at a random sample of rows to get a better sense of the data.  Note that we supply the parameter `n` to specify how many rows we want to sample."
   ]
  },
  {
   "cell_type": "code",
   "execution_count": 10,
   "metadata": {},
   "outputs": [
    {
     "data": {
      "text/html": [
       "<div>\n",
       "<style scoped>\n",
       "    .dataframe tbody tr th:only-of-type {\n",
       "        vertical-align: middle;\n",
       "    }\n",
       "\n",
       "    .dataframe tbody tr th {\n",
       "        vertical-align: top;\n",
       "    }\n",
       "\n",
       "    .dataframe thead th {\n",
       "        text-align: right;\n",
       "    }\n",
       "</style>\n",
       "<table border=\"1\" class=\"dataframe\">\n",
       "  <thead>\n",
       "    <tr style=\"text-align: right;\">\n",
       "      <th></th>\n",
       "      <th>State</th>\n",
       "      <th>Region</th>\n",
       "      <th>Division</th>\n",
       "      <th>County</th>\n",
       "      <th>FIPS</th>\n",
       "      <th>GEOID</th>\n",
       "      <th>SMS Region</th>\n",
       "      <th>Year</th>\n",
       "      <th>Premature death</th>\n",
       "      <th>Poor or fair health</th>\n",
       "      <th>...</th>\n",
       "      <th>Drug poisoning deaths</th>\n",
       "      <th>Uninsured adults</th>\n",
       "      <th>Uninsured children</th>\n",
       "      <th>Health care costs</th>\n",
       "      <th>Could not see doctor due to cost</th>\n",
       "      <th>Other primary care providers</th>\n",
       "      <th>Median household income</th>\n",
       "      <th>Children eligible for free lunch</th>\n",
       "      <th>Homicide rate</th>\n",
       "      <th>Inadequate social support</th>\n",
       "    </tr>\n",
       "  </thead>\n",
       "  <tbody>\n",
       "    <tr>\n",
       "      <th>3702</th>\n",
       "      <td>NH</td>\n",
       "      <td>Northeast</td>\n",
       "      <td>New England</td>\n",
       "      <td>Hillsborough County</td>\n",
       "      <td>33011</td>\n",
       "      <td>33011</td>\n",
       "      <td>Region 12</td>\n",
       "      <td>1/1/2014</td>\n",
       "      <td>4991.0</td>\n",
       "      <td>0.111</td>\n",
       "      <td>...</td>\n",
       "      <td>12.05</td>\n",
       "      <td>0.145</td>\n",
       "      <td>0.035</td>\n",
       "      <td>8805.0</td>\n",
       "      <td>0.095</td>\n",
       "      <td>86.0</td>\n",
       "      <td>68150</td>\n",
       "      <td>0.217</td>\n",
       "      <td>1.43</td>\n",
       "      <td>0.176</td>\n",
       "    </tr>\n",
       "    <tr>\n",
       "      <th>1196</th>\n",
       "      <td>IA</td>\n",
       "      <td>Midwest</td>\n",
       "      <td>West North Central</td>\n",
       "      <td>Madison County</td>\n",
       "      <td>19121</td>\n",
       "      <td>19121</td>\n",
       "      <td>Insuff Data</td>\n",
       "      <td>1/1/2014</td>\n",
       "      <td>5595.0</td>\n",
       "      <td>0.095</td>\n",
       "      <td>...</td>\n",
       "      <td>NaN</td>\n",
       "      <td>0.115</td>\n",
       "      <td>0.042</td>\n",
       "      <td>7703.0</td>\n",
       "      <td>0.096</td>\n",
       "      <td>38.0</td>\n",
       "      <td>59417</td>\n",
       "      <td>0.228</td>\n",
       "      <td>NaN</td>\n",
       "      <td>0.170</td>\n",
       "    </tr>\n",
       "    <tr>\n",
       "      <th>2130</th>\n",
       "      <td>KY</td>\n",
       "      <td>South</td>\n",
       "      <td>East South Central</td>\n",
       "      <td>Oldham County</td>\n",
       "      <td>21185</td>\n",
       "      <td>21185</td>\n",
       "      <td>Region 5</td>\n",
       "      <td>1/1/2015</td>\n",
       "      <td>5284.0</td>\n",
       "      <td>0.092</td>\n",
       "      <td>...</td>\n",
       "      <td>7.21</td>\n",
       "      <td>0.122</td>\n",
       "      <td>0.045</td>\n",
       "      <td>9981.0</td>\n",
       "      <td>0.068</td>\n",
       "      <td>47.0</td>\n",
       "      <td>86580</td>\n",
       "      <td>0.167</td>\n",
       "      <td>NaN</td>\n",
       "      <td>NaN</td>\n",
       "    </tr>\n",
       "    <tr>\n",
       "      <th>1861</th>\n",
       "      <td>KS</td>\n",
       "      <td>Midwest</td>\n",
       "      <td>West North Central</td>\n",
       "      <td>Mitchell County</td>\n",
       "      <td>20123</td>\n",
       "      <td>20123</td>\n",
       "      <td>Insuff Data</td>\n",
       "      <td>1/1/2014</td>\n",
       "      <td>7818.0</td>\n",
       "      <td>0.092</td>\n",
       "      <td>...</td>\n",
       "      <td>NaN</td>\n",
       "      <td>0.151</td>\n",
       "      <td>0.066</td>\n",
       "      <td>11400.0</td>\n",
       "      <td>0.099</td>\n",
       "      <td>47.0</td>\n",
       "      <td>46204</td>\n",
       "      <td>0.296</td>\n",
       "      <td>NaN</td>\n",
       "      <td>0.097</td>\n",
       "    </tr>\n",
       "    <tr>\n",
       "      <th>508</th>\n",
       "      <td>CO</td>\n",
       "      <td>West</td>\n",
       "      <td>Mountain</td>\n",
       "      <td>Dolores County</td>\n",
       "      <td>8033</td>\n",
       "      <td>8033</td>\n",
       "      <td>Insuff Data</td>\n",
       "      <td>1/1/2014</td>\n",
       "      <td>NaN</td>\n",
       "      <td>0.089</td>\n",
       "      <td>...</td>\n",
       "      <td>NaN</td>\n",
       "      <td>0.279</td>\n",
       "      <td>0.180</td>\n",
       "      <td>7197.0</td>\n",
       "      <td>NaN</td>\n",
       "      <td>50.0</td>\n",
       "      <td>39254</td>\n",
       "      <td>0.362</td>\n",
       "      <td>NaN</td>\n",
       "      <td>NaN</td>\n",
       "    </tr>\n",
       "  </tbody>\n",
       "</table>\n",
       "<p>5 rows × 64 columns</p>\n",
       "</div>"
      ],
      "text/plain": [
       "     State     Region            Division               County   FIPS  GEOID  \\\n",
       "3702    NH  Northeast         New England  Hillsborough County  33011  33011   \n",
       "1196    IA    Midwest  West North Central       Madison County  19121  19121   \n",
       "2130    KY      South  East South Central        Oldham County  21185  21185   \n",
       "1861    KS    Midwest  West North Central      Mitchell County  20123  20123   \n",
       "508     CO       West            Mountain       Dolores County   8033   8033   \n",
       "\n",
       "       SMS Region      Year  Premature death  Poor or fair health  ...  \\\n",
       "3702    Region 12  1/1/2014           4991.0                0.111  ...   \n",
       "1196  Insuff Data  1/1/2014           5595.0                0.095  ...   \n",
       "2130     Region 5  1/1/2015           5284.0                0.092  ...   \n",
       "1861  Insuff Data  1/1/2014           7818.0                0.092  ...   \n",
       "508   Insuff Data  1/1/2014              NaN                0.089  ...   \n",
       "\n",
       "      Drug poisoning deaths  Uninsured adults  Uninsured children  \\\n",
       "3702                  12.05             0.145               0.035   \n",
       "1196                    NaN             0.115               0.042   \n",
       "2130                   7.21             0.122               0.045   \n",
       "1861                    NaN             0.151               0.066   \n",
       "508                     NaN             0.279               0.180   \n",
       "\n",
       "      Health care costs  Could not see doctor due to cost  \\\n",
       "3702             8805.0                             0.095   \n",
       "1196             7703.0                             0.096   \n",
       "2130             9981.0                             0.068   \n",
       "1861            11400.0                             0.099   \n",
       "508              7197.0                               NaN   \n",
       "\n",
       "      Other primary care providers  Median household income  \\\n",
       "3702                          86.0                    68150   \n",
       "1196                          38.0                    59417   \n",
       "2130                          47.0                    86580   \n",
       "1861                          47.0                    46204   \n",
       "508                           50.0                    39254   \n",
       "\n",
       "      Children eligible for free lunch  Homicide rate  \\\n",
       "3702                             0.217           1.43   \n",
       "1196                             0.228            NaN   \n",
       "2130                             0.167            NaN   \n",
       "1861                             0.296            NaN   \n",
       "508                              0.362            NaN   \n",
       "\n",
       "      Inadequate social support  \n",
       "3702                      0.176  \n",
       "1196                      0.170  \n",
       "2130                        NaN  \n",
       "1861                      0.097  \n",
       "508                         NaN  \n",
       "\n",
       "[5 rows x 64 columns]"
      ]
     },
     "execution_count": 10,
     "metadata": {},
     "output_type": "execute_result"
    }
   ],
   "source": [
    "df.sample(n=5)"
   ]
  },
  {
   "cell_type": "markdown",
   "metadata": {},
   "source": [
    "&nbsp;\n",
    "\n",
    "We can also get basic summary statistics for each of our columns with the `.describe()` method. Normally, `.describe()` would only show us statistics for numeric columns, but we'll use an argument called \"include\" to summarize our categorical columns as well."
   ]
  },
  {
   "cell_type": "code",
   "execution_count": 11,
   "metadata": {},
   "outputs": [
    {
     "data": {
      "text/html": [
       "<div>\n",
       "<style scoped>\n",
       "    .dataframe tbody tr th:only-of-type {\n",
       "        vertical-align: middle;\n",
       "    }\n",
       "\n",
       "    .dataframe tbody tr th {\n",
       "        vertical-align: top;\n",
       "    }\n",
       "\n",
       "    .dataframe thead th {\n",
       "        text-align: right;\n",
       "    }\n",
       "</style>\n",
       "<table border=\"1\" class=\"dataframe\">\n",
       "  <thead>\n",
       "    <tr style=\"text-align: right;\">\n",
       "      <th></th>\n",
       "      <th>State</th>\n",
       "      <th>Region</th>\n",
       "      <th>Division</th>\n",
       "      <th>County</th>\n",
       "      <th>FIPS</th>\n",
       "      <th>GEOID</th>\n",
       "      <th>SMS Region</th>\n",
       "      <th>Year</th>\n",
       "      <th>Premature death</th>\n",
       "      <th>Poor or fair health</th>\n",
       "      <th>...</th>\n",
       "      <th>Drug poisoning deaths</th>\n",
       "      <th>Uninsured adults</th>\n",
       "      <th>Uninsured children</th>\n",
       "      <th>Health care costs</th>\n",
       "      <th>Could not see doctor due to cost</th>\n",
       "      <th>Other primary care providers</th>\n",
       "      <th>Median household income</th>\n",
       "      <th>Children eligible for free lunch</th>\n",
       "      <th>Homicide rate</th>\n",
       "      <th>Inadequate social support</th>\n",
       "    </tr>\n",
       "  </thead>\n",
       "  <tbody>\n",
       "    <tr>\n",
       "      <th>count</th>\n",
       "      <td>6109</td>\n",
       "      <td>6109</td>\n",
       "      <td>6109</td>\n",
       "      <td>6109</td>\n",
       "      <td>6109.00</td>\n",
       "      <td>6109.00</td>\n",
       "      <td>6109</td>\n",
       "      <td>6109</td>\n",
       "      <td>5984.00</td>\n",
       "      <td>5424.00</td>\n",
       "      <td>...</td>\n",
       "      <td>4113.00</td>\n",
       "      <td>6109.00</td>\n",
       "      <td>6109.00</td>\n",
       "      <td>6105.00</td>\n",
       "      <td>4755.00</td>\n",
       "      <td>5979.00</td>\n",
       "      <td>6109.00</td>\n",
       "      <td>5835.00</td>\n",
       "      <td>2484.00</td>\n",
       "      <td>2427.00</td>\n",
       "    </tr>\n",
       "    <tr>\n",
       "      <th>unique</th>\n",
       "      <td>51</td>\n",
       "      <td>4</td>\n",
       "      <td>9</td>\n",
       "      <td>1830</td>\n",
       "      <td>NaN</td>\n",
       "      <td>NaN</td>\n",
       "      <td>30</td>\n",
       "      <td>2</td>\n",
       "      <td>NaN</td>\n",
       "      <td>NaN</td>\n",
       "      <td>...</td>\n",
       "      <td>NaN</td>\n",
       "      <td>NaN</td>\n",
       "      <td>NaN</td>\n",
       "      <td>NaN</td>\n",
       "      <td>NaN</td>\n",
       "      <td>NaN</td>\n",
       "      <td>NaN</td>\n",
       "      <td>NaN</td>\n",
       "      <td>NaN</td>\n",
       "      <td>NaN</td>\n",
       "    </tr>\n",
       "    <tr>\n",
       "      <th>top</th>\n",
       "      <td>TX</td>\n",
       "      <td>South</td>\n",
       "      <td>South Atlantic</td>\n",
       "      <td>Washington County</td>\n",
       "      <td>NaN</td>\n",
       "      <td>NaN</td>\n",
       "      <td>Insuff Data</td>\n",
       "      <td>1/1/2015</td>\n",
       "      <td>NaN</td>\n",
       "      <td>NaN</td>\n",
       "      <td>...</td>\n",
       "      <td>NaN</td>\n",
       "      <td>NaN</td>\n",
       "      <td>NaN</td>\n",
       "      <td>NaN</td>\n",
       "      <td>NaN</td>\n",
       "      <td>NaN</td>\n",
       "      <td>NaN</td>\n",
       "      <td>NaN</td>\n",
       "      <td>NaN</td>\n",
       "      <td>NaN</td>\n",
       "    </tr>\n",
       "    <tr>\n",
       "      <th>freq</th>\n",
       "      <td>469</td>\n",
       "      <td>2803</td>\n",
       "      <td>1175</td>\n",
       "      <td>60</td>\n",
       "      <td>NaN</td>\n",
       "      <td>NaN</td>\n",
       "      <td>1608</td>\n",
       "      <td>3062</td>\n",
       "      <td>NaN</td>\n",
       "      <td>NaN</td>\n",
       "      <td>...</td>\n",
       "      <td>NaN</td>\n",
       "      <td>NaN</td>\n",
       "      <td>NaN</td>\n",
       "      <td>NaN</td>\n",
       "      <td>NaN</td>\n",
       "      <td>NaN</td>\n",
       "      <td>NaN</td>\n",
       "      <td>NaN</td>\n",
       "      <td>NaN</td>\n",
       "      <td>NaN</td>\n",
       "    </tr>\n",
       "    <tr>\n",
       "      <th>mean</th>\n",
       "      <td>NaN</td>\n",
       "      <td>NaN</td>\n",
       "      <td>NaN</td>\n",
       "      <td>NaN</td>\n",
       "      <td>30322.71</td>\n",
       "      <td>30322.71</td>\n",
       "      <td>NaN</td>\n",
       "      <td>NaN</td>\n",
       "      <td>8029.29</td>\n",
       "      <td>0.17</td>\n",
       "      <td>...</td>\n",
       "      <td>13.61</td>\n",
       "      <td>0.21</td>\n",
       "      <td>0.08</td>\n",
       "      <td>9454.27</td>\n",
       "      <td>0.15</td>\n",
       "      <td>57.34</td>\n",
       "      <td>45401.81</td>\n",
       "      <td>0.43</td>\n",
       "      <td>6.31</td>\n",
       "      <td>0.19</td>\n",
       "    </tr>\n",
       "    <tr>\n",
       "      <th>std</th>\n",
       "      <td>NaN</td>\n",
       "      <td>NaN</td>\n",
       "      <td>NaN</td>\n",
       "      <td>NaN</td>\n",
       "      <td>15177.99</td>\n",
       "      <td>15177.99</td>\n",
       "      <td>NaN</td>\n",
       "      <td>NaN</td>\n",
       "      <td>2413.81</td>\n",
       "      <td>0.06</td>\n",
       "      <td>...</td>\n",
       "      <td>7.40</td>\n",
       "      <td>0.07</td>\n",
       "      <td>0.04</td>\n",
       "      <td>1550.57</td>\n",
       "      <td>0.06</td>\n",
       "      <td>45.71</td>\n",
       "      <td>11603.61</td>\n",
       "      <td>0.17</td>\n",
       "      <td>4.70</td>\n",
       "      <td>0.05</td>\n",
       "    </tr>\n",
       "    <tr>\n",
       "      <th>min</th>\n",
       "      <td>NaN</td>\n",
       "      <td>NaN</td>\n",
       "      <td>NaN</td>\n",
       "      <td>NaN</td>\n",
       "      <td>1001.00</td>\n",
       "      <td>1001.00</td>\n",
       "      <td>NaN</td>\n",
       "      <td>NaN</td>\n",
       "      <td>2398.00</td>\n",
       "      <td>0.04</td>\n",
       "      <td>...</td>\n",
       "      <td>2.32</td>\n",
       "      <td>0.04</td>\n",
       "      <td>0.01</td>\n",
       "      <td>3791.00</td>\n",
       "      <td>0.03</td>\n",
       "      <td>0.00</td>\n",
       "      <td>21572.00</td>\n",
       "      <td>0.00</td>\n",
       "      <td>0.60</td>\n",
       "      <td>0.00</td>\n",
       "    </tr>\n",
       "    <tr>\n",
       "      <th>25%</th>\n",
       "      <td>NaN</td>\n",
       "      <td>NaN</td>\n",
       "      <td>NaN</td>\n",
       "      <td>NaN</td>\n",
       "      <td>18163.00</td>\n",
       "      <td>18163.00</td>\n",
       "      <td>NaN</td>\n",
       "      <td>NaN</td>\n",
       "      <td>6351.50</td>\n",
       "      <td>0.13</td>\n",
       "      <td>...</td>\n",
       "      <td>8.67</td>\n",
       "      <td>0.16</td>\n",
       "      <td>0.06</td>\n",
       "      <td>8379.00</td>\n",
       "      <td>0.11</td>\n",
       "      <td>31.00</td>\n",
       "      <td>37588.00</td>\n",
       "      <td>0.31</td>\n",
       "      <td>3.20</td>\n",
       "      <td>0.16</td>\n",
       "    </tr>\n",
       "    <tr>\n",
       "      <th>50%</th>\n",
       "      <td>NaN</td>\n",
       "      <td>NaN</td>\n",
       "      <td>NaN</td>\n",
       "      <td>NaN</td>\n",
       "      <td>29133.00</td>\n",
       "      <td>29133.00</td>\n",
       "      <td>NaN</td>\n",
       "      <td>NaN</td>\n",
       "      <td>7707.50</td>\n",
       "      <td>0.17</td>\n",
       "      <td>...</td>\n",
       "      <td>11.99</td>\n",
       "      <td>0.21</td>\n",
       "      <td>0.08</td>\n",
       "      <td>9380.00</td>\n",
       "      <td>0.15</td>\n",
       "      <td>48.00</td>\n",
       "      <td>43479.00</td>\n",
       "      <td>0.42</td>\n",
       "      <td>5.08</td>\n",
       "      <td>0.19</td>\n",
       "    </tr>\n",
       "    <tr>\n",
       "      <th>75%</th>\n",
       "      <td>NaN</td>\n",
       "      <td>NaN</td>\n",
       "      <td>NaN</td>\n",
       "      <td>NaN</td>\n",
       "      <td>45067.00</td>\n",
       "      <td>45067.00</td>\n",
       "      <td>NaN</td>\n",
       "      <td>NaN</td>\n",
       "      <td>9374.25</td>\n",
       "      <td>0.21</td>\n",
       "      <td>...</td>\n",
       "      <td>16.61</td>\n",
       "      <td>0.26</td>\n",
       "      <td>0.10</td>\n",
       "      <td>10412.00</td>\n",
       "      <td>0.19</td>\n",
       "      <td>72.00</td>\n",
       "      <td>50884.00</td>\n",
       "      <td>0.54</td>\n",
       "      <td>8.00</td>\n",
       "      <td>0.22</td>\n",
       "    </tr>\n",
       "    <tr>\n",
       "      <th>max</th>\n",
       "      <td>NaN</td>\n",
       "      <td>NaN</td>\n",
       "      <td>NaN</td>\n",
       "      <td>NaN</td>\n",
       "      <td>56045.00</td>\n",
       "      <td>56045.00</td>\n",
       "      <td>NaN</td>\n",
       "      <td>NaN</td>\n",
       "      <td>25394.00</td>\n",
       "      <td>0.51</td>\n",
       "      <td>...</td>\n",
       "      <td>79.78</td>\n",
       "      <td>0.52</td>\n",
       "      <td>0.26</td>\n",
       "      <td>21913.00</td>\n",
       "      <td>0.41</td>\n",
       "      <td>1348.00</td>\n",
       "      <td>121250.00</td>\n",
       "      <td>1.00</td>\n",
       "      <td>51.49</td>\n",
       "      <td>0.57</td>\n",
       "    </tr>\n",
       "  </tbody>\n",
       "</table>\n",
       "<p>11 rows × 64 columns</p>\n",
       "</div>"
      ],
      "text/plain": [
       "       State Region        Division             County      FIPS     GEOID  \\\n",
       "count   6109   6109            6109               6109   6109.00   6109.00   \n",
       "unique    51      4               9               1830       NaN       NaN   \n",
       "top       TX  South  South Atlantic  Washington County       NaN       NaN   \n",
       "freq     469   2803            1175                 60       NaN       NaN   \n",
       "mean     NaN    NaN             NaN                NaN  30322.71  30322.71   \n",
       "std      NaN    NaN             NaN                NaN  15177.99  15177.99   \n",
       "min      NaN    NaN             NaN                NaN   1001.00   1001.00   \n",
       "25%      NaN    NaN             NaN                NaN  18163.00  18163.00   \n",
       "50%      NaN    NaN             NaN                NaN  29133.00  29133.00   \n",
       "75%      NaN    NaN             NaN                NaN  45067.00  45067.00   \n",
       "max      NaN    NaN             NaN                NaN  56045.00  56045.00   \n",
       "\n",
       "         SMS Region      Year  Premature death  Poor or fair health  ...  \\\n",
       "count          6109      6109          5984.00              5424.00  ...   \n",
       "unique           30         2              NaN                  NaN  ...   \n",
       "top     Insuff Data  1/1/2015              NaN                  NaN  ...   \n",
       "freq           1608      3062              NaN                  NaN  ...   \n",
       "mean            NaN       NaN          8029.29                 0.17  ...   \n",
       "std             NaN       NaN          2413.81                 0.06  ...   \n",
       "min             NaN       NaN          2398.00                 0.04  ...   \n",
       "25%             NaN       NaN          6351.50                 0.13  ...   \n",
       "50%             NaN       NaN          7707.50                 0.17  ...   \n",
       "75%             NaN       NaN          9374.25                 0.21  ...   \n",
       "max             NaN       NaN         25394.00                 0.51  ...   \n",
       "\n",
       "        Drug poisoning deaths  Uninsured adults  Uninsured children  \\\n",
       "count                 4113.00           6109.00             6109.00   \n",
       "unique                    NaN               NaN                 NaN   \n",
       "top                       NaN               NaN                 NaN   \n",
       "freq                      NaN               NaN                 NaN   \n",
       "mean                    13.61              0.21                0.08   \n",
       "std                      7.40              0.07                0.04   \n",
       "min                      2.32              0.04                0.01   \n",
       "25%                      8.67              0.16                0.06   \n",
       "50%                     11.99              0.21                0.08   \n",
       "75%                     16.61              0.26                0.10   \n",
       "max                     79.78              0.52                0.26   \n",
       "\n",
       "        Health care costs  Could not see doctor due to cost  \\\n",
       "count             6105.00                           4755.00   \n",
       "unique                NaN                               NaN   \n",
       "top                   NaN                               NaN   \n",
       "freq                  NaN                               NaN   \n",
       "mean              9454.27                              0.15   \n",
       "std               1550.57                              0.06   \n",
       "min               3791.00                              0.03   \n",
       "25%               8379.00                              0.11   \n",
       "50%               9380.00                              0.15   \n",
       "75%              10412.00                              0.19   \n",
       "max              21913.00                              0.41   \n",
       "\n",
       "        Other primary care providers  Median household income  \\\n",
       "count                        5979.00                  6109.00   \n",
       "unique                           NaN                      NaN   \n",
       "top                              NaN                      NaN   \n",
       "freq                             NaN                      NaN   \n",
       "mean                           57.34                 45401.81   \n",
       "std                            45.71                 11603.61   \n",
       "min                             0.00                 21572.00   \n",
       "25%                            31.00                 37588.00   \n",
       "50%                            48.00                 43479.00   \n",
       "75%                            72.00                 50884.00   \n",
       "max                          1348.00                121250.00   \n",
       "\n",
       "        Children eligible for free lunch  Homicide rate  \\\n",
       "count                            5835.00        2484.00   \n",
       "unique                               NaN            NaN   \n",
       "top                                  NaN            NaN   \n",
       "freq                                 NaN            NaN   \n",
       "mean                                0.43           6.31   \n",
       "std                                 0.17           4.70   \n",
       "min                                 0.00           0.60   \n",
       "25%                                 0.31           3.20   \n",
       "50%                                 0.42           5.08   \n",
       "75%                                 0.54           8.00   \n",
       "max                                 1.00          51.49   \n",
       "\n",
       "        Inadequate social support  \n",
       "count                     2427.00  \n",
       "unique                        NaN  \n",
       "top                           NaN  \n",
       "freq                          NaN  \n",
       "mean                         0.19  \n",
       "std                          0.05  \n",
       "min                          0.00  \n",
       "25%                          0.16  \n",
       "50%                          0.19  \n",
       "75%                          0.22  \n",
       "max                          0.57  \n",
       "\n",
       "[11 rows x 64 columns]"
      ]
     },
     "execution_count": 11,
     "metadata": {},
     "output_type": "execute_result"
    }
   ],
   "source": [
    "df.describe(include = \"all\").round(2) \n",
    "#.round(2) allows us to round all of our numbers by 2 decimal places."
   ]
  },
  {
   "cell_type": "markdown",
   "metadata": {},
   "source": [
    "You can get help for a method or attribute as follows:"
   ]
  },
  {
   "cell_type": "code",
   "execution_count": 12,
   "metadata": {},
   "outputs": [
    {
     "name": "stdout",
     "output_type": "stream",
     "text": [
      "Help on property:\n",
      "\n",
      "    Return a tuple representing the dimensionality of the DataFrame.\n",
      "    \n",
      "    See Also\n",
      "    --------\n",
      "    ndarray.shape : Tuple of array dimensions.\n",
      "    \n",
      "    Examples\n",
      "    --------\n",
      "    >>> df = pd.DataFrame({'col1': [1, 2], 'col2': [3, 4]})\n",
      "    >>> df.shape\n",
      "    (2, 2)\n",
      "    \n",
      "    >>> df = pd.DataFrame({'col1': [1, 2], 'col2': [3, 4],\n",
      "    ...                    'col3': [5, 6]})\n",
      "    >>> df.shape\n",
      "    (2, 3)\n",
      "\n"
     ]
    }
   ],
   "source": [
    "help(pd.DataFrame.shape)"
   ]
  },
  {
   "cell_type": "markdown",
   "metadata": {},
   "source": [
    "A full list of attributes and methods for DataFrames is available in the [documentation](https://pandas.pydata.org/docs/reference/api/pandas.DataFrame.html).\n",
    "&nbsp;\n",
    "## <a id='toc4_'></a>[Indexing](#toc0_)\n",
    "\n",
    "We'll often want to select certain rows or columns from a large dataframe. As with elements in a list, this can be accomplished using indexing. There are some limitations, however. For example, we can use numbers in square brackets to select certain rows, but doing so always returns all the columns in our dataset:"
   ]
  },
  {
   "cell_type": "code",
   "execution_count": 13,
   "metadata": {},
   "outputs": [
    {
     "data": {
      "text/html": [
       "<div>\n",
       "<style scoped>\n",
       "    .dataframe tbody tr th:only-of-type {\n",
       "        vertical-align: middle;\n",
       "    }\n",
       "\n",
       "    .dataframe tbody tr th {\n",
       "        vertical-align: top;\n",
       "    }\n",
       "\n",
       "    .dataframe thead th {\n",
       "        text-align: right;\n",
       "    }\n",
       "</style>\n",
       "<table border=\"1\" class=\"dataframe\">\n",
       "  <thead>\n",
       "    <tr style=\"text-align: right;\">\n",
       "      <th></th>\n",
       "      <th>State</th>\n",
       "      <th>Region</th>\n",
       "      <th>Division</th>\n",
       "      <th>County</th>\n",
       "      <th>FIPS</th>\n",
       "      <th>GEOID</th>\n",
       "      <th>SMS Region</th>\n",
       "      <th>Year</th>\n",
       "      <th>Premature death</th>\n",
       "      <th>Poor or fair health</th>\n",
       "      <th>...</th>\n",
       "      <th>Drug poisoning deaths</th>\n",
       "      <th>Uninsured adults</th>\n",
       "      <th>Uninsured children</th>\n",
       "      <th>Health care costs</th>\n",
       "      <th>Could not see doctor due to cost</th>\n",
       "      <th>Other primary care providers</th>\n",
       "      <th>Median household income</th>\n",
       "      <th>Children eligible for free lunch</th>\n",
       "      <th>Homicide rate</th>\n",
       "      <th>Inadequate social support</th>\n",
       "    </tr>\n",
       "  </thead>\n",
       "  <tbody>\n",
       "    <tr>\n",
       "      <th>0</th>\n",
       "      <td>AK</td>\n",
       "      <td>West</td>\n",
       "      <td>Pacific</td>\n",
       "      <td>Aleutians West Census Area</td>\n",
       "      <td>2016</td>\n",
       "      <td>2016</td>\n",
       "      <td>Insuff Data</td>\n",
       "      <td>1/1/2014</td>\n",
       "      <td>NaN</td>\n",
       "      <td>0.122</td>\n",
       "      <td>...</td>\n",
       "      <td>NaN</td>\n",
       "      <td>0.374</td>\n",
       "      <td>0.250</td>\n",
       "      <td>3791.0</td>\n",
       "      <td>0.185</td>\n",
       "      <td>216.0</td>\n",
       "      <td>69192</td>\n",
       "      <td>0.127</td>\n",
       "      <td>NaN</td>\n",
       "      <td>0.287</td>\n",
       "    </tr>\n",
       "    <tr>\n",
       "      <th>1</th>\n",
       "      <td>AK</td>\n",
       "      <td>West</td>\n",
       "      <td>Pacific</td>\n",
       "      <td>Aleutians West Census Area</td>\n",
       "      <td>2016</td>\n",
       "      <td>2016</td>\n",
       "      <td>Insuff Data</td>\n",
       "      <td>1/1/2015</td>\n",
       "      <td>NaN</td>\n",
       "      <td>0.122</td>\n",
       "      <td>...</td>\n",
       "      <td>NaN</td>\n",
       "      <td>0.314</td>\n",
       "      <td>0.176</td>\n",
       "      <td>4837.0</td>\n",
       "      <td>0.185</td>\n",
       "      <td>254.0</td>\n",
       "      <td>74088</td>\n",
       "      <td>0.133</td>\n",
       "      <td>NaN</td>\n",
       "      <td>NaN</td>\n",
       "    </tr>\n",
       "    <tr>\n",
       "      <th>2</th>\n",
       "      <td>AK</td>\n",
       "      <td>West</td>\n",
       "      <td>Pacific</td>\n",
       "      <td>Anchorage Borough</td>\n",
       "      <td>2020</td>\n",
       "      <td>2020</td>\n",
       "      <td>Region 22</td>\n",
       "      <td>1/1/2014</td>\n",
       "      <td>6827.0</td>\n",
       "      <td>0.125</td>\n",
       "      <td>...</td>\n",
       "      <td>15.37</td>\n",
       "      <td>0.218</td>\n",
       "      <td>0.096</td>\n",
       "      <td>6588.0</td>\n",
       "      <td>0.119</td>\n",
       "      <td>135.0</td>\n",
       "      <td>71094</td>\n",
       "      <td>0.319</td>\n",
       "      <td>6.29</td>\n",
       "      <td>0.160</td>\n",
       "    </tr>\n",
       "  </tbody>\n",
       "</table>\n",
       "<p>3 rows × 64 columns</p>\n",
       "</div>"
      ],
      "text/plain": [
       "  State Region Division                      County  FIPS  GEOID   SMS Region  \\\n",
       "0    AK   West  Pacific  Aleutians West Census Area  2016   2016  Insuff Data   \n",
       "1    AK   West  Pacific  Aleutians West Census Area  2016   2016  Insuff Data   \n",
       "2    AK   West  Pacific           Anchorage Borough  2020   2020    Region 22   \n",
       "\n",
       "       Year  Premature death  Poor or fair health  ...  Drug poisoning deaths  \\\n",
       "0  1/1/2014              NaN                0.122  ...                    NaN   \n",
       "1  1/1/2015              NaN                0.122  ...                    NaN   \n",
       "2  1/1/2014           6827.0                0.125  ...                  15.37   \n",
       "\n",
       "   Uninsured adults  Uninsured children  Health care costs  \\\n",
       "0             0.374               0.250             3791.0   \n",
       "1             0.314               0.176             4837.0   \n",
       "2             0.218               0.096             6588.0   \n",
       "\n",
       "   Could not see doctor due to cost  Other primary care providers  \\\n",
       "0                             0.185                         216.0   \n",
       "1                             0.185                         254.0   \n",
       "2                             0.119                         135.0   \n",
       "\n",
       "   Median household income  Children eligible for free lunch  Homicide rate  \\\n",
       "0                    69192                             0.127            NaN   \n",
       "1                    74088                             0.133            NaN   \n",
       "2                    71094                             0.319           6.29   \n",
       "\n",
       "   Inadequate social support  \n",
       "0                      0.287  \n",
       "1                        NaN  \n",
       "2                      0.160  \n",
       "\n",
       "[3 rows x 64 columns]"
      ]
     },
     "execution_count": 13,
     "metadata": {},
     "output_type": "execute_result"
    }
   ],
   "source": [
    "df[0:3]"
   ]
  },
  {
   "cell_type": "markdown",
   "metadata": {},
   "source": [
    "&nbsp;\n",
    "\n",
    "We can select rows for specific columns using the column names."
   ]
  },
  {
   "cell_type": "code",
   "execution_count": 14,
   "metadata": {},
   "outputs": [
    {
     "data": {
      "text/plain": [
       "5    AK\n",
       "6    AK\n",
       "7    AK\n",
       "8    AK\n",
       "9    AK\n",
       "Name: State, dtype: object"
      ]
     },
     "execution_count": 14,
     "metadata": {},
     "output_type": "execute_result"
    }
   ],
   "source": [
    "df[\"State\"][5:10]"
   ]
  },
  {
   "cell_type": "markdown",
   "metadata": {},
   "source": [
    "&nbsp;\n",
    "\n",
    "If we want to select multiple columns, we must list them in their own nested set of square brackets."
   ]
  },
  {
   "cell_type": "code",
   "execution_count": 15,
   "metadata": {},
   "outputs": [
    {
     "data": {
      "text/html": [
       "<div>\n",
       "<style scoped>\n",
       "    .dataframe tbody tr th:only-of-type {\n",
       "        vertical-align: middle;\n",
       "    }\n",
       "\n",
       "    .dataframe tbody tr th {\n",
       "        vertical-align: top;\n",
       "    }\n",
       "\n",
       "    .dataframe thead th {\n",
       "        text-align: right;\n",
       "    }\n",
       "</style>\n",
       "<table border=\"1\" class=\"dataframe\">\n",
       "  <thead>\n",
       "    <tr style=\"text-align: right;\">\n",
       "      <th></th>\n",
       "      <th>State</th>\n",
       "      <th>Year</th>\n",
       "      <th>County</th>\n",
       "      <th>Uninsured adults</th>\n",
       "    </tr>\n",
       "  </thead>\n",
       "  <tbody>\n",
       "    <tr>\n",
       "      <th>19</th>\n",
       "      <td>AK</td>\n",
       "      <td>1/1/2015</td>\n",
       "      <td>Kodiak Island Borough</td>\n",
       "      <td>0.320</td>\n",
       "    </tr>\n",
       "    <tr>\n",
       "      <th>20</th>\n",
       "      <td>AK</td>\n",
       "      <td>1/1/2014</td>\n",
       "      <td>Lake and Peninsula Borough</td>\n",
       "      <td>0.434</td>\n",
       "    </tr>\n",
       "    <tr>\n",
       "      <th>21</th>\n",
       "      <td>AK</td>\n",
       "      <td>1/1/2015</td>\n",
       "      <td>Lake and Peninsula Borough</td>\n",
       "      <td>0.406</td>\n",
       "    </tr>\n",
       "    <tr>\n",
       "      <th>22</th>\n",
       "      <td>AK</td>\n",
       "      <td>1/1/2014</td>\n",
       "      <td>Matanuska-Susitna Borough</td>\n",
       "      <td>0.266</td>\n",
       "    </tr>\n",
       "    <tr>\n",
       "      <th>23</th>\n",
       "      <td>AK</td>\n",
       "      <td>1/1/2015</td>\n",
       "      <td>Matanuska-Susitna Borough</td>\n",
       "      <td>0.254</td>\n",
       "    </tr>\n",
       "    <tr>\n",
       "      <th>24</th>\n",
       "      <td>AK</td>\n",
       "      <td>1/1/2014</td>\n",
       "      <td>Nome Census Area</td>\n",
       "      <td>0.373</td>\n",
       "    </tr>\n",
       "  </tbody>\n",
       "</table>\n",
       "</div>"
      ],
      "text/plain": [
       "   State      Year                      County  Uninsured adults\n",
       "19    AK  1/1/2015       Kodiak Island Borough             0.320\n",
       "20    AK  1/1/2014  Lake and Peninsula Borough             0.434\n",
       "21    AK  1/1/2015  Lake and Peninsula Borough             0.406\n",
       "22    AK  1/1/2014   Matanuska-Susitna Borough             0.266\n",
       "23    AK  1/1/2015   Matanuska-Susitna Borough             0.254\n",
       "24    AK  1/1/2014            Nome Census Area             0.373"
      ]
     },
     "execution_count": 15,
     "metadata": {},
     "output_type": "execute_result"
    }
   ],
   "source": [
    "df[[\"State\", \"Year\", \"County\", \"Uninsured adults\"]][19:25]"
   ]
  },
  {
   "cell_type": "markdown",
   "metadata": {},
   "source": [
    "&nbsp;\n",
    "\n",
    "Typing all those names out gets tiring after a while, though. What if we try to select a column by number instead? **Running the code below produces an error.** This is where the attributes `.iloc` and `.loc` become useful."
   ]
  },
  {
   "cell_type": "code",
   "execution_count": 16,
   "metadata": {
    "scrolled": true
   },
   "outputs": [],
   "source": [
    "# df[1][0:3]"
   ]
  },
  {
   "cell_type": "markdown",
   "metadata": {},
   "source": [
    "&nbsp;\n",
    "\n",
    "### <a id='toc4_1_'></a>[`.iloc`](#toc0_)"
   ]
  },
  {
   "cell_type": "markdown",
   "metadata": {},
   "source": [
    "If we use the `.iloc` attribute before our brackets, pandas accepts two numbers separated by a comma. The first number is for rows and the second for columns. Below, we select the second row and third column."
   ]
  },
  {
   "cell_type": "code",
   "execution_count": 17,
   "metadata": {},
   "outputs": [
    {
     "data": {
      "text/plain": [
       "'Anchorage Borough'"
      ]
     },
     "execution_count": 17,
     "metadata": {},
     "output_type": "execute_result"
    }
   ],
   "source": [
    "df.iloc[2,3]"
   ]
  },
  {
   "cell_type": "markdown",
   "metadata": {},
   "source": [
    "&nbsp;\n",
    "\n",
    "We can also use a colon to select multiple rows or columns at once. Note the examples below."
   ]
  },
  {
   "cell_type": "code",
   "execution_count": 18,
   "metadata": {},
   "outputs": [
    {
     "data": {
      "text/plain": [
       "0       Aleutians West Census Area\n",
       "1       Aleutians West Census Area\n",
       "2                Anchorage Borough\n",
       "3                Anchorage Borough\n",
       "4               Bethel Census Area\n",
       "                   ...            \n",
       "6104                  Uinta County\n",
       "6105               Washakie County\n",
       "6106               Washakie County\n",
       "6107                 Weston County\n",
       "6108                 Weston County\n",
       "Name: County, Length: 6109, dtype: object"
      ]
     },
     "execution_count": 18,
     "metadata": {},
     "output_type": "execute_result"
    }
   ],
   "source": [
    "df.iloc[:,3] # All rows of column 3"
   ]
  },
  {
   "cell_type": "markdown",
   "metadata": {},
   "source": [
    "&nbsp;\n",
    "\n"
   ]
  },
  {
   "cell_type": "code",
   "execution_count": 19,
   "metadata": {},
   "outputs": [
    {
     "data": {
      "text/html": [
       "<div>\n",
       "<style scoped>\n",
       "    .dataframe tbody tr th:only-of-type {\n",
       "        vertical-align: middle;\n",
       "    }\n",
       "\n",
       "    .dataframe tbody tr th {\n",
       "        vertical-align: top;\n",
       "    }\n",
       "\n",
       "    .dataframe thead th {\n",
       "        text-align: right;\n",
       "    }\n",
       "</style>\n",
       "<table border=\"1\" class=\"dataframe\">\n",
       "  <thead>\n",
       "    <tr style=\"text-align: right;\">\n",
       "      <th></th>\n",
       "      <th>State</th>\n",
       "      <th>Region</th>\n",
       "      <th>Division</th>\n",
       "      <th>County</th>\n",
       "      <th>FIPS</th>\n",
       "      <th>GEOID</th>\n",
       "      <th>SMS Region</th>\n",
       "      <th>Year</th>\n",
       "      <th>Premature death</th>\n",
       "      <th>Poor or fair health</th>\n",
       "      <th>...</th>\n",
       "      <th>Drug poisoning deaths</th>\n",
       "      <th>Uninsured adults</th>\n",
       "      <th>Uninsured children</th>\n",
       "      <th>Health care costs</th>\n",
       "      <th>Could not see doctor due to cost</th>\n",
       "      <th>Other primary care providers</th>\n",
       "      <th>Median household income</th>\n",
       "      <th>Children eligible for free lunch</th>\n",
       "      <th>Homicide rate</th>\n",
       "      <th>Inadequate social support</th>\n",
       "    </tr>\n",
       "  </thead>\n",
       "  <tbody>\n",
       "    <tr>\n",
       "      <th>0</th>\n",
       "      <td>AK</td>\n",
       "      <td>West</td>\n",
       "      <td>Pacific</td>\n",
       "      <td>Aleutians West Census Area</td>\n",
       "      <td>2016</td>\n",
       "      <td>2016</td>\n",
       "      <td>Insuff Data</td>\n",
       "      <td>1/1/2014</td>\n",
       "      <td>NaN</td>\n",
       "      <td>0.122</td>\n",
       "      <td>...</td>\n",
       "      <td>NaN</td>\n",
       "      <td>0.374</td>\n",
       "      <td>0.250</td>\n",
       "      <td>3791.0</td>\n",
       "      <td>0.185</td>\n",
       "      <td>216.0</td>\n",
       "      <td>69192</td>\n",
       "      <td>0.127</td>\n",
       "      <td>NaN</td>\n",
       "      <td>0.287</td>\n",
       "    </tr>\n",
       "    <tr>\n",
       "      <th>1</th>\n",
       "      <td>AK</td>\n",
       "      <td>West</td>\n",
       "      <td>Pacific</td>\n",
       "      <td>Aleutians West Census Area</td>\n",
       "      <td>2016</td>\n",
       "      <td>2016</td>\n",
       "      <td>Insuff Data</td>\n",
       "      <td>1/1/2015</td>\n",
       "      <td>NaN</td>\n",
       "      <td>0.122</td>\n",
       "      <td>...</td>\n",
       "      <td>NaN</td>\n",
       "      <td>0.314</td>\n",
       "      <td>0.176</td>\n",
       "      <td>4837.0</td>\n",
       "      <td>0.185</td>\n",
       "      <td>254.0</td>\n",
       "      <td>74088</td>\n",
       "      <td>0.133</td>\n",
       "      <td>NaN</td>\n",
       "      <td>NaN</td>\n",
       "    </tr>\n",
       "    <tr>\n",
       "      <th>2</th>\n",
       "      <td>AK</td>\n",
       "      <td>West</td>\n",
       "      <td>Pacific</td>\n",
       "      <td>Anchorage Borough</td>\n",
       "      <td>2020</td>\n",
       "      <td>2020</td>\n",
       "      <td>Region 22</td>\n",
       "      <td>1/1/2014</td>\n",
       "      <td>6827.0</td>\n",
       "      <td>0.125</td>\n",
       "      <td>...</td>\n",
       "      <td>15.37</td>\n",
       "      <td>0.218</td>\n",
       "      <td>0.096</td>\n",
       "      <td>6588.0</td>\n",
       "      <td>0.119</td>\n",
       "      <td>135.0</td>\n",
       "      <td>71094</td>\n",
       "      <td>0.319</td>\n",
       "      <td>6.29</td>\n",
       "      <td>0.160</td>\n",
       "    </tr>\n",
       "  </tbody>\n",
       "</table>\n",
       "<p>3 rows × 64 columns</p>\n",
       "</div>"
      ],
      "text/plain": [
       "  State Region Division                      County  FIPS  GEOID   SMS Region  \\\n",
       "0    AK   West  Pacific  Aleutians West Census Area  2016   2016  Insuff Data   \n",
       "1    AK   West  Pacific  Aleutians West Census Area  2016   2016  Insuff Data   \n",
       "2    AK   West  Pacific           Anchorage Borough  2020   2020    Region 22   \n",
       "\n",
       "       Year  Premature death  Poor or fair health  ...  Drug poisoning deaths  \\\n",
       "0  1/1/2014              NaN                0.122  ...                    NaN   \n",
       "1  1/1/2015              NaN                0.122  ...                    NaN   \n",
       "2  1/1/2014           6827.0                0.125  ...                  15.37   \n",
       "\n",
       "   Uninsured adults  Uninsured children  Health care costs  \\\n",
       "0             0.374               0.250             3791.0   \n",
       "1             0.314               0.176             4837.0   \n",
       "2             0.218               0.096             6588.0   \n",
       "\n",
       "   Could not see doctor due to cost  Other primary care providers  \\\n",
       "0                             0.185                         216.0   \n",
       "1                             0.185                         254.0   \n",
       "2                             0.119                         135.0   \n",
       "\n",
       "   Median household income  Children eligible for free lunch  Homicide rate  \\\n",
       "0                    69192                             0.127            NaN   \n",
       "1                    74088                             0.133            NaN   \n",
       "2                    71094                             0.319           6.29   \n",
       "\n",
       "   Inadequate social support  \n",
       "0                      0.287  \n",
       "1                        NaN  \n",
       "2                      0.160  \n",
       "\n",
       "[3 rows x 64 columns]"
      ]
     },
     "execution_count": 19,
     "metadata": {},
     "output_type": "execute_result"
    }
   ],
   "source": [
    "df.iloc[0:3,:] # Rows 0-2 of all columns"
   ]
  },
  {
   "cell_type": "markdown",
   "metadata": {},
   "source": [
    "&nbsp;\n",
    "\n"
   ]
  },
  {
   "cell_type": "code",
   "execution_count": 20,
   "metadata": {},
   "outputs": [
    {
     "data": {
      "text/html": [
       "<div>\n",
       "<style scoped>\n",
       "    .dataframe tbody tr th:only-of-type {\n",
       "        vertical-align: middle;\n",
       "    }\n",
       "\n",
       "    .dataframe tbody tr th {\n",
       "        vertical-align: top;\n",
       "    }\n",
       "\n",
       "    .dataframe thead th {\n",
       "        text-align: right;\n",
       "    }\n",
       "</style>\n",
       "<table border=\"1\" class=\"dataframe\">\n",
       "  <thead>\n",
       "    <tr style=\"text-align: right;\">\n",
       "      <th></th>\n",
       "      <th>Division</th>\n",
       "      <th>County</th>\n",
       "      <th>FIPS</th>\n",
       "      <th>GEOID</th>\n",
       "      <th>SMS Region</th>\n",
       "      <th>Year</th>\n",
       "    </tr>\n",
       "  </thead>\n",
       "  <tbody>\n",
       "    <tr>\n",
       "      <th>120</th>\n",
       "      <td>East South Central</td>\n",
       "      <td>Lamar County</td>\n",
       "      <td>1075</td>\n",
       "      <td>1075</td>\n",
       "      <td>Region 16</td>\n",
       "      <td>1/1/2014</td>\n",
       "    </tr>\n",
       "    <tr>\n",
       "      <th>121</th>\n",
       "      <td>East South Central</td>\n",
       "      <td>Lamar County</td>\n",
       "      <td>1075</td>\n",
       "      <td>1075</td>\n",
       "      <td>Region 16</td>\n",
       "      <td>1/1/2015</td>\n",
       "    </tr>\n",
       "    <tr>\n",
       "      <th>122</th>\n",
       "      <td>East South Central</td>\n",
       "      <td>Lauderdale County</td>\n",
       "      <td>1077</td>\n",
       "      <td>1077</td>\n",
       "      <td>Region 16</td>\n",
       "      <td>1/1/2014</td>\n",
       "    </tr>\n",
       "    <tr>\n",
       "      <th>123</th>\n",
       "      <td>East South Central</td>\n",
       "      <td>Lauderdale County</td>\n",
       "      <td>1077</td>\n",
       "      <td>1077</td>\n",
       "      <td>Region 16</td>\n",
       "      <td>1/1/2015</td>\n",
       "    </tr>\n",
       "    <tr>\n",
       "      <th>124</th>\n",
       "      <td>East South Central</td>\n",
       "      <td>Lawrence County</td>\n",
       "      <td>1079</td>\n",
       "      <td>1079</td>\n",
       "      <td>Region 16</td>\n",
       "      <td>1/1/2014</td>\n",
       "    </tr>\n",
       "    <tr>\n",
       "      <th>125</th>\n",
       "      <td>East South Central</td>\n",
       "      <td>Lawrence County</td>\n",
       "      <td>1079</td>\n",
       "      <td>1079</td>\n",
       "      <td>Region 16</td>\n",
       "      <td>1/1/2015</td>\n",
       "    </tr>\n",
       "  </tbody>\n",
       "</table>\n",
       "</div>"
      ],
      "text/plain": [
       "               Division             County  FIPS  GEOID SMS Region      Year\n",
       "120  East South Central       Lamar County  1075   1075  Region 16  1/1/2014\n",
       "121  East South Central       Lamar County  1075   1075  Region 16  1/1/2015\n",
       "122  East South Central  Lauderdale County  1077   1077  Region 16  1/1/2014\n",
       "123  East South Central  Lauderdale County  1077   1077  Region 16  1/1/2015\n",
       "124  East South Central    Lawrence County  1079   1079  Region 16  1/1/2014\n",
       "125  East South Central    Lawrence County  1079   1079  Region 16  1/1/2015"
      ]
     },
     "execution_count": 20,
     "metadata": {},
     "output_type": "execute_result"
    }
   ],
   "source": [
    "df.iloc[120:126,2:8] # Rows 120-125 of columns 2-8"
   ]
  },
  {
   "cell_type": "markdown",
   "metadata": {},
   "source": [
    "&nbsp;\n",
    "\n",
    "### <a id='toc4_2_'></a>[`.loc`](#toc0_)"
   ]
  },
  {
   "cell_type": "markdown",
   "metadata": {},
   "source": [
    "The **i** in `iloc` stands for **integer**. If we still want to use the column names, we can use the `.loc` attribute instead."
   ]
  },
  {
   "cell_type": "code",
   "execution_count": 21,
   "metadata": {},
   "outputs": [
    {
     "data": {
      "text/plain": [
       "0    Pacific\n",
       "1    Pacific\n",
       "2    Pacific\n",
       "3    Pacific\n",
       "Name: Division, dtype: object"
      ]
     },
     "execution_count": 21,
     "metadata": {},
     "output_type": "execute_result"
    }
   ],
   "source": [
    "df.loc[0:3,\"Division\"]"
   ]
  },
  {
   "cell_type": "markdown",
   "metadata": {},
   "source": [
    "&nbsp;\n",
    "\n"
   ]
  },
  {
   "cell_type": "code",
   "execution_count": 22,
   "metadata": {},
   "outputs": [
    {
     "data": {
      "text/html": [
       "<div>\n",
       "<style scoped>\n",
       "    .dataframe tbody tr th:only-of-type {\n",
       "        vertical-align: middle;\n",
       "    }\n",
       "\n",
       "    .dataframe tbody tr th {\n",
       "        vertical-align: top;\n",
       "    }\n",
       "\n",
       "    .dataframe thead th {\n",
       "        text-align: right;\n",
       "    }\n",
       "</style>\n",
       "<table border=\"1\" class=\"dataframe\">\n",
       "  <thead>\n",
       "    <tr style=\"text-align: right;\">\n",
       "      <th></th>\n",
       "      <th>State</th>\n",
       "      <th>County</th>\n",
       "      <th>Food environment index</th>\n",
       "    </tr>\n",
       "  </thead>\n",
       "  <tbody>\n",
       "    <tr>\n",
       "      <th>0</th>\n",
       "      <td>AK</td>\n",
       "      <td>Aleutians West Census Area</td>\n",
       "      <td>7.002</td>\n",
       "    </tr>\n",
       "    <tr>\n",
       "      <th>1</th>\n",
       "      <td>AK</td>\n",
       "      <td>Aleutians West Census Area</td>\n",
       "      <td>6.600</td>\n",
       "    </tr>\n",
       "    <tr>\n",
       "      <th>2</th>\n",
       "      <td>AK</td>\n",
       "      <td>Anchorage Borough</td>\n",
       "      <td>8.185</td>\n",
       "    </tr>\n",
       "    <tr>\n",
       "      <th>3</th>\n",
       "      <td>AK</td>\n",
       "      <td>Anchorage Borough</td>\n",
       "      <td>8.000</td>\n",
       "    </tr>\n",
       "  </tbody>\n",
       "</table>\n",
       "</div>"
      ],
      "text/plain": [
       "  State                      County  Food environment index\n",
       "0    AK  Aleutians West Census Area                   7.002\n",
       "1    AK  Aleutians West Census Area                   6.600\n",
       "2    AK           Anchorage Borough                   8.185\n",
       "3    AK           Anchorage Borough                   8.000"
      ]
     },
     "execution_count": 22,
     "metadata": {},
     "output_type": "execute_result"
    }
   ],
   "source": [
    "df.loc[0:3,[\"State\",\"County\",\"Food environment index\"]]"
   ]
  },
  {
   "cell_type": "markdown",
   "metadata": {},
   "source": [
    "&nbsp;\n",
    "\n",
    "Indexing in pandas can also be combined with methods. Here, we'll use the `head()` method while indexing with .loc."
   ]
  },
  {
   "cell_type": "code",
   "execution_count": 23,
   "metadata": {
    "scrolled": true
   },
   "outputs": [
    {
     "data": {
      "text/html": [
       "<div>\n",
       "<style scoped>\n",
       "    .dataframe tbody tr th:only-of-type {\n",
       "        vertical-align: middle;\n",
       "    }\n",
       "\n",
       "    .dataframe tbody tr th {\n",
       "        vertical-align: top;\n",
       "    }\n",
       "\n",
       "    .dataframe thead th {\n",
       "        text-align: right;\n",
       "    }\n",
       "</style>\n",
       "<table border=\"1\" class=\"dataframe\">\n",
       "  <thead>\n",
       "    <tr style=\"text-align: right;\">\n",
       "      <th></th>\n",
       "      <th>State</th>\n",
       "      <th>County</th>\n",
       "      <th>Health care costs</th>\n",
       "    </tr>\n",
       "  </thead>\n",
       "  <tbody>\n",
       "    <tr>\n",
       "      <th>0</th>\n",
       "      <td>AK</td>\n",
       "      <td>Aleutians West Census Area</td>\n",
       "      <td>3791.0</td>\n",
       "    </tr>\n",
       "    <tr>\n",
       "      <th>1</th>\n",
       "      <td>AK</td>\n",
       "      <td>Aleutians West Census Area</td>\n",
       "      <td>4837.0</td>\n",
       "    </tr>\n",
       "    <tr>\n",
       "      <th>2</th>\n",
       "      <td>AK</td>\n",
       "      <td>Anchorage Borough</td>\n",
       "      <td>6588.0</td>\n",
       "    </tr>\n",
       "    <tr>\n",
       "      <th>3</th>\n",
       "      <td>AK</td>\n",
       "      <td>Anchorage Borough</td>\n",
       "      <td>6582.0</td>\n",
       "    </tr>\n",
       "    <tr>\n",
       "      <th>4</th>\n",
       "      <td>AK</td>\n",
       "      <td>Bethel Census Area</td>\n",
       "      <td>5860.0</td>\n",
       "    </tr>\n",
       "  </tbody>\n",
       "</table>\n",
       "</div>"
      ],
      "text/plain": [
       "  State                      County  Health care costs\n",
       "0    AK  Aleutians West Census Area             3791.0\n",
       "1    AK  Aleutians West Census Area             4837.0\n",
       "2    AK           Anchorage Borough             6588.0\n",
       "3    AK           Anchorage Borough             6582.0\n",
       "4    AK          Bethel Census Area             5860.0"
      ]
     },
     "execution_count": 23,
     "metadata": {},
     "output_type": "execute_result"
    }
   ],
   "source": [
    "df.loc[:,[\"State\",\"County\",\"Health care costs\"]].head()"
   ]
  },
  {
   "cell_type": "markdown",
   "metadata": {},
   "source": [
    "### <a id='toc4_3_'></a>[Indexing and Assignment](#toc0_)\n",
    "\n",
    "When we want to assign a value into a cell or region of our DataFrame, it's best practice to use the `.loc` or `.iloc` attributes to select a region of our dataset.  This ensures that when changes are made, they will flow back into the original DataFrame and not into a copy.  This is a particularly common problem when using multiple indices stacked on top of each other.  Unfortunately this problem is inherently unpredictable in Pandas, and can best be avoided by using the `.loc` and `.iloc` attributes.\n",
    "\n",
    "Read more [here](https://pandas.pydata.org/pandas-docs/stable/user_guide/indexing.html#why-does-assignment-fail-when-using-chained-indexing).\n",
    "\n",
    "Try running the commented out code `ex[\"County\"][0] = \"New County\"` below, after creating `ex`.  Both may work, but the commented version will throw a `SettingwithCopyWarning` warning and may sometimes fail."
   ]
  },
  {
   "cell_type": "code",
   "execution_count": 24,
   "metadata": {},
   "outputs": [
    {
     "name": "stdout",
     "output_type": "stream",
     "text": [
      "New County\n"
     ]
    }
   ],
   "source": [
    "ex = df.copy()\n",
    "\n",
    "#Do this:\n",
    "ex.loc[0,\"County\"] = \"New County\"\n",
    "\n",
    "#NOT this:\n",
    "#ex[\"County\"][0] = \"New County\"\n",
    "\n",
    "print(ex.loc[0,\"County\"])"
   ]
  },
  {
   "cell_type": "markdown",
   "metadata": {},
   "source": [
    "## <a id='toc5_'></a>[Series](#toc0_)\n",
    "\n",
    "We can think of a DataFrame as a collection rows and columns where each row represents an \"observation\" and each column contains a specific type of information collected about each observation.  In Pandas, our columns are stored as Series objects, and our DataFrames can be thought of as named collections (similar to dictionaries) of Series.\n",
    "\n",
    "We can extract a single column in a couple of ways:\n",
    "* bracket notation: `df[\"Region\"]` - this is the most robust way to refer to Series\n",
    "* dot notation: `df.Region` - simpler and easier to read but not always available"
   ]
  },
  {
   "cell_type": "code",
   "execution_count": 25,
   "metadata": {},
   "outputs": [
    {
     "data": {
      "text/plain": [
       "True"
      ]
     },
     "execution_count": 25,
     "metadata": {},
     "output_type": "execute_result"
    }
   ],
   "source": [
    "all(df[\"Region\"]==df.Region) #check if all entries of the two Series are the same."
   ]
  },
  {
   "cell_type": "markdown",
   "metadata": {},
   "source": [
    "In some cases, dot notation does not work!  The most common situations are:\n",
    "* The column name has a space, or other irregularities\n",
    "* The column name is the same as an existing attribute or method\n",
    "\n",
    "For example, in our DataFrame, `df.Uninsured adults` doesn't understand that \"Uninsured adults\" is a single value, so instead we'd use `df[\"Uninsured adults\"]`\n",
    "\n",
    "Series have their own set of attributes and methods just like DataFrames.  Some attributes like `.dtypes` and `.shape` are available for both.\n",
    "\n"
   ]
  },
  {
   "cell_type": "code",
   "execution_count": 26,
   "metadata": {},
   "outputs": [
    {
     "name": "stdout",
     "output_type": "stream",
     "text": [
      "(6109,)\n",
      "object\n"
     ]
    }
   ],
   "source": [
    "print(df.Region.shape)\n",
    "print(df.Region.dtypes)"
   ]
  },
  {
   "cell_type": "markdown",
   "metadata": {},
   "source": [
    "One of the most useful methods for categorical variables is `.value_counts()` which provides a frequency table."
   ]
  },
  {
   "cell_type": "code",
   "execution_count": 27,
   "metadata": {},
   "outputs": [
    {
     "data": {
      "text/plain": [
       "South        2803\n",
       "Midwest      2038\n",
       "West          834\n",
       "Northeast     434\n",
       "Name: Region, dtype: int64"
      ]
     },
     "execution_count": 27,
     "metadata": {},
     "output_type": "execute_result"
    }
   ],
   "source": [
    "df.Region.value_counts()"
   ]
  },
  {
   "cell_type": "markdown",
   "metadata": {},
   "source": [
    "This can also be used on top of other attributes or methods that return series.  For example, the code below shows how frequently each data type appears in our DataFrame."
   ]
  },
  {
   "cell_type": "code",
   "execution_count": 28,
   "metadata": {},
   "outputs": [
    {
     "data": {
      "text/plain": [
       "float64    54\n",
       "object      6\n",
       "int64       4\n",
       "dtype: int64"
      ]
     },
     "execution_count": 28,
     "metadata": {},
     "output_type": "execute_result"
    }
   ],
   "source": [
    "df.dtypes.value_counts()"
   ]
  },
  {
   "cell_type": "markdown",
   "metadata": {},
   "source": [
    "A full list of attributes and methods for Series is available in the [documentation](https://pandas.pydata.org/docs/reference/api/pandas.Series.html)."
   ]
  },
  {
   "cell_type": "markdown",
   "metadata": {},
   "source": [
    "&nbsp;\n",
    "\n",
    "### <a id='toc5_1_'></a>[Filtering](#toc0_)"
   ]
  },
  {
   "cell_type": "markdown",
   "metadata": {},
   "source": [
    "To filter our dataset based on a logical condition (true or false), we will use nested square brackets. Note the example below.\n",
    "* The inner statement, `df[\"State\"]==\"RI\"` looks for a **column** name and checks if it equals \"RI\"\n",
    "* The outer statement `df[ ... ]` uses the resulting column of True/Falue values to select **rows**\n",
    "* When combined, these two commands call all of the data contained in rows where the value of the State field is equal to \"RI\""
   ]
  },
  {
   "cell_type": "code",
   "execution_count": 29,
   "metadata": {
    "scrolled": true
   },
   "outputs": [
    {
     "data": {
      "text/html": [
       "<div>\n",
       "<style scoped>\n",
       "    .dataframe tbody tr th:only-of-type {\n",
       "        vertical-align: middle;\n",
       "    }\n",
       "\n",
       "    .dataframe tbody tr th {\n",
       "        vertical-align: top;\n",
       "    }\n",
       "\n",
       "    .dataframe thead th {\n",
       "        text-align: right;\n",
       "    }\n",
       "</style>\n",
       "<table border=\"1\" class=\"dataframe\">\n",
       "  <thead>\n",
       "    <tr style=\"text-align: right;\">\n",
       "      <th></th>\n",
       "      <th>State</th>\n",
       "      <th>Region</th>\n",
       "      <th>Division</th>\n",
       "      <th>County</th>\n",
       "      <th>FIPS</th>\n",
       "      <th>GEOID</th>\n",
       "      <th>SMS Region</th>\n",
       "      <th>Year</th>\n",
       "      <th>Premature death</th>\n",
       "      <th>Poor or fair health</th>\n",
       "      <th>...</th>\n",
       "      <th>Drug poisoning deaths</th>\n",
       "      <th>Uninsured adults</th>\n",
       "      <th>Uninsured children</th>\n",
       "      <th>Health care costs</th>\n",
       "      <th>Could not see doctor due to cost</th>\n",
       "      <th>Other primary care providers</th>\n",
       "      <th>Median household income</th>\n",
       "      <th>Children eligible for free lunch</th>\n",
       "      <th>Homicide rate</th>\n",
       "      <th>Inadequate social support</th>\n",
       "    </tr>\n",
       "  </thead>\n",
       "  <tbody>\n",
       "    <tr>\n",
       "      <th>4505</th>\n",
       "      <td>RI</td>\n",
       "      <td>Northeast</td>\n",
       "      <td>New England</td>\n",
       "      <td>Bristol County</td>\n",
       "      <td>44001</td>\n",
       "      <td>44001</td>\n",
       "      <td>Region 12</td>\n",
       "      <td>1/1/2014</td>\n",
       "      <td>4543.0</td>\n",
       "      <td>0.087</td>\n",
       "      <td>...</td>\n",
       "      <td>12.35</td>\n",
       "      <td>0.113</td>\n",
       "      <td>0.027</td>\n",
       "      <td>8579.0</td>\n",
       "      <td>0.077</td>\n",
       "      <td>18.0</td>\n",
       "      <td>64572</td>\n",
       "      <td>0.139</td>\n",
       "      <td>NaN</td>\n",
       "      <td>0.197</td>\n",
       "    </tr>\n",
       "    <tr>\n",
       "      <th>4506</th>\n",
       "      <td>RI</td>\n",
       "      <td>Northeast</td>\n",
       "      <td>New England</td>\n",
       "      <td>Bristol County</td>\n",
       "      <td>44001</td>\n",
       "      <td>44001</td>\n",
       "      <td>Region 12</td>\n",
       "      <td>1/1/2015</td>\n",
       "      <td>3891.0</td>\n",
       "      <td>0.087</td>\n",
       "      <td>...</td>\n",
       "      <td>11.67</td>\n",
       "      <td>0.110</td>\n",
       "      <td>0.044</td>\n",
       "      <td>8355.0</td>\n",
       "      <td>0.077</td>\n",
       "      <td>16.0</td>\n",
       "      <td>68415</td>\n",
       "      <td>0.155</td>\n",
       "      <td>NaN</td>\n",
       "      <td>NaN</td>\n",
       "    </tr>\n",
       "    <tr>\n",
       "      <th>4507</th>\n",
       "      <td>RI</td>\n",
       "      <td>Northeast</td>\n",
       "      <td>New England</td>\n",
       "      <td>Kent County</td>\n",
       "      <td>44003</td>\n",
       "      <td>44003</td>\n",
       "      <td>Region 12</td>\n",
       "      <td>1/1/2014</td>\n",
       "      <td>6313.0</td>\n",
       "      <td>0.122</td>\n",
       "      <td>...</td>\n",
       "      <td>15.55</td>\n",
       "      <td>0.110</td>\n",
       "      <td>0.027</td>\n",
       "      <td>9890.0</td>\n",
       "      <td>0.105</td>\n",
       "      <td>61.0</td>\n",
       "      <td>59682</td>\n",
       "      <td>0.223</td>\n",
       "      <td>1.44</td>\n",
       "      <td>0.187</td>\n",
       "    </tr>\n",
       "    <tr>\n",
       "      <th>4508</th>\n",
       "      <td>RI</td>\n",
       "      <td>Northeast</td>\n",
       "      <td>New England</td>\n",
       "      <td>Kent County</td>\n",
       "      <td>44003</td>\n",
       "      <td>44003</td>\n",
       "      <td>Region 12</td>\n",
       "      <td>1/1/2015</td>\n",
       "      <td>6458.0</td>\n",
       "      <td>0.122</td>\n",
       "      <td>...</td>\n",
       "      <td>18.94</td>\n",
       "      <td>0.114</td>\n",
       "      <td>0.046</td>\n",
       "      <td>9621.0</td>\n",
       "      <td>0.105</td>\n",
       "      <td>68.0</td>\n",
       "      <td>63232</td>\n",
       "      <td>0.230</td>\n",
       "      <td>1.30</td>\n",
       "      <td>NaN</td>\n",
       "    </tr>\n",
       "    <tr>\n",
       "      <th>4509</th>\n",
       "      <td>RI</td>\n",
       "      <td>Northeast</td>\n",
       "      <td>New England</td>\n",
       "      <td>Newport County</td>\n",
       "      <td>44005</td>\n",
       "      <td>44005</td>\n",
       "      <td>Region 12</td>\n",
       "      <td>1/1/2014</td>\n",
       "      <td>4457.0</td>\n",
       "      <td>0.109</td>\n",
       "      <td>...</td>\n",
       "      <td>12.29</td>\n",
       "      <td>0.119</td>\n",
       "      <td>0.033</td>\n",
       "      <td>8897.0</td>\n",
       "      <td>0.090</td>\n",
       "      <td>30.0</td>\n",
       "      <td>63434</td>\n",
       "      <td>0.222</td>\n",
       "      <td>NaN</td>\n",
       "      <td>0.176</td>\n",
       "    </tr>\n",
       "    <tr>\n",
       "      <th>4510</th>\n",
       "      <td>RI</td>\n",
       "      <td>Northeast</td>\n",
       "      <td>New England</td>\n",
       "      <td>Newport County</td>\n",
       "      <td>44005</td>\n",
       "      <td>44005</td>\n",
       "      <td>Region 12</td>\n",
       "      <td>1/1/2015</td>\n",
       "      <td>4730.0</td>\n",
       "      <td>0.109</td>\n",
       "      <td>...</td>\n",
       "      <td>10.33</td>\n",
       "      <td>0.118</td>\n",
       "      <td>0.048</td>\n",
       "      <td>8149.0</td>\n",
       "      <td>0.090</td>\n",
       "      <td>33.0</td>\n",
       "      <td>67291</td>\n",
       "      <td>0.230</td>\n",
       "      <td>NaN</td>\n",
       "      <td>NaN</td>\n",
       "    </tr>\n",
       "    <tr>\n",
       "      <th>4511</th>\n",
       "      <td>RI</td>\n",
       "      <td>Northeast</td>\n",
       "      <td>New England</td>\n",
       "      <td>Providence County</td>\n",
       "      <td>44007</td>\n",
       "      <td>44007</td>\n",
       "      <td>Region 12</td>\n",
       "      <td>1/1/2014</td>\n",
       "      <td>6468.0</td>\n",
       "      <td>0.154</td>\n",
       "      <td>...</td>\n",
       "      <td>15.67</td>\n",
       "      <td>0.190</td>\n",
       "      <td>0.049</td>\n",
       "      <td>9480.0</td>\n",
       "      <td>0.125</td>\n",
       "      <td>88.0</td>\n",
       "      <td>47601</td>\n",
       "      <td>0.484</td>\n",
       "      <td>4.10</td>\n",
       "      <td>0.229</td>\n",
       "    </tr>\n",
       "    <tr>\n",
       "      <th>4512</th>\n",
       "      <td>RI</td>\n",
       "      <td>Northeast</td>\n",
       "      <td>New England</td>\n",
       "      <td>Providence County</td>\n",
       "      <td>44007</td>\n",
       "      <td>44007</td>\n",
       "      <td>Region 12</td>\n",
       "      <td>1/1/2015</td>\n",
       "      <td>6124.0</td>\n",
       "      <td>0.154</td>\n",
       "      <td>...</td>\n",
       "      <td>17.51</td>\n",
       "      <td>0.182</td>\n",
       "      <td>0.058</td>\n",
       "      <td>8983.0</td>\n",
       "      <td>0.125</td>\n",
       "      <td>93.0</td>\n",
       "      <td>47642</td>\n",
       "      <td>0.487</td>\n",
       "      <td>3.70</td>\n",
       "      <td>NaN</td>\n",
       "    </tr>\n",
       "    <tr>\n",
       "      <th>4513</th>\n",
       "      <td>RI</td>\n",
       "      <td>Northeast</td>\n",
       "      <td>New England</td>\n",
       "      <td>Washington County</td>\n",
       "      <td>44009</td>\n",
       "      <td>44009</td>\n",
       "      <td>Region 12</td>\n",
       "      <td>1/1/2014</td>\n",
       "      <td>4961.0</td>\n",
       "      <td>0.092</td>\n",
       "      <td>...</td>\n",
       "      <td>10.56</td>\n",
       "      <td>0.105</td>\n",
       "      <td>0.031</td>\n",
       "      <td>8776.0</td>\n",
       "      <td>0.088</td>\n",
       "      <td>39.0</td>\n",
       "      <td>69150</td>\n",
       "      <td>0.172</td>\n",
       "      <td>NaN</td>\n",
       "      <td>0.157</td>\n",
       "    </tr>\n",
       "    <tr>\n",
       "      <th>4514</th>\n",
       "      <td>RI</td>\n",
       "      <td>Northeast</td>\n",
       "      <td>New England</td>\n",
       "      <td>Washington County</td>\n",
       "      <td>44009</td>\n",
       "      <td>44009</td>\n",
       "      <td>Region 12</td>\n",
       "      <td>1/1/2015</td>\n",
       "      <td>4939.0</td>\n",
       "      <td>0.092</td>\n",
       "      <td>...</td>\n",
       "      <td>13.18</td>\n",
       "      <td>0.107</td>\n",
       "      <td>0.047</td>\n",
       "      <td>8212.0</td>\n",
       "      <td>0.088</td>\n",
       "      <td>49.0</td>\n",
       "      <td>69267</td>\n",
       "      <td>0.177</td>\n",
       "      <td>NaN</td>\n",
       "      <td>NaN</td>\n",
       "    </tr>\n",
       "  </tbody>\n",
       "</table>\n",
       "<p>10 rows × 64 columns</p>\n",
       "</div>"
      ],
      "text/plain": [
       "     State     Region     Division             County   FIPS  GEOID  \\\n",
       "4505    RI  Northeast  New England     Bristol County  44001  44001   \n",
       "4506    RI  Northeast  New England     Bristol County  44001  44001   \n",
       "4507    RI  Northeast  New England        Kent County  44003  44003   \n",
       "4508    RI  Northeast  New England        Kent County  44003  44003   \n",
       "4509    RI  Northeast  New England     Newport County  44005  44005   \n",
       "4510    RI  Northeast  New England     Newport County  44005  44005   \n",
       "4511    RI  Northeast  New England  Providence County  44007  44007   \n",
       "4512    RI  Northeast  New England  Providence County  44007  44007   \n",
       "4513    RI  Northeast  New England  Washington County  44009  44009   \n",
       "4514    RI  Northeast  New England  Washington County  44009  44009   \n",
       "\n",
       "     SMS Region      Year  Premature death  Poor or fair health  ...  \\\n",
       "4505  Region 12  1/1/2014           4543.0                0.087  ...   \n",
       "4506  Region 12  1/1/2015           3891.0                0.087  ...   \n",
       "4507  Region 12  1/1/2014           6313.0                0.122  ...   \n",
       "4508  Region 12  1/1/2015           6458.0                0.122  ...   \n",
       "4509  Region 12  1/1/2014           4457.0                0.109  ...   \n",
       "4510  Region 12  1/1/2015           4730.0                0.109  ...   \n",
       "4511  Region 12  1/1/2014           6468.0                0.154  ...   \n",
       "4512  Region 12  1/1/2015           6124.0                0.154  ...   \n",
       "4513  Region 12  1/1/2014           4961.0                0.092  ...   \n",
       "4514  Region 12  1/1/2015           4939.0                0.092  ...   \n",
       "\n",
       "      Drug poisoning deaths  Uninsured adults  Uninsured children  \\\n",
       "4505                  12.35             0.113               0.027   \n",
       "4506                  11.67             0.110               0.044   \n",
       "4507                  15.55             0.110               0.027   \n",
       "4508                  18.94             0.114               0.046   \n",
       "4509                  12.29             0.119               0.033   \n",
       "4510                  10.33             0.118               0.048   \n",
       "4511                  15.67             0.190               0.049   \n",
       "4512                  17.51             0.182               0.058   \n",
       "4513                  10.56             0.105               0.031   \n",
       "4514                  13.18             0.107               0.047   \n",
       "\n",
       "      Health care costs  Could not see doctor due to cost  \\\n",
       "4505             8579.0                             0.077   \n",
       "4506             8355.0                             0.077   \n",
       "4507             9890.0                             0.105   \n",
       "4508             9621.0                             0.105   \n",
       "4509             8897.0                             0.090   \n",
       "4510             8149.0                             0.090   \n",
       "4511             9480.0                             0.125   \n",
       "4512             8983.0                             0.125   \n",
       "4513             8776.0                             0.088   \n",
       "4514             8212.0                             0.088   \n",
       "\n",
       "      Other primary care providers  Median household income  \\\n",
       "4505                          18.0                    64572   \n",
       "4506                          16.0                    68415   \n",
       "4507                          61.0                    59682   \n",
       "4508                          68.0                    63232   \n",
       "4509                          30.0                    63434   \n",
       "4510                          33.0                    67291   \n",
       "4511                          88.0                    47601   \n",
       "4512                          93.0                    47642   \n",
       "4513                          39.0                    69150   \n",
       "4514                          49.0                    69267   \n",
       "\n",
       "      Children eligible for free lunch  Homicide rate  \\\n",
       "4505                             0.139            NaN   \n",
       "4506                             0.155            NaN   \n",
       "4507                             0.223           1.44   \n",
       "4508                             0.230           1.30   \n",
       "4509                             0.222            NaN   \n",
       "4510                             0.230            NaN   \n",
       "4511                             0.484           4.10   \n",
       "4512                             0.487           3.70   \n",
       "4513                             0.172            NaN   \n",
       "4514                             0.177            NaN   \n",
       "\n",
       "      Inadequate social support  \n",
       "4505                      0.197  \n",
       "4506                        NaN  \n",
       "4507                      0.187  \n",
       "4508                        NaN  \n",
       "4509                      0.176  \n",
       "4510                        NaN  \n",
       "4511                      0.229  \n",
       "4512                        NaN  \n",
       "4513                      0.157  \n",
       "4514                        NaN  \n",
       "\n",
       "[10 rows x 64 columns]"
      ]
     },
     "execution_count": 29,
     "metadata": {},
     "output_type": "execute_result"
    }
   ],
   "source": [
    "df[df[\"State\"] == \"RI\"]"
   ]
  },
  {
   "cell_type": "markdown",
   "metadata": {},
   "source": [
    "#### `SettingwithCopyWarning` and filtered data\n",
    "\n",
    "When we use the notation above to filter a DataFrame we may run into a `SettingwithCopyWarning` warning later on in our code if we save this object and then modify it later on.  That's because this notation creates a reference back to the original dataframe, **not** a copy of the original dataframe, unless we explicitly use the **`.copy()`** method.  If you want to use subset later on, you should create it as follows:"
   ]
  },
  {
   "cell_type": "code",
   "execution_count": 30,
   "metadata": {},
   "outputs": [],
   "source": [
    "RI_subset = df[df[\"State\"] == \"RI\"].copy()"
   ]
  },
  {
   "cell_type": "markdown",
   "metadata": {},
   "source": [
    "&nbsp;\n",
    "\n",
    "## <a id='toc6_'></a>[Working Example: Mass Mobilization Data](#toc0_)"
   ]
  },
  {
   "cell_type": "markdown",
   "metadata": {},
   "source": [
    "### <a id='toc6_1_'></a>[About the dataset](#toc0_)"
   ]
  },
  {
   "cell_type": "markdown",
   "metadata": {},
   "source": [
    "The Mass Mobilization project collects data on demonstrations against governments around the globe, covering protests in 162 countries outside of the US from 1990 to 2020. The project is a collaboration between researchers from Binghamton University and the University of Notre Dame, and sponsored by the Political Instability Task Force (PITF) which is funded by the Central Intelligence Agency. For more information and links to all associated files, visit the [Harvard Dataverse](https://dataverse.harvard.edu/dataverse/MMdata?q=&types=dataverses%3Adatasets%3Afiles&sort=dateSort&order=desc&page=1). "
   ]
  },
  {
   "cell_type": "markdown",
   "metadata": {},
   "source": [
    "### <a id='toc6_2_'></a>[Setup](#toc0_)"
   ]
  },
  {
   "cell_type": "markdown",
   "metadata": {},
   "source": [
    "**Download the CSV file: [protest_data.csv](https://unc-libraries-data.github.io/Python/Jupyter/protest_data.csv)**\n",
    "\n",
    "*Be sure to put it in the same folder as your Jupyter Notebook or working directory.*"
   ]
  },
  {
   "cell_type": "code",
   "execution_count": 1,
   "metadata": {},
   "outputs": [],
   "source": [
    "import pandas as pd\n",
    "\n",
    "protests = pd.read_csv(\"protest_data.csv\")\n",
    "# protests = pd.read_csv(\"https://github.com/UNC-Libraries-data/Python/raw/main/Jupyter/protest_data.csv\")"
   ]
  },
  {
   "cell_type": "markdown",
   "metadata": {},
   "source": [
    "### <a id='toc6_3_'></a>[Research Questions](#toc0_)"
   ]
  },
  {
   "cell_type": "markdown",
   "metadata": {},
   "source": [
    "Without any preparation or planning, trying to explore a dataset can be overwhelming, and you may find yourself unsure of where to begin. The first step to successful Exploratory Data Analysis (EDA) is developing a set of research questions. We will use the questions below to guide our research on the dataset. In some cases, we'll create visualizations to answer the questions.\n",
    "\n",
    "1. What information has been collected about the protests in the dataset?\n",
    "2. How many protests does our dataset include, and in which countries do they occur?\n",
    "3. Are length and size of protests different in various regions of the world?\n",
    "4. Are there certain time periods with greater or fewer protests?"
   ]
  },
  {
   "cell_type": "markdown",
   "metadata": {},
   "source": [
    "### <a id='toc6_4_'></a>[Question 1 : What information has been collected about the protests in the dataset?](#toc0_)\n",
    "As mentioned previously, we can view the `columns` attribute to see what information has been collected in a dataframe."
   ]
  },
  {
   "cell_type": "code",
   "execution_count": 2,
   "metadata": {},
   "outputs": [
    {
     "data": {
      "text/plain": [
       "Index(['id', 'country', 'ccode', 'year', 'region', 'protest', 'protestnumber',\n",
       "       'startday', 'startmonth', 'startyear', 'endday', 'endmonth', 'endyear',\n",
       "       'protesterviolence', 'location', 'participants_category',\n",
       "       'participants', 'protesteridentity', 'protesterdemand1',\n",
       "       'protesterdemand2', 'protesterdemand3', 'protesterdemand4',\n",
       "       'stateresponse1', 'stateresponse2', 'stateresponse3', 'stateresponse4',\n",
       "       'stateresponse5', 'stateresponse6', 'stateresponse7', 'sources',\n",
       "       'notes'],\n",
       "      dtype='object')"
      ]
     },
     "execution_count": 2,
     "metadata": {},
     "output_type": "execute_result"
    }
   ],
   "source": [
    "protests.columns"
   ]
  },
  {
   "cell_type": "markdown",
   "metadata": {},
   "source": [
    "### <a id='toc6_5_'></a>[Question 2 : How many protests does our dataset include and in which countries do they occur?](#toc0_)\n",
    "\n",
    "Finding the total number of protests is easy enough..."
   ]
  },
  {
   "cell_type": "code",
   "execution_count": 3,
   "metadata": {},
   "outputs": [
    {
     "data": {
      "text/plain": [
       "17145"
      ]
     },
     "execution_count": 3,
     "metadata": {},
     "output_type": "execute_result"
    }
   ],
   "source": [
    "len(protests)"
   ]
  },
  {
   "cell_type": "markdown",
   "metadata": {},
   "source": [
    "But how can we find out how many protests occured in each country? This is a great opportunity to use the `value_counts` method. The `.copy()` method allows us to create a new copy of the dataframe instead of only referencing the original."
   ]
  },
  {
   "cell_type": "code",
   "execution_count": 4,
   "metadata": {},
   "outputs": [
    {
     "data": {
      "text/plain": [
       "United Kingdom           578\n",
       "France                   547\n",
       "Ireland                  438\n",
       "Germany                  364\n",
       "Kenya                    353\n",
       "                        ... \n",
       "Germany East              11\n",
       "South Sudan               10\n",
       "Czechoslovakia             6\n",
       "Serbia and Montenegro      5\n",
       "Germany West               2\n",
       "Name: country, Length: 166, dtype: int64"
      ]
     },
     "execution_count": 4,
     "metadata": {},
     "output_type": "execute_result"
    }
   ],
   "source": [
    "Q2 = protests.country.value_counts().copy()\n",
    "Q2"
   ]
  },
  {
   "cell_type": "markdown",
   "metadata": {},
   "source": [
    "Now that our Q2 dataframe includes the count of protests for each country, there are many ways we can display the results. Maybe we'd like to see the top 5 countries with the most and least protests. Perhaps we can even **visualize** them.\n",
    "\n",
    "First, let's find the top 5 countries with the most and least protests. The `.nlargest()` and `.nsmallest()` methods become useful here."
   ]
  },
  {
   "cell_type": "code",
   "execution_count": 5,
   "metadata": {},
   "outputs": [
    {
     "data": {
      "text/plain": [
       "United Kingdom    578\n",
       "France            547\n",
       "Ireland           438\n",
       "Germany           364\n",
       "Kenya             353\n",
       "Name: country, dtype: int64"
      ]
     },
     "execution_count": 5,
     "metadata": {},
     "output_type": "execute_result"
    }
   ],
   "source": [
    "Q2top = Q2.nlargest(5)\n",
    "Q2top"
   ]
  },
  {
   "cell_type": "code",
   "execution_count": 6,
   "metadata": {},
   "outputs": [
    {
     "data": {
      "text/plain": [
       "Germany West              2\n",
       "Serbia and Montenegro     5\n",
       "Czechoslovakia            6\n",
       "South Sudan              10\n",
       "Germany East             11\n",
       "Name: country, dtype: int64"
      ]
     },
     "execution_count": 6,
     "metadata": {},
     "output_type": "execute_result"
    }
   ],
   "source": [
    "Q2bot = Q2.nsmallest(5)\n",
    "Q2bot"
   ]
  },
  {
   "cell_type": "markdown",
   "metadata": {},
   "source": [
    "#### Visualization\n",
    "\n",
    "There are many libraries for data visualization within Python. Some of the most popular include:\n",
    "\n",
    "- Matplotlib (basic charts)\n",
    "- Seaborn (extends the functionality of Matplotlib)\n",
    "- Bokeh (interactive charts)\n",
    "- Plot.ly (another library for interactive charts)\n",
    "\n",
    "We'll use each of these libraries with the exception of Plotly, since Plotly does not display as easily in Jupyter notebooks. \n",
    "\n",
    "Let's start with **matplotlib**. "
   ]
  },
  {
   "cell_type": "code",
   "execution_count": 7,
   "metadata": {},
   "outputs": [],
   "source": [
    "import matplotlib.pyplot as plt\n",
    "\n",
    "# Below is a special function that allows matplotlib, seaborn and other visualization libraries to display in Jupyter Notebooks\n",
    "%matplotlib inline "
   ]
  },
  {
   "cell_type": "markdown",
   "metadata": {},
   "source": [
    "Note that we need to specify the `.index` and `.values` attributes of our pandas object to tell matplotlib what to use for the x axis of our chart and the height of our bars."
   ]
  },
  {
   "cell_type": "code",
   "execution_count": 8,
   "metadata": {},
   "outputs": [
    {
     "data": {
      "text/plain": [
       "Text(0, 0.5, 'Total protests')"
      ]
     },
     "execution_count": 8,
     "metadata": {},
     "output_type": "execute_result"
    },
    {
     "data": {
      "image/png": "[encoded data removed]",
      "text/plain": [
       "<Figure size 640x480 with 1 Axes>"
      ]
     },
     "metadata": {},
     "output_type": "display_data"
    }
   ],
   "source": [
    "# Create a bar chart showing the top 5 countries with the most protests\n",
    "plt.bar(x = Q2top.index, height = Q2top.values)\n",
    "plt.xlabel(\"Countries\")\n",
    "plt.ylabel(\"Total protests\")"
   ]
  },
  {
   "cell_type": "code",
   "execution_count": 9,
   "metadata": {},
   "outputs": [
    {
     "data": {
      "text/plain": [
       "Text(0, 0.5, 'Total protests')"
      ]
     },
     "execution_count": 9,
     "metadata": {},
     "output_type": "execute_result"
    },
    {
     "data": {
      "image/png": "[encoded data removed]",
      "text/plain": [
       "<Figure size 640x480 with 1 Axes>"
      ]
     },
     "metadata": {},
     "output_type": "display_data"
    }
   ],
   "source": [
    "# Create a bar chart showing the top 5 countries with the least protests\n",
    "plt.bar(x = Q2bot.index, height = Q2bot.values)\n",
    "plt.xlabel(\"Countries\")\n",
    "plt.ylabel(\"Total protests\")"
   ]
  },
  {
   "cell_type": "markdown",
   "metadata": {},
   "source": [
    "Uh oh! Our country names are so long that they overlap one another. We could always make our chart larger, but why not use a horizontal bar chart instead? Then, we don't have to worry about the length of the labels on our bars.\n",
    "\n",
    "This time, we'll use the `barh` method and specify the data for the y axis and bar widths."
   ]
  },
  {
   "cell_type": "code",
   "execution_count": 10,
   "metadata": {},
   "outputs": [
    {
     "data": {
      "text/plain": [
       "Text(0.5, 0, 'Total protests')"
      ]
     },
     "execution_count": 10,
     "metadata": {},
     "output_type": "execute_result"
    },
    {
     "data": {
      "image/png": "[encoded data removed]",
      "text/plain": [
       "<Figure size 640x480 with 1 Axes>"
      ]
     },
     "metadata": {},
     "output_type": "display_data"
    }
   ],
   "source": [
    "plt.barh(y = Q2bot.index, width = Q2bot.values)\n",
    "plt.ylabel(\"Countries\")\n",
    "plt.xlabel(\"Total protests\")"
   ]
  },
  {
   "cell_type": "markdown",
   "metadata": {},
   "source": [
    "### <a id='toc6_6_'></a>[Question 3: Are length and size of protests different in various regions of the world?](#toc0_)"
   ]
  },
  {
   "cell_type": "markdown",
   "metadata": {},
   "source": [
    "This question will be easier to answer if we subset our data to only include the columns we need. Once we've done that, we can use the `.info()` method to look at the data type of the columns we've selected."
   ]
  },
  {
   "cell_type": "code",
   "execution_count": 11,
   "metadata": {},
   "outputs": [
    {
     "name": "stdout",
     "output_type": "stream",
     "text": [
      "<class 'pandas.core.frame.DataFrame'>\n",
      "RangeIndex: 17145 entries, 0 to 17144\n",
      "Data columns (total 8 columns):\n",
      " #   Column        Non-Null Count  Dtype  \n",
      "---  ------        --------------  -----  \n",
      " 0   region        17145 non-null  object \n",
      " 1   startyear     15239 non-null  float64\n",
      " 2   startmonth    15239 non-null  float64\n",
      " 3   startday      15239 non-null  float64\n",
      " 4   endyear       15239 non-null  float64\n",
      " 5   endmonth      15239 non-null  float64\n",
      " 6   endday        15239 non-null  float64\n",
      " 7   participants  15746 non-null  object \n",
      "dtypes: float64(6), object(2)\n",
      "memory usage: 1.0+ MB\n"
     ]
    }
   ],
   "source": [
    "Q3 = protests[[\"region\", \n",
    "               \"startyear\", \"startmonth\", \"startday\", \n",
    "               \"endyear\", \"endmonth\", \"endday\", \n",
    "               \"participants\"]].copy()\n",
    "Q3.info()"
   ]
  },
  {
   "cell_type": "markdown",
   "metadata": {},
   "source": [
    "The `.info()` method lists the columns of our dataset along with some extra information on them. We can see how many non-missing values exist for each column, as well as each column's data type. As we'd expect, our day, month and year columns have a numeric dtype, \"float64\". Region has an \"object\" dtype because it contains text, but so does participants. The participants column is supposed to contain the number of participants for each protest, so why does it have the \"object\" dtype? Let's take a closer look at it."
   ]
  },
  {
   "cell_type": "code",
   "execution_count": 12,
   "metadata": {},
   "outputs": [
    {
     "data": {
      "text/plain": [
       "0            1000s\n",
       "1             1000\n",
       "2              500\n",
       "3             100s\n",
       "4              950\n",
       "           ...    \n",
       "17140          50+\n",
       "17141    About 100\n",
       "17142          NaN\n",
       "17143          NaN\n",
       "17144          NaN\n",
       "Name: participants, Length: 17145, dtype: object"
      ]
     },
     "execution_count": 12,
     "metadata": {},
     "output_type": "execute_result"
    }
   ],
   "source": [
    "Q3[\"participants\"]"
   ]
  },
  {
   "cell_type": "markdown",
   "metadata": {},
   "source": [
    "It looks like this column includes text. We can extract only the numbers using a **regular expression**. Regular expressions, or \"regex\" for short, are a popular method for detecting patterns in text. The `.str.extract()` method in pandas allows us to capture specific text using a regular expression. In this case, we want to extract only numeric digits and remove everything else.\n",
    "\n",
    "[Click here for more information on regular expressions](https://docs.python.org/3/library/re.html)."
   ]
  },
  {
   "cell_type": "code",
   "execution_count": 13,
   "metadata": {},
   "outputs": [
    {
     "data": {
      "text/plain": [
       "0        1000\n",
       "1        1000\n",
       "2         500\n",
       "3         100\n",
       "4         950\n",
       "         ... \n",
       "17140      50\n",
       "17141     100\n",
       "17142     NaN\n",
       "17143     NaN\n",
       "17144     NaN\n",
       "Name: participants, Length: 17145, dtype: object"
      ]
     },
     "execution_count": 13,
     "metadata": {},
     "output_type": "execute_result"
    }
   ],
   "source": [
    "Q3[\"participants\"] = Q3[\"participants\"].str.extract(\"(\\d+)\")\n",
    "Q3[\"participants\"]"
   ]
  },
  {
   "cell_type": "markdown",
   "metadata": {},
   "source": [
    "Note above that our dtype is still \"object\". To change the data type of a column, we can use the `.astype()` method. However, to successfully make participants an integer, we will need to remove any missing or blank values. Not doing so will give us an error. Our question can only be answered by knowing each protest's size and length anyway, so let's use the `.dropna()` on our dateset to remove any rows with missing information. Then, we can change the data type of the participants column."
   ]
  },
  {
   "cell_type": "code",
   "execution_count": 14,
   "metadata": {},
   "outputs": [
    {
     "name": "stdout",
     "output_type": "stream",
     "text": [
      "<class 'pandas.core.frame.DataFrame'>\n",
      "Int64Index: 13988 entries, 0 to 17141\n",
      "Data columns (total 8 columns):\n",
      " #   Column        Non-Null Count  Dtype  \n",
      "---  ------        --------------  -----  \n",
      " 0   region        13988 non-null  object \n",
      " 1   startyear     13988 non-null  float64\n",
      " 2   startmonth    13988 non-null  float64\n",
      " 3   startday      13988 non-null  float64\n",
      " 4   endyear       13988 non-null  float64\n",
      " 5   endmonth      13988 non-null  float64\n",
      " 6   endday        13988 non-null  float64\n",
      " 7   participants  13988 non-null  int64  \n",
      "dtypes: float64(6), int64(1), object(1)\n",
      "memory usage: 983.5+ KB\n"
     ]
    }
   ],
   "source": [
    "# remove any rows with missing information\n",
    "Q3 = Q3.dropna()\n",
    "\n",
    "# change the participants column to an integer\n",
    "Q3[\"participants\"] = Q3[\"participants\"].astype(\"int64\")\n",
    "\n",
    "Q3.info()"
   ]
  },
  {
   "cell_type": "markdown",
   "metadata": {},
   "source": [
    "Success!\n",
    "\n",
    "Our next problem has to do with our date columns. Ultimately, we need to know how long each protest is. The good news is that pandas is capable of subtracting one date from another to provide a total number of days. The bad news is that we don't have two columns with two different dates. Instead, our dates are broken up into six separate columns.\n",
    "\n",
    "The best way to combine our numbers into dates is to use dictionaries. We can turn our column names into dictionary keys using the `dict()` function. Then, pandas can create dates from those dictionaries with the `.to_datetime()` method."
   ]
  },
  {
   "cell_type": "code",
   "execution_count": 15,
   "metadata": {},
   "outputs": [
    {
     "data": {
      "text/html": [
       "<div>\n",
       "<style scoped>\n",
       "    .dataframe tbody tr th:only-of-type {\n",
       "        vertical-align: middle;\n",
       "    }\n",
       "\n",
       "    .dataframe tbody tr th {\n",
       "        vertical-align: top;\n",
       "    }\n",
       "\n",
       "    .dataframe thead th {\n",
       "        text-align: right;\n",
       "    }\n",
       "</style>\n",
       "<table border=\"1\" class=\"dataframe\">\n",
       "  <thead>\n",
       "    <tr style=\"text-align: right;\">\n",
       "      <th></th>\n",
       "      <th>startdate</th>\n",
       "      <th>enddate</th>\n",
       "    </tr>\n",
       "  </thead>\n",
       "  <tbody>\n",
       "    <tr>\n",
       "      <th>0</th>\n",
       "      <td>1990-01-15</td>\n",
       "      <td>1990-01-15</td>\n",
       "    </tr>\n",
       "    <tr>\n",
       "      <th>1</th>\n",
       "      <td>1990-06-25</td>\n",
       "      <td>1990-06-25</td>\n",
       "    </tr>\n",
       "    <tr>\n",
       "      <th>2</th>\n",
       "      <td>1990-07-01</td>\n",
       "      <td>1990-07-01</td>\n",
       "    </tr>\n",
       "    <tr>\n",
       "      <th>3</th>\n",
       "      <td>1990-07-12</td>\n",
       "      <td>1990-09-06</td>\n",
       "    </tr>\n",
       "    <tr>\n",
       "      <th>4</th>\n",
       "      <td>1990-08-14</td>\n",
       "      <td>1990-08-15</td>\n",
       "    </tr>\n",
       "  </tbody>\n",
       "</table>\n",
       "</div>"
      ],
      "text/plain": [
       "   startdate    enddate\n",
       "0 1990-01-15 1990-01-15\n",
       "1 1990-06-25 1990-06-25\n",
       "2 1990-07-01 1990-07-01\n",
       "3 1990-07-12 1990-09-06\n",
       "4 1990-08-14 1990-08-15"
      ]
     },
     "execution_count": 15,
     "metadata": {},
     "output_type": "execute_result"
    }
   ],
   "source": [
    "# create dictionaries that combine the year, month and day columns\n",
    "startdict = dict(year = Q3[\"startyear\"], month = Q3[\"startmonth\"], day = Q3[\"startday\"])\n",
    "enddict = dict(year = Q3[\"endyear\"], month = Q3[\"endmonth\"], day = Q3[\"endday\"])\n",
    "\n",
    "# create columns for start and end dates\n",
    "Q3[\"startdate\"] = pd.to_datetime(startdict)\n",
    "Q3[\"enddate\"] = pd.to_datetime(enddict)\n",
    "\n",
    "# preview the new columns\n",
    "Q3[[\"startdate\", \"enddate\"]].head()"
   ]
  },
  {
   "cell_type": "markdown",
   "metadata": {},
   "source": [
    "But how many days does each protest last? To find out, we'll create a new column called \"protestlength\". To that column, we subtract the start date from the end date and assign the result. We also need to tell python what *type* of result to show. Number of days? Weeks? Months? The `.dt.days` attribute of our protestlength column will display the number of days. However, if both the start date and end date of the protest are the same, the number of days will be 0. So, we'll add 1 to all of our protest lengths to include the day on which the protest started."
   ]
  },
  {
   "cell_type": "code",
   "execution_count": 16,
   "metadata": {},
   "outputs": [
    {
     "data": {
      "text/html": [
       "<div>\n",
       "<style scoped>\n",
       "    .dataframe tbody tr th:only-of-type {\n",
       "        vertical-align: middle;\n",
       "    }\n",
       "\n",
       "    .dataframe tbody tr th {\n",
       "        vertical-align: top;\n",
       "    }\n",
       "\n",
       "    .dataframe thead th {\n",
       "        text-align: right;\n",
       "    }\n",
       "</style>\n",
       "<table border=\"1\" class=\"dataframe\">\n",
       "  <thead>\n",
       "    <tr style=\"text-align: right;\">\n",
       "      <th></th>\n",
       "      <th>region</th>\n",
       "      <th>startyear</th>\n",
       "      <th>startmonth</th>\n",
       "      <th>startday</th>\n",
       "      <th>endyear</th>\n",
       "      <th>endmonth</th>\n",
       "      <th>endday</th>\n",
       "      <th>participants</th>\n",
       "      <th>startdate</th>\n",
       "      <th>enddate</th>\n",
       "      <th>protestlength</th>\n",
       "    </tr>\n",
       "  </thead>\n",
       "  <tbody>\n",
       "    <tr>\n",
       "      <th>0</th>\n",
       "      <td>North America</td>\n",
       "      <td>1990.0</td>\n",
       "      <td>1.0</td>\n",
       "      <td>15.0</td>\n",
       "      <td>1990.0</td>\n",
       "      <td>1.0</td>\n",
       "      <td>15.0</td>\n",
       "      <td>1000</td>\n",
       "      <td>1990-01-15</td>\n",
       "      <td>1990-01-15</td>\n",
       "      <td>1</td>\n",
       "    </tr>\n",
       "    <tr>\n",
       "      <th>1</th>\n",
       "      <td>North America</td>\n",
       "      <td>1990.0</td>\n",
       "      <td>6.0</td>\n",
       "      <td>25.0</td>\n",
       "      <td>1990.0</td>\n",
       "      <td>6.0</td>\n",
       "      <td>25.0</td>\n",
       "      <td>1000</td>\n",
       "      <td>1990-06-25</td>\n",
       "      <td>1990-06-25</td>\n",
       "      <td>1</td>\n",
       "    </tr>\n",
       "    <tr>\n",
       "      <th>2</th>\n",
       "      <td>North America</td>\n",
       "      <td>1990.0</td>\n",
       "      <td>7.0</td>\n",
       "      <td>1.0</td>\n",
       "      <td>1990.0</td>\n",
       "      <td>7.0</td>\n",
       "      <td>1.0</td>\n",
       "      <td>500</td>\n",
       "      <td>1990-07-01</td>\n",
       "      <td>1990-07-01</td>\n",
       "      <td>1</td>\n",
       "    </tr>\n",
       "    <tr>\n",
       "      <th>3</th>\n",
       "      <td>North America</td>\n",
       "      <td>1990.0</td>\n",
       "      <td>7.0</td>\n",
       "      <td>12.0</td>\n",
       "      <td>1990.0</td>\n",
       "      <td>9.0</td>\n",
       "      <td>6.0</td>\n",
       "      <td>100</td>\n",
       "      <td>1990-07-12</td>\n",
       "      <td>1990-09-06</td>\n",
       "      <td>57</td>\n",
       "    </tr>\n",
       "    <tr>\n",
       "      <th>4</th>\n",
       "      <td>North America</td>\n",
       "      <td>1990.0</td>\n",
       "      <td>8.0</td>\n",
       "      <td>14.0</td>\n",
       "      <td>1990.0</td>\n",
       "      <td>8.0</td>\n",
       "      <td>15.0</td>\n",
       "      <td>950</td>\n",
       "      <td>1990-08-14</td>\n",
       "      <td>1990-08-15</td>\n",
       "      <td>2</td>\n",
       "    </tr>\n",
       "  </tbody>\n",
       "</table>\n",
       "</div>"
      ],
      "text/plain": [
       "          region  startyear  startmonth  startday  endyear  endmonth  endday  \\\n",
       "0  North America     1990.0         1.0      15.0   1990.0       1.0    15.0   \n",
       "1  North America     1990.0         6.0      25.0   1990.0       6.0    25.0   \n",
       "2  North America     1990.0         7.0       1.0   1990.0       7.0     1.0   \n",
       "3  North America     1990.0         7.0      12.0   1990.0       9.0     6.0   \n",
       "4  North America     1990.0         8.0      14.0   1990.0       8.0    15.0   \n",
       "\n",
       "   participants  startdate    enddate  protestlength  \n",
       "0          1000 1990-01-15 1990-01-15              1  \n",
       "1          1000 1990-06-25 1990-06-25              1  \n",
       "2           500 1990-07-01 1990-07-01              1  \n",
       "3           100 1990-07-12 1990-09-06             57  \n",
       "4           950 1990-08-14 1990-08-15              2  "
      ]
     },
     "execution_count": 16,
     "metadata": {},
     "output_type": "execute_result"
    }
   ],
   "source": [
    "# subtract the start date from end date and store the results in a new column\n",
    "Q3[\"protestlength\"] = Q3[\"enddate\"] - Q3[\"startdate\"]\n",
    "\n",
    "# show protest length in number of days; add 1 to include the first day on which the protest occurred\n",
    "Q3[\"protestlength\"] = Q3[\"protestlength\"].dt.days + 1\n",
    "\n",
    "Q3.head()"
   ]
  },
  {
   "cell_type": "markdown",
   "metadata": {},
   "source": [
    "Now that our dataframe is in order, we need to decide how to visualize it. We are interested in two numeric variables: protest length and protest size, so a scatterplot is a good choice. However, we also want to be able to compare different regions around the world. What we really need are multiple scatterplots - one for each region.\n",
    "\n",
    "This is where the **seaborn** library comes in handy. Seaborn can create multiple visualizations at once using the `.FacetGrid()` method. If we set the \"col\" argument to \"region\", `.FacetGrid()` will give us a separate plot for each region. We can also use a different color for each plot by setting \"hue\" to \"region\" as well. \"col_wrap\" simply limits the number of charts that are shown on a single row of the grid."
   ]
  },
  {
   "cell_type": "code",
   "execution_count": 17,
   "metadata": {},
   "outputs": [
    {
     "data": {
      "text/plain": [
       "<seaborn.axisgrid.FacetGrid at 0x18d232cf040>"
      ]
     },
     "execution_count": 17,
     "metadata": {},
     "output_type": "execute_result"
    },
    {
     "data": {
      "image/png": "[encoded data removed]",
      "text/plain": [
       "<Figure size 1200x600 with 8 Axes>"
      ]
     },
     "metadata": {},
     "output_type": "display_data"
    }
   ],
   "source": [
    "import seaborn as sns\n",
    "\n",
    "# create a \"grid\" object using the FacetGrid function. \n",
    "grid = sns.FacetGrid(data = Q3, col = \"region\", col_wrap = 4, hue = \"region\")\n",
    "\n",
    "# specify which chart we want to use on the grid and supply the variables for the x and y axis.\n",
    "fig = grid.map_dataframe(sns.scatterplot, x = \"protestlength\", y = \"participants\")\n",
    "\n",
    "# change the labels for our axes\n",
    "fig.set_axis_labels(\"Protest Length (in days)\", \"Participants (in millions)\")"
   ]
  },
  {
   "cell_type": "markdown",
   "metadata": {},
   "source": [
    "These plots are difficult to interpret because some of our data points are at the high ends of our scales while the rest are clustered at the lower ends. It would be easier to see the differences between the data points at the lower ends of our axes if we used **logarithmic scales**.\n",
    "\n",
    "Below, we create the series of scatterplots once more, but this time, we set the x and y scale of our grid object to be logarithmic."
   ]
  },
  {
   "cell_type": "code",
   "execution_count": 18,
   "metadata": {},
   "outputs": [
    {
     "data": {
      "text/plain": [
       "<seaborn.axisgrid.FacetGrid at 0x18d2715b6d0>"
      ]
     },
     "execution_count": 18,
     "metadata": {},
     "output_type": "execute_result"
    },
    {
     "data": {
      "image/png": "[encoded data removed]",
      "text/plain": [
       "<Figure size 1200x600 with 8 Axes>"
      ]
     },
     "metadata": {},
     "output_type": "display_data"
    }
   ],
   "source": [
    "# create the grid object\n",
    "grid = sns.FacetGrid(data = Q3, col = \"region\", col_wrap = 4, hue = \"region\")\n",
    "\n",
    "# set both scales to logarithmic\n",
    "grid.set(xscale=\"log\", yscale=\"log\")\n",
    "\n",
    "# specify the chart to show on the grid\n",
    "fig = grid.map_dataframe(sns.scatterplot, x = \"protestlength\", y = \"participants\")\n",
    "fig.set_axis_labels(\"Protest Length (in days)\", \"Participants (in millions)\")"
   ]
  },
  {
   "cell_type": "markdown",
   "metadata": {},
   "source": [
    "Overall, these plots seem to tell us that fewer people attend longer protests. However, that trend is more pronounced in some regions like Europe as opposed to others like the Middle East & North Africa (MENA) where very long protests are still able to draw a large attendance. "
   ]
  },
  {
   "cell_type": "markdown",
   "metadata": {},
   "source": [
    "### <a id='toc6_7_'></a>[Question 4: Are there certain time periods with greater or fewer protests?](#toc0_)"
   ]
  },
  {
   "cell_type": "markdown",
   "metadata": {},
   "source": [
    "To answer this question, we'll focus on the protest start date and the contry each protest took place in. We can grab the protest start dates from the \"startdict\" dictionary we used in Question 3.\n",
    "\n",
    "A line plot is the standard way to visualize change over time. However, if we try to plot each day over a period of 30 years, our graph will become very cluttered. So, we'll change our date column to include only months using the `.dt.to_period()` method. Then, we'll group our dataframe using `.groupby()` to aggregate the total number of protests for each month. That will give us a much smoother line."
   ]
  },
  {
   "cell_type": "code",
   "execution_count": 19,
   "metadata": {},
   "outputs": [
    {
     "data": {
      "text/html": [
       "<div>\n",
       "<style scoped>\n",
       "    .dataframe tbody tr th:only-of-type {\n",
       "        vertical-align: middle;\n",
       "    }\n",
       "\n",
       "    .dataframe tbody tr th {\n",
       "        vertical-align: top;\n",
       "    }\n",
       "\n",
       "    .dataframe thead th {\n",
       "        text-align: right;\n",
       "    }\n",
       "</style>\n",
       "<table border=\"1\" class=\"dataframe\">\n",
       "  <thead>\n",
       "    <tr style=\"text-align: right;\">\n",
       "      <th></th>\n",
       "      <th>id</th>\n",
       "      <th>country</th>\n",
       "      <th>date</th>\n",
       "    </tr>\n",
       "  </thead>\n",
       "  <tbody>\n",
       "    <tr>\n",
       "      <th>0</th>\n",
       "      <td>201990001</td>\n",
       "      <td>Canada</td>\n",
       "      <td>1990-01</td>\n",
       "    </tr>\n",
       "    <tr>\n",
       "      <th>1</th>\n",
       "      <td>201990002</td>\n",
       "      <td>Canada</td>\n",
       "      <td>1990-06</td>\n",
       "    </tr>\n",
       "    <tr>\n",
       "      <th>2</th>\n",
       "      <td>201990003</td>\n",
       "      <td>Canada</td>\n",
       "      <td>1990-07</td>\n",
       "    </tr>\n",
       "    <tr>\n",
       "      <th>3</th>\n",
       "      <td>201990004</td>\n",
       "      <td>Canada</td>\n",
       "      <td>1990-07</td>\n",
       "    </tr>\n",
       "    <tr>\n",
       "      <th>4</th>\n",
       "      <td>201990005</td>\n",
       "      <td>Canada</td>\n",
       "      <td>1990-08</td>\n",
       "    </tr>\n",
       "  </tbody>\n",
       "</table>\n",
       "</div>"
      ],
      "text/plain": [
       "          id country     date\n",
       "0  201990001  Canada  1990-01\n",
       "1  201990002  Canada  1990-06\n",
       "2  201990003  Canada  1990-07\n",
       "3  201990004  Canada  1990-07\n",
       "4  201990005  Canada  1990-08"
      ]
     },
     "execution_count": 19,
     "metadata": {},
     "output_type": "execute_result"
    }
   ],
   "source": [
    "# select the columns we need\n",
    "Q4 = protests[[\"id\", \"country\"]].copy()\n",
    "\n",
    "# create a date column from the \"startdict\" object we used in Question 3\n",
    "Q4[\"date\"] = pd.to_datetime(startdict)\n",
    "\n",
    "# get only year-month dates for a smoother line\n",
    "Q4[\"date\"] = Q4[\"date\"].dt.to_period('M')\n",
    "\n",
    "# to get the total number of protests per month, we'll need to group by date\n",
    "Q4_group = Q4.groupby(\"date\")\n",
    "\n",
    "Q4.head()"
   ]
  },
  {
   "cell_type": "markdown",
   "metadata": {},
   "source": [
    "Let's use the **bokeh** library to create the line plot so that we can explore our results interactively. You'll notice that there is quite a bit of set up involved, as well as some extra code required for bokeh to display in Jupyter notebooks."
   ]
  },
  {
   "cell_type": "code",
   "execution_count": 24,
   "metadata": {},
   "outputs": [
    {
     "data": {
      "text/html": [
       "\n",
       "    <div class=\"bk-root\">\n",
       "        <a href=\"https://bokeh.org\" target=\"_blank\" class=\"bk-logo bk-logo-small bk-logo-notebook\"></a>\n",
       "        <span id=\"1222\">Loading BokehJS ...</span>\n",
       "    </div>"
      ]
     },
     "metadata": {},
     "output_type": "display_data"
    },
    {
     "data": {
      "application/javascript": "\n(function(root) {\n  function now() {\n    return new Date();\n  }\n\n  const force = true;\n\n  if (typeof root._bokeh_onload_callbacks === \"undefined\" || force === true) {\n    root._bokeh_onload_callbacks = [];\n    root._bokeh_is_loading = undefined;\n  }\n\n  const JS_MIME_TYPE = 'application/javascript';\n  const HTML_MIME_TYPE = 'text/html';\n  const EXEC_MIME_TYPE = 'application/vnd.bokehjs_exec.v0+json';\n  const CLASS_NAME = 'output_bokeh rendered_html';\n\n  /**\n   * Render data to the DOM node\n   */\n  function render(props, node) {\n    const script = document.createElement(\"script\");\n    node.appendChild(script);\n  }\n\n  /**\n   * Handle when an output is cleared or removed\n   */\n  function handleClearOutput(event, handle) {\n    const cell = handle.cell;\n\n    const id = cell.output_area._bokeh_element_id;\n    const server_id = cell.output_area._bokeh_server_id;\n    // Clean up Bokeh references\n    if (id != null && id in Bokeh.index) {\n      Bokeh.index[id].model.document.clear();\n      delete Bokeh.index[id];\n    }\n\n    if (server_id !== undefined) {\n      // Clean up Bokeh references\n      const cmd_clean = \"from bokeh.io.state import curstate; print(curstate().uuid_to_server['\" + server_id + \"'].get_sessions()[0].document.roots[0]._id)\";\n      cell.notebook.kernel.execute(cmd_clean, {\n        iopub: {\n          output: function(msg) {\n            const id = msg.content.text.trim();\n            if (id in Bokeh.index) {\n              Bokeh.index[id].model.document.clear();\n              delete Bokeh.index[id];\n            }\n          }\n        }\n      });\n      // Destroy server and session\n      const cmd_destroy = \"import bokeh.io.notebook as ion; ion.destroy_server('\" + server_id + \"')\";\n      cell.notebook.kernel.execute(cmd_destroy);\n    }\n  }\n\n  /**\n   * Handle when a new output is added\n   */\n  function handleAddOutput(event, handle) {\n    const output_area = handle.output_area;\n    const output = handle.output;\n\n    // limit handleAddOutput to display_data with EXEC_MIME_TYPE content only\n    if ((output.output_type != \"display_data\") || (!Object.prototype.hasOwnProperty.call(output.data, EXEC_MIME_TYPE))) {\n      return\n    }\n\n    const toinsert = output_area.element.find(\".\" + CLASS_NAME.split(' ')[0]);\n\n    if (output.metadata[EXEC_MIME_TYPE][\"id\"] !== undefined) {\n      toinsert[toinsert.length - 1].firstChild.textContent = output.data[JS_MIME_TYPE];\n      // store reference to embed id on output_area\n      output_area._bokeh_element_id = output.metadata[EXEC_MIME_TYPE][\"id\"];\n    }\n    if (output.metadata[EXEC_MIME_TYPE][\"server_id\"] !== undefined) {\n      const bk_div = document.createElement(\"div\");\n      bk_div.innerHTML = output.data[HTML_MIME_TYPE];\n      const script_attrs = bk_div.children[0].attributes;\n      for (let i = 0; i < script_attrs.length; i++) {\n        toinsert[toinsert.length - 1].firstChild.setAttribute(script_attrs[i].name, script_attrs[i].value);\n        toinsert[toinsert.length - 1].firstChild.textContent = bk_div.children[0].textContent\n      }\n      // store reference to server id on output_area\n      output_area._bokeh_server_id = output.metadata[EXEC_MIME_TYPE][\"server_id\"];\n    }\n  }\n\n  function register_renderer(events, OutputArea) {\n\n    function append_mime(data, metadata, element) {\n      // create a DOM node to render to\n      const toinsert = this.create_output_subarea(\n        metadata,\n        CLASS_NAME,\n        EXEC_MIME_TYPE\n      );\n      this.keyboard_manager.register_events(toinsert);\n      // Render to node\n      const props = {data: data, metadata: metadata[EXEC_MIME_TYPE]};\n      render(props, toinsert[toinsert.length - 1]);\n      element.append(toinsert);\n      return toinsert\n    }\n\n    /* Handle when an output is cleared or removed */\n    events.on('clear_output.CodeCell', handleClearOutput);\n    events.on('delete.Cell', handleClearOutput);\n\n    /* Handle when a new output is added */\n    events.on('output_added.OutputArea', handleAddOutput);\n\n    /**\n     * Register the mime type and append_mime function with output_area\n     */\n    OutputArea.prototype.register_mime_type(EXEC_MIME_TYPE, append_mime, {\n      /* Is output safe? */\n      safe: true,\n      /* Index of renderer in `output_area.display_order` */\n      index: 0\n    });\n  }\n\n  // register the mime type if in Jupyter Notebook environment and previously unregistered\n  if (root.Jupyter !== undefined) {\n    const events = require('base/js/events');\n    const OutputArea = require('notebook/js/outputarea').OutputArea;\n\n    if (OutputArea.prototype.mime_types().indexOf(EXEC_MIME_TYPE) == -1) {\n      register_renderer(events, OutputArea);\n    }\n  }\n\n  \n  if (typeof (root._bokeh_timeout) === \"undefined\" || force === true) {\n    root._bokeh_timeout = Date.now() + 5000;\n    root._bokeh_failed_load = false;\n  }\n\n  const NB_LOAD_WARNING = {'data': {'text/html':\n     \"<div style='background-color: #fdd'>\\n\"+\n     \"<p>\\n\"+\n     \"BokehJS does not appear to have successfully loaded. If loading BokehJS from CDN, this \\n\"+\n     \"may be due to a slow or bad network connection. Possible fixes:\\n\"+\n     \"</p>\\n\"+\n     \"<ul>\\n\"+\n     \"<li>re-rerun `output_notebook()` to attempt to load from CDN again, or</li>\\n\"+\n     \"<li>use INLINE resources instead, as so:</li>\\n\"+\n     \"</ul>\\n\"+\n     \"<code>\\n\"+\n     \"from bokeh.resources import INLINE\\n\"+\n     \"output_notebook(resources=INLINE)\\n\"+\n     \"</code>\\n\"+\n     \"</div>\"}};\n\n  function display_loaded() {\n    const el = document.getElementById(\"1222\");\n    if (el != null) {\n      el.textContent = \"BokehJS is loading...\";\n    }\n    if (root.Bokeh !== undefined) {\n      if (el != null) {\n        el.textContent = \"BokehJS \" + root.Bokeh.version + \" successfully loaded.\";\n      }\n    } else if (Date.now() < root._bokeh_timeout) {\n      setTimeout(display_loaded, 100)\n    }\n  }\n\n\n  function run_callbacks() {\n    try {\n      root._bokeh_onload_callbacks.forEach(function(callback) {\n        if (callback != null)\n          callback();\n      });\n    } finally {\n      delete root._bokeh_onload_callbacks\n    }\n    console.debug(\"Bokeh: all callbacks have finished\");\n  }\n\n  function load_libs(css_urls, js_urls, callback) {\n    if (css_urls == null) css_urls = [];\n    if (js_urls == null) js_urls = [];\n\n    root._bokeh_onload_callbacks.push(callback);\n    if (root._bokeh_is_loading > 0) {\n      console.debug(\"Bokeh: BokehJS is being loaded, scheduling callback at\", now());\n      return null;\n    }\n    if (js_urls == null || js_urls.length === 0) {\n      run_callbacks();\n      return null;\n    }\n    console.debug(\"Bokeh: BokehJS not loaded, scheduling load and callback at\", now());\n    root._bokeh_is_loading = css_urls.length + js_urls.length;\n\n    function on_load() {\n      root._bokeh_is_loading--;\n      if (root._bokeh_is_loading === 0) {\n        console.debug(\"Bokeh: all BokehJS libraries/stylesheets loaded\");\n        run_callbacks()\n      }\n    }\n\n    function on_error(url) {\n      console.error(\"failed to load \" + url);\n    }\n\n    for (let i = 0; i < css_urls.length; i++) {\n      const url = css_urls[i];\n      const element = document.createElement(\"link\");\n      element.onload = on_load;\n      element.onerror = on_error.bind(null, url);\n      element.rel = \"stylesheet\";\n      element.type = \"text/css\";\n      element.href = url;\n      console.debug(\"Bokeh: injecting link tag for BokehJS stylesheet: \", url);\n      document.body.appendChild(element);\n    }\n\n    for (let i = 0; i < js_urls.length; i++) {\n      const url = js_urls[i];\n      const element = document.createElement('script');\n      element.onload = on_load;\n      element.onerror = on_error.bind(null, url);\n      element.async = false;\n      element.src = url;\n      console.debug(\"Bokeh: injecting script tag for BokehJS library: \", url);\n      document.head.appendChild(element);\n    }\n  };\n\n  function inject_raw_css(css) {\n    const element = document.createElement(\"style\");\n    element.appendChild(document.createTextNode(css));\n    document.body.appendChild(element);\n  }\n\n  \n  const js_urls = [\"https://cdn.bokeh.org/bokeh/release/bokeh-2.4.2.min.js\", \"https://cdn.bokeh.org/bokeh/release/bokeh-gl-2.4.2.min.js\", \"https://cdn.bokeh.org/bokeh/release/bokeh-widgets-2.4.2.min.js\", \"https://cdn.bokeh.org/bokeh/release/bokeh-tables-2.4.2.min.js\", \"https://cdn.bokeh.org/bokeh/release/bokeh-mathjax-2.4.2.min.js\"];\n  const css_urls = [];\n  \n\n  const inline_js = [\n    function(Bokeh) {\n      Bokeh.set_log_level(\"info\");\n    },\n    function(Bokeh) {\n    \n    \n    }\n  ];\n\n  function run_inline_js() {\n    \n    if (root.Bokeh !== undefined || force === true) {\n      \n    for (let i = 0; i < inline_js.length; i++) {\n      inline_js[i].call(root, root.Bokeh);\n    }\n    if (force === true) {\n        display_loaded();\n      }} else if (Date.now() < root._bokeh_timeout) {\n      setTimeout(run_inline_js, 100);\n    } else if (!root._bokeh_failed_load) {\n      console.log(\"Bokeh: BokehJS failed to load within specified timeout.\");\n      root._bokeh_failed_load = true;\n    } else if (force !== true) {\n      const cell = $(document.getElementById(\"1222\")).parents('.cell').data().cell;\n      cell.output_area.append_execute_result(NB_LOAD_WARNING)\n    }\n\n  }\n\n  if (root._bokeh_is_loading === 0) {\n    console.debug(\"Bokeh: BokehJS loaded, going straight to plotting\");\n    run_inline_js();\n  } else {\n    load_libs(css_urls, js_urls, function() {\n      console.debug(\"Bokeh: BokehJS plotting callback run at\", now());\n      run_inline_js();\n    });\n  }\n}(window));",
      "application/vnd.bokehjs_load.v0+json": ""
     },
     "metadata": {},
     "output_type": "display_data"
    },
    {
     "data": {
      "text/html": [
       "\n",
       "\n",
       "\n",
       "\n",
       "\n",
       "\n",
       "  <div class=\"bk-root\" id=\"a3bb409b-ec3f-4d04-8a6d-b1b8467b4919\" data-root-id=\"1224\"></div>\n"
      ]
     },
     "metadata": {},
     "output_type": "display_data"
    },
    {
     "data": {
      "application/javascript": "(function(root) {\n  function embed_document(root) {\n    \n  const docs_json = {\"44fca9bc-e329-410c-a2f2-0be56a520afb\":{\"defs\":[],\"roots\":{\"references\":[{\"attributes\":{\"below\":[{\"id\":\"1233\"}],\"center\":[{\"id\":\"1236\"},{\"id\":\"1240\"}],\"height\":300,\"left\":[{\"id\":\"1237\"}],\"renderers\":[{\"id\":\"1259\"}],\"title\":{\"id\":\"1284\"},\"toolbar\":{\"id\":\"1248\"},\"x_range\":{\"id\":\"1225\"},\"x_scale\":{\"id\":\"1229\"},\"y_range\":{\"id\":\"1227\"},\"y_scale\":{\"id\":\"1231\"}},\"id\":\"1224\",\"subtype\":\"Figure\",\"type\":\"Plot\"},{\"attributes\":{},\"id\":\"1288\",\"type\":\"AllLabels\"},{\"attributes\":{\"base\":24,\"mantissas\":[1,2,4,6,8,12],\"max_interval\":43200000.0,\"min_interval\":3600000.0,\"num_minor_ticks\":0},\"id\":\"1297\",\"type\":\"AdaptiveTicker\"},{\"attributes\":{\"days\":[1,4,7,10,13,16,19,22,25,28]},\"id\":\"1299\",\"type\":\"DaysTicker\"},{\"attributes\":{},\"id\":\"1290\",\"type\":\"DatetimeTickFormatter\"},{\"attributes\":{\"coordinates\":null,\"data_source\":{\"id\":\"1223\"},\"glyph\":{\"id\":\"1256\"},\"group\":null,\"hover_glyph\":null,\"muted_glyph\":{\"id\":\"1258\"},\"nonselection_glyph\":{\"id\":\"1257\"},\"view\":{\"id\":\"1260\"}},\"id\":\"1259\",\"type\":\"GlyphRenderer\"},{\"attributes\":{\"base\":60,\"mantissas\":[1,2,5,10,15,20,30],\"max_interval\":1800000.0,\"min_interval\":1000.0,\"num_minor_ticks\":0},\"id\":\"1296\",\"type\":\"AdaptiveTicker\"},{\"attributes\":{\"coordinates\":null,\"group\":null},\"id\":\"1284\",\"type\":\"Title\"},{\"attributes\":{},\"id\":\"1293\",\"type\":\"Selection\"},{\"attributes\":{\"coordinates\":null,\"formatter\":{\"id\":\"1290\"},\"group\":null,\"major_label_policy\":{\"id\":\"1291\"},\"ticker\":{\"id\":\"1234\"}},\"id\":\"1233\",\"type\":\"DatetimeAxis\"},{\"attributes\":{\"axis\":{\"id\":\"1237\"},\"coordinates\":null,\"dimension\":1,\"group\":null,\"ticker\":null},\"id\":\"1240\",\"type\":\"Grid\"},{\"attributes\":{},\"id\":\"1229\",\"type\":\"LinearScale\"},{\"attributes\":{\"mantissas\":[1,2,5],\"max_interval\":500.0,\"num_minor_ticks\":0},\"id\":\"1295\",\"type\":\"AdaptiveTicker\"},{\"attributes\":{\"months\":[0,1,2,3,4,5,6,7,8,9,10,11]},\"id\":\"1302\",\"type\":\"MonthsTicker\"},{\"attributes\":{},\"id\":\"1225\",\"type\":\"DataRange1d\"},{\"attributes\":{},\"id\":\"1238\",\"type\":\"BasicTicker\"},{\"attributes\":{\"overlay\":{\"id\":\"1247\"}},\"id\":\"1243\",\"type\":\"BoxZoomTool\"},{\"attributes\":{},\"id\":\"1306\",\"type\":\"YearsTicker\"},{\"attributes\":{\"line_alpha\":0.1,\"line_color\":\"#1f77b4\",\"line_width\":2,\"x\":{\"field\":\"date\"},\"y\":{\"field\":\"id_count\"}},\"id\":\"1257\",\"type\":\"Line\"},{\"attributes\":{\"bottom_units\":\"screen\",\"coordinates\":null,\"fill_alpha\":0.5,\"fill_color\":\"lightgrey\",\"group\":null,\"left_units\":\"screen\",\"level\":\"overlay\",\"line_alpha\":1.0,\"line_color\":\"black\",\"line_dash\":[4,4],\"line_width\":2,\"right_units\":\"screen\",\"syncable\":false,\"top_units\":\"screen\"},\"id\":\"1247\",\"type\":\"BoxAnnotation\"},{\"attributes\":{\"months\":[0,2,4,6,8,10]},\"id\":\"1303\",\"type\":\"MonthsTicker\"},{\"attributes\":{},\"id\":\"1241\",\"type\":\"PanTool\"},{\"attributes\":{},\"id\":\"1246\",\"type\":\"HelpTool\"},{\"attributes\":{\"months\":[0,4,8]},\"id\":\"1304\",\"type\":\"MonthsTicker\"},{\"attributes\":{},\"id\":\"1242\",\"type\":\"WheelZoomTool\"},{\"attributes\":{\"axis\":{\"id\":\"1233\"},\"coordinates\":null,\"group\":null,\"ticker\":null},\"id\":\"1236\",\"type\":\"Grid\"},{\"attributes\":{},\"id\":\"1287\",\"type\":\"BasicTickFormatter\"},{\"attributes\":{\"months\":[0,6]},\"id\":\"1305\",\"type\":\"MonthsTicker\"},{\"attributes\":{},\"id\":\"1227\",\"type\":\"DataRange1d\"},{\"attributes\":{},\"id\":\"1291\",\"type\":\"AllLabels\"},{\"attributes\":{},\"id\":\"1292\",\"type\":\"UnionRenderers\"},{\"attributes\":{\"days\":[1,8,15,22]},\"id\":\"1300\",\"type\":\"DaysTicker\"},{\"attributes\":{\"days\":[1,2,3,4,5,6,7,8,9,10,11,12,13,14,15,16,17,18,19,20,21,22,23,24,25,26,27,28,29,30,31]},\"id\":\"1298\",\"type\":\"DaysTicker\"},{\"attributes\":{},\"id\":\"1231\",\"type\":\"LinearScale\"},{\"attributes\":{\"tools\":[{\"id\":\"1241\"},{\"id\":\"1242\"},{\"id\":\"1243\"},{\"id\":\"1244\"},{\"id\":\"1245\"},{\"id\":\"1246\"}]},\"id\":\"1248\",\"type\":\"Toolbar\"},{\"attributes\":{},\"id\":\"1245\",\"type\":\"ResetTool\"},{\"attributes\":{\"coordinates\":null,\"formatter\":{\"id\":\"1287\"},\"group\":null,\"major_label_policy\":{\"id\":\"1288\"},\"ticker\":{\"id\":\"1238\"}},\"id\":\"1237\",\"type\":\"LinearAxis\"},{\"attributes\":{\"line_alpha\":0.2,\"line_color\":\"#1f77b4\",\"line_width\":2,\"x\":{\"field\":\"date\"},\"y\":{\"field\":\"id_count\"}},\"id\":\"1258\",\"type\":\"Line\"},{\"attributes\":{\"days\":[1,15]},\"id\":\"1301\",\"type\":\"DaysTicker\"},{\"attributes\":{},\"id\":\"1244\",\"type\":\"SaveTool\"},{\"attributes\":{\"num_minor_ticks\":5,\"tickers\":[{\"id\":\"1295\"},{\"id\":\"1296\"},{\"id\":\"1297\"},{\"id\":\"1298\"},{\"id\":\"1299\"},{\"id\":\"1300\"},{\"id\":\"1301\"},{\"id\":\"1302\"},{\"id\":\"1303\"},{\"id\":\"1304\"},{\"id\":\"1305\"},{\"id\":\"1306\"}]},\"id\":\"1234\",\"type\":\"DatetimeTicker\"},{\"attributes\":{\"line_color\":\"#1f77b4\",\"line_width\":2,\"x\":{\"field\":\"date\"},\"y\":{\"field\":\"id_count\"}},\"id\":\"1256\",\"type\":\"Line\"},{\"attributes\":{\"data\":{\"date\":[631152000000.0,633830400000.0,636249600000.0,638928000000.0,641520000000.0,644198400000.0,646790400000.0,649468800000.0,652147200000.0,654739200000.0,657417600000.0,660009600000.0,662688000000.0,665366400000.0,667785600000.0,670464000000.0,673056000000.0,675734400000.0,678326400000.0,681004800000.0,683683200000.0,686275200000.0,688953600000.0,691545600000.0,694224000000.0,696902400000.0,699408000000.0,702086400000.0,704678400000.0,707356800000.0,709948800000.0,712627200000.0,715305600000.0,717897600000.0,720576000000.0,723168000000.0,725846400000.0,728524800000.0,730944000000.0,733622400000.0,736214400000.0,738892800000.0,741484800000.0,744163200000.0,746841600000.0,749433600000.0,752112000000.0,754704000000.0,757382400000.0,760060800000.0,762480000000.0,765158400000.0,767750400000.0,770428800000.0,773020800000.0,775699200000.0,778377600000.0,780969600000.0,783648000000.0,786240000000.0,788918400000.0,791596800000.0,794016000000.0,796694400000.0,799286400000.0,801964800000.0,804556800000.0,807235200000.0,809913600000.0,812505600000.0,815184000000.0,817776000000.0,820454400000.0,823132800000.0,825638400000.0,828316800000.0,830908800000.0,833587200000.0,836179200000.0,838857600000.0,841536000000.0,844128000000.0,846806400000.0,849398400000.0,852076800000.0,854755200000.0,857174400000.0,859852800000.0,862444800000.0,865123200000.0,867715200000.0,870393600000.0,873072000000.0,875664000000.0,878342400000.0,880934400000.0,883612800000.0,886291200000.0,888710400000.0,891388800000.0,893980800000.0,896659200000.0,899251200000.0,901929600000.0,904608000000.0,907200000000.0,909878400000.0,912470400000.0,915148800000.0,917827200000.0,920246400000.0,922924800000.0,925516800000.0,928195200000.0,930787200000.0,933465600000.0,936144000000.0,938736000000.0,941414400000.0,944006400000.0,946684800000.0,949363200000.0,951868800000.0,954547200000.0,957139200000.0,959817600000.0,962409600000.0,965088000000.0,967766400000.0,970358400000.0,973036800000.0,975628800000.0,978307200000.0,980985600000.0,983404800000.0,986083200000.0,988675200000.0,991353600000.0,993945600000.0,996624000000.0,999302400000.0,1001894400000.0,1004572800000.0,1007164800000.0,1009843200000.0,1012521600000.0,1014940800000.0,1017619200000.0,1020211200000.0,1022889600000.0,1025481600000.0,1028160000000.0,1030838400000.0,1033430400000.0,1036108800000.0,1038700800000.0,1041379200000.0,1044057600000.0,1046476800000.0,1049155200000.0,1051747200000.0,1054425600000.0,1057017600000.0,1059696000000.0,1062374400000.0,1064966400000.0,1067644800000.0,1070236800000.0,1072915200000.0,1075593600000.0,1078099200000.0,1080777600000.0,1083369600000.0,1086048000000.0,1088640000000.0,1091318400000.0,1093996800000.0,1096588800000.0,1099267200000.0,1101859200000.0,1104537600000.0,1107216000000.0,1109635200000.0,1112313600000.0,1114905600000.0,1117584000000.0,1120176000000.0,1122854400000.0,1125532800000.0,1128124800000.0,1130803200000.0,1133395200000.0,1136073600000.0,1138752000000.0,1141171200000.0,1143849600000.0,1146441600000.0,1149120000000.0,1151712000000.0,1154390400000.0,1157068800000.0,1159660800000.0,1162339200000.0,1164931200000.0,1167609600000.0,1170288000000.0,1172707200000.0,1175385600000.0,1177977600000.0,1180656000000.0,1183248000000.0,1185926400000.0,1188604800000.0,1191196800000.0,1193875200000.0,1196467200000.0,1199145600000.0,1201824000000.0,1204329600000.0,1207008000000.0,1209600000000.0,1212278400000.0,1214870400000.0,1217548800000.0,1220227200000.0,1222819200000.0,1225497600000.0,1228089600000.0,1230768000000.0,1233446400000.0,1235865600000.0,1238544000000.0,1241136000000.0,1243814400000.0,1246406400000.0,1249084800000.0,1251763200000.0,1254355200000.0,1257033600000.0,1259625600000.0,1262304000000.0,1264982400000.0,1267401600000.0,1270080000000.0,1272672000000.0,1275350400000.0,1277942400000.0,1280620800000.0,1283299200000.0,1285891200000.0,1288569600000.0,1291161600000.0,1293840000000.0,1296518400000.0,1298937600000.0,1301616000000.0,1304208000000.0,1306886400000.0,1309478400000.0,1312156800000.0,1314835200000.0,1317427200000.0,1320105600000.0,1322697600000.0,1325376000000.0,1328054400000.0,1330560000000.0,1333238400000.0,1335830400000.0,1338508800000.0,1341100800000.0,1343779200000.0,1346457600000.0,1349049600000.0,1351728000000.0,1354320000000.0,1356998400000.0,1359676800000.0,1362096000000.0,1364774400000.0,1367366400000.0,1370044800000.0,1372636800000.0,1375315200000.0,1377993600000.0,1380585600000.0,1383264000000.0,1385856000000.0,1388534400000.0,1391212800000.0,1393632000000.0,1396310400000.0,1398902400000.0,1401580800000.0,1404172800000.0,1406851200000.0,1409529600000.0,1412121600000.0,1414800000000.0,1417392000000.0,1420070400000.0,1422748800000.0,1425168000000.0,1427846400000.0,1430438400000.0,1433116800000.0,1435708800000.0,1438387200000.0,1441065600000.0,1443657600000.0,1446336000000.0,1448928000000.0,1451606400000.0,1454284800000.0,1456790400000.0,1459468800000.0,1462060800000.0,1464739200000.0,1467331200000.0,1470009600000.0,1472688000000.0,1475280000000.0,1477958400000.0,1480550400000.0,1483228800000.0,1485907200000.0,1488326400000.0,1491004800000.0,1493596800000.0,1496275200000.0,1498867200000.0,1501545600000.0,1504224000000.0,1506816000000.0,1509494400000.0,1512086400000.0,1514764800000.0,1517443200000.0,1519862400000.0,1522540800000.0,1525132800000.0,1527811200000.0,1530403200000.0,1533081600000.0,1535760000000.0,1538352000000.0,1541030400000.0,1543622400000.0,1546300800000.0,1548979200000.0,1551398400000.0,1554076800000.0,1556668800000.0,1559347200000.0,1561939200000.0,1564617600000.0,1567296000000.0,1569888000000.0,1572566400000.0,1575158400000.0,1577836800000.0,1580515200000.0,1583020800000.0],\"id_25%\":{\"__ndarray__\":\"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\",\"dtype\":\"float64\",\"order\":\"little\",\"shape\":[363]},\"id_50%\":{\"__ndarray__\":\"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\",\"dtype\":\"float64\",\"order\":\"little\",\"shape\":[363]},\"id_75%\":{\"__ndarray__\":\"AAAQt1O49EEAABgHsSj6QQAAEL34wPVBAACcx+xv/UEAALAXD4j6QQAAEKduxfBBAAAAM0DW6kEAADhYed70QQAADFIuOPZBAAAcCN5Z+0EAANgnMo/yQQAAOAE5UfpBAABQ64si60EAAJD12kv4QQAAoF1WLvFBAAC8bbSN8UEAAKhr5b76QQAApJ+Ml/ZBAAD4tTWd9UEAAEy2NZ31QQAAnCXnQvJBAACoqZEp8UEAAMA76qrzQQAAqOUwsfxBAAAk9K4J8kEAAEAs/+r2QQAAIIhI4etBAABI/JiR+kEAAGT8mJH6QQAAbEaPDfNBAAAg8qTi8kEAAOTUed70QQAAUCyliPRBAAAQMIyl8UEAAFD0rgnyQQAASLBPb/NBAACQwqMB80EAACCJTSrtQQAAnODOBfFBAADIEnre9EEAANgaKQ71QQAArNqwkPNBAADEVCm09kEAAKDKJQDyQQAArMqsk/VBAACw6rSN8UEAAIDxfNHqQQAAwDqZkfpBAAAQJwXJ9EEAACAK6QvvQQAAUEqAk+pBAAAshVwP+UEAABg9j8T5QQAAPFO/XfxBAABAJ+a++kEAACBh2D31QQAAaMWZNPJBAAAcebib9EEAABAhYMDzQQAAOPFFovJBAACQ5x718EEAACir5knvQQAAkD8rlfZBAACAjxGo60EAAKyvgtjwQQAAwJ9+2/JBAACUfYvE8UEAAJA/sij6QQAAzJd1SfBBAAAwoULW6kEAAFBnprnqQQAAzOXnnPBBAAA8rutQ9UEAABDurwnyQQAAEDTNj/RBAABgrutQ9UEAADx+sij6QQAAECJG//pBAAB87tw680EAADA9Hp/lQQAAHExTi/FBAACg8MOZ60EAADSOAmHzQQAAVCbh4PxBAACQzsBM90EAAJy20sfwQQAAoPRORfpBAACUAF7+80EAAKQiURX1QQAAuBQqDvVBAAC4okEQ+EEAACiVwKb1QQAA1JjiG/tBAADMCnG39UEAAPTs61D1QQAACBlrjfRBAAAgrhQv7UEAACDToZz7QQAAGKtVuPRBAAAkO/50+kEAAEB9gBn7QQAAMMtr2fdBAAAYuTCE+UEAAFB7dvL7QQAAQDN8dvtBAAAQA66T9UEAAEQZOI/6QQAAICOJXPBBAACQNXKp+kEAAKAJbNn3QQAAqL86BfdBAACwjfe1/EEAAMD5/1LwQQAApJEqDvVBAACw+Q1690EAANzvroX6QQAA9FMWGvVBAADYtxJp+kEAAKC5lfz1QQAAAHr+dPpBAAAUOmTc8UEAABBQGwn4QQAAIAj0W/ZBAAAwqM1G+0EAAHAw5t36QQAAgHRyqfpBAACguP50+kEAADCpzUb7QQAAIKSr0fVBAAAg/NZ79UEAAJCpzUb7QQAAGPDmzPVBAACQfHgq8EEAAKAum5H6QQAAnAC4y/lBAACUnnlo+EEAAMheAev2QQAA5DZ38vtBAACQ5r8f9EEAAKgwxMLzQQAAwIZs2fdBAAAMVzOx/EEAAJwWjgL6QQAA1C66m/RBAAAQw9se9UEAACh5I7fwQQAAEF09MvpBAAA05SiY+EEAADD1pQHzQQAA6H7sv+tBAACY0l1+70EAABgJn0L1QQAAEJVxxfBBAAAQJcAf9EEAACSJvG75QQAATJWe9vFBAACYZ4gy90EAACB3FajrQQAAkI1iZvVBAACo7TxA9UEAAKBXKtP2QQAAkNsB6/ZBAADUc/90+kEAAADk3Uv4QQAA4IsrDvVBAACw47Aa90EAANCT2j31QQAAEGXORvtBAAAQShwJ+EEAADiizkb7QQAAKIK4JfhBAAAwYkii8kEAADjmeRz1QQAAEELHO/pBAABksv90+kEAACyjzkb7QQAAQO4oTPVBAABwShwJ+EEAANSY6L76QQAAOFqnmflBAACQ8Hjh9kEAALDMAjf6QQAAABk+MvpBAABECSwO9UEAABCBxzv6QQAA+DjNv/lBAADoJFsS+0EAAACJHAn4QQAAkEB87/lBAAAo2yk++kEAALiCHZ70QQAA8KApmPhBAAAcdyci/EEAACAfz0b7QQAAOOug2vtBAACgr/Bv/UEAACTbFUr6QQAAPC8AdfpBAABULwB1+kEAADSl/MD1QQAAcMd2a/pBAACQS06D+kEAANwfz0b7QQAAULdkR/VBAACQl3WK+kEAAJAFw6b1QQAAuF3PRvtBAAC8BR0J+EEAAAhez0b7QQAAkMVKKfRBAADAbQB1+kEAAOzV4+D8QQAAXNbj4PxBAADQ7Q9690EAAJRVuI3xQQAA4LnhDfhBAAAQkum++kEAABRstSj6QQAAfKwAdfpBAAA0PJsK+UEAANCsAHX6QQAAgJzPRvtBAABo9Cci/EEAAICYjsf7QQAAJK0AdfpBAABkOC1a+EEAAOCcz0b7QQAAMHwykvRBAACQ8MSH9UEAAJDKRLb5QQAAwBo6nfVBAACggh0J+EEAANRSXU35QQAAAGsQevdBAACsEj8y+kEAAERrEHr3QQAAWBmK2PhBAACAhac160EAAMAaG5P7QQAAGC+NQPpBAAAUvzLs8kEAABDh2cf4QQAAWIEe+PJBAAAslXGb90EAAHgpxhzyQQAALHta5fdBAABQkV1N+UEAAJRBLQ71QQAAsEEtDvVBAADkQS0O9UEAAKCV6gf0QQAAQC1h/vNBAAC8jz8y+kEAAODPXU35QQAA7NBdTflBAACM0V1N+UEAAMyj3hD6QQAACPVai/lBAAD0kD8y+kEAAEzyUGT6QQAA6BdYyflBAADw0l1N+UEAADywl2f5QQAAPGgBdfpBAAAQbjgn+UEAABzQaGPzQQAAaBLM/flBAABAVljJ+UEAADBWK5j4QQAAhK5WQvhBAACoNsk7+kEAAFBeB/n5QQAAiMAYK/pBAABUhkW2+UEAALyuVkL4QQAAoIZFtvlBAACQxEW2+UEAAJAYMOH5QQAA/FxiSvdBAACwxEW2+UEAAKgNQDL6QQAAlGJTjvNBAAAI7VZC+EEAAKjUoxX6QQAAmCxILPZBAAAw/S0O9UEAALBUlBD9QQAAaHVQz/1BAAAk67+6/EEAAGDb2sf4QQAAcNNYyflBAABIIwJ1+kEAAHDfotr7QQAAtCMCdfpBAAAUJAJ1+kEAAESDNrH8QQAAsCQCdfpBAACQ3xtH+EEAANwkAnX6QQAA4GN68vtBAACQe5KX9kEAAJBxf970QQAAmKlILPZBAADAYQJ1+kEAACCT4TrzQQAAuJPhOvNBAAAA8m/Z90EAALARLJj4QQAAwIDUq/JBAADUcX/e9EEAANghA2T1QQAAsEFlwPNBAABQKOCz8UEAABhcO1HyQQAAAMkF2vFBAAA8IBJ690EAAFAQWrj0QQAAhLguDvVBAADEFBSk8EEAAKRwNJL0QQAAsHJr6vRBAABMK+Cz8UEAACS5Lg71QQAAYLjUq/JBAACortov8kEAACBF9AvvQQAAsLZcLvFBAADAmsLk9UEAAKCuNJL0QQAAdGfgs/FBAADMXhJ690EAAMxAM7H0QQAAzH5HpfRBAAAI99Sr8kEAADD31KvyQQAAoPNm+/FBAAAQhauI9EEAABCxOOz6QQAAIIUF6/ZBAAAQrXDZ90EAANy1xab1QQAA+DEbwPZBAAAcrnDZ90EAAFxpa6H7QQAAfL3tQvJBAABw7dov8kEAAHANpRX6QQAAeJVjSvdBAADY02NK90EAALCNoCb3QQAACNzlSPZBAADkPN8s8EEAAFAU3Mf4QQAAsH5Cx/ZBAADYhLqe9kEAAOh6W6r5QQAAeJCqTfZBAADknaQj9UEAAPCbQJrzQQAAmJx78vtBAAAQFG5x9kEAACBiwbr8QQAAFBLdtvNB\",\"dtype\":\"float64\",\"order\":\"little\",\"shape\":[363]},\"id_count\":{\"__ndarray__\":\"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\",\"dtype\":\"float64\",\"order\":\"little\",\"shape\":[363]},\"id_max\":{\"__ndarray__\":\"AACIwyr0AEIAABAXw0z/QQAAgMfsb/1BAAAwyOxv/UEAADAXw0z/QQAAIA+6uvxBAACQwyr0AEIAAJjDKvQAQgAAQMjsb/1BAAAwr9/g/EEAAKAPurr8QQAAUBfDTP9BAACQjVFC+EEAAJBVw0z/QQAAkHXLRvtBAACwdctG+0EAAMjiKvQAQgAA0OIq9ABCAACgVcNM/0EAAJB2y0b7QQAAsFXDTP9BAACQ5TCx/EEAAKBlIaz/QQAAsI0yOP5BAAAQtMtG+0EAABBE7W/9QQAAEDSPEP1BAAAQVEvP/UEAABCUw0z/QQAAUIy6uvxBAAAgNI8Q/UEAADA0jxD9QQAAEExCPftBAABANI8Q/UEAABCkIaz/QQAAUCQxsfxBAACQ4iGs/0EAAJBCdfL7QQAAkJJLz/1BAACQco8Q/UEAAJCyB47+QQAAoOIhrP9BAADggu1v/UEAAKBCdfL7QQAASCEr9ABCAACgkkvP/UEAALDiIaz/QQAAwOIhrP9BAAAQCbu6/EEAACAhIqz/QQAAEBEQiPpBAAAwISKs/0EAAEAhIqz/QQAAUCEirP9BAABwISKs/0EAAKDB7W/9QQAAoAm7uvxBAAAwsY8Q/UEAAIAhIqz/QQAA0Am7uvxBAACQR7u6/EEAAKBHu7r8QQAAkF8irP9BAADwR7u6/EEAAKAvCI7+QQAAsC8Ijv5BAADIXyv0AEIAAND/7W/9QQAAsF8irP9BAAAgSLu6/EEAAEBIu7r8QQAA0F8irP9BAAAQjsRM/0EAACCOxEz/QQAAEJ4irP9BAAAgniKs/0EAABDO4mf+QQAAQJ4irP9BAABQniKs/0EAACA+7m/9QQAAMD7ub/1BAABgniKs/0EAAAh/K/QAQgAAcJ4irP9BAACQ3CKs/0EAAKDcIqz/QQAAUJ4r9ABCAACw3CKs/0EAANDcIqz/QQAAwHzub/1BAADgfO5v/UEAACB97m/9QQAAkMzETP9BAADAjEzP/UEAAKAM42f+QQAAoAQ0OP5BAAAgGyOs/0EAAJAbI6z/QQAAwBsjrP9BAADQGyOs/0EAAPAbI6z/QQAAEBwjrP9BAABAu+5v/UEAACAcI6z/QQAAUBwjrP9BAABgHCOs/0EAAHAcI6z/QQAAiL0r9ABCAACgWSOs/0EAALApCY7+QQAAsFkjrP9BAADwKQmO/kEAANBZI6z/QQAA4FkjrP9BAADwWSOs/0EAAABaI6z/QQAAIFojrP9BAABAWiOs/0EAAFBaI6z/QQAAcFojrP9BAAAgmCOs/0EAAAj8K/QAQgAAMJgjrP9BAABQmCOs/0EAAHCYI6z/QQAAsDjvb/1BAAAQyONn/kEAAHBoCY7+QQAAEPwr9ABCAACQmCOs/0EAAHCIxUz/QQAAoGgJjv5BAACQxsVM/0EAAJDWI6z/QQAAWBss9ABCAACgxsVM/0EAALDWI6z/QQAAaBss9ABCAADApgmO/kEAANBmkRD9QQAAsMbFTP9BAADgpgmO/kEAAJC2Z+3+QQAA8KYJjv5BAAAQ5QmO/kEAADDFTc/9QQAAEBUkrP9BAABgxU3P/UEAADDlCY7+QQAAoF09MvpBAAAg/by6/EEAACAVJKz/QQAAQBUkrP9BAABQFSSs/0EAAGAVJKz/QQAAiBLBBQBCAACgUySs/0EAALBTJKz/QQAAkCMKjv5BAACwY85G+0EAAMADTs/9QQAAoHs1OP5BAACgIwqO/kEAAOADTs/9QQAAsCMKjv5BAADAIwqO/kEAAKDjkRD9QQAA0PPvb/1BAAAQujU4/kEAABCSJKz/QQAAcEJOz/1BAAAQwuRn/kEAAAhRwQUAQgAAoEJOz/1BAAAQUcEFAEIAAIB6vbr8QQAAwEJOz/1BAAAIeSz0AEIAABBiCo7+QQAAEHks9ABCAACQgE7P/UEAALBw8G/9QQAASJgs9ABCAABIcMEFAEIAAFCYLPQAQgAAkMDGTP9BAACgwMZM/0EAAJCgCo7+QQAAoNAkrP9BAABYmCz0AEIAAGCYLPQAQgAAaJgs9ABCAAAQDyWs/0EAACAPJaz/QQAAMA8lrP9BAACIj8EFAEIAAGAPJaz/QQAAkI/BBQBCAAAAwE7P/UEAAECPNLH8QQAAcA8lrP9BAADQ9726/EEAAEDATs/9QQAAEP/GTP9BAACQHQuO/kEAAMD9Ts/9QQAA4P1Oz/1BAAAA/k7P/UEAAJBNJaz/QQAAQP5Oz/1BAABQ/k7P/UEAAMiuwQUAQgAAsB0Ljv5BAADg7fBv/UEAANAdC47+QQAA4B0Ljv5BAAAgXAuO/kEAACB8x0z/QQAAMFwLjv5BAAAQjCWs/0EAADCMJaz/QQAAkFwLjv5BAAAIzsEFAEIAACC85Wf+QQAAoFwLjv5BAACwXAuO/kEAAMBcC47+QQAAID1Pz/1BAACQmguO/kEAAKCaC47+QQAAwJoLjv5BAADgek/P/UEAANCaC47+QQAASBUt9ABCAACQusdM/0EAAACbC47+QQAAIHtPz/1BAAAwe0/P/UEAABCbC47+QQAAkMolrP9BAAAQCSas/0EAADDZC47+QQAAULlPz/1BAAAgCSas/0EAAIg0LfQAQgAAcNkLjv5BAAAwCSas/0EAAHC5T8/9QQAAkDQt9ABCAADAuU/P/UEAAEDxvrr8QQAAEDnmZ/5BAADIK8IFAEIAALD3T8/9QQAAkOfxb/1BAADQML+6/EEAAJB35mf+QQAAIDG/uvxBAACQFwyO/kEAAKBHJqz/QQAAIDK/uvxBAACQMr+6/EEAAKAXDI7+QQAAyFMt9ABCAAAQ5nny+0EAABBWDI7+QQAAEHMt9ABCAAAYcy30AEIAAAhLwgUAQgAAQCbyb/1BAAAQS8IFAEIAAFAm8m/9QQAAMK43OP5BAABANlDP/UEAACBmau3+QQAAYCbyb/1BAACgZPJv/UEAAKCsv7r8QQAAsGTyb/1BAACQTOXg/EEAAKDEJqz/QQAAsMQmrP9BAADAxCas/0EAAEiSLfQAQgAA0MQmrP9BAADA7Dc4/kEAALC0yEz/QQAAoJQMjv5BAAAQ42rt/kEAAIixLfQAQgAAEAMnrP9BAAAg88hM/0EAADDzyEz/QQAAMONq7f5BAAAgAyes/0EAAEADJ6z/QQAAUAMnrP9BAABQ88hM/0EAAGADJ6z/QQAAgCs4OP5BAACQIWvt/kEAAJBx52f+QQAA0BENjv5BAADgEQ2O/kEAAJAxyUz/QQAA4PFQz/1BAACgMclM/0EAABASDY7+QQAAkEEnrP9BAAAwEg2O/kEAALAxyUz/QQAA0Gk4OP5BAAAgUA2O/kEAADBQDY7+QQAAEIAnrP9BAAAQcMlM/0EAAAjwLfQAQgAAoFANjv5BAABA4Hry+0EAACBwyUz/QQAAwFANjv5BAADQUA2O/kEAAABRDY7+QQAAcIAnrP9BAACQPjex/EEAAJCuyUz/QQAAkL4nrP9BAACQjg2O/kEAAKCODY7+QQAASA8u9ABCAABQDy70AEIAALC+J6z/QQAAsK7JTP9BAABYDy70AEIAANCuyUz/QQAA4K7JTP9BAAAwrVHP/UEAABDNDY7+QQAAEN1r7f5BAABw5cC6/EEAACD9J6z/QQAAEC3oZ/5BAAAw7clM/0EAADCd82/9QQAAEI2VEP1BAAAgjZUQ/UEAAIgGwwUAQgAAYP0nrP9BAACQ61HP/UEAAJDD5uD8QQAAkDsorP9BAADAw+bg/EEAAKA7KKz/QQAAkCvKTP9BAAAQxObg/EEAALA7KKz/QQAA4DsorP9BAADQI8G6/EEAALDLlRD9QQAAwOtRz/1BAAAgKlLP/UEAABB6KKz/QQAAIPo3sfxB\",\"dtype\":\"float64\",\"order\":\"little\",\"shape\":[363]},\"id_mean\":{\"__ndarray__\":\"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\",\"dtype\":\"float64\",\"order\":\"little\",\"shape\":[363]},\"id_min\":{\"__ndarray__\":\"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\",\"dtype\":\"float64\",\"order\":\"little\",\"shape\":[363]},\"id_std\":{\"__ndarray__\":\"BNlltLtL20GgDOVsaHDgQckZvXsHoeBBNcvBe1A44kFdIaSRh93gQTybJU1Vj+FBdBps+4ZA3UGwp9F+V1rhQW8uDxMcDONBtAx5eabA4kFbV7sPFA7dQSyBnbaVheFB9ejK5jFD1UE/yT23Et7iQU61kzX4bNVBtsLSuuwb2kGq46banCrgQSDxemhUauFBoHB60xBs4UGc0fPFOG7gQZM5/T/kf+BBeVvi2JTG3kFMnjaVav3jQRh6NaC7XeVB6pc6uG4x2UFY2vmWsJbiQe96iEAZPeBBa5S6bw545kGDA9UzxeHiQX+eLXKFGd9Bzt+d2eM33kE4tJ1HMafeQQpzEvcywOBBQ3unU3254EGC+WckCkbhQYI942fIkt5B8J50KWb230HSsz4WVpbbQZ5xOjAPBOBBvrBMWK+y4UFRQjKzkkTiQawA2Zf3r95BCidS3gqj4EG6yaDb4qfaQRH5ilJugeRB88+CGtzG3UHFwDg0qEjaQYVoQT2CGeFBwww2mr1y4UFOnJtN5pDhQQ6oua9/i9lBg2bO1Jlu40G44/FmYArkQTogh+DU6uVB+9eE8+fG4UFYiYGs6dLhQewfDN+STeJBYtLtkrnd4UGpmGbA8dPhQScGNxROW+JBsplNRbRC4UE1mfQOrhHfQQzGryoUqeFBmvIcRxb630Hmcm+kSo/iQXPxOofZRuFBtRC4AWOr4UGAtTiY1FPkQStWiAvw9+FBfV+Yold51EEwzXNMvhjgQRGxCBxAFuNBNhuh4cF44kHMMHbB4ZTiQdV1ZaIB9eJBPy4HLCmw4kF8ADxdACPjQXjskMQD5eRBe37W7wdI3kGhelTqCc7gQRfj8PJFvuBB1RNVekUA4EFgV1ZBSZzcQY2KMhe9teNBJGIzG2QL4EHtqQFt6+TfQSHn9Z/9JOJBNEK0NiWv4kEgux9D4wXiQYXLnNpAWeJBaIOREkdc40HOUWeYYqfjQbfw5wyoVuVB9wWDLaL+4UFmv2JNGBHiQTifFgwSYOFBvw6aRZlI4kGWsrUgT3LjQVT4M3oSveBB+hm33y+w4kH8QtdU1MbhQX3A/fRF7+FBZvUaqwFV40GYF3RJZ5/kQRSoxPXM8uRBFHNSIJOh5EHXBsstL5HjQS6ke4eQWuRBDUMD+z5G4kGp0EikQCnkQcwTuhvah+NBPBNy+BlY50GcwuXbcHriQVQCbcIbGeNB+WPv2zrw4EHbQkqRfeLjQW2bK8yYmt9B2NFsAJ7d40GvUadcQ43gQT1RwA5QNuJBbIuZ1Z7A40HTEJlncXXiQWYC153AcuNB40bT1hBW40GxhlLX3+XiQaI1vyY5I+RB0wlWHDFf4kGmSG0OfcHjQVrDPZV6IONBXzR2NWUv4EGFkbPAdxfhQbNvOrLisN1BcyxjvkLn4UHCfGLiHvDhQTm7lRvJQuRBx767RzPX4UGtl623QdLjQe3KKGZNZ+RBNhUiB8vh4kFktPGQH6LfQXWjraP4b+FBNIx0g5LN40HMiFdxDV3hQcBUTFYqWeFBQwYc427X30Ez/qu3kCbgQSYvZmWzAONBvqB+XLWw30EYQClUBmrfQUgmoIRPCuBByM/QSIvm4EEPUqef49PiQYS5WTd44OBB9ME478uF4UFwvQ+KFQbiQcRvDJG+HeBBWPhmEOlr40E9B+JRSr7cQVQ70/rYauFBf9GQsX+P30HFlt1g9GDiQfOyC/uAaeFB4di7jecv40GzTrMAhZHkQdPJs1rTo+FBR1KYXUbH4kE7j7NFpJHgQSH95s2GzeRBX8Vtno8K5EEebVzsM9DkQVi7ytpAo+JBkciBo/XB4EEuBsZ+P3LkQXZZQMFDJONBuwWIXnky4UEY/VQLh6vjQZZorVutduFBdJSwUYy+4kFBofcV8bfcQTgvnXpSj+FB+ydaXEKE30ECw9DsCvXeQdEM4COloOJBr31N0eGE4UED6uPIfn/hQcG2eA5K4eFBhSdyRoB74kE6qqxLN4jjQWr/w7xes+VBSDY+SOql4UESWGCghzvhQUpsYtgZFN1BYpfykSiI5UEyftufVZDkQQwIGftAg+RBX8QJzXKM4kGCGUXaRa7jQZUqyS0SId9BPyR1ImGC5EEa/kLrq/LiQQHwSsguPeJBGdIZRL4B4UFAZIntof3eQVXqVICTZd5BxYaVpCKr4EGc80/ekOngQTFqeue5v+JBQGFqkLj84UFLf33WlwbkQXZl8aQrIONB+RJbrwjQ5EFk2xdnF3DjQRtuGsY0z+NBG4di7T3T4UF8vu70unXgQTHKAZ/FueBBye0R7O/44EHfyeBVObHhQW6qybWCQeFBEYB0Oz9R40FcY7f8LaTjQQSmq/mfjuRBdVWoyefM5EEjFYkfd37lQe5Y5GVvgOBBp0gfHcCA4EFLtEHnRQPiQWpDripuYdpB7EVho0kO4EGkU9G6wvTiQSE3CJs6PuBB+WIGqPvu3kH59jx2/QLiQalsZdzG4OJB/3ju8/M64kH7nzJ86A7iQf2eQPpgHONBNAPvVzrx30Hq2e7ripflQeEQ3dbUc9tBLrZ2cWsp4EG4t/MyjmjdQYC6pF8rRtpBZoVSvNnY3kENrAij7rTgQTsCn4LLhdxBQIa1CHpJ3kHbZ4M7E1LgQVUwj62mz99B3+ZjnKaf3kHjomD9wPreQfIIfOLwmtxBhcjXiQfF3kGK8/bsrcHfQaOcl7cKmdtBYOwq8kFD3EHfGkVR3TDeQSerDbbxFN1BNQLp+1rp2kFs/avFOpXgQb+4B8W/TdtBQNvrS18j4EF2TESs/YHgQa24G/qatN5BLP2jDK7v10G7Z0b3YSnaQbNb0LrCF95B5KLtmXoV3EEap8eyzU7hQTwDzM/ioeFBeRRysbg24UEWXASsovPcQQld2pyzZdtBNUPnLTLh4EH6URq5O2rgQYZNlZweqt1BJfCUizet3kG2aoCrLP/ZQYYMFHE0ad1BGMYpLB914UEECwo+aL/gQfjLdfr/guFB4APnMwJ44EG6RUdk9JXjQYVXJswjtt9BlzF5ZIgQ3UHYy8rQy//iQfH+kD2KPeBBMEgLFYPA30GVxU/ri9/hQbJ75daXcd9BqNK/5iQE4UEPtyVo4RziQZufH4orw+FBJltGA5Fu40HkRGdUUazkQW5BXoVtLuNBElyq4fRO4kFr1tI6BMjiQb7Ws+Su4+NBv71ni74o4UEoPLjNuuTeQbwxnAHn4eFB03IY8KEp4kFaMBZVU6PgQWw8cYAxwt9B02YErvKf4kGiab9ffb3jQYwMl6pz2eBBsZd8NNLH20EMWpZhFI3gQWCw+aomG95BS0ufCMGj2EHHG+Lt1QXcQd2ckrYj2d1BUQo8MZuh4UE+KXQniXfdQXOmFh+JZtxBaMi6aJ+O2EHu5kcihy7ZQQRhT2Jgk95Bocz4ljI220Eh63rir2TdQRnYTyONEN9BHT41l7iU2kG0mg9PvInVQWtJERg8/tlByHShaSG/4EHpC3zAdVvaQel61AnjlOBBYNqOjXXZ30E/0m2MryvgQVsN8as5/d1BuiP7hwTt20G4bUl74qffQVnh98xxhNpBVYo1KYyx4EG11p8nOnngQY9NLOAozuBBC4lNYLwV4EGn/jVf+x/bQfxKG/O33dxBJo5je9Hg4kF+kHCK+6LgQahlrQj3FdtBTOQ9S28M3UH5nAJ2f6PgQeVuRqlKzN9BJNMS62+u4UFfk4+NIZfeQclyFL2HL+FBZMLrYQDh2kE97lQ4ruDaQWKHcgNkhN5Buy5QCSVr3UG6uTPhVRTgQfrIzsRsSd1BqnYuf3QJ4EGd2BRKtSvbQTdW8KKhC+FB2dxnN8ss30Eh3EJaZi7jQaCqSTCwIeBB\",\"dtype\":\"float64\",\"order\":\"little\",\"shape\":[363]}},\"selected\":{\"id\":\"1293\"},\"selection_policy\":{\"id\":\"1292\"}},\"id\":\"1223\",\"type\":\"ColumnDataSource\"},{\"attributes\":{\"source\":{\"id\":\"1223\"}},\"id\":\"1260\",\"type\":\"CDSView\"}],\"root_ids\":[\"1224\"]},\"title\":\"Bokeh Application\",\"version\":\"2.4.2\"}};\n  const render_items = [{\"docid\":\"44fca9bc-e329-410c-a2f2-0be56a520afb\",\"notebook_comms_target\":\"1307\",\"root_ids\":[\"1224\"],\"roots\":{\"1224\":\"a3bb409b-ec3f-4d04-8a6d-b1b8467b4919\"}}];\n  root.Bokeh.embed.embed_items_notebook(docs_json, render_items);\n\n  }\n  if (root.Bokeh !== undefined) {\n    embed_document(root);\n  } else {\n    let attempts = 0;\n    const timer = setInterval(function(root) {\n      if (root.Bokeh !== undefined) {\n        clearInterval(timer);\n        embed_document(root);\n      } else {\n        attempts++;\n        if (attempts > 100) {\n          clearInterval(timer);\n          console.log(\"Bokeh: ERROR: Unable to run BokehJS code because BokehJS library is missing\");\n        }\n      }\n    }, 10, root)\n  }\n})(window);",
      "application/vnd.bokehjs_exec.v0+json": ""
     },
     "metadata": {
      "application/vnd.bokehjs_exec.v0+json": {
       "id": "1224"
      }
     },
     "output_type": "display_data"
    }
   ],
   "source": [
    "# load bokeh modules\n",
    "from bokeh.models import *\n",
    "from bokeh.application import *\n",
    "from bokeh.application.handlers import *\n",
    "from bokeh.layouts import *\n",
    "from bokeh.io import *\n",
    "from bokeh.plotting import *\n",
    "\n",
    "# set up bokeh for working in jupyter notebooks - this uses similar functionality to %matplotlib inline\n",
    "output_notebook()\n",
    "\n",
    "# create a source object from our pandas dataframe\n",
    "pdata = ColumnDataSource(Q4_group)\n",
    "\n",
    "# set up the size of our plot and format the x axis for dates\n",
    "p = figure(height = 300, width = 600, x_axis_type = \"datetime\")\n",
    "\n",
    "# add a line to our plot\n",
    "# we can use \"id_count\" to get a count of the protests for each month\n",
    "p.line(source = pdata, x = \"date\", y = \"id_count\", width = 2)\n",
    "\n",
    "# push the plot to jupyter notebooks\n",
    "handler = show(p, notebook_handle = True)\n",
    "push_notebook(handle = handler)"
   ]
  },
  {
   "cell_type": "markdown",
   "metadata": {},
   "source": [
    "Notice the icons on the right side of the line plot. These allow us to zoom in and out so we can examine the line in detail. Use the magnifying glass icon to zoom in very close and notice what happens to the dates at the bottom. They turn from years into months! When you are zoomed in, you can also use the arrows icon to click and drag around the line.\n",
    "\n",
    "But this plot only uses the minimal amount of interactive features that are available in the bokeh. What if we want a dropdown menu that would let us filter the protests by country? To do that, we'll first need to create a list of all countries in the dataset. The `.unique()` method returns all unique values within a column, and `.tolist()` transforms those values into a list."
   ]
  },
  {
   "cell_type": "code",
   "execution_count": 25,
   "metadata": {},
   "outputs": [
    {
     "data": {
      "text/plain": [
       "['Afghanistan',\n",
       " 'Albania',\n",
       " 'Algeria',\n",
       " 'Angola',\n",
       " 'Argentina',\n",
       " 'Armenia',\n",
       " 'Austria',\n",
       " 'Azerbaijan',\n",
       " 'Bahrain',\n",
       " 'Bangladesh']"
      ]
     },
     "execution_count": 25,
     "metadata": {},
     "output_type": "execute_result"
    }
   ],
   "source": [
    "# create a list of countries for our drop-down menu\n",
    "menu_list = Q4[\"country\"].unique().tolist()\n",
    "\n",
    "# sort the list alphabetically\n",
    "menu_list.sort()\n",
    "\n",
    "# preview the first 10 items on the list\n",
    "menu_list[0:10]"
   ]
  },
  {
   "cell_type": "markdown",
   "metadata": {},
   "source": [
    "Now we need to create the menu and link it to a plot. This is somewhat complex process compared to what we've done so far. Bokeh requires us to create a specific type of function that defines how to update the chart when a new country is selected.\n",
    "\n",
    "[Click here for more information on defining functions](https://www.w3schools.com/python/python_functions.asp).\n",
    "\n",
    "[Click here for more information on dynamically updating charts in bokeh](https://docs.bokeh.org/en/latest/docs/user_guide/interaction/widgets.html)."
   ]
  },
  {
   "cell_type": "code",
   "execution_count": 26,
   "metadata": {},
   "outputs": [
    {
     "data": {
      "application/vnd.bokehjs_exec.v0+json": "",
      "text/html": [
       "\n",
       "<script id=\"1465\">\n",
       "  (function() {\n",
       "    const xhr = new XMLHttpRequest()\n",
       "    xhr.responseType = 'blob';\n",
       "    xhr.open('GET', \"http://localhost:61901/autoload.js?bokeh-autoload-element=1465&bokeh-absolute-url=http://localhost:61901&resources=none\", true);\n",
       "    \n",
       "    xhr.onload = function (event) {\n",
       "      const script = document.createElement('script');\n",
       "      const src = URL.createObjectURL(event.target.response);\n",
       "      script.src = src;\n",
       "      document.body.appendChild(script);\n",
       "    };\n",
       "    xhr.send();\n",
       "  })();\n",
       "</script>"
      ]
     },
     "metadata": {
      "application/vnd.bokehjs_exec.v0+json": {
       "server_id": "e2d67b210c534b7e898e2bc44b954512"
      }
     },
     "output_type": "display_data"
    }
   ],
   "source": [
    "# create a new dataframe for when the default country, Afghanistan, is shown\n",
    "default = Q4[Q4[\"country\"] == \"Afghanistan\"].groupby(\"date\")\n",
    "p2data = ColumnDataSource(default)\n",
    "\n",
    "# set up the size of our plot and format the x axis for dates\n",
    "p2 = figure(height = 300, width = 600, x_axis_type = \"datetime\")\n",
    "\n",
    "# add a line to our plot\n",
    "p2.line(source = p2data, x = \"date\", y = \"id_count\", width = 2)\n",
    "\n",
    "# create the dropdown menu with a list of all countries in our dataframe\n",
    "menu = Select(title = \"Select country\", value = \"Afghanistan\", options = menu_list)\n",
    "\n",
    "# define what happens when a new country is selected\n",
    "def update_plot(attr, old, new):\n",
    "    new_data = Q4[Q4[\"country\"] == menu.value].groupby(\"date\")\n",
    "    p2data.data = new_data\n",
    "\n",
    "# update the plot when a new country is selected\n",
    "menu.on_change(\"value\", update_plot)\n",
    "\n",
    "# set up a layout for our menu and plot\n",
    "lo = layout([[menu], [p2]])\n",
    "\n",
    "# add the layout to the notebook\n",
    "def modify_doc(doc):\n",
    "    doc.add_root(lo)\n",
    "\n",
    "# show the application in the notebook\n",
    "handler = FunctionHandler(modify_doc)\n",
    "app = Application(handler)\n",
    "show(app, notebook_handle = True)"
   ]
  },
  {
   "cell_type": "markdown",
   "metadata": {},
   "source": [
    "&nbsp;\n",
    "\n",
    "## <a id='toc7_'></a>[Learn more](#toc0_)\n",
    "* `pandas` provides a quick introduction <a href=\"https://pandas.pydata.org/pandas-docs/stable/10min.html\">here</a>\n",
    "* <a href=\"https://jakevdp.github.io/PythonDataScienceHandbook/\">Python Data Science Handbook</a> provides more detail and integration with other software.\n",
    "* A full list of attributes and methods available for DataFrames is available <a href=\"https://pandas.pydata.org/pandas-docs/stable/reference/api/pandas.DataFrame.html\">here</a>.\n",
    "* **Next Lesson: [Extra Topics in Pandas](https://unc-libraries-data.github.io/Python/Jupyter/Extra_Topics.html)**:\n",
    "     + Merging and Reshaping datasets, Dealing with \"Big Data\""
   ]
  }
 ],
 "metadata": {
  "kernelspec": {
   "display_name": "Python 3 (ipykernel)",
   "language": "python",
   "name": "python3"
  },
  "language_info": {
   "codemirror_mode": {
    "name": "ipython",
    "version": 3
   },
   "file_extension": ".py",
   "mimetype": "text/x-python",
   "name": "python",
   "nbconvert_exporter": "python",
   "pygments_lexer": "ipython3",
   "version": "3.8.13"
  },
  "toc": {
   "base_numbering": 1,
   "nav_menu": {},
   "number_sections": false,
   "sideBar": true,
   "skip_h1_title": true,
   "title_cell": "Table of Contents",
   "title_sidebar": "Contents",
   "toc_cell": false,
   "toc_position": {
    "height": "calc(100% - 180px)",
    "left": "10px",
    "top": "150px",
    "width": "384px"
   },
   "toc_section_display": true,
   "toc_window_display": true
  },
  "toc-autonumbering": false,
  "toc-showcode": false,
  "toc-showmarkdowntxt": false,
  "toc-showtags": true
 },
 "nbformat": 4,
 "nbformat_minor": 4
}
