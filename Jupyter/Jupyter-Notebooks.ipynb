{
 "cells": [
  {
   "cell_type": "markdown",
   "metadata": {
    "tags": []
   },
   "source": [
    "# Jupyter Notebooks\n",
    "\n",
    "## Literate Programming\n",
    "\n",
    "Literate programming combines computer code with natural language to document and explain the code. This idea expands on the way we've used comments and pseudocode to organize and document our code directly in a .py file. \n",
    "\n",
    "### Use Cases\n",
    "\n",
    "* **Data Science:** Literate programming allows you to share code with descriptions and context to make interpretation and adaptation easier.  Code outputs might include tables, summaries of analyses, and data visualizations.\n",
    "\n",
    "* **Open / Reproducible / Replicable Science:** Embed code in an article format allows others to examine and re-use specific code for reproduction or replication alongside traditional prose explanation.\n",
    "\n",
    "* **Education:** This workshop series was created with literate programming via Jupyter Notebooks.\n",
    "\n",
    "* [**Examples in Jupyter Notebooks**](https://github.com/jupyter/jupyter/wiki)\n",
    "\n",
    "### **Miniconda** Users\n",
    "If you installed miniconda, you probably don't have Jupyter installed yet.  Installation will take a few minutes. To install:  \n",
    "* (PC) Start Menu > Anaconda3 > Anaconda Prompt  \n",
    "* (Mac) Finder > Applications > Utilities > Terminal  \n",
    "* In the console window, run the following line (choose yes when prompted):\n",
    "    \n",
    "```\n",
    "conda install -c conda-forge jupyterlab\n",
    "```\n",
    "\n",
    "## Jupyter Notebooks\n",
    "\n",
    "The documentation for our series of Python workshops are an application of literate programming using a tool called Jupyter Notebooks.  If you installed Anaconda, you already have Jupyter Notebooks available:\n",
    "\n",
    "(PC) Start Menu > Anaconda3 (64-bit) > Jupyter Notebook  \n",
    "(Mac) Finder > Applications > Anaconda Navigator > Jupyter Notebook\n",
    "\n",
    "You'll need to navigate through the directories displayed (as in Finder(Mac) or Windows Explorer(PC)) to find existing files, or control where a new file is created.\n",
    "\n",
    "To create a new Jupyter Notebook, click the New button at the top right of the screen and choose Notebook:Python 3.\n",
    "\n",
    "Jupyter Notebooks save as **.ipynb** files (Jupyter Notebooks were previously called IPython Notebooks).\n",
    "\n",
    "## Jupyter Lab\n",
    "\n",
    "Jupyter Lab provides a newer interface for Jupyter that will eventually replace the classic Jupyter Notebook interface described above.  You can launch it from Anaconda Navigator, or by opening the Prompt/Terminal:\n",
    "* (PC) Start Menu > Anaconda3 > Anaconda Prompt  \n",
    "* (Mac) Finder > Applications > Utilities > Terminal  \n",
    "\n",
    "And typing: `jupyter lab`\n",
    "\n",
    "Once Jupyter Lab opens in your browser, you can use the Launcher tab or **File Menu>New>Notebook** to create a Jupyter Notebook in a tab.\n",
    "\n",
    "We'll work with Jupyter Lab for the remainder of the workshop!\n",
    "\n",
    "## Other Resources:\n",
    "### [Binder](https://mybinder.org/)\n",
    "\n",
    "Binder is a free, non-profit, online service that hosts fully functional Jupyter Notebooks.  You can view this workbook at:\n",
    "https://mybinder.org/v2/gh/UNC-Libraries-data/Python/main?filepath=Jupyter\n",
    "\n",
    "In the interface, choose \"Jupyter-Notebooks.ipynb\" to open this workbook interactively.\n",
    "\n",
    "### Open OnDemand\n",
    "\n",
    "Jupyter Lab is also available via [Open OnDemand](https://help.rc.unc.edu/ondemand)\n",
    "\n",
    "## Cells\n",
    "\n",
    "Each Jupyter Notebook is made up of individual cells of different types: \n",
    "\n",
    "* **Markdown** for formatted text\n",
    "* **Code** for Python  \n",
    "\n",
    "Each type of cell needs to be \"Run\" to display formatted text or evaluate Python code.  \n",
    "\n",
    "#### Command and Edit Modes\n",
    "\n",
    "##### Edit Mode\n",
    "\n",
    "Double click or click and press enter on a cell to enter Edit Mode on a Markdown Cell.  Click once for Python cells.  This allows you to change the code or markdown within.\n",
    "\n",
    "##### Command Mode\n",
    "\n",
    "Click to the left of the cell, or hit Esc in a cell already in Edit mode to enter Command Mode.  This allows you to add, copy and paste, or rearrange cells, or change the mode of a cell with keyboard shortcuts.\n",
    "\n",
    "### Adding and Deleting Cells\n",
    "\n",
    " Click the + button at the top left to add cells (below) or use these shortcuts to insert cells from **Command Mode**:\n",
    " * `a` (insert cell above)\n",
    " * `b` (insert cell below) \n",
    "\n",
    "Inside each cell, use the dropdown menu on the toolbar to choose between \"Markdown\" and \"Code\".\n",
    "\n",
    "Right click on a cell \n",
    "\n",
    "\n",
    "### Markdown\n",
    "\n",
    "Markdown is a convenient shorthand way to write HTML.  A full introduction to the syntax is available [here](https://jupyter-notebook.readthedocs.io/en/stable/examples/Notebook/Working%20With%20Markdown%20Cells.html).\n",
    "\n",
    "A few of the most important pieces of syntax are:\n",
    "\n",
    "* `` # ## ### `` ... represent ... level 1, 2, 3 headers respectively\n",
    "\n",
    "* `` *text* ``  ... displays as ... *text*\n",
    "\n",
    "* `` **text** `` ... displays as ... **text**\n",
    "\n",
    "* `` `text` `` ... displays as ... `text`\n",
    "\n",
    "* `` [UNC home](http://unc.edu) `` ... displays as ... [UNC home](http://unc.edu)\n",
    "\n",
    "* `` ![Star Blur Photo](https://picsum.photos/id/1042/300/200) `` ... displays as ... \n",
    "    + Image from [Unsplash.com](https://unsplash.com/) via [Lorem Picsum](https://picsum.photos/)\n",
    "![Star Blur Photo](https://picsum.photos/id/1042/300/200)  \n",
    "\n",
    "\n",
    "If necessary, you can also use html directly in your Markdown cells.  \n",
    "\n",
    "#### Bullets and Lists\n",
    "\n",
    "**Note:** Be careful to include the space after each asterisk and indentation before subpoints.\n",
    "<br>\n",
    "<table align=\"left\">\n",
    "<tr>\n",
    "    <th> <h3>Markdown</h3> </th>\n",
    "    <th> <h3>Displays As:</h3> </th>\n",
    "</tr>    \n",
    "<tr>\n",
    "<td> \n",
    "<code>* Bullet 1\n",
    "    * Sub 1\n",
    "* Bullet 2\n",
    "    + Sub 1</code>\n",
    "</td>\n",
    "<td>\n",
    "<ul>\n",
    "<li>Bullet 1</li>\n",
    "<ul><li>Sub 1</li></ul>\n",
    "<li>Bullet 2</li>\n",
    "<ul><li>Sub 1</li></ul>\n",
    "</ul>\n",
    "</td>\n",
    "</tr>\n",
    "<tr>\n",
    "<td> \n",
    "<code>1. Item 1\n",
    "2. Item 2</code>\n",
    "</td>\n",
    "<td>\n",
    "<ol>\n",
    "<li>Item 1</li>\n",
    "<li>Item 2</li>\n",
    "</ol>\n",
    "</td>\n",
    "</tr>\n",
    "</table>"
   ]
  },
  {
   "cell_type": "markdown",
   "metadata": {},
   "source": [
    "<center>\n",
    "<h4>Exercise</h4>\n",
    "</center>\n",
    "\n",
    "1. Create a markdown cell with a header, some plain text with at least one bold or italicized word, and a list (bulleted or numbered).  If you're working in this document, you can use the cell below."
   ]
  },
  {
   "cell_type": "markdown",
   "metadata": {},
   "source": [
    "**Exercise Cell**"
   ]
  },
  {
   "cell_type": "markdown",
   "metadata": {},
   "source": [
    "### Code\n",
    "\n",
    "Code cells follow normal Python Syntax, and when run produce outputs:"
   ]
  },
  {
   "cell_type": "code",
   "execution_count": 1,
   "metadata": {},
   "outputs": [
    {
     "data": {
      "text/plain": [
       "216"
      ]
     },
     "execution_count": 1,
     "metadata": {},
     "output_type": "execute_result"
    }
   ],
   "source": [
    "72*3"
   ]
  },
  {
   "cell_type": "markdown",
   "metadata": {},
   "source": [
    "<center>\n",
    "<h4>Exercise</h4>\n",
    "</center>\n",
    "\n",
    "1. Create a code cell, or use the cell below to call the `print` function on a string of your choice.  Then run your code to produce an output."
   ]
  },
  {
   "cell_type": "code",
   "execution_count": 2,
   "metadata": {},
   "outputs": [],
   "source": [
    "#Excerise Cell "
   ]
  },
  {
   "cell_type": "markdown",
   "metadata": {},
   "source": [
    "As usual, you'll want your notebook to contain all of the necessary statements importing packages and defining all variables used.  Cells need to be run in order!  Once run, each Python cell will be labeled like `In [<number>]` and each output will be labeled `Out [<number>]`.  This helps you keep track of the order cells have been run in.\n",
    "\n",
    "You can run cells individually as you develop a notebook, but once you're done it's good practice to use Kernel > Restart & Run All to reset your Python instance and make sure your code is actually self-contained.\n",
    "\n",
    "#### Paths\n",
    "\n",
    "Jupyter Notebooks automatically set your working directory to the folder where the .ipynb is saved.  You'll have to save the document at least once to set your directory.\n",
    "\n",
    "For example, the csv (comma separated values) file \"CountyHealthData_2014-2015.csv\" is stored in the same folder as this notebook, and it appears in `oslistdir(\".\")` without setting any working directory first."
   ]
  },
  {
   "cell_type": "code",
   "execution_count": 3,
   "metadata": {},
   "outputs": [
    {
     "data": {
      "text/plain": [
       "['.ipynb',\n",
       " '.ipynb_checkpoints',\n",
       " 'CountyHealthData_2014-2015.csv',\n",
       " 'Jupyter-Notebooks.html',\n",
       " 'Jupyter-Notebooks.ipynb',\n",
       " 'Other-Packages.ipynb',\n",
       " 'Pandas.html',\n",
       " 'Pandas.ipynb']"
      ]
     },
     "execution_count": 3,
     "metadata": {},
     "output_type": "execute_result"
    }
   ],
   "source": [
    "import os\n",
    "os.listdir(\".\")"
   ]
  },
  {
   "cell_type": "markdown",
   "metadata": {
    "tags": []
   },
   "source": [
    "We'll return to this csv file [when we introduce `pandas`](Pandas.html), Python's leading data processing library.\n",
    "\n",
    "## Resources\n",
    "\n",
    "Read more in the Official Docmentation:\n",
    "* [Jupyter Notebooks](https://jupyter-notebook.readthedocs.io/en/stable/index.html)\n",
    "* [Jupyter Lab](https://jupyterlab.readthedocs.io/en/stable/index.html)\n"
   ]
  },
  {
   "cell_type": "code",
   "execution_count": 1,
   "metadata": {
    "tags": [
     "remove-cell"
    ]
   },
   "outputs": [
    {
     "data": {
      "text/html": [
       "<style type=\"text/css\"> \n",
       "table td, table th, table tr { border: 1px black solid !important; color: black !important; } \n",
       "table td, table tr {text-align:left !important; font-size:14px; vertical-align:top !important;}\n",
       "table th {text-align:center !important; font-size:15px; }\n",
       "ul {text-align: left;list-style-position: inside;}\n",
       "</style> \n"
      ],
      "text/plain": [
       "<IPython.core.display.HTML object>"
      ]
     },
     "metadata": {},
     "output_type": "display_data"
    }
   ],
   "source": [
    "%%HTML\n",
    "<style type=\"text/css\"> \n",
    "table td, table th, table tr { border: 1px black solid !important; color: black !important; } \n",
    "table td, table tr {text-align:left !important; font-size:14px; vertical-align:top !important;}\n",
    "table th {text-align:center !important; font-size:15px; }\n",
    "ul {text-align: left;list-style-position: inside;}\n",
    "</style> "
   ]
  },
  {
   "cell_type": "code",
   "execution_count": null,
   "metadata": {
    "tags": [
     "remove-cell"
    ]
   },
   "outputs": [],
   "source": [
    "#Export with HTML above (and this cell) hidden\n",
    "#jupyter nbconvert Jupyter-Notebooks.ipynb --TagRemovePreprocessor.enabled=True --TagRemovePreprocessor.remove_cell_tags remove-cell --to html"
   ]
  }
 ],
 "metadata": {
  "kernelspec": {
   "display_name": "Python 3 (ipykernel)",
   "language": "python",
   "name": "python3"
  },
  "language_info": {
   "codemirror_mode": {
    "name": "ipython",
    "version": 3
   },
   "file_extension": ".py",
   "mimetype": "text/x-python",
   "name": "python",
   "nbconvert_exporter": "python",
   "pygments_lexer": "ipython3",
   "version": "3.8.13"
  },
  "toc": {
   "base_numbering": 1,
   "nav_menu": {},
   "number_sections": false,
   "sideBar": true,
   "skip_h1_title": true,
   "title_cell": "Table of Contents",
   "title_sidebar": "Contents",
   "toc_cell": false,
   "toc_position": {
    "height": "calc(100% - 180px)",
    "left": "10px",
    "top": "150px",
    "width": "384px"
   },
   "toc_section_display": true,
   "toc_window_display": true
  }
 },
 "nbformat": 4,
 "nbformat_minor": 4
}
