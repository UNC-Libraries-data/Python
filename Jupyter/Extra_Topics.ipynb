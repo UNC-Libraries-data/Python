{
 "cells": [
  {
   "cell_type": "markdown",
   "id": "47533a57-fdb4-4677-ab34-e698b64079c2",
   "metadata": {},
   "source": [
    "# Extra Topics"
   ]
  },
  {
   "cell_type": "markdown",
   "id": "ddfa8d4f-9e66-41cc-bb1f-61a8c6de3253",
   "metadata": {
    "tags": []
   },
   "source": [
    "## Base Python\n",
    "### Try / Except - Robustness\n",
    "\n",
    "Errors and warnings are very common while developing code, and an important part of the learning process.  In some cases, they can also be useful in designing an algorithm.  For example, suppose we have a stream of user entered data that is supposed to contain the user's age in years.  You might expect to get a few errors or nonsense entries."
   ]
  },
  {
   "cell_type": "code",
   "execution_count": 1,
   "id": "55b12398-1eb1-40f5-a571-8e143fadd4b9",
   "metadata": {},
   "outputs": [],
   "source": [
    "user_ages=[\"34\", \"27\", \"54\", \"19\", \"giraffe\", \"15\", \"83\", \"61\", \"43\", \"91\", \"sixteen\"]"
   ]
  },
  {
   "cell_type": "markdown",
   "id": "15abb257-2a8f-4c77-83f0-da82461e4f4e",
   "metadata": {},
   "source": [
    "It would be useful to convert these values to a numeric type to get the average age of our users, but we want to build something that can set non-numeric values aside.  We can attempt to convert to numeric and give Python instructions for errors with a `try`-`except` statement:"
   ]
  },
  {
   "cell_type": "code",
   "execution_count": 2,
   "id": "c3a8b61b-d5fa-467d-8ccd-769f586411f5",
   "metadata": {},
   "outputs": [
    {
     "name": "stdout",
     "output_type": "stream",
     "text": [
      "[34, 27, 54, 19, 15, 83, 61, 43, 91]\n",
      "['giraffe', 'sixteen']\n"
     ]
    }
   ],
   "source": [
    "ages = []\n",
    "problems = []\n",
    "\n",
    "for age in user_ages:\n",
    "    try:\n",
    "        a = int(age)\n",
    "        ages.append(a)\n",
    "    except:\n",
    "        problems.append(age)\n",
    "        \n",
    "print(ages)\n",
    "print(problems)"
   ]
  },
  {
   "cell_type": "markdown",
   "id": "8d87a26a-a909-455f-91ce-4d7bcd143f4d",
   "metadata": {
    "tags": []
   },
   "source": [
    "### User-defined Functions\n",
    "\n",
    "While Python (and its available packages) provide a wide variety of functions, sometimes it's useful to create your own.  Python's syntax for defining a function is as follows:\n",
    "\n",
    "```\n",
    "def <function_name> ( <arguments> ):\n",
    "    <code depending on arguments>\n",
    "    return <value>\n",
    "        \n",
    "```\n",
    "\n",
    "The `mean` function below returns the mean of a list of numbers.  (Base Python does not include a function for the mean.)"
   ]
  },
  {
   "cell_type": "code",
   "execution_count": 3,
   "id": "75678a05-038b-4d3a-bac2-ff259557659e",
   "metadata": {
    "tags": []
   },
   "outputs": [
    {
     "name": "stdout",
     "output_type": "stream",
     "text": [
      "25.5\n"
     ]
    }
   ],
   "source": [
    "def mean(number_list):\n",
    "    s = sum(number_list)\n",
    "    n = len(number_list)\n",
    "    m = s/n\n",
    "    return m\n",
    "\n",
    "numbers=list(range(1, 51))\n",
    "print(mean(numbers))"
   ]
  },
  {
   "cell_type": "markdown",
   "id": "88e96487-fbbb-43d1-b8d7-48313fed5e2d",
   "metadata": {},
   "source": [
    "## Pandas\n",
    "\n",
    "### Merging and Concatenating Datasets\n",
    "\n",
    "\n",
    "#### Concatenating Datasets"
   ]
  },
  {
   "cell_type": "code",
   "execution_count": 4,
   "id": "05f70922-0421-40f6-97e9-2be3f5e1e019",
   "metadata": {},
   "outputs": [
    {
     "data": {
      "text/html": [
       "<div>\n",
       "<style scoped>\n",
       "    .dataframe tbody tr th:only-of-type {\n",
       "        vertical-align: middle;\n",
       "    }\n",
       "\n",
       "    .dataframe tbody tr th {\n",
       "        vertical-align: top;\n",
       "    }\n",
       "\n",
       "    .dataframe thead th {\n",
       "        text-align: right;\n",
       "    }\n",
       "</style>\n",
       "<table border=\"1\" class=\"dataframe\">\n",
       "  <thead>\n",
       "    <tr style=\"text-align: right;\">\n",
       "      <th></th>\n",
       "      <th>StudentID</th>\n",
       "      <th>GPA_change</th>\n",
       "    </tr>\n",
       "  </thead>\n",
       "  <tbody>\n",
       "    <tr>\n",
       "      <th>0</th>\n",
       "      <td>1</td>\n",
       "      <td>0.466944</td>\n",
       "    </tr>\n",
       "    <tr>\n",
       "      <th>1</th>\n",
       "      <td>2</td>\n",
       "      <td>-2.255585</td>\n",
       "    </tr>\n",
       "  </tbody>\n",
       "</table>\n",
       "</div>"
      ],
      "text/plain": [
       "   StudentID  GPA_change\n",
       "0          1    0.466944\n",
       "1          2   -2.255585"
      ]
     },
     "execution_count": 4,
     "metadata": {},
     "output_type": "execute_result"
    }
   ],
   "source": [
    "import pandas as pd\n",
    "import numpy as np\n",
    "\n",
    "a0 = pd.DataFrame({\"StudentID\" : [1,2],\n",
    "                   \"GPA_change\" : np.random.normal(0,1,2)}) #np.random.normal(0,1,2) pulls 2 random values from a Normal(0,1) distribution\n",
    "a0"
   ]
  },
  {
   "cell_type": "code",
   "execution_count": 5,
   "id": "deb80d4d-16fb-45fc-9d49-426dfb8f2708",
   "metadata": {},
   "outputs": [
    {
     "data": {
      "text/html": [
       "<div>\n",
       "<style scoped>\n",
       "    .dataframe tbody tr th:only-of-type {\n",
       "        vertical-align: middle;\n",
       "    }\n",
       "\n",
       "    .dataframe tbody tr th {\n",
       "        vertical-align: top;\n",
       "    }\n",
       "\n",
       "    .dataframe thead th {\n",
       "        text-align: right;\n",
       "    }\n",
       "</style>\n",
       "<table border=\"1\" class=\"dataframe\">\n",
       "  <thead>\n",
       "    <tr style=\"text-align: right;\">\n",
       "      <th></th>\n",
       "      <th>StudentID</th>\n",
       "      <th>GPA_change</th>\n",
       "      <th>Semester</th>\n",
       "    </tr>\n",
       "  </thead>\n",
       "  <tbody>\n",
       "    <tr>\n",
       "      <th>0</th>\n",
       "      <td>3</td>\n",
       "      <td>0.585135</td>\n",
       "      <td>Spring</td>\n",
       "    </tr>\n",
       "    <tr>\n",
       "      <th>1</th>\n",
       "      <td>4</td>\n",
       "      <td>1.628179</td>\n",
       "      <td>Fall</td>\n",
       "    </tr>\n",
       "  </tbody>\n",
       "</table>\n",
       "</div>"
      ],
      "text/plain": [
       "   StudentID  GPA_change Semester\n",
       "0          3    0.585135   Spring\n",
       "1          4    1.628179     Fall"
      ]
     },
     "execution_count": 5,
     "metadata": {},
     "output_type": "execute_result"
    }
   ],
   "source": [
    "a1 = pd.DataFrame({\"StudentID\" : [3,4],\n",
    "                   \"GPA_change\" : np.random.normal(0,1,2),\n",
    "                   \"Semester\" : [\"Spring\", \"Fall\"]})\n",
    "a1"
   ]
  },
  {
   "cell_type": "markdown",
   "id": "4205e564-309a-4cc8-bf91-55b0f7b61e57",
   "metadata": {},
   "source": [
    "With the datasets above it seems clear that these DataFramea would be best combined by stacking them on top of eachother, or appending one to the other as additional rows or observations.  Panda's [`pd.concat`](https://pandas.pydata.org/docs/reference/api/pandas.concat.html) lets us concatenate a list of DataFramea into a single DataFrame."
   ]
  },
  {
   "cell_type": "code",
   "execution_count": 6,
   "id": "8945d348-c6c6-4aa3-b30c-8b89564857db",
   "metadata": {},
   "outputs": [
    {
     "data": {
      "text/html": [
       "<div>\n",
       "<style scoped>\n",
       "    .dataframe tbody tr th:only-of-type {\n",
       "        vertical-align: middle;\n",
       "    }\n",
       "\n",
       "    .dataframe tbody tr th {\n",
       "        vertical-align: top;\n",
       "    }\n",
       "\n",
       "    .dataframe thead th {\n",
       "        text-align: right;\n",
       "    }\n",
       "</style>\n",
       "<table border=\"1\" class=\"dataframe\">\n",
       "  <thead>\n",
       "    <tr style=\"text-align: right;\">\n",
       "      <th></th>\n",
       "      <th>StudentID</th>\n",
       "      <th>GPA_change</th>\n",
       "      <th>Semester</th>\n",
       "    </tr>\n",
       "  </thead>\n",
       "  <tbody>\n",
       "    <tr>\n",
       "      <th>0</th>\n",
       "      <td>1</td>\n",
       "      <td>0.466944</td>\n",
       "      <td>NaN</td>\n",
       "    </tr>\n",
       "    <tr>\n",
       "      <th>1</th>\n",
       "      <td>2</td>\n",
       "      <td>-2.255585</td>\n",
       "      <td>NaN</td>\n",
       "    </tr>\n",
       "    <tr>\n",
       "      <th>2</th>\n",
       "      <td>3</td>\n",
       "      <td>0.585135</td>\n",
       "      <td>Spring</td>\n",
       "    </tr>\n",
       "    <tr>\n",
       "      <th>3</th>\n",
       "      <td>4</td>\n",
       "      <td>1.628179</td>\n",
       "      <td>Fall</td>\n",
       "    </tr>\n",
       "  </tbody>\n",
       "</table>\n",
       "</div>"
      ],
      "text/plain": [
       "   StudentID  GPA_change Semester\n",
       "0          1    0.466944      NaN\n",
       "1          2   -2.255585      NaN\n",
       "2          3    0.585135   Spring\n",
       "3          4    1.628179     Fall"
      ]
     },
     "execution_count": 6,
     "metadata": {},
     "output_type": "execute_result"
    }
   ],
   "source": [
    "pd.concat([a0,a1],axis=0,ignore_index=True)"
   ]
  },
  {
   "cell_type": "markdown",
   "id": "8d9f0254-4363-4d00-bb6d-63c037534899",
   "metadata": {},
   "source": [
    "* `axis=0` indicates that we want to add the dataframes together row-wise.  What happens if we change to `axis=1`?<br>\n",
    "* Pandas thinks about dimensions as *rows* and *columns*, in that order.  `axis=0` refers to rows, whereas `axis=1` refers to columns.<br>\n",
    "* `ignore_index=True` resets the DataFrame index to start at 0 and run to 3. Otherwise our row index would be 0 1 0 1, from the indices of the original two DataFrames."
   ]
  },
  {
   "cell_type": "markdown",
   "id": "02aa6b44-c6e3-498f-a0b1-d418e74b7ddc",
   "metadata": {},
   "source": [
    "#### Merging\n",
    "\n",
    "When joining column-wise, we usually can't just concatenate our DataFrames together, instead we use certain key variables to make sure the same observations end up in the same row."
   ]
  },
  {
   "cell_type": "code",
   "execution_count": 7,
   "id": "70889ed6-3ad7-464d-957f-fa8b40a010ad",
   "metadata": {},
   "outputs": [
    {
     "data": {
      "text/html": [
       "<div>\n",
       "<style scoped>\n",
       "    .dataframe tbody tr th:only-of-type {\n",
       "        vertical-align: middle;\n",
       "    }\n",
       "\n",
       "    .dataframe tbody tr th {\n",
       "        vertical-align: top;\n",
       "    }\n",
       "\n",
       "    .dataframe thead th {\n",
       "        text-align: right;\n",
       "    }\n",
       "</style>\n",
       "<table border=\"1\" class=\"dataframe\">\n",
       "  <thead>\n",
       "    <tr style=\"text-align: right;\">\n",
       "      <th></th>\n",
       "      <th>name</th>\n",
       "      <th>year</th>\n",
       "      <th>name</th>\n",
       "      <th>proj_num</th>\n",
       "    </tr>\n",
       "  </thead>\n",
       "  <tbody>\n",
       "    <tr>\n",
       "      <th>0</th>\n",
       "      <td>Marcos</td>\n",
       "      <td>1993</td>\n",
       "      <td>Crystal</td>\n",
       "      <td>6</td>\n",
       "    </tr>\n",
       "    <tr>\n",
       "      <th>1</th>\n",
       "      <td>Crystal</td>\n",
       "      <td>1996</td>\n",
       "      <td>Marcos</td>\n",
       "      <td>3</td>\n",
       "    </tr>\n",
       "  </tbody>\n",
       "</table>\n",
       "</div>"
      ],
      "text/plain": [
       "      name  year     name  proj_num\n",
       "0   Marcos  1993  Crystal         6\n",
       "1  Crystal  1996   Marcos         3"
      ]
     },
     "execution_count": 7,
     "metadata": {},
     "output_type": "execute_result"
    }
   ],
   "source": [
    "b0 = pd.DataFrame({\"name\" : [\"Marcos\", \"Crystal\"],\n",
    "                   \"year\" : [1993,1996]})\n",
    "b1 = pd.DataFrame({\"name\" : [\"Crystal\", \"Marcos\"],\n",
    "                   \"proj_num\" : [6,3]})\n",
    "\n",
    "pd.concat([b0,b1], axis=1) "
   ]
  },
  {
   "cell_type": "markdown",
   "id": "ae4c21eb-9469-403d-a713-c9b144729609",
   "metadata": {},
   "source": [
    "We'll use the [`pd.merge` function](https://pandas.pydata.org/docs/reference/api/pandas.merge.html) to merge datasets on key column variables."
   ]
  },
  {
   "cell_type": "code",
   "execution_count": 8,
   "id": "e0d6f268-ef05-4ff1-9536-1fda53624b84",
   "metadata": {},
   "outputs": [
    {
     "data": {
      "text/html": [
       "<div>\n",
       "<style scoped>\n",
       "    .dataframe tbody tr th:only-of-type {\n",
       "        vertical-align: middle;\n",
       "    }\n",
       "\n",
       "    .dataframe tbody tr th {\n",
       "        vertical-align: top;\n",
       "    }\n",
       "\n",
       "    .dataframe thead th {\n",
       "        text-align: right;\n",
       "    }\n",
       "</style>\n",
       "<table border=\"1\" class=\"dataframe\">\n",
       "  <thead>\n",
       "    <tr style=\"text-align: right;\">\n",
       "      <th></th>\n",
       "      <th>name</th>\n",
       "      <th>year</th>\n",
       "      <th>proj_num</th>\n",
       "    </tr>\n",
       "  </thead>\n",
       "  <tbody>\n",
       "    <tr>\n",
       "      <th>0</th>\n",
       "      <td>Marcos</td>\n",
       "      <td>1993</td>\n",
       "      <td>3</td>\n",
       "    </tr>\n",
       "    <tr>\n",
       "      <th>1</th>\n",
       "      <td>Crystal</td>\n",
       "      <td>1996</td>\n",
       "      <td>6</td>\n",
       "    </tr>\n",
       "  </tbody>\n",
       "</table>\n",
       "</div>"
      ],
      "text/plain": [
       "      name  year  proj_num\n",
       "0   Marcos  1993         3\n",
       "1  Crystal  1996         6"
      ]
     },
     "execution_count": 8,
     "metadata": {},
     "output_type": "execute_result"
    }
   ],
   "source": [
    "pd.merge(b0,b1)"
   ]
  },
  {
   "cell_type": "markdown",
   "id": "35076543-df5a-41c7-aaa7-322fdfc991cd",
   "metadata": {},
   "source": [
    "`pd.merge` automatically uses all column names that appear in **both** datasets as keys.  We can also specify key variables:"
   ]
  },
  {
   "cell_type": "code",
   "execution_count": 9,
   "id": "f8177f89-df77-4147-8e4f-b7e512eb6c5b",
   "metadata": {},
   "outputs": [
    {
     "data": {
      "text/html": [
       "<div>\n",
       "<style scoped>\n",
       "    .dataframe tbody tr th:only-of-type {\n",
       "        vertical-align: middle;\n",
       "    }\n",
       "\n",
       "    .dataframe tbody tr th {\n",
       "        vertical-align: top;\n",
       "    }\n",
       "\n",
       "    .dataframe thead th {\n",
       "        text-align: right;\n",
       "    }\n",
       "</style>\n",
       "<table border=\"1\" class=\"dataframe\">\n",
       "  <thead>\n",
       "    <tr style=\"text-align: right;\">\n",
       "      <th></th>\n",
       "      <th>name</th>\n",
       "      <th>year</th>\n",
       "      <th>proj_num</th>\n",
       "    </tr>\n",
       "  </thead>\n",
       "  <tbody>\n",
       "    <tr>\n",
       "      <th>0</th>\n",
       "      <td>Marcos</td>\n",
       "      <td>1993</td>\n",
       "      <td>3</td>\n",
       "    </tr>\n",
       "    <tr>\n",
       "      <th>1</th>\n",
       "      <td>Crystal</td>\n",
       "      <td>1996</td>\n",
       "      <td>6</td>\n",
       "    </tr>\n",
       "  </tbody>\n",
       "</table>\n",
       "</div>"
      ],
      "text/plain": [
       "      name  year  proj_num\n",
       "0   Marcos  1993         3\n",
       "1  Crystal  1996         6"
      ]
     },
     "execution_count": 9,
     "metadata": {},
     "output_type": "execute_result"
    }
   ],
   "source": [
    "#pd.merge(b0,b1, on = \"name\")\n",
    "pd.merge(b0,b1, left_on = \"name\", right_on = \"name\")"
   ]
  },
  {
   "cell_type": "markdown",
   "id": "2d68c242-3c94-489b-b9d0-b089e07bbd80",
   "metadata": {},
   "source": [
    "Pandas also includes a [DataFrame method](https://pandas.pydata.org/docs/reference/api/pandas.DataFrame.merge.html) version of `merge`:"
   ]
  },
  {
   "cell_type": "code",
   "execution_count": 10,
   "id": "9208217c-4960-4636-9938-01511ac690f5",
   "metadata": {},
   "outputs": [
    {
     "data": {
      "text/html": [
       "<div>\n",
       "<style scoped>\n",
       "    .dataframe tbody tr th:only-of-type {\n",
       "        vertical-align: middle;\n",
       "    }\n",
       "\n",
       "    .dataframe tbody tr th {\n",
       "        vertical-align: top;\n",
       "    }\n",
       "\n",
       "    .dataframe thead th {\n",
       "        text-align: right;\n",
       "    }\n",
       "</style>\n",
       "<table border=\"1\" class=\"dataframe\">\n",
       "  <thead>\n",
       "    <tr style=\"text-align: right;\">\n",
       "      <th></th>\n",
       "      <th>name</th>\n",
       "      <th>year</th>\n",
       "      <th>proj_num</th>\n",
       "    </tr>\n",
       "  </thead>\n",
       "  <tbody>\n",
       "    <tr>\n",
       "      <th>0</th>\n",
       "      <td>Marcos</td>\n",
       "      <td>1993</td>\n",
       "      <td>3</td>\n",
       "    </tr>\n",
       "    <tr>\n",
       "      <th>1</th>\n",
       "      <td>Crystal</td>\n",
       "      <td>1996</td>\n",
       "      <td>6</td>\n",
       "    </tr>\n",
       "  </tbody>\n",
       "</table>\n",
       "</div>"
      ],
      "text/plain": [
       "      name  year  proj_num\n",
       "0   Marcos  1993         3\n",
       "1  Crystal  1996         6"
      ]
     },
     "execution_count": 10,
     "metadata": {},
     "output_type": "execute_result"
    }
   ],
   "source": [
    "b0.merge(b1)"
   ]
  },
  {
   "cell_type": "markdown",
   "id": "bb58c6f0-6956-462b-958c-098e64fa1c2e",
   "metadata": {},
   "source": [
    "Note that there is also a `join` method that focuses on joining using the Pandas indices for the objects in question.  It can be useful, but `merge` is usually more versatile."
   ]
  },
  {
   "cell_type": "code",
   "execution_count": 11,
   "id": "70ff3276-558e-402e-8830-30222837943f",
   "metadata": {},
   "outputs": [
    {
     "data": {
      "text/html": [
       "<div>\n",
       "<style scoped>\n",
       "    .dataframe tbody tr th:only-of-type {\n",
       "        vertical-align: middle;\n",
       "    }\n",
       "\n",
       "    .dataframe tbody tr th {\n",
       "        vertical-align: top;\n",
       "    }\n",
       "\n",
       "    .dataframe thead th {\n",
       "        text-align: right;\n",
       "    }\n",
       "</style>\n",
       "<table border=\"1\" class=\"dataframe\">\n",
       "  <thead>\n",
       "    <tr style=\"text-align: right;\">\n",
       "      <th></th>\n",
       "      <th>name</th>\n",
       "      <th>year</th>\n",
       "      <th>proj_num</th>\n",
       "    </tr>\n",
       "  </thead>\n",
       "  <tbody>\n",
       "    <tr>\n",
       "      <th>0</th>\n",
       "      <td>Marcos</td>\n",
       "      <td>1993</td>\n",
       "      <td>3</td>\n",
       "    </tr>\n",
       "    <tr>\n",
       "      <th>1</th>\n",
       "      <td>Crystal</td>\n",
       "      <td>1996</td>\n",
       "      <td>6</td>\n",
       "    </tr>\n",
       "  </tbody>\n",
       "</table>\n",
       "</div>"
      ],
      "text/plain": [
       "      name  year  proj_num\n",
       "0   Marcos  1993         3\n",
       "1  Crystal  1996         6"
      ]
     },
     "execution_count": 11,
     "metadata": {},
     "output_type": "execute_result"
    }
   ],
   "source": [
    "b0.join(b1.set_index(\"name\"), on=\"name\")"
   ]
  },
  {
   "cell_type": "markdown",
   "id": "89b6af90-bf2c-4b50-ab35-e3a6a951d256",
   "metadata": {},
   "source": [
    "In the examples above, the two DataFrames share the same \"name\" key values. However, when the values don't completely match, we can use `how` to choose which values get kept and which values get dropped."
   ]
  },
  {
   "cell_type": "code",
   "execution_count": 12,
   "id": "3e3ae26b-49e4-4e75-8b64-ed3aa8a86b24",
   "metadata": {},
   "outputs": [],
   "source": [
    "c0 = pd.DataFrame({\"name\" : [\"Marcos\",\"Crystal\",\"Devin\",\"Lilly\"],\n",
    "                   \"year\" : [1993,1996,1985,2001]})\n",
    "c1 = pd.DataFrame({\"name\" : [\"Marcos\",\"Crystal\",\"Devin\",\"Tamera\"],\n",
    "                   \"project_num\" : [6,3,9,8]})"
   ]
  },
  {
   "cell_type": "code",
   "execution_count": 13,
   "id": "7aac5e4d-fffe-4f67-9ebb-a86b1a9310f3",
   "metadata": {},
   "outputs": [
    {
     "data": {
      "text/html": [
       "<div>\n",
       "<style scoped>\n",
       "    .dataframe tbody tr th:only-of-type {\n",
       "        vertical-align: middle;\n",
       "    }\n",
       "\n",
       "    .dataframe tbody tr th {\n",
       "        vertical-align: top;\n",
       "    }\n",
       "\n",
       "    .dataframe thead th {\n",
       "        text-align: right;\n",
       "    }\n",
       "</style>\n",
       "<table border=\"1\" class=\"dataframe\">\n",
       "  <thead>\n",
       "    <tr style=\"text-align: right;\">\n",
       "      <th></th>\n",
       "      <th>name</th>\n",
       "      <th>year</th>\n",
       "      <th>project_num</th>\n",
       "    </tr>\n",
       "  </thead>\n",
       "  <tbody>\n",
       "    <tr>\n",
       "      <th>0</th>\n",
       "      <td>Marcos</td>\n",
       "      <td>1993</td>\n",
       "      <td>6</td>\n",
       "    </tr>\n",
       "    <tr>\n",
       "      <th>1</th>\n",
       "      <td>Crystal</td>\n",
       "      <td>1996</td>\n",
       "      <td>3</td>\n",
       "    </tr>\n",
       "    <tr>\n",
       "      <th>2</th>\n",
       "      <td>Devin</td>\n",
       "      <td>1985</td>\n",
       "      <td>9</td>\n",
       "    </tr>\n",
       "  </tbody>\n",
       "</table>\n",
       "</div>"
      ],
      "text/plain": [
       "      name  year  project_num\n",
       "0   Marcos  1993            6\n",
       "1  Crystal  1996            3\n",
       "2    Devin  1985            9"
      ]
     },
     "execution_count": 13,
     "metadata": {},
     "output_type": "execute_result"
    }
   ],
   "source": [
    "pd.merge(c0,c1, how=\"inner\") #default merge type - keeps only observations that appear in both DataFrames"
   ]
  },
  {
   "cell_type": "code",
   "execution_count": 14,
   "id": "29fc014b-3065-499a-a5ee-4f4814e3be9f",
   "metadata": {},
   "outputs": [
    {
     "data": {
      "text/html": [
       "<div>\n",
       "<style scoped>\n",
       "    .dataframe tbody tr th:only-of-type {\n",
       "        vertical-align: middle;\n",
       "    }\n",
       "\n",
       "    .dataframe tbody tr th {\n",
       "        vertical-align: top;\n",
       "    }\n",
       "\n",
       "    .dataframe thead th {\n",
       "        text-align: right;\n",
       "    }\n",
       "</style>\n",
       "<table border=\"1\" class=\"dataframe\">\n",
       "  <thead>\n",
       "    <tr style=\"text-align: right;\">\n",
       "      <th></th>\n",
       "      <th>name</th>\n",
       "      <th>year</th>\n",
       "      <th>project_num</th>\n",
       "    </tr>\n",
       "  </thead>\n",
       "  <tbody>\n",
       "    <tr>\n",
       "      <th>0</th>\n",
       "      <td>Marcos</td>\n",
       "      <td>1993</td>\n",
       "      <td>6.0</td>\n",
       "    </tr>\n",
       "    <tr>\n",
       "      <th>1</th>\n",
       "      <td>Crystal</td>\n",
       "      <td>1996</td>\n",
       "      <td>3.0</td>\n",
       "    </tr>\n",
       "    <tr>\n",
       "      <th>2</th>\n",
       "      <td>Devin</td>\n",
       "      <td>1985</td>\n",
       "      <td>9.0</td>\n",
       "    </tr>\n",
       "    <tr>\n",
       "      <th>3</th>\n",
       "      <td>Lilly</td>\n",
       "      <td>2001</td>\n",
       "      <td>NaN</td>\n",
       "    </tr>\n",
       "  </tbody>\n",
       "</table>\n",
       "</div>"
      ],
      "text/plain": [
       "      name  year  project_num\n",
       "0   Marcos  1993          6.0\n",
       "1  Crystal  1996          3.0\n",
       "2    Devin  1985          9.0\n",
       "3    Lilly  2001          NaN"
      ]
     },
     "execution_count": 14,
     "metadata": {},
     "output_type": "execute_result"
    }
   ],
   "source": [
    "pd.merge(c0,c1, how=\"left\") #The \"left\" join keeps only the observations in the first named DataFrame"
   ]
  },
  {
   "cell_type": "code",
   "execution_count": 15,
   "id": "202ba3d8-9187-4e7e-8d1c-50fabc402481",
   "metadata": {},
   "outputs": [
    {
     "data": {
      "text/html": [
       "<div>\n",
       "<style scoped>\n",
       "    .dataframe tbody tr th:only-of-type {\n",
       "        vertical-align: middle;\n",
       "    }\n",
       "\n",
       "    .dataframe tbody tr th {\n",
       "        vertical-align: top;\n",
       "    }\n",
       "\n",
       "    .dataframe thead th {\n",
       "        text-align: right;\n",
       "    }\n",
       "</style>\n",
       "<table border=\"1\" class=\"dataframe\">\n",
       "  <thead>\n",
       "    <tr style=\"text-align: right;\">\n",
       "      <th></th>\n",
       "      <th>name</th>\n",
       "      <th>year</th>\n",
       "      <th>project_num</th>\n",
       "    </tr>\n",
       "  </thead>\n",
       "  <tbody>\n",
       "    <tr>\n",
       "      <th>0</th>\n",
       "      <td>Marcos</td>\n",
       "      <td>1993.0</td>\n",
       "      <td>6</td>\n",
       "    </tr>\n",
       "    <tr>\n",
       "      <th>1</th>\n",
       "      <td>Crystal</td>\n",
       "      <td>1996.0</td>\n",
       "      <td>3</td>\n",
       "    </tr>\n",
       "    <tr>\n",
       "      <th>2</th>\n",
       "      <td>Devin</td>\n",
       "      <td>1985.0</td>\n",
       "      <td>9</td>\n",
       "    </tr>\n",
       "    <tr>\n",
       "      <th>3</th>\n",
       "      <td>Tamera</td>\n",
       "      <td>NaN</td>\n",
       "      <td>8</td>\n",
       "    </tr>\n",
       "  </tbody>\n",
       "</table>\n",
       "</div>"
      ],
      "text/plain": [
       "      name    year  project_num\n",
       "0   Marcos  1993.0            6\n",
       "1  Crystal  1996.0            3\n",
       "2    Devin  1985.0            9\n",
       "3   Tamera     NaN            8"
      ]
     },
     "execution_count": 15,
     "metadata": {},
     "output_type": "execute_result"
    }
   ],
   "source": [
    "pd.merge(c0,c1, how=\"right\") #The \"right\" join keeps only the observations in the second named DataFrame"
   ]
  },
  {
   "cell_type": "code",
   "execution_count": 16,
   "id": "88282c3d-c9a6-4123-aa65-3d91a882a620",
   "metadata": {},
   "outputs": [
    {
     "data": {
      "text/html": [
       "<div>\n",
       "<style scoped>\n",
       "    .dataframe tbody tr th:only-of-type {\n",
       "        vertical-align: middle;\n",
       "    }\n",
       "\n",
       "    .dataframe tbody tr th {\n",
       "        vertical-align: top;\n",
       "    }\n",
       "\n",
       "    .dataframe thead th {\n",
       "        text-align: right;\n",
       "    }\n",
       "</style>\n",
       "<table border=\"1\" class=\"dataframe\">\n",
       "  <thead>\n",
       "    <tr style=\"text-align: right;\">\n",
       "      <th></th>\n",
       "      <th>name</th>\n",
       "      <th>year</th>\n",
       "      <th>project_num</th>\n",
       "    </tr>\n",
       "  </thead>\n",
       "  <tbody>\n",
       "    <tr>\n",
       "      <th>0</th>\n",
       "      <td>Marcos</td>\n",
       "      <td>1993.0</td>\n",
       "      <td>6.0</td>\n",
       "    </tr>\n",
       "    <tr>\n",
       "      <th>1</th>\n",
       "      <td>Crystal</td>\n",
       "      <td>1996.0</td>\n",
       "      <td>3.0</td>\n",
       "    </tr>\n",
       "    <tr>\n",
       "      <th>2</th>\n",
       "      <td>Devin</td>\n",
       "      <td>1985.0</td>\n",
       "      <td>9.0</td>\n",
       "    </tr>\n",
       "    <tr>\n",
       "      <th>3</th>\n",
       "      <td>Lilly</td>\n",
       "      <td>2001.0</td>\n",
       "      <td>NaN</td>\n",
       "    </tr>\n",
       "    <tr>\n",
       "      <th>4</th>\n",
       "      <td>Tamera</td>\n",
       "      <td>NaN</td>\n",
       "      <td>8.0</td>\n",
       "    </tr>\n",
       "  </tbody>\n",
       "</table>\n",
       "</div>"
      ],
      "text/plain": [
       "      name    year  project_num\n",
       "0   Marcos  1993.0          6.0\n",
       "1  Crystal  1996.0          3.0\n",
       "2    Devin  1985.0          9.0\n",
       "3    Lilly  2001.0          NaN\n",
       "4   Tamera     NaN          8.0"
      ]
     },
     "execution_count": 16,
     "metadata": {},
     "output_type": "execute_result"
    }
   ],
   "source": [
    "pd.merge(c0,c1, how=\"outer\") #The \"full\" or \"outer\" join keeps all observations"
   ]
  },
  {
   "cell_type": "markdown",
   "id": "412c6fb9-413c-4bd8-8f00-45ffc81012e9",
   "metadata": {},
   "source": [
    "The \"cross\" option joins every key value to every other key value (a Cartesian product): every possible pair of names appears."
   ]
  },
  {
   "cell_type": "code",
   "execution_count": 17,
   "id": "8b1cc94c-de83-43fb-8842-6b3564f6fc90",
   "metadata": {},
   "outputs": [
    {
     "data": {
      "text/html": [
       "<div>\n",
       "<style scoped>\n",
       "    .dataframe tbody tr th:only-of-type {\n",
       "        vertical-align: middle;\n",
       "    }\n",
       "\n",
       "    .dataframe tbody tr th {\n",
       "        vertical-align: top;\n",
       "    }\n",
       "\n",
       "    .dataframe thead th {\n",
       "        text-align: right;\n",
       "    }\n",
       "</style>\n",
       "<table border=\"1\" class=\"dataframe\">\n",
       "  <thead>\n",
       "    <tr style=\"text-align: right;\">\n",
       "      <th></th>\n",
       "      <th>name_x</th>\n",
       "      <th>year</th>\n",
       "      <th>name_y</th>\n",
       "      <th>project_num</th>\n",
       "    </tr>\n",
       "  </thead>\n",
       "  <tbody>\n",
       "    <tr>\n",
       "      <th>0</th>\n",
       "      <td>Marcos</td>\n",
       "      <td>1993</td>\n",
       "      <td>Marcos</td>\n",
       "      <td>6</td>\n",
       "    </tr>\n",
       "    <tr>\n",
       "      <th>1</th>\n",
       "      <td>Marcos</td>\n",
       "      <td>1993</td>\n",
       "      <td>Crystal</td>\n",
       "      <td>3</td>\n",
       "    </tr>\n",
       "    <tr>\n",
       "      <th>2</th>\n",
       "      <td>Marcos</td>\n",
       "      <td>1993</td>\n",
       "      <td>Devin</td>\n",
       "      <td>9</td>\n",
       "    </tr>\n",
       "    <tr>\n",
       "      <th>3</th>\n",
       "      <td>Marcos</td>\n",
       "      <td>1993</td>\n",
       "      <td>Tamera</td>\n",
       "      <td>8</td>\n",
       "    </tr>\n",
       "    <tr>\n",
       "      <th>4</th>\n",
       "      <td>Crystal</td>\n",
       "      <td>1996</td>\n",
       "      <td>Marcos</td>\n",
       "      <td>6</td>\n",
       "    </tr>\n",
       "    <tr>\n",
       "      <th>5</th>\n",
       "      <td>Crystal</td>\n",
       "      <td>1996</td>\n",
       "      <td>Crystal</td>\n",
       "      <td>3</td>\n",
       "    </tr>\n",
       "    <tr>\n",
       "      <th>6</th>\n",
       "      <td>Crystal</td>\n",
       "      <td>1996</td>\n",
       "      <td>Devin</td>\n",
       "      <td>9</td>\n",
       "    </tr>\n",
       "    <tr>\n",
       "      <th>7</th>\n",
       "      <td>Crystal</td>\n",
       "      <td>1996</td>\n",
       "      <td>Tamera</td>\n",
       "      <td>8</td>\n",
       "    </tr>\n",
       "    <tr>\n",
       "      <th>8</th>\n",
       "      <td>Devin</td>\n",
       "      <td>1985</td>\n",
       "      <td>Marcos</td>\n",
       "      <td>6</td>\n",
       "    </tr>\n",
       "    <tr>\n",
       "      <th>9</th>\n",
       "      <td>Devin</td>\n",
       "      <td>1985</td>\n",
       "      <td>Crystal</td>\n",
       "      <td>3</td>\n",
       "    </tr>\n",
       "  </tbody>\n",
       "</table>\n",
       "</div>"
      ],
      "text/plain": [
       "    name_x  year   name_y  project_num\n",
       "0   Marcos  1993   Marcos            6\n",
       "1   Marcos  1993  Crystal            3\n",
       "2   Marcos  1993    Devin            9\n",
       "3   Marcos  1993   Tamera            8\n",
       "4  Crystal  1996   Marcos            6\n",
       "5  Crystal  1996  Crystal            3\n",
       "6  Crystal  1996    Devin            9\n",
       "7  Crystal  1996   Tamera            8\n",
       "8    Devin  1985   Marcos            6\n",
       "9    Devin  1985  Crystal            3"
      ]
     },
     "execution_count": 17,
     "metadata": {},
     "output_type": "execute_result"
    }
   ],
   "source": [
    "pd.merge(c0,c1, how=\"cross\").head(10)"
   ]
  },
  {
   "cell_type": "markdown",
   "id": "ccd4cebb-1e6d-4759-908e-31e352ad3059",
   "metadata": {},
   "source": [
    "### Reshaping Data\n",
    "\n",
    "Reshaping a DataFrame can have lots of benefits across data cleanup, analysis, and communication. Here are three different ways to structure the same data."
   ]
  },
  {
   "cell_type": "code",
   "execution_count": 18,
   "id": "2e5f8748-1c25-4a86-8c98-8d809c2d3566",
   "metadata": {},
   "outputs": [
    {
     "data": {
      "text/html": [
       "<div>\n",
       "<style scoped>\n",
       "    .dataframe tbody tr th:only-of-type {\n",
       "        vertical-align: middle;\n",
       "    }\n",
       "\n",
       "    .dataframe tbody tr th {\n",
       "        vertical-align: top;\n",
       "    }\n",
       "\n",
       "    .dataframe thead th {\n",
       "        text-align: right;\n",
       "    }\n",
       "</style>\n",
       "<table border=\"1\" class=\"dataframe\">\n",
       "  <thead>\n",
       "    <tr style=\"text-align: right;\">\n",
       "      <th></th>\n",
       "      <th>City</th>\n",
       "      <th>2000</th>\n",
       "      <th>2001</th>\n",
       "      <th>2002</th>\n",
       "      <th>2003</th>\n",
       "    </tr>\n",
       "  </thead>\n",
       "  <tbody>\n",
       "    <tr>\n",
       "      <th>0</th>\n",
       "      <td>Raleigh</td>\n",
       "      <td>-0.29</td>\n",
       "      <td>0.04</td>\n",
       "      <td>0.57</td>\n",
       "      <td>-0.22</td>\n",
       "    </tr>\n",
       "    <tr>\n",
       "      <th>1</th>\n",
       "      <td>Durham</td>\n",
       "      <td>0.85</td>\n",
       "      <td>2.31</td>\n",
       "      <td>0.88</td>\n",
       "      <td>-0.01</td>\n",
       "    </tr>\n",
       "    <tr>\n",
       "      <th>2</th>\n",
       "      <td>Chapel Hill</td>\n",
       "      <td>0.70</td>\n",
       "      <td>0.02</td>\n",
       "      <td>-0.58</td>\n",
       "      <td>0.03</td>\n",
       "    </tr>\n",
       "  </tbody>\n",
       "</table>\n",
       "</div>"
      ],
      "text/plain": [
       "          City  2000  2001  2002  2003\n",
       "0      Raleigh -0.29  0.04  0.57 -0.22\n",
       "1       Durham  0.85  2.31  0.88 -0.01\n",
       "2  Chapel Hill  0.70  0.02 -0.58  0.03"
      ]
     },
     "execution_count": 18,
     "metadata": {},
     "output_type": "execute_result"
    }
   ],
   "source": [
    "raw = pd.DataFrame({\"City\" : [\"Raleigh\",\"Durham\",\"Chapel Hill\"],\n",
    "                    \"2000\" : np.random.normal(0,1,3).round(2),\n",
    "                    \"2001\" : np.random.normal(0,1,3).round(2),\n",
    "                    \"2002\" : np.random.normal(0,1,3).round(2),\n",
    "                    \"2003\" : np.random.normal(0,1,3).round(2)})\n",
    "raw"
   ]
  },
  {
   "cell_type": "code",
   "execution_count": 19,
   "id": "aa082bd1-5baf-417b-8087-a608db64cefa",
   "metadata": {},
   "outputs": [
    {
     "data": {
      "text/html": [
       "<div>\n",
       "<style scoped>\n",
       "    .dataframe tbody tr th:only-of-type {\n",
       "        vertical-align: middle;\n",
       "    }\n",
       "\n",
       "    .dataframe tbody tr th {\n",
       "        vertical-align: top;\n",
       "    }\n",
       "\n",
       "    .dataframe thead th {\n",
       "        text-align: right;\n",
       "    }\n",
       "</style>\n",
       "<table border=\"1\" class=\"dataframe\">\n",
       "  <thead>\n",
       "    <tr style=\"text-align: right;\">\n",
       "      <th></th>\n",
       "      <th>City</th>\n",
       "      <th>Year</th>\n",
       "      <th>value</th>\n",
       "    </tr>\n",
       "  </thead>\n",
       "  <tbody>\n",
       "    <tr>\n",
       "      <th>0</th>\n",
       "      <td>Raleigh</td>\n",
       "      <td>2000</td>\n",
       "      <td>-0.29</td>\n",
       "    </tr>\n",
       "    <tr>\n",
       "      <th>1</th>\n",
       "      <td>Durham</td>\n",
       "      <td>2000</td>\n",
       "      <td>0.85</td>\n",
       "    </tr>\n",
       "    <tr>\n",
       "      <th>2</th>\n",
       "      <td>Chapel Hill</td>\n",
       "      <td>2000</td>\n",
       "      <td>0.70</td>\n",
       "    </tr>\n",
       "    <tr>\n",
       "      <th>3</th>\n",
       "      <td>Raleigh</td>\n",
       "      <td>2001</td>\n",
       "      <td>0.04</td>\n",
       "    </tr>\n",
       "    <tr>\n",
       "      <th>4</th>\n",
       "      <td>Durham</td>\n",
       "      <td>2001</td>\n",
       "      <td>2.31</td>\n",
       "    </tr>\n",
       "    <tr>\n",
       "      <th>5</th>\n",
       "      <td>Chapel Hill</td>\n",
       "      <td>2001</td>\n",
       "      <td>0.02</td>\n",
       "    </tr>\n",
       "    <tr>\n",
       "      <th>6</th>\n",
       "      <td>Raleigh</td>\n",
       "      <td>2002</td>\n",
       "      <td>0.57</td>\n",
       "    </tr>\n",
       "    <tr>\n",
       "      <th>7</th>\n",
       "      <td>Durham</td>\n",
       "      <td>2002</td>\n",
       "      <td>0.88</td>\n",
       "    </tr>\n",
       "    <tr>\n",
       "      <th>8</th>\n",
       "      <td>Chapel Hill</td>\n",
       "      <td>2002</td>\n",
       "      <td>-0.58</td>\n",
       "    </tr>\n",
       "    <tr>\n",
       "      <th>9</th>\n",
       "      <td>Raleigh</td>\n",
       "      <td>2003</td>\n",
       "      <td>-0.22</td>\n",
       "    </tr>\n",
       "    <tr>\n",
       "      <th>10</th>\n",
       "      <td>Durham</td>\n",
       "      <td>2003</td>\n",
       "      <td>-0.01</td>\n",
       "    </tr>\n",
       "    <tr>\n",
       "      <th>11</th>\n",
       "      <td>Chapel Hill</td>\n",
       "      <td>2003</td>\n",
       "      <td>0.03</td>\n",
       "    </tr>\n",
       "  </tbody>\n",
       "</table>\n",
       "</div>"
      ],
      "text/plain": [
       "           City  Year  value\n",
       "0       Raleigh  2000  -0.29\n",
       "1        Durham  2000   0.85\n",
       "2   Chapel Hill  2000   0.70\n",
       "3       Raleigh  2001   0.04\n",
       "4        Durham  2001   2.31\n",
       "5   Chapel Hill  2001   0.02\n",
       "6       Raleigh  2002   0.57\n",
       "7        Durham  2002   0.88\n",
       "8   Chapel Hill  2002  -0.58\n",
       "9       Raleigh  2003  -0.22\n",
       "10       Durham  2003  -0.01\n",
       "11  Chapel Hill  2003   0.03"
      ]
     },
     "execution_count": 19,
     "metadata": {},
     "output_type": "execute_result"
    }
   ],
   "source": [
    "longer = raw.melt(id_vars = [\"City\"], value_vars = [\"2000\",\"2001\",\"2002\",\"2003\"],\n",
    "        var_name = \"Year\")\n",
    "longer"
   ]
  },
  {
   "cell_type": "code",
   "execution_count": 20,
   "id": "bc4f4dd8-c81e-47c2-802b-c2cb779384a1",
   "metadata": {},
   "outputs": [],
   "source": [
    "wide_again = longer.pivot(index = \"Year\", columns = \"City\", values = \"value\")  #reset_index moves Year out of the index and back into the DataFrame proper\n",
    "wide_again = wide_again.reset_index(col_level=1).rename_axis(columns={\"City\":None})  #cleanup to remove axis names - not always necessary"
   ]
  },
  {
   "cell_type": "code",
   "execution_count": 21,
   "id": "d3d67ccd-90c0-4d2c-95d5-fc54120c5847",
   "metadata": {},
   "outputs": [
    {
     "data": {
      "text/html": [
       "<div>\n",
       "<style scoped>\n",
       "    .dataframe tbody tr th:only-of-type {\n",
       "        vertical-align: middle;\n",
       "    }\n",
       "\n",
       "    .dataframe tbody tr th {\n",
       "        vertical-align: top;\n",
       "    }\n",
       "\n",
       "    .dataframe thead th {\n",
       "        text-align: right;\n",
       "    }\n",
       "</style>\n",
       "<table border=\"1\" class=\"dataframe\">\n",
       "  <thead>\n",
       "    <tr style=\"text-align: right;\">\n",
       "      <th></th>\n",
       "      <th>Year</th>\n",
       "      <th>Chapel Hill</th>\n",
       "      <th>Durham</th>\n",
       "      <th>Raleigh</th>\n",
       "    </tr>\n",
       "  </thead>\n",
       "  <tbody>\n",
       "    <tr>\n",
       "      <th>0</th>\n",
       "      <td>2000</td>\n",
       "      <td>0.70</td>\n",
       "      <td>0.85</td>\n",
       "      <td>-0.29</td>\n",
       "    </tr>\n",
       "    <tr>\n",
       "      <th>1</th>\n",
       "      <td>2001</td>\n",
       "      <td>0.02</td>\n",
       "      <td>2.31</td>\n",
       "      <td>0.04</td>\n",
       "    </tr>\n",
       "    <tr>\n",
       "      <th>2</th>\n",
       "      <td>2002</td>\n",
       "      <td>-0.58</td>\n",
       "      <td>0.88</td>\n",
       "      <td>0.57</td>\n",
       "    </tr>\n",
       "    <tr>\n",
       "      <th>3</th>\n",
       "      <td>2003</td>\n",
       "      <td>0.03</td>\n",
       "      <td>-0.01</td>\n",
       "      <td>-0.22</td>\n",
       "    </tr>\n",
       "  </tbody>\n",
       "</table>\n",
       "</div>"
      ],
      "text/plain": [
       "   Year  Chapel Hill  Durham  Raleigh\n",
       "0  2000         0.70    0.85    -0.29\n",
       "1  2001         0.02    2.31     0.04\n",
       "2  2002        -0.58    0.88     0.57\n",
       "3  2003         0.03   -0.01    -0.22"
      ]
     },
     "execution_count": 21,
     "metadata": {},
     "output_type": "execute_result"
    }
   ],
   "source": [
    "wide_again"
   ]
  },
  {
   "cell_type": "markdown",
   "id": "715726c2-e59c-4806-bc25-1d16056f599e",
   "metadata": {
    "tags": []
   },
   "source": [
    "### \"Big Data\" and iteration in pandas \n",
    "\n",
    "Pandas can read csvs in smaller chunks to help deal with files that are too large to be read into RAM.  \n",
    "\n",
    "In the code below, setting `chunksize` and `iterator=True` generates a flow of 1000 row chunks out of the main dataset.  This isn't really necessary in our 6109 row dataset, but might be critical to working with a 61 million row dataset."
   ]
  },
  {
   "cell_type": "code",
   "execution_count": 22,
   "id": "9593b90b-737d-4667-9954-51effcfa1c06",
   "metadata": {},
   "outputs": [
    {
     "data": {
      "text/html": [
       "<div>\n",
       "<style scoped>\n",
       "    .dataframe tbody tr th:only-of-type {\n",
       "        vertical-align: middle;\n",
       "    }\n",
       "\n",
       "    .dataframe tbody tr th {\n",
       "        vertical-align: top;\n",
       "    }\n",
       "\n",
       "    .dataframe thead th {\n",
       "        text-align: right;\n",
       "    }\n",
       "</style>\n",
       "<table border=\"1\" class=\"dataframe\">\n",
       "  <thead>\n",
       "    <tr style=\"text-align: right;\">\n",
       "      <th></th>\n",
       "      <th>State</th>\n",
       "      <th>Region</th>\n",
       "      <th>Division</th>\n",
       "      <th>County</th>\n",
       "      <th>FIPS</th>\n",
       "      <th>GEOID</th>\n",
       "      <th>SMS Region</th>\n",
       "      <th>Year</th>\n",
       "      <th>Premature death</th>\n",
       "      <th>Poor or fair health</th>\n",
       "      <th>...</th>\n",
       "      <th>Drug poisoning deaths</th>\n",
       "      <th>Uninsured adults</th>\n",
       "      <th>Uninsured children</th>\n",
       "      <th>Health care costs</th>\n",
       "      <th>Could not see doctor due to cost</th>\n",
       "      <th>Other primary care providers</th>\n",
       "      <th>Median household income</th>\n",
       "      <th>Children eligible for free lunch</th>\n",
       "      <th>Homicide rate</th>\n",
       "      <th>Inadequate social support</th>\n",
       "    </tr>\n",
       "  </thead>\n",
       "  <tbody>\n",
       "    <tr>\n",
       "      <th>0</th>\n",
       "      <td>NC</td>\n",
       "      <td>South</td>\n",
       "      <td>South Atlantic</td>\n",
       "      <td>Alamance County</td>\n",
       "      <td>37001</td>\n",
       "      <td>37001</td>\n",
       "      <td>Region 20</td>\n",
       "      <td>1/1/2014</td>\n",
       "      <td>7123.0</td>\n",
       "      <td>0.192</td>\n",
       "      <td>...</td>\n",
       "      <td>10.48</td>\n",
       "      <td>0.259</td>\n",
       "      <td>0.073</td>\n",
       "      <td>8640.0</td>\n",
       "      <td>0.167</td>\n",
       "      <td>46.0</td>\n",
       "      <td>41394</td>\n",
       "      <td>0.444</td>\n",
       "      <td>4.94</td>\n",
       "      <td>0.202</td>\n",
       "    </tr>\n",
       "    <tr>\n",
       "      <th>1</th>\n",
       "      <td>NC</td>\n",
       "      <td>South</td>\n",
       "      <td>South Atlantic</td>\n",
       "      <td>Alamance County</td>\n",
       "      <td>37001</td>\n",
       "      <td>37001</td>\n",
       "      <td>Region 20</td>\n",
       "      <td>1/1/2015</td>\n",
       "      <td>7291.0</td>\n",
       "      <td>0.192</td>\n",
       "      <td>...</td>\n",
       "      <td>12.38</td>\n",
       "      <td>0.249</td>\n",
       "      <td>0.088</td>\n",
       "      <td>9050.0</td>\n",
       "      <td>0.167</td>\n",
       "      <td>56.0</td>\n",
       "      <td>43001</td>\n",
       "      <td>0.455</td>\n",
       "      <td>4.60</td>\n",
       "      <td>NaN</td>\n",
       "    </tr>\n",
       "    <tr>\n",
       "      <th>2</th>\n",
       "      <td>NC</td>\n",
       "      <td>South</td>\n",
       "      <td>South Atlantic</td>\n",
       "      <td>Alexander County</td>\n",
       "      <td>37003</td>\n",
       "      <td>37003</td>\n",
       "      <td>Region 20</td>\n",
       "      <td>1/1/2014</td>\n",
       "      <td>7974.0</td>\n",
       "      <td>0.178</td>\n",
       "      <td>...</td>\n",
       "      <td>22.74</td>\n",
       "      <td>0.240</td>\n",
       "      <td>0.077</td>\n",
       "      <td>9316.0</td>\n",
       "      <td>0.205</td>\n",
       "      <td>30.0</td>\n",
       "      <td>39655</td>\n",
       "      <td>0.417</td>\n",
       "      <td>6.27</td>\n",
       "      <td>0.273</td>\n",
       "    </tr>\n",
       "  </tbody>\n",
       "</table>\n",
       "<p>3 rows × 64 columns</p>\n",
       "</div>"
      ],
      "text/plain": [
       "  State Region        Division            County   FIPS  GEOID SMS Region  \\\n",
       "0    NC  South  South Atlantic   Alamance County  37001  37001  Region 20   \n",
       "1    NC  South  South Atlantic   Alamance County  37001  37001  Region 20   \n",
       "2    NC  South  South Atlantic  Alexander County  37003  37003  Region 20   \n",
       "\n",
       "       Year  Premature death  Poor or fair health  ...  Drug poisoning deaths  \\\n",
       "0  1/1/2014           7123.0                0.192  ...                  10.48   \n",
       "1  1/1/2015           7291.0                0.192  ...                  12.38   \n",
       "2  1/1/2014           7974.0                0.178  ...                  22.74   \n",
       "\n",
       "   Uninsured adults  Uninsured children  Health care costs  \\\n",
       "0             0.259               0.073             8640.0   \n",
       "1             0.249               0.088             9050.0   \n",
       "2             0.240               0.077             9316.0   \n",
       "\n",
       "   Could not see doctor due to cost  Other primary care providers  \\\n",
       "0                             0.167                          46.0   \n",
       "1                             0.167                          56.0   \n",
       "2                             0.205                          30.0   \n",
       "\n",
       "   Median household income  Children eligible for free lunch  Homicide rate  \\\n",
       "0                    41394                             0.444           4.94   \n",
       "1                    43001                             0.455           4.60   \n",
       "2                    39655                             0.417           6.27   \n",
       "\n",
       "   Inadequate social support  \n",
       "0                      0.202  \n",
       "1                        NaN  \n",
       "2                      0.273  \n",
       "\n",
       "[3 rows x 64 columns]"
      ]
     },
     "execution_count": 22,
     "metadata": {},
     "output_type": "execute_result"
    }
   ],
   "source": [
    "#Create an empty list for storing chunks.\n",
    "chunk_list = []\n",
    "\n",
    "#Read in 1000 rows at a time and store only NC rows as separate chunks in chunk_list.\n",
    "for chunk in pd.read_csv(\"CountyHealthData_2014-2015.csv\", chunksize=1000, iterator=True):\n",
    "    nc_rows = chunk[chunk[\"State\"]==\"NC\"]\n",
    "    chunk_list.append(nc_rows)\n",
    "\n",
    "#Combine NC chunks into single data frame and view top rows.\n",
    "nc_df = pd.concat(chunk_list, ignore_index=True)\n",
    "nc_df.head(3)"
   ]
  },
  {
   "cell_type": "markdown",
   "id": "fb7b4ce8-f1c2-4fa7-be83-3029d5e90633",
   "metadata": {},
   "source": [
    "###  Alternative: The `csv` package\n",
    "\n",
    "Python also comes packaged with package for reading Comma Separated Values (csv) files.  This can sometimes be easier to work with if you don't need the extra functionality of `pandas` or would prefer base Python objects to work wtih!"
   ]
  },
  {
   "cell_type": "code",
   "execution_count": 23,
   "id": "a6784543-bf9f-43ec-8d64-fa87d43f16cd",
   "metadata": {},
   "outputs": [],
   "source": [
    "import csv"
   ]
  },
  {
   "cell_type": "markdown",
   "id": "c2991ffa-b324-4d56-abd5-2453e2ba2b5d",
   "metadata": {},
   "source": [
    "This package provides two major ways to read csv files:\n",
    "\n",
    "* `csv.reader`: reads the csv into a list of lists where each row is represented by a list within a master list object.\n",
    "* `csv.DictReader`: reads the csv into a list of **dicts** where each row is a dictionary with keys derived from the first row of the dataset.\n",
    "\n",
    "The syntax for each command is similar:"
   ]
  },
  {
   "cell_type": "code",
   "execution_count": 24,
   "id": "70943c42-a860-4cbb-9f04-63ae272c0ec1",
   "metadata": {},
   "outputs": [],
   "source": [
    "list_of_lists = []\n",
    "with open(\"CountyHealthData_2014-2015.csv\",\"r\") as csvfile:\n",
    "    reader=csv.reader(csvfile)\n",
    "    for row in reader:\n",
    "        list_of_lists.append(row)"
   ]
  },
  {
   "cell_type": "code",
   "execution_count": 25,
   "id": "2749c66f-8664-4b18-84f4-8cf2a050953a",
   "metadata": {},
   "outputs": [],
   "source": [
    "list_of_dicts = []\n",
    "with open(\"CountyHealthData_2014-2015.csv\",\"r\") as csvfile:\n",
    "    reader=csv.DictReader(csvfile)\n",
    "    for row in reader:\n",
    "        list_of_dicts.append(row)"
   ]
  },
  {
   "cell_type": "markdown",
   "id": "521e78a3-7923-446a-8aa2-f40236bc54d8",
   "metadata": {},
   "source": [
    "Notice that each process reads the csv in row by row - this can be easily adapted with an `if` condition to filter out specific rows from a dataset that might be too large to open all at once.\n",
    "\n",
    "Let's take a look at the differences between the output from each of these processes."
   ]
  },
  {
   "cell_type": "code",
   "execution_count": 26,
   "id": "30509c3f-cf47-4162-873b-0d90eeba5cfd",
   "metadata": {},
   "outputs": [
    {
     "name": "stdout",
     "output_type": "stream",
     "text": [
      "['AK', 'West', 'Pacific', 'Aleutians West Census Area', '2016', '02016', 'Insuff Data', '1/1/2014', '', '0.122', '2.1', '2.1', '', '0.267', '0.3', '7.002', '0.234', '0.896', '0.266', '', '290.7', '21.1', '0.355', '91', '50', '99', '', '', '', '', '0.466', '0.091', '0.087', '', '0.289', '', '322.06', '', '', '0.03', '0.221', '0.272', '0', '5547', '0.078', '1', '0.067', '', '181', '', '', '0.17', '0.075', '', '', '0.374', '0.25', '3791', '0.185', '216', '69192', '0.127', '', '0.287']\n"
     ]
    }
   ],
   "source": [
    "print(list_of_lists[1])"
   ]
  },
  {
   "cell_type": "code",
   "execution_count": 27,
   "id": "3c6afa06-1ab9-4485-bc9b-99f4e9ff6da3",
   "metadata": {},
   "outputs": [
    {
     "name": "stdout",
     "output_type": "stream",
     "text": [
      "{'State': 'AK', 'Region': 'West', 'Division': 'Pacific', 'County': 'Aleutians West Census Area', 'FIPS': '2016', 'GEOID': '02016', 'SMS Region': 'Insuff Data', 'Year': '1/1/2015', 'Premature death': '', 'Poor or fair health': '0.122', 'Poor physical health days': '2.1', 'Poor mental health days': '2.1', 'Low birthweight': '0.04', 'Adult smoking': '0.267', 'Adult obesity': '0.329', 'Food environment index': '6.6', 'Physical inactivity': '0.22', 'Access to exercise opportunities': '0.896', 'Excessive drinking': '0.266', 'Alcohol-impaired driving deaths': '', 'Sexually transmitted infections': '288.4', 'Teen births': '21.6', 'Uninsured': '0.293', 'Primary care physicians': '36', 'Dentists': '73', 'Mental health providers': '163', 'Preventable hospital stays': '', 'Diabetic screening': '', 'Mammography screening': '', 'High school graduation': '', 'Some college': '0.474', 'Unemployment': '0.088', 'Children in poverty': '0.076', 'Income inequality': '3.907', 'Children in single-parent households': '0.289', 'Social associations': '9.014', 'Violent crime': '317.35', 'Injury deaths': '47.2', 'Air pollution - particulate matter': '', 'Drinking water violations': '0.026', 'Severe housing problems': '0.207', 'Driving alone to work': '0.347', 'Long commute - driving alone': '0', '2011 population estimate': '5511', 'Population that is not proficient in English': '0.08', 'Population living in a rural area': '1', 'Diabetes': '0.065', 'HIV prevalence rate': '', 'Premature age-adjusted mortality': '173.7', 'Infant mortality': '', 'Child mortality': '', 'Food insecurity': '0.173', 'Limited access to healthy foods': '0.075', 'Motor vehicle crash deaths': '', 'Drug poisoning deaths': '', 'Uninsured adults': '0.314', 'Uninsured children': '0.176', 'Health care costs': '4837', 'Could not see doctor due to cost': '0.185', 'Other primary care providers': '254', 'Median household income': '74088', 'Children eligible for free lunch': '0.133', 'Homicide rate': '', 'Inadequate social support': ''}\n"
     ]
    }
   ],
   "source": [
    "print(list_of_dicts[1])"
   ]
  },
  {
   "cell_type": "markdown",
   "id": "72d20ad7-8f42-4f9b-a615-8e32badb2d61",
   "metadata": {},
   "source": [
    "Read more about the `csv` package here: https://docs.python.org/3/library/csv.html"
   ]
  },
  {
   "cell_type": "markdown",
   "id": "2ec1d2cd-4f73-4ac1-b8da-04704db8b17c",
   "metadata": {},
   "source": [
    "## Learn more\n",
    "* `pandas` provides a quick introduction <a href=\"https://pandas.pydata.org/pandas-docs/stable/10min.html\">here</a>\n",
    "* <a href=\"https://jakevdp.github.io/PythonDataScienceHandbook/\">Python Data Science Handbook</a> provides more detail and integration with other software.\n",
    "* A full list of attributes and methods available for DataFrames is available <a href=\"https://pandas.pydata.org/pandas-docs/stable/reference/api/pandas.DataFrame.html\">here</a>."
   ]
  }
 ],
 "metadata": {
  "kernelspec": {
   "display_name": "Python 3 (ipykernel)",
   "language": "python",
   "name": "python3"
  },
  "language_info": {
   "codemirror_mode": {
    "name": "ipython",
    "version": 3
   },
   "file_extension": ".py",
   "mimetype": "text/x-python",
   "name": "python",
   "nbconvert_exporter": "python",
   "pygments_lexer": "ipython3",
   "version": "3.8.8"
  }
 },
 "nbformat": 4,
 "nbformat_minor": 5
}
