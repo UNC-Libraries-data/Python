{
 "cells": [
  {
   "cell_type": "markdown",
   "metadata": {},
   "source": [
    "# Pandas Exercises (Solutions)"
   ]
  },
  {
   "cell_type": "markdown",
   "metadata": {},
   "source": [
    "[Pandas lesson page](https://unc-libraries-data.github.io/Python/Jupyter/Pandas.html)\n",
    "\n",
    "[Exercises](https://unc-libraries-data.github.io/Python/Jupyter/PandasExercises.html)"
   ]
  },
  {
   "cell_type": "markdown",
   "metadata": {},
   "source": [
    "## Setup\n",
    "\n",
    "Download the csv file <a href=\"https://unc-libraries-data.github.io/Python/Jupyter/CountyHealthData_2014-2015.csv\">CountyHealthData_2014-2015.csv</a>."
   ]
  },
  {
   "cell_type": "code",
   "execution_count": 1,
   "metadata": {},
   "outputs": [],
   "source": [
    "import pandas as pd\n",
    "import matplotlib.pyplot as plt\n",
    "%matplotlib inline\n",
    "df = pd.read_csv(\"CountyHealthData_2014-2015.csv\")\n",
    "# df = pd.read_csv(r\"C:\\Users\\npbyers\\Desktop\\Python\\Jupyter\\CountyHealthData_2014-2015.csv\")"
   ]
  },
  {
   "cell_type": "markdown",
   "metadata": {},
   "source": [
    "## Exercises"
   ]
  },
  {
   "cell_type": "markdown",
   "metadata": {},
   "source": [
    "**1.** What are the 5 states with the highest average adult smoking rates? Show the states and their smoking rates. "
   ]
  },
  {
   "cell_type": "markdown",
   "metadata": {},
   "source": [
    "* You'll need to use the `.groupby()` and `.mean()` functions to reorganize your data to feature state-level statistics."
   ]
  },
  {
   "cell_type": "code",
   "execution_count": 2,
   "metadata": {},
   "outputs": [],
   "source": [
    "states=df.groupby([\"State\"]).mean() # group your counties by state, get means"
   ]
  },
  {
   "cell_type": "markdown",
   "metadata": {},
   "source": [
    "* The `.sort_values()` function can be used to sort your dataframe by column values like \"Adult smoking\". Becaue `sort_values()` scrambles the existing indices, you'll need to reset the indices of your dataframe using `.reset_index()` so that you can easily index your sorted rows later."
   ]
  },
  {
   "cell_type": "code",
   "execution_count": 3,
   "metadata": {},
   "outputs": [
    {
     "data": {
      "text/html": [
       "<div>\n",
       "<style scoped>\n",
       "    .dataframe tbody tr th:only-of-type {\n",
       "        vertical-align: middle;\n",
       "    }\n",
       "\n",
       "    .dataframe tbody tr th {\n",
       "        vertical-align: top;\n",
       "    }\n",
       "\n",
       "    .dataframe thead th {\n",
       "        text-align: right;\n",
       "    }\n",
       "</style>\n",
       "<table border=\"1\" class=\"dataframe\">\n",
       "  <thead>\n",
       "    <tr style=\"text-align: right;\">\n",
       "      <th></th>\n",
       "      <th>State</th>\n",
       "      <th>FIPS</th>\n",
       "      <th>GEOID</th>\n",
       "      <th>Premature death</th>\n",
       "      <th>Poor or fair health</th>\n",
       "      <th>Poor physical health days</th>\n",
       "      <th>Poor mental health days</th>\n",
       "      <th>Low birthweight</th>\n",
       "      <th>Adult smoking</th>\n",
       "      <th>Adult obesity</th>\n",
       "      <th>...</th>\n",
       "      <th>Drug poisoning deaths</th>\n",
       "      <th>Uninsured adults</th>\n",
       "      <th>Uninsured children</th>\n",
       "      <th>Health care costs</th>\n",
       "      <th>Could not see doctor due to cost</th>\n",
       "      <th>Other primary care providers</th>\n",
       "      <th>Median household income</th>\n",
       "      <th>Children eligible for free lunch</th>\n",
       "      <th>Homicide rate</th>\n",
       "      <th>Inadequate social support</th>\n",
       "    </tr>\n",
       "  </thead>\n",
       "  <tbody>\n",
       "    <tr>\n",
       "      <td>0</td>\n",
       "      <td>KY</td>\n",
       "      <td>21120.000000</td>\n",
       "      <td>21120.000000</td>\n",
       "      <td>9926.033333</td>\n",
       "      <td>0.242052</td>\n",
       "      <td>5.401681</td>\n",
       "      <td>4.805405</td>\n",
       "      <td>0.093389</td>\n",
       "      <td>0.285237</td>\n",
       "      <td>0.333404</td>\n",
       "      <td>...</td>\n",
       "      <td>22.446202</td>\n",
       "      <td>0.219096</td>\n",
       "      <td>0.067854</td>\n",
       "      <td>10945.350000</td>\n",
       "      <td>0.195421</td>\n",
       "      <td>70.008368</td>\n",
       "      <td>38807.483333</td>\n",
       "      <td>0.514336</td>\n",
       "      <td>5.312029</td>\n",
       "      <td>0.207121</td>\n",
       "    </tr>\n",
       "    <tr>\n",
       "      <td>1</td>\n",
       "      <td>AK</td>\n",
       "      <td>2162.130435</td>\n",
       "      <td>2162.130435</td>\n",
       "      <td>9642.682927</td>\n",
       "      <td>0.151773</td>\n",
       "      <td>3.569565</td>\n",
       "      <td>2.617391</td>\n",
       "      <td>0.055750</td>\n",
       "      <td>0.272043</td>\n",
       "      <td>0.303391</td>\n",
       "      <td>...</td>\n",
       "      <td>15.774286</td>\n",
       "      <td>0.328652</td>\n",
       "      <td>0.154565</td>\n",
       "      <td>7103.239130</td>\n",
       "      <td>0.158609</td>\n",
       "      <td>122.108696</td>\n",
       "      <td>56804.978261</td>\n",
       "      <td>0.408667</td>\n",
       "      <td>9.352500</td>\n",
       "      <td>0.266545</td>\n",
       "    </tr>\n",
       "    <tr>\n",
       "      <td>2</td>\n",
       "      <td>WV</td>\n",
       "      <td>54055.000000</td>\n",
       "      <td>54055.000000</td>\n",
       "      <td>9540.600000</td>\n",
       "      <td>0.216655</td>\n",
       "      <td>4.825926</td>\n",
       "      <td>4.214545</td>\n",
       "      <td>0.091545</td>\n",
       "      <td>0.267182</td>\n",
       "      <td>0.339591</td>\n",
       "      <td>...</td>\n",
       "      <td>23.848161</td>\n",
       "      <td>0.232855</td>\n",
       "      <td>0.051100</td>\n",
       "      <td>9915.918182</td>\n",
       "      <td>0.181491</td>\n",
       "      <td>73.296296</td>\n",
       "      <td>38279.600000</td>\n",
       "      <td>0.463459</td>\n",
       "      <td>6.454250</td>\n",
       "      <td>0.194283</td>\n",
       "    </tr>\n",
       "    <tr>\n",
       "      <td>3</td>\n",
       "      <td>TN</td>\n",
       "      <td>47095.000000</td>\n",
       "      <td>47095.000000</td>\n",
       "      <td>9816.500000</td>\n",
       "      <td>0.228440</td>\n",
       "      <td>4.968539</td>\n",
       "      <td>3.793590</td>\n",
       "      <td>0.089105</td>\n",
       "      <td>0.259626</td>\n",
       "      <td>0.325395</td>\n",
       "      <td>...</td>\n",
       "      <td>18.772343</td>\n",
       "      <td>0.213389</td>\n",
       "      <td>0.060963</td>\n",
       "      <td>10840.742105</td>\n",
       "      <td>0.199329</td>\n",
       "      <td>73.563830</td>\n",
       "      <td>39572.068421</td>\n",
       "      <td>0.519016</td>\n",
       "      <td>6.212523</td>\n",
       "      <td>0.188288</td>\n",
       "    </tr>\n",
       "    <tr>\n",
       "      <td>4</td>\n",
       "      <td>MO</td>\n",
       "      <td>29117.235808</td>\n",
       "      <td>29117.235808</td>\n",
       "      <td>8482.240175</td>\n",
       "      <td>0.190306</td>\n",
       "      <td>4.199083</td>\n",
       "      <td>4.035165</td>\n",
       "      <td>0.076140</td>\n",
       "      <td>0.254155</td>\n",
       "      <td>0.320633</td>\n",
       "      <td>...</td>\n",
       "      <td>14.325878</td>\n",
       "      <td>0.219498</td>\n",
       "      <td>0.089410</td>\n",
       "      <td>9561.834061</td>\n",
       "      <td>0.164266</td>\n",
       "      <td>46.031963</td>\n",
       "      <td>40041.275109</td>\n",
       "      <td>0.419683</td>\n",
       "      <td>6.001129</td>\n",
       "      <td>0.180250</td>\n",
       "    </tr>\n",
       "  </tbody>\n",
       "</table>\n",
       "<p>5 rows × 59 columns</p>\n",
       "</div>"
      ],
      "text/plain": [
       "  State          FIPS         GEOID  Premature death  Poor or fair health  \\\n",
       "0    KY  21120.000000  21120.000000      9926.033333             0.242052   \n",
       "1    AK   2162.130435   2162.130435      9642.682927             0.151773   \n",
       "2    WV  54055.000000  54055.000000      9540.600000             0.216655   \n",
       "3    TN  47095.000000  47095.000000      9816.500000             0.228440   \n",
       "4    MO  29117.235808  29117.235808      8482.240175             0.190306   \n",
       "\n",
       "   Poor physical health days  Poor mental health days  Low birthweight  \\\n",
       "0                   5.401681                 4.805405         0.093389   \n",
       "1                   3.569565                 2.617391         0.055750   \n",
       "2                   4.825926                 4.214545         0.091545   \n",
       "3                   4.968539                 3.793590         0.089105   \n",
       "4                   4.199083                 4.035165         0.076140   \n",
       "\n",
       "   Adult smoking  Adult obesity  ...  Drug poisoning deaths  Uninsured adults  \\\n",
       "0       0.285237       0.333404  ...              22.446202          0.219096   \n",
       "1       0.272043       0.303391  ...              15.774286          0.328652   \n",
       "2       0.267182       0.339591  ...              23.848161          0.232855   \n",
       "3       0.259626       0.325395  ...              18.772343          0.213389   \n",
       "4       0.254155       0.320633  ...              14.325878          0.219498   \n",
       "\n",
       "   Uninsured children  Health care costs  Could not see doctor due to cost  \\\n",
       "0            0.067854       10945.350000                          0.195421   \n",
       "1            0.154565        7103.239130                          0.158609   \n",
       "2            0.051100        9915.918182                          0.181491   \n",
       "3            0.060963       10840.742105                          0.199329   \n",
       "4            0.089410        9561.834061                          0.164266   \n",
       "\n",
       "   Other primary care providers  Median household income  \\\n",
       "0                     70.008368             38807.483333   \n",
       "1                    122.108696             56804.978261   \n",
       "2                     73.296296             38279.600000   \n",
       "3                     73.563830             39572.068421   \n",
       "4                     46.031963             40041.275109   \n",
       "\n",
       "   Children eligible for free lunch  Homicide rate  Inadequate social support  \n",
       "0                          0.514336       5.312029                   0.207121  \n",
       "1                          0.408667       9.352500                   0.266545  \n",
       "2                          0.463459       6.454250                   0.194283  \n",
       "3                          0.519016       6.212523                   0.188288  \n",
       "4                          0.419683       6.001129                   0.180250  \n",
       "\n",
       "[5 rows x 59 columns]"
      ]
     },
     "execution_count": 3,
     "metadata": {},
     "output_type": "execute_result"
    }
   ],
   "source": [
    "states_sorted = states.sort_values(by=\"Adult smoking\", ascending=False).reset_index().copy()\n",
    "states_sorted.head()"
   ]
  },
  {
   "cell_type": "markdown",
   "metadata": {},
   "source": [
    "* Once your new smoking dataframe has been sorted and reset, you can index the top 5 rows  to find the top 5 smoking states. (Hint: use `.loc` to index specific areas of your dataframe)"
   ]
  },
  {
   "cell_type": "code",
   "execution_count": 4,
   "metadata": {},
   "outputs": [
    {
     "data": {
      "text/html": [
       "<div>\n",
       "<style scoped>\n",
       "    .dataframe tbody tr th:only-of-type {\n",
       "        vertical-align: middle;\n",
       "    }\n",
       "\n",
       "    .dataframe tbody tr th {\n",
       "        vertical-align: top;\n",
       "    }\n",
       "\n",
       "    .dataframe thead th {\n",
       "        text-align: right;\n",
       "    }\n",
       "</style>\n",
       "<table border=\"1\" class=\"dataframe\">\n",
       "  <thead>\n",
       "    <tr style=\"text-align: right;\">\n",
       "      <th></th>\n",
       "      <th>State</th>\n",
       "      <th>Adult smoking</th>\n",
       "    </tr>\n",
       "  </thead>\n",
       "  <tbody>\n",
       "    <tr>\n",
       "      <td>0</td>\n",
       "      <td>KY</td>\n",
       "      <td>0.285237</td>\n",
       "    </tr>\n",
       "    <tr>\n",
       "      <td>1</td>\n",
       "      <td>AK</td>\n",
       "      <td>0.272043</td>\n",
       "    </tr>\n",
       "    <tr>\n",
       "      <td>2</td>\n",
       "      <td>WV</td>\n",
       "      <td>0.267182</td>\n",
       "    </tr>\n",
       "    <tr>\n",
       "      <td>3</td>\n",
       "      <td>TN</td>\n",
       "      <td>0.259626</td>\n",
       "    </tr>\n",
       "    <tr>\n",
       "      <td>4</td>\n",
       "      <td>MO</td>\n",
       "      <td>0.254155</td>\n",
       "    </tr>\n",
       "  </tbody>\n",
       "</table>\n",
       "</div>"
      ],
      "text/plain": [
       "  State  Adult smoking\n",
       "0    KY       0.285237\n",
       "1    AK       0.272043\n",
       "2    WV       0.267182\n",
       "3    TN       0.259626\n",
       "4    MO       0.254155"
      ]
     },
     "execution_count": 4,
     "metadata": {},
     "output_type": "execute_result"
    }
   ],
   "source": [
    "states_sorted.loc[0:4,[\"State\",\"Adult smoking\"]] #.loc allows us to view only the columns & rows we select"
   ]
  },
  {
   "cell_type": "markdown",
   "metadata": {},
   "source": [
    "**2.** Food Environment Index (FEI) measures access to food and food insecurity (0 is bad, 10 is good). According to <a href=\"https://www.countyhealthrankings.org/explore-health-rankings/measures-data-sources/county-health-rankings-model/health-factors/health-behaviors/diet-exercise/food-environment-index\">countyhealthrankings.org</a>, \"In 2019, the average FEI value for counties was 7.5 and most counties fell between about 6.9 and 8.2.\" (Caveat: our data is from 2014-2015)"
   ]
  },
  {
   "cell_type": "markdown",
   "metadata": {},
   "source": [
    "* Can you find all the counties with FEI values of 9 or higher? How many are there? (Hint: Use indexing and conditionals to select only the rows you need. You can use `.shape` to see how many rows you are left with)"
   ]
  },
  {
   "cell_type": "code",
   "execution_count": 5,
   "metadata": {},
   "outputs": [
    {
     "data": {
      "text/plain": [
       "(236, 3)"
      ]
     },
     "execution_count": 5,
     "metadata": {},
     "output_type": "execute_result"
    }
   ],
   "source": [
    "highFEIs = df[df[\"Food environment index\"] >= 9].copy() # keep only the counties in which the FEI value is 9 or higher\n",
    "highFEIs = highFEIs[['State', 'County', 'Food environment index']] # keep only the relevant columns\n",
    "highFEIs.shape # See how many rows you are left with to get a count"
   ]
  },
  {
   "cell_type": "markdown",
   "metadata": {},
   "source": [
    "* What are the 5 most represented states in this group of counties and how many counties from these 5 states are included in your new dataframe? (hint: use the `.value_counts()` function to output a ranked list of all the unique values in the column with the number of times each appears in your dataframe. In other words, this function will give you a list of the states in your new dataframe along with the number of times they appear.)\n",
    "    ```\n",
    "    #example:\n",
    "    df['Column Name'].value_counts()\n",
    "    ```"
   ]
  },
  {
   "cell_type": "code",
   "execution_count": 6,
   "metadata": {},
   "outputs": [
    {
     "data": {
      "text/plain": [
       "VA    64\n",
       "ND    33\n",
       "MN    31\n",
       "NY    19\n",
       "MD    18\n",
       "Name: State, dtype: int64"
      ]
     },
     "execution_count": 6,
     "metadata": {},
     "output_type": "execute_result"
    }
   ],
   "source": [
    "highFEIs['State'].value_counts().head() #use .value_counts() to get an ordered list of the counts and .head() to \n",
    "                                        # to display the top 5 states"
   ]
  },
  {
   "cell_type": "markdown",
   "metadata": {},
   "source": [
    "**3.** In many counties one can find more primary care physicians than dentists. However, in a few counties there are more than 5 times (!) as many dentists as there are primary care physicians.\n",
    "    "
   ]
  },
  {
   "cell_type": "markdown",
   "metadata": {},
   "source": [
    "* Which counties are these? (hint: Using conditionals, create a new dataframe `dfDent` with only these counties. Use `.loc` to show the relevant information - you'll need \"County\", \"State\", \"Dentists\", \"Primary care physicians\", and \"2011 population estimate\" for this exercise.)\n",
    "    * Note: It is important to use the `.copy()` method when creating new dataframes instead of using slices of existing dataframes. This will prevent certain assignment errors when you begin working with your new dataframe.\n",
    "    ```\n",
    "    # Example using .copy()\n",
    "    dfNew = df['Column1'].copy()\n",
    "    \n",
    "    #example using slices\n",
    "    dfNew = df['Column1']\n",
    "    ```\n",
    "    "
   ]
  },
  {
   "cell_type": "code",
   "execution_count": 7,
   "metadata": {},
   "outputs": [
    {
     "data": {
      "text/html": [
       "<div>\n",
       "<style scoped>\n",
       "    .dataframe tbody tr th:only-of-type {\n",
       "        vertical-align: middle;\n",
       "    }\n",
       "\n",
       "    .dataframe tbody tr th {\n",
       "        vertical-align: top;\n",
       "    }\n",
       "\n",
       "    .dataframe thead th {\n",
       "        text-align: right;\n",
       "    }\n",
       "</style>\n",
       "<table border=\"1\" class=\"dataframe\">\n",
       "  <thead>\n",
       "    <tr style=\"text-align: right;\">\n",
       "      <th></th>\n",
       "      <th>County</th>\n",
       "      <th>State</th>\n",
       "      <th>Dentists</th>\n",
       "      <th>Primary care physicians</th>\n",
       "      <th>2011 population estimate</th>\n",
       "    </tr>\n",
       "  </thead>\n",
       "  <tbody>\n",
       "    <tr>\n",
       "      <td>378</td>\n",
       "      <td>Glenn County</td>\n",
       "      <td>CA</td>\n",
       "      <td>71.0</td>\n",
       "      <td>14.0</td>\n",
       "      <td>27992</td>\n",
       "    </tr>\n",
       "    <tr>\n",
       "      <td>379</td>\n",
       "      <td>Glenn County</td>\n",
       "      <td>CA</td>\n",
       "      <td>72.0</td>\n",
       "      <td>14.0</td>\n",
       "      <td>27940</td>\n",
       "    </tr>\n",
       "    <tr>\n",
       "      <td>509</td>\n",
       "      <td>Dolores County</td>\n",
       "      <td>CO</td>\n",
       "      <td>49.0</td>\n",
       "      <td>0.0</td>\n",
       "      <td>2029</td>\n",
       "    </tr>\n",
       "    <tr>\n",
       "      <td>801</td>\n",
       "      <td>Chattahoochee County</td>\n",
       "      <td>GA</td>\n",
       "      <td>358.0</td>\n",
       "      <td>61.0</td>\n",
       "      <td>12842</td>\n",
       "    </tr>\n",
       "    <tr>\n",
       "      <td>1312</td>\n",
       "      <td>Fremont County</td>\n",
       "      <td>ID</td>\n",
       "      <td>52.0</td>\n",
       "      <td>8.0</td>\n",
       "      <td>12957</td>\n",
       "    </tr>\n",
       "    <tr>\n",
       "      <td>1313</td>\n",
       "      <td>Fremont County</td>\n",
       "      <td>ID</td>\n",
       "      <td>54.0</td>\n",
       "      <td>8.0</td>\n",
       "      <td>12927</td>\n",
       "    </tr>\n",
       "    <tr>\n",
       "      <td>1374</td>\n",
       "      <td>Cass County</td>\n",
       "      <td>IL</td>\n",
       "      <td>52.0</td>\n",
       "      <td>7.0</td>\n",
       "      <td>13338</td>\n",
       "    </tr>\n",
       "    <tr>\n",
       "      <td>1375</td>\n",
       "      <td>Cass County</td>\n",
       "      <td>IL</td>\n",
       "      <td>53.0</td>\n",
       "      <td>7.0</td>\n",
       "      <td>13324</td>\n",
       "    </tr>\n",
       "    <tr>\n",
       "      <td>2053</td>\n",
       "      <td>Jackson County</td>\n",
       "      <td>KY</td>\n",
       "      <td>45.0</td>\n",
       "      <td>7.0</td>\n",
       "      <td>13331</td>\n",
       "    </tr>\n",
       "    <tr>\n",
       "      <td>2054</td>\n",
       "      <td>Jackson County</td>\n",
       "      <td>KY</td>\n",
       "      <td>45.0</td>\n",
       "      <td>8.0</td>\n",
       "      <td>13427</td>\n",
       "    </tr>\n",
       "    <tr>\n",
       "      <td>3578</td>\n",
       "      <td>Deuel County</td>\n",
       "      <td>NE</td>\n",
       "      <td>103.0</td>\n",
       "      <td>0.0</td>\n",
       "      <td>1937</td>\n",
       "    </tr>\n",
       "    <tr>\n",
       "      <td>3597</td>\n",
       "      <td>Garden County</td>\n",
       "      <td>NE</td>\n",
       "      <td>53.0</td>\n",
       "      <td>0.0</td>\n",
       "      <td>1902</td>\n",
       "    </tr>\n",
       "  </tbody>\n",
       "</table>\n",
       "</div>"
      ],
      "text/plain": [
       "                    County State  Dentists  Primary care physicians  \\\n",
       "378           Glenn County    CA      71.0                     14.0   \n",
       "379           Glenn County    CA      72.0                     14.0   \n",
       "509         Dolores County    CO      49.0                      0.0   \n",
       "801   Chattahoochee County    GA     358.0                     61.0   \n",
       "1312        Fremont County    ID      52.0                      8.0   \n",
       "1313        Fremont County    ID      54.0                      8.0   \n",
       "1374           Cass County    IL      52.0                      7.0   \n",
       "1375           Cass County    IL      53.0                      7.0   \n",
       "2053        Jackson County    KY      45.0                      7.0   \n",
       "2054        Jackson County    KY      45.0                      8.0   \n",
       "3578          Deuel County    NE     103.0                      0.0   \n",
       "3597         Garden County    NE      53.0                      0.0   \n",
       "\n",
       "      2011 population estimate  \n",
       "378                      27992  \n",
       "379                      27940  \n",
       "509                       2029  \n",
       "801                      12842  \n",
       "1312                     12957  \n",
       "1313                     12927  \n",
       "1374                     13338  \n",
       "1375                     13324  \n",
       "2053                     13331  \n",
       "2054                     13427  \n",
       "3578                      1937  \n",
       "3597                      1902  "
      ]
     },
     "execution_count": 7,
     "metadata": {},
     "output_type": "execute_result"
    }
   ],
   "source": [
    "dfDent = df[df[\"Dentists\"] > 5*df['Primary care physicians']].copy()\n",
    "dfDent.loc[:,[\"County\", \"State\", \"Dentists\", \"Primary care physicians\", \"2011 population estimate\"]]"
   ]
  },
  {
   "cell_type": "markdown",
   "metadata": {},
   "source": [
    "* Which of these counties has the most dentists? (hint: `use .sort_values` on your new dataframe, `dfDent`)"
   ]
  },
  {
   "cell_type": "code",
   "execution_count": 8,
   "metadata": {},
   "outputs": [
    {
     "data": {
      "text/html": [
       "<div>\n",
       "<style scoped>\n",
       "    .dataframe tbody tr th:only-of-type {\n",
       "        vertical-align: middle;\n",
       "    }\n",
       "\n",
       "    .dataframe tbody tr th {\n",
       "        vertical-align: top;\n",
       "    }\n",
       "\n",
       "    .dataframe thead th {\n",
       "        text-align: right;\n",
       "    }\n",
       "</style>\n",
       "<table border=\"1\" class=\"dataframe\">\n",
       "  <thead>\n",
       "    <tr style=\"text-align: right;\">\n",
       "      <th></th>\n",
       "      <th>County</th>\n",
       "      <th>State</th>\n",
       "      <th>Dentists</th>\n",
       "    </tr>\n",
       "  </thead>\n",
       "  <tbody>\n",
       "    <tr>\n",
       "      <td>801</td>\n",
       "      <td>Chattahoochee County</td>\n",
       "      <td>GA</td>\n",
       "      <td>358.0</td>\n",
       "    </tr>\n",
       "    <tr>\n",
       "      <td>3578</td>\n",
       "      <td>Deuel County</td>\n",
       "      <td>NE</td>\n",
       "      <td>103.0</td>\n",
       "    </tr>\n",
       "    <tr>\n",
       "      <td>379</td>\n",
       "      <td>Glenn County</td>\n",
       "      <td>CA</td>\n",
       "      <td>72.0</td>\n",
       "    </tr>\n",
       "    <tr>\n",
       "      <td>378</td>\n",
       "      <td>Glenn County</td>\n",
       "      <td>CA</td>\n",
       "      <td>71.0</td>\n",
       "    </tr>\n",
       "    <tr>\n",
       "      <td>1313</td>\n",
       "      <td>Fremont County</td>\n",
       "      <td>ID</td>\n",
       "      <td>54.0</td>\n",
       "    </tr>\n",
       "    <tr>\n",
       "      <td>1375</td>\n",
       "      <td>Cass County</td>\n",
       "      <td>IL</td>\n",
       "      <td>53.0</td>\n",
       "    </tr>\n",
       "    <tr>\n",
       "      <td>3597</td>\n",
       "      <td>Garden County</td>\n",
       "      <td>NE</td>\n",
       "      <td>53.0</td>\n",
       "    </tr>\n",
       "    <tr>\n",
       "      <td>1312</td>\n",
       "      <td>Fremont County</td>\n",
       "      <td>ID</td>\n",
       "      <td>52.0</td>\n",
       "    </tr>\n",
       "    <tr>\n",
       "      <td>1374</td>\n",
       "      <td>Cass County</td>\n",
       "      <td>IL</td>\n",
       "      <td>52.0</td>\n",
       "    </tr>\n",
       "    <tr>\n",
       "      <td>509</td>\n",
       "      <td>Dolores County</td>\n",
       "      <td>CO</td>\n",
       "      <td>49.0</td>\n",
       "    </tr>\n",
       "    <tr>\n",
       "      <td>2053</td>\n",
       "      <td>Jackson County</td>\n",
       "      <td>KY</td>\n",
       "      <td>45.0</td>\n",
       "    </tr>\n",
       "    <tr>\n",
       "      <td>2054</td>\n",
       "      <td>Jackson County</td>\n",
       "      <td>KY</td>\n",
       "      <td>45.0</td>\n",
       "    </tr>\n",
       "  </tbody>\n",
       "</table>\n",
       "</div>"
      ],
      "text/plain": [
       "                    County State  Dentists\n",
       "801   Chattahoochee County    GA     358.0\n",
       "3578          Deuel County    NE     103.0\n",
       "379           Glenn County    CA      72.0\n",
       "378           Glenn County    CA      71.0\n",
       "1313        Fremont County    ID      54.0\n",
       "1375           Cass County    IL      53.0\n",
       "3597         Garden County    NE      53.0\n",
       "1312        Fremont County    ID      52.0\n",
       "1374           Cass County    IL      52.0\n",
       "509         Dolores County    CO      49.0\n",
       "2053        Jackson County    KY      45.0\n",
       "2054        Jackson County    KY      45.0"
      ]
     },
     "execution_count": 8,
     "metadata": {},
     "output_type": "execute_result"
    }
   ],
   "source": [
    "dfDent.sort_values(by=\"Dentists\", ascending=False).loc[:,[\"County\", \"State\", \"Dentists\"]]\n",
    "#.sort_values() reorders your dataframe, while .loc displays only the relevant counties\n",
    "#Note how the indices on the left are left out-of-order by the sorting function"
   ]
  },
  {
   "cell_type": "markdown",
   "metadata": {},
   "source": [
    "* Which of these has the most dentists per capita? (hint: You can use `.loc` to add columns (and rows) to your dataframe. You can set the column based on values in other columns using simple operators. After adding a new column, you can sort using the `sort_values()` method.\n",
    "```\n",
    "# Example syntax: adding a column\n",
    "df.loc[:, \"Column3\"] = df[Column1]*df[Column2]\n",
    "#This adds a new column, \"Column3,\" with values equal to the products of the values for Column1 and Column2 in each row.\n",
    "```\n"
   ]
  },
  {
   "cell_type": "code",
   "execution_count": 9,
   "metadata": {},
   "outputs": [
    {
     "data": {
      "text/html": [
       "<div>\n",
       "<style scoped>\n",
       "    .dataframe tbody tr th:only-of-type {\n",
       "        vertical-align: middle;\n",
       "    }\n",
       "\n",
       "    .dataframe tbody tr th {\n",
       "        vertical-align: top;\n",
       "    }\n",
       "\n",
       "    .dataframe thead th {\n",
       "        text-align: right;\n",
       "    }\n",
       "</style>\n",
       "<table border=\"1\" class=\"dataframe\">\n",
       "  <thead>\n",
       "    <tr style=\"text-align: right;\">\n",
       "      <th></th>\n",
       "      <th>County</th>\n",
       "      <th>State</th>\n",
       "      <th>Dentists per capita</th>\n",
       "    </tr>\n",
       "  </thead>\n",
       "  <tbody>\n",
       "    <tr>\n",
       "      <td>3578</td>\n",
       "      <td>Deuel County</td>\n",
       "      <td>NE</td>\n",
       "      <td>0.053175</td>\n",
       "    </tr>\n",
       "    <tr>\n",
       "      <td>801</td>\n",
       "      <td>Chattahoochee County</td>\n",
       "      <td>GA</td>\n",
       "      <td>0.027877</td>\n",
       "    </tr>\n",
       "    <tr>\n",
       "      <td>3597</td>\n",
       "      <td>Garden County</td>\n",
       "      <td>NE</td>\n",
       "      <td>0.027865</td>\n",
       "    </tr>\n",
       "    <tr>\n",
       "      <td>509</td>\n",
       "      <td>Dolores County</td>\n",
       "      <td>CO</td>\n",
       "      <td>0.024150</td>\n",
       "    </tr>\n",
       "    <tr>\n",
       "      <td>1313</td>\n",
       "      <td>Fremont County</td>\n",
       "      <td>ID</td>\n",
       "      <td>0.004177</td>\n",
       "    </tr>\n",
       "    <tr>\n",
       "      <td>1312</td>\n",
       "      <td>Fremont County</td>\n",
       "      <td>ID</td>\n",
       "      <td>0.004013</td>\n",
       "    </tr>\n",
       "    <tr>\n",
       "      <td>1375</td>\n",
       "      <td>Cass County</td>\n",
       "      <td>IL</td>\n",
       "      <td>0.003978</td>\n",
       "    </tr>\n",
       "    <tr>\n",
       "      <td>1374</td>\n",
       "      <td>Cass County</td>\n",
       "      <td>IL</td>\n",
       "      <td>0.003899</td>\n",
       "    </tr>\n",
       "    <tr>\n",
       "      <td>2053</td>\n",
       "      <td>Jackson County</td>\n",
       "      <td>KY</td>\n",
       "      <td>0.003376</td>\n",
       "    </tr>\n",
       "    <tr>\n",
       "      <td>2054</td>\n",
       "      <td>Jackson County</td>\n",
       "      <td>KY</td>\n",
       "      <td>0.003351</td>\n",
       "    </tr>\n",
       "    <tr>\n",
       "      <td>379</td>\n",
       "      <td>Glenn County</td>\n",
       "      <td>CA</td>\n",
       "      <td>0.002577</td>\n",
       "    </tr>\n",
       "    <tr>\n",
       "      <td>378</td>\n",
       "      <td>Glenn County</td>\n",
       "      <td>CA</td>\n",
       "      <td>0.002536</td>\n",
       "    </tr>\n",
       "  </tbody>\n",
       "</table>\n",
       "</div>"
      ],
      "text/plain": [
       "                    County State  Dentists per capita\n",
       "3578          Deuel County    NE             0.053175\n",
       "801   Chattahoochee County    GA             0.027877\n",
       "3597         Garden County    NE             0.027865\n",
       "509         Dolores County    CO             0.024150\n",
       "1313        Fremont County    ID             0.004177\n",
       "1312        Fremont County    ID             0.004013\n",
       "1375           Cass County    IL             0.003978\n",
       "1374           Cass County    IL             0.003899\n",
       "2053        Jackson County    KY             0.003376\n",
       "2054        Jackson County    KY             0.003351\n",
       "379           Glenn County    CA             0.002577\n",
       "378           Glenn County    CA             0.002536"
      ]
     },
     "execution_count": 9,
     "metadata": {},
     "output_type": "execute_result"
    }
   ],
   "source": [
    "#create a new column with the Dentists per capita values\n",
    "dfDent.loc[:, 'Dentists per capita'] = dfDent.loc[:, 'Dentists']/dfDent.loc[:, '2011 population estimate']\n",
    "\n",
    "# sort the dataframe from high to low by \"Dentists per capita\"\n",
    "# display only the relevant columns with .loc\n",
    "dfDent.loc[:, ['County', 'State', 'Dentists per capita']].sort_values(by='Dentists per capita', ascending=False)"
   ]
  },
  {
   "cell_type": "markdown",
   "metadata": {},
   "source": [
    "**4.** Create a dataframe (again, use `.copy()`) that only includes counties in the state of North Carolina. (Hint: use the Rhode Island example from \"Indexing\" section to select the values for a single state)"
   ]
  },
  {
   "cell_type": "code",
   "execution_count": 10,
   "metadata": {},
   "outputs": [],
   "source": [
    "NCdf = df[df[\"State\"]==\"NC\"].copy()"
   ]
  },
  {
   "cell_type": "markdown",
   "metadata": {},
   "source": [
    "* Sort your new dataframe by \"Adult obesity\" then use `.loc` to display the County name, \"State,\" \"Adult obesity,\" and \"Physical inactivity\" for each county. Do you notice any patterns? How do \"Pysical inactivity\" values change as \"Adult obesity\" values go up or down?\n",
    "```\n",
    "#sorting example:\n",
    "df.sortvalues(by=\"Column1\", ascending=False)\n",
    "#the 'by' parameters tells the function which column to sort by, while the 'ascending' parameter lets the computer know to sort high-low or low-high\n",
    "```"
   ]
  },
  {
   "cell_type": "code",
   "execution_count": 11,
   "metadata": {},
   "outputs": [
    {
     "data": {
      "text/html": [
       "<div>\n",
       "<style scoped>\n",
       "    .dataframe tbody tr th:only-of-type {\n",
       "        vertical-align: middle;\n",
       "    }\n",
       "\n",
       "    .dataframe tbody tr th {\n",
       "        vertical-align: top;\n",
       "    }\n",
       "\n",
       "    .dataframe thead th {\n",
       "        text-align: right;\n",
       "    }\n",
       "</style>\n",
       "<table border=\"1\" class=\"dataframe\">\n",
       "  <thead>\n",
       "    <tr style=\"text-align: right;\">\n",
       "      <th></th>\n",
       "      <th>County</th>\n",
       "      <th>State</th>\n",
       "      <th>Adult obesity</th>\n",
       "      <th>Physical inactivity</th>\n",
       "    </tr>\n",
       "  </thead>\n",
       "  <tbody>\n",
       "    <tr>\n",
       "      <td>3397</td>\n",
       "      <td>Robeson County</td>\n",
       "      <td>NC</td>\n",
       "      <td>0.407</td>\n",
       "      <td>0.372</td>\n",
       "    </tr>\n",
       "    <tr>\n",
       "      <td>3308</td>\n",
       "      <td>Edgecombe County</td>\n",
       "      <td>NC</td>\n",
       "      <td>0.397</td>\n",
       "      <td>0.303</td>\n",
       "    </tr>\n",
       "    <tr>\n",
       "      <td>3398</td>\n",
       "      <td>Robeson County</td>\n",
       "      <td>NC</td>\n",
       "      <td>0.395</td>\n",
       "      <td>0.348</td>\n",
       "    </tr>\n",
       "    <tr>\n",
       "      <td>3326</td>\n",
       "      <td>Halifax County</td>\n",
       "      <td>NC</td>\n",
       "      <td>0.392</td>\n",
       "      <td>0.346</td>\n",
       "    </tr>\n",
       "    <tr>\n",
       "      <td>3325</td>\n",
       "      <td>Halifax County</td>\n",
       "      <td>NC</td>\n",
       "      <td>0.379</td>\n",
       "      <td>0.339</td>\n",
       "    </tr>\n",
       "    <tr>\n",
       "      <td>...</td>\n",
       "      <td>...</td>\n",
       "      <td>...</td>\n",
       "      <td>...</td>\n",
       "      <td>...</td>\n",
       "    </tr>\n",
       "    <tr>\n",
       "      <td>3251</td>\n",
       "      <td>Ashe County</td>\n",
       "      <td>NC</td>\n",
       "      <td>0.225</td>\n",
       "      <td>0.277</td>\n",
       "    </tr>\n",
       "    <tr>\n",
       "      <td>3331</td>\n",
       "      <td>Henderson County</td>\n",
       "      <td>NC</td>\n",
       "      <td>0.219</td>\n",
       "      <td>0.235</td>\n",
       "    </tr>\n",
       "    <tr>\n",
       "      <td>3332</td>\n",
       "      <td>Henderson County</td>\n",
       "      <td>NC</td>\n",
       "      <td>0.218</td>\n",
       "      <td>0.231</td>\n",
       "    </tr>\n",
       "    <tr>\n",
       "      <td>3378</td>\n",
       "      <td>Orange County</td>\n",
       "      <td>NC</td>\n",
       "      <td>0.213</td>\n",
       "      <td>0.158</td>\n",
       "    </tr>\n",
       "    <tr>\n",
       "      <td>3377</td>\n",
       "      <td>Orange County</td>\n",
       "      <td>NC</td>\n",
       "      <td>0.208</td>\n",
       "      <td>0.160</td>\n",
       "    </tr>\n",
       "  </tbody>\n",
       "</table>\n",
       "<p>200 rows × 4 columns</p>\n",
       "</div>"
      ],
      "text/plain": [
       "                County State  Adult obesity  Physical inactivity\n",
       "3397    Robeson County    NC          0.407                0.372\n",
       "3308  Edgecombe County    NC          0.397                0.303\n",
       "3398    Robeson County    NC          0.395                0.348\n",
       "3326    Halifax County    NC          0.392                0.346\n",
       "3325    Halifax County    NC          0.379                0.339\n",
       "...                ...   ...            ...                  ...\n",
       "3251       Ashe County    NC          0.225                0.277\n",
       "3331  Henderson County    NC          0.219                0.235\n",
       "3332  Henderson County    NC          0.218                0.231\n",
       "3378     Orange County    NC          0.213                0.158\n",
       "3377     Orange County    NC          0.208                0.160\n",
       "\n",
       "[200 rows x 4 columns]"
      ]
     },
     "execution_count": 11,
     "metadata": {},
     "output_type": "execute_result"
    }
   ],
   "source": [
    "NCdf.sort_values(by=\"Adult obesity\", ascending=False).loc[:, [\"County\", \"State\", \"Adult obesity\", \"Physical inactivity\"]]"
   ]
  },
  {
   "cell_type": "markdown",
   "metadata": {},
   "source": [
    "* Use `matplotlib` to visualize this relationship. Does your plot look the way you expected it to?\n",
    "```\n",
    "#syntax example:\n",
    "plt.scatter(x=df[\"Coumn1\"], y=df[\"Column2\"])\n",
    "plt.xlabel(\"Column1\")\n",
    "plt.ylabel(\"Column2\")\n",
    "```"
   ]
  },
  {
   "cell_type": "code",
   "execution_count": 12,
   "metadata": {
    "scrolled": true
   },
   "outputs": [
    {
     "data": {
      "text/plain": [
       "Text(0, 0.5, 'Physical inactivity')"
      ]
     },
     "execution_count": 12,
     "metadata": {},
     "output_type": "execute_result"
    },
    {
     "data": {
      "image/png": "[encoded data removed]",
      "text/plain": [
       "<Figure size 432x288 with 1 Axes>"
      ]
     },
     "metadata": {
      "needs_background": "light"
     },
     "output_type": "display_data"
    }
   ],
   "source": [
    "plt.scatter(x=NCdf[\"Adult obesity\"],\n",
    "            y=NCdf[\"Physical inactivity\"])\n",
    "plt.xlabel(\"Adult obesity\")\n",
    "plt.ylabel(\"Physical inactivity\")"
   ]
  },
  {
   "cell_type": "markdown",
   "metadata": {},
   "source": [
    "**5.** The \"Some college\" column denotes the percantage of the population that have taken any number of college classes. \n",
    "\n",
    "* What is the \"Some college\" value for Orange County, North Carolina in 2015? (Hint: You can filter your dataframe using multiple columns using the .isin() function. To do so, declare a list for each column(s) you want to filter by. Populate that list with the values you wish to retain. You can then use one or multiple isin() statements when indexing your data frame to filter based on column values. Note, all of the years in our sheet follow this format: \"1/1/2015\" or \"1/1/2014.\"))\n",
    "    ```\n",
    "    #example syntax:\n",
    "    Letters = [\"X, Y, Z\"]\n",
    "    Numbers = [\"1, 2, 3\"]\n",
    "    df[df.Column1.isin(Letters) & df.County.isin(Numbers)]\n",
    "    #this will return a dataframe with rows that have values for Column 1 and Column 2 that were in your Letters and Numbers lists, respectively\n",
    "    ```"
   ]
  },
  {
   "cell_type": "code",
   "execution_count": 13,
   "metadata": {},
   "outputs": [
    {
     "data": {
      "text/html": [
       "<div>\n",
       "<style scoped>\n",
       "    .dataframe tbody tr th:only-of-type {\n",
       "        vertical-align: middle;\n",
       "    }\n",
       "\n",
       "    .dataframe tbody tr th {\n",
       "        vertical-align: top;\n",
       "    }\n",
       "\n",
       "    .dataframe thead th {\n",
       "        text-align: right;\n",
       "    }\n",
       "</style>\n",
       "<table border=\"1\" class=\"dataframe\">\n",
       "  <thead>\n",
       "    <tr style=\"text-align: right;\">\n",
       "      <th></th>\n",
       "      <th>County</th>\n",
       "      <th>State</th>\n",
       "      <th>Some college</th>\n",
       "    </tr>\n",
       "  </thead>\n",
       "  <tbody>\n",
       "    <tr>\n",
       "      <td>3378</td>\n",
       "      <td>Orange County</td>\n",
       "      <td>NC</td>\n",
       "      <td>0.789</td>\n",
       "    </tr>\n",
       "  </tbody>\n",
       "</table>\n",
       "</div>"
      ],
      "text/plain": [
       "             County State  Some college\n",
       "3378  Orange County    NC         0.789"
      ]
     },
     "execution_count": 13,
     "metadata": {},
     "output_type": "execute_result"
    }
   ],
   "source": [
    "#Using df.column.isin(list)\n",
    "stateList = [\"NC\"]\n",
    "countyList = [\"Orange County\"]\n",
    "yearList = [\"1/1/2015\"]\n",
    "df[df.State.isin(stateList) & df.County.isin(countyList) & df.Year.isin(yearList)].loc[:, [\"County\", \"State\", \"Some college\"]]\n",
    "# This selects only rows with column values that are in the lists above.\n",
    "# We use .loc here to display only the relevant columns from our filtered dataframe."
   ]
  },
  {
   "cell_type": "markdown",
   "metadata": {},
   "source": [
    "* How does it compare to the \"Some college\" value for Orange County, California?"
   ]
  },
  {
   "cell_type": "code",
   "execution_count": 14,
   "metadata": {},
   "outputs": [
    {
     "data": {
      "text/html": [
       "<div>\n",
       "<style scoped>\n",
       "    .dataframe tbody tr th:only-of-type {\n",
       "        vertical-align: middle;\n",
       "    }\n",
       "\n",
       "    .dataframe tbody tr th {\n",
       "        vertical-align: top;\n",
       "    }\n",
       "\n",
       "    .dataframe thead th {\n",
       "        text-align: right;\n",
       "    }\n",
       "</style>\n",
       "<table border=\"1\" class=\"dataframe\">\n",
       "  <thead>\n",
       "    <tr style=\"text-align: right;\">\n",
       "      <th></th>\n",
       "      <th>County</th>\n",
       "      <th>State</th>\n",
       "      <th>Some college</th>\n",
       "    </tr>\n",
       "  </thead>\n",
       "  <tbody>\n",
       "    <tr>\n",
       "      <td>417</td>\n",
       "      <td>Orange County</td>\n",
       "      <td>CA</td>\n",
       "      <td>0.658</td>\n",
       "    </tr>\n",
       "    <tr>\n",
       "      <td>3378</td>\n",
       "      <td>Orange County</td>\n",
       "      <td>NC</td>\n",
       "      <td>0.789</td>\n",
       "    </tr>\n",
       "  </tbody>\n",
       "</table>\n",
       "</div>"
      ],
      "text/plain": [
       "             County State  Some college\n",
       "417   Orange County    CA         0.658\n",
       "3378  Orange County    NC         0.789"
      ]
     },
     "execution_count": 14,
     "metadata": {},
     "output_type": "execute_result"
    }
   ],
   "source": [
    "#Using df.column.isin(list)\n",
    "stateList = [\"NC\", \"CA\"]\n",
    "countyList = [\"Orange County\"]\n",
    "yearList = [\"1/1/2015\"]\n",
    "df[df.State.isin(stateList) & df.County.isin(countyList) & df.Year.isin(yearList)].loc[:, [\"County\", \"State\", \"Some college\"]]"
   ]
  },
  {
   "cell_type": "markdown",
   "metadata": {},
   "source": [
    "* How do the values for these two counties compare to the national average \"Some college\" value?\n",
    "    ```\n",
    "    #Hint: Use the .mean() function. Syntax:\n",
    "    df[\"Column1\"].mean()\n",
    "    ```"
   ]
  },
  {
   "cell_type": "code",
   "execution_count": 15,
   "metadata": {},
   "outputs": [
    {
     "data": {
      "text/plain": [
       "0.552274021934851"
      ]
     },
     "execution_count": 15,
     "metadata": {},
     "output_type": "execute_result"
    }
   ],
   "source": [
    "df[\"Some college\"].mean()"
   ]
  }
 ],
 "metadata": {
  "kernelspec": {
   "display_name": "Python 3 (ipykernel)",
   "language": "python",
   "name": "python3"
  },
  "language_info": {
   "codemirror_mode": {
    "name": "ipython",
    "version": 3
   },
   "file_extension": ".py",
   "mimetype": "text/x-python",
   "name": "python",
   "nbconvert_exporter": "python",
   "pygments_lexer": "ipython3",
   "version": "3.8.8"
  },
  "toc": {
   "base_numbering": 1,
   "nav_menu": {},
   "number_sections": false,
   "sideBar": true,
   "skip_h1_title": false,
   "title_cell": "Table of Contents",
   "title_sidebar": "Contents",
   "toc_cell": false,
   "toc_position": {},
   "toc_section_display": true,
   "toc_window_display": true
  }
 },
 "nbformat": 4,
 "nbformat_minor": 2
}
