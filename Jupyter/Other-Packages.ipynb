{
 "cells": [
  {
   "cell_type": "markdown",
   "metadata": {},
   "source": [
    "# Useful Packages\n",
    "\n",
    "Some of these packages may NOT be included in your Anaconda installation.  Whenever you need to install a package, you need to use the Anaconda prompt window, **NOT Python itself**.  The Anaconda Prompt window can be reached through the Windows Start Menu folder for Anaconda or right clicking and opening a terminal from the Python 3 tab in your Evnironments tab of your Anaconda Navigator on a Mac.\n",
    "\n",
    "Installing packages known to Anaconda can be done with the `conda install <package name>` command in your Anaconda Prompt window.  Otherwise you may need to use a different manager like `pip install <package name>`.\n",
    "\n",
    "<a href=\"https://conda.io/docs/user-guide/tasks/manage-pkgs.html\">More information about managing packages in Python is available here.</a>\n",
    "\n",
    "You can also <a href=\"https://docs.anaconda.com/anaconda/navigator/tutorials/manage-packages/\">install packages from the Anaconda Navigator window</a>.\n",
    "\n",
    "**Data Packages**\n",
    "* Numpy\n",
    "* scikit-learn\n",
    "\n",
    "**Other Utilities**\n",
    "* BeautifulSoup for Parsing HTML etc.\n",
    "* NLTK for Text\n",
    "* Pillow for Images"
   ]
  },
  {
   "cell_type": "markdown",
   "metadata": {},
   "source": [
    "## Numpy\n",
    "\n",
    "[Numpy](http://www.numpy.org/) provides the mathematical functionality (e.g. large arrayes, linear algebra, random numbers, etc.) for many popular statistical and machine learning tasks in Python.  This is a dependency for many of the packages we discuss below, including pandas.  One of the foundational objects in numpy is the array:"
   ]
  },
  {
   "cell_type": "code",
   "execution_count": 1,
   "metadata": {},
   "outputs": [],
   "source": [
    "import numpy as np\n",
    "import pandas as pd\n",
    "a_list = [[1,2],[3,4]] #list of ROWS\n",
    "an_array = np.array(a_list, ndmin = 2)\n",
    "a_dataframe = pd.DataFrame(a_list)"
   ]
  },
  {
   "cell_type": "code",
   "execution_count": 2,
   "metadata": {},
   "outputs": [
    {
     "data": {
      "text/plain": [
       "[[1, 2], [3, 4]]"
      ]
     },
     "execution_count": 2,
     "metadata": {},
     "output_type": "execute_result"
    }
   ],
   "source": [
    "a_list"
   ]
  },
  {
   "cell_type": "code",
   "execution_count": 3,
   "metadata": {},
   "outputs": [
    {
     "data": {
      "text/plain": [
       "array([[1, 2],\n",
       "       [3, 4]])"
      ]
     },
     "execution_count": 3,
     "metadata": {},
     "output_type": "execute_result"
    }
   ],
   "source": [
    "an_array"
   ]
  },
  {
   "cell_type": "code",
   "execution_count": 4,
   "metadata": {},
   "outputs": [
    {
     "data": {
      "text/html": [
       "<div>\n",
       "<style scoped>\n",
       "    .dataframe tbody tr th:only-of-type {\n",
       "        vertical-align: middle;\n",
       "    }\n",
       "\n",
       "    .dataframe tbody tr th {\n",
       "        vertical-align: top;\n",
       "    }\n",
       "\n",
       "    .dataframe thead th {\n",
       "        text-align: right;\n",
       "    }\n",
       "</style>\n",
       "<table border=\"1\" class=\"dataframe\">\n",
       "  <thead>\n",
       "    <tr style=\"text-align: right;\">\n",
       "      <th></th>\n",
       "      <th>0</th>\n",
       "      <th>1</th>\n",
       "    </tr>\n",
       "  </thead>\n",
       "  <tbody>\n",
       "    <tr>\n",
       "      <th>0</th>\n",
       "      <td>1</td>\n",
       "      <td>2</td>\n",
       "    </tr>\n",
       "    <tr>\n",
       "      <th>1</th>\n",
       "      <td>3</td>\n",
       "      <td>4</td>\n",
       "    </tr>\n",
       "  </tbody>\n",
       "</table>\n",
       "</div>"
      ],
      "text/plain": [
       "   0  1\n",
       "0  1  2\n",
       "1  3  4"
      ]
     },
     "execution_count": 4,
     "metadata": {},
     "output_type": "execute_result"
    }
   ],
   "source": [
    "a_dataframe"
   ]
  },
  {
   "cell_type": "markdown",
   "metadata": {},
   "source": [
    "However, arrays in numpy are constrained to a single data type, unlike lists or DataFrames."
   ]
  },
  {
   "cell_type": "code",
   "execution_count": 5,
   "metadata": {},
   "outputs": [],
   "source": [
    "import numpy as np\n",
    "import pandas as pd\n",
    "a_list = [[1,\"cat\"],[3,\"dog\"]] #list of ROWS\n",
    "an_array = np.array(a_list, ndmin = 2)\n",
    "a_dataframe = pd.DataFrame(a_list)"
   ]
  },
  {
   "cell_type": "code",
   "execution_count": 6,
   "metadata": {},
   "outputs": [
    {
     "data": {
      "text/plain": [
       "0     int64\n",
       "1    object\n",
       "dtype: object"
      ]
     },
     "execution_count": 6,
     "metadata": {},
     "output_type": "execute_result"
    }
   ],
   "source": [
    "pd.DataFrame(a_list).dtypes"
   ]
  },
  {
   "cell_type": "code",
   "execution_count": 7,
   "metadata": {},
   "outputs": [
    {
     "data": {
      "text/plain": [
       "0    object\n",
       "1    object\n",
       "dtype: object"
      ]
     },
     "execution_count": 7,
     "metadata": {},
     "output_type": "execute_result"
    }
   ],
   "source": [
    "pd.DataFrame(an_array).dtypes"
   ]
  },
  {
   "cell_type": "markdown",
   "metadata": {},
   "source": [
    "We can use numpy to do many numerical tasks, for example creating random values or matrices/DataFrames:"
   ]
  },
  {
   "cell_type": "code",
   "execution_count": 8,
   "metadata": {},
   "outputs": [
    {
     "data": {
      "text/plain": [
       "array([[0.74080721, 0.46028459],\n",
       "       [0.95371307, 0.76718003]])"
      ]
     },
     "execution_count": 8,
     "metadata": {},
     "output_type": "execute_result"
    }
   ],
   "source": [
    "np.random.rand(2,2)"
   ]
  },
  {
   "cell_type": "markdown",
   "metadata": {},
   "source": [
    "Arrays make many mathematical operations easier than base Python.  For example if we want to add a single value to every element of a list, we could try:"
   ]
  },
  {
   "cell_type": "code",
   "execution_count": 9,
   "metadata": {},
   "outputs": [
    {
     "ename": "TypeError",
     "evalue": "can only concatenate list (not \"int\") to list",
     "output_type": "error",
     "traceback": [
      "\u001b[1;31m---------------------------------------------------------------------------\u001b[0m",
      "\u001b[1;31mTypeError\u001b[0m                                 Traceback (most recent call last)",
      "\u001b[1;32m~\\AppData\\Local\\Temp/ipykernel_12516/4171708990.py\u001b[0m in \u001b[0;36m<module>\u001b[1;34m\u001b[0m\n\u001b[1;32m----> 1\u001b[1;33m \u001b[1;33m[\u001b[0m\u001b[1;36m1\u001b[0m\u001b[1;33m,\u001b[0m\u001b[1;36m2\u001b[0m\u001b[1;33m]\u001b[0m\u001b[1;33m+\u001b[0m\u001b[1;36m3\u001b[0m\u001b[1;33m\u001b[0m\u001b[1;33m\u001b[0m\u001b[0m\n\u001b[0m",
      "\u001b[1;31mTypeError\u001b[0m: can only concatenate list (not \"int\") to list"
     ]
    }
   ],
   "source": [
    "[1,2]+3"
   ]
  },
  {
   "cell_type": "markdown",
   "metadata": {},
   "source": [
    "To accomplish this in base Python, we instead need to use a comprehension (maybe even with an if statement if the data types vary!):"
   ]
  },
  {
   "cell_type": "code",
   "execution_count": 10,
   "metadata": {},
   "outputs": [
    {
     "data": {
      "text/plain": [
       "[4, 5]"
      ]
     },
     "execution_count": 10,
     "metadata": {},
     "output_type": "execute_result"
    }
   ],
   "source": [
    "base_list = [1,2]\n",
    "[k+3 for k in base_list]\n",
    "base_list = [1,2,\"three\"]\n",
    "[k+3 for k in base_list if type(k)==\"int\"] #in this case we can use \"int\" because all values are integers\n",
    "[k+3 for k in base_list if str(k).isnumeric()] #note that the .isnumeric() method is only available for str objects"
   ]
  },
  {
   "cell_type": "markdown",
   "metadata": {},
   "source": [
    "With numpy arrays, we can use:"
   ]
  },
  {
   "cell_type": "code",
   "execution_count": 11,
   "metadata": {},
   "outputs": [
    {
     "data": {
      "text/plain": [
       "array([4, 5])"
      ]
     },
     "execution_count": 11,
     "metadata": {},
     "output_type": "execute_result"
    }
   ],
   "source": [
    "np.array([1,2])+3"
   ]
  },
  {
   "cell_type": "markdown",
   "metadata": {},
   "source": [
    "Since the pandas dataframes are built on numpy arrays:"
   ]
  },
  {
   "cell_type": "code",
   "execution_count": 12,
   "metadata": {},
   "outputs": [
    {
     "data": {
      "text/html": [
       "<div>\n",
       "<style scoped>\n",
       "    .dataframe tbody tr th:only-of-type {\n",
       "        vertical-align: middle;\n",
       "    }\n",
       "\n",
       "    .dataframe tbody tr th {\n",
       "        vertical-align: top;\n",
       "    }\n",
       "\n",
       "    .dataframe thead th {\n",
       "        text-align: right;\n",
       "    }\n",
       "</style>\n",
       "<table border=\"1\" class=\"dataframe\">\n",
       "  <thead>\n",
       "    <tr style=\"text-align: right;\">\n",
       "      <th></th>\n",
       "      <th>0</th>\n",
       "    </tr>\n",
       "  </thead>\n",
       "  <tbody>\n",
       "    <tr>\n",
       "      <th>0</th>\n",
       "      <td>4</td>\n",
       "    </tr>\n",
       "    <tr>\n",
       "      <th>1</th>\n",
       "      <td>5</td>\n",
       "    </tr>\n",
       "  </tbody>\n",
       "</table>\n",
       "</div>"
      ],
      "text/plain": [
       "   0\n",
       "0  4\n",
       "1  5"
      ]
     },
     "execution_count": 12,
     "metadata": {},
     "output_type": "execute_result"
    }
   ],
   "source": [
    "pd.DataFrame([1,2])+3"
   ]
  },
  {
   "cell_type": "markdown",
   "metadata": {},
   "source": [
    "<a href=\"https://docs.scipy.org/doc/scipy/reference/\">`scipy`</a> adds an array of mathematical and statistical functions that work with `numpy` objects. \n",
    "\n",
    "## [Pandas and Data Visualization Packages](Pandas.html)\n",
    "\n",
    "See our dedicated lesson on Pandas (linked above).\n",
    "\n",
    "## scikit-learn\n",
    "\n",
    "scikit-learn provides a consolidated interface for machine learning in Python:\n",
    "* functions for splitting data into training and testing components\n",
    "* cross validation for model tuning\n",
    "* supervised and unsupervised modeling\n",
    "* model fit assessment and comparison\n",
    "\n",
    "[Read more about using sklearn](https://scikit-learn.org/stable/tutorial/).  Digging into the application of machine learning is beyond the scope of our workshop series."
   ]
  },
  {
   "cell_type": "markdown",
   "metadata": {},
   "source": [
    "## BeautifulSoup (for parsing HTML or XML data)\n",
    "\n",
    "Python's built-in `urllib.request` package makes it relatively easy to download the underlying html from a web page. Note that the `from package import function` notation used here allows you to selectively import only parts of a package as needed."
   ]
  },
  {
   "cell_type": "code",
   "execution_count": 13,
   "metadata": {},
   "outputs": [
    {
     "name": "stdout",
     "output_type": "stream",
     "text": [
      "b'<!DOCTYPE html>\\n<html>\\n<head><meta charset=\"utf-8\" />\\n\\n<title>Introduction</title>\\n\\n<script src=\"https://cdnjs.cloudflare.com/ajax/libs/require.js/2.1.10/require.min.js\"></script>\\n<script src=\"https://cdnjs.cloudflare.com/ajax/libs/jquery/2.0.3/jquery.min.js\"></script>\\n\\n\\n\\n<style type=\"text/css\">\\n   '\n"
     ]
    }
   ],
   "source": [
    "from urllib.request import urlopen\n",
    "from bs4 import BeautifulSoup\n",
    "page = urlopen(\"https://unc-libraries-data.github.io/Python/Intro/Introduction.html\")  #The Python 1 materials!\n",
    "html = page.read()\n",
    "print(html[:300]) #print only the first 300 characters"
   ]
  },
  {
   "cell_type": "code",
   "execution_count": 14,
   "metadata": {
    "scrolled": true
   },
   "outputs": [
    {
     "data": {
      "text/plain": [
       "['Why Python?¶',\n",
       " 'Getting Started¶',\n",
       " 'Data Types and Variables¶',\n",
       " 'Flow Control¶',\n",
       " 'More Data Types¶',\n",
       " 'Review¶',\n",
       " 'Pseudocode and Comments¶',\n",
       " 'User-defined Functions¶',\n",
       " 'Coming up¶',\n",
       " 'References and Resources¶']"
      ]
     },
     "execution_count": 14,
     "metadata": {},
     "output_type": "execute_result"
    }
   ],
   "source": [
    "soup=BeautifulSoup(html,\"html.parser\")\n",
    "[x.text for x in soup.find_all(\"h2\")] # find all h2 (second-level headers)"
   ]
  },
  {
   "cell_type": "markdown",
   "metadata": {},
   "source": [
    "## NLTK (text analysis)\n",
    "\n",
    "<a href=\"http://www.nltk.org/\">The Natural Language Toolkit (`nltk`)</a> provides a wide array of tools for processing and analyzing text.  This includes operations like splitting text into sentences or words (\"tokenization\"), tagging them with their part of speech, classification, and more.\n",
    "\n",
    "Let's take the example sentence:\n",
    "\"The quick brown fox jumps over the lazy dog.\"\n",
    "and convert it into individual words."
   ]
  },
  {
   "cell_type": "code",
   "execution_count": 15,
   "metadata": {},
   "outputs": [],
   "source": [
    "import nltk\n",
    "#the code below is necessary for word_tokenize and parts of speech to work\n",
    "#nltk.download(\"punkt\")\n",
    "#nltk.download('averaged_perceptron_tagger')\n",
    "sentence = \"The quick brown fox jumps over the lazy dog.\"\n",
    "words = nltk.word_tokenize(sentence)"
   ]
  },
  {
   "cell_type": "markdown",
   "metadata": {},
   "source": [
    "Now we can extract the part of speech for each word in the sentence.  Note that this function, like many of the functions in NLTK, uses machine learning to classify each word and therefore may have some level of error!"
   ]
  },
  {
   "cell_type": "code",
   "execution_count": 16,
   "metadata": {},
   "outputs": [
    {
     "data": {
      "text/plain": [
       "[('The', 'DT'),\n",
       " ('quick', 'JJ'),\n",
       " ('brown', 'NN'),\n",
       " ('fox', 'NN'),\n",
       " ('jumps', 'VBZ'),\n",
       " ('over', 'IN'),\n",
       " ('the', 'DT'),\n",
       " ('lazy', 'JJ'),\n",
       " ('dog', 'NN'),\n",
       " ('.', '.')]"
      ]
     },
     "execution_count": 16,
     "metadata": {},
     "output_type": "execute_result"
    }
   ],
   "source": [
    "nltk.pos_tag(words)"
   ]
  },
  {
   "cell_type": "markdown",
   "metadata": {},
   "source": [
    "The meaning of these parts of speech tags are available below:"
   ]
  },
  {
   "cell_type": "code",
   "execution_count": 17,
   "metadata": {},
   "outputs": [],
   "source": [
    "# nltk.download('tagsets')\n",
    "# nltk.help.upenn_tagset()"
   ]
  },
  {
   "cell_type": "markdown",
   "metadata": {},
   "source": [
    "## PIL (Pillow)\n",
    "\n",
    "[Pillow](https://pillow.readthedocs.io/en/stable/) is the updated version of the old Python Imaging Library (PIL), which provides fundamental tools for working with images.  Pillow can work with a many common formats (some of which may require extra packages or other dependencies) to automate a wide variety of image transformations.\n",
    "\n",
    "Note: While `pillow` is how you install the package, you import functions with `import PIL`.\n"
   ]
  },
  {
   "cell_type": "code",
   "execution_count": 18,
   "metadata": {},
   "outputs": [
    {
     "data": {
      "image/png": "[encoded data removed]",
      "text/plain": [
       "<PIL.PngImagePlugin.PngImageFile image mode=RGBA size=501x138 at 0x26D1ADAD670>"
      ]
     },
     "metadata": {},
     "output_type": "display_data"
    },
    {
     "data": {
      "image/png": "[encoded data removed]",
      "text/plain": [
       "<PIL.Image.Image image mode=LA size=250x69 at 0x26D1ADAD5E0>"
      ]
     },
     "metadata": {},
     "output_type": "display_data"
    }
   ],
   "source": [
    "from PIL import Image\n",
    "from urllib.request import urlretrieve\n",
    "from IPython.display import display\n",
    "\n",
    "#downloading an image locally\n",
    "urlretrieve(\"https://identity.unc.edu/wp-content/uploads/sites/885/2019/01/UNC_logo_webblue-e1517942350314.png\",\n",
    "           \"UNC_logo.png\")\n",
    "\n",
    "UNC = Image.open(\"UNC_logo.png\")\n",
    "#note: // divides two numbers and rounds the result down to get an integer\n",
    "UNC_gray = UNC.convert('LA').resize((UNC.width//2,UNC.height//2))\n",
    "display(UNC)\n",
    "display(UNC_gray)"
   ]
  },
  {
   "cell_type": "markdown",
   "metadata": {},
   "source": [
    "Mode \"LA\" is grayscale, preserving transparent image areas.  Read more about [modes](https://pillow.readthedocs.io/en/stable/handbook/concepts.html#concept-modes)."
   ]
  },
  {
   "cell_type": "markdown",
   "metadata": {},
   "source": [
    "## Parallel Processing with joblib\n",
    "\n",
    "As you move into more complicated processes in Python (or applying code to a wide variety of objects or files), processing time can become a major factor.  Fortunately, most modern laptops have multiple processor cores that can do separate things at the same time.  Python only uses **one core** by default.  If you have a set of loops that don't depend on each other (e.g. processing lots of files one after another), you could split up your many loop iterations between processors to greatly increase speed.\n",
    "\n",
    "The [`joblib` package](https://joblib.readthedocs.io/en/latest/) provides a straightforward way to split loops up between your computers cores for faster performance on complicated code.  Note that parallelization may not benefit you much or may even hurt you for very quick jobs because setting up and consolidating information from separate cores creates overhead costs. \n"
   ]
  },
  {
   "cell_type": "markdown",
   "metadata": {},
   "source": [
    "## Conda envs\n",
    "\n",
    "Anaconda provides the option to create separate Python environments inside your installation. All of the code below should be run in the Anaconda Prompt:\n",
    "\n",
    "(PC) Start Menu > Anaconda3 > Anaconda Prompt\n",
    "(Mac) Finder > Applications > Utilities > Terminal\n",
    "\n",
    "`conda create --name myenv python=3.5` creates an environment called `myenv` with Python version 3.5 instead of your main installation version.\n",
    "\n",
    "`conda activate myenv` makes this environment active.  From here you can install packages, and open software (e.g. `spyder` will open spyder after installation).\n",
    "\n",
    "`conda deactivate` deactivates the active environment and returns to base Anaconda.\n",
    "\n",
    "Conda environments are a great place to test out code, or run code that has very specific requirements.  It's generally a good idea to be careful about vastly changing your environment (e.g. upgrading to a new version of Python), because it can break your project code!  Environments provide a great way to test before making the change in your main environment.\n",
    "\n",
    "[Read more about conda environments](https://conda.io/projects/conda/en/latest/user-guide/tasks/manage-environments.html#)"
   ]
  }
 ],
 "metadata": {
  "kernelspec": {
   "display_name": "Python 3 (ipykernel)",
   "language": "python",
   "name": "python3"
  },
  "language_info": {
   "codemirror_mode": {
    "name": "ipython",
    "version": 3
   },
   "file_extension": ".py",
   "mimetype": "text/x-python",
   "name": "python",
   "nbconvert_exporter": "python",
   "pygments_lexer": "ipython3",
   "version": "3.8.8"
  },
  "toc": {
   "base_numbering": 1,
   "nav_menu": {},
   "number_sections": false,
   "sideBar": true,
   "skip_h1_title": true,
   "title_cell": "Table of Contents",
   "title_sidebar": "Contents",
   "toc_cell": false,
   "toc_position": {
    "height": "calc(100% - 180px)",
    "left": "10px",
    "top": "150px",
    "width": "384px"
   },
   "toc_section_display": true,
   "toc_window_display": true
  }
 },
 "nbformat": 4,
 "nbformat_minor": 2
}
