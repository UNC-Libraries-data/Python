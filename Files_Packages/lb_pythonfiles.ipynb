{
 "cells": [
  {
   "cell_type": "markdown",
   "metadata": {},
   "source": [
    "# Idea for Reading and Writing Files"
   ]
  },
  {
   "cell_type": "code",
   "execution_count": 34,
   "metadata": {},
   "outputs": [
    {
     "name": "stdout",
     "output_type": "stream",
     "text": [
      "Zucchini and Tomato Salad\n",
      "Quantity: 4 servings\n",
      "Ingredients:\n",
      "* 2 small zucchini, about 3/4 pound\n",
      "* 4 medium ripe tomatoes sliced 1/4 inch thick\n",
      "* Salt and ground pepper\n",
      "* 1/4 cup finely chopped red onions\n",
      "* 1 tablespoon red wine\n",
      "* 3 tablespoons olive, vegetable or canola oil\n",
      "* vinegar\n",
      "* 1/2 cup chopped basil or parsley\n",
      "Instructions:\n",
      "1. Trim the ends of the zucchini and cut them slightly on\n",
      "the diagonal into slices 1/4 inch thick. Drop the slices\n",
      "into boiling water, and let simmer for one minute. Drain\n",
      "immediately. The zucchini must retain a certain resilience\n",
      "and not be overcooked. Let cool.\n",
      "2. Arrange the zucchini and tomato slices in an alternating\n",
      "pattern in a serving dish. Sprinkle with salt and pepper to\n",
      "taste, the onions, vinegar, oil and basil or parsley. Serve.\n",
      "\n"
     ]
    }
   ],
   "source": [
    "with open('recipe1.txt',\"r\") as txtfile: #\"r\" indicates that we are reading the textfile and not writing to it\n",
    "    raw=txtfile.read() #.read() retrieves raw text information from the file we opened\n",
    "    \n",
    "print(raw)"
   ]
  },
  {
   "cell_type": "code",
   "execution_count": 35,
   "metadata": {},
   "outputs": [
    {
     "name": "stdout",
     "output_type": "stream",
     "text": [
      "['Zucchini and Tomato Salad', 'Quantity: 4 servings', 'Ingredients:', '* 2 small zucchini, about 3/4 pound', '* 4 medium ripe tomatoes sliced 1/4 inch thick', '* Salt and ground pepper', '* 1/4 cup finely chopped red onions', '* 1 tablespoon red wine', '* 3 tablespoons olive, vegetable or canola oil', '* vinegar', '* 1/2 cup chopped basil or parsley', 'Instructions:', '1. Trim the ends of the zucchini and cut them slightly on', 'the diagonal into slices 1/4 inch thick. Drop the slices', 'into boiling water, and let simmer for one minute. Drain', 'immediately. The zucchini must retain a certain resilience', 'and not be overcooked. Let cool.', '2. Arrange the zucchini and tomato slices in an alternating', 'pattern in a serving dish. Sprinkle with salt and pepper to', 'taste, the onions, vinegar, oil and basil or parsley. Serve.']\n"
     ]
    }
   ],
   "source": [
    "rawlist=raw.splitlines() #.splitlines() creates a list where each line of text is a separate element\n",
    "print(rawlist)"
   ]
  },
  {
   "cell_type": "markdown",
   "metadata": {},
   "source": [
    "Now we want a list of **only** the ingredients."
   ]
  },
  {
   "cell_type": "code",
   "execution_count": 36,
   "metadata": {},
   "outputs": [
    {
     "name": "stdout",
     "output_type": "stream",
     "text": [
      "['* 2 small zucchini, about 3/4 pound', '* 4 medium ripe tomatoes sliced 1/4 inch thick', '* Salt and ground pepper', '* 1/4 cup finely chopped red onions', '* 1 tablespoon red wine', '* 3 tablespoons olive, vegetable or canola oil', '* vinegar', '* 1/2 cup chopped basil or parsley']\n"
     ]
    }
   ],
   "source": [
    "ingredients=[]\n",
    "\n",
    "for item in rawlist:\n",
    "    if (item[0] == \"*\"):\n",
    "        ingredients.append(item)\n",
    "\n",
    "print(ingredients)"
   ]
  },
  {
   "cell_type": "markdown",
   "metadata": {},
   "source": [
    "Let's write the list of ingredients to a new file called \"shopping_list.txt\"."
   ]
  },
  {
   "cell_type": "code",
   "execution_count": 32,
   "metadata": {},
   "outputs": [],
   "source": [
    "with open(\"shopping_list.txt\",\"w\") as txtfile: #like \"r\" above, \"w\" specifies that we're writing to the file\n",
    "    for item in ingredients:\n",
    "        txtfile.write(item + \"\\n\") #the \"\\n\" puts each item on a new line. "
   ]
  }
 ],
 "metadata": {
  "kernelspec": {
   "display_name": "Python 3",
   "language": "python",
   "name": "python3"
  },
  "language_info": {
   "codemirror_mode": {
    "name": "ipython",
    "version": 3
   },
   "file_extension": ".py",
   "mimetype": "text/x-python",
   "name": "python",
   "nbconvert_exporter": "python",
   "pygments_lexer": "ipython3",
   "version": "3.7.3"
  },
  "toc": {
   "base_numbering": 1,
   "nav_menu": {
    "height": "599px",
    "width": "483px"
   },
   "number_sections": false,
   "sideBar": true,
   "skip_h1_title": true,
   "title_cell": "Table of Contents",
   "title_sidebar": "Contents",
   "toc_cell": false,
   "toc_position": {},
   "toc_section_display": true,
   "toc_window_display": true
  }
 },
 "nbformat": 4,
 "nbformat_minor": 2
}
