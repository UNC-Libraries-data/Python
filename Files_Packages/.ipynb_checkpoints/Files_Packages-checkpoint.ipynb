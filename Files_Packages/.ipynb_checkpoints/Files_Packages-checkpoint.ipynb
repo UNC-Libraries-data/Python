{
 "cells": [
  {
   "cell_type": "markdown",
   "metadata": {},
   "source": [
    "# Reading and Writing Files from Python\n",
    "\n",
    "## Packages\n",
    "\n",
    "### Installation\n",
    "\n",
    "Packages provide additional tools and functions not present in base Python.  Python includes a number of packages to start with, and others can be installed using `pip install <package name>` and/or `conda install <package name>` commands **in your terminal**. \n",
    "\n",
    "Open your terminal by:\n",
    "* (PC) Start > Anaconda3(64-bit) > Anaconda Prompt\n",
    "* (Mac) Finder > Applications > Anaconda Navigator > Environments Tab > (play button listed next to \"root\") > Open Terminal\n",
    "\n",
    "### Loading\n",
    "\n",
    "Once you've installed a package, you can load it into your current Python session with the `import` function.  Otherwise these functions will not be available."
   ]
  },
  {
   "cell_type": "code",
   "execution_count": 7,
   "metadata": {
    "scrolled": true
   },
   "outputs": [],
   "source": [
    "import os #functions for working with your operating system"
   ]
  },
  {
   "cell_type": "markdown",
   "metadata": {},
   "source": [
    "## Working Directories\n",
    "\n",
    "To open a file with Python, you'll need to tell your computer where it's located on your computer.  You can specify the entire absolute filepath (starting with C:\\ on PC or / on Mac), or you can set a working directory and work with relative file paths. \n",
    "\n",
    "You can determine where a file is located on your computer by:\n",
    "\n",
    "* (PC) Navigate to your desired folder in Windows Explorer and click on it.  Click in the address bar at the top of the window to copy the path.\n",
    "* (Mac) Right-click a file in your desired directory > Click Get Info > Highlight and copy the path listed next to \"Where:\"\n",
    "\n",
    "If a file is located in your working directory, its relative path is just the name of the file!"
   ]
  },
  {
   "cell_type": "code",
   "execution_count": 8,
   "metadata": {},
   "outputs": [
    {
     "data": {
      "text/plain": [
       "True"
      ]
     },
     "execution_count": 8,
     "metadata": {},
     "output_type": "execute_result"
    }
   ],
   "source": [
    "myfile=\"C:/Users/mtjansen/Desktop/Python/Python2/Python_Sales/day1.txt\" #absolute path\n",
    "os.path.isfile(myfile) #check if Python can find my file "
   ]
  },
  {
   "cell_type": "markdown",
   "metadata": {},
   "source": [
    "#### Windows Paths\n",
    "Windows filepaths use `\\`, which Python interprets as *escape characters*.  This can be fixed in several ways:\n",
    "1. Replace `\\` with `/`.\n",
    "2. Replace `\\` with `\\\\`.\n",
    "3. Preface your path with `r`: \n",
    "```\n",
    "        r\"C:\\Users\\mtjansen\\Desktop\"\n",
    "```"
   ]
  },
  {
   "cell_type": "code",
   "execution_count": 9,
   "metadata": {},
   "outputs": [
    {
     "data": {
      "text/plain": [
       "True"
      ]
     },
     "execution_count": 9,
     "metadata": {},
     "output_type": "execute_result"
    }
   ],
   "source": [
    "os.chdir(\"C:/Users/mtjansen/Desktop/Python/Python2/Python_Sales\") #set working directory\n",
    "myfile=\"day1.txt\" #relative path\n",
    "os.path.isfile(myfile)"
   ]
  },
  {
   "cell_type": "markdown",
   "metadata": {},
   "source": [
    "We can get a list of all files in the working directory with `os.listdir(\".\")`."
   ]
  },
  {
   "cell_type": "code",
   "execution_count": 10,
   "metadata": {},
   "outputs": [
    {
     "name": "stdout",
     "output_type": "stream",
     "text": [
      "['Day1.txt', 'Day1_TOTAL.txt', 'Day2.txt', 'Day3.txt', 'Python_Sales.zip']\n",
      "['Day1.txt', 'Day1_TOTAL.txt', 'Day2.txt', 'Day3.txt', 'Python_Sales.zip']\n"
     ]
    }
   ],
   "source": [
    "print(os.listdir(\".\"))\n",
    "print(os.listdir(\"C:/Users/mtjansen/Desktop/Python/Python2/Python_Sales\")) #alternatively we can specify a folder"
   ]
  },
  {
   "cell_type": "markdown",
   "metadata": {},
   "source": [
    "<center>\n",
    "<h3>Exercise</h3>\n",
    "</center>\n",
    "\n",
    "* Download the zipped data availalble [here](https://github.com/UNC-Libraries-data/Python/raw/master/Python2/Python_Sales/Python_Sales.zip). Unzip them somewhere on your computer.\n",
    "\n",
    "* Use `import os` and `os.chdir` to set your working directory to the unzipped folder \"Python Sales\".  Use `os.listdir` to check what files are stored there.\n",
    "\n",
    "\n",
    "## Reading and Writing Files\n",
    "\n",
    "Python requires you both open and close files explicitly.  If you forget to close a file, it can remain in use, preventing you from opening it later.\n",
    "\n",
    "Best practices for reading and writing files use the `with` function to make sure files are automatically closed."
   ]
  },
  {
   "cell_type": "code",
   "execution_count": 11,
   "metadata": {},
   "outputs": [
    {
     "name": "stdout",
     "output_type": "stream",
     "text": [
      "19.6\n",
      "60.6\n",
      "67.9\n",
      "76.9\n",
      "44.6\n",
      "61.4\n",
      "39.5\n",
      "42.7\n",
      "48\n",
      "58.9\n"
     ]
    }
   ],
   "source": [
    "with open('Day1.txt',\"r\") as txtfile: #\"r\" indicates that we are reading the textfile and not writing to it\n",
    "    raw=txtfile.read() #read() retrieves raw text information from the file opened in txtfile\n",
    "    \n",
    "print(raw)"
   ]
  },
  {
   "cell_type": "code",
   "execution_count": 12,
   "metadata": {},
   "outputs": [
    {
     "name": "stdout",
     "output_type": "stream",
     "text": [
      "['19.6', '60.6', '67.9', '76.9', '44.6', '61.4', '39.5', '42.7', '48', '58.9']\n"
     ]
    }
   ],
   "source": [
    "rawlist=raw.splitlines() #.splitlines() uses each new line to split the string into a list\n",
    "print(rawlist)"
   ]
  },
  {
   "cell_type": "code",
   "execution_count": 13,
   "metadata": {},
   "outputs": [
    {
     "name": "stdout",
     "output_type": "stream",
     "text": [
      "520.1\n"
     ]
    }
   ],
   "source": [
    "total=0\n",
    "for item in rawlist:\n",
    "    n=float(item) #convert strings to decimal numbers (i.e. floats)\n",
    "    total=total+n\n",
    "print(total)"
   ]
  },
  {
   "cell_type": "markdown",
   "metadata": {},
   "source": [
    "Let's write a new file with the total."
   ]
  },
  {
   "cell_type": "code",
   "execution_count": 14,
   "metadata": {},
   "outputs": [],
   "source": [
    "total=str(total) #we need to convert numerics to strings before writing\n",
    "with open(\"Day1_TOTAL.txt\",\"w\") as txtfile: #like \"r\" above, \"w\" specifies that we're writing to the file\n",
    "    txtfile.write(total)"
   ]
  },
  {
   "cell_type": "markdown",
   "metadata": {},
   "source": [
    "<center>\n",
    "<h3>Exercises</h3>\n",
    "</center>\n",
    "\n",
    "* Use a loop to extend the above to get the total for each of the three files, Day1.txt, Day2.txt, and Day3.txt. Create a new file that contains the overall total.  There shouldn't be any sales over 100, so if you find any exclude them!"
   ]
  },
  {
   "cell_type": "code",
   "execution_count": null,
   "metadata": {},
   "outputs": [],
   "source": []
  }
 ],
 "metadata": {
  "kernelspec": {
   "display_name": "Python 3",
   "language": "python",
   "name": "python3"
  },
  "language_info": {
   "codemirror_mode": {
    "name": "ipython",
    "version": 3
   },
   "file_extension": ".py",
   "mimetype": "text/x-python",
   "name": "python",
   "nbconvert_exporter": "python",
   "pygments_lexer": "ipython3",
   "version": "3.7.3"
  },
  "toc": {
   "base_numbering": 1,
   "nav_menu": {},
   "number_sections": true,
   "sideBar": true,
   "skip_h1_title": false,
   "title_cell": "Table of Contents",
   "title_sidebar": "Contents",
   "toc_cell": false,
   "toc_position": {},
   "toc_section_display": true,
   "toc_window_display": false
  }
 },
 "nbformat": 4,
 "nbformat_minor": 2
}
