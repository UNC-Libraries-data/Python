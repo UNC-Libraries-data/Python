{
 "cells": [
  {
   "cell_type": "markdown",
   "metadata": {},
   "source": [
    "# Reading and Writing Files from Python\n",
    "\n",
    "## Packages\n",
    "\n",
    "### Installation\n",
    "Packages provide additional tools and functions not present in base Python. Python includes a number of packages to start with, and others can be installed using `pip install <package name>` and/or `conda install <package name>` commands in your terminal.\n",
    "\n",
    "Open your terminal by:\n",
    "\n",
    "- (PC) Start > Anaconda3(64-bit) > Anaconda Prompt\n",
    "- (Mac) Finder > Applications > Anaconda Navigator > Environments Tab > (play button listed next to \"root\") > Open Terminal\n",
    "\n",
    "### Loading\n",
    "Once you've installed a package, you can load it into your current Python session with the import function. Otherwise these functions will not be available."
   ]
  },
  {
   "cell_type": "code",
   "execution_count": 1,
   "metadata": {},
   "outputs": [],
   "source": [
    "import os #functions for working with your operating system\n",
    "import shutil #extra functions for working with files"
   ]
  },
  {
   "cell_type": "markdown",
   "metadata": {},
   "source": [
    "## Working Directories\n",
    "To open a file with Python, you'll need to tell your computer where it's located on your computer. You can specify the entire absolute filepath (starting with C:\\ on PC or / on Mac), or you can set a working directory and work with relative file paths.\n",
    "\n",
    "You can determine where a file is located on your computer by:\n",
    "\n",
    "- (PC) Navigate to your desired folder in Windows Explorer and click on it. Click in the address bar at the top of the window to copy the path.\n",
    "- (Mac) Right-click a file in your desired directory > Click Get Info > Highlight and copy the path listed next to \"Where:\"\n",
    "\n",
    "If a file is located in your working directory, its relative path is just the name of the file!"
   ]
  },
  {
   "cell_type": "code",
   "execution_count": 2,
   "metadata": {},
   "outputs": [
    {
     "data": {
      "text/plain": [
       "True"
      ]
     },
     "execution_count": 2,
     "metadata": {},
     "output_type": "execute_result"
    }
   ],
   "source": [
    "myfile=\"/Users/tuesday/Desktop/Python/Recipes.zip\" #absolute path\n",
    "os.path.isfile(myfile) #check if Python can find my file "
   ]
  },
  {
   "cell_type": "markdown",
   "metadata": {},
   "source": [
    "**Windows Paths**\n",
    "\n",
    "Windows filepaths use \\, which Python interprets as escape characters. This can be fixed in several ways:\n",
    "\n",
    "- Replace \\ with /.\n",
    "- Replace \\ with \\\\.\n",
    "- Preface your path with r:\n",
    "\n",
    "       r\"C:\\Users\\mtjansen\\Desktop\""
   ]
  },
  {
   "cell_type": "code",
   "execution_count": 3,
   "metadata": {},
   "outputs": [
    {
     "data": {
      "text/plain": [
       "True"
      ]
     },
     "execution_count": 3,
     "metadata": {},
     "output_type": "execute_result"
    }
   ],
   "source": [
    "os.chdir(\"/Users/tuesday/Desktop/Python/\") #set working directory\n",
    "myfile=\"Recipes.zip\" #relative path\n",
    "os.path.isfile(myfile)"
   ]
  },
  {
   "cell_type": "markdown",
   "metadata": {},
   "source": [
    "We can get a list of all files in the working directory with os.listdir(\".\")."
   ]
  },
  {
   "cell_type": "code",
   "execution_count": 4,
   "metadata": {},
   "outputs": [
    {
     "name": "stdout",
     "output_type": "stream",
     "text": [
      "['.DS_Store', '.ipynb_checkpoints', 'Files_Packages.ipynb', 'getrecipes.py', 'RBK', 'Recipes', 'Recipes.zip', 'solution_files_packages.py']\n",
      "['.DS_Store', '.ipynb_checkpoints', 'Files_Packages.ipynb', 'getrecipes.py', 'RBK', 'Recipes', 'Recipes.zip', 'solution_files_packages.py']\n"
     ]
    }
   ],
   "source": [
    "print(os.listdir(\".\"))\n",
    "print(os.listdir(\"/Users/tuesday/Desktop/Python/\")) #alternatively we can specify a folder"
   ]
  },
  {
   "cell_type": "markdown",
   "metadata": {},
   "source": [
    "<center><h3>Exercise</h3></center>\n",
    "\n",
    "1. Download this zipped file: [Recipes.zip](https://unc-libraries-data.github.io/Python/Files_Packages/Recipes.zip). \n",
    "2. Unzip the file somewhere on your computer.\n",
    "3. Use `import os` and `os.chdir` to set your working directory to the unzipped folder \"Recipes\". \n",
    "4. Use `os.listdir` to check what files are stored in \"Recipes\"."
   ]
  },
  {
   "cell_type": "markdown",
   "metadata": {},
   "source": [
    "## Reading Files\n",
    "\n",
    "Python requires you both open and close files explicitly. If you forget to close a file, it can remain in use, preventing you from opening it later.\n",
    "\n",
    "Best practices for reading and writing files use the `with` function to make sure files are automatically closed."
   ]
  },
  {
   "cell_type": "code",
   "execution_count": 5,
   "metadata": {},
   "outputs": [
    {
     "name": "stdout",
     "output_type": "stream",
     "text": [
      "AMARANTH STIR FRY\n",
      "\n",
      "1 c amaranth, uncooked\n",
      "1/8 ts sea salt\n",
      "1 tb olive oil\n",
      "1 c leeks, sliced\n",
      "1/2 c mushrooms, sliced\n",
      "1/2 c green peppers, sliced\n",
      "1 t soy sauce\n",
      "1/2 c whole wheat bread crumbs\n",
      "1/2 c scallions, sliced\n",
      "1/2 c pumpkin seeds, toasted\n",
      "\n",
      "Rinse and drain amaranth. Dry roast amaranth in a hevy skillet over\n",
      "medium heat for 5 minutes. Bring 3 cups water and salt to a boil.\n",
      "Stir in amaranth and return to a boil. Lower heat and place a flame\n",
      "deflector or heat diffuser under the pot. Cover and simmer for 35\n",
      "minutes or until all water is absorbed, stirring occasionally. Heat\n",
      "a skillet and brush generously with oil. Add leeks and saute for\n",
      "5 minutes. Add mushrooms and peppers and saute for 10 minutes,\n",
      "stirring often. Sprinkle with soy sauce and one teaspoon water.\n",
      "Sprinkle bread crumbs over top of vegetables. Place amaranth on\n",
      "top of crumbs. Cover and heat through. Stir to combine all ingredients,\n",
      "place in a serving dish and garnish with scallions and pumpkin\n",
      "seeds.\n",
      "\n",
      "\n",
      "\n"
     ]
    }
   ],
   "source": [
    "os.chdir(\"/Users/tuesday/Desktop/Python/Recipes\")\n",
    "\n",
    "with open(\"amaranth-stirfry.txt\",\"r\") as txtfile: #\"r\" indicates that we are reading the textfile and not writing to it\n",
    "    recipe=txtfile.read() #.read() retrieves raw text information from the file we opened\n",
    "    \n",
    "print(recipe)"
   ]
  },
  {
   "cell_type": "markdown",
   "metadata": {},
   "source": [
    "## Writing Files\n",
    "\n",
    "The recipe above is missing a serving amount. Lets add one in, and then save the file."
   ]
  },
  {
   "cell_type": "code",
   "execution_count": 6,
   "metadata": {},
   "outputs": [],
   "source": [
    "recipe = recipe + \"Serves 4\"\n",
    "\n",
    "with open(\"amaranth-stirfry.txt\",\"w\") as txtfile: #\"w\" specifies that we're writing to the file\n",
    "    txtfile.write(recipe)"
   ]
  },
  {
   "cell_type": "markdown",
   "metadata": {},
   "source": [
    "## Working with Folders\n",
    "\n",
    "The Amaranth Stir Fry looks like it would make a nice hearty meal for fall. Let's create a new folder called \"Fall\" in our \"Recipes\" folder and put a copy of the Amaranth Stir Fry recipe inside it."
   ]
  },
  {
   "cell_type": "code",
   "execution_count": 7,
   "metadata": {},
   "outputs": [
    {
     "data": {
      "text/plain": [
       "'Fall/amaranth-stirfry.txt'"
      ]
     },
     "execution_count": 7,
     "metadata": {},
     "output_type": "execute_result"
    }
   ],
   "source": [
    "os.mkdir(\"Fall\") #os.mkdir() creates a new folder \n",
    "shutil.copyfile(\"amaranth-stirfry.txt\", \"Fall/amaranth-stirfry.txt\") #shutil.copyfile() makes a copy"
   ]
  },
  {
   "cell_type": "markdown",
   "metadata": {},
   "source": [
    "Did it work?"
   ]
  },
  {
   "cell_type": "code",
   "execution_count": 8,
   "metadata": {},
   "outputs": [
    {
     "data": {
      "text/plain": [
       "True"
      ]
     },
     "execution_count": 8,
     "metadata": {},
     "output_type": "execute_result"
    }
   ],
   "source": [
    "os.path.isfile(\"Fall/amaranth-stirfry.txt\")"
   ]
  },
  {
   "cell_type": "markdown",
   "metadata": {},
   "source": [
    "Great! We only have 199 more recipes to organize by season! Don't worry, though. This is a fast job for Python. We'll start by writing some psuedocode.\n",
    "\n",
    "To organize our recipes, we'll need to...\n",
    "\n",
    "1. Make a list that contains all of our recipe files.\n",
    "2. Create folders for each season.\n",
    "3. Create a dictionary with lists of ingredients for each season.\n",
    "4. Loop through the list of recipe files.\n",
    "    - Open the file.\n",
    "    - Loop through each season in the dictionary.\n",
    "        - Loop through the ingredients in each season.\n",
    "            - If an ingredient appears in the recipe, copy the recipe to the correct folder."
   ]
  },
  {
   "cell_type": "markdown",
   "metadata": {},
   "source": [
    "\n",
    "Make a list that contains all of our recipe files:"
   ]
  },
  {
   "cell_type": "code",
   "execution_count": 9,
   "metadata": {},
   "outputs": [],
   "source": [
    "#this list comprehension makes sure we're only getting a list of our text files and our folder is not included\n",
    "flist = [f for f in os.listdir(\"/Users/tuesday/Desktop/Python/Recipes\") if f[-3:]==\"txt\"] "
   ]
  },
  {
   "cell_type": "markdown",
   "metadata": {},
   "source": [
    "Create folders for the remaining seasons:"
   ]
  },
  {
   "cell_type": "code",
   "execution_count": 10,
   "metadata": {},
   "outputs": [],
   "source": [
    "os.mkdir(\"Spring\")\n",
    "os.mkdir(\"Winter\")\n",
    "os.mkdir(\"Summer\")"
   ]
  },
  {
   "cell_type": "markdown",
   "metadata": {},
   "source": [
    "Create lists of ingredients for each season:"
   ]
  },
  {
   "cell_type": "code",
   "execution_count": 11,
   "metadata": {},
   "outputs": [],
   "source": [
    "spring = [\"asparagus\", \"cabbage\", \"cauliflower\", \"chard\", \"greens\", \"kale\", \"peas\", \"radish\", \"rhubarb\", \"strawberries\", \"turnip\", \"artichoke\"]\n",
    "\n",
    "summer = [\"blackberries\", \"blueberries\", \"cantaloupe\", \"cherries\", \"cucumber\", \"eggplant\", \"beans\", \"melon\", \"okra\", \"peach\", \"plum\", \"raspberries\", \"strawberries\", \"watermelon\", \"zucchini\", \"apricot\", \"basil\"]\n",
    "\n",
    "fall = [\"apple\", \"brussels sprouts\", \"cabbage\", \"cauliflower\", \"grapes\", \"mushrooms\", \"parsnip\", \"pear\", \"sweet potato\", \"pumpkin\", \"turnip\", \"rutabaga\", \"fig\", \"quince\", \"pomegranate\", \"chard\", \"greens\", \"kale\", \"butternut\", \"acorn\", \"cranberries\"]\n",
    "\n",
    "winter = [\"grapefruit\", \"orange\", \"butternut\", \"acorn\", \"chestnut\", \"cranberries\", \"brussels sprouts\", \"cabbage\", \"cauliflower\", \"sweet potato\", \"pumpkin\", \"turnip\", \"rutabaga\", \"pomegranate\", \"chard\", \"greens\", \"kale\"]"
   ]
  },
  {
   "cell_type": "markdown",
   "metadata": {},
   "source": [
    "Notice that some ingredients fall into multiple seaons. Some of our recipes will also fall into multiple seasons. \n",
    "\n",
    "Next, we need to combine all of our ingredient lists into a single dictionary so that we can loop through them later on."
   ]
  },
  {
   "cell_type": "code",
   "execution_count": 12,
   "metadata": {},
   "outputs": [],
   "source": [
    "seasons = {\"Spring\":spring, \"Summer\":summer, \"Fall\":fall, \"Winter\":winter}"
   ]
  },
  {
   "cell_type": "markdown",
   "metadata": {},
   "source": [
    "<br><br><center><b>Exercise</b></center>\n",
    "1. Write a simple loop with two lines of code that will print out all of the ingredients for each season.\n",
    "<br><br>"
   ]
  },
  {
   "cell_type": "markdown",
   "metadata": {},
   "source": [
    "\n",
    "\n",
    "Before we tackle the fourth step in our psuedocode, let's take a look at the recipe for Apple Carrot Muffins. We'll practice classifying just this recipe first. "
   ]
  },
  {
   "cell_type": "code",
   "execution_count": 13,
   "metadata": {},
   "outputs": [
    {
     "name": "stdout",
     "output_type": "stream",
     "text": [
      "Apple-Carrot Muffins\n",
      "Servings 12\n",
      " \n",
      "2 1/2 cups whole wheat flour\n",
      "1/2 cup soy powder\n",
      "1 tsp. baking powder\n",
      "1/4 tsp. salt\n",
      "1/4 tsp. nutmeg\n",
      "1/4 tsp[. cinnamon\n",
      "1/8 cup oil\n",
      "3/4 cup honey\n",
      "1 tsp. vanilla\n",
      "1/2 cup grated apple\n",
      "1/2 cup grated carrot\n",
      " \n",
      "Preheat oven to 400 degrees F.  In a medium bowl, combine all the\n",
      "dry ingredients.  Combine all the liquid ingredients in a large\n",
      "bowl; stir in the apple and carrot.  Add the dry ingredients to\n",
      "the liquid mixture.  Oil one muffin tin; then spoon the batter into\n",
      "the cups until each is 2/3 full.  Bake for 20 minutes, or until a\n",
      "toothpick stuck in the center of the muffin comes out clean.\n",
      "\n",
      "\n",
      "\n"
     ]
    }
   ],
   "source": [
    "fname = \"apple-carrot-muffins.txt\" #Store the file name in a variable called \"fname\"\n",
    "\n",
    "with open(fname,\"r\") as txtfile: \n",
    "    recipe=txtfile.read()\n",
    "    \n",
    "print(recipe)"
   ]
  },
  {
   "cell_type": "markdown",
   "metadata": {},
   "source": [
    "What season will this recipe fall into? To find out, we need to build some nested loops. Remember our psuedocode?\n",
    "\n",
    "- Loop through each season in the dictionary.\n",
    "    - Loop through the ingredients in each season.\n",
    "        - If an ingredient appears in the recipe, copy the recipe to the correct folder."
   ]
  },
  {
   "cell_type": "code",
   "execution_count": 14,
   "metadata": {},
   "outputs": [],
   "source": [
    " for s in seasons:\n",
    "        for ingredient in seasons[s]:           \n",
    "             if (ingredient in recipe.lower()):  #.lower() changes all text in the recipe to lowercase\n",
    "                shutil.copyfile(fname, os.path.join(s, fname)) #os.path.join() joins the folder name with the file name\n",
    "    "
   ]
  },
  {
   "cell_type": "markdown",
   "metadata": {},
   "source": [
    "Now we can use `os.list()` to find out which folder the recipe was placed in."
   ]
  },
  {
   "cell_type": "code",
   "execution_count": 15,
   "metadata": {},
   "outputs": [
    {
     "name": "stdout",
     "output_type": "stream",
     "text": [
      "Spring\n",
      "[]\n",
      "Summer\n",
      "[]\n",
      "Fall\n",
      "['amaranth-stirfry.txt', 'apple-carrot-muffins.txt']\n",
      "Winter\n",
      "[]\n"
     ]
    }
   ],
   "source": [
    "for s in seasons:      #Loop through each season folder\n",
    "    print(s)           #Print the folder name\n",
    "    print(os.listdir(s))  #List the files in the folder."
   ]
  },
  {
   "cell_type": "markdown",
   "metadata": {},
   "source": [
    "<center><b>Exercise</b></center>\n",
    "\n",
    "1. Complete step 4 of the psuedocode for all of the recipes. Remember that you will need to loop through all files in `flist` and open each file.\n",
    "\n",
    "If you're having a lot of trouble with this exercise, one possible solution can be found [here](https://github.com/UNC-Libraries-data/Python/blob/master/Files_Packages/solution_files_packages.py)."
   ]
  }
 ],
 "metadata": {
  "kernelspec": {
   "display_name": "Python 3",
   "language": "python",
   "name": "python3"
  },
  "language_info": {
   "codemirror_mode": {
    "name": "ipython",
    "version": 3
   },
   "file_extension": ".py",
   "mimetype": "text/x-python",
   "name": "python",
   "nbconvert_exporter": "python",
   "pygments_lexer": "ipython3",
   "version": "3.7.3"
  },
  "toc": {
   "base_numbering": 1,
   "nav_menu": {
    "height": "599px",
    "width": "483px"
   },
   "number_sections": false,
   "sideBar": true,
   "skip_h1_title": true,
   "title_cell": "Table of Contents",
   "title_sidebar": "Contents",
   "toc_cell": false,
   "toc_position": {},
   "toc_section_display": true,
   "toc_window_display": true
  }
 },
 "nbformat": 4,
 "nbformat_minor": 2
}
