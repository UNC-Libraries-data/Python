{
 "cells": [
  {
   "cell_type": "markdown",
   "metadata": {},
   "source": [
    "# Python: Introduction\n",
    "\n",
    "*University Libraries at the University of North Carolina at Chapel Hill*"
   ]
  },
  {
   "cell_type": "markdown",
   "metadata": {},
   "source": [
    "\n",
    "\n",
    "**Goals:**\n",
    "\n",
    "* Learn to work with basic Python data types and objects\n",
    "* Introduce Loops and Conditionals\n",
    "\n",
    "## Why Python?\n",
    "\n",
    "**What is a programming language?**\n",
    "\n",
    "Programming languages allow one to write instructions in human-readable form that can then be read and understood by a computer. \"High level\" languages like Python translate sets of commands or instructions (programs) created by people (programmers) to \"low level\" languages more readily understood by the computer. Once these instructions have been translated the computer can then follow the steps within to perform a specific task. (For more information on high- and low-level languages, please see this [definition](https://www.computerscience.gcse.guru/theory/high-low-level-languages).)\n",
    "\n",
    "Python is a general-purpose programming language that has become popular for data and text analysis.  Python can be easier to learn than other languages because it emphasizes (human) readability and flexibility.  Python is [the second most used language on GitHub](https://octoverse.github.com/#trends); this means you'll find packages (sets of functionality developed by other users) to use Python for a wide variety of problems and tasks.\n",
    "\n",
    "If you haven't worked with a programming language before, learning Python will introduce you to methods used in many programming languages, making it easier to learn other languages like Java and R later on.\n",
    "\n",
    "### Use Cases\n",
    "\n",
    "#### Scripting\n",
    "Writing code to automate repeptitive tasks.  For example, you might need to extract text from thousands of pdf files and sort them into directories based on whether the texts mention particular phrases.  To do this, you would need to create instructions for how to find the pdfs (and skip any non-pdfs!), open them, extract text, search for the key terms, then move the file to the proper final location.   In this series, we'll learn about some of the fundamental building blocks for translating a such processes into instructions the computer can understand.  The other uses outlined below often involve some element of automation!\n",
    "\n",
    "#### Natural Language Processing\n",
    "The `NLTK` package provides tools for dealing with unstructured text such as parsing words and sentences, or tagging parts of speech.  `tesseract` applies optical character recognition (OCR) to transform images into machine readable text.  Other packages provide access to algorithms like topic modeling on text corpora.  Scripting to automate these steps is necessary to apply these algorithms to the vast corpora common in NLP (for example, [Early English Books Online](https://eebo.chadwyck.com/about/about.htm) provides access to 130,000 works produced in English from 1473-1700).\n",
    "\n",
    "#### Data Science\n",
    "Python has a well-developed ecosystem of specialized tools and functions for everything from fitting deep learning models with `tensorflow` to creating visualizations with `seaborn`.  Most of these tasks aren't directly covered in Python's standard functionality (our focus today).  Later on, we'll explore some of the foundational packages used for Data Science in Python: the SciPy ecosystem, especially `pandas`.\n",
    "\n",
    "#### Others\n",
    "There are also packages available in Python for web development (`Django`), image processing (`pillow`), web scraping (`BeautifulSoup`), APIs, databases, games (`pygame`), psychological experiments (`PsychoPy`), astronomy (`astropy`), and many many other uses. \n",
    "\n",
    "[Jupyter](https://jupyter.org/) Notebooks are a popular tool to share python code in a \"literate\" format, mixing regular english with code and outputs, including formatted tables, visualizations, etc., for easy comprehension by non-Python users.  We'll explore Jupyter Notebooks later on in this series of workshops.\n",
    "\n",
    "However, there are few things you can do in Python that can't also be done in other languages!  If you already know one or more programming language, you'll have to decide where Python best fits in your own workflows.\n",
    "\n",
    "### Python vs. R\n",
    "\n",
    "R is another popular language often compared to Python in the realm of data science.  Each has relative strengths and weaknesses, but in most cases Python and R can ultimately accomplish the same goals.  We also teach a series of workshops introducing the R language: [R Open Labs](http://ropenlabs.web.unc.edu/), however we usually recommend that you focus on one \n",
    "language at a time to avoid confusion!\n",
    "\n",
    "###  Python 2 vs. Python 3\n",
    "\n",
    "Both Python 2 and Python 3 are widely used in research.  Unfortunately, while both Python 2 and 3 are very similar, there are a few key syntax differences: Python 3 cannot always run Python 2 code (or vice versa).\n",
    "\n",
    "Python 3 was released in 2008; since then, nearly all important tools have been re-written or updated for Python 3.  **Python 2 is not maintained as of January 1, 2020.**  This workshop will use **Python 3**.\n",
    "\n",
    "### <font color=red>Warning!</font>\n",
    "\n",
    "If you're already comfortable with basic programming concepts, you'll probably find this workshop very straightforward.  The later workshops in the series may be more helpful if you're already familiar with the concepts below and just need to learn new syntax.  Experienced attendees are more than welcome to stay, review, and help others!\n",
    "\n",
    "\n",
    "## Getting Started\n",
    "\n",
    "### IDEs\n",
    "\n",
    "An Integrated Development Environment (IDE) is software that combines many tools to help you use a programming language, such as a code editor, compiler, and debugger in a convenient interface. There are many different IDEs to choose from.  IDEs are not necessary, but are often good for beginners and useful for experienced users.\n",
    "\n",
    "As you gain experience, you can choose whether an IDE is right for your uses and which one works best for you. For the purposes of this workshop, we will use Spyder, which comes packaged with Anaconda.\n",
    "\n",
    "\n",
    "DELETE all this info on Spyder??\n",
    "\n",
    "Open Spyder:\n",
    "* **Windows**: Start>Anaconda3 64-bit>Spyder\n",
    "* **Mac**: Applications>Anaconda Navigator>Spyder\n",
    "\n",
    "![SpyderIDE.png](https://github.com/UNC-Libraries-data/Python/raw/master/Intro/images/SpyderIDE.png)\n",
    "\n",
    "Spyder's default interface provides three panes:\n",
    "\n",
    "* The Editor pane (left) is a scripting window for writing Python code for *reuse or sharing* later.\n",
    " + Scripts should be self contained to ensure easy reuse later on.  You should always be able to restart and run your script from scratch to make sure you haven't left anything important out.\n",
    "* The Console pane (bottom right) contains a console for executing code.  We'll use this to *test our code* interactively.\n",
    "* The Explorer pane (top right) contains other helpful tools listing defined variables, files in the working directory, and other help.\n",
    "\n",
    "**Note:** Code prepared in a simple text editor (not a formatted editor like Microsoft Word) can be executed (run) using your computer's command line or terminal.  "
   ]
  },
  {
   "cell_type": "markdown",
   "metadata": {},
   "source": [
    "### Entering code\n",
    "\n",
    "We'll begin by using Python as a simple calculator.  The objective here is to introduce you how the windows in Spyder work together and some basic Python syntax.\n",
    "\n",
    "In this workshop, Python code will be presented in numbered grey cells as below.  Any output generated will also be displayed below the grey cell."
   ]
  },
  {
   "cell_type": "code",
   "execution_count": 1,
   "metadata": {
    "scrolled": true
   },
   "outputs": [
    {
     "data": {
      "text/plain": [
       "4"
      ]
     },
     "execution_count": 1,
     "metadata": {},
     "output_type": "execute_result"
    }
   ],
   "source": [
    "2+2"
   ]
  },
  {
   "cell_type": "markdown",
   "metadata": {},
   "source": [
    "**To execute this in Spyder, copy or type the code yourself into the Ipython console pane. Press `Enter` to execute.**\n",
    "\n",
    "![2+2_console.png](https://github.com/UNC-Libraries-data/Python/raw/master/Intro/images/2+2_console.png)\n",
    "\n",
    "You can also enter code into the Editor pane.  This is particularly useful when writing more complicated or reusable code.  The code you write in the Editor pane can be saved as a .py file to revisit or run later. \n",
    "\n",
    "To use the Editor pane to save and execute code, type the code in the Editor pane, highlight the line(s) you want to execute and click:\n",
    "\n",
    "* Run > Run Selection or Current Line\n",
    "* **Shortcut:**  **F9** (or **FN+F9** on many laptops)\n",
    "\n",
    "The code will then execute in the Console pane.  Note that if you don't have a line selected, this shortcut will run the \"current line\", i.e. the line where the cursor is located.\n",
    "\n",
    "Standard arithmetic operations are available in Python."
   ]
  },
  {
   "cell_type": "code",
   "execution_count": 2,
   "metadata": {},
   "outputs": [
    {
     "data": {
      "text/plain": [
       "9"
      ]
     },
     "execution_count": 2,
     "metadata": {},
     "output_type": "execute_result"
    }
   ],
   "source": [
    "3*3"
   ]
  },
  {
   "cell_type": "markdown",
   "metadata": {},
   "source": [
    "**Note:** We can annotate our code with comments.  Python uses `#` to denote comments.  Anything typed after a `#` will be ignored on execution of the code."
   ]
  },
  {
   "cell_type": "code",
   "execution_count": 3,
   "metadata": {},
   "outputs": [
    {
     "data": {
      "text/plain": [
       "2.5"
      ]
     },
     "execution_count": 3,
     "metadata": {},
     "output_type": "execute_result"
    }
   ],
   "source": [
    "#1+2\n",
    "5/2 #division"
   ]
  },
  {
   "cell_type": "markdown",
   "metadata": {},
   "source": [
    "<center>\n",
    "<h4>Exercises</h4>\n",
    "</center>\n",
    "\n",
    "1. What is 126544 squared? (Exponentiation is denoted `**`, i.e. $ 2^3 $ is `2**3` in Python).\n",
    "\n",
    "2. What is 5 divided by 0?\n",
    "\n",
    "\n",
    "\n",
    "?? END DELETE"
   ]
  },
  {
   "cell_type": "markdown",
   "metadata": {},
   "source": [
    "## Data Types and Variables\n",
    "\n",
    "Ultimately, we need Python to store various values and objects for future re-use. Python has many default data types available.  We will focus on a few common examples.\n",
    "\n",
    "### Strings and Numbers\n",
    "\n",
    "We assign a value to a variable using `=`.  We do not need to declare a type or give any other information."
   ]
  },
  {
   "cell_type": "code",
   "execution_count": 4,
   "metadata": {},
   "outputs": [],
   "source": [
    "number = 42\n",
    "\n",
    "text = \"Hello, World\""
   ]
  },
  {
   "cell_type": "markdown",
   "metadata": {},
   "source": [
    "String objects, like `text` above, contain textual values.  These are identified to Python by quotes; you can use either ' or \" as long as you use the same type to begin and end your string.\n",
    "\n",
    "Python uses several different numeric data types for storing different values. Examples include integers, long integers, and floating point numbers (decimals).  Numbers can also be stored in string values using quotes.\n",
    "\n",
    "For example:"
   ]
  },
  {
   "cell_type": "code",
   "execution_count": 5,
   "metadata": {},
   "outputs": [],
   "source": [
    "notnumber = \"42\""
   ]
  },
  {
   "cell_type": "markdown",
   "metadata": {},
   "source": [
    "Once we have defined an object, we can use it again, most simply by printing it."
   ]
  },
  {
   "cell_type": "code",
   "execution_count": 6,
   "metadata": {},
   "outputs": [
    {
     "name": "stdout",
     "output_type": "stream",
     "text": [
      "Hello, World\n"
     ]
    }
   ],
   "source": [
    "print(text)"
   ]
  },
  {
   "cell_type": "markdown",
   "metadata": {},
   "source": [
    "<div style=\"margin-left: 5em;\">\n",
    "<strong>Note:</strong> The print command is one of the most basic differences between Python 2 and Python 3. \n",
    "In Python 2, print does not require parentheses:\n",
    "\n",
    "`print text`\n",
    "\n",
    "In Python 3, you must include parentheses:\n",
    "\n",
    "`print(text)`\n",
    "</div>\n",
    "\n",
    "We can also modify the contents of objects in various ways such as redefining them or changing their type. In some cases this is crucial to how Python can work with them.  For example:"
   ]
  },
  {
   "cell_type": "code",
   "execution_count": 7,
   "metadata": {},
   "outputs": [
    {
     "name": "stdout",
     "output_type": "stream",
     "text": [
      "100\n"
     ]
    }
   ],
   "source": [
    "print(number+58)\n",
    "#print(number+notnumber)"
   ]
  },
  {
   "cell_type": "markdown",
   "metadata": {},
   "source": [
    "So we can add a value, 58, to our number object, but we can't add our notnumber object.  Let's double check what notnumber contains:"
   ]
  },
  {
   "cell_type": "code",
   "execution_count": 8,
   "metadata": {},
   "outputs": [
    {
     "name": "stdout",
     "output_type": "stream",
     "text": [
      "42\n"
     ]
    }
   ],
   "source": [
    "print(notnumber)"
   ]
  },
  {
   "cell_type": "code",
   "execution_count": 9,
   "metadata": {},
   "outputs": [
    {
     "name": "stdout",
     "output_type": "stream",
     "text": [
      "42\n"
     ]
    }
   ],
   "source": [
    "print(number)"
   ]
  },
  {
   "cell_type": "markdown",
   "metadata": {},
   "source": [
    "Even those these appear the same to our eye, Python uses them very differently.  Remember how we defined notnumber?  Let's check what data type Python is using with `type`."
   ]
  },
  {
   "cell_type": "code",
   "execution_count": 10,
   "metadata": {},
   "outputs": [
    {
     "data": {
      "text/plain": [
       "str"
      ]
     },
     "execution_count": 10,
     "metadata": {},
     "output_type": "execute_result"
    }
   ],
   "source": [
    "type(notnumber)"
   ]
  },
  {
   "cell_type": "markdown",
   "metadata": {},
   "source": [
    "Fortunately Python provides a set of *functions* to convert objects between different data types.  A function packages a set of prewritten commands to accomplish a particular task.  Most functions take one or more objects as inputs or 'arguments' and produce some new object as output.\n",
    "\n",
    "The `int` function takes an object as an argument and converts it to an `int` (integer) numeric object.  The usage is as follows:"
   ]
  },
  {
   "cell_type": "code",
   "execution_count": 11,
   "metadata": {},
   "outputs": [
    {
     "name": "stdout",
     "output_type": "stream",
     "text": [
      "42\n"
     ]
    },
    {
     "data": {
      "text/plain": [
       "int"
      ]
     },
     "execution_count": 11,
     "metadata": {},
     "output_type": "execute_result"
    }
   ],
   "source": [
    "newnumber = int(notnumber)\n",
    "print(newnumber)\n",
    "type(newnumber)"
   ]
  },
  {
   "cell_type": "markdown",
   "metadata": {},
   "source": [
    "Now we can try adding objects again."
   ]
  },
  {
   "cell_type": "code",
   "execution_count": 12,
   "metadata": {},
   "outputs": [
    {
     "name": "stdout",
     "output_type": "stream",
     "text": [
      "84\n"
     ]
    }
   ],
   "source": [
    "print(number+newnumber)"
   ]
  },
  {
   "cell_type": "markdown",
   "metadata": {},
   "source": [
    "`int` objects can only hold integer values.  If you have decimal values, use the `float` (floating decimal) type instead."
   ]
  },
  {
   "cell_type": "code",
   "execution_count": 13,
   "metadata": {
    "scrolled": true
   },
   "outputs": [
    {
     "name": "stdout",
     "output_type": "stream",
     "text": [
      "42.5\n"
     ]
    }
   ],
   "source": [
    "myfloat = float(newnumber)+0.5\n",
    "print(myfloat)"
   ]
  },
  {
   "cell_type": "markdown",
   "metadata": {},
   "source": [
    "#### Getting help with functions\n",
    "\n",
    "You can access documentation for functions in Python with `help`, for example `help(sum)`.  Base Python functions and those provided by packages also usually have online documentation that may be easier to read.\n",
    "\n",
    "### Lists\n",
    "\n",
    "Python's lists store multiple objects in a sequence.  All of the data types we have seen so far (and indeed most data types in Python) can be placed in a list.  For example, we can save numbers and character strings together:"
   ]
  },
  {
   "cell_type": "code",
   "execution_count": 14,
   "metadata": {},
   "outputs": [
    {
     "name": "stdout",
     "output_type": "stream",
     "text": [
      "[1, 2, 3, 'four']\n"
     ]
    }
   ],
   "source": [
    "my_list = [1, 2, 3, \"four\"]\n",
    "print(my_list)"
   ]
  },
  {
   "cell_type": "markdown",
   "metadata": {},
   "source": [
    "We can also define lists using previously defined objects (including other lists!):"
   ]
  },
  {
   "cell_type": "code",
   "execution_count": 15,
   "metadata": {},
   "outputs": [
    {
     "name": "stdout",
     "output_type": "stream",
     "text": [
      "[12, 'cat', ['a', 'b', 'c']]\n"
     ]
    }
   ],
   "source": [
    "obj0 = 12\n",
    "obj1 = \"cat\"\n",
    "obj2 = [\"a\", \"b\", \"c\"]\n",
    "my_list1 = [obj0, obj1, obj2]\n",
    "print(my_list1)"
   ]
  },
  {
   "cell_type": "markdown",
   "metadata": {},
   "source": [
    "Once we've defined a list, we can add more elements to it with the `.append` function."
   ]
  },
  {
   "cell_type": "code",
   "execution_count": 16,
   "metadata": {},
   "outputs": [
    {
     "name": "stdout",
     "output_type": "stream",
     "text": [
      "[12, 'cat', ['a', 'b', 'c'], 'dog']\n"
     ]
    }
   ],
   "source": [
    "my_list1.append(\"dog\")\n",
    "print(my_list1)"
   ]
  },
  {
   "cell_type": "markdown",
   "metadata": {},
   "source": [
    "\n",
    "### Indexing\n",
    "\n",
    "Python retains the **order** of elements in our list and uses that order to retrieve objects in lists.  These numbered positions are called indices.\n",
    "\n",
    "We use `[` and `]` to provide indices in Python.\n",
    "\n",
    "Most importantly, **Python starts counting at zero**: The first element in your list is denoted `[0]`, the second `[1]`, the third `[2]` and so on.  This can take some getting used to!"
   ]
  },
  {
   "cell_type": "code",
   "execution_count": 17,
   "metadata": {},
   "outputs": [
    {
     "name": "stdout",
     "output_type": "stream",
     "text": [
      "parrot\n"
     ]
    }
   ],
   "source": [
    "my_list2 = [\"cat\", \"dog\", \"parrot\"]\n",
    "print(my_list2[2])"
   ]
  },
  {
   "cell_type": "markdown",
   "metadata": {},
   "source": [
    "We can use multiple indices for lists within lists, one after the other:"
   ]
  },
  {
   "cell_type": "code",
   "execution_count": 18,
   "metadata": {},
   "outputs": [
    {
     "name": "stdout",
     "output_type": "stream",
     "text": [
      "b\n"
     ]
    }
   ],
   "source": [
    "#recall\n",
    "my_list1 = [12, 'cat', ['a', 'b', 'c']]\n",
    "print(my_list1[2][1]) #i.e. the second element of the list held in the third element of my_list1"
   ]
  },
  {
   "cell_type": "markdown",
   "metadata": {},
   "source": [
    "We can extract multiple adjacent items from a list using a colon.\n",
    "\n",
    "`[n:m]` retrieves the values from index `n` to index `m-1`. "
   ]
  },
  {
   "cell_type": "code",
   "execution_count": 19,
   "metadata": {},
   "outputs": [
    {
     "data": {
      "text/plain": [
       "[12, 'cat']"
      ]
     },
     "execution_count": 19,
     "metadata": {},
     "output_type": "execute_result"
    }
   ],
   "source": [
    "my_list1[0:2]"
   ]
  },
  {
   "cell_type": "markdown",
   "metadata": {},
   "source": [
    "The `len` function provides the length of an object in Python."
   ]
  },
  {
   "cell_type": "code",
   "execution_count": 20,
   "metadata": {},
   "outputs": [
    {
     "name": "stdout",
     "output_type": "stream",
     "text": [
      "3\n"
     ]
    }
   ],
   "source": [
    "print(len(my_list1))"
   ]
  },
  {
   "cell_type": "markdown",
   "metadata": {},
   "source": [
    "If `len(my_new_list)=10` that means there are ten elements in the list.  Remember that Python starts counting at 0, so the indices are 0 through 9.  \n",
    "\n",
    "We can use the `range` function with `len` to generate a list of indices.  This can be a useful object to work with later on."
   ]
  },
  {
   "cell_type": "code",
   "execution_count": 21,
   "metadata": {},
   "outputs": [
    {
     "name": "stdout",
     "output_type": "stream",
     "text": [
      "[0, 1, 2]\n"
     ]
    }
   ],
   "source": [
    "my_indices1 = list(range(len(my_list1)))\n",
    "print(my_indices1)"
   ]
  },
  {
   "cell_type": "markdown",
   "metadata": {},
   "source": [
    "**Note:**  When we're experimenting with indices, the Spyder console provides a useful shortcut.  Click the active line on the console and use the **up arrow** to move through the code you've previously executed in the console.  \n",
    "\n",
    "For example:  \n",
    "We might want to bring back the line of code above, `my_list1[0:2]` and modify it to `my_list[0:1]` to see how that affects the output.\n",
    "\n",
    "This shortcut can save time typing or copying code you want to experiment with.  Remember that whatever code you settle on probably belongs in your script if later code will depend on it!"
   ]
  },
  {
   "cell_type": "markdown",
   "metadata": {},
   "source": [
    "#### Indexing beyond lists\n",
    "\n",
    "Indexes can also be used with any sequential data type, including strings.\n",
    "\n",
    "For example:"
   ]
  },
  {
   "cell_type": "code",
   "execution_count": 22,
   "metadata": {},
   "outputs": [
    {
     "name": "stdout",
     "output_type": "stream",
     "text": [
      "q\n",
      "quick\n"
     ]
    }
   ],
   "source": [
    "my_str = \"The quick brown fox jumps over the lazy dog.\"\n",
    "print(my_str[4])\n",
    "print(my_str[4:9]) #4:9 indicates characters 4-8"
   ]
  },
  {
   "cell_type": "markdown",
   "metadata": {},
   "source": [
    "Using `:` ranges with one end blank will automatically go to the end of the object.\n",
    "\n",
    "We can also work from right to left using negative numbers."
   ]
  },
  {
   "cell_type": "code",
   "execution_count": 23,
   "metadata": {},
   "outputs": [
    {
     "name": "stdout",
     "output_type": "stream",
     "text": [
      "dog.\n",
      "The \n"
     ]
    }
   ],
   "source": [
    "print(my_str[-4:])\n",
    "print(my_str[:4])"
   ]
  },
  {
   "cell_type": "markdown",
   "metadata": {},
   "source": [
    "We can still use multiple indices across sequential data types.  For instance, a list of strings:"
   ]
  },
  {
   "cell_type": "code",
   "execution_count": 24,
   "metadata": {},
   "outputs": [
    {
     "data": {
      "text/plain": [
       "'hom'"
      ]
     },
     "execution_count": 24,
     "metadata": {},
     "output_type": "execute_result"
    }
   ],
   "source": [
    "[\"home\", \"away\"][0][0:3]"
   ]
  },
  {
   "cell_type": "markdown",
   "metadata": {},
   "source": [
    "It can be helpful to unpack nested indices, for example, let's look at what the first index `[0]` alone gives us:"
   ]
  },
  {
   "cell_type": "code",
   "execution_count": 25,
   "metadata": {},
   "outputs": [
    {
     "data": {
      "text/plain": [
       "'home'"
      ]
     },
     "execution_count": 25,
     "metadata": {},
     "output_type": "execute_result"
    }
   ],
   "source": [
    "[\"home\", \"away\"][0]"
   ]
  },
  {
   "cell_type": "markdown",
   "metadata": {},
   "source": [
    "Unfortunately, not all data types are sequential - indices will not work on numeric values, unless we convert them to strings with `str`.  Python considers numbers to be a single \"value\" whereas the strings and lists both have natural component parts.\n",
    "\n",
    "\n",
    "### Review: Data Types\n",
    "\n",
    "|Type|Example|Description|\n",
    "|------|---------|------------------------|\n",
    "|`int`|1, 2, 3|Integers (whole numbers)|\n",
    "|`float`|1.5, 2.72, 3.14|Floating point numbers (decimals)|\n",
    "|`str`|\"cat\", \"dog\", \"car\"|String, character, or text values|\n",
    "|`list`|[1, 2, 3], [\"cat\", \"dog\"], [1, [2, 3]]|One or more objects stored by order|\n",
    "\n",
    "We will cover Python's dictionary (`dict`) and boolean (`bool`) types later on.\n",
    "\n",
    "**Read more about Python's built-in data types <a href=https://docs.python.org/3/library/stdtypes.html>here</a>.**"
   ]
  },
  {
   "cell_type": "markdown",
   "metadata": {},
   "source": [
    "## Flow Control\n",
    "\n",
    "### Conditions and Booleans\n",
    "\n",
    "Conditionals allow for more flexible instructions, letting our code react differently as our inputs change.\n",
    "\n",
    "Conditions often arise from comparisons:\n",
    "\n",
    "        <          strictly less than\n",
    "        <= \t    less than or equal\n",
    "        > \t     strictly greater than\n",
    "        >= \t    greater than or equal\n",
    "        == \t    equal\n",
    "        != \t    not equal\n",
    "        is \t    object identity\n",
    "        is not \tnegated object identity\n",
    "        in \t    sequence membership\n",
    "        not in \tsequence non-membership\n",
    "\n",
    "**Note:** `=` is used for assignment, whereas `==` checks if two objects are equal.\n",
    "\n",
    "Each condition considered evaluates to a Boolean value - `True` or `False`.  Booleans have their own data type: `bool`."
   ]
  },
  {
   "cell_type": "code",
   "execution_count": 26,
   "metadata": {},
   "outputs": [
    {
     "data": {
      "text/plain": [
       "False"
      ]
     },
     "execution_count": 26,
     "metadata": {},
     "output_type": "execute_result"
    }
   ],
   "source": [
    "num=5\n",
    "num<3"
   ]
  },
  {
   "cell_type": "code",
   "execution_count": 27,
   "metadata": {},
   "outputs": [
    {
     "data": {
      "text/plain": [
       "True"
      ]
     },
     "execution_count": 27,
     "metadata": {},
     "output_type": "execute_result"
    }
   ],
   "source": [
    "letter=\"a\"\n",
    "letter in [\"a\",\"b\",\"c\"]"
   ]
  },
  {
   "cell_type": "markdown",
   "metadata": {},
   "source": [
    "### Conditional Statements\n",
    "\n",
    "A conditional statement allows your code to branch and behave differently based on these conditions.\n",
    "\n",
    "A simple conditional statement takes the form:\n",
    "\n",
    "```\n",
    "if <condition>:\n",
    "    <do something only if condition is true>\n",
    "```\n",
    "\n",
    "Your instructions can be as long as necessary, provided they remain indented.  Indentation is very important in Python as it groups lines of code without using explict characters like `{` and `}` as in many other languages.  \n",
    "\n",
    "You can indent with spaces or tabs, but you must be **consistent**.\n",
    " \n",
    "We can supply alternate steps if the condition is false with `else`, or even consider multiple conditions with `elif` (i.e. else if).\n",
    "\n",
    "```\n",
    "if <condition1>:\n",
    "    <do something if condition1 is true>\n",
    "elif <condition2>:\n",
    "    <do a different thing if condition1 is false and condition2 is true>\n",
    "else\n",
    "    <do a third thing if neither condition is true>\n",
    "```"
   ]
  },
  {
   "cell_type": "code",
   "execution_count": 28,
   "metadata": {},
   "outputs": [
    {
     "name": "stdout",
     "output_type": "stream",
     "text": [
      "This number is greater than four\n"
     ]
    }
   ],
   "source": [
    "num = 5\n",
    "if num > 4:\n",
    "    print(\"This number is greater than four\")"
   ]
  },
  {
   "cell_type": "code",
   "execution_count": 29,
   "metadata": {},
   "outputs": [],
   "source": [
    "num = 3\n",
    "if num > 4:\n",
    "    print(\"This number is greater than four\")"
   ]
  },
  {
   "cell_type": "markdown",
   "metadata": {},
   "source": [
    "Adding `else` lets us give instructions if our condition is `False`."
   ]
  },
  {
   "cell_type": "code",
   "execution_count": 30,
   "metadata": {},
   "outputs": [
    {
     "name": "stdout",
     "output_type": "stream",
     "text": [
      "This number is less than or equal to four\n"
     ]
    }
   ],
   "source": [
    "num = 3\n",
    "if num > 4:\n",
    "    print(\"This number is greater than than four\")\n",
    "else:\n",
    "    print(\"This number is less than or equal to four\")"
   ]
  },
  {
   "cell_type": "markdown",
   "metadata": {},
   "source": [
    "Finally, the `elif` command lets us split the possible values of `num` into more groups.  You can have as many `elif` statements as you need to split up possible conditions."
   ]
  },
  {
   "cell_type": "code",
   "execution_count": 31,
   "metadata": {},
   "outputs": [
    {
     "name": "stdout",
     "output_type": "stream",
     "text": [
      "This number is greater than or equal to three and less than ten\n"
     ]
    }
   ],
   "source": [
    "num = 8\n",
    "if num < 3:\n",
    "    print(\"This number is less than three\")\n",
    "elif num < 10:\n",
    "    print(\"This number is greater than or equal to three and less than ten\")\n",
    "else:\n",
    "    print(\"This number is greater than or equal to ten\")"
   ]
  },
  {
   "cell_type": "markdown",
   "metadata": {},
   "source": [
    "### For Loops\n",
    "\n",
    "A \"for loop\" allows us to apply the same steps to each element in a list or other iterable.  In essence, loops let us automate tasks relative to some sequence that we might *otherwise* write like this:"
   ]
  },
  {
   "cell_type": "code",
   "execution_count": 32,
   "metadata": {},
   "outputs": [
    {
     "name": "stdout",
     "output_type": "stream",
     "text": [
      "26\n"
     ]
    }
   ],
   "source": [
    "sales = [5, 2, 7, 9, 3]\n",
    "total_sales = 0\n",
    "total_sales = total_sales + sales[0]\n",
    "total_sales = total_sales + sales[1]\n",
    "total_sales = total_sales + sales[2]\n",
    "total_sales = total_sales + sales[3]\n",
    "total_sales = total_sales + sales[4]\n",
    "print(total_sales)"
   ]
  },
  {
   "cell_type": "markdown",
   "metadata": {},
   "source": [
    "In the code above, we're essentially applying the same operation (cumulative summation) to each object in `sales` one by one.  A loop will let us write this operation in a general way and apply it to each object in a list or sequence.\n",
    "\n",
    "Loops take the form:\n",
    "\n",
    "\n",
    "`for <name> in <list>:`\n",
    "\n",
    "        do something based on name\n",
    "        \n",
    "    \n",
    "* `<name>` is **completely arbitrary**, though i, j, k, and n are relatively common. Use something that makes sense to you (and others)!\n",
    "* `<list>` is a pre-defined list or other iterable object.\n",
    "* **Reminder: Indentation is very important in Python and must be used consistently across the loop(s)** Only the code indented under the loop will be run in each iteration."
   ]
  },
  {
   "cell_type": "code",
   "execution_count": 33,
   "metadata": {},
   "outputs": [
    {
     "name": "stdout",
     "output_type": "stream",
     "text": [
      "0\n",
      "1\n",
      "2\n",
      "3\n",
      "4\n",
      "5\n"
     ]
    }
   ],
   "source": [
    "my_nums = list(range(6))\n",
    "\n",
    "for n in my_nums:\n",
    "    print(n)"
   ]
  },
  {
   "cell_type": "markdown",
   "metadata": {},
   "source": [
    "We can also loop within loops.  Indentation is key to control which blocks of code are executed within which loop."
   ]
  },
  {
   "cell_type": "code",
   "execution_count": 34,
   "metadata": {},
   "outputs": [
    {
     "name": "stdout",
     "output_type": "stream",
     "text": [
      "[['blue', 4], ['yellow', 6], ['red', 3], ['green', 5]]\n"
     ]
    }
   ],
   "source": [
    "#Nesting loops - indentation is key!\n",
    "listOfWords = [\"blue\", \"yellow\", \"red\", \"green\"]\n",
    "newList = [] #initialize an empty list\n",
    "\n",
    "for color in listOfWords:\n",
    "    numLetters = 0 #resets to zero each time the loop runs\n",
    "    for letter in color:\n",
    "        numLetters += 1\n",
    "    temporaryList = [color, numLetters]\n",
    "    newList.append(temporaryList)\n",
    "    \n",
    "print(newList)"
   ]
  },
  {
   "cell_type": "markdown",
   "metadata": {},
   "source": [
    "Notice that before the loop begins we create an **empty list**.  This is a common stragegy to collect outputs from some or all of the loops iterations.  This can generalize to numbers by defining a zero-valued variable before the loop and modifying it with each iteration.\n",
    "\n",
    "How could we write the code above with fewer lines? Is there a simpler way to find the length of each word?"
   ]
  },
  {
   "cell_type": "markdown",
   "metadata": {},
   "source": [
    "### For Loops with Conditionals\n",
    "\n",
    "Loops become even more useful when combined with conditionals, to perform different steps based on conditions that change with each iteration of the loop."
   ]
  },
  {
   "cell_type": "code",
   "execution_count": 35,
   "metadata": {},
   "outputs": [
    {
     "name": "stdout",
     "output_type": "stream",
     "text": [
      "0\n",
      "2\n",
      "4\n",
      "6\n",
      "8\n"
     ]
    }
   ],
   "source": [
    "for number in range(10):\n",
    "    if number % 2 == 0: \n",
    "    # % denotes the modulo operation - the result is the remainder after dividing by 2 \n",
    "    # (i.e. 6%2 = 0, but 5%2 = 1)\n",
    "        print(number)"
   ]
  },
  {
   "cell_type": "markdown",
   "metadata": {},
   "source": [
    "Recall that we can combine multiple conditions with `and`."
   ]
  },
  {
   "cell_type": "code",
   "execution_count": 36,
   "metadata": {},
   "outputs": [
    {
     "name": "stdout",
     "output_type": "stream",
     "text": [
      "[[95, 'A'], [90, 'A'], [66, 'D'], [83, 'B'], [71, 'C'], [78, 'C'], [93, 'A'], [81, 'B'], [87, 'B'], [81, 'B']]\n"
     ]
    }
   ],
   "source": [
    "scores=[95, 90, 66, 83, 71, 78, 93, 81, 87, 81]\n",
    "grades=[]\n",
    "for score in scores:\n",
    "    if score >= 90:\n",
    "        grade = \"A\"\n",
    "    elif score >= 80:\n",
    "        grade = \"B\"\n",
    "    elif score >= 70 and score < 80:\n",
    "        grade = \"C\"\n",
    "    elif score >= 60 and score < 70:\n",
    "        grade = \"D\"\n",
    "    else:\n",
    "        grade = \"F\"\n",
    "    grades.append([score, grade])       \n",
    "print(grades)"
   ]
  },
  {
   "cell_type": "markdown",
   "metadata": {},
   "source": [
    "<center>\n",
    "<h4>Exercises</h4>\n",
    "</center>\n",
    "\n",
    "1. Why do I only specify `score >= 80` etc. in the `elif` statements? Can any of these conditionals be simplified?\n",
    "2. How many numbers between 1 and 100 are divisible by 7?\n",
    "3. Make a new list of NATO codes keeping only those that use the letter \"a\" in their *code*."
   ]
  },
  {
   "cell_type": "markdown",
   "metadata": {},
   "source": [
    "?? DELETE all of this on Breaks??\n",
    "\n",
    "### Breaks\n",
    "\n",
    "We can use the break statement with a conditional to stop the loop if a certain condition occurs.\n",
    "\n",
    "First, lets get some new functions from a package called `random`.  \n",
    "* `from random import choices,seed` makes the functions `choices` and `seed` from the `random` package available in our Python session.  We already have `random` because it is part of the [Python Standard Library](https://docs.python.org/3/library/index.html)\n",
    "* `choices(population=range(100), k=50)` will sample 50 random numbers (with replacement) from the numbers 0-99.  \n",
    "* `seed(1234)` locks the pseudo-random number generator so your results should match mine - try running this again without `seed`!\n",
    "\n",
    "You can read more about the functions in the `random` package [here](https://docs.python.org/3/library/random.html).  We'll revisit packages later on."
   ]
  },
  {
   "cell_type": "code",
   "execution_count": 37,
   "metadata": {},
   "outputs": [
    {
     "name": "stdout",
     "output_type": "stream",
     "text": [
      "[96, 44, 0, 91, 93, 58, 67, 8, 76, 23, 3, 78, 34, 62, 61, 14, 18, 11, 1, 48, 96, 6, 54, 46, 60, 8, 57, 26, 55, 64, 48, 35, 24, 93, 45, 53, 1, 50, 0, 14, 47, 37, 5, 58, 16, 55, 14, 93, 77, 95]\n"
     ]
    }
   ],
   "source": [
    "from random import choices,seed \n",
    "\n",
    "seed(1234)\n",
    "\n",
    "test=choices(population=range(100), k=50)\n",
    "print(test)"
   ]
  },
  {
   "cell_type": "code",
   "execution_count": 38,
   "metadata": {},
   "outputs": [
    {
     "name": "stdout",
     "output_type": "stream",
     "text": [
      "This number is too low: 0\n",
      "140\n"
     ]
    }
   ],
   "source": [
    "total = 0\n",
    "for number in test:\n",
    "    if number > 10:\n",
    "        total=total+number\n",
    "    else:\n",
    "        print(\"This number is too low:\",number)\n",
    "        break\n",
    "print(total)"
   ]
  },
  {
   "cell_type": "markdown",
   "metadata": {},
   "source": [
    "?? DELETE try/except ??\n",
    "\n",
    "### Try / Except - Robustness\n",
    "\n",
    "Errors and warnings are very common while developing code, and an important part of the learning process.  In some cases, they can also be useful in designing an algorithm.  For example, suppose we have a stream of user entered data that is supposed to contain the user's age in years.  You might expect to get a few errors or nonsense entries."
   ]
  },
  {
   "cell_type": "code",
   "execution_count": 39,
   "metadata": {},
   "outputs": [],
   "source": [
    "user_ages=[\"34\", \"27\", \"54\", \"19\", \"giraffe\", \"15\", \"83\", \"61\", \"43\", \"91\", \"sixteen\"]"
   ]
  },
  {
   "cell_type": "markdown",
   "metadata": {},
   "source": [
    "It would be useful to convert these values to a numeric type to get the average age of our users, but we want to build something that can set non-numeric values aside.  We can attempt to convert to numeric and give Python instructions for errors with a `try`-`except` statement:"
   ]
  },
  {
   "cell_type": "code",
   "execution_count": 40,
   "metadata": {},
   "outputs": [
    {
     "name": "stdout",
     "output_type": "stream",
     "text": [
      "[34, 27, 54, 19, 15, 83, 61, 43, 91]\n",
      "['giraffe', 'sixteen']\n"
     ]
    }
   ],
   "source": [
    "ages = []\n",
    "problems = []\n",
    "\n",
    "for age in user_ages:\n",
    "    try:\n",
    "        a = int(age)\n",
    "        ages.append(a)\n",
    "    except:\n",
    "        problems.append(age)\n",
    "        \n",
    "print(ages)\n",
    "print(problems)"
   ]
  },
  {
   "cell_type": "markdown",
   "metadata": {},
   "source": [
    "## More Data Types\n",
    "\n",
    "\n",
    "Earlier, we introduced a number of important data structures in Python: string and numeric types, as well as lists.  We used indexing to specify particular parts of the sequential objects - strings and lists.  Here we introduce dictionaries, which provide a useful alternative format for some types of information.  List and dictionary comprehensions provide a more succinct way to generate lists and dictionaries. \n",
    "\n",
    "### Dictionaries\n",
    "\n",
    "Dictionaries provide a \"mapping object\"; instead of an index, they used named \"keys\" to organized data.  Dictionaries also benefit from faster performance than lists in most cases, due to their use of <a href=\"https://en.wikipedia.org/wiki/Hash_table\">hash tables</a>.  \n",
    "\n",
    "A dictionary is defined as follows:"
   ]
  },
  {
   "cell_type": "code",
   "execution_count": 41,
   "metadata": {},
   "outputs": [
    {
     "data": {
      "text/plain": [
       "dict"
      ]
     },
     "execution_count": 41,
     "metadata": {},
     "output_type": "execute_result"
    }
   ],
   "source": [
    "class_dict = {\"course\":\"Python II\", \"location\":\"Davis Library\", \"time\":\"4pm\"}\n",
    "type(class_dict)"
   ]
  },
  {
   "cell_type": "markdown",
   "metadata": {},
   "source": [
    "In this case, `\"course\"`, `\"location\"`, and `\"time\"` serve as the \"keys\" for this dictionary.  Keys play a similar role to the indices we use for lists (or strings).  We can print a particular value by placing its key in the same square brackets `[]` used by list indices."
   ]
  },
  {
   "cell_type": "code",
   "execution_count": 42,
   "metadata": {},
   "outputs": [
    {
     "name": "stdout",
     "output_type": "stream",
     "text": [
      "Davis Library\n"
     ]
    }
   ],
   "source": [
    "print(class_dict[\"location\"])"
   ]
  },
  {
   "cell_type": "markdown",
   "metadata": {},
   "source": [
    "A numeric index **will not** work with dictionaries.\n",
    "\n",
    "We can also generate a list of all of the keys for a dictionary using the `.keys()` method. "
   ]
  },
  {
   "cell_type": "code",
   "execution_count": 43,
   "metadata": {},
   "outputs": [
    {
     "name": "stdout",
     "output_type": "stream",
     "text": [
      "dict_keys(['course', 'location', 'time'])\n"
     ]
    }
   ],
   "source": [
    "print(class_dict.keys())"
   ]
  },
  {
   "cell_type": "markdown",
   "metadata": {},
   "source": [
    "### Comprehensions\n",
    "\n",
    "Python provides some shortcuts to generating lists and dictionaries, especially those that you might (now) generate with a list.  For example, let's generate a list of the square of each number from 1 to 15."
   ]
  },
  {
   "cell_type": "code",
   "execution_count": 44,
   "metadata": {},
   "outputs": [
    {
     "name": "stdout",
     "output_type": "stream",
     "text": [
      "[1, 4, 9, 16, 25, 36, 49, 64, 81, 100, 121, 144, 169, 196, 225]\n"
     ]
    }
   ],
   "source": [
    "squares=[]\n",
    "for n in range(1, 16):\n",
    "    squares.append(n**2)\n",
    "print(squares)"
   ]
  },
  {
   "cell_type": "markdown",
   "metadata": {},
   "source": [
    "Using a \"comprehension\", we can shorten this to a single line, effectively bringing the loop inside the `[]` used to define the list."
   ]
  },
  {
   "cell_type": "code",
   "execution_count": 45,
   "metadata": {},
   "outputs": [
    {
     "name": "stdout",
     "output_type": "stream",
     "text": [
      "[1, 4, 9, 16, 25, 36, 49, 64, 81, 100, 121, 144, 169, 196, 225]\n"
     ]
    }
   ],
   "source": [
    "squares=[x**2 for x in range(1, 16)]\n",
    "print(squares)"
   ]
  },
  {
   "cell_type": "markdown",
   "metadata": {},
   "source": [
    "The same general format holds for defining dictionaries."
   ]
  },
  {
   "cell_type": "code",
   "execution_count": 46,
   "metadata": {},
   "outputs": [
    {
     "name": "stdout",
     "output_type": "stream",
     "text": [
      "{1: 1, 2: 4, 3: 9, 4: 16, 5: 25, 6: 36, 7: 49, 8: 64, 9: 81, 10: 100, 11: 121, 12: 144, 13: 169, 14: 196, 15: 225}\n"
     ]
    }
   ],
   "source": [
    "squaresdict={k:k**2 for k in range(1, 16)}\n",
    "print(squaresdict)"
   ]
  },
  {
   "cell_type": "markdown",
   "metadata": {},
   "source": [
    "We can include conditional statements at the end of the comprehension to build more flexible comprehensions."
   ]
  },
  {
   "cell_type": "code",
   "execution_count": 47,
   "metadata": {},
   "outputs": [
    {
     "name": "stdout",
     "output_type": "stream",
     "text": [
      "['the', 'quick', 'brown', 'fox', 'jumped', 'over', 'the', 'lazy', 'dog']\n",
      "['quick', 'brown', 'jumped']\n"
     ]
    }
   ],
   "source": [
    "sentence=\"the quick brown fox jumped over the lazy dog\"\n",
    "sentence=sentence.split(\" \") #splits the string into a list with each space\n",
    "print(sentence)\n",
    "print([w for w in sentence if len(w)>4])"
   ]
  },
  {
   "cell_type": "markdown",
   "metadata": {},
   "source": [
    "## Review\n",
    "\n",
    "So far, we've introduced:\n",
    "\n",
    "* Numeric types (`int`, `float`): \n",
    "```\n",
    "my_int = 4\n",
    "```\n",
    "* Strings (`str`): \n",
    "```\n",
    "my_string = \"cat\"\n",
    "```\n",
    "* Lists (`list`): \n",
    "```\n",
    "my_list = [my_int, my_string]\n",
    "```\n",
    "* Dictionaries (`dict`):\n",
    "```\n",
    "my_dict = {'course': 'Python', 'duration': 2} \n",
    "```\n",
    "* For loops:\n",
    "```\n",
    "for k in range(10):\n",
    "    print(k)\n",
    "```\n",
    "* Conditionals\n",
    "```\n",
    "if my_string == \"cat\":\n",
    "    print(\"This is a cat!\")\n",
    "else:\n",
    "    print(\"This is not a cat!\")\n",
    "```"
   ]
  },
  {
   "cell_type": "markdown",
   "metadata": {},
   "source": [
    "## Pseudocode and Comments\n",
    "\n",
    "### Pseudocode\n",
    "\n",
    "\n",
    "As you get started coding in Python, there will be many many tasks and steps you aren't familiar with!  As you learn new functions and approaches, you'll become better and better at searching for help online and reviewing documentation.  Learning to write and use pseudocode where appropriate can help organize your plan for any individual script.\n",
    "\n",
    "Pseudocode is essentially a first draft of your code, written in English for **human consumption**, though with the tools of your programming language in mind.  For example, we might write pseudocode for extracting text from pdf files as:\n",
    "\n",
    "    1. Set Working Directory (tell the computer where we've saved our files)\n",
    "    2. Loop through each pdf in the directory:\n",
    "        * open the pdf file\n",
    "        * extract text\n",
    "        * check length of text extracted\n",
    "            * if length is zero: add to problems list\n",
    "            * otherwise, add to output file\n",
    "    3. Write output file(s)\n",
    "\n",
    "This process can divide a complicated task into more digestible parts.  You may not know how to open a pdf file or extract text from it, but you'll often have better luck finding existing help online on smaller tasks like these than with your overall goal or project.\n",
    "\n",
    "<center>\n",
    "<h4>Exercises</h4>\n",
    "</center>\n",
    "\n",
    "1. Write pseudocode to summarize the following code:"
   ]
  },
  {
   "cell_type": "code",
   "execution_count": 48,
   "metadata": {},
   "outputs": [],
   "source": [
    "random_words=[\"statement\", \"toy\", \"cars\", \"shoes\", \"ear\", \"busy\", \n",
    "              \"magnificent\", \"brainy\", \"healthy\", \"narrow\", \"join\", \n",
    "              \"decay\", \"dashing\", \"river\", \"gather\", \"stop\", \"satisfying\", \n",
    "              \"holistic\", \"reply\", \"steady\", \"event\", \"house\", \"amused\", \n",
    "              \"soak\", \"increase\"]\n",
    "\n",
    "vowels=[\"a\", \"e\", \"i\", \"o\", \"u\", \"y\"]\n",
    "\n",
    "output=[]\n",
    "\n",
    "for word in random_words:\n",
    "    count = 0\n",
    "    for char in word:\n",
    "        if char in vowels:\n",
    "            count = count + 1\n",
    "    if count >= 3:\n",
    "        output.append([word, count])"
   ]
  },
  {
   "cell_type": "markdown",
   "metadata": {},
   "source": [
    "2. Write pseudocode to check an arbitrary list of numbers, `my_numbers`, to find all even numbers and convert them to odd numbers by adding one.  Put the resulting numbers into a new list `my_numbers2`.  (Recall `for` loops ,`if` conditions, and the modulo function `%` from Python 1.)\n",
    "\n",
    "### Comments\n",
    "\n",
    "Recall that Python ignores anything following a `#` as a comment.  Comments are a vital part of your code, as they leave notes about how or why you're doing something.  As you gain experience, you'll use comments in different ways.\n",
    "\n",
    "Comments can also provide a link between pseudocode and real code.  Once you've written your pseudocode, use comments to put the major steps into your code file itself.  Then fill in the gaps with actual code as you figure it out.\n",
    "\n",
    "Here's a possible answer to the previous exercise."
   ]
  },
  {
   "cell_type": "code",
   "execution_count": 49,
   "metadata": {},
   "outputs": [],
   "source": [
    "#1. Get or define the list my_numbers\n",
    "my_numbers=list(range(100))\n",
    "\n",
    "#2. Create an empty list for the new all-odd numbers, called my_numbers2.\n",
    "\n",
    "#3. Use a loop to iterate through the list of numbers\n",
    "\n",
    "    #3a. For a given number check to see if it is even.\n",
    "    \n",
    "    #3b. If the number is even, add 1.\n",
    "    \n",
    "    #3c. Append the resulting number to the my_numbers2 list."
   ]
  },
  {
   "cell_type": "markdown",
   "metadata": {},
   "source": [
    "<center>\n",
    "<h4>Exercise</h4>\n",
    "</center>\n",
    "\n",
    "1. Use your own pseudocode or the example above as an outline to fill in with Python code.  Test your code with the `my_numbers` object defined above."
   ]
  },
  {
   "cell_type": "markdown",
   "metadata": {},
   "source": [
    "## User-defined Functions\n",
    "\n",
    "While Python (and its available packages) provide a wide variety of functions, sometimes it's useful to create your own.  Python's syntax for defining a function is as follows:\n",
    "\n",
    "```\n",
    "def <function_name> ( <arguments> ):\n",
    "    <code depending on arguments>\n",
    "    return <value>\n",
    "        \n",
    "```\n",
    "\n",
    "The `mean` function below returns the mean of a list of numbers.  (Base Python does not include a function for the mean.)"
   ]
  },
  {
   "cell_type": "code",
   "execution_count": 50,
   "metadata": {},
   "outputs": [
    {
     "name": "stdout",
     "output_type": "stream",
     "text": [
      "25.5\n"
     ]
    }
   ],
   "source": [
    "def mean(number_list):\n",
    "    s = sum(number_list)\n",
    "    n = len(number_list)\n",
    "    m = s/n\n",
    "    return m\n",
    "\n",
    "numbers=list(range(1, 51))\n",
    "print(mean(numbers))"
   ]
  },
  {
   "cell_type": "markdown",
   "metadata": {},
   "source": [
    "<h2> Example Code</h2>Let's illustrate a lot of these techniques with a concrete example. We will read in a data file containing information on covide deaths in the United States that is in CSV format. The data looks like this: \n",
    "\n",
    "\n",
    "![covid19sample.data](images/covid19.sample.data.png)\n",
    "\n",
    "We want to read the day for each week and tally up the COVID deaths for Female, Male and All by week but disregarding the age.\n"
   ]
  },
  {
   "cell_type": "markdown",
   "metadata": {},
   "source": [
    "First let's import some modules."
   ]
  },
  {
   "cell_type": "code",
   "execution_count": 51,
   "metadata": {},
   "outputs": [],
   "source": [
    "import sys\n",
    "import os\n",
    "import re\n",
    "import numpy as np\n",
    "#import pandas as pd\n",
    "import csv\n",
    "from collections import defaultdict \n",
    "from datetime import datetime\n",
    "\n",
    "###############################################################################\n",
    "###############################################################################\n"
   ]
  },
  {
   "cell_type": "markdown",
   "metadata": {},
   "source": [
    "Now let's set our input data file name and read it in"
   ]
  },
  {
   "cell_type": "code",
   "execution_count": 52,
   "metadata": {},
   "outputs": [],
   "source": [
    "inpfile = 'Provisional_COVID-19_Death_Counts_by_Sex__Age__and_Week.csv'\n",
    "INPFILE = open(inpfile)\n",
    "\n",
    "# read in the file as a CSV file\n",
    "reader = csv.reader(INPFILE, delimiter=',',)\n"
   ]
  },
  {
   "cell_type": "markdown",
   "metadata": {},
   "source": [
    "Now let's loop over the rows again and count up COVID deaths by week and gender. We want to accumulate all the ages by sex of all, female,\n",
    "or male. We will use a dictionary with the week as the unique key (Note however that this is an unordered list)\n",
    "\n",
    "Also note that row is a list and is indexed from 0 to 7, one index for each column. We are interested in columns 3, 4, and 7 namely \n",
    "\"Week ending Date\", Sex, and COVID-19 deaths. To make it easier keep track of these let's give them names."
   ]
  },
  {
   "cell_type": "code",
   "execution_count": 53,
   "metadata": {},
   "outputs": [
    {
     "name": "stdout",
     "output_type": "stream",
     "text": [
      "no match: ['Data as of', 'State', 'MMWR Week', 'Week ending Date', 'Sex', 'Age Group', 'Total Deaths', 'COVID-19 Deaths']\n"
     ]
    }
   ],
   "source": [
    "date=3\n",
    "sex=4\n",
    "covid=7\n",
    "covidDeathsAll = defaultdict(int)\n",
    "covidDeathsFemale = defaultdict(int)\n",
    "covidDeathsMale = defaultdict(int)\n",
    "\n",
    "# now loop\n",
    "for row in reader:\n",
    "    if row[sex] == \"All Sex\":\n",
    "        covidDeathsAll[row[date]] += int(row[covid])\n",
    "    elif row[sex] == \"Female\":\n",
    "        covidDeathsFemale[row[date]] += int(row[covid])\n",
    "    elif row[sex] == \"Male\":\n",
    "        covidDeathsMale[row[date]] += int(row[covid])\n",
    "    else :\n",
    "        print (\"no match:\",row)"
   ]
  },
  {
   "cell_type": "code",
   "execution_count": 54,
   "metadata": {},
   "outputs": [
    {
     "name": "stdout",
     "output_type": "stream",
     "text": [
      "   Week    Female Male All\n",
      "02/01/2020 0 0 0\n",
      "02/08/2020 1 0 1\n",
      "02/15/2020 0 0 0\n",
      "02/22/2020 3 2 5\n",
      "02/29/2020 4 5 9\n",
      "03/07/2020 15 20 35\n",
      "03/14/2020 29 23 52\n",
      "03/21/2020 216 356 572\n",
      "03/28/2020 1243 1909 3152\n",
      "04/04/2020 3988 6015 10003\n",
      "04/11/2020 6959 9196 16155\n",
      "04/18/2020 7779 9257 17036\n",
      "04/25/2020 7317 8080 15397\n",
      "05/02/2020 6353 6760 13113\n",
      "05/09/2020 5386 5752 11138\n",
      "05/16/2020 4669 4467 9136\n",
      "05/23/2020 3479 3650 7129\n",
      "05/30/2020 2975 3109 6084\n",
      "06/06/2020 2437 2520 4957\n",
      "06/13/2020 1994 2166 4160\n",
      "06/20/2020 1821 1945 3766\n",
      "06/27/2020 1762 1960 3722\n",
      "07/04/2020 1964 2402 4366\n",
      "07/11/2020 2407 3080 5487\n",
      "07/18/2020 2959 3810 6769\n",
      "07/25/2020 3388 4162 7550\n",
      "08/01/2020 3117 4035 7152\n",
      "08/08/2020 2833 3568 6401\n",
      "08/15/2020 2162 2574 4736\n",
      "08/22/2020 1013 1096 2109\n",
      "08/29/2020 168 202 370\n"
     ]
    }
   ],
   "source": [
    "# pretty print the results\n",
    "print (\"   Week   \", \"Female\", \"Male\", \"All\")\n",
    "for key in covidDeathsAll:\n",
    "    print (key, covidDeathsFemale[key], covidDeathsMale[key], covidDeathsAll[key])\n"
   ]
  },
  {
   "cell_type": "code",
   "execution_count": 55,
   "metadata": {},
   "outputs": [
    {
     "name": "stdout",
     "output_type": "stream",
     "text": [
      "week of max deaths 04/18/2020\n",
      "week of max female deaths 04/18/2020\n",
      "week of max male deaths 04/18/2020\n"
     ]
    }
   ],
   "source": [
    "print (\"week of max deaths\",max(covidDeathsAll, key=covidDeathsAll.get))\n",
    "print (\"week of max female deaths\",max(covidDeathsAll, key=covidDeathsFemale.get))\n",
    "print (\"week of max male deaths\",max(covidDeathsAll, key=covidDeathsMale.get))"
   ]
  },
  {
   "cell_type": "code",
   "execution_count": 56,
   "metadata": {},
   "outputs": [
    {
     "name": "stdout",
     "output_type": "stream",
     "text": [
      "Total Deaths:  170562 \n",
      "Total Female Deaths:  78441 \n",
      "Total Male Deaths:  92121\n"
     ]
    }
   ],
   "source": [
    "# use the values method to get a list of the dictionary values\n",
    "#values = covidDeathsAll.values()\n",
    "print(\"Total Deaths: \", sum(covidDeathsAll.values()), \"\\n\"\n",
    "      \"Total Female Deaths: \", sum(covidDeathsFemale.values()),\"\\n\" \n",
    "      \"Total Male Deaths: \", sum(covidDeathsMale.values()))"
   ]
  },
  {
   "cell_type": "code",
   "execution_count": 59,
   "metadata": {},
   "outputs": [
    {
     "name": "stdout",
     "output_type": "stream",
     "text": [
      "['02/01/2020', '02/08/2020', '02/15/2020', '02/22/2020', '02/29/2020', '03/07/2020', '03/14/2020', '03/21/2020', '03/28/2020', '04/04/2020', '04/11/2020', '04/18/2020', '04/25/2020', '05/02/2020', '05/09/2020', '05/16/2020', '05/23/2020', '05/30/2020', '06/06/2020', '06/13/2020', '06/20/2020', '06/27/2020', '07/04/2020', '07/11/2020', '07/18/2020', '07/25/2020', '08/01/2020', '08/08/2020', '08/15/2020', '08/22/2020', '08/29/2020']\n",
      "[datetime.datetime(2020, 2, 1, 0, 0), datetime.datetime(2020, 2, 8, 0, 0), datetime.datetime(2020, 2, 15, 0, 0), datetime.datetime(2020, 2, 22, 0, 0), datetime.datetime(2020, 2, 29, 0, 0), datetime.datetime(2020, 3, 7, 0, 0), datetime.datetime(2020, 3, 14, 0, 0), datetime.datetime(2020, 3, 21, 0, 0), datetime.datetime(2020, 3, 28, 0, 0), datetime.datetime(2020, 4, 4, 0, 0), datetime.datetime(2020, 4, 11, 0, 0), datetime.datetime(2020, 4, 18, 0, 0), datetime.datetime(2020, 4, 25, 0, 0), datetime.datetime(2020, 5, 2, 0, 0), datetime.datetime(2020, 5, 9, 0, 0), datetime.datetime(2020, 5, 16, 0, 0), datetime.datetime(2020, 5, 23, 0, 0), datetime.datetime(2020, 5, 30, 0, 0), datetime.datetime(2020, 6, 6, 0, 0), datetime.datetime(2020, 6, 13, 0, 0), datetime.datetime(2020, 6, 20, 0, 0), datetime.datetime(2020, 6, 27, 0, 0), datetime.datetime(2020, 7, 4, 0, 0), datetime.datetime(2020, 7, 11, 0, 0), datetime.datetime(2020, 7, 18, 0, 0), datetime.datetime(2020, 7, 25, 0, 0), datetime.datetime(2020, 8, 1, 0, 0), datetime.datetime(2020, 8, 8, 0, 0), datetime.datetime(2020, 8, 15, 0, 0), datetime.datetime(2020, 8, 22, 0, 0), datetime.datetime(2020, 8, 29, 0, 0)]\n",
      "[0, 1, 0, 5, 9, 35, 52, 572, 3152, 10003, 16155, 17036, 15397, 13113, 11138, 9136, 7129, 6084, 4957, 4160, 3766, 3722, 4366, 5487, 6769, 7550, 7152, 6401, 4736, 2109, 370]\n"
     ]
    }
   ],
   "source": [
    "weeks = list(covidDeathsAll.keys())\n",
    "print (weeks)\n",
    "# convert to datetime objects using list comprehension\n",
    "format = '%m/%d/%Y'\n",
    "weeksDatetime = [ datetime.strptime(date, format)  for date in weeks ]\n",
    "print (weeksDatetime)\n",
    "values=list(covidDeathsAll.values())\n",
    "print (values)"
   ]
  },
  {
   "cell_type": "code",
   "execution_count": 63,
   "metadata": {},
   "outputs": [
    {
     "data": {
      "image/png": "[encoded data removed]",
      "text/plain": [
       "<Figure size 720x216 with 1 Axes>"
      ]
     },
     "metadata": {
      "needs_background": "light"
     },
     "output_type": "display_data"
    }
   ],
   "source": [
    "import seaborn as sns\n",
    "import matplotlib.pyplot as plt\n",
    "y=[list(covidDeathsFemale.values()), list(covidDeathsMale.values()), list(covidDeathsAll.values())]\n",
    "plt.stackplot(weeksDatetime,y, labels=['Female','Male','All'])\n",
    "plt.legend(loc='upper left')\n",
    "plt.title(\"COVID Deaths\", fontsize = 20) \n",
    "plt.xlabel(\"Week\", fontsize = 15)\n",
    "plt.ylabel(\"Deaths\", fontsize = 15)\n",
    "#plt.figure(figsize=(4,1))\n",
    "plt.rcParams['figure.figsize'] = [12,4]\n",
    "plt.show()\n"
   ]
  },
  {
   "cell_type": "code",
   "execution_count": null,
   "metadata": {},
   "outputs": [],
   "source": []
  },
  {
   "cell_type": "code",
   "execution_count": null,
   "metadata": {},
   "outputs": [],
   "source": []
  },
  {
   "cell_type": "code",
   "execution_count": null,
   "metadata": {},
   "outputs": [],
   "source": []
  },
  {
   "cell_type": "markdown",
   "metadata": {},
   "source": [
    "\n",
    "\n",
    "\n",
    "\n",
    "\n",
    "\n",
    "\n",
    "\n",
    "\n",
    "\n",
    "\n",
    "?? revise this ??\n",
    "\n",
    "## Coming up\n",
    "\n",
    "* Loading and Using Packages\n",
    "* Reading and writing external files\n",
    "* Survey of useful packages for Data Science\n",
    "* Introduction to pandas\n",
    "* Jupyter Notebooks\n",
    "\n",
    "### Getting Ready\n",
    "\n",
    "* If do not have Anaconda downloaded yet, please do so (see [Setup](../Setup.html)) since some of the material ahead cannot be completed using pyfiddle. If you are having trouble with installing or need to borrow a computer for the workshop, see one of the instructors!\n",
    "\n",
    "* I'm available for one-on-one consultations on Python if you need help.  [Contact me here.](http://guides.lib.unc.edu/mattjansen)\n",
    "\n",
    "### Questions?\n",
    "\n",
    "Please feel free to share any ideas or topics you'd like to see covered.  \n",
    "\n",
    "You can also share ideas while filling out our [**Feedback Survey**](https://unc.libsurveys.com/davishubfeedback).\n",
    "\n",
    "\n",
    "Thanks for coming!"
   ]
  },
  {
   "cell_type": "markdown",
   "metadata": {},
   "source": [
    "## References and Resources\n",
    "\n",
    "* [Automate the Boring Stuff with Python](https://automatetheboringstuff.com/)\n",
    "\n",
    "* [Python Cheatsheets](https://ehmatthes.github.io/pcc/cheatsheets/README.html)\n",
    "\n",
    "* [Python Programming for the Humanities](http://www.karsdorp.io/python-course/)\n",
    "\n",
    "* [Python Data Science Handbook](https://jakevdp.github.io/PythonDataScienceHandbook/)  This free ebook emphasizes Numpy, Scipy, Matplotlib, Pandas and other data analysis packages in Python, assuming some familiarity with the basic principles of the language.\n",
    "    + [Whirlwind Tour of Python](https://nbviewer.jupyter.org/github/jakevdp/WhirlwindTourOfPython/blob/master/Index.ipynb)\n",
    "\n",
    "* [Stack Overflow](https://stackoverflow.com/questions/tagged/python-3.x?sort=frequent&pageSize=15)\n",
    "\n",
    "* [Google!](https://www.google.com/)\n",
    "\n"
   ]
  }
 ],
 "metadata": {
  "anaconda-cloud": {},
  "kernelspec": {
   "display_name": "Python 3",
   "language": "python",
   "name": "python3"
  },
  "language_info": {
   "codemirror_mode": {
    "name": "ipython",
    "version": 3
   },
   "file_extension": ".py",
   "mimetype": "text/x-python",
   "name": "python",
   "nbconvert_exporter": "python",
   "pygments_lexer": "ipython3",
   "version": "3.7.4"
  },
  "toc": {
   "base_numbering": 1,
   "nav_menu": {
    "height": "823px",
    "width": "482px"
   },
   "number_sections": false,
   "sideBar": true,
   "skip_h1_title": false,
   "title_cell": "Table of Contents",
   "title_sidebar": "Contents",
   "toc_cell": false,
   "toc_position": {
    "height": "calc(100% - 180px)",
    "left": "10px",
    "top": "150px",
    "width": "384px"
   },
   "toc_section_display": true,
   "toc_window_display": true
  }
 },
 "nbformat": 4,
 "nbformat_minor": 4
}
