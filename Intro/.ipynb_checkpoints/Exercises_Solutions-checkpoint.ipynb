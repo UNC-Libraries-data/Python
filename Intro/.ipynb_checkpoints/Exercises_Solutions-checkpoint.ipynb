{
 "cells": [
  {
   "cell_type": "markdown",
   "metadata": {},
   "source": [
    "# Python Exercises (Solutions)"
   ]
  },
  {
   "cell_type": "markdown",
   "metadata": {},
   "source": [
    "**Note:** <span style=\"color: gray;\">Exercises in gray are those that appear in the <a href=\"Introduction.html\" target=\"_blank\">Introduction</a>. Feel free to skip these if you have already completed them.</span>"
   ]
  },
  {
   "cell_type": "markdown",
   "metadata": {},
   "source": [
    "## Getting Started"
   ]
  },
  {
   "cell_type": "markdown",
   "metadata": {},
   "source": [
    "<a id='entering_code'></a>\n",
    "### Entering Code"
   ]
  },
  {
   "cell_type": "markdown",
   "metadata": {},
   "source": [
    "**1.** <span style=\"color: gray;\">What is 126544 squared? (Exponentiation is denoted `**`, i.e. $ 2^3 $ is `2**3` in Python).</span>"
   ]
  },
  {
   "cell_type": "code",
   "execution_count": 1,
   "metadata": {},
   "outputs": [
    {
     "data": {
      "text/plain": [
       "16013383936"
      ]
     },
     "execution_count": 1,
     "metadata": {},
     "output_type": "execute_result"
    }
   ],
   "source": [
    "126544**2"
   ]
  },
  {
   "cell_type": "markdown",
   "metadata": {},
   "source": [
    "**2.** <span style=\"color: gray;\">What is 5 divided by 0?</span>"
   ]
  },
  {
   "cell_type": "code",
   "execution_count": 2,
   "metadata": {},
   "outputs": [
    {
     "ename": "ZeroDivisionError",
     "evalue": "division by zero",
     "output_type": "error",
     "traceback": [
      "\u001b[1;31m---------------------------------------------------------------------------\u001b[0m",
      "\u001b[1;31mZeroDivisionError\u001b[0m                         Traceback (most recent call last)",
      "\u001b[1;32m<ipython-input-2-0106664d39e8>\u001b[0m in \u001b[0;36m<module>\u001b[1;34m\u001b[0m\n\u001b[1;32m----> 1\u001b[1;33m \u001b[1;36m5\u001b[0m\u001b[1;33m/\u001b[0m\u001b[1;36m0\u001b[0m\u001b[1;33m\u001b[0m\u001b[1;33m\u001b[0m\u001b[0m\n\u001b[0m",
      "\u001b[1;31mZeroDivisionError\u001b[0m: division by zero"
     ]
    }
   ],
   "source": [
    "5/0"
   ]
  },
  {
   "cell_type": "markdown",
   "metadata": {},
   "source": [
    "**3.** Mathematical operations in Python follow the standard order of operations. Parentheses in the wrong place can cause hard-to-find errors in your code. What is the difference between `6+5*10` and `(6+5)*10`?"
   ]
  },
  {
   "cell_type": "code",
   "execution_count": null,
   "metadata": {
    "scrolled": true
   },
   "outputs": [],
   "source": [
    "#Here we use \"print\" statements so that both answers will be displayed.\n",
    "print(6+5*10)\n",
    "print((6+5)*10)"
   ]
  },
  {
   "cell_type": "markdown",
   "metadata": {},
   "source": [
    "**4.** Write some code to calculate the number of minutes in a year with a comment that describes what your code does."
   ]
  },
  {
   "cell_type": "code",
   "execution_count": null,
   "metadata": {},
   "outputs": [],
   "source": [
    "#My code multiplies the days in a year by the hours in a day by the minutes in an hour.\n",
    "\n",
    "365*24*60"
   ]
  },
  {
   "cell_type": "markdown",
   "metadata": {},
   "source": [
    " **5.** What is the area of a square with a side length of 7? What is the volume of a cube with the same edge length?"
   ]
  },
  {
   "cell_type": "code",
   "execution_count": null,
   "metadata": {
    "scrolled": true
   },
   "outputs": [],
   "source": [
    "#square\n",
    "7**2"
   ]
  },
  {
   "cell_type": "code",
   "execution_count": null,
   "metadata": {},
   "outputs": [],
   "source": [
    "#cube\n",
    "7**3"
   ]
  },
  {
   "cell_type": "markdown",
   "metadata": {},
   "source": [
    "## Data Types and Variables"
   ]
  },
  {
   "cell_type": "markdown",
   "metadata": {},
   "source": [
    "<a id='strings_numbers'></a>\n",
    "### Strings and Numbers"
   ]
  },
  {
   "cell_type": "markdown",
   "metadata": {},
   "source": [
    "**1.** <span style=\"color: gray;\">Define two variables, j and k, with values 37 and 52 respectively.</span>"
   ]
  },
  {
   "cell_type": "code",
   "execution_count": null,
   "metadata": {},
   "outputs": [],
   "source": [
    "j=37\n",
    "k=52"
   ]
  },
  {
   "cell_type": "markdown",
   "metadata": {},
   "source": [
    "+  <span style=\"color: gray;\">What is the sum of `j` and `k`? The product?  Write code for each of these in the **editor window**, and run with the keyboard shortcut (refer back to Section 1. Entering Code).</span>\n",
    "![SpyderIDE with code shown below executed](https://github.com/UNC-Libraries-data/Python/raw/master/Intro/images/VarExercise2.PNG)"
   ]
  },
  {
   "cell_type": "code",
   "execution_count": null,
   "metadata": {},
   "outputs": [],
   "source": [
    "j=37\n",
    "k=52\n",
    "\n",
    "#sum\n",
    "print(j+k)\n",
    "#product\n",
    "print(j*k)"
   ]
  },
  {
   "cell_type": "markdown",
   "metadata": {},
   "source": [
    " + <span style=\"color: gray;\">Now re-assign `j` and `k` to have the vales 8 and 3 respectively.  Re-use your code from the editor to determine their sum and product.</span>"
   ]
  },
  {
   "cell_type": "code",
   "execution_count": null,
   "metadata": {},
   "outputs": [],
   "source": [
    "j=8\n",
    "k=3\n",
    "\n",
    "#sum\n",
    "print(j+k)\n",
    "#product\n",
    "print(j*k)"
   ]
  },
  {
   "cell_type": "markdown",
   "metadata": {},
   "source": [
    "**2.** Now let us calculate the number of minutes in a year again, this time using variables for each unit of time. Instead of a comment, print a statement that describes what your code does."
   ]
  },
  {
   "cell_type": "code",
   "execution_count": null,
   "metadata": {},
   "outputs": [],
   "source": [
    "DaysInYear=365\n",
    "HoursInDay=24\n",
    "MinutesInHour=60\n",
    "\n",
    "print(\"My code multiplies the DaysInYear*HoursInDay*MinutesInHour.\")\n",
    "print(DaysInYear*HoursInDay*MinutesInHour)"
   ]
  },
  {
   "cell_type": "markdown",
   "metadata": {},
   "source": [
    "* Leap Year:"
   ]
  },
  {
   "cell_type": "code",
   "execution_count": null,
   "metadata": {},
   "outputs": [],
   "source": [
    "DaysInNormalYear=365\n",
    "DaysInLeapYear=366\n",
    "HoursInDay=24\n",
    "MinutesInHour=60\n",
    "\n",
    "MinutesInNormalYear = DaysInNormalYear*HoursInDay*MinutesInHour\n",
    "MinutesInLeapYear = DaysInLeapYear*HoursInDay*MinutesInHour\n",
    "\n",
    "print(MinutesInNormalYear)\n",
    "print(MinutesInLeapYear)"
   ]
  },
  {
   "cell_type": "markdown",
   "metadata": {},
   "source": [
    "**3.** Define the variables below. Print the types of each variable. What is the sum of your variables? (*Hint:* use a type conversion function.) What datatype is the sum?\n",
    "```\n",
    "num=23\n",
    "textnum=\"57\"\n",
    "decimal=98.3\n",
    "```"
   ]
  },
  {
   "cell_type": "code",
   "execution_count": null,
   "metadata": {},
   "outputs": [],
   "source": [
    "num=23\n",
    "textnum=\"57\"\n",
    "decimal=98.3\n",
    "\n",
    "print(type(num))\n",
    "print(type(textnum))\n",
    "print(type(decimal))\n",
    "\n",
    "MySum=num+int(textnum)+decimal\n",
    "\n",
    "print(MySum)\n",
    "print(type(MySum))"
   ]
  },
  {
   "cell_type": "markdown",
   "metadata": {},
   "source": [
    "**4.** You can use the print function to print multiple variables of different types on a single line. This can be done by using comma to separate variables within the parentheses of the print function. For example: `print(variable1, variable2).` You can also print raw values that have not been assigned variables. For example, `print(\"This is variable 1: \", 67)`. \n",
    "  * For this exercise, define 5-10 numbers as variables."
   ]
  },
  {
   "cell_type": "code",
   "execution_count": null,
   "metadata": {},
   "outputs": [],
   "source": [
    "num1 = 58\n",
    "num2 = 45\n",
    "num3 = 95857\n",
    "num4 = 1\n",
    "num5 = 99\n",
    "num6 = 68\n",
    "num7 = 2"
   ]
  },
  {
   "cell_type": "markdown",
   "metadata": {},
   "source": [
    "  * Use a single `print` statement to print all of the even numbers out of your newly defined variables with the following statement, \"These are my even numbers:\". "
   ]
  },
  {
   "cell_type": "code",
   "execution_count": null,
   "metadata": {},
   "outputs": [],
   "source": [
    "print(\"These are my even numbers:\", num1, num6, num7)"
   ]
  },
  {
   "cell_type": "markdown",
   "metadata": {},
   "source": [
    "* The `+` operator in Python works with strings variables as well as numeric types - but it simply concatenates strings together one after the other.  Using `+` and the example below, write your output as a single complete sentence. (Hint: you'll probably need to use at least one type conversion function)."
   ]
  },
  {
   "cell_type": "code",
   "execution_count": null,
   "metadata": {},
   "outputs": [],
   "source": [
    "print(\"work\"+\"shop\")\n",
    "print(\"3\"+\"7\")"
   ]
  },
  {
   "cell_type": "code",
   "execution_count": null,
   "metadata": {},
   "outputs": [],
   "source": [
    "print(\"The even numbers out my newly defined variables are \" + str(num1) + \", \" + str(num6) + \", and \" + str(num7) + \".\")"
   ]
  },
  {
   "cell_type": "markdown",
   "metadata": {},
   "source": [
    "<a id='lists'></a>\n",
    "### Lists"
   ]
  },
  {
   "cell_type": "markdown",
   "metadata": {},
   "source": [
    "**1.** <span style=\"color: gray;\">Create a list of:</span>\n",
    "   * <span style=\"color: gray;\">your favorite color (str)</span>\n",
    "   * <span style=\"color: gray;\">your two favorite holidays (list)</span>\n",
    "    \n",
    "    <span style=\"color: gray;\">For example:</span>\n",
    "    `[\"red\",[\"Halloween\",\"New Years\"]]`"
   ]
  },
  {
   "cell_type": "code",
   "execution_count": null,
   "metadata": {},
   "outputs": [],
   "source": [
    "MyList = [\"red\",[\"Halloween\", \"New Years\"]]"
   ]
  },
  {
   "cell_type": "markdown",
   "metadata": {},
   "source": [
    "**2.** <span style=\"color: gray;\">Then append the number of pets you have (int) as a new list item. Print your new list.</span>"
   ]
  },
  {
   "cell_type": "code",
   "execution_count": null,
   "metadata": {},
   "outputs": [],
   "source": [
    "MyList.append(3)\n",
    "print(MyList)"
   ]
  },
  {
   "cell_type": "markdown",
   "metadata": {},
   "source": [
    "**3.** Create a list that includes the number of days in a normal year as well as the number of days in a leap year. Now create a separate list that includes the number of hours in a day as well as the number of minutes in an hour. Append your first list to your second list. Your final list should look something like this:\n",
    "   * Number of hours in a day (int)\n",
    "   * Number of minutes in an hour (int)\n",
    "   * List that includes the number of days in a normal year as well as the number of days in a leap year (list)"
   ]
  },
  {
   "cell_type": "code",
   "execution_count": null,
   "metadata": {},
   "outputs": [],
   "source": [
    "list1=[365, 366]\n",
    "list2=[24, 60]\n",
    "list2.append(list1)\n",
    "\n",
    "print(list2)"
   ]
  },
  {
   "cell_type": "markdown",
   "metadata": {},
   "source": [
    "<a id='indexing'></a>\n",
    "### Indexing"
   ]
  },
  {
   "cell_type": "markdown",
   "metadata": {},
   "source": [
    "**1.** <span style=\"color: gray;\">Try to use indexing to get the tenth digit of `my_pi` as defined below.  Does it work as defined?  Do we need to change the variable somehow?</span>\n",
    "```\n",
    "my_pi=3.141592653589793\n",
    "```"
   ]
  },
  {
   "cell_type": "code",
   "execution_count": null,
   "metadata": {},
   "outputs": [],
   "source": [
    "my_pi=3.141592653589793\n",
    "print(my_pi[10])"
   ]
  },
  {
   "cell_type": "markdown",
   "metadata": {},
   "source": [
    "* <span style=\"color: gray;\">This error means that you cannot access digits in a float in the same way that you can access characters in a string or indices in a list. You can access individual digits by converting the variable to a string before 'slicing' it into individual elements.</span>"
   ]
  },
  {
   "cell_type": "code",
   "execution_count": null,
   "metadata": {},
   "outputs": [],
   "source": [
    "my_pi=3.141592653589793\n",
    "my_pi=str(my_pi)\n",
    "print(my_pi[10])\n",
    "#Note that we access the 10th digit using the number 10, rather than 9. This is because there is\n",
    "#a decimal point at my_pi[1]."
   ]
  },
  {
   "cell_type": "markdown",
   "metadata": {},
   "source": [
    "**2.** <span style=\"color: gray;\">Below is a list of lists containing the NATO phonetic codes for each letter of the alphabet.  Each list within `nato` contains a letter of the alphabet and its corresponding code.</span>\n",
    "```\n",
    "nato = [[\"A\", \"Alfa\"],\n",
    "          [\"B\", \"Bravo\"],\n",
    "          [\"C\", \"Charlie\"],\n",
    "          [\"D\", \"Delta\"],\n",
    "          [\"E\", \"Echo\"],\n",
    "          [\"F\", \"Foxtrot\"],\n",
    "          [\"G\", \"Golf\"],\n",
    "          [\"H\", \"Hotel\"],\n",
    "          [\"I\", \"India\"],\n",
    "          [\"J\", \"Juliett\"],\n",
    "          [\"K\", \"Kilo\"],\n",
    "          [\"L\", \"Lima\"],\n",
    "          [\"M\", \"Mike\"],\n",
    "          [\"N\", \"November\"],\n",
    "          [\"O\", \"Oscar\"],\n",
    "          [\"P\", \"Papa\"],\n",
    "          [\"Q\", \"Quebec\"],\n",
    "          [\"R\", \"Romeo\"],\n",
    "          [\"S\", \"Sierra\"],\n",
    "          [\"T\", \"Tango\"],\n",
    "          [\"U\", \"Uniform\"],\n",
    "          [\"V\", \"Victor\"],\n",
    "          [\"W\", \"Whiskey\"],\n",
    "          [\"X\", \"X-ray\"],\n",
    "          [\"Y\", \"Yankee\"],\n",
    "          [\"Z\", \"Zulu\"]]\n",
    "```\n",
    "\n",
    "   * <span style=\"color: gray;\">What is the fifteenth letter of the alphabet?</span>\n",
    "   * <span style=\"color: gray;\">What is the code for the twenty-third letter of the alphabet?</span>\n",
    "   * <span style=\"color: gray;\">What is the fourth letter of the code for the eighth letter of the alphabet?</span>"
   ]
  },
  {
   "cell_type": "code",
   "execution_count": 3,
   "metadata": {},
   "outputs": [
    {
     "name": "stdout",
     "output_type": "stream",
     "text": [
      "O\n",
      "Whiskey\n",
      "e\n"
     ]
    }
   ],
   "source": [
    "nato = [[\"A\", \"Alfa\"],\n",
    "          [\"B\", \"Bravo\"],\n",
    "          [\"C\", \"Charlie\"],\n",
    "          [\"D\", \"Delta\"],\n",
    "          [\"E\", \"Echo\"],\n",
    "          [\"F\", \"Foxtrot\"],\n",
    "          [\"G\", \"Golf\"],\n",
    "          [\"H\", \"Hotel\"],\n",
    "          [\"I\", \"India\"],\n",
    "          [\"J\", \"Juliett\"],\n",
    "          [\"K\", \"Kilo\"],\n",
    "          [\"L\", \"Lima\"],\n",
    "          [\"M\", \"Mike\"],\n",
    "          [\"N\", \"November\"],\n",
    "          [\"O\", \"Oscar\"],\n",
    "          [\"P\", \"Papa\"],\n",
    "          [\"Q\", \"Quebec\"],\n",
    "          [\"R\", \"Romeo\"],\n",
    "          [\"S\", \"Sierra\"],\n",
    "          [\"T\", \"Tango\"],\n",
    "          [\"U\", \"Uniform\"],\n",
    "          [\"V\", \"Victor\"],\n",
    "          [\"W\", \"Whiskey\"],\n",
    "          [\"X\", \"X-ray\"],\n",
    "          [\"Y\", \"Yankee\"],\n",
    "          [\"Z\", \"Zulu\"]]\n",
    "\n",
    "# 3. - 15th letter is: [\"O\", \"Oscar\"]\n",
    "print(nato[14][0])\n",
    "\n",
    "# 4. - 23rd letter is: [\"W\", Whiskey]\n",
    "print(nato[22][1])\n",
    "\n",
    "# 5. - 8th letter is: [\"H\", \"Hotel\"]\n",
    "print(nato[7][1][3])\n"
   ]
  },
  {
   "cell_type": "markdown",
   "metadata": {},
   "source": [
    "**3.** Let's perform some more minutes-in-year calculations . Using the lists you created above, calculate and print the number of minutes in a normal year. Now calculate and print the number of minutes in a leap year. Print your results."
   ]
  },
  {
   "cell_type": "code",
   "execution_count": 4,
   "metadata": {},
   "outputs": [
    {
     "name": "stdout",
     "output_type": "stream",
     "text": [
      "525600\n",
      "527040\n"
     ]
    }
   ],
   "source": [
    "TimeList=[24, 60, [365, 366]]\n",
    "\n",
    "MinutesInNormalYear=TimeList[0]*TimeList[1]*TimeList[2][0]\n",
    "print(MinutesInNormalYear)\n",
    "\n",
    "MinutesInLeapYear=TimeList[0]*TimeList[1]*TimeList[2][1]\n",
    "print(MinutesInLeapYear)"
   ]
  },
  {
   "cell_type": "markdown",
   "metadata": {},
   "source": [
    "**4.** Consider the following list of sentences:\n",
    "```\n",
    "Sentences = [\n",
    "  \"I went to The Ohio State University\",\n",
    "  \"Add just a bit more.\",\n",
    "  \"Cars drive quickly.\",\n",
    "  \"He heard yells outside.\",\n",
    "  \"What is your name?\",\n",
    "  \"Bob was very exasperated.\",\n",
    "  \"Give me the keys.\",\n",
    "  \"Boy oh boy am I glad to see you!\",\n",
    "  \"Students in the hallway whispered loudly.\",\n",
    "  \"You're learning Python!\",\n",
    "  \"What is the capital of Florida?\"\n",
    "]\n",
    "```\n",
    "   * Can you create the following sentence using only elements from this list? `sentence = \"The boy yells loudly.\"` In other words, create and print this sentence without typing any new bits of text.\n",
    "      * Hint: The `.split()` function can be used to split a string into a list of words. For example: `str = \"I want pizza.\"` Using the following code, you can split the sentence `str` into a list of words separated by spaces: `list = str.split(\" \")`. This command uses whitespaces `(\" \")` to separate words into a list, leading to the following output: `[\"I\", \"want\", \"pizza.\"]`. You can now use list indexing to easily access words within a sentence. For example, `list[2]` would output the word `\"pizza.\"`\n",
    "      * Hint Hint: Use the `.join()` function to join elements of a list into a string. Let's use our earlier example, where `list=[\"I\", \"want\", \"pizza.\"]`. Here, the command `\" \".join(list)` glues all of the elements in `list` together with whitespaces (`\" \"`) between them. As a result, using the command `str = \" \".join(list)` will bring us back to where we started! `str = \"I want pizza.\"`"
   ]
  },
  {
   "cell_type": "code",
   "execution_count": 5,
   "metadata": {},
   "outputs": [
    {
     "name": "stdout",
     "output_type": "stream",
     "text": [
      "Combined sentence:  The boy yells loudly.\n"
     ]
    }
   ],
   "source": [
    "Sentences = [\n",
    "  \"I went to The Ohio State University\",\n",
    "  \"Add just a bit more.\",\n",
    "  \"Cars drive quickly.\",\n",
    "  \"He heard yells outside.\",\n",
    "  \"What is your name?\",\n",
    "  \"Bob was very exasperated.\",\n",
    "  \"Give me the keys.\",\n",
    "  \"Boy oh boy am I glad to see you!\",\n",
    "  \"Students in the hallway whispered loudly.\",\n",
    "  \"You're learning Python!\",\n",
    "  \"What is the capital of Florida?\"\n",
    "]\n",
    "\n",
    "#Split the sentences with the required words into lists \n",
    "#so that we can access each word individually.\n",
    "SentenceList1 = Sentences[0].split(\" \")\n",
    "SentenceList2 = Sentences[7].split(\" \")\n",
    "SentenceList3 = Sentences[3].split(\" \")\n",
    "SentenceList4 = Sentences[8].split(\" \")\n",
    "\n",
    "#Declare the required words in each of those lists as variables\n",
    "#so that we can use them below to glue together a new sentence.\n",
    "the = SentenceList1[3]\n",
    "boy = SentenceList2[2]\n",
    "yells = SentenceList3[2]\n",
    "loudly = SentenceList4[-1]\n",
    "\n",
    "#Make a new list from the required words\n",
    "NewSentenceList = [the, boy, yells, loudly]\n",
    "\n",
    "#join the required words from the above list into a sentence string\n",
    "NewSentence = \" \".join(NewSentenceList)\n",
    "print(\"Combined sentence: \", NewSentence)"
   ]
  },
  {
   "cell_type": "markdown",
   "metadata": {},
   "source": [
    "   * Can you create a \"MyName\" variable that stores your name using only elements from the `sentences` list above? In other words, create and print your name without typing any new bits of text."
   ]
  },
  {
   "cell_type": "code",
   "execution_count": 6,
   "metadata": {},
   "outputs": [
    {
     "name": "stdout",
     "output_type": "stream",
     "text": [
      "My name:  jan\n"
     ]
    }
   ],
   "source": [
    "Sequence = \"The boy yells loudly\"\n",
    "Sentences = [\n",
    "  \"I went to The Ohio State University\",\n",
    "  \"Add just a bit more.\",\n",
    "  \"Cars drive quickly.\",\n",
    "  \"He heard yells outside.\",\n",
    "  \"What is your name?\",\n",
    "  \"Bob was very exasperated.\",\n",
    "  \"Give me the keys.\",\n",
    "  \"Boy oh boy am I glad to see you!\",\n",
    "  \"Students in the hallway whispered loudly.\",\n",
    "  \"You're learning Python!\",\n",
    "  \"What is the capital of Florida?\",\n",
    "  \"We went to the zoo.\"\n",
    "]\n",
    "\n",
    "MyName = Sentences[1][4]+Sentences[2][1]+Sentences[8][5]\n",
    "print(\"My name: \", MyName)"
   ]
  },
  {
   "cell_type": "markdown",
   "metadata": {},
   "source": [
    "## Flow Control"
   ]
  },
  {
   "cell_type": "markdown",
   "metadata": {},
   "source": [
    "<a id='conditions_booleans'></a>\n",
    "### Conditions and Booleans / Conditional Statements"
   ]
  },
  {
   "cell_type": "markdown",
   "metadata": {},
   "source": [
    "**1.** <span style=\"color: gray;\">Write an if statement that prints a message if a person is old enough to get a driver’s license (teenagers can get their driver’s licenses at age 16). Next, add in an else statement that gives a different message.</span>\n",
    "```\n",
    "#Template:\n",
    "age = <your choice of age>\n",
    "if <condition using age>:\n",
    "        print(“you are old enough to get a driver’s license.”)\n",
    "```"
   ]
  },
  {
   "cell_type": "code",
   "execution_count": 7,
   "metadata": {},
   "outputs": [
    {
     "name": "stdout",
     "output_type": "stream",
     "text": [
      "you are old enough to get a driver’s license.\n",
      "you are NOT old enough to get a drivers license\n"
     ]
    }
   ],
   "source": [
    "#True Example\n",
    "age = 18\n",
    "if age>=16:\n",
    "        print(\"you are old enough to get a driver’s license.\")\n",
    "else:\n",
    "    print(\"you are NOT old enough to get a drivers license\")\n",
    "\n",
    "#False Example\n",
    "age = 14\n",
    "if age>=16:\n",
    "        print(\"you are old enough to get a driver’s license.\")\n",
    "else:\n",
    "    print(\"you are NOT old enough to get a drivers license\")"
   ]
  },
  {
   "cell_type": "markdown",
   "metadata": {},
   "source": [
    "**2.** <span style=\"color: gray;\">Using indexing, write a conditional that print a word only if it ends with the letter 'e'.</span>\n",
    "```\n",
    "#Template:\n",
    "testword=<your choice of word>\n",
    "if <condition using testword>:\n",
    "        print(testword)\n",
    "```"
   ]
  },
  {
   "cell_type": "code",
   "execution_count": 8,
   "metadata": {},
   "outputs": [
    {
     "name": "stdout",
     "output_type": "stream",
     "text": [
      "base\n"
     ]
    }
   ],
   "source": [
    "#True Example\n",
    "testword = \"base\"\n",
    "if testword[-1]==\"e\":\n",
    "    print(testword)\n",
    "    \n",
    "#False Example    \n",
    "testword = \"cat\"\n",
    "if testword[-1]==\"e\":\n",
    "    print(testword)"
   ]
  },
  {
   "cell_type": "markdown",
   "metadata": {},
   "source": [
    "**2.** Now that we've learned conditionals, we can more easily account for a wide range of circumstances. Let's go back to our minutes-in-a-year example. Define the following variables:\n",
    "```\n",
    "DaysInYear=365\n",
    "HoursInDay=24\n",
    "MinutesInHour=60\n",
    "```\n",
    "   * Write a conditional statement that determines whether or not the year is a leap year. Print messages that tell the user whether or not it is a leap year as well as the number of minutes in the year.\n",
    "        ```\n",
    "        #Template:\n",
    "        if <condition to determine if a day is a leap year>:\n",
    "                print(<Minutes In Year calculation>)\n",
    "                print(\"It's a leap year!\")\n",
    "        else:\n",
    "            print(<Minutes In Year calculation>)\n",
    "            print(\"It's not a leap year!\")\n",
    "        ```"
   ]
  },
  {
   "cell_type": "code",
   "execution_count": 9,
   "metadata": {},
   "outputs": [
    {
     "name": "stdout",
     "output_type": "stream",
     "text": [
      "525600\n",
      "It's not a leap year!\n"
     ]
    }
   ],
   "source": [
    "DaysInYear=365\n",
    "HoursInDay=24\n",
    "MinutesInHour=60\n",
    "\n",
    "\n",
    "if DaysInYear==366:\n",
    "    print(DaysInYear*HoursInDay*MinutesInHour)\n",
    "    print(\"It's a leap year!\")\n",
    "else:\n",
    "    print(DaysInYear*HoursInDay*MinutesInHour)\n",
    "    print(\"It's not a leap year!\")"
   ]
  },
  {
   "cell_type": "markdown",
   "metadata": {},
   "source": [
    "* Now change the DaysInYear variable. Does your code perform as expected? What happens if you set your variable equal to a number that isn't 365 or 366? Do your results make any sense? Change your statements or add clauses to account for more entries than just these two (365 and 366)."
   ]
  },
  {
   "cell_type": "code",
   "execution_count": 10,
   "metadata": {},
   "outputs": [
    {
     "name": "stdout",
     "output_type": "stream",
     "text": [
      "14400000\n",
      "It's a different kind of year entirely!\n"
     ]
    }
   ],
   "source": [
    "#example input\n",
    "DaysInYear=10000\n",
    "HoursInDay=24\n",
    "MinutesInHour=60\n",
    "\n",
    "if DaysInYear==366:\n",
    "    print(DaysInYear*HoursInDay*MinutesInHour)\n",
    "    print(\"It's a leap year!\")\n",
    "elif DaysInYear==365:\n",
    "    print(DaysInYear*HoursInDay*MinutesInHour)\n",
    "    print(\"It's not a leap year!\")\n",
    "else:\n",
    "    print(DaysInYear*HoursInDay*MinutesInHour)\n",
    "    print(\"It's a different kind of year entirely!\")"
   ]
  },
  {
   "cell_type": "markdown",
   "metadata": {},
   "source": [
    "**3.** Pick any word and declare it as a variable. Write a conditional statement (`if`, `elif`, `else`) that checks your word for the conditions below. Print different messagess that describe the word if it satisfies any of the individual conditions.\n",
    "   * Does your word not contain any text at all?\n",
    "   * Does your word contain the letter \"i\" or the letter \"b\"?\n",
    "   * Is your word longer than 5 characters?\n",
    "   * Did you simply use \"word\"?\n",
    "   * Did your word not satsify any of the above conditions?\n",
    "       * For example:\n",
    "    ```\n",
    "    testword = \"google\"\n",
    "    if testword <condition concerning testword>\n",
    "            print(<message describing why that word satisfied the condition>)\n",
    "    elif testword <condition concerning testword>\n",
    "            print(<message describing why that word satisfied the condition>)\n",
    "    #etc...\n",
    "    ```"
   ]
  },
  {
   "cell_type": "code",
   "execution_count": 11,
   "metadata": {},
   "outputs": [
    {
     "name": "stdout",
     "output_type": "stream",
     "text": [
      "My word is long but does not contain i or b.\n"
     ]
    }
   ],
   "source": [
    "checkWord = \"google\"\n",
    "\n",
    "if checkWord == \"\":\n",
    "    print(\"I just didn't feel like playing this game.\")\n",
    "elif \"i\" in checkWord or \"b\" in checkWord:\n",
    "    print(\"My word is not blank and contains i or b.\")\n",
    "elif len(checkWord) > 5:\n",
    "    print(\"My word is long but does not contain i or b.\")\n",
    "elif checkWord == \"word\":\n",
    "    print(\"I am lazy and picked an obvious word.\")\n",
    "elif checkWord in [\"here\", \"is\", \"a\", \"short\", \"list\", \"of\", \"words\"]:\n",
    "    print(\"My word doesn't have i or b.\") \n",
    "    print(\"It's not long, but it is in this list.\")\n",
    "    print(\"Also, I did not pick the most obvious word\")\n",
    "else:\n",
    "    print(\"I'm clever and didn't satisfy any of the conditions.\")"
   ]
  },
  {
   "cell_type": "markdown",
   "metadata": {},
   "source": [
    "<a id='for_loops'></a>\n",
    "### For Loops"
   ]
  },
  {
   "cell_type": "markdown",
   "metadata": {},
   "source": [
    "```\n",
    "#Nesting loops - indentation is key!\n",
    "listOfWords = [\"blue\", \"yellow\", \"red\", \"green\"]\n",
    "newList = [] #initialize an empty list\n",
    "\n",
    "for color in listOfWords:\n",
    "    numLetters = 0 #resets to zero each time the loop runs\n",
    "    for letter in color:\n",
    "        numLetters += 1\n",
    "    temporaryList = [color, numLetters]\n",
    "    newList.append(temporaryList)\n",
    "    \n",
    "print(newList)\n",
    "```\n",
    "**(Un-numbered Exercise)** How could we write the code above with fewer lines? Is there a simpler way to find the length of each word?"
   ]
  },
  {
   "cell_type": "code",
   "execution_count": 12,
   "metadata": {},
   "outputs": [
    {
     "name": "stdout",
     "output_type": "stream",
     "text": [
      "[['blue', 4], ['yellow', 6], ['red', 3], ['green', 5]]\n"
     ]
    }
   ],
   "source": [
    "#we can skip the loop that iterates through all of the letters in each word by using the \n",
    "#len() function. len() counts the number of characters in a string or \n",
    "#the number of elements in a list.\n",
    "\n",
    "listOfWords = [\"blue\", \"yellow\", \"red\", \"green\"]\n",
    "newList = []\n",
    "for color in listOfWords:\n",
    "    newList.append([color, len(color)])\n",
    "    \n",
    "print(newList)"
   ]
  },
  {
   "cell_type": "markdown",
   "metadata": {},
   "source": [
    "<a id='for_loops_conditionals'></a>\n",
    "### For Loops with Conditionals"
   ]
  },
  {
   "cell_type": "markdown",
   "metadata": {},
   "source": [
    "```\n",
    "scores=[95,90,66,83,71,78,93,81,87,81]\n",
    "grades=[]\n",
    "for score in scores:\n",
    "    if score>=90:\n",
    "        grade=\"A\"\n",
    "    elif score>=80:\n",
    "        grade=\"B\"\n",
    "    elif score>=70 and score<80:\n",
    "        grade=\"C\"\n",
    "    elif score>=60 and score<70:\n",
    "        grade=\"D\"\n",
    "    else:\n",
    "        grade=\"F\"\n",
    "    grades.append([score,grade])       \n",
    "print(grades)\n",
    "```\n",
    "**1.** <span style=\"color: gray;\">Referencing the above code, why do I only specify `score>=80` etc. in the `elif` statements? Can any of these conditionals be simplified?</span>"
   ]
  },
  {
   "cell_type": "code",
   "execution_count": 13,
   "metadata": {},
   "outputs": [
    {
     "name": "stdout",
     "output_type": "stream",
     "text": [
      "[[95, 'A'], [90, 'A'], [66, 'D'], [83, 'B'], [71, 'C'], [78, 'C'], [93, 'A'], [81, 'B'], [87, 'B'], [81, 'B']]\n"
     ]
    }
   ],
   "source": [
    "#    elif score>=70 and score<80:\n",
    "#        grade=\"C\"\n",
    "#    elif score>=60 and score<70:\n",
    "#        grade=\"D\"\n",
    "\n",
    "#Neither or these statements require their 'and' portions. Conditional statements run\n",
    "#from top to bottom, meaning that once one condition is satisfied, none of the statements \n",
    "#below that statement will be examined. This makes the 'and score<80', etc. unecessary because any \n",
    "#numbers above 80 would have satisfied the condition above. Any number that is between 70 and 80\n",
    "#will not satisfy either of the first two conditions, but will satisfy the third condition.\n",
    "\n",
    "\n",
    "scores=[95,90,66,83,71,78,93,81,87,81]\n",
    "grades=[]\n",
    "for score in scores:\n",
    "    if score>=90:\n",
    "        grade=\"A\"\n",
    "    elif score>=80:\n",
    "        grade=\"B\"\n",
    "    elif score>=70:\n",
    "        grade=\"C\"\n",
    "    elif score>=60:\n",
    "        grade=\"D\"\n",
    "    else:\n",
    "        grade=\"F\"\n",
    "    grades.append([score,grade])       \n",
    "print(grades)"
   ]
  },
  {
   "cell_type": "markdown",
   "metadata": {},
   "source": [
    "**2.** <span style=\"color: gray;\">How many numbers between 1 and 100 are divisible by 7?</span>"
   ]
  },
  {
   "cell_type": "code",
   "execution_count": 14,
   "metadata": {},
   "outputs": [
    {
     "name": "stdout",
     "output_type": "stream",
     "text": [
      "[7, 14, 21, 28, 35, 42, 49, 56, 63, 70, 77, 84, 91, 98]\n"
     ]
    }
   ],
   "source": [
    "#Once again we can use the modulo (%) function\n",
    "\n",
    "DivBy7=[]\n",
    "\n",
    "for i in range(100):\n",
    "    num = i+1 #Python always starts at zero, meaning this loop will iterate through numbers 0-99\n",
    "    if num%7==0:\n",
    "        DivBy7.append(num)\n",
    "        \n",
    "print(DivBy7)"
   ]
  },
  {
   "cell_type": "markdown",
   "metadata": {},
   "source": [
    "**3.** <span style=\"color: gray;\">Make a new list of NATO codes keeping only those that use the letter \"a\" in their *code*.</span>"
   ]
  },
  {
   "cell_type": "code",
   "execution_count": 15,
   "metadata": {},
   "outputs": [
    {
     "name": "stdout",
     "output_type": "stream",
     "text": [
      "['A', 'Alfa']\n",
      "['B', 'Bravo']\n",
      "['C', 'Charlie']\n",
      "['D', 'Delta']\n",
      "['I', 'India']\n",
      "['L', 'Lima']\n",
      "['O', 'Oscar']\n",
      "['P', 'Papa']\n",
      "['S', 'Sierra']\n",
      "['T', 'Tango']\n",
      "['X', 'X-ray']\n",
      "['Y', 'Yankee']\n"
     ]
    }
   ],
   "source": [
    "nato=[[\"A\",\"Alfa\"],\n",
    "          [\"B\",\"Bravo\"],\n",
    "          [\"C\",\"Charlie\"],\n",
    "          [\"D\",\"Delta\"],\n",
    "          [\"E\",\"Echo\"],\n",
    "          [\"F\",\"Foxtrot\"],\n",
    "          [\"G\",\"Golf\"],\n",
    "          [\"H\",\"Hotel\"],\n",
    "          [\"I\",\"India\"],\n",
    "          [\"J\",\"Juliett\"],\n",
    "          [\"K\",\"Kilo\"],\n",
    "          [\"L\",\"Lima\"],\n",
    "          [\"M\",\"Mike\"],\n",
    "          [\"N\",\"November\"],\n",
    "          [\"O\",\"Oscar\"],\n",
    "          [\"P\",\"Papa\"],\n",
    "          [\"Q\",\"Quebec\"],\n",
    "          [\"R\",\"Romeo\"],\n",
    "          [\"S\",\"Sierra\"],\n",
    "          [\"T\",\"Tango\"],\n",
    "          [\"U\",\"Uniform\"],\n",
    "          [\"V\",\"Victor\"],\n",
    "          [\"W\",\"Whiskey\"],\n",
    "          [\"X\",\"X-ray\"],\n",
    "          [\"Y\",\"Yankee\"],\n",
    "          [\"Z\",\"Zulu\"]]\n",
    "\n",
    "newNato=[]\n",
    "\n",
    "for i in nato:\n",
    "    if \"a\" in i[1]:\n",
    "        newNato.append(i)\n",
    "\n",
    "for j in newNato:\n",
    "    print(j)"
   ]
  },
  {
   "cell_type": "markdown",
   "metadata": {},
   "source": [
    "**4.** Consider the following list of years:\n",
    "```\n",
    "years=[1990,1991,1992,1993,1994,1995,1996,1997,1998,1999,2000,\n",
    "        2001,2002,2003,2004,2005,2006,2007,2008,2009,2010,2011,\n",
    "        2012,2013,2014,2015,2016,2017,2018,2019,2020]    \n",
    "```\n",
    " * Knowing that 2020 is a leap year and that leap years only occur every four years, iterate through the list. Use conditionals to add all leap years to a separate list (Hint: use the modulo function to determine which years are leap years). Print your new list of leap years."
   ]
  },
  {
   "cell_type": "code",
   "execution_count": 16,
   "metadata": {},
   "outputs": [
    {
     "name": "stdout",
     "output_type": "stream",
     "text": [
      "[1992, 1996, 2000, 2004, 2008, 2012, 2016, 2020]\n"
     ]
    }
   ],
   "source": [
    "years=[1990,1991,1992,1993,1994,1995,1996,1997,1998,1999,2000,\n",
    "        2001,2002,2003,2004,2005,2006,2007,2008,2009,2010,2011,\n",
    "        2012,2013,2014,2015,2016,2017,2018,2019,2020]\n",
    "\n",
    "leapYears=[]\n",
    "\n",
    "for year in years:\n",
    "    if year % 4 == 0:\n",
    "        leapYears.append(year)\n",
    "        \n",
    "print(leapYears)"
   ]
  },
  {
   "cell_type": "markdown",
   "metadata": {},
   "source": [
    "<a id='breaks'></a>\n",
    "### Breaks"
   ]
  },
  {
   "cell_type": "markdown",
   "metadata": {},
   "source": [
    "**1.** <span style=\"color: gray;\">Use the `choices` function above to generate a random list of 50 numbers in 0-99. Write a loop that will find the sum of only the first 6 even numbers.</span>"
   ]
  },
  {
   "cell_type": "code",
   "execution_count": 17,
   "metadata": {},
   "outputs": [
    {
     "name": "stdout",
     "output_type": "stream",
     "text": [
      "282\n",
      "[96, 44, 0, 58, 8, 76]\n",
      "[96, 44, 0, 91, 93, 58, 67, 8, 76, 23, 3, 78, 34, 62, 61, 14, 18, 11, 1, 48, 96, 6, 54, 46, 60, 8, 57, 26, 55, 64, 48, 35, 24, 93, 45, 53, 1, 50, 0, 14, 47, 37, 5, 58, 16, 55, 14, 93, 77, 95]\n"
     ]
    }
   ],
   "source": [
    "from random import choices,seed\n",
    "\n",
    "#if you set the following seed you should get the same results as this solution!\n",
    "seed(1234)\n",
    "\n",
    "test=choices(population=range(100),k=50)\n",
    "\n",
    "count = 0 #declare a count to help us keep track of how many even numbers we've found so we know when to break\n",
    "first6even =[] # create a list so we can see which numbers were added to our sum\n",
    "for i in test:\n",
    "    if i % 2 == 0: # If the number is divisible by two:\n",
    "        count += 1 #add 1 to our count of even numbers found\n",
    "        first6even.append(i) #add our newly found even number to our list of even numbers so that \n",
    "                             #we can check them later\n",
    "    \n",
    "    if count>=6:\n",
    "        break # once we've found 6, exit the loop\n",
    "        \n",
    "        \n",
    "\n",
    "print(sum(first6even)) # What was our sum?\n",
    "print(first6even) # Do our numbers really add up?\n",
    "print(test) # Are these really the first 6 even numbers in our list?"
   ]
  },
  {
   "cell_type": "markdown",
   "metadata": {},
   "source": [
    "## More Data Types"
   ]
  },
  {
   "cell_type": "markdown",
   "metadata": {},
   "source": [
    "<a id='comprehensions'></a>\n",
    "### Comprehensions"
   ]
  },
  {
   "cell_type": "code",
   "execution_count": 18,
   "metadata": {},
   "outputs": [
    {
     "name": "stdout",
     "output_type": "stream",
     "text": [
      "{1: 1, 2: 4, 3: 9, 4: 16, 5: 25, 6: 36, 7: 49, 8: 64, 9: 81, 10: 100, 11: 121, 12: 144, 13: 169, 14: 196, 15: 225}\n"
     ]
    }
   ],
   "source": [
    "squaresdict={k:k**2 for k in range(1,16)}\n",
    "print(squaresdict)"
   ]
  },
  {
   "cell_type": "markdown",
   "metadata": {},
   "source": [
    "**1.** <span style=\"color: gray;\">Considering the code above, write a list comprehension to create a list of just the values (i.e. the squares) from `squaresdict`.</span>"
   ]
  },
  {
   "cell_type": "code",
   "execution_count": 19,
   "metadata": {},
   "outputs": [
    {
     "name": "stdout",
     "output_type": "stream",
     "text": [
      "[1, 4, 9, 16, 25, 36, 49, 64, 81, 100, 121, 144, 169, 196, 225]\n"
     ]
    }
   ],
   "source": [
    "#Remember the .keys() function?\n",
    "#You can use this to get the keys (and thus the values) for each item in your dictionary\n",
    "\n",
    "squares = [squaresdict[k] for k in squaresdict.keys()]\n",
    "print(squares)"
   ]
  },
  {
   "cell_type": "markdown",
   "metadata": {},
   "source": [
    "## Pseudocode and Comments"
   ]
  },
  {
   "cell_type": "markdown",
   "metadata": {},
   "source": [
    "<a id='pseudocode'></a>\n",
    "### Pseudocode"
   ]
  },
  {
   "cell_type": "code",
   "execution_count": 20,
   "metadata": {},
   "outputs": [],
   "source": [
    "random_words=[\"statement\", \"toy\", \"cars\", \"shoes\", \"ear\", \"busy\", \n",
    "              \"magnificent\", \"brainy\", \"healthy\", \"narrow\", \"join\", \n",
    "              \"decay\", \"dashing\", \"river\", \"gather\", \"stop\", \"satisfying\", \n",
    "              \"holistic\", \"reply\", \"steady\", \"event\", \"house\", \"amused\", \n",
    "              \"soak\", \"increase\"]\n",
    "\n",
    "vowels=[\"a\",\"e\",\"i\",\"o\",\"u\",\"y\"]\n",
    "\n",
    "output=[]\n",
    "\n",
    "for word in random_words:\n",
    "    count=0\n",
    "    for char in word:\n",
    "        if char in vowels:\n",
    "            count=count+1\n",
    "    if count>=3:\n",
    "        output.append([word,count])"
   ]
  },
  {
   "cell_type": "markdown",
   "metadata": {},
   "source": [
    "**1.** <span style=\"color: gray;\">Write pseudocode to summarize the code above.</span>"
   ]
  },
  {
   "cell_type": "code",
   "execution_count": 21,
   "metadata": {},
   "outputs": [],
   "source": [
    "#One potential solution:\n",
    "#This script creates a list of words that have more than 3 or more vowels. \n",
    "#Each word is contained in a list with the word itself as well as the number of vowels it contains\n",
    "\n",
    "#1. define a list of random words\n",
    "\n",
    "#2. define a list of vowels\n",
    "\n",
    "#3. declare a new empty list called output that I can use to store my words and vowel counts\n",
    "\n",
    "#4. iterate through my list of random words\n",
    "\n",
    "    #4a. before checking letters, reset the vowel count to zero for the new word\n",
    "    \n",
    "    #4b. iterate through the all f the letters in each word\n",
    "    \n",
    "        #4b_1. check each letter to see if it is in the vowel list we defined above. \n",
    "        #If it is in that list, add 1 to the vowel count for that particular word\n",
    "        \n",
    "    #4c. once we have checked all letters in the word and counted the vowels, \n",
    "    #check to see if the word has 3 or more vowels\n",
    "    \n",
    "    #4d. if it does have 3 or more vowels, add a list \n",
    "    #containing the word and its vowel count to our output list"
   ]
  },
  {
   "cell_type": "markdown",
   "metadata": {},
   "source": [
    "**2.** <span style=\"color: gray;\">Write pseudocode to check an arbitrary list of numbers, `my_numbers`, to find all even numbers and convert them to odd numbers by adding one.  Put the resulting numbers into a new list `my_numbers2`.  (Recall `for` loops ,`if` conditions, and the modulo function `%` from Python 1.)</span>"
   ]
  },
  {
   "cell_type": "code",
   "execution_count": 22,
   "metadata": {},
   "outputs": [],
   "source": [
    "#One potential solution:\n",
    "\n",
    "#1. Get or define the list my_numbers\n",
    "my_numbers=list(range(100))\n",
    "\n",
    "#2. Create an empty list for the new all-odd numbers, called my_numbers2.\n",
    "\n",
    "#3. Use a loop to iterate through the list of numbers\n",
    "\n",
    "    #3a. For a given number check to see if it is even.\n",
    "    \n",
    "    #3b. If the number is even, add 1.\n",
    "    \n",
    "    #3c. Append the resulting number to the my_numbers2 list."
   ]
  },
  {
   "cell_type": "markdown",
   "metadata": {},
   "source": [
    "<a id='comments'></a>\n",
    "### Comments"
   ]
  },
  {
   "cell_type": "markdown",
   "metadata": {},
   "source": [
    "**1.** <span style=\"color: gray;\">Use your own pseudocode or the example above as an outline to fill in with Python code.  Test your code with the `my_numbers` object defined above.</span>"
   ]
  },
  {
   "cell_type": "code",
   "execution_count": 23,
   "metadata": {},
   "outputs": [],
   "source": [
    "#1. Get or define the list my_numbers\n",
    "my_numbers=list(range(100))\n",
    "\n",
    "#2. Create an empty list for the new all-odd numbers, called my_numbers2.\n",
    "my_numbers2 = []\n",
    "\n",
    "#3. Use a loop to iterate through the list of numbers\n",
    "for num in my_numbers:\n",
    "\n",
    "    #3a. For a given number check to see if it is even.\n",
    "    if num % 2 == 0:\n",
    "    \n",
    "    #3b. If the number is even, add 1.\n",
    "        new_num = num + 1\n",
    "    \n",
    "    #3c. Append the resulting number to the my_numbers2 list.\n",
    "        my_numbers2.append(new_num)"
   ]
  },
  {
   "cell_type": "markdown",
   "metadata": {},
   "source": [
    "<a id='user_defined_functions'></a>\n",
    "## User-defined Functions"
   ]
  },
  {
   "cell_type": "markdown",
   "metadata": {},
   "source": [
    "**1.** <span style=\"color: gray;\">Define a function, `median` to find the median of a list.  The median is the middle number of an odd-numbered list or the average of the middle two numbers in an even numbered list.  (Hint: Use `sorted(<your_list>)` to create a list sorted from low to high values.</span>"
   ]
  },
  {
   "cell_type": "code",
   "execution_count": 24,
   "metadata": {},
   "outputs": [],
   "source": [
    "def median(your_list):\n",
    "    median = 0\n",
    "    n = len(your_list)\n",
    "    your_list = sorted(your_list)\n",
    "    \n",
    "    if n % 2 == 1: #if your list has an odd number of values   \n",
    "        middle_index = int((n/2) - .5) #Your middle index will be equal to the length of your list, divided by 2\n",
    "                                       #minus .5 (minus because indices start at 0). Transform this number using int()\n",
    "                                       #so that it can be used as a list index.\n",
    "                                        \n",
    "        median = your_list[middle_index]\n",
    "    else:\n",
    "        middle_index1 = int(n/2 - 1)\n",
    "        middle_index2 = int((n/2))\n",
    "        median = (your_list[middle_index1] + your_list[middle_index2])/2\n",
    "        #If the list has an even number of values, we need to get the two middle indices (middle_index1 and 2)\n",
    "        #Your median in this situation is the average of the values at these two locations\n",
    "    \n",
    "    return median"
   ]
  },
  {
   "cell_type": "markdown",
   "metadata": {},
   "source": [
    "**2.** <span style=\"color: gray;\">Test your function with the lists below:</span>"
   ]
  },
  {
   "cell_type": "code",
   "execution_count": 25,
   "metadata": {
    "scrolled": false
   },
   "outputs": [
    {
     "name": "stdout",
     "output_type": "stream",
     "text": [
      "50\n",
      "0.1550322254103288\n"
     ]
    }
   ],
   "source": [
    "data1 = list(range(1,100))\n",
    "\n",
    "#Normally Distributed Data:\n",
    "from numpy.random import normal\n",
    "data2 = normal(loc=0,scale=2,size=100) #scale=2 defines the standard deviation as 2\n",
    "\n",
    "print(median(data1))\n",
    "print(median(data2))"
   ]
  }
 ],
 "metadata": {
  "kernelspec": {
   "display_name": "Python 3",
   "language": "python",
   "name": "python3"
  },
  "language_info": {
   "codemirror_mode": {
    "name": "ipython",
    "version": 3
   },
   "file_extension": ".py",
   "mimetype": "text/x-python",
   "name": "python",
   "nbconvert_exporter": "python",
   "pygments_lexer": "ipython3",
   "version": "3.7.4"
  },
  "toc": {
   "base_numbering": 1,
   "nav_menu": {},
   "number_sections": false,
   "sideBar": true,
   "skip_h1_title": false,
   "title_cell": "Table of Contents",
   "title_sidebar": "Contents",
   "toc_cell": false,
   "toc_position": {},
   "toc_section_display": true,
   "toc_window_display": true
  }
 },
 "nbformat": 4,
 "nbformat_minor": 2
}
