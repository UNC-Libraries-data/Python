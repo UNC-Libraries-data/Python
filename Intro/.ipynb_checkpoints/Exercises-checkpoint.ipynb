{
 "cells": [
  {
   "cell_type": "markdown",
   "metadata": {},
   "source": [
    "# Python Exercises"
   ]
  },
  {
   "cell_type": "markdown",
   "metadata": {},
   "source": [
    "**Note:** <span style=\"color: gray;\">Exercises in gray are those that appear in the <a href=\"Introduction.html\" target=\"_blank\">Introduction</a>. Feel free to skip these if you have already completed them.</span>"
   ]
  },
  {
   "cell_type": "markdown",
   "metadata": {},
   "source": [
    "## Getting Started"
   ]
  },
  {
   "cell_type": "markdown",
   "metadata": {},
   "source": [
    "### Entering Code"
   ]
  },
  {
   "cell_type": "markdown",
   "metadata": {},
   "source": [
    "1. <span style=\"color: gray;\">What is 126544 squared? (Exponentiation is denoted `**`, i.e. $ 2^3 $ is `2**3` in Python).</span>\n",
    "2. <span style=\"color: gray;\">What is 5 divided by 0?</span>\n",
    "3. Mathematical operations in Python follow the standard order of operations. Parentheses in the wrong place can cause hard-to-find errors in your code. What is the difference between `6+5*10` and `(6+5)*10`?\n",
    "4. Write some code to calculate the number of minutes in a year with a comment that describes what your code does.\n",
    "5. What is the area of a square with a side length of 7? What is the volume of a cube with the same edge length?"
   ]
  },
  {
   "cell_type": "markdown",
   "metadata": {},
   "source": [
    "<a href=\"Exercises_Solutions.html#entering_code\" target=\"_blank\">Solutions</a>"
   ]
  },
  {
   "cell_type": "markdown",
   "metadata": {},
   "source": [
    "## Data Types and Variables"
   ]
  },
  {
   "cell_type": "markdown",
   "metadata": {},
   "source": [
    "### Strings and Numbers"
   ]
  },
  {
   "cell_type": "markdown",
   "metadata": {},
   "source": [
    "1. <span style=\"color: gray;\">Define two variables, j and k, with values 37 and 52 respectively.</span>\n",
    " + <span style=\"color: gray;\">What is the sum of `j` and `k`? The product?  Write code for each of these in the **editor window**, and run with the keyboard shortcut (refer back to Section 1. Entering Code).</span>\n",
    " + <span style=\"color: gray;\">Now re-assign `j` and `k` to have the vales 8 and 3 respectively.  Re-use your code from the editor to determine their sum and product.</span>\n",
    "2. Now let us calculate the number of minutes in a year again, this time using variables for each unit of time. Instead of a comment, print a statement that describes what your code does.\n",
    " * Variables allow help you to more easily account for a variety of situations. For example, 2020 happens to be a leap year. How does that change your code? Make a new variable that accounts for the number of days in a leap year. You can now easily change your code to print the number of minutes in a leap year as opposed to a non-leap-year.\n",
    "3. Define the variables below. Print the types of each variable. What is the sum of your variables? (*Hint:* use a type conversion function.) What datatype is the sum?\n",
    "```\n",
    "num=23\n",
    "textnum=\"57\"\n",
    "decimal=98.3\n",
    "```\n",
    "4. You can use the print function to print multiple variables of different types on a single line. This can be done by using comma to separate variables within the parentheses of the print function. For example: `print(variable1, variable2).` You can also print raw values that have not been assigned variables. For example, `print(\"This is variable 1: \", 67)`. \n",
    "    * For this exercise, define 5-10 numbers as variables.\n",
    "    ```\n",
    "    num1=...\n",
    "    num2=...\n",
    "    num3=...\n",
    "    num4=...\n",
    "    num5=...\n",
    "    num6=...\n",
    "    num7=...\n",
    "    num8=...\n",
    "    num9=...\n",
    "    num10=...\n",
    "    ```\n",
    "    * Use a single `print` statement to print all of the even numbers out of your newly defined variables with the following statement, \"These are my even numbers:\". \n",
    "    * The `+` operator in Python works with strings variables as well as numeric types - but it simply concatenates strings together one after the other.  Using `+` and the example below, write your output as a single complete sentence. (Hint: you'll probably need to use at least one type conversion function)."
   ]
  },
  {
   "cell_type": "code",
   "execution_count": 1,
   "metadata": {},
   "outputs": [
    {
     "name": "stdout",
     "output_type": "stream",
     "text": [
      "workshop\n",
      "37\n"
     ]
    }
   ],
   "source": [
    "print(\"work\"+\"shop\")\n",
    "print(\"3\"+\"7\")"
   ]
  },
  {
   "cell_type": "markdown",
   "metadata": {},
   "source": [
    "### Lists"
   ]
  },
  {
   "cell_type": "markdown",
   "metadata": {},
   "source": [
    "1. <span style=\"color: gray;\">Create a list of:</span>\n",
    "     * <span style=\"color: gray;\">your favorite color (str)</span>\n",
    "     * <span style=\"color: gray;\">your two favorite holidays (list)</span>\n",
    "    \n",
    "    <span style=\"color: gray;\">For example:</span>\n",
    "    `[\"red\", [\"Halloween\", \"New Years\"]]`\n",
    "2. <span style=\"color: gray;\">Then append the number of pets you have (int) as a new list item. Print your new list.</span>\n",
    "3. Create a list that includes the number of days in a normal year as well as the number of days in a leap year. Now create a separate list that includes the number of hours in a day as well as the number of minutes in an hour. Append your first list to your second list. Your final list should look something like this:\n",
    "    * Number of hours in a day\n",
    "    * Number of minutes in an hour\n",
    "    * List that includes the number of days in a normal year as well as the number of days in a leap year"
   ]
  },
  {
   "cell_type": "markdown",
   "metadata": {},
   "source": [
    "<a href=\"Exercises_Solutions.html#lists\" target=\"_blank\">Solutions</a>"
   ]
  },
  {
   "cell_type": "markdown",
   "metadata": {},
   "source": [
    "### Indexing"
   ]
  },
  {
   "cell_type": "markdown",
   "metadata": {},
   "source": [
    "1. <span style=\"color: gray;\">Try to use indexing to get the tenth digit of `my_pi` as defined below.  Does it work as defined?  Do we need to change the variable somehow?</span>\n",
    "```\n",
    "my_pi = 3.141592653589793\n",
    "```\n",
    "\n",
    "2. <span style=\"color: gray;\">Below is a list of lists containing the NATO phonetic codes for each letter of the alphabet.  Each list within `nato` contains a letter of the alphabet and its corresponding code.</span>\n",
    "```\n",
    "nato = [[\"A\", \"Alfa\"],\n",
    "          [\"B\", \"Bravo\"],\n",
    "          [\"C\", \"Charlie\"],\n",
    "          [\"D\", \"Delta\"],\n",
    "          [\"E\", \"Echo\"],\n",
    "          [\"F\", \"Foxtrot\"],\n",
    "          [\"G\", \"Golf\"],\n",
    "          [\"H\", \"Hotel\"],\n",
    "          [\"I\", \"India\"],\n",
    "          [\"J\", \"Juliett\"],\n",
    "          [\"K\", \"Kilo\"],\n",
    "          [\"L\", \"Lima\"],\n",
    "          [\"M\", \"Mike\"],\n",
    "          [\"N\", \"November\"],\n",
    "          [\"O\", \"Oscar\"],\n",
    "          [\"P\", \"Papa\"],\n",
    "          [\"Q\", \"Quebec\"],\n",
    "          [\"R\", \"Romeo\"],\n",
    "          [\"S\", \"Sierra\"],\n",
    "          [\"T\", \"Tango\"],\n",
    "          [\"U\", \"Uniform\"],\n",
    "          [\"V\", \"Victor\"],\n",
    "          [\"W\", \"Whiskey\"],\n",
    "          [\"X\", \"X-ray\"],\n",
    "          [\"Y\", \"Yankee\"],\n",
    "          [\"Z\", \"Zulu\"]]\n",
    "```\n",
    "\n",
    "   * <span style=\"color: gray;\">What is the fifteenth letter of the alphabet?</span>\n",
    "   * <span style=\"color: gray;\">What is the code for the twenty-third letter of the alphabet?</span>\n",
    "   * <span style=\"color: gray;\">What is the fourth letter of the code for the eighth letter of the alphabet?</span>\n",
    "\n",
    "3. Let's perform some more minutes-in-year calculations. Using the lists you created above, calculate and print the number of minutes in a normal year. Now calculate and print the number of minutes in a leap year.\n",
    "4. Consider the following list of sentences:\n",
    "```\n",
    "Sentences = [\n",
    "  \"I went to The Ohio State University\",\n",
    "  \"Add just a bit more.\",\n",
    "  \"Cars drive quickly.\",\n",
    "  \"He heard yells outside.\",\n",
    "  \"What is your name?\",\n",
    "  \"Bob was very exasperated.\",\n",
    "  \"Give me the keys.\",\n",
    "  \"Boy oh boy am I glad to see you!\",\n",
    "  \"Students in the hallway whispered loudly.\",\n",
    "  \"You're learning Python!\",\n",
    "  \"What is the capital of Florida?\",\n",
    "  \"We went to the zoo.\"\n",
    "]\n",
    "```\n",
    "   * Can you create the following sentence using only elements from this list? `sentence = \"The boy yells loudly.\"` In other words, create and print this sentence without typing any new bits of text.\n",
    "      * Hint: The `.split()` function can be used to split a string into a list of words. For example: `str = \"I want pizza.\"` Using the following code, you can split the sentence `str` into a list of words separated by spaces: `list = str.split(\" \")`. This command uses whitespaces `(\" \")` to separate words into a list, leading to the following output: `[\"I\", \"want\", \"pizza.\"]`. You can now use list indexing to easily access words within a sentence. For example, `list[2]` would output the word `\"pizza.\"`\n",
    "      * Hint Hint: Use the `.join()` function to join elements of a list into a string. Let's use our earlier example, where `list=[\"I\", \"want\", \"pizza.\"]`. Here, the command `\" \".join(list)` glues all of the elements in `list` together with whitespaces (`\" \"`) between them. As a result, using the command `str = \" \".join(list)` will bring us back to where we started! `str = \"I want pizza.\"`\n",
    "\n",
    "   * Can you create a \"MyName\" variable (str) that stores your name using only elements from the `sentences` list above? In other words, create and print your name without typing any new bits of text."
   ]
  },
  {
   "cell_type": "markdown",
   "metadata": {},
   "source": [
    "<a href=\"Exercises_Solutions.html#indexing\" target=\"_blank\">Solutions</a>"
   ]
  },
  {
   "cell_type": "markdown",
   "metadata": {},
   "source": [
    "## Flow Control"
   ]
  },
  {
   "cell_type": "markdown",
   "metadata": {},
   "source": [
    "### Conditions and Booleans / Conditional Statements"
   ]
  },
  {
   "cell_type": "markdown",
   "metadata": {},
   "source": [
    "1. <span style=\"color: gray;\">Write an if statement that prints a message if a person is old enough to get a driver’s license (teenagers can get their driver’s licenses at age 16). Next, add in an else statement that gives a different message.</span>\n",
    "```\n",
    "#Template:\n",
    "age = <your choice of age>\n",
    "if <condition using age>:\n",
    "        print(“you are old enough to get a driver’s license.”)\n",
    "```\n",
    "2. <span style=\"color: gray;\">Using indexing, write a conditional that print a word only if it ends with the letter 'e'.</span>\n",
    "```\n",
    "#Template:\n",
    "testword=<your choice of word>\n",
    "if <condition using testword>:\n",
    "        print(testword)\n",
    "```\n",
    "2. Now that we've learned conditionals, we can more easily account for a wide range of circumstances. Let's go back to our minutes-in-a-year example. Define the following variables:\n",
    "```\n",
    "DaysInYear=365\n",
    "HoursInDay=24\n",
    "MinutesInHour=60\n",
    "```\n",
    "   * Write a conditional statement that determines whether or not the year is a leap year. Print messages that tell the user whether or not it is a leap year as well as the number of minutes in the year.\n",
    "        ```\n",
    "        #Template:\n",
    "        if <condition to determine if a day is a leap year>:\n",
    "                print(<Minutes In Year calculation>)\n",
    "                print(\"It's a leap year!\")\n",
    "        else:\n",
    "            print(<Minutes In Year calculation>)\n",
    "            print(\"It's not a leap year!\")\n",
    "        ```\n",
    "   * Now change the DaysInYear variable. Does your code perform as expected? What happens if you set your variable equal to a number that isn't 365 or 366? Does this make any sense? Change your statements or add clauses to account for more entries than just these two.\n",
    "   \n",
    "3. Pick any word and declare it as a variable. Write a conditional statement (`if`, `elif`, `else`) that checks your word for the conditions below. Print different messagess that describe the word if it satisfies any of the individual conditions.\n",
    "      * Does your word not contain any text at all?\n",
    "      * Does your word contain the letter \"i\" or the letter \"b\"?\n",
    "      * Is your word longer than 5 characters?\n",
    "      * Did you simply use \"word\"?\n",
    "      * Did your word not satsify any of the above conditions?\n",
    "   * For example:\n",
    "    ```\n",
    "    testword = \"google\"\n",
    "    if testword <condition concerning testword>\n",
    "            print(<message describing why that word satisfied the condition>)\n",
    "    elif testword <condition concerning testword>\n",
    "            print(<message describing why that word satisfied the condition>)\n",
    "    #etc...\n",
    "    ```"
   ]
  },
  {
   "cell_type": "markdown",
   "metadata": {},
   "source": [
    "<a href=\"Exercises_Solutions.html#conditions_booleans\" target=\"_blank\">Solutions</a>"
   ]
  },
  {
   "cell_type": "markdown",
   "metadata": {},
   "source": [
    "### For Loops"
   ]
  },
  {
   "cell_type": "code",
   "execution_count": 2,
   "metadata": {},
   "outputs": [
    {
     "name": "stdout",
     "output_type": "stream",
     "text": [
      "[['blue', 4], ['yellow', 6], ['red', 3], ['green', 5]]\n"
     ]
    }
   ],
   "source": [
    "#Nesting loops - indentation is key!\n",
    "listOfWords = [\"blue\", \"yellow\", \"red\", \"green\"]\n",
    "newList = [] #initialize an empty list\n",
    "\n",
    "for color in listOfWords:\n",
    "    numLetters = 0 #resets to zero each time the loop runs\n",
    "    for letter in color:\n",
    "        numLetters += 1\n",
    "    temporaryList = [color, numLetters]\n",
    "    newList.append(temporaryList)\n",
    "    \n",
    "print(newList)"
   ]
  },
  {
   "cell_type": "markdown",
   "metadata": {},
   "source": [
    "**(Un-numbered Exercise).** <span style=\"color: gray;\">How could we write the code above with fewer lines? Is there a simpler way to find the length of each word?</span>"
   ]
  },
  {
   "cell_type": "markdown",
   "metadata": {},
   "source": [
    "<a href=\"Exercises_Solutions.html#for_loops\" target=\"_blank\">Solutions</a>"
   ]
  },
  {
   "cell_type": "markdown",
   "metadata": {},
   "source": [
    "### For Loops with Conditionals"
   ]
  },
  {
   "cell_type": "code",
   "execution_count": 3,
   "metadata": {},
   "outputs": [
    {
     "name": "stdout",
     "output_type": "stream",
     "text": [
      "[[95, 'A'], [90, 'A'], [66, 'D'], [83, 'B'], [71, 'C'], [78, 'C'], [93, 'A'], [81, 'B'], [87, 'B'], [81, 'B']]\n"
     ]
    }
   ],
   "source": [
    "scores=[95,90,66,83,71,78,93,81,87,81]\n",
    "grades=[]\n",
    "for score in scores:\n",
    "    if score>=90:\n",
    "        grade=\"A\"\n",
    "    elif score>=80:\n",
    "        grade=\"B\"\n",
    "    elif score>=70 and score<80:\n",
    "        grade=\"C\"\n",
    "    elif score>=60 and score<70:\n",
    "        grade=\"D\"\n",
    "    else:\n",
    "        grade=\"F\"\n",
    "    grades.append([score,grade])       \n",
    "print(grades)"
   ]
  },
  {
   "cell_type": "markdown",
   "metadata": {},
   "source": [
    "1. <span style=\"color: gray;\">Referencing the above code, why do I only specify `score>=80` etc. in the `elif` statements? Can any of these conditionals be simplified?</span>\n",
    "2. <span style=\"color: gray;\">How many numbers between 1 and 100 are divisible by 7?</span>\n",
    "3. <span style=\"color: gray;\">Make a new list of NATO codes keeping only those that use the letter \"a\" in their *code*.</span>\n",
    "4. Consider the following list of years:\n",
    "```\n",
    "years=[1990,1991,1992,1993,1994,1995,1996,1997,1998,1999,2000,\n",
    "        2001,2002,2003,2004,2005,2006,2007,2008,2009,2010,2011,\n",
    "        2012,2013,2014,2015,2016,2017,2018,2019,2020]    \n",
    "```\n",
    "   * Knowing that 2020 is a leap year and that leap years only occur every four years, iterate through the list. Use conditionals to add all leap years to a separate list (Hint: use the modulo function to determine which years are leap years). Print your new list of leap years."
   ]
  },
  {
   "cell_type": "markdown",
   "metadata": {},
   "source": [
    "<a href=\"Exercises_Solutions.html#for_loops_conditionals\" target=\"_blank\">Solutions</a>"
   ]
  },
  {
   "cell_type": "markdown",
   "metadata": {},
   "source": [
    "### Breaks"
   ]
  },
  {
   "cell_type": "markdown",
   "metadata": {},
   "source": [
    "1. <span style=\"color: gray;\">Use the `choices` function above to generate a random list of 50 numbers in 0-99. Write a loop that will find the sum of only the first 6 even numbers.</span>"
   ]
  },
  {
   "cell_type": "markdown",
   "metadata": {},
   "source": [
    "<a href=\"Exercises_Solutions.html#breaks\" target=\"_blank\">Solutions</a>"
   ]
  },
  {
   "cell_type": "markdown",
   "metadata": {},
   "source": [
    "## More Data Types"
   ]
  },
  {
   "cell_type": "markdown",
   "metadata": {},
   "source": [
    "### Comprehensions"
   ]
  },
  {
   "cell_type": "code",
   "execution_count": 4,
   "metadata": {},
   "outputs": [
    {
     "name": "stdout",
     "output_type": "stream",
     "text": [
      "{1: 1, 2: 4, 3: 9, 4: 16, 5: 25, 6: 36, 7: 49, 8: 64, 9: 81, 10: 100, 11: 121, 12: 144, 13: 169, 14: 196, 15: 225}\n"
     ]
    }
   ],
   "source": [
    "squaresdict={k:k**2 for k in range(1,16)}\n",
    "print(squaresdict)"
   ]
  },
  {
   "cell_type": "markdown",
   "metadata": {},
   "source": [
    "**1.** <span style=\"color: gray;\">Considering the code above, write a list comprehension to create a list of just the values (i.e. the squares) from `squaresdict`.</span>"
   ]
  },
  {
   "cell_type": "markdown",
   "metadata": {},
   "source": [
    "<a href=\"Exercises_Solutions.html#comprehensions\" target=\"_blank\">Solutions</a>"
   ]
  },
  {
   "cell_type": "markdown",
   "metadata": {},
   "source": [
    "## Pseudocode and Comments"
   ]
  },
  {
   "cell_type": "markdown",
   "metadata": {},
   "source": [
    "### Pseudocode"
   ]
  },
  {
   "cell_type": "code",
   "execution_count": 5,
   "metadata": {},
   "outputs": [],
   "source": [
    "random_words=[\"statement\", \"toy\", \"cars\", \"shoes\", \"ear\", \"busy\", \n",
    "              \"magnificent\", \"brainy\", \"healthy\", \"narrow\", \"join\", \n",
    "              \"decay\", \"dashing\", \"river\", \"gather\", \"stop\", \"satisfying\", \n",
    "              \"holistic\", \"reply\", \"steady\", \"event\", \"house\", \"amused\", \n",
    "              \"soak\", \"increase\"]\n",
    "\n",
    "vowels=[\"a\",\"e\",\"i\",\"o\",\"u\",\"y\"]\n",
    "\n",
    "output=[]\n",
    "\n",
    "for word in random_words:\n",
    "    count=0\n",
    "    for char in word:\n",
    "        if char in vowels:\n",
    "            count=count+1\n",
    "    if count>=3:\n",
    "        output.append([word,count])"
   ]
  },
  {
   "cell_type": "markdown",
   "metadata": {},
   "source": [
    "1. <span style=\"color: gray;\">Write pseudocode to summarize the code above.</span>\n",
    "2. <span style=\"color: gray;\">Write pseudocode to check an arbitrary list of numbers, `my_numbers`, to find all even numbers and convert them to odd numbers by adding one.  Put the resulting numbers into a new list `my_numbers2`.  (Recall `for` loops ,`if` conditions, and the modulo function `%` from Python 1.)</span>"
   ]
  },
  {
   "cell_type": "markdown",
   "metadata": {},
   "source": [
    "<a href=\"Exercises_Solutions.html#pseudocode\" target=\"_blank\">Solutions</a>"
   ]
  },
  {
   "cell_type": "markdown",
   "metadata": {},
   "source": [
    "### Comments"
   ]
  },
  {
   "cell_type": "code",
   "execution_count": 6,
   "metadata": {},
   "outputs": [],
   "source": [
    "#Example:\n",
    "\n",
    "#1. Get or define the list my_numbers\n",
    "my_numbers=list(range(100))\n",
    "\n",
    "#2. Create an empty list for the new all-odd numbers, called my_numbers2.\n",
    "\n",
    "#3. Use a loop to iterate through the list of numbers\n",
    "\n",
    "    #3a. For a given number check to see if it is even.\n",
    "    \n",
    "    #3b. If the number is even, add 1.\n",
    "    \n",
    "    #3c. Append the resulting number to the my_numbers2 list."
   ]
  },
  {
   "cell_type": "markdown",
   "metadata": {},
   "source": [
    "1. <span style=\"color: gray;\">Use your own pseudocode or the example above as an outline to fill in with Python code.  Test your code with the `my_numbers` object defined above.</span>"
   ]
  },
  {
   "cell_type": "markdown",
   "metadata": {},
   "source": [
    "<a href=\"Exercises_Solutions.html#comments\" target=\"_blank\">Solutions</a>"
   ]
  },
  {
   "cell_type": "markdown",
   "metadata": {},
   "source": [
    "## User-defined Functions"
   ]
  },
  {
   "cell_type": "markdown",
   "metadata": {},
   "source": [
    "1. <span style=\"color: gray;\">Define a function, `median` to find the median of a list.  The median is the middle number of an odd-numbered list or the average of the middle two numbers in an even numbered list.  (Hint: Use `sorted(<your_list>)` to create a list sorted from low to high values.</span>\n",
    "\n",
    "2. <span style=\"color: gray;\">Test your function with the lists below:</span>"
   ]
  },
  {
   "cell_type": "code",
   "execution_count": 7,
   "metadata": {},
   "outputs": [],
   "source": [
    "data1 = list(range(1,100))\n",
    "\n",
    "#Normally Distributed Data:\n",
    "from numpy.random import normal\n",
    "data2 = normal(loc=0,scale=2,size=100) #scale=2 defines the standard deviation as 2"
   ]
  },
  {
   "cell_type": "markdown",
   "metadata": {},
   "source": [
    "<a href=\"Exercises_Solutions.html#user_defined_functions\" target=\"_blank\">Solutions</a>"
   ]
  }
 ],
 "metadata": {
  "kernelspec": {
   "display_name": "Python 3",
   "language": "python",
   "name": "python3"
  },
  "language_info": {
   "codemirror_mode": {
    "name": "ipython",
    "version": 3
   },
   "file_extension": ".py",
   "mimetype": "text/x-python",
   "name": "python",
   "nbconvert_exporter": "python",
   "pygments_lexer": "ipython3",
   "version": "3.7.4"
  },
  "toc": {
   "base_numbering": 1,
   "nav_menu": {},
   "number_sections": false,
   "sideBar": true,
   "skip_h1_title": false,
   "title_cell": "Table of Contents",
   "title_sidebar": "Contents",
   "toc_cell": false,
   "toc_position": {},
   "toc_section_display": true,
   "toc_window_display": true
  }
 },
 "nbformat": 4,
 "nbformat_minor": 2
}
