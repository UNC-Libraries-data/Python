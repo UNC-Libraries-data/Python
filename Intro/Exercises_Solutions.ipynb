{
 "cells": [
  {
   "cell_type": "markdown",
   "metadata": {},
   "source": [
    "# Python Exercises (Solutions)"
   ]
  },
  {
   "cell_type": "markdown",
   "metadata": {},
   "source": [
    "**Note:** <span style=\"color: gray;\">Exercises in gray are those that appear in the [Introduction](Introduction.ipynb). Feel free to skip these if you have already completed them.</span>"
   ]
  },
  {
   "cell_type": "markdown",
   "metadata": {},
   "source": [
    "## Getting Started"
   ]
  },
  {
   "cell_type": "markdown",
   "metadata": {},
   "source": [
    "<a id='EnteringCode'></a>\n",
    "### Entering Code"
   ]
  },
  {
   "cell_type": "markdown",
   "metadata": {},
   "source": [
    "**1.** <span style=\"color: gray;\">What is 126544 squared? (Exponentiation is denoted `**`, i.e. $ 2^3 $ is `2**3` in Python).</span>"
   ]
  },
  {
   "cell_type": "code",
   "execution_count": 3,
   "metadata": {},
   "outputs": [
    {
     "data": {
      "text/plain": [
       "16013383936"
      ]
     },
     "execution_count": 3,
     "metadata": {},
     "output_type": "execute_result"
    }
   ],
   "source": [
    "126544**2"
   ]
  },
  {
   "cell_type": "markdown",
   "metadata": {},
   "source": [
    "**2.** <span style=\"color: gray;\">What is 5 divided by 0?</span>"
   ]
  },
  {
   "cell_type": "code",
   "execution_count": 4,
   "metadata": {},
   "outputs": [
    {
     "ename": "ZeroDivisionError",
     "evalue": "division by zero",
     "output_type": "error",
     "traceback": [
      "\u001b[1;31m---------------------------------------------------------------------------\u001b[0m",
      "\u001b[1;31mZeroDivisionError\u001b[0m                         Traceback (most recent call last)",
      "\u001b[1;32m<ipython-input-4-0106664d39e8>\u001b[0m in \u001b[0;36m<module>\u001b[1;34m\u001b[0m\n\u001b[1;32m----> 1\u001b[1;33m \u001b[1;36m5\u001b[0m\u001b[1;33m/\u001b[0m\u001b[1;36m0\u001b[0m\u001b[1;33m\u001b[0m\u001b[1;33m\u001b[0m\u001b[0m\n\u001b[0m",
      "\u001b[1;31mZeroDivisionError\u001b[0m: division by zero"
     ]
    }
   ],
   "source": [
    "5/0"
   ]
  },
  {
   "cell_type": "markdown",
   "metadata": {},
   "source": [
    "**3.** Mathematical operations in Python follow the standard order of operations. Parentheses in the wrong place can cause hard-to-find errors in your code. What is the difference between `6+5*10` and `(6+5)*10`?"
   ]
  },
  {
   "cell_type": "code",
   "execution_count": 13,
   "metadata": {
    "scrolled": true
   },
   "outputs": [
    {
     "name": "stdout",
     "output_type": "stream",
     "text": [
      "56\n",
      "110\n"
     ]
    }
   ],
   "source": [
    "#Here we use \"print\" statements so that both answers will be displayed.\n",
    "print(6+5*10)\n",
    "print((6+5)*10)"
   ]
  },
  {
   "cell_type": "markdown",
   "metadata": {},
   "source": [
    "**4.** Write some code to calculate the number of minutes in a year with a comment that describes what your code does."
   ]
  },
  {
   "cell_type": "code",
   "execution_count": 14,
   "metadata": {},
   "outputs": [
    {
     "data": {
      "text/plain": [
       "525600"
      ]
     },
     "execution_count": 14,
     "metadata": {},
     "output_type": "execute_result"
    }
   ],
   "source": [
    "#My code multiplies the days in a year by the hours in a day by the minutes in an hour.\n",
    "\n",
    "365*24*60"
   ]
  },
  {
   "cell_type": "markdown",
   "metadata": {},
   "source": [
    " **5.** What is the area of a square with a side length of 7? What is the volume of a cube with the same edge length?"
   ]
  },
  {
   "cell_type": "code",
   "execution_count": 15,
   "metadata": {
    "scrolled": true
   },
   "outputs": [
    {
     "data": {
      "text/plain": [
       "49"
      ]
     },
     "execution_count": 15,
     "metadata": {},
     "output_type": "execute_result"
    }
   ],
   "source": [
    "#square\n",
    "7**2"
   ]
  },
  {
   "cell_type": "code",
   "execution_count": 16,
   "metadata": {},
   "outputs": [
    {
     "data": {
      "text/plain": [
       "343"
      ]
     },
     "execution_count": 16,
     "metadata": {},
     "output_type": "execute_result"
    }
   ],
   "source": [
    "#cube\n",
    "7**3"
   ]
  },
  {
   "cell_type": "markdown",
   "metadata": {},
   "source": [
    "## Data Types and Variables"
   ]
  },
  {
   "cell_type": "markdown",
   "metadata": {},
   "source": [
    "<a id='StringsAndNumbers'></a>\n",
    "### Strings and Numbers"
   ]
  },
  {
   "cell_type": "markdown",
   "metadata": {},
   "source": [
    "**1.** <span style=\"color: gray;\">Define two variables, j and k, with values 37 and 52 respectively.</span>"
   ]
  },
  {
   "cell_type": "code",
   "execution_count": 20,
   "metadata": {},
   "outputs": [],
   "source": [
    "j=37\n",
    "k=52"
   ]
  },
  {
   "cell_type": "markdown",
   "metadata": {},
   "source": [
    "+  <span style=\"color: gray;\">What is the sum of `j` and `k`? The product?  Write code for each of these in the **editor window**, and run with the keyboard shortcut (refer back to Section 1. Entering Code).</span>\n",
    "![VarExercise2.png](Images/VarExercise2.png)"
   ]
  },
  {
   "cell_type": "markdown",
   "metadata": {},
   "source": [
    " + Now re-assign `j` and `k` to have the vales 8 and 3 respectively.  Re-use your code from the editor to determine their sum and product.\n",
    "![VarExercise3.png](Images/VarExercise3.png)"
   ]
  },
  {
   "cell_type": "markdown",
   "metadata": {},
   "source": [
    "**2.** Now let us calculate the number of minutes in a year again, this time using variables for each unit of time. Instead of a comment, print a statement that describes what your code does.\n",
    "![VarExercise4.png](Images/VarExercise4.png)"
   ]
  },
  {
   "cell_type": "markdown",
   "metadata": {},
   "source": [
    "* Leap Year:"
   ]
  },
  {
   "cell_type": "code",
   "execution_count": 1,
   "metadata": {},
   "outputs": [
    {
     "name": "stdout",
     "output_type": "stream",
     "text": [
      "525600\n",
      "527040\n"
     ]
    }
   ],
   "source": [
    "DaysInNormalYear=365\n",
    "DaysInLeapYear=366\n",
    "HoursInDay=24\n",
    "MinutesInHour=60\n",
    "\n",
    "MinutesInNormalYear = DaysInNormalYear*HoursInDay*MinutesInHour\n",
    "MinutesInLeapYear = DaysInLeapYear*HoursInDay*MinutesInHour\n",
    "\n",
    "print(MinutesInNormalYear)\n",
    "print(MinutesInLeapYear)"
   ]
  },
  {
   "cell_type": "markdown",
   "metadata": {},
   "source": [
    "**3.** Define the following variables: `num=23`, `textnum=\"57\"`, and `decimal=98.3`. Print the types of each variable. What is the sum of your variables? (*Hint:* use a type conversion function.) What datatype is the sum?\n",
    "![VarExercise5.png](Images/VarExercise5.png)"
   ]
  },
  {
   "cell_type": "markdown",
   "metadata": {},
   "source": [
    "**4.** You can use the print function to print multiple variables of different types on a single line. This can be done by using comma to separate variables within the parentheses of the print function. For example: `print(variable1, variable2).` You can also print raw values that have not been assigned variables. For example, `print(\"This is variable 1: \", 67)`. \n",
    "  * For this exercise, define 5-10 numbers as variables."
   ]
  },
  {
   "cell_type": "code",
   "execution_count": 8,
   "metadata": {},
   "outputs": [],
   "source": [
    "num1 = 58\n",
    "num2 = 45\n",
    "num3 = 95857\n",
    "num4 = 1\n",
    "num5 = 99\n",
    "num6 = 68\n",
    "num7 = 2"
   ]
  },
  {
   "cell_type": "markdown",
   "metadata": {},
   "source": [
    "  * Use a single `print` statement to print all of the even numbers out of your newly defined variables with the following statement, \"These are my even numbers:\". "
   ]
  },
  {
   "cell_type": "code",
   "execution_count": 9,
   "metadata": {},
   "outputs": [
    {
     "name": "stdout",
     "output_type": "stream",
     "text": [
      "These are my even numbers: 58 68 2\n"
     ]
    }
   ],
   "source": [
    "print(\"These are my even numbers:\", num1, num6, num7)"
   ]
  },
  {
   "cell_type": "markdown",
   "metadata": {},
   "source": [
    "  * Can you think of a way to write your output as a single complete sentence? (Hint: you'll probably need to use at least one type conversion function)"
   ]
  },
  {
   "cell_type": "code",
   "execution_count": 10,
   "metadata": {},
   "outputs": [
    {
     "name": "stdout",
     "output_type": "stream",
     "text": [
      "The even numbers out my newly defined variables are 58, 68, and 2.\n"
     ]
    }
   ],
   "source": [
    "print(\"The even numbers out my newly defined variables are \" + str(num1) + \", \" + str(num6) + \", and \" + str(num7) + \".\")"
   ]
  },
  {
   "cell_type": "markdown",
   "metadata": {},
   "source": [
    "<a id='Lists'></a>\n",
    "### Lists"
   ]
  },
  {
   "cell_type": "markdown",
   "metadata": {},
   "source": [
    "**1.** <span style=\"color: gray;\">Create a list of:</span>\n",
    "   * <span style=\"color: gray;\">your favorite color (str)</span>\n",
    "   * <span style=\"color: gray;\">your two favorite holidays (list)</span>\n",
    "    \n",
    "    <span style=\"color: gray;\">For example:</span>\n",
    "    `[\"red\",[\"Halloween\",\"New Years\"]]`"
   ]
  },
  {
   "cell_type": "code",
   "execution_count": 1,
   "metadata": {},
   "outputs": [],
   "source": [
    "MyList = [\"red\",[\"Halloween\", \"New Years\"]]"
   ]
  },
  {
   "cell_type": "markdown",
   "metadata": {},
   "source": [
    "**2.** <span style=\"color: gray;\">Then append the number of pets you have (int) as a new list item. Print your new list.</span>"
   ]
  },
  {
   "cell_type": "code",
   "execution_count": 5,
   "metadata": {},
   "outputs": [
    {
     "name": "stdout",
     "output_type": "stream",
     "text": [
      "['red', ['Halloween', 'New Years'], 3]\n"
     ]
    }
   ],
   "source": [
    "MyList.append(3)\n",
    "print(MyList)"
   ]
  },
  {
   "cell_type": "markdown",
   "metadata": {},
   "source": [
    "**3.** Create a list that includes the number of days in a normal year as well as the number of days in a leap year. Now create a separate list that includes the number of hours in a day as well as the number of minutes in an hour. Append your first list to your second list. Your final list should look something like this:\n",
    "   * Number of hours in a day (int)\n",
    "   * Number of minutes in an hour (int)\n",
    "   * List that includes the number of days in a normal year as well as the number of days in a leap year (list)"
   ]
  },
  {
   "cell_type": "code",
   "execution_count": 7,
   "metadata": {},
   "outputs": [
    {
     "name": "stdout",
     "output_type": "stream",
     "text": [
      "[24, 60, [365, 366]]\n"
     ]
    }
   ],
   "source": [
    "list1=[365, 366]\n",
    "list2=[24, 60]\n",
    "list2.append(list1)\n",
    "\n",
    "print(list2)"
   ]
  },
  {
   "cell_type": "markdown",
   "metadata": {},
   "source": [
    "<a id='Indexing'></a>\n",
    "### Indexing"
   ]
  },
  {
   "cell_type": "markdown",
   "metadata": {},
   "source": [
    "**1.** <span style=\"color: gray;\">Try to use indexing to get the tenth digit of `my_pi` as defined below.  Does it work as defined?  Do we need to change the variable somehow?</span>\n",
    "```\n",
    "my_pi=3.141592653589793\n",
    "```"
   ]
  },
  {
   "cell_type": "code",
   "execution_count": 2,
   "metadata": {},
   "outputs": [
    {
     "ename": "TypeError",
     "evalue": "'float' object is not subscriptable",
     "output_type": "error",
     "traceback": [
      "\u001b[1;31m---------------------------------------------------------------------------\u001b[0m",
      "\u001b[1;31mTypeError\u001b[0m                                 Traceback (most recent call last)",
      "\u001b[1;32m<ipython-input-2-1d04b900f493>\u001b[0m in \u001b[0;36m<module>\u001b[1;34m\u001b[0m\n\u001b[0;32m      1\u001b[0m \u001b[0mmy_pi\u001b[0m\u001b[1;33m=\u001b[0m\u001b[1;36m3.141592653589793\u001b[0m\u001b[1;33m\u001b[0m\u001b[1;33m\u001b[0m\u001b[0m\n\u001b[1;32m----> 2\u001b[1;33m \u001b[0mprint\u001b[0m\u001b[1;33m(\u001b[0m\u001b[0mmy_pi\u001b[0m\u001b[1;33m[\u001b[0m\u001b[1;36m10\u001b[0m\u001b[1;33m]\u001b[0m\u001b[1;33m)\u001b[0m\u001b[1;33m\u001b[0m\u001b[1;33m\u001b[0m\u001b[0m\n\u001b[0m",
      "\u001b[1;31mTypeError\u001b[0m: 'float' object is not subscriptable"
     ]
    }
   ],
   "source": [
    "my_pi=3.141592653589793\n",
    "print(my_pi[10])"
   ]
  },
  {
   "cell_type": "markdown",
   "metadata": {},
   "source": [
    "* <span style=\"color: gray;\">This error means that you cannot access digits in a float in the same way that you can access characters in a string or indices in a list. You can access individual digits by converting the variable to a string before 'slicing' it into individual elements.</span>"
   ]
  },
  {
   "cell_type": "code",
   "execution_count": 3,
   "metadata": {},
   "outputs": [
    {
     "name": "stdout",
     "output_type": "stream",
     "text": [
      "3\n"
     ]
    }
   ],
   "source": [
    "my_pi=3.141592653589793\n",
    "my_pi=str(my_pi)\n",
    "print(my_pi[10])\n",
    "#Note that we access the 10th digit using the number 10, rather than 9. This is because the decimal \n",
    "#occupies the location at my_pi[1]."
   ]
  },
  {
   "cell_type": "markdown",
   "metadata": {},
   "source": [
    "**2.** <span style=\"color: gray;\">Below is a list of lists containing the NATO phonetic codes for each letter of the alphabet.  Each list within `nato` contains a letter of the alphabet and its corresponding code.</span>\n",
    "```\n",
    "nato = [[\"A\", \"Alfa\"],\n",
    "          [\"B\", \"Bravo\"],\n",
    "          [\"C\", \"Charlie\"],\n",
    "          [\"D\", \"Delta\"],\n",
    "          [\"E\", \"Echo\"],\n",
    "          [\"F\", \"Foxtrot\"],\n",
    "          [\"G\", \"Golf\"],\n",
    "          [\"H\", \"Hotel\"],\n",
    "          [\"I\", \"India\"],\n",
    "          [\"J\", \"Juliett\"],\n",
    "          [\"K\", \"Kilo\"],\n",
    "          [\"L\", \"Lima\"],\n",
    "          [\"M\", \"Mike\"],\n",
    "          [\"N\", \"November\"],\n",
    "          [\"O\", \"Oscar\"],\n",
    "          [\"P\", \"Papa\"],\n",
    "          [\"Q\", \"Quebec\"],\n",
    "          [\"R\", \"Romeo\"],\n",
    "          [\"S\", \"Sierra\"],\n",
    "          [\"T\", \"Tango\"],\n",
    "          [\"U\", \"Uniform\"],\n",
    "          [\"V\", \"Victor\"],\n",
    "          [\"W\", \"Whiskey\"],\n",
    "          [\"X\", \"X-ray\"],\n",
    "          [\"Y\", \"Yankee\"],\n",
    "          [\"Z\", \"Zulu\"]]\n",
    "```\n",
    "\n",
    "   * <span style=\"color: gray;\">What is the fifteenth letter of the alphabet?</span>\n",
    "   * <span style=\"color: gray;\">What is the code for the twenty-third letter of the alphabet?</span>\n",
    "   * <span style=\"color: gray;\">What is the fourth letter of the code for the eighth letter of the alphabet?</span>"
   ]
  },
  {
   "cell_type": "code",
   "execution_count": 4,
   "metadata": {},
   "outputs": [
    {
     "name": "stdout",
     "output_type": "stream",
     "text": [
      "O\n",
      "Whiskey\n",
      "e\n"
     ]
    }
   ],
   "source": [
    "nato = [[\"A\", \"Alfa\"],\n",
    "          [\"B\", \"Bravo\"],\n",
    "          [\"C\", \"Charlie\"],\n",
    "          [\"D\", \"Delta\"],\n",
    "          [\"E\", \"Echo\"],\n",
    "          [\"F\", \"Foxtrot\"],\n",
    "          [\"G\", \"Golf\"],\n",
    "          [\"H\", \"Hotel\"],\n",
    "          [\"I\", \"India\"],\n",
    "          [\"J\", \"Juliett\"],\n",
    "          [\"K\", \"Kilo\"],\n",
    "          [\"L\", \"Lima\"],\n",
    "          [\"M\", \"Mike\"],\n",
    "          [\"N\", \"November\"],\n",
    "          [\"O\", \"Oscar\"],\n",
    "          [\"P\", \"Papa\"],\n",
    "          [\"Q\", \"Quebec\"],\n",
    "          [\"R\", \"Romeo\"],\n",
    "          [\"S\", \"Sierra\"],\n",
    "          [\"T\", \"Tango\"],\n",
    "          [\"U\", \"Uniform\"],\n",
    "          [\"V\", \"Victor\"],\n",
    "          [\"W\", \"Whiskey\"],\n",
    "          [\"X\", \"X-ray\"],\n",
    "          [\"Y\", \"Yankee\"],\n",
    "          [\"Z\", \"Zulu\"]]\n",
    "\n",
    "# 3. - 15th letter is: [\"O\", \"Oscar\"]\n",
    "print(nato[14][0])\n",
    "\n",
    "# 4. - 23rd letter is: [\"W\", Whiskey]\n",
    "print(nato[22][1])\n",
    "\n",
    "# 5. - 8th letter is: [\"H\", \"Hotel\"]\n",
    "print(nato[7][1][3])\n"
   ]
  },
  {
   "cell_type": "markdown",
   "metadata": {},
   "source": [
    "**3.** Let's perform some more minutes-in-year calculations (I bet you thought you were done with this by now!). Using the lists you created above, calculate and print the number of minutes in a normal year. Now calculate and print the number of minutes in a leap year. Print your results."
   ]
  },
  {
   "cell_type": "markdown",
   "metadata": {},
   "source": [
    "**4.** Consider the following list of sentences:\n",
    "```\n",
    "Sentences = [\n",
    "  \"I went to The Ohio State University\",\n",
    "  \"Add just a bit more.\",\n",
    "  \"Cars drive quickly.\",\n",
    "  \"He heard yells outside.\",\n",
    "  \"What is your name?\",\n",
    "  \"Bob was very exasperated.\",\n",
    "  \"Give me the keys.\",\n",
    "  \"Boy oh boy am I glad to see you!\",\n",
    "  \"Students in the hallway whispered loudly.\",\n",
    "  \"You're learning Python!\",\n",
    "  \"What is the capital of Florida?\"\n",
    "]\n",
    "```\n",
    "   * Can you create the following sentence using only elements from this list? `sentence = \"The boy yells loudly.\"` In other words, create and print this sentence without typing any new bits of text.\n",
    "      * Hint: The `.split()` function can be used to split a string into a list of words. For example: `str = \"I want pizza.\"` Using the following code, you can split the sentence `str` into a list of words separated by spaces: `list = str.split(\" \")`. This command uses whitespaces `(\" \")` to separate words into a list, leading to the following output: `[\"I\", \"want\", \"pizza.\"]`. You can now use list indexing to easily access words within a sentence. For example, `list[2]` would output the word `\"pizza.\"`\n",
    "      * Hint Hint: Use the `.join()` function to join elements of a list into a string. Let's use our earlier example, where `list=[\"I\", \"want\", \"pizza.\"]`. Here, the command `\" \".join(list)` glues all of the elements in `list` together with whitespaces (`\" \"`) between them. As a result, using the command `str = \" \".join(list)` will bring us back to where we started! `str = \"I want pizza.\"`\n",
    "![IndexingExercise3_1.png](Images/IndexingExercise3_1.png)"
   ]
  },
  {
   "cell_type": "markdown",
   "metadata": {},
   "source": [
    "   * Can you create a \"MyName\" variable that stores your name using only elements from the `sentences` list above? In other words, create and print your name without typing any new bits of text.\n",
    "   ![IndexingExercise3_2.png](Images/IndexingExercise3_2.png)"
   ]
  },
  {
   "cell_type": "markdown",
   "metadata": {},
   "source": [
    "## Flow Control"
   ]
  },
  {
   "cell_type": "markdown",
   "metadata": {},
   "source": [
    "<a id='ConditionsBooleans'></a>\n",
    "### Conditions and Booleans / Conditional Statements"
   ]
  },
  {
   "cell_type": "markdown",
   "metadata": {},
   "source": [
    "**1.** <span style=\"color: gray;\">Using indexing, write a conditional that print a word only if it ends with the letter 'e'.</span>\n",
    "```\n",
    "#Template:\n",
    "testword=<your choice of word>\n",
    "if <condition using testword>:\n",
    "        print(testword)\n",
    "```"
   ]
  },
  {
   "cell_type": "code",
   "execution_count": 11,
   "metadata": {},
   "outputs": [
    {
     "name": "stdout",
     "output_type": "stream",
     "text": [
      "base\n"
     ]
    }
   ],
   "source": [
    "testword = \"base\"\n",
    "if testword[-1]==\"e\":\n",
    "    print(testword)"
   ]
  },
  {
   "cell_type": "markdown",
   "metadata": {},
   "source": [
    "**2.** The `input` function can be used to ask the user for information. In the example below, we ask the user to type something and print their response. The `input` function prompts the user, while the `str` function converts their response to a string so that it won't confuse the computer. This information is stored using the variable `user_response` after the user types their response and presses the \"Enter\" key.\n",
    "```\n",
    "user_response = str(input(\"Please type something: \"))\n",
    "```\n",
    "* Using the above technique, prompt the user to type a word and save that word as a variable. Write a conditional statement (`if`, `elif`, `else`) that checks their entry for the conditions below. Print different messagess that describe the word if it satisfies any of the individual conditions.\n",
    "     * Did the user enter any text at all?\n",
    "     * Does their word contain the letter \"i\" or the letter \"b\"?\n",
    "     * Is the word longer than 5 characters?\n",
    "     * Did they simply type \"word\"?\n",
    "     * Did their word not satsify any of the above conditions?\n",
    "* For example:\n",
    "```\n",
    "testword = str(input(\"Please type a word: \"))\n",
    "if testword <condition concerning testword>\n",
    "        print(<message describing why that word satisfied the condition>)\n",
    "elif testword <condition concerning testword>\n",
    "        print(<message describing why that word satisfied the condition>)\n",
    "#etc...\n",
    "```\n",
    "![ConditionalsExercise2.png](Images/ConditionalsExercise2.png)"
   ]
  },
  {
   "cell_type": "code",
   "execution_count": null,
   "metadata": {},
   "outputs": [],
   "source": []
  }
 ],
 "metadata": {
  "kernelspec": {
   "display_name": "Python 3",
   "language": "python",
   "name": "python3"
  },
  "language_info": {
   "codemirror_mode": {
    "name": "ipython",
    "version": 3
   },
   "file_extension": ".py",
   "mimetype": "text/x-python",
   "name": "python",
   "nbconvert_exporter": "python",
   "pygments_lexer": "ipython3",
   "version": "3.7.3"
  },
  "toc": {
   "base_numbering": 1,
   "nav_menu": {},
   "number_sections": false,
   "sideBar": true,
   "skip_h1_title": false,
   "title_cell": "Table of Contents",
   "title_sidebar": "Contents",
   "toc_cell": false,
   "toc_position": {},
   "toc_section_display": true,
   "toc_window_display": true
  }
 },
 "nbformat": 4,
 "nbformat_minor": 2
}
