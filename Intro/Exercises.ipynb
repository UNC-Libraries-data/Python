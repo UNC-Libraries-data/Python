{
 "cells": [
  {
   "cell_type": "markdown",
   "metadata": {},
   "source": [
    "# Python Exercises"
   ]
  },
  {
   "cell_type": "markdown",
   "metadata": {},
   "source": [
    "**Note:** <span style=\"color: gray;\">Exercises in gray are those that appear in the [Introduction](Introduction.ipynb). Feel free to skip these if you have already completed them.</span>"
   ]
  },
  {
   "cell_type": "markdown",
   "metadata": {},
   "source": [
    "## Getting Started"
   ]
  },
  {
   "cell_type": "markdown",
   "metadata": {},
   "source": [
    "### Entering Code"
   ]
  },
  {
   "cell_type": "markdown",
   "metadata": {},
   "source": [
    "1. <span style=\"color: gray;\">What is 126544 squared? (Exponentiation is denoted `**`, i.e. $ 2^3 $ is `2**3` in Python).</span>\n",
    "2. <span style=\"color: gray;\">What is 5 divided by 0?</span>\n",
    "3. Mathematical operations in Python follow the standard order of operations. Parentheses in the wrong place can cause hard-to-find errors in your code. What is the difference between `6+5*10` and `(6+5)*10`?\n",
    "4. Write some code to calculate the number of minutes in a year with a comment that describes what your code does.\n",
    "5. What is the area of a square with a side length of 7? What is the volume of a cube with the same edge length?"
   ]
  },
  {
   "cell_type": "markdown",
   "metadata": {},
   "source": [
    "## Data Types and Variables"
   ]
  },
  {
   "cell_type": "markdown",
   "metadata": {},
   "source": [
    "### Strings and Numbers"
   ]
  },
  {
   "cell_type": "markdown",
   "metadata": {},
   "source": [
    "1. <span style=\"color: gray;\">Define two variables, j and k, with values 37 and 52 respectively.</span>\n",
    " + <span style=\"color: gray;\">What is the sum of `j` and `k`? The product?  Write code for each of these in the **editor window**, and run with the keyboard shortcut (refer back to Section 1. Entering Code).</span>\n",
    " + <span style=\"color: gray;\">Now re-assign `j` and `k` to have the vales 8 and 3 respectively.  Re-use your code from the editor to determine their sum and product.</span>\n",
    "2. Now let us calculate the number of minutes in a year again, this time using variables for each unit of time. Instead of a comment, print a statement that describes what your code does.\n",
    " * Variables allow help you to more easily account for a variety of situations. For example, 2020 happens to be a leap year. How does that change your code? Make a new variable that accounts for the number of days in a leap year. You can now easily change your code to print the number of minutes in a leap year as opposed to a non-leap-year.\n",
    "3. Define the variables below. Print the types of each variable. What is the sum of your variables? (*Hint:* use a type conversion function.) What datatype is the sum?\n",
    "```\n",
    "num=23\n",
    "textnum=\"57\"\n",
    "decimal=98.3\n",
    "```\n",
    "4. You can use the print function to print multiple variables of different types on a single line. This can be done by using comma to separate variables within the parentheses of the print function. For example: `print(variable1, variable2).` You can also print raw values that have not been assigned variables. For example, `print(\"This is variable 1: \", 67)`. \n",
    "    * For this exercise, define 5-10 numbers as variables.\n",
    "    ```\n",
    "    num1=...\n",
    "    num2=...\n",
    "    num3=...\n",
    "    num4=...\n",
    "    num5=...\n",
    "    num6=...\n",
    "    num7=...\n",
    "    num8=...\n",
    "    num9=...\n",
    "    num10=...\n",
    "    ```\n",
    "    * Use a single `print` statement to print all of the even numbers out of your newly defined variables with the following statement, \"These are my even numbers:\". \n",
    "    * Can you think of a way to write your output as a single complete sentence? (Hint: you'll probably need to use at least one type conversion function)"
   ]
  },
  {
   "cell_type": "markdown",
   "metadata": {},
   "source": [
    "### Lists"
   ]
  },
  {
   "cell_type": "markdown",
   "metadata": {},
   "source": [
    "1. <span style=\"color: gray;\">Create a list of:</span>\n",
    "     * <span style=\"color: gray;\">your favorite color (str)</span>\n",
    "     * <span style=\"color: gray;\">your two favorite holidays (list)</span>\n",
    "    \n",
    "    <span style=\"color: gray;\">For example:</span>\n",
    "    `[\"red\", [\"Halloween\", \"New Years\"]]`\n",
    "2. <span style=\"color: gray;\">Then append the number of pets you have (int) as a new list item. Print your new list.</span>\n",
    "3. Create a list that includes the number of days in a normal year as well as the number of days in a leap year. Now create a separate list that includes the number of hours in a day as well as the number of minutes in an hour. Append your first list to your second list. Your final list should look something like this:\n",
    "    * Number of hours in a day\n",
    "    * Number of minutes in an hour\n",
    "    * List that includes the number of days in a normal year as well as the number of days in a leap year"
   ]
  },
  {
   "cell_type": "markdown",
   "metadata": {},
   "source": [
    "### Indexing"
   ]
  },
  {
   "cell_type": "markdown",
   "metadata": {},
   "source": [
    "1. <span style=\"color: gray;\">Try to use indexing to get the tenth digit of `my_pi` as defined below.  Does it work as defined?  Do we need to change the variable somehow?</span>\n",
    "```\n",
    "my_pi = 3.141592653589793\n",
    "```\n",
    "\n",
    "2. <span style=\"color: gray;\">Below is a list of lists containing the NATO phonetic codes for each letter of the alphabet.  Each list within `nato` contains a letter of the alphabet and its corresponding code.</span>\n",
    "```\n",
    "nato = [[\"A\", \"Alfa\"],\n",
    "          [\"B\", \"Bravo\"],\n",
    "          [\"C\", \"Charlie\"],\n",
    "          [\"D\", \"Delta\"],\n",
    "          [\"E\", \"Echo\"],\n",
    "          [\"F\", \"Foxtrot\"],\n",
    "          [\"G\", \"Golf\"],\n",
    "          [\"H\", \"Hotel\"],\n",
    "          [\"I\", \"India\"],\n",
    "          [\"J\", \"Juliett\"],\n",
    "          [\"K\", \"Kilo\"],\n",
    "          [\"L\", \"Lima\"],\n",
    "          [\"M\", \"Mike\"],\n",
    "          [\"N\", \"November\"],\n",
    "          [\"O\", \"Oscar\"],\n",
    "          [\"P\", \"Papa\"],\n",
    "          [\"Q\", \"Quebec\"],\n",
    "          [\"R\", \"Romeo\"],\n",
    "          [\"S\", \"Sierra\"],\n",
    "          [\"T\", \"Tango\"],\n",
    "          [\"U\", \"Uniform\"],\n",
    "          [\"V\", \"Victor\"],\n",
    "          [\"W\", \"Whiskey\"],\n",
    "          [\"X\", \"X-ray\"],\n",
    "          [\"Y\", \"Yankee\"],\n",
    "          [\"Z\", \"Zulu\"]]\n",
    "```\n",
    "\n",
    "   * <span style=\"color: gray;\">What is the fifteenth letter of the alphabet?</span>\n",
    "   * <span style=\"color: gray;\">What is the code for the twenty-third letter of the alphabet?</span>\n",
    "   * <span style=\"color: gray;\">What is the fourth letter of the code for the eighth letter of the alphabet?</span>\n",
    "\n",
    "3. Let's perform some more minutes-in-year calculations (*I bet you thought you were done with this by now - think again!*). Using the lists you created above, calculate and print the number of minutes in a normal year. Now calculate and print the number of minutes in a leap year. Print your results.\n",
    "4. Consider the following list of sentences:\n",
    "```\n",
    "Sentences = [\n",
    "  \"I went to The Ohio State University\",\n",
    "  \"Add just a bit more.\",\n",
    "  \"Cars drive quickly.\",\n",
    "  \"He heard yells outside.\",\n",
    "  \"What is your name?\",\n",
    "  \"Bob was very exasperated.\",\n",
    "  \"Give me the keys.\",\n",
    "  \"Boy oh boy am I glad to see you!\",\n",
    "  \"Students in the hallway whispered loudly.\",\n",
    "  \"You're learning Python!\",\n",
    "  \"What is the capital of Florida?\"\n",
    "]\n",
    "```\n",
    "   * Can you create the following sentence using only elements from this list? `sentence = \"The boy yells loudly.\"` In other words, create and print this sentence without typing any new bits of text.\n",
    "      * Hint: The `.split()` function can be used to split a string into a list of words. For example: `str = \"I want pizza.\"` Using the following code, you can split the sentence `str` into a list of words separated by spaces: `list = str.split(\" \")`. This command uses whitespaces `(\" \")` to separate words into a list, leading to the following output: `[\"I\", \"want\", \"pizza.\"]`. You can now use list indexing to easily access words within a sentence. For example, `list[2]` would output the word `\"pizza.\"`\n",
    "      * Hint Hint: Use the `.join()` function to join elements of a list into a string. Let's use our earlier example, where `list=[\"I\", \"want\", \"pizza.\"]`. Here, the command `\" \".join(list)` glues all of the elements in `list` together with whitespaces (`\" \"`) between them. As a result, using the command `str = \" \".join(list)` will bring us back to where we started! `str = \"I want pizza.\"`\n",
    "\n",
    "   * Can you create a \"MyName\" variable that stores your name using only elements from the `sentences` list above? In other words, create and print your name without typing any new bits of text."
   ]
  }
 ],
 "metadata": {
  "kernelspec": {
   "display_name": "Python 3",
   "language": "python",
   "name": "python3"
  },
  "language_info": {
   "codemirror_mode": {
    "name": "ipython",
    "version": 3
   },
   "file_extension": ".py",
   "mimetype": "text/x-python",
   "name": "python",
   "nbconvert_exporter": "python",
   "pygments_lexer": "ipython3",
   "version": "3.7.3"
  },
  "toc": {
   "base_numbering": 1,
   "nav_menu": {},
   "number_sections": false,
   "sideBar": true,
   "skip_h1_title": false,
   "title_cell": "Table of Contents",
   "title_sidebar": "Contents",
   "toc_cell": false,
   "toc_position": {},
   "toc_section_display": true,
   "toc_window_display": true
  }
 },
 "nbformat": 4,
 "nbformat_minor": 2
}
