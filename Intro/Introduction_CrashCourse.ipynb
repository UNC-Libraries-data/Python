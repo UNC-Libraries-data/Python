{
 "cells": [
  {
   "cell_type": "markdown",
   "metadata": {},
   "source": [
    "# Python: Introduction\n",
    "\n",
    "*University Libraries at the University of North Carolina at Chapel Hill*"
   ]
  },
  {
   "cell_type": "markdown",
   "metadata": {},
   "source": [
    "**Goals:**\n",
    "\n",
    "* Learn to work with basic Python data types and objects\n",
    "* Introduce Loops and Conditionals\n",
    "\n",
    "## Why Python?\n",
    "\n",
    ">**What is a programming language?**\n",
    "\n",
    ">Programming languages allow one to write instructions in human-readable form that can then be read and understood by a computer. \"High level\" languages like Python translate sets of commands or instructions (programs) created by people (programmers) to \"low level\" languages more readily understood by the computer. Once these instructions have been translated the computer can then follow the steps within to perform a specific task. (For more information on high- and low-level languages, please see this [definition](https://www.computerscience.gcse.guru/theory/high-low-level-languages).)\n",
    "\n",
    ">Python is a general-purpose programming language that has become popular for data and text analysis.  Python can be easier to learn than other languages because it emphasizes (human) readability and flexibility.  Python is [the second most used language on GitHub](https://octoverse.github.com/#trends); this means you'll find packages (sets of functionality developed by other users) to use Python for a wide variety of problems and tasks.\n",
    "\n",
    ">If you haven't worked with a programming language before, learning Python will introduce you to methods used in many programming languages, making it easier to learn other languages like Java and R later on.\n",
    "\n",
    "### Use Cases\n",
    "\n",
    "#### Scripting\n",
    ">Writing code to automate repeptitive tasks.  For example, you might need to extract text from thousands of pdf files and sort them into directories based on whether the texts mention particular phrases.  To do this, you would need to create instructions for how to find the pdfs (and skip any non-pdfs!), open them, extract text, search for the key terms, then move the file to the proper final location.   In this series, we'll learn about some of the fundamental building blocks for translating a such processes into instructions the computer can understand.  The other uses outlined below often involve some element of automation!\n",
    "\n",
    "#### Natural Language Processing\n",
    ">The `NLTK` package provides tools for dealing with unstructured text such as parsing words and sentences, or tagging parts of speech.  `tesseract` applies optical character recognition (OCR) to transform images into machine readable text.  Other packages provide access to algorithms like topic modeling on text corpora.  Scripting to automate these steps is necessary to apply these algorithms to the vast corpora common in NLP (for example, [Early English Books Online](https://eebo.chadwyck.com/about/about.htm) provides access to 130,000 works produced in English from 1473-1700).\n",
    "\n",
    "#### Data Science\n",
    ">Python has a well-developed ecosystem of specialized tools and functions for everything from fitting deep learning models with `tensorflow` to creating visualizations with `seaborn`.  Most of these tasks aren't directly covered in Python's standard functionality (our focus today).  Later on, we'll explore some of the foundational packages used for Data Science in Python: the SciPy ecosystem, especially `pandas`.\n",
    "\n",
    "#### Others\n",
    ">There are also packages available in Python for web development (`Django`), image processing (`pillow`), web scraping (`BeautifulSoup`), APIs, databases, games (`pygame`), psychological experiments (`PsychoPy`), astronomy (`astropy`), and many many other uses. \n",
    "\n",
    ">[Jupyter](https://jupyter.org/) Notebooks are a popular tool to share python code in a \"literate\" format, mixing regular english with code and outputs, including formatted tables, visualizations, etc., for easy comprehension by non-Python users.  We'll explore Jupyter Notebooks later on in this series of workshops.\n",
    "\n",
    ">However, there are few things you can do in Python that can't also be done in other languages!  If you already know one or more programming language, you'll have to decide where Python best fits in your own workflows.\n",
    "\n",
    "\n",
    "\n",
    "### Python vs. R\n",
    "\n",
    "R is another popular language often compared to Python in the realm of data science.  Each has relative strengths and weaknesses, but in most cases Python and R can ultimately accomplish the same goals.  We also teach a series of workshops introducing the R language: [R Open Labs](http://ropenlabs.web.unc.edu/), however we usually recommend that you focus on one \n",
    "language at a time to avoid confusion!\n",
    "\n",
    "###  Python 2 vs. Python 3\n",
    "\n",
    "Both Python 2 and Python 3 are widely used in research.  Unfortunately, while both Python 2 and 3 are very similar, there are a few key syntax differences: Python 3 cannot always run Python 2 code (or vice versa).\n",
    "\n",
    "Python 3 was released in 2008; since then, nearly all important tools have been re-written or updated for Python 3.  **Python 2 is not maintained as of January 1, 2020.**  This workshop will use **Python 3**.\n",
    "\n",
    "### <font color=red>Warning!</font>\n",
    "\n",
    "If you're already comfortable with basic programming concepts, you'll probably find this workshop very straightforward.  The later workshops in the series may be more helpful if you're already familiar with the concepts below and just need to learn new syntax.  Experienced attendees are more than welcome to stay, review, and help others!\n",
    "\n",
    "\n",
    "## Getting Started\n",
    "\n",
    "### IDEs\n",
    "<blockquote>\n",
    "    \n",
    "An Integrated Development Environment (IDE) is software that combines many tools to help you use a programming language, such as a code editor, compiler, and debugger in a convenient interface. There are many different IDEs to choose from.  IDEs are not necessary, but are often good for beginners and useful for experienced users.\n",
    "\n",
    "As you gain experience, you can choose whether an IDE is right for your uses and which one works best for you. For the purposes of this workshop, we will use Spyder, which comes packaged with Anaconda.\n",
    "\n",
    "\n",
    "Open Spyder:\n",
    "<ul>\n",
    "    <li><strong>Windows:</strong> Start > Anaconda3 64-bit > Spyder</li>\n",
    "    <li><strong>Mac:</strong> Applications > Anaconda Navigator > Spyder</li>\n",
    "</ul>\n",
    "    \n",
    "<img src=\"../Intro/images/SpyderIDE.png\" alt=\"Layout of Spyder IDE\">\n",
    "\n",
    "Spyder's default interface provides three panes:\n",
    "\n",
    "\n",
    "<ul>\n",
    "<li>The Editor pane (left) is a scripting window for writing Python code for *reuse or sharing* later.</li>\n",
    "    <ul>\n",
    "        <li>Scripts should be self contained to ensure easy reuse later on.  You should always be able to restart and run your script from scratch to make sure you haven't left anything important out.</li>\n",
    "    </ul>\n",
    "<li>The Console pane (bottom right) contains a console for executing code.  We'll use this to *test our code* interactively.</li>\n",
    "<li>The Explorer pane (top right) contains other helpful tools listing defined variables, files in the working directory, and other help.</li>\n",
    "\n",
    "<strong>Note:</strong> Code prepared in a simple text editor (not a formatted editor like Microsoft Word) can be executed (run) using your computer's command line or terminal. \n",
    "\n",
    "</blockquote>"
   ]
  },
  {
   "cell_type": "markdown",
   "metadata": {},
   "source": [
    "### Entering code\n",
    "\n",
    "We'll begin by using Python as a simple calculator.  The objective here is to introduce you how the windows in Spyder work together and some basic Python syntax.\n",
    "\n",
    "In this workshop, Python code will be presented in numbered grey cells as below.  Any output generated will also be displayed below the grey cell."
   ]
  },
  {
   "cell_type": "code",
   "execution_count": 1,
   "metadata": {},
   "outputs": [
    {
     "data": {
      "text/plain": [
       "4"
      ]
     },
     "execution_count": 1,
     "metadata": {},
     "output_type": "execute_result"
    }
   ],
   "source": [
    "2+2"
   ]
  },
  {
   "cell_type": "markdown",
   "metadata": {},
   "source": [
    "**To execute this in Spyder, copy or type the code yourself into the Ipython console pane. Press `Enter` to execute.**\n",
    "\n",
    "![2+2_console.png](../Intro/images/2+2_console.png)\n",
    "\n",
    "You can also enter code into the Editor pane.  This is particularly useful when writing more complicated or reusable code.  The code you write in the Editor pane can be saved as a .py file to revisit or run later. \n",
    "\n",
    "To use the Editor pane to save and execute code, type the code in the Editor pane, highlight the line(s) you want to execute and click:\n",
    "\n",
    "* Run > Run Selection or Current Line\n",
    "* **Shortcut:**  **F9** (or **FN+F9** on many laptops)\n",
    "\n",
    "The code will then execute in the Console pane.  Note that if you don't have a line selected, this shortcut will run the \"current line\", i.e. the line where the cursor is located.\n",
    "\n",
    "#### Don't be afraid of errors!"
   ]
  },
  {
   "cell_type": "code",
   "execution_count": 2,
   "metadata": {},
   "outputs": [
    {
     "ename": "ZeroDivisionError",
     "evalue": "division by zero",
     "output_type": "error",
     "traceback": [
      "\u001b[0;31m---------------------------------------------------------------------------\u001b[0m",
      "\u001b[0;31mZeroDivisionError\u001b[0m                         Traceback (most recent call last)",
      "\u001b[0;32m<ipython-input-2-0106664d39e8>\u001b[0m in \u001b[0;36m<module>\u001b[0;34m\u001b[0m\n\u001b[0;32m----> 1\u001b[0;31m \u001b[0;36m5\u001b[0m\u001b[0;34m/\u001b[0m\u001b[0;36m0\u001b[0m\u001b[0;34m\u001b[0m\u001b[0;34m\u001b[0m\u001b[0m\n\u001b[0m",
      "\u001b[0;31mZeroDivisionError\u001b[0m: division by zero"
     ]
    }
   ],
   "source": [
    "5/0"
   ]
  },
  {
   "cell_type": "markdown",
   "metadata": {},
   "source": [
    "## Data Types and Variables\n",
    "\n",
    "Ultimately, we need Python to store various values and objects for future re-use. Python has many default data types available.  We will focus on a few common examples.\n",
    "\n",
    "### Strings and Numbers\n",
    "\n",
    "We assign a value to a variable using `=`.  We do not need to declare a type or give any other information."
   ]
  },
  {
   "cell_type": "code",
   "execution_count": 24,
   "metadata": {},
   "outputs": [],
   "source": [
    "number = 42\n",
    "\n",
    "text = \"Hello, World\""
   ]
  },
  {
   "cell_type": "markdown",
   "metadata": {},
   "source": [
    "String objects, like `text` above, contain textual values.  These are identified to Python by quotes; you can use either ' or \" as long as you use the same type to begin and end your string.\n",
    "\n",
    "Python uses several different numeric data types for storing different values. Examples include integers, long integers, and floating point numbers (decimals).  Numbers can also be stored in string values using quotes.\n",
    "\n",
    "For example:"
   ]
  },
  {
   "cell_type": "code",
   "execution_count": 25,
   "metadata": {},
   "outputs": [],
   "source": [
    "notnumber = \"42\""
   ]
  },
  {
   "cell_type": "markdown",
   "metadata": {},
   "source": [
    "Once we have defined an object, we can use it again, most simply by printing it."
   ]
  },
  {
   "cell_type": "code",
   "execution_count": 26,
   "metadata": {},
   "outputs": [
    {
     "name": "stdout",
     "output_type": "stream",
     "text": [
      "Hello, World\n"
     ]
    }
   ],
   "source": [
    "print(text)"
   ]
  },
  {
   "cell_type": "markdown",
   "metadata": {},
   "source": [
    "<div style=\"margin-left: 5em;\">\n",
    "<strong>Note:</strong> The print command is one of the most basic differences between Python 2 and Python 3. \n",
    "In Python 2, print does not require parentheses:<br>\n",
    "<code>print text</code><br>\n",
    "In Python 3, you must include parentheses:<br>\n",
    "<code>print(text)</code><br>\n",
    "</div>\n",
    "\n",
    "We can also modify the contents of objects in various ways such as redefining them or changing their type. In some cases this is crucial to how Python can work with them.  For example:"
   ]
  },
  {
   "cell_type": "code",
   "execution_count": 27,
   "metadata": {},
   "outputs": [
    {
     "name": "stdout",
     "output_type": "stream",
     "text": [
      "100\n"
     ]
    }
   ],
   "source": [
    "print(number + 58)"
   ]
  },
  {
   "cell_type": "code",
   "execution_count": 28,
   "metadata": {},
   "outputs": [
    {
     "ename": "TypeError",
     "evalue": "unsupported operand type(s) for +: 'int' and 'str'",
     "output_type": "error",
     "traceback": [
      "\u001b[0;31m---------------------------------------------------------------------------\u001b[0m",
      "\u001b[0;31mTypeError\u001b[0m                                 Traceback (most recent call last)",
      "\u001b[0;32m<ipython-input-28-36d369e8f0e9>\u001b[0m in \u001b[0;36m<module>\u001b[0;34m\u001b[0m\n\u001b[0;32m----> 1\u001b[0;31m \u001b[0mprint\u001b[0m\u001b[0;34m(\u001b[0m\u001b[0mnumber\u001b[0m \u001b[0;34m+\u001b[0m \u001b[0mnotnumber\u001b[0m\u001b[0;34m)\u001b[0m\u001b[0;34m\u001b[0m\u001b[0;34m\u001b[0m\u001b[0m\n\u001b[0m",
      "\u001b[0;31mTypeError\u001b[0m: unsupported operand type(s) for +: 'int' and 'str'"
     ]
    }
   ],
   "source": [
    "print(number + notnumber)"
   ]
  },
  {
   "cell_type": "markdown",
   "metadata": {},
   "source": [
    "This is the same as if we tried to add \"cat\" to the number 7!"
   ]
  },
  {
   "cell_type": "code",
   "execution_count": 29,
   "metadata": {},
   "outputs": [
    {
     "ename": "TypeError",
     "evalue": "unsupported operand type(s) for +: 'int' and 'str'",
     "output_type": "error",
     "traceback": [
      "\u001b[0;31m---------------------------------------------------------------------------\u001b[0m",
      "\u001b[0;31mTypeError\u001b[0m                                 Traceback (most recent call last)",
      "\u001b[0;32m<ipython-input-29-c299f4d36111>\u001b[0m in \u001b[0;36m<module>\u001b[0;34m\u001b[0m\n\u001b[0;32m----> 1\u001b[0;31m \u001b[0mprint\u001b[0m\u001b[0;34m(\u001b[0m\u001b[0;36m7\u001b[0m \u001b[0;34m+\u001b[0m \u001b[0;34m\"cat\"\u001b[0m\u001b[0;34m)\u001b[0m\u001b[0;34m\u001b[0m\u001b[0;34m\u001b[0m\u001b[0m\n\u001b[0m",
      "\u001b[0;31mTypeError\u001b[0m: unsupported operand type(s) for +: 'int' and 'str'"
     ]
    }
   ],
   "source": [
    "print(7 + \"cat\")"
   ]
  },
  {
   "cell_type": "markdown",
   "metadata": {},
   "source": [
    "So we can add a value, 58, to our number object, but we can't add our notnumber object.  Let's double check what notnumber contains:"
   ]
  },
  {
   "cell_type": "code",
   "execution_count": 30,
   "metadata": {},
   "outputs": [
    {
     "name": "stdout",
     "output_type": "stream",
     "text": [
      "42\n",
      "42\n"
     ]
    }
   ],
   "source": [
    "print(notnumber)\n",
    "print(number)"
   ]
  },
  {
   "cell_type": "markdown",
   "metadata": {},
   "source": [
    "Even those these appear the same to our eye, Python uses them very differently.  Remember how we defined notnumber?  Let's check what data type Python is using with `type`."
   ]
  },
  {
   "cell_type": "code",
   "execution_count": 31,
   "metadata": {
    "scrolled": true
   },
   "outputs": [
    {
     "data": {
      "text/plain": [
       "str"
      ]
     },
     "execution_count": 31,
     "metadata": {},
     "output_type": "execute_result"
    }
   ],
   "source": [
    "type(notnumber)"
   ]
  },
  {
   "cell_type": "markdown",
   "metadata": {},
   "source": [
    "Fortunately Python provides a set of *functions* to convert objects between different data types.  A function packages a set of prewritten commands to accomplish a particular task.  Most functions take one or more objects as inputs or 'arguments' and produce some new object as output.\n",
    "\n",
    "The `int` function takes an object as an argument and converts it to an `int` (integer) numeric object.  The usage is as follows:"
   ]
  },
  {
   "cell_type": "code",
   "execution_count": 32,
   "metadata": {},
   "outputs": [
    {
     "name": "stdout",
     "output_type": "stream",
     "text": [
      "42\n"
     ]
    },
    {
     "data": {
      "text/plain": [
       "int"
      ]
     },
     "execution_count": 32,
     "metadata": {},
     "output_type": "execute_result"
    }
   ],
   "source": [
    "newnumber = int(notnumber)\n",
    "print(newnumber)\n",
    "type(newnumber)"
   ]
  },
  {
   "cell_type": "markdown",
   "metadata": {},
   "source": [
    "Now we can try adding objects again."
   ]
  },
  {
   "cell_type": "code",
   "execution_count": 33,
   "metadata": {},
   "outputs": [
    {
     "name": "stdout",
     "output_type": "stream",
     "text": [
      "84\n"
     ]
    }
   ],
   "source": [
    "print(number+newnumber)"
   ]
  },
  {
   "cell_type": "markdown",
   "metadata": {},
   "source": [
    "`int` objects can only hold integer values.  If you have decimal values, use the `float` (floating decimal) type instead."
   ]
  },
  {
   "cell_type": "code",
   "execution_count": 34,
   "metadata": {
    "scrolled": true
   },
   "outputs": [
    {
     "name": "stdout",
     "output_type": "stream",
     "text": [
      "42.5\n"
     ]
    }
   ],
   "source": [
    "myfloat = float(newnumber)+0.5\n",
    "print(myfloat)"
   ]
  },
  {
   "cell_type": "markdown",
   "metadata": {},
   "source": [
    "#### Getting help with functions\n",
    "\n",
    "You can access documentation for functions in Python with `help`, for example `help(sum)`.  Base Python functions and those provided by packages also usually have online documentation that may be easier to read.\n",
    "\n",
    "### Lists\n",
    "\n",
    "Python's lists store multiple objects in a sequence.  All of the data types we have seen so far (and indeed most data types in Python) can be placed in a list together (including other lists).  For example, we can save numbers and character strings together:"
   ]
  },
  {
   "cell_type": "code",
   "execution_count": 35,
   "metadata": {},
   "outputs": [
    {
     "name": "stdout",
     "output_type": "stream",
     "text": [
      "[1, 2, 3, 'four']\n"
     ]
    }
   ],
   "source": [
    "my_list = [1, 2, 3, \"four\"]\n",
    "print(my_list)"
   ]
  },
  {
   "cell_type": "markdown",
   "metadata": {},
   "source": [
    "We can also define lists using previously defined objects (including other lists!):"
   ]
  },
  {
   "cell_type": "code",
   "execution_count": 36,
   "metadata": {},
   "outputs": [
    {
     "name": "stdout",
     "output_type": "stream",
     "text": [
      "[12, 'cat', ['a', 'b', 'c']]\n"
     ]
    }
   ],
   "source": [
    "obj0 = 12\n",
    "obj1 = \"cat\"\n",
    "obj2 = [\"a\", \"b\", \"c\"]\n",
    "my_list1 = [obj0, obj1, obj2]\n",
    "print(my_list1)"
   ]
  },
  {
   "cell_type": "markdown",
   "metadata": {},
   "source": [
    "Once we've defined a list, we can add more elements to it with the `.append` function."
   ]
  },
  {
   "cell_type": "code",
   "execution_count": 37,
   "metadata": {},
   "outputs": [
    {
     "name": "stdout",
     "output_type": "stream",
     "text": [
      "[12, 'cat', ['a', 'b', 'c'], 'dog']\n"
     ]
    }
   ],
   "source": [
    "my_list1.append(\"dog\")\n",
    "print(my_list1)"
   ]
  },
  {
   "cell_type": "markdown",
   "metadata": {},
   "source": [
    "\n",
    "### Indexing\n",
    "\n",
    "Python retains the **order** of elements in our list and uses that order to retrieve objects in lists.  These numbered positions are called indices.\n",
    "\n",
    "We use `[` and `]` to provide indices in Python.\n",
    "\n",
    "Most importantly, **Python starts counting at zero**: The first element in your list is denoted `[0]`, the second `[1]`, the third `[2]` and so on.  This can take some getting used to!"
   ]
  },
  {
   "cell_type": "code",
   "execution_count": 38,
   "metadata": {},
   "outputs": [
    {
     "name": "stdout",
     "output_type": "stream",
     "text": [
      "cat\n",
      "dog\n",
      "parrot\n"
     ]
    },
    {
     "ename": "IndexError",
     "evalue": "list index out of range",
     "output_type": "error",
     "traceback": [
      "\u001b[0;31m---------------------------------------------------------------------------\u001b[0m",
      "\u001b[0;31mIndexError\u001b[0m                                Traceback (most recent call last)",
      "\u001b[0;32m<ipython-input-38-3ded6d77fc2d>\u001b[0m in \u001b[0;36m<module>\u001b[0;34m\u001b[0m\n\u001b[1;32m      3\u001b[0m \u001b[0mprint\u001b[0m\u001b[0;34m(\u001b[0m\u001b[0mmy_list2\u001b[0m\u001b[0;34m[\u001b[0m\u001b[0;36m1\u001b[0m\u001b[0;34m]\u001b[0m\u001b[0;34m)\u001b[0m\u001b[0;34m\u001b[0m\u001b[0;34m\u001b[0m\u001b[0m\n\u001b[1;32m      4\u001b[0m \u001b[0mprint\u001b[0m\u001b[0;34m(\u001b[0m\u001b[0mmy_list2\u001b[0m\u001b[0;34m[\u001b[0m\u001b[0;36m2\u001b[0m\u001b[0;34m]\u001b[0m\u001b[0;34m)\u001b[0m\u001b[0;34m\u001b[0m\u001b[0;34m\u001b[0m\u001b[0m\n\u001b[0;32m----> 5\u001b[0;31m \u001b[0mprint\u001b[0m\u001b[0;34m(\u001b[0m\u001b[0mmy_list2\u001b[0m\u001b[0;34m[\u001b[0m\u001b[0;36m3\u001b[0m\u001b[0;34m]\u001b[0m\u001b[0;34m)\u001b[0m \u001b[0;31m#there's nothing here!\u001b[0m\u001b[0;34m\u001b[0m\u001b[0;34m\u001b[0m\u001b[0m\n\u001b[0m",
      "\u001b[0;31mIndexError\u001b[0m: list index out of range"
     ]
    }
   ],
   "source": [
    "my_list2 = [\"cat\", \"dog\", \"parrot\"]\n",
    "print(my_list2[0])\n",
    "print(my_list2[1])\n",
    "print(my_list2[2])\n",
    "print(my_list2[3]) #there's nothing here!"
   ]
  },
  {
   "cell_type": "markdown",
   "metadata": {},
   "source": [
    "&nbsp;&nbsp;&nbsp;&nbsp;&nbsp;&nbsp;&nbsp;&nbsp;&nbsp;&nbsp;**Comments:**  \n",
    "&nbsp;&nbsp;&nbsp;&nbsp;&nbsp;&nbsp;&nbsp;&nbsp;&nbsp;&nbsp;Anything typed after a `#` in your code will be ignored and not executed by Python!  \n",
    "&nbsp;&nbsp;&nbsp;&nbsp;&nbsp;&nbsp;&nbsp;&nbsp;&nbsp;&nbsp;They don't need to follow any special formats or Python syntax after the `#`.  \n",
    "&nbsp;&nbsp;&nbsp;&nbsp;&nbsp;&nbsp;&nbsp;&nbsp;&nbsp;&nbsp;These are called \"comments\" and they allow you to organize and add notes to your code to better understand what's going on.\n",
    "\n",
    "We can extract multiple adjacent items from a list using a colon.\n",
    "\n",
    "`[n:m]` retrieves the values from index `n` to index `m-1`. "
   ]
  },
  {
   "cell_type": "code",
   "execution_count": 39,
   "metadata": {},
   "outputs": [
    {
     "data": {
      "text/plain": [
       "[12, 'cat']"
      ]
     },
     "execution_count": 39,
     "metadata": {},
     "output_type": "execute_result"
    }
   ],
   "source": [
    "my_list1[0:2]"
   ]
  },
  {
   "cell_type": "markdown",
   "metadata": {},
   "source": [
    "The `len` function provides the length of an object in Python."
   ]
  },
  {
   "cell_type": "code",
   "execution_count": 40,
   "metadata": {},
   "outputs": [
    {
     "name": "stdout",
     "output_type": "stream",
     "text": [
      "4\n"
     ]
    }
   ],
   "source": [
    "print(len(my_list1))"
   ]
  },
  {
   "cell_type": "markdown",
   "metadata": {},
   "source": [
    "If `len(my_new_list)=10` that means there are ten elements in the list.  Remember that Python starts counting at 0, so the indices are 0 through 9."
   ]
  },
  {
   "cell_type": "markdown",
   "metadata": {},
   "source": [
    "**Note:**  When we're experimenting with indices, the Spyder console provides a useful shortcut.  Click the active line on the console and use the **up arrow** to move through the code you've previously executed in the console.  \n",
    "\n",
    "For example:  \n",
    "We might want to bring back the line of code above, `my_list1[0:2]` and modify it to `my_list[0:1]` to see how that affects the output.\n",
    "\n",
    "This shortcut can save time typing or copying code you want to experiment with.  Remember that whatever code you settle on probably belongs in your script if later code will depend on it!"
   ]
  },
  {
   "cell_type": "markdown",
   "metadata": {},
   "source": [
    "#### Extra: Indexing beyond lists\n",
    "\n",
    "Indexes can also be used with any sequential data type, including strings.\n",
    "\n",
    "For example:"
   ]
  },
  {
   "cell_type": "code",
   "execution_count": 41,
   "metadata": {},
   "outputs": [
    {
     "name": "stdout",
     "output_type": "stream",
     "text": [
      "q\n",
      "quick\n"
     ]
    }
   ],
   "source": [
    "my_str = \"The quick brown fox jumps over the lazy dog.\"\n",
    "print(my_str[4])\n",
    "print(my_str[4:9]) #4:9 indicates characters 4-8"
   ]
  },
  {
   "cell_type": "markdown",
   "metadata": {},
   "source": [
    "Using `:` ranges with one end blank will automatically go to the end of the object.\n",
    "\n",
    "We can also work from right to left using negative numbers."
   ]
  },
  {
   "cell_type": "code",
   "execution_count": 42,
   "metadata": {},
   "outputs": [
    {
     "name": "stdout",
     "output_type": "stream",
     "text": [
      "dog.\n",
      "The \n"
     ]
    }
   ],
   "source": [
    "print(my_str[-4:])\n",
    "print(my_str[:4])"
   ]
  },
  {
   "cell_type": "markdown",
   "metadata": {},
   "source": [
    "We can still use multiple indices across sequential data types.  For instance, a list of strings:"
   ]
  },
  {
   "cell_type": "code",
   "execution_count": 43,
   "metadata": {},
   "outputs": [
    {
     "data": {
      "text/plain": [
       "'hom'"
      ]
     },
     "execution_count": 43,
     "metadata": {},
     "output_type": "execute_result"
    }
   ],
   "source": [
    "[\"home\", \"away\"][0][0:3]"
   ]
  },
  {
   "cell_type": "markdown",
   "metadata": {},
   "source": [
    "It can be helpful to unpack nested indices, for example, let's look at what the first index `[0]` alone gives us:"
   ]
  },
  {
   "cell_type": "code",
   "execution_count": 44,
   "metadata": {},
   "outputs": [
    {
     "data": {
      "text/plain": [
       "'home'"
      ]
     },
     "execution_count": 44,
     "metadata": {},
     "output_type": "execute_result"
    }
   ],
   "source": [
    "[\"home\", \"away\"][0]"
   ]
  },
  {
   "cell_type": "markdown",
   "metadata": {},
   "source": [
    "Unfortunately, not all data types are sequential - indices will not work on numeric values, unless we convert them to strings with `str`.  Python considers numbers to be a single \"value\" whereas the strings and lists both have natural component parts.\n",
    "\n",
    "\n",
    "### Review: Data Types\n",
    "\n",
    "|Type|Example|Description|\n",
    "|------|---------|------------------------|\n",
    "|`int`|1, 2, 3|Integers (whole numbers)|\n",
    "|`float`|1.5, 2.72, 3.14|Floating point numbers (decimals)|\n",
    "|`str`|\"cat\", \"dog\", \"car\"|String, character, or text values|\n",
    "|`list`|[1, 2, 3], [\"cat\", \"dog\"], [1, [2, 3]]|One or more objects stored by order|\n",
    "\n",
    "We will cover Python's dictionary (`dict`) and boolean (`bool`) types later on.\n",
    "\n",
    "**Read more about Python's built-in data types <a href=https://docs.python.org/3/library/stdtypes.html>here</a>.**\n",
    "\n",
    "There are many many more data types in Python packages for specific uses (e.g. datasets, images, sparse matrices)."
   ]
  },
  {
   "cell_type": "markdown",
   "metadata": {},
   "source": [
    "## Flow Control\n",
    "\n",
    "### Conditions and Booleans\n",
    "\n",
    "Conditionals allow for more flexible instructions, letting our code react differently as our inputs change.\n",
    "\n",
    "Conditions often arise from comparisons:\n",
    "\n",
    "        <          strictly less than\n",
    "        <= \t    less than or equal\n",
    "        > \t     strictly greater than\n",
    "        >= \t    greater than or equal\n",
    "        == \t    equal\n",
    "        != \t    not equal\n",
    "        is \t    object identity\n",
    "        is not \tnegated object identity\n",
    "        in \t    sequence membership\n",
    "        not in \tsequence non-membership\n",
    "\n",
    "**Note:** `=` is used for assignment, whereas `==` checks if two objects are equal.\n",
    "\n",
    "Each condition considered evaluates to a Boolean value - `True` or `False`.  Booleans have their own data type: `bool`."
   ]
  },
  {
   "cell_type": "code",
   "execution_count": 45,
   "metadata": {},
   "outputs": [
    {
     "data": {
      "text/plain": [
       "False"
      ]
     },
     "execution_count": 45,
     "metadata": {},
     "output_type": "execute_result"
    }
   ],
   "source": [
    "num=5\n",
    "num<3"
   ]
  },
  {
   "cell_type": "code",
   "execution_count": 46,
   "metadata": {},
   "outputs": [
    {
     "data": {
      "text/plain": [
       "True"
      ]
     },
     "execution_count": 46,
     "metadata": {},
     "output_type": "execute_result"
    }
   ],
   "source": [
    "letter=\"a\"\n",
    "letter in [\"a\",\"b\",\"c\"]"
   ]
  },
  {
   "cell_type": "markdown",
   "metadata": {},
   "source": [
    "### Conditional Statements\n",
    "\n",
    "A conditional statement allows your code to branch and behave differently based on these conditions.\n",
    "\n",
    "A simple conditional statement takes the form:\n",
    "\n",
    "```\n",
    "if <condition>:\n",
    "    <do something only if condition is true>\n",
    "```\n",
    "\n",
    "Your instructions can be as long as necessary, provided they remain indented.  **Indentation is very important in Python** as it groups lines of code without using explict characters like `{` and `}` as in many other languages.  \n",
    "\n",
    "You can indent with spaces or tabs, but you must be **consistent**.\n",
    " \n",
    "We can supply alternate steps if the condition is false with `else`, or even consider multiple conditions with `elif` (i.e. else if).\n",
    "\n",
    "```\n",
    "if <condition1>:\n",
    "    <do something if condition1 is true>\n",
    "elif <condition2>:\n",
    "    <do a different thing if condition1 is false and condition2 is true>\n",
    "else\n",
    "    <do a third thing if neither condition is true>\n",
    "```"
   ]
  },
  {
   "cell_type": "code",
   "execution_count": 47,
   "metadata": {},
   "outputs": [
    {
     "name": "stdout",
     "output_type": "stream",
     "text": [
      "This number is greater than four\n"
     ]
    }
   ],
   "source": [
    "num = 5\n",
    "if num > 4:\n",
    "    print(\"This number is greater than four\")"
   ]
  },
  {
   "cell_type": "markdown",
   "metadata": {},
   "source": [
    "Adding `else` lets us give instructions if our condition is `False`."
   ]
  },
  {
   "cell_type": "code",
   "execution_count": 48,
   "metadata": {},
   "outputs": [
    {
     "name": "stdout",
     "output_type": "stream",
     "text": [
      "This number is less than or equal to four\n"
     ]
    }
   ],
   "source": [
    "num = 3\n",
    "if num > 4:\n",
    "    print(\"This number is greater than than four\")\n",
    "else:\n",
    "    print(\"This number is less than or equal to four\")"
   ]
  },
  {
   "cell_type": "markdown",
   "metadata": {},
   "source": [
    "Finally, the `elif` command lets us split the possible values of `num` into more groups.  You can have as many `elif` statements as you need to split up possible conditions."
   ]
  },
  {
   "cell_type": "code",
   "execution_count": 49,
   "metadata": {},
   "outputs": [
    {
     "name": "stdout",
     "output_type": "stream",
     "text": [
      "This number is greater than or equal to three and less than ten\n"
     ]
    }
   ],
   "source": [
    "num = 8\n",
    "if num < 3:\n",
    "    print(\"This number is less than three\")\n",
    "elif num < 10:\n",
    "    print(\"This number is greater than or equal to three and less than ten\")\n",
    "else:\n",
    "    print(\"This number is greater than or equal to ten\")"
   ]
  },
  {
   "cell_type": "markdown",
   "metadata": {},
   "source": [
    "### For Loops\n",
    "\n",
    "A \"for loop\" allows us to apply the same steps to each element in a list or other iterable.  In essence, loops let us automate tasks relative to some sequence that we might *otherwise* write like this:"
   ]
  },
  {
   "cell_type": "code",
   "execution_count": 50,
   "metadata": {},
   "outputs": [
    {
     "name": "stdout",
     "output_type": "stream",
     "text": [
      "26\n"
     ]
    }
   ],
   "source": [
    "sales = [5, 2, 7, 9, 3]\n",
    "total_sales = 0\n",
    "total_sales = total_sales + sales[0]\n",
    "total_sales = total_sales + sales[1]\n",
    "total_sales = total_sales + sales[2]\n",
    "total_sales = total_sales + sales[3]\n",
    "total_sales = total_sales + sales[4]\n",
    "print(total_sales)"
   ]
  },
  {
   "cell_type": "markdown",
   "metadata": {},
   "source": [
    "In the code above, we're essentially applying the same operation (cumulative summation) to each object in `sales` one by one.  A loop will let us write this operation in a general way and apply it to each object in a list or sequence.\n",
    "\n",
    "Loops take the form:\n",
    "\n",
    "\n",
    "`for <name> in <list>:`\n",
    "\n",
    "        do something based on name\n",
    "        \n",
    "    \n",
    "* `<name>` is **completely arbitrary**, though i, j, k, and n are relatively common. Use something that makes sense to you (and others)!\n",
    "* `<list>` is a pre-defined list or other iterable object.\n",
    "* **Reminder: Indentation is very important in Python and must be used consistently across the loop(s)** Only the code indented under the loop will be run in each iteration."
   ]
  },
  {
   "cell_type": "code",
   "execution_count": 51,
   "metadata": {
    "scrolled": true
   },
   "outputs": [
    {
     "name": "stdout",
     "output_type": "stream",
     "text": [
      "[0, 1, 2, 3, 4, 5]\n",
      "0\n",
      "1\n",
      "2\n",
      "3\n",
      "4\n",
      "5\n"
     ]
    }
   ],
   "source": [
    "my_nums = list(range(6))\n",
    "print(list(range(6)))\n",
    "for n in my_nums:\n",
    "    print(n)"
   ]
  },
  {
   "cell_type": "markdown",
   "metadata": {},
   "source": [
    "#### Extra: Nested Loops\n",
    "\n",
    "We can also loop within loops.  Indentation is key to control which blocks of code are executed within which loop."
   ]
  },
  {
   "cell_type": "code",
   "execution_count": 52,
   "metadata": {},
   "outputs": [
    {
     "name": "stdout",
     "output_type": "stream",
     "text": [
      "[['blue', 4], ['yellow', 6], ['red', 3], ['green', 5]]\n"
     ]
    }
   ],
   "source": [
    "#Nesting loops - indentation is key!\n",
    "listOfWords = [\"blue\", \"yellow\", \"red\", \"green\"]\n",
    "newList = [] #initialize an empty list\n",
    "\n",
    "for color in listOfWords:\n",
    "    numLetters = 0 #resets to zero each time the loop runs\n",
    "    for letter in color:\n",
    "        numLetters += 1\n",
    "    temporaryList = [color, numLetters]\n",
    "    newList.append(temporaryList)\n",
    "    \n",
    "print(newList)"
   ]
  },
  {
   "cell_type": "markdown",
   "metadata": {},
   "source": [
    "Notice that before the loop begins we create an **empty list**.  This is a common stragegy to collect outputs from some or all of the loops iterations.  This can generalize to numbers by defining a zero-valued variable before the loop and modifying it with each iteration.\n",
    "\n",
    "How could we write the code above with fewer lines? Is there a simpler way to find the length of each word?"
   ]
  },
  {
   "cell_type": "markdown",
   "metadata": {},
   "source": [
    "### For Loops with Conditionals\n",
    "\n",
    "Loops become even more useful when combined with conditionals, to perform different steps based on conditions that change with each iteration of the loop."
   ]
  },
  {
   "cell_type": "code",
   "execution_count": 53,
   "metadata": {},
   "outputs": [
    {
     "name": "stdout",
     "output_type": "stream",
     "text": [
      "0\n",
      "2\n",
      "4\n",
      "6\n",
      "8\n"
     ]
    }
   ],
   "source": [
    "for number in range(10):\n",
    "    if number % 2 == 0: \n",
    "    # % denotes the modulo operation - the result is the remainder after dividing by 2 \n",
    "    # (i.e. 6%2 = 0, but 5%2 = 1)\n",
    "        print(number)"
   ]
  },
  {
   "cell_type": "markdown",
   "metadata": {},
   "source": [
    "Recall that we can combine multiple conditions with `and`."
   ]
  },
  {
   "cell_type": "code",
   "execution_count": 54,
   "metadata": {},
   "outputs": [
    {
     "name": "stdout",
     "output_type": "stream",
     "text": [
      "[[95, 'A'], [90, 'A'], [66, 'D'], [83, 'B'], [71, 'C'], [78, 'C'], [93, 'A'], [81, 'B'], [87, 'B'], [81, 'B']]\n"
     ]
    }
   ],
   "source": [
    "scores=[95, 90, 66, 83, 71, 78, 93, 81, 87, 81]\n",
    "grades=[]\n",
    "for score in scores:\n",
    "    if score >= 90:\n",
    "        grade = \"A\"\n",
    "    elif score >= 80:\n",
    "        grade = \"B\"\n",
    "    elif score >= 70 and score < 80:\n",
    "        grade = \"C\"\n",
    "    elif score >= 60 and score < 70:\n",
    "        grade = \"D\"\n",
    "    else:\n",
    "        grade = \"F\"\n",
    "    grades.append([score, grade])       \n",
    "print(grades)"
   ]
  },
  {
   "cell_type": "markdown",
   "metadata": {},
   "source": [
    "## More Data Types\n",
    "\n",
    "\n",
    "Earlier, we introduced a number of important data structures in Python: string and numeric types, as well as lists.  We used indexing to specify particular parts of the sequential objects - strings and lists.  Here we introduce dictionaries, which provide a useful alternative format for some types of information.  List and dictionary comprehensions provide a more succinct way to generate lists and dictionaries. \n",
    "\n",
    "### Dictionaries\n",
    "\n",
    "Dictionaries provide a \"mapping object\"; instead of an index, they used named \"keys\" to organized data.  Dictionaries also benefit from faster performance than lists in most cases, due to their use of <a href=\"https://en.wikipedia.org/wiki/Hash_table\">hash tables</a>.  \n",
    "\n",
    "A dictionary is defined as follows:"
   ]
  },
  {
   "cell_type": "code",
   "execution_count": 55,
   "metadata": {},
   "outputs": [
    {
     "data": {
      "text/plain": [
       "dict"
      ]
     },
     "execution_count": 55,
     "metadata": {},
     "output_type": "execute_result"
    }
   ],
   "source": [
    "class_dict = {\"course\":\"Python II\", \"location\":\"Davis Library\", \"time\":\"4pm\"}\n",
    "type(class_dict)"
   ]
  },
  {
   "cell_type": "markdown",
   "metadata": {},
   "source": [
    "In this case, `\"course\"`, `\"location\"`, and `\"time\"` serve as the \"keys\" for this dictionary.  Keys play a similar role to the indices we use for lists (or strings).  We can print a particular value by placing its key in the same square brackets `[]` used by list indices."
   ]
  },
  {
   "cell_type": "code",
   "execution_count": 56,
   "metadata": {},
   "outputs": [
    {
     "name": "stdout",
     "output_type": "stream",
     "text": [
      "Davis Library\n"
     ]
    }
   ],
   "source": [
    "print(class_dict[\"location\"])"
   ]
  },
  {
   "cell_type": "markdown",
   "metadata": {},
   "source": [
    "A numeric index **will not** work with dictionaries.\n",
    "\n",
    "We can also generate a list of all of the keys for a dictionary using the `.keys()` method. "
   ]
  },
  {
   "cell_type": "code",
   "execution_count": 57,
   "metadata": {},
   "outputs": [
    {
     "name": "stdout",
     "output_type": "stream",
     "text": [
      "dict_keys(['course', 'location', 'time'])\n"
     ]
    }
   ],
   "source": [
    "print(class_dict.keys())"
   ]
  },
  {
   "cell_type": "markdown",
   "metadata": {},
   "source": [
    "### Comprehensions\n",
    "\n",
    "Python provides some shortcuts to generating lists and dictionaries, especially those that you might (now) generate with a list.  For example, let's generate a list of the square of each number from 1 to 15."
   ]
  },
  {
   "cell_type": "code",
   "execution_count": 58,
   "metadata": {},
   "outputs": [
    {
     "name": "stdout",
     "output_type": "stream",
     "text": [
      "[1, 4, 9, 16, 25, 36, 49, 64, 81, 100, 121, 144, 169, 196, 225]\n"
     ]
    }
   ],
   "source": [
    "squares=[]\n",
    "for n in range(1, 16):\n",
    "    squares.append(n**2)\n",
    "print(squares)"
   ]
  },
  {
   "cell_type": "markdown",
   "metadata": {},
   "source": [
    "Using a \"comprehension\", we can shorten this to a single line, effectively bringing the loop inside the `[]` used to define the list."
   ]
  },
  {
   "cell_type": "code",
   "execution_count": 59,
   "metadata": {},
   "outputs": [
    {
     "name": "stdout",
     "output_type": "stream",
     "text": [
      "[1, 4, 9, 16, 25, 36, 49, 64, 81, 100, 121, 144, 169, 196, 225]\n"
     ]
    }
   ],
   "source": [
    "squares=[x**2 for x in range(1, 16)]\n",
    "print(squares)"
   ]
  },
  {
   "cell_type": "markdown",
   "metadata": {},
   "source": [
    "The same general format holds for defining dictionaries."
   ]
  },
  {
   "cell_type": "code",
   "execution_count": 60,
   "metadata": {},
   "outputs": [
    {
     "name": "stdout",
     "output_type": "stream",
     "text": [
      "{1: 1, 2: 4, 3: 9, 4: 16, 5: 25, 6: 36, 7: 49, 8: 64, 9: 81, 10: 100, 11: 121, 12: 144, 13: 169, 14: 196, 15: 225}\n"
     ]
    }
   ],
   "source": [
    "squaresdict={k:k**2 for k in range(1, 16)}\n",
    "print(squaresdict)"
   ]
  },
  {
   "cell_type": "markdown",
   "metadata": {},
   "source": [
    "We can include conditional statements at the end of the comprehension to build more flexible comprehensions."
   ]
  },
  {
   "cell_type": "code",
   "execution_count": 61,
   "metadata": {},
   "outputs": [
    {
     "name": "stdout",
     "output_type": "stream",
     "text": [
      "['the', 'quick', 'brown', 'fox', 'jumped', 'over', 'the', 'lazy', 'dog']\n",
      "['quick', 'brown', 'jumped']\n"
     ]
    }
   ],
   "source": [
    "sentence=\"the quick brown fox jumped over the lazy dog\"\n",
    "sentence=sentence.split(\" \") #splits the string into a list with each space\n",
    "print(sentence)\n",
    "print([w for w in sentence if len(w)>4])"
   ]
  },
  {
   "cell_type": "markdown",
   "metadata": {},
   "source": [
    "## Review\n",
    "\n",
    "So far, we've introduced:\n",
    "\n",
    "* Numeric types (`int`, `float`): \n",
    "```\n",
    "my_int = 4\n",
    "```\n",
    "* Strings (`str`): \n",
    "```\n",
    "my_string = \"cat\"\n",
    "```\n",
    "* Lists (`list`): \n",
    "```\n",
    "my_list = [my_int, my_string]\n",
    "```\n",
    "* Dictionaries (`dict`):\n",
    "```\n",
    "my_dict = {'course': 'Python', 'duration': 2} \n",
    "```\n",
    "* For loops:\n",
    "```\n",
    "for k in range(10):\n",
    "    print(k)\n",
    "```\n",
    "* Conditionals\n",
    "```\n",
    "if my_string == \"cat\":\n",
    "    print(\"This is a cat!\")\n",
    "else:\n",
    "    print(\"This is not a cat!\")\n",
    "```"
   ]
  },
  {
   "cell_type": "markdown",
   "metadata": {},
   "source": [
    "## Pseudocode and Comments\n",
    "\n",
    "### Pseudocode\n",
    "\n",
    "\n",
    "As you get started coding in Python, there will be many many tasks and steps you aren't familiar with!  As you learn new functions and approaches, you'll become better and better at searching for help online and reviewing documentation.  Learning to write and use pseudocode where appropriate can help organize your plan for any individual script.\n",
    "\n",
    "Pseudocode is essentially a first draft of your code, written in English for **human consumption**, though with the tools of your programming language in mind.  For example, we might write pseudocode for extracting text from pdf files as:\n",
    "\n",
    "    1. Set Working Directory (tell the computer where we've saved our files)\n",
    "    2. Loop through each pdf in the directory:\n",
    "        * open the pdf file\n",
    "        * extract text\n",
    "        * check length of text extracted\n",
    "            * if length is zero: add to problems list\n",
    "            * otherwise, add to output file\n",
    "    3. Write output file(s)\n",
    "\n",
    "This process can divide a complicated task into more digestible parts.  You may not know how to open a pdf file or extract text from it, but you'll often have better luck finding existing help online on smaller tasks like these than with your overall goal or project.\n",
    "\n",
    "Consider how you might write pseudocode to summarize the following code:"
   ]
  },
  {
   "cell_type": "code",
   "execution_count": 62,
   "metadata": {},
   "outputs": [],
   "source": [
    "random_words=[\"statement\", \"toy\", \"cars\", \"shoes\", \"ear\", \"busy\", \n",
    "              \"magnificent\", \"brainy\", \"healthy\", \"narrow\", \"join\", \n",
    "              \"decay\", \"dashing\", \"river\", \"gather\", \"stop\", \"satisfying\", \n",
    "              \"holistic\", \"reply\", \"steady\", \"event\", \"house\", \"amused\", \n",
    "              \"soak\", \"increase\"]\n",
    "\n",
    "vowels=[\"a\", \"e\", \"i\", \"o\", \"u\", \"y\"]\n",
    "\n",
    "output=[]\n",
    "\n",
    "for word in random_words:\n",
    "    count = 0\n",
    "    for char in word:\n",
    "        if char in vowels:\n",
    "            count = count + 1\n",
    "    if count >= 3:\n",
    "        output.append([word, count])"
   ]
  },
  {
   "cell_type": "markdown",
   "metadata": {},
   "source": [
    "### Comments\n",
    "\n",
    "Recall that Python ignores anything following a `#` as a comment.  Comments are a vital part of your code, as they leave notes about how or why you're doing something.  As you gain experience, you'll use comments in different ways.\n",
    "\n",
    "Comments can also provide a link between pseudocode and real code.  Once you've written your pseudocode, use comments to put the major steps into your code file itself.  Then fill in the gaps with actual code as you figure it out.\n",
    "\n",
    "Here's possible pseudocode for the code block above."
   ]
  },
  {
   "cell_type": "code",
   "execution_count": 63,
   "metadata": {},
   "outputs": [],
   "source": [
    "#1. Get or define the list my_numbers\n",
    "my_numbers=list(range(100))\n",
    "\n",
    "#2. Create an empty list for the new all-odd numbers, called my_numbers2.\n",
    "\n",
    "#3. Use a loop to iterate through the list of numbers\n",
    "\n",
    "    #3a. For a given number check to see if it is even.\n",
    "    \n",
    "    #3b. If the number is even, add 1.\n",
    "    \n",
    "    #3c. Append the resulting number to the my_numbers2 list."
   ]
  },
  {
   "cell_type": "markdown",
   "metadata": {},
   "source": [
    "<h2> Example Code</h2>Let's illustrate a lot of these techniques with a concrete example. We will read in a data file containing information on covide deaths in the United States that is in CSV format. The data looks like this: \n",
    "\n",
    "\n",
    "![covid19sample.data](../Intro/images/covid19.sample.data.png)\n",
    "\n",
    "We want to read the day for each week and tally up the COVID deaths for Female, Male and All by week but disregarding the age.\n"
   ]
  },
  {
   "cell_type": "markdown",
   "metadata": {},
   "source": [
    "First let's import some modules."
   ]
  },
  {
   "cell_type": "code",
   "execution_count": 64,
   "metadata": {},
   "outputs": [],
   "source": [
    "import sys\n",
    "import os\n",
    "import re\n",
    "import numpy as np\n",
    "#import pandas as pd\n",
    "import csv\n",
    "from collections import defaultdict \n",
    "from datetime import datetime\n",
    "from urllib.request import urlopen\n",
    "\n",
    "###############################################################################\n",
    "###############################################################################\n"
   ]
  },
  {
   "cell_type": "markdown",
   "metadata": {},
   "source": [
    "Now let's set our input data file name and read it in"
   ]
  },
  {
   "cell_type": "code",
   "execution_count": 66,
   "metadata": {},
   "outputs": [
    {
     "name": "stdout",
     "output_type": "stream",
     "text": [
      "['Data as of', 'State', 'MMWR Week', 'End Week', 'Sex', 'Age Group', 'Total Deaths', 'COVID-19 Deaths']\n",
      "['03/23/2022', 'United States', '1', '01/04/2020', 'All Sex', 'All Ages', '60164', '0']\n",
      "['03/23/2022', 'United States', '1', '01/04/2020', 'All Sex', 'Under 1 year', '402', '0']\n",
      "['03/23/2022', 'United States', '1', '01/04/2020', 'All Sex', '1-4 Years', '79', '0']\n",
      "['03/23/2022', 'United States', '1', '01/04/2020', 'All Sex', '5-14 Years', '99', '0']\n",
      "['03/23/2022', 'United States', '1', '01/04/2020', 'All Sex', '15-24 Years', '605', '0']\n",
      "['03/23/2022', 'United States', '1', '01/04/2020', 'All Sex', '25-34 Years', '1262', '0']\n"
     ]
    }
   ],
   "source": [
    "# inpfile = 'Provisional_COVID-19_Death_Counts_by_Sex__Age__and_Week.csv'\n",
    "# INPFILE = open(inpfile)\n",
    "\n",
    "# # read in the file as a CSV file\n",
    "# reader = csv.reader(INPFILE, delimiter=',',)\n",
    "\n",
    "inpfile = 'https://raw.githubusercontent.com/UNC-Libraries-data/Python/master/Intro/Provisional_COVID-19_Deaths_by_Week__Sex__and_Age.csv'\n",
    "INPFILE = urlopen(inpfile)\n",
    "lines = [l.decode('utf-8') for l in INPFILE.readlines()]\n",
    "\n",
    "# read in the file as a CSV file\n",
    "reader = csv.reader(lines, delimiter=',')\n",
    "raw_data = [row for row in reader]\n",
    "header = raw_data[0]\n",
    "data = raw_data[1:]\n",
    "print(header)\n",
    "for row_index in range(6):\n",
    "    print(data[row_index])"
   ]
  },
  {
   "cell_type": "markdown",
   "metadata": {},
   "source": [
    "Now let's loop over the rows again and count up COVID deaths by week and gender. We want to accumulate all the ages by sex of all, female,\n",
    "or male. We will use a dictionary with the week as the unique key (Note however that this is an unordered list)\n",
    "\n",
    "Also note that row is a list and is indexed from 0 to 7, one index for each column. We are interested in columns 3, 4, and 7 namely \n",
    "\"Week ending Date\", Sex, and COVID-19 deaths. To make it easier keep track of these let's give them names."
   ]
  },
  {
   "cell_type": "code",
   "execution_count": 67,
   "metadata": {},
   "outputs": [],
   "source": [
    "date=3\n",
    "sex=4\n",
    "agegroup=5\n",
    "covid=7\n",
    "covidDeathsAll = defaultdict(int)\n",
    "covidDeathsFemale = defaultdict(int)\n",
    "covidDeathsMale = defaultdict(int)\n",
    "\n",
    "# now loop\n",
    "for row in data:\n",
    "    if row[agegroup] == \"All Ages\":\n",
    "        if row[sex] == \"All Sex\":\n",
    "            covidDeathsAll[row[date]] += int(row[covid])\n",
    "        elif row[sex] == \"Female\":\n",
    "            covidDeathsFemale[row[date]] += int(row[covid])\n",
    "        elif row[sex] == \"Male\":\n",
    "            covidDeathsMale[row[date]] += int(row[covid])\n",
    "        else :\n",
    "            print (\"no match:\",row)"
   ]
  },
  {
   "cell_type": "code",
   "execution_count": 68,
   "metadata": {},
   "outputs": [
    {
     "name": "stdout",
     "output_type": "stream",
     "text": [
      "   Week    Female Male All\n",
      "01/04/2020 0 0 0\n",
      "01/11/2020 1 0 1\n",
      "01/18/2020 1 1 2\n",
      "01/25/2020 1 1 2\n",
      "02/01/2020 0 0 0\n",
      "02/08/2020 2 2 4\n",
      "02/15/2020 2 3 5\n",
      "02/22/2020 5 1 6\n",
      "02/29/2020 3 6 9\n",
      "03/07/2020 16 22 38\n",
      "03/14/2020 31 29 60\n",
      "03/21/2020 221 367 588\n",
      "03/28/2020 1263 1954 3217\n",
      "04/04/2020 4034 6099 10133\n",
      "04/11/2020 7030 9300 16330\n",
      "04/18/2020 7861 9344 17205\n",
      "04/25/2020 7376 8175 15551\n",
      "05/02/2020 6405 6811 13216\n",
      "05/09/2020 5426 5811 11237\n",
      "05/16/2020 4713 4524 9237\n",
      "05/23/2020 3527 3720 7247\n",
      "05/30/2020 3014 3158 6172\n",
      "06/06/2020 2488 2570 5058\n",
      "06/13/2020 2024 2208 4232\n",
      "06/20/2020 1854 1997 3851\n",
      "06/27/2020 1815 2029 3844\n",
      "07/04/2020 2028 2524 4552\n",
      "07/11/2020 2523 3262 5785\n",
      "07/18/2020 3152 4045 7197\n",
      "07/25/2020 3674 4573 8247\n",
      "08/01/2020 3625 4682 8307\n",
      "08/08/2020 3484 4385 7869\n",
      "08/15/2020 3253 4009 7262\n",
      "08/22/2020 2965 3423 6388\n",
      "08/29/2020 2673 3080 5753\n",
      "09/05/2020 2356 2663 5019\n",
      "09/12/2020 2114 2513 4627\n",
      "09/19/2020 1993 2286 4279\n",
      "09/26/2020 1941 2360 4301\n",
      "10/03/2020 1943 2301 4244\n",
      "10/10/2020 2207 2615 4822\n",
      "10/17/2020 2447 2754 5201\n",
      "10/24/2020 2725 3271 5996\n",
      "10/31/2020 3210 3817 7027\n",
      "11/07/2020 3946 4816 8762\n",
      "11/14/2020 4776 5877 10653\n",
      "11/21/2020 6045 7314 13359\n",
      "11/28/2020 7015 8611 15626\n",
      "12/05/2020 8499 10070 18569\n",
      "12/12/2020 9590 11335 20925\n",
      "12/19/2020 10218 12111 22329\n",
      "12/26/2020 10643 12742 23385\n",
      "01/02/2021 11126 13755 24881\n",
      "01/09/2021 11661 14348 26009\n",
      "01/16/2021 11446 14281 25727\n",
      "01/23/2021 10610 13102 23712\n",
      "01/30/2021 8969 11378 20347\n",
      "02/06/2021 7256 9793 17049\n",
      "02/13/2021 5848 7689 13537\n",
      "02/20/2021 4620 6203 10823\n",
      "02/27/2021 3841 4821 8662\n",
      "03/06/2021 2895 3832 6727\n",
      "03/13/2021 2531 3194 5725\n",
      "03/20/2021 2124 2780 4904\n",
      "03/27/2021 1952 2498 4450\n",
      "04/03/2021 1885 2317 4202\n",
      "04/10/2021 1922 2392 4314\n",
      "04/17/2021 1901 2548 4449\n",
      "04/24/2021 2084 2518 4602\n",
      "05/01/2021 1882 2287 4169\n",
      "05/08/2021 1808 2197 4005\n",
      "05/15/2021 1722 1969 3691\n",
      "05/22/2021 1430 1808 3238\n",
      "05/29/2021 1273 1499 2772\n",
      "06/05/2021 1092 1257 2349\n",
      "06/12/2021 928 1109 2037\n",
      "06/19/2021 835 943 1778\n",
      "06/26/2021 710 926 1636\n",
      "07/03/2021 715 828 1543\n",
      "07/10/2021 766 876 1642\n",
      "07/17/2021 896 1095 1991\n",
      "07/24/2021 1197 1565 2762\n",
      "07/31/2021 1750 2368 4118\n",
      "08/07/2021 2774 3713 6487\n",
      "08/14/2021 4136 5253 9389\n",
      "08/21/2021 5261 6912 12173\n",
      "08/28/2021 6124 8041 14165\n",
      "09/04/2021 6756 8718 15474\n",
      "09/11/2021 6699 8695 15394\n",
      "09/18/2021 6582 8609 15191\n",
      "09/25/2021 6261 8038 14299\n",
      "10/02/2021 5626 7169 12795\n",
      "10/09/2021 4838 6260 11098\n",
      "10/16/2021 4295 5506 9801\n",
      "10/23/2021 3811 5084 8895\n",
      "10/30/2021 3523 4403 7926\n",
      "11/06/2021 3047 4166 7213\n",
      "11/13/2021 3111 3998 7109\n",
      "11/20/2021 3162 4090 7252\n",
      "11/27/2021 3317 4490 7807\n",
      "12/04/2021 3785 4913 8698\n",
      "12/11/2021 4128 5484 9612\n",
      "12/18/2021 4406 5692 10098\n",
      "12/25/2021 4416 5863 10279\n",
      "01/01/2022 5108 6307 11415\n",
      "01/08/2022 6461 8089 14550\n",
      "01/15/2022 8052 10219 18271\n",
      "01/22/2022 8964 11270 20234\n",
      "01/29/2022 8688 11054 19742\n",
      "02/05/2022 7590 9690 17280\n",
      "02/12/2022 5873 7680 13553\n",
      "02/19/2022 4370 5404 9774\n",
      "02/26/2022 2710 3364 6074\n",
      "03/05/2022 1655 2071 3726\n",
      "03/12/2022 987 1230 2217\n",
      "03/19/2022 318 388 706\n"
     ]
    }
   ],
   "source": [
    "# pretty print the results\n",
    "print (\"   Week   \", \"Female\", \"Male\", \"All\")\n",
    "for key in covidDeathsAll:\n",
    "    print (key, covidDeathsFemale[key], covidDeathsMale[key], covidDeathsAll[key])\n"
   ]
  },
  {
   "cell_type": "code",
   "execution_count": 69,
   "metadata": {},
   "outputs": [
    {
     "name": "stdout",
     "output_type": "stream",
     "text": [
      "week of max deaths 01/09/2021\n",
      "week of max female deaths 01/09/2021\n",
      "week of max male deaths 01/09/2021\n"
     ]
    }
   ],
   "source": [
    "print (\"week of max deaths\",max(covidDeathsAll, key=covidDeathsAll.get))\n",
    "print (\"week of max female deaths\",max(covidDeathsAll, key=covidDeathsFemale.get))\n",
    "print (\"week of max male deaths\",max(covidDeathsAll, key=covidDeathsMale.get))"
   ]
  },
  {
   "cell_type": "code",
   "execution_count": 70,
   "metadata": {},
   "outputs": [
    {
     "name": "stdout",
     "output_type": "stream",
     "text": [
      "Total Deaths:  974277 \n",
      "Total Female Deaths:  434667 \n",
      "Total Male Deaths:  539610\n"
     ]
    }
   ],
   "source": [
    "# use the values method to get a list of the dictionary values\n",
    "#values = covidDeathsAll.values()\n",
    "print(\"Total Deaths: \", sum(covidDeathsAll.values()), \"\\n\"\n",
    "      \"Total Female Deaths: \", sum(covidDeathsFemale.values()),\"\\n\" \n",
    "      \"Total Male Deaths: \", sum(covidDeathsMale.values()))"
   ]
  },
  {
   "cell_type": "code",
   "execution_count": 71,
   "metadata": {},
   "outputs": [
    {
     "name": "stdout",
     "output_type": "stream",
     "text": [
      "['01/04/2020', '01/11/2020', '01/18/2020', '01/25/2020', '02/01/2020', '02/08/2020', '02/15/2020', '02/22/2020', '02/29/2020', '03/07/2020', '03/14/2020', '03/21/2020', '03/28/2020', '04/04/2020', '04/11/2020', '04/18/2020', '04/25/2020', '05/02/2020', '05/09/2020', '05/16/2020', '05/23/2020', '05/30/2020', '06/06/2020', '06/13/2020', '06/20/2020', '06/27/2020', '07/04/2020', '07/11/2020', '07/18/2020', '07/25/2020', '08/01/2020', '08/08/2020', '08/15/2020', '08/22/2020', '08/29/2020', '09/05/2020', '09/12/2020', '09/19/2020', '09/26/2020', '10/03/2020', '10/10/2020', '10/17/2020', '10/24/2020', '10/31/2020', '11/07/2020', '11/14/2020', '11/21/2020', '11/28/2020', '12/05/2020', '12/12/2020', '12/19/2020', '12/26/2020', '01/02/2021', '01/09/2021', '01/16/2021', '01/23/2021', '01/30/2021', '02/06/2021', '02/13/2021', '02/20/2021', '02/27/2021', '03/06/2021', '03/13/2021', '03/20/2021', '03/27/2021', '04/03/2021', '04/10/2021', '04/17/2021', '04/24/2021', '05/01/2021', '05/08/2021', '05/15/2021', '05/22/2021', '05/29/2021', '06/05/2021', '06/12/2021', '06/19/2021', '06/26/2021', '07/03/2021', '07/10/2021', '07/17/2021', '07/24/2021', '07/31/2021', '08/07/2021', '08/14/2021', '08/21/2021', '08/28/2021', '09/04/2021', '09/11/2021', '09/18/2021', '09/25/2021', '10/02/2021', '10/09/2021', '10/16/2021', '10/23/2021', '10/30/2021', '11/06/2021', '11/13/2021', '11/20/2021', '11/27/2021', '12/04/2021', '12/11/2021', '12/18/2021', '12/25/2021', '01/01/2022', '01/08/2022', '01/15/2022', '01/22/2022', '01/29/2022', '02/05/2022', '02/12/2022', '02/19/2022', '02/26/2022', '03/05/2022', '03/12/2022', '03/19/2022']\n",
      "[datetime.datetime(2020, 1, 4, 0, 0), datetime.datetime(2020, 1, 11, 0, 0), datetime.datetime(2020, 1, 18, 0, 0), datetime.datetime(2020, 1, 25, 0, 0), datetime.datetime(2020, 2, 1, 0, 0), datetime.datetime(2020, 2, 8, 0, 0), datetime.datetime(2020, 2, 15, 0, 0), datetime.datetime(2020, 2, 22, 0, 0), datetime.datetime(2020, 2, 29, 0, 0), datetime.datetime(2020, 3, 7, 0, 0), datetime.datetime(2020, 3, 14, 0, 0), datetime.datetime(2020, 3, 21, 0, 0), datetime.datetime(2020, 3, 28, 0, 0), datetime.datetime(2020, 4, 4, 0, 0), datetime.datetime(2020, 4, 11, 0, 0), datetime.datetime(2020, 4, 18, 0, 0), datetime.datetime(2020, 4, 25, 0, 0), datetime.datetime(2020, 5, 2, 0, 0), datetime.datetime(2020, 5, 9, 0, 0), datetime.datetime(2020, 5, 16, 0, 0), datetime.datetime(2020, 5, 23, 0, 0), datetime.datetime(2020, 5, 30, 0, 0), datetime.datetime(2020, 6, 6, 0, 0), datetime.datetime(2020, 6, 13, 0, 0), datetime.datetime(2020, 6, 20, 0, 0), datetime.datetime(2020, 6, 27, 0, 0), datetime.datetime(2020, 7, 4, 0, 0), datetime.datetime(2020, 7, 11, 0, 0), datetime.datetime(2020, 7, 18, 0, 0), datetime.datetime(2020, 7, 25, 0, 0), datetime.datetime(2020, 8, 1, 0, 0), datetime.datetime(2020, 8, 8, 0, 0), datetime.datetime(2020, 8, 15, 0, 0), datetime.datetime(2020, 8, 22, 0, 0), datetime.datetime(2020, 8, 29, 0, 0), datetime.datetime(2020, 9, 5, 0, 0), datetime.datetime(2020, 9, 12, 0, 0), datetime.datetime(2020, 9, 19, 0, 0), datetime.datetime(2020, 9, 26, 0, 0), datetime.datetime(2020, 10, 3, 0, 0), datetime.datetime(2020, 10, 10, 0, 0), datetime.datetime(2020, 10, 17, 0, 0), datetime.datetime(2020, 10, 24, 0, 0), datetime.datetime(2020, 10, 31, 0, 0), datetime.datetime(2020, 11, 7, 0, 0), datetime.datetime(2020, 11, 14, 0, 0), datetime.datetime(2020, 11, 21, 0, 0), datetime.datetime(2020, 11, 28, 0, 0), datetime.datetime(2020, 12, 5, 0, 0), datetime.datetime(2020, 12, 12, 0, 0), datetime.datetime(2020, 12, 19, 0, 0), datetime.datetime(2020, 12, 26, 0, 0), datetime.datetime(2021, 1, 2, 0, 0), datetime.datetime(2021, 1, 9, 0, 0), datetime.datetime(2021, 1, 16, 0, 0), datetime.datetime(2021, 1, 23, 0, 0), datetime.datetime(2021, 1, 30, 0, 0), datetime.datetime(2021, 2, 6, 0, 0), datetime.datetime(2021, 2, 13, 0, 0), datetime.datetime(2021, 2, 20, 0, 0), datetime.datetime(2021, 2, 27, 0, 0), datetime.datetime(2021, 3, 6, 0, 0), datetime.datetime(2021, 3, 13, 0, 0), datetime.datetime(2021, 3, 20, 0, 0), datetime.datetime(2021, 3, 27, 0, 0), datetime.datetime(2021, 4, 3, 0, 0), datetime.datetime(2021, 4, 10, 0, 0), datetime.datetime(2021, 4, 17, 0, 0), datetime.datetime(2021, 4, 24, 0, 0), datetime.datetime(2021, 5, 1, 0, 0), datetime.datetime(2021, 5, 8, 0, 0), datetime.datetime(2021, 5, 15, 0, 0), datetime.datetime(2021, 5, 22, 0, 0), datetime.datetime(2021, 5, 29, 0, 0), datetime.datetime(2021, 6, 5, 0, 0), datetime.datetime(2021, 6, 12, 0, 0), datetime.datetime(2021, 6, 19, 0, 0), datetime.datetime(2021, 6, 26, 0, 0), datetime.datetime(2021, 7, 3, 0, 0), datetime.datetime(2021, 7, 10, 0, 0), datetime.datetime(2021, 7, 17, 0, 0), datetime.datetime(2021, 7, 24, 0, 0), datetime.datetime(2021, 7, 31, 0, 0), datetime.datetime(2021, 8, 7, 0, 0), datetime.datetime(2021, 8, 14, 0, 0), datetime.datetime(2021, 8, 21, 0, 0), datetime.datetime(2021, 8, 28, 0, 0), datetime.datetime(2021, 9, 4, 0, 0), datetime.datetime(2021, 9, 11, 0, 0), datetime.datetime(2021, 9, 18, 0, 0), datetime.datetime(2021, 9, 25, 0, 0), datetime.datetime(2021, 10, 2, 0, 0), datetime.datetime(2021, 10, 9, 0, 0), datetime.datetime(2021, 10, 16, 0, 0), datetime.datetime(2021, 10, 23, 0, 0), datetime.datetime(2021, 10, 30, 0, 0), datetime.datetime(2021, 11, 6, 0, 0), datetime.datetime(2021, 11, 13, 0, 0), datetime.datetime(2021, 11, 20, 0, 0), datetime.datetime(2021, 11, 27, 0, 0), datetime.datetime(2021, 12, 4, 0, 0), datetime.datetime(2021, 12, 11, 0, 0), datetime.datetime(2021, 12, 18, 0, 0), datetime.datetime(2021, 12, 25, 0, 0), datetime.datetime(2022, 1, 1, 0, 0), datetime.datetime(2022, 1, 8, 0, 0), datetime.datetime(2022, 1, 15, 0, 0), datetime.datetime(2022, 1, 22, 0, 0), datetime.datetime(2022, 1, 29, 0, 0), datetime.datetime(2022, 2, 5, 0, 0), datetime.datetime(2022, 2, 12, 0, 0), datetime.datetime(2022, 2, 19, 0, 0), datetime.datetime(2022, 2, 26, 0, 0), datetime.datetime(2022, 3, 5, 0, 0), datetime.datetime(2022, 3, 12, 0, 0), datetime.datetime(2022, 3, 19, 0, 0)]\n",
      "[0, 1, 2, 2, 0, 4, 5, 6, 9, 38, 60, 588, 3217, 10133, 16330, 17205, 15551, 13216, 11237, 9237, 7247, 6172, 5058, 4232, 3851, 3844, 4552, 5785, 7197, 8247, 8307, 7869, 7262, 6388, 5753, 5019, 4627, 4279, 4301, 4244, 4822, 5201, 5996, 7027, 8762, 10653, 13359, 15626, 18569, 20925, 22329, 23385, 24881, 26009, 25727, 23712, 20347, 17049, 13537, 10823, 8662, 6727, 5725, 4904, 4450, 4202, 4314, 4449, 4602, 4169, 4005, 3691, 3238, 2772, 2349, 2037, 1778, 1636, 1543, 1642, 1991, 2762, 4118, 6487, 9389, 12173, 14165, 15474, 15394, 15191, 14299, 12795, 11098, 9801, 8895, 7926, 7213, 7109, 7252, 7807, 8698, 9612, 10098, 10279, 11415, 14550, 18271, 20234, 19742, 17280, 13553, 9774, 6074, 3726, 2217, 706]\n"
     ]
    }
   ],
   "source": [
    "weeks = list(covidDeathsAll.keys())\n",
    "print (weeks)\n",
    "# convert to datetime objects using list comprehension\n",
    "format = '%m/%d/%Y'\n",
    "weeksDatetime = [ datetime.strptime(date, format)  for date in weeks ]\n",
    "print (weeksDatetime)\n",
    "values=list(covidDeathsAll.values())\n",
    "print (values)"
   ]
  },
  {
   "cell_type": "code",
   "execution_count": 72,
   "metadata": {},
   "outputs": [
    {
     "data": {
      "image/png": "iVBORw0KGgoAAAANSUhEUgAAAaEAAAEgCAYAAAAdRMy/AAAABHNCSVQICAgIfAhkiAAAAAlwSFlzAAALEgAACxIB0t1+/AAAADh0RVh0U29mdHdhcmUAbWF0cGxvdGxpYiB2ZXJzaW9uMy4xLjEsIGh0dHA6Ly9tYXRwbG90bGliLm9yZy8QZhcZAAAgAElEQVR4nOydd5xU1dn4v882WGDpS10QFFYQQVSwocaOGmM3wTeJxBLfGLuJRk1i+70kxuRN0SQmRhPLa9cIqFFBECsKSO+7C8v23vvMzvn9MXdgdnbKvTN32u75fj7zmZlzzzn3zOzsfe5TzvOIUgqNRqPRaOJBSrwXoNFoNJr+ixZCGo1Go4kbWghpNBqNJm5oIaTRaDSauKGFkEaj0WjihhZCGo1Go4kbWghpNJqoIyJKRNbEex2axEMLIU3CISIzROQJEdkuIo0i0iUiZSLyrohcLyIDA4ybJyL/EpF9ItIuIk0isk1EfisiE336pohIkXFxPCrEejJFpMFYxxij7Vlj7A98+nraPY9u4zMUiMhSEblFREaF8Z0U+szrEJFa4/O9ICJXiUiG1XntwlhfYbzOr0letBDSJBQi8gCwA7gFaAaeA34HvAfMAJ4GPvMZIyLyG2A98D1gN/A48AzQBvwU2CsiV3rGKKVcwD+NtzeEWNa3gWHAMqVUlcmPsgx4GPh/xpq/Bk4EngD2+QovC/zJmPfXwAtACXAZ8BqwXURODHNejSY+KKX0Qz8S4gHcDyigCDgxQJ+LgI982h4wxu0HZvkZcwXQDjiBM73aJxlt1UBGkHV9asx/rlfbs0bbD3z6+m03jqUBNxprUcDVFr6bQmPMFD/HhuEWugpoAGbE4W9XCBQGOa6ANfH+jelH4j20JqRJCERkCvAQ4AAuVEp95a+fUuod4Hyfcb80xl2slNrhZ8ybwJ1AKvCkiKQY7cXA+8Bo3NqEv3XNAE7FLeA+DOOjea/DqZR6Cvix0fR7EcmMZE5j3kal1G3A87gF0qO+fURkkIjcJyKbRaRVRFpEZK2IXO2nb4ZhNvyPiBwQkU4RqRORD0XkAp++Z4iIAg4DDvMxGT7rZ+7RIvKUiJQb8+4QkWv99BMRWSwiX4hItYh0iEixiHwgIt8J/9vSJBpaCGkShWuBdOBNpdT2YB2VUp0+49KAt5RS24IMexooA44EvuHV/g/jOZBJztP+tFLKrkSLzwEHgHHAWTbNCW4zHcBFIjLU0ygiw3GbMH8FdOM2Qz4HZAMvicj/+MwzErfZLwtYCfweWA4cC/xHRLy/q0LjvI3G42Gvx1KfeYcDnwMnA2/gFpoTgH+KyGKfvktwa5XjcJsaf4/7JmAicJWJ70KTLMRbFdMP/VBKAazCbbK5IcxxPzTR90Wj7y+82lKBUsAFTPXpnwFU4dayxvkcexaL5jiffi8Y/R42+TkLCWCO8+lXbPQ708+a7vHpOxC3JugC5nq1DwBy/Mw9DNgO1AGZftZXGGRdyng8DaR6tR+F2yS606d/LW5/1yA/c42O9+9VP+x7aE1IkyiMN55LwhxXbKKvp88ET4NSyqMZCHC9T/9LcGsLbyulKiyuKxSlxnN2NOc1IvG+B2xQSj3m3VEp1QH8DPdn/y+v9k6lVK+/g1KqEfd3NQKYH8ba2oC7jO/cM+dO3NrRTBHJ8unvwK25+a6jJoxzaxKUtHgvQKMxEOPZqsnLyrhAfZ/GHRRxrYg86HWR/KHx/JTFNZkh3M9rdd75uLU9JSIP+emfbjzP7DGJyCzgbuB03ILeNyx+ItbJU0o1+Wn33BwMxx0RCW6t9VZgh4i8DnwMrDUEoaYPoYWQJlEowx2CnWNxXLkxbrKJvp65y70blVIHRGQlsBC4EHjbCHg4B7fvZoXFNZnBo41VR3lez56k+QTXXoZ4XojIScBq3NeHVbj9QU0YZjvcGuKAMNbWEKDdaTynerXdCRQA1wH3Gg+niPwH+IlSKj+M82sSEG2O0yQKnr0/Z4c57pxgnUQkFTjDePu5ny4ebcej/VyPW6t4Rrn3FNmGEZ13uvHWbxRgmPNOwy1onbj3JYE7WADgD0opCfI402uqXwCZwHlKqQuUUncopR5QSj1k53qDoZTqVkr9SSl1DDAWd5j9W8DFwPsiEo4Q1CQgWghpEoV/4fYBXGEig4H3BehZ3H6DywwTUiCuw60l7MFt2vFlOVABXCgik4AfcCiSzG5+gFtzKwc+snHeB4znt5VSHrPWOtwazGkW5pkG1Cml1vg59g0/beD+rlIDHIsIpVSVUurfSqlv49bQjgCOjsa5NLFHCyFNQqCUKsS9TygDeFdE5vnrJyLn486e4Bm3D3focTqw3J8AE5FLcYccdwM/9qfZKKWcuAVaKm5/RA7wH6VUqW/fcBGRNBH5IfAX3D6bO43ggEjnHSoijwPfx23yutdzTLkzPLwIzBORX4pILxO8iBwhIlO9mgqBkSIyx6ff9bhNlv6oBbLt2PckIgNE5GwREZ/2dNzh4+AOctD0AbRPSJMwKKV+ZVwkHwTWi8gXwAagBbdJ5nRgutHmzUPAYOAuYIuIfIA79U86cArudDntuDMUrA6yhH/gjhbzaA2RBCRcaviVMNY22Zh3PG4T2X8rpV4NY947RKQBt6lwKO59T6cb59gLfE8ptddnzC24v7dHgO+LyGdAJW7NcCZuX9HVuDfkAvwRt7D5TEReM9Y7D/em3TeAK+nNKmOe90XkE6AT2KKUejuMz5iJe09QoYh8hdsvNxA411jvcqXUrjDm1SQi8Y4R1w/98H3gvtA8gXtPShPQhdt09R5uX82AAONOwL0Jcz9uodNizPE7/Ox7CTDHStxaSjFe+1n89HuW4PuEPI9u4zMU4N68eQswMozvpNBnXgfu/TrbcO85upLgqYcyjHN/gVuodOJOj7QKuAMY5dP/IuBL3NFqDbiDM07HbUr097kHA0/iDrF3Gn2e9ToeMG2P13c2xXifDtxj/L2LgA7cgRZfAj8K9jn1I/keYvzRNRqNRqOJOdonpNFoNJq4oYWQRqPRaOKGFkIajUajiRtaCGk0Go0mbugQbWD06NFqypQp8V6GRqPRJBVff/11jVIqoiS8WggBU6ZMYcMG360nGo1GowmGiByIdA5tjtNoNBpN3NBCSKPRaDRxQwshjUaj0cQN7RMKgMPhoKSkhI6OiPNL9kkGDhxITk4O6enpoTtrNBpNALQQCkBJSQlZWVlMmTIFn2S+/R6lFLW1tZSUlDB16tTQAzQajSYA2hwXgI6ODkaNGqUFkB9EhFGjRmktUaPRRIwWQkHQAigw+rvRaDR2oIWQRqPRaOKG9gmZZMq979o6X+Gj3wzZJzU1ldmzZx98v3TpUqKV2eHZZ59lw4YN/PnPf47K/Bo3zV3NZGVkxXsZGk3CoIVQApOZmcnmzZvjvQyNjTy89mGmDZ/Gj475UbyXotEkBNocl2R0d3dz9913M3/+fObMmcPf//53ANasWcM3vvENvv3tb5Obm8u9997Liy++yAknnMDs2bMpKCgA4O233+bEE0/k2GOP5ZxzzqGysrLXOaqrq7niiiuYP38+8+fP5/PPP4/pZ+yrOFwOPi/9nL9s/gv3fXofjm5HvJek0cQdLYQSmPb2dubOncvcuXO57LLLAHjmmWcYNmwY69evZ/369fzjH/9g//79AGzZsoU//elPbNu2jRdeeIG9e/eybt06brjhBp544gkATj31VL788ks2bdrEokWLeOyxx3qd9/bbb+fOO+9k/fr1vPnmm9xwww2x+9B9mI2VG2lxtADwzr53+KLsizivSKOJP9ocl8D4M8etWLGCrVu38sYbbwDQ2NhIXl4eGRkZzJ8/n/HjxwNwxBFHcN555wEwe/ZsPvroI8C9/+k73/kO5eXldHV1+d3n8+GHH7Jz586D75uammhubiYrS/syIuGTkk96vC9oLOAbk74Rp9VoNImBFkJJhlKKJ554goULF/ZoX7NmDQMGDDj4PiUl5eD7lJQUnE4nALfeeit33XUXF198MWvWrOGhhx7qdQ6Xy8XatWvJzMyM3gfph/QSQg0FcVqJRpM4xNwcJyKFIrJNRDaLyAajbaSIrBSRPON5hFf/+0QkX0T2iMhCr/bjjXnyReRxMTauiMgAEXnVaP9KRKbE+jNGk4ULF/Lkk0/icLj9CXv37qW1tdX0+MbGRiZOnAjAc88957fPeeed1yNKTgdHRE5RUxGFTYU92rQQ0mjipwmdqZSq8Xp/L7BKKfWoiNxrvP+ZiBwFLAJmAROAD0UkVynVDTwJ3Ah8CfwHOB94D7geqFdKTRORRcBvgO9EumAzIdWx4IYbbqCwsJDjjjsOpRTZ2dksXbrU9PiHHnqIq666iokTJ3LSSScd9Cd58/jjj3PzzTczZ84cnE4np59+On/729/s/Bj9jo9LPu7Vtr9xP0opvfFX068RpVRsTyhSCMzzFkIisgc4QylVLiLjgTVKqSNF5D4ApdSvjX4fAA8BhcBHSqkZRvvVxvj/9vRRSq0VkTSgAshWQT7ovHnzlG9Ru127djFz5ky7PnafRH9H5vnhih/yZfmXvdo/uOIDJgyZEIcVaTSRIyJfK6XmRTJHPKLjFLBCRL4WkRuNtrFKqXIA43mM0T4RKPYaW2K0TTRe+7b3GKOUcgKNwCjfRYjIjSKyQUQ2VFdX2/LBNBp/tDna+Lrya7/H8hvyY7wajSaxiIcQWqCUOg64ALhZRE4P0tefnUIFaQ82pmeDUk8ppeYppeZlZ0dUIl2jCcrWmq04XP73BO1r2Bfj1Wg0iUXMhZBSqsx4rgLeAk4AKg0zHMZzldG9BJjkNTwHKDPac/y09xhjmOOGAXXR+CwajRm2VG0JeKygUQcnaPo3MRVCIjJYRLI8r4HzgO3AcmCx0W0xsMx4vRxYZES8TQWmA+sMk12ziJxkRMVd4zPGM9eVwOpg/iCNJtpsqQ4ihHSEnKafE+vouLHAW0Y0UBrwklLqfRFZD7wmItcDRcBVAEqpHSLyGrATcAI3G5FxADcBzwKZuKPi3jPanwFeEJF83BrQolh8MI0mENtqtgU8tq9Rm+M0/ZuYCiGl1D7gGD/ttcDZAcYsAZb4ad8AHO2nvQNDiGk08aawsZCGzoaAx1sdrVS0VjBu8LgYrkqjSRx0xgSzPDTM5vkaQ3YREb73ve/xwgsvAOB0Ohk/fjwnnngi77zzTsBxa9as4Xe/+13QPprYEMwU56GgoUALIU2/RScwTWAGDx7M9u3baW9vB2DlypUHsx1okgMzQkiHaWv6M1oIJTgXXHAB777rLqj38ssvc/XVVx88tm7dOk455RSOPfZYTjnlFPbs2dNrfGtrK9dddx3z58/n2GOPZdmyZb36aKKHGSGk/UKa/owWQgnOokWLeOWVV+jo6GDr1q2ceOKJB4/NmDGDTz75hE2bNvHII49w//339xq/ZMkSzjrrLNavX89HH33E3XffbSnXnCZ82hxtprQcHSGn6c9on1CCM2fOHAoLC3n55Ze58MILexxrbGxk8eLF5OXlISIHk5p6s2LFCpYvX87vfvc7ADo6OigqKtLpdmLAtpptuJQrZL+S5pKQfTSavooWQknAxRdfzE9/+lPWrFlDbW3twfZf/vKXnHnmmbz11lsUFhZyxhln9BqrlOLNN9/kyCOPjOGKNWDOFAdQ31lPt6ub1JTUKK9Io0k8tDkuCbjuuut44IEHmD17do9277IMzz77rN+xCxcu5IknnsCzX3fTpk1RXavmEJuqzH3XLuWitqM2dEeNpg+iNSGzmAipjhY5OTncfvvtvdrvueceFi9ezO9//3vOOussv2N/+ctfcscddzBnzhyUUkyZMkWHbseANkcb6yvWm+5f3V7NmEFjQnfUaPoYMS/lkIjoUg7hob+jwKw8sJK71txluv8TZz3BGZPOiN6CNJookKylHDSaPs+qolWW+le363Iimv6JFkIajc04XA4+KfnE0piatprQnTSaPogWQhqNzayvWE9zV7OlMVXtVaE7aTR9EC2ENBqbWV202vIYrQlp+itaCGk0NqKU4qOijyyP0z4hTX9FCyGNxka21WwLy7SmhZCmv6L3CZlk9nOzQ3eywLbFgQudefPWW29x+eWXs2vXLmbMmEFhYSEXXXQR27dv1yUbEpAvyr4Ia1xdex0u5SJF9H2hpn+hf/EJzssvv8ypp57KK6+8Eu+laEywsXJjWOOcykldR53Nq9FoEh8thBKYlpYWPv/8c5555hkthJKAble36Xxx/qhp18EJmv6HFkIJzNKlSzn//PPJzc1l5MiRbNwY3l22Jjbsrt9Nm7Mt7PHVbdovpOl/aCGUwLz88sssWrQIcNcVevnll+O8Ik0wwjXFedDBCZr+iA5MSFBqa2tZvXo127dvR0To7u5GRPjxj38c76VpAmA2a3YgtCak6Y9oTShBeeONN7jmmms4cOAAhYWFFBcXM3XqVEpKdAG0REVrQhqNdbQmZBKzIdV28fLLL3Pvvff2aLviiiv41a9+FdN1aMxxoOlAxDWBdGCCpj+ihVCCsmbNml5tt912G7fddtvB92eccYbfaqqa2BOpFgTaHKfpn2hznEZjA19Xfh3xHNocp+mPaCGk0dhApEEJoM1xmv6JFkJB0FVnA6O/m0M0dTVR1FwU8TwOl4P6jnobVqTRJA9aCAVg4MCB1NbW6outH5RS1NbWMnDgwHgvJSEoaopcAHnQJjlNf0MHJgQgJyeHkpISqqv1RcEfAwcOJCcnJ97LSAjsFEI1bTXkjsi1bT6NJtHRQigA6enpTJ06Nd7L0CQBdpjiPGhNSNPfiIs5TkRSRWSTiLxjvB8pIitFJM94HuHV9z4RyReRPSKy0Kv9eBHZZhx7XETEaB8gIq8a7V+JyJRYfz5N/6K4udi2ubQQ0vQ34uUTuh3Y5fX+XmCVUmo6sMp4j4gcBSwCZgHnA38VkVRjzJPAjcB043G+0X49UK+Umgb8AfhNdD+Kpr9jpzmuqs16QTxN/6Dd2R7vJUSFmAshEckBvgk87dV8CfCc8fo54FKv9leUUp1Kqf1APnCCiIwHhiql1ip35MDzPmM8c70BnO3RkjSaaGCnOU6HaWsC8b8b/rdPbmiOhyb0R+AewOXVNlYpVQ5gPI8x2icC3raOEqNtovHat73HGKWUE2gERtn7ETQaN62OVluL0WlNSBOIjVUbeXjtw/Fehu3EVAiJyEVAlVLK7PZyfxqMCtIebIzvWm4UkQ0iskFHwGnC5UDTAVvn64t3uprIcbqcFDYW8nHJxyzNXxrv5dhKrDWhBcDFIlIIvAKcJSL/B1QaJjaMZ8/tYAkwyWt8DlBmtOf4ae8xRkTSgGFAr1tVpdRTSql5Sql52dnZ9nw6Tb/DTlMc6MAEjX+KmopwuBwAPLbuMRo7G+O8IvuIqRBSSt2nlMpRSk3BHXCwWin1PWA5sNjothhYZrxeDiwyIt6m4g5AWGeY7JpF5CTD33ONzxjPXFca59A7TjVRobjJvsg40FkTNP7Ja8g7+LrZ0cze+r1xXI29JErGhEeBc0UkDzjXeI9SagfwGrATeB+4WSnVbYy5CXdwQz5QALxntD8DjBKRfOAujEg7jSYa2K0JgdaGNL0paCjo8b6kue/UFYvbZlWl1BpgjfG6Fjg7QL8lwBI/7RuAo/20dwBX2bhUjSYgdoZne6huq9ZZEzQ9yG/I7/Hezr1p8SZRNCGNJimJxsVAR8hpfPEVQn1JE9JCSKMJkzZHW1RMZ9ocp/HG0e3o5XssadFCSKPp90TLJKI1IY03+xr34VTOHm3aHKfRaKISlAB6r5CmJ75BCQANnQ20dLXEYTX2o4WQRhMm0QhKAJ26R9MTX3+Qh76iDWkhpNGESdTMce3aHKc5hBZCGo3GL6UtpVGZt6a9Rlf01RzEnzkO+k5wghZCGk2YVLRWRGVep8tpa1JUTfLS4ewIKGy0JqTR9HMq2yqjNrcO09aAO/jFpVx+j/WVvUJaCGk0YdDY2RjVImM6TFsDwYNUtCak0fRjomWK86Aj5DQAte21AY9VtFbgdDkDHk8WtBDSaMIg2kJIa0IaIKhvsFt1U95SHsPVRActhDSaMIimPwj0hlWNm9qOwJoQ9A2TnBZCGk0YRF0T0nuFNAQ3x0HfCNPWQkijCYNoCyGtCWlAa0IajSYAFW1RFkI6RFsD1LUH3y/WF8K0tRDqwwTaX6CJnGhrQnXtdfrvpwlpjitrLYvRSqKHFkJ9mC/Lv+wTd0qJhlKKytboBiY4lc6a0N9RSoX8DYQSUsmAFkJ9mKX5S9lZuzPey+hz1HXU0eXqivp5tF+of9PY2dirjpAvfeFGRQuhPkpTVxOri1azo3ZHvJfS54i2P8iD3rDavzEjYBwuB42djTFYTfTQQqiP8t6+9+js7tSaUBSItj/IgxZC/ZtQkXFW+yUqWgj1UZbmLwXQQigKaCGkiQVm/T3J7hfSQqgPkl+fz/ba7YDbLNcX9hIkEtEOSvCghVD/xqyGk+x+IUtCSETGiMhUr/ciIjeKyB9F5Fv2L08TDssLlvd4r/1C9qI1IU0s0JqQf54F7vR6/zDwV+B84C0R+YE9y9JEwv6m/T3ea5OcvejABE0s0D4h/xwHrAYQkRTgJuB+pdQMYAlwh73L04RDq6O1x/udNVoI2YnWhDSxQGtC/hkGeD7x8cBI4EXj/Wpgmk3r0kRAS1dLj/c767QQsguXcsVs/44WQv0bs76e/qYJlQBHGa+/CexWSpUa74cBHXYtTBM+vppQc1czRU1FcVpN36K6rTrkBkK7aHO20eZoi8m5NImHWQ0nVH65RMeqEPon8JiIvA7cAzzldewkYJddC9OEj68QAu0Xsoto1xHyJdlNLZrw0T4hPyilfg3cClQYz497HR4JPG3f0jThooVQ9Ih1wkidTbt/0tLVQmd3p6m+yR6inWZ1gFLqeeB5P+0/smVFmohwupx0dPe2iuY15MVhNX2PWJs1tV8oPPbU7QEgd0QuIhLn1VjHinbT7mynzdHGoPRBUVxR9Ahrs6qIDBCRw0XkKN9HiHEDRWSdiGwRkR0i8rDRPlJEVopInvE8wmvMfSKSLyJ7RGShV/vxIrLNOPa4GL80Y22vGu1ficiUcD5jsuJPC4LYXzz7KgeaDsT0fFoIhceTW57kyrev5NRXTmXJl0to6mqK95IsYdUMm8xmW6ubVSeIyDtAG5AHbPN6bDeeg9EJnKWUOgaYC5wvIicB9wKrlFLTgVXGewyhtgiYhXsv0l9FJNWY60ngRmC68TjfaL8eqFdKTQP+APzGymdMdgIJobLWMpyu2DjU+zJaCCU+LuViQ+UGwJ0x5JU9r/Ctt77Fu/vejfPKzGPVxJbMfiGrmtDTwDzgLtwX/bO8HmcazwFRbjzxw+nGQwGXAM8Z7c8BlxqvLwFeUUp1KqX2A/nACSIyHhiqlFqrlFK4zYPeYzxzvQGc7dGS+gMtjha/7U6Xk/KW8hivpu8RayGUzBeXeLG3fm+vzNJ1HXX8/LOfJ015DMuaUBL/Tqz6hBYAP1RKvRbuCQ1N5mvce4r+opT6SkTGKqXKAZRS5SIyxug+EfjSa3iJ0eYwXvu2e8YUG3M5RaQRGAX0uKUUkRtxa1JMnjw53I+TcATShAAONB9g0tBJMVxN36Kxs5GGzoaYnjNZLpqJxLrydX7bu1U37+x7h2uPvjbGK7KOVaHSb8xxQBXQHskJlVLdSqm5QA5ureboIN39aTAqSHuwMb7reEopNU8pNS87OzvUspOGYEJI+4UiI9ZaEGhzXDisr1gf8JhvXsVEpT9pQlaF0APAz0RkaKQnVko1AGtwm/UqDRMbxnOV0a0E8L51zwHKjPYcP+09xohIGu5NtMkdw2iBQOY4gKJmLYQiIR5CKJnvcONBt6ubryu/Dng8vyGfHTWJn9C3P2lCIc1xIuJrepsMHBCR9YCvbUIppb4TZK5swKGUahCRTOAc3IEDy4HFwKPG8zJjyHLgJRH5PTABdwDCOqVUt4g0G0ENXwHXAE94jVkMrAWuBFYbfqN+QWuX1oSiRTyEUF1HHUqppAwzjge763bT7GgO2mdZwTJmjZ4VoxWFh1Whksx7hcz4hHxtVQXGc7qfY6EYDzxn+IVSgNeUUu+IyFrgNRG5HigCrgJQSu0whOBOwAncrJTqNua6CXdW70zgPeMB8Azwgojk49aAFllcY1ITTBPSdYUiIx5C3Kmc1HfWM3LgyJifOxlZV+HfH+TNe/vf4+55d5Oemh6DFYWH1U3KfVoTUkqdadfJlFJbgWP9tNcCZwcYswR3hm7f9g1AL3+SUqoDQ4j1R4LlGitpKaHb1U1qSmrAPprAFDYVxuW81W3VWgiZxIwQauhs4OOSjznnsHNisKLwsBqQksyakNV9Qg+IyIQAx8aLyAP2LEsTLsE0IafLGfO0M32JePnUkvkuN5Y4XU42Vm401ffT0k+jvJrwqe+op8vVZWlMMv9GrAYmPEjPgABvJhjHNXEkWHQcaL9QuNS014T8bqN27g4dIWeGgoYC2pzmso5vqdoS5dWET1VbVehOPjQ7munqtia4EgWrQkjwE+5skAPUR7YcTaQE04RAR8iFSzyCEjzoMG1zFDQUhO5ksK9xH81dwQMY4kW4mdqTVRsyEx23GHe0GbgF0JMi4puIaSAwG1hh7/I0VtGaUHTQQijxKWg0L4QUim3V2zhl4ilRXFF4hC2EOmoZP2S8zauJPmai49o4VE1VgEZ677vpwh2d9lf7lqYJh5BCSGtCYRFXIdSmhZAZrGhCAFtqtiSkEArHHAfJG5xgJjrudeB1ABH5F/CIkcdNk4CENMdpTSgs4iqEtE/IFJaFUHVi+oXCFUJ91hznjVIq8ZMu9XOCbVYFKG0p1WHaYRBPIRTuRak/0dXdZXkf3LbqbQm5ETgSc1wyYrmonVGf53tALm5fUA+UUt+OeFWasGl1BhdCDpeD8tZycrICBTlqfFFKUdJcErpjlChvKU/Ii2Uisb9xP90H97Gbo6mrif1N+zl82OFRWlV49DdNyOo+oeNx1w36rvGYjru0w5XAScBouxeosYaZMGJtkrNGbUet32q1saLL1aWDExb/5ksAACAASURBVEJg1RTnIRFDtStb+5cmZDVE+7fAm7gzFQhwvVLqcOBU3JFzj9m7PI0VOpwdpgrXWYki0kBZS/w3+Ja2lMZ7CQlNuL/prTVbbV5JZHQ4O8KuAlvXnpyBCVaF0FzgJcBlvB8IoJT6AngYdwJSTZwIFZTgIdy7xv6KnULomuFzuGDE0aSlWLOEl7fqgoTBCFsTSrDghEj8f8mqCVn1CSmgSymlRKQKOAz4wjhWjNs8p4kTwfLGeZPfkB/llfQt7Ep1lDtkMndtfo9U1U310HHcOvVIdjSZCzRNBG0skQlXCBU0FNDqaGVw+mCbVxQe4QYlQPKGaFvVhHYCRxiv1wJ3ish0ETkMuIdDGbY1ccCsJrSvYV+UV9K3sEsA3NfUTqrhPM9uquDi7gExX0NfJJzIOA8u5WJn7U6bVxQ+kWhCDZ0NdLusBWckAlaF0FPAOOP1/bhLM+wG9gEnAj+1b2kaq5jNbdbsaKaitSLKq+k72CEALhhxNPMO9Cy2dm7RVlLE3L+gTjwbmHAi47zZVbvLxtVERiRCyKVc1HcmX+Y0S0JIKfWCUup/jNe7gJm4K6NeBkxTSum0PXGkpcucJgTaL2SFSIVQZupAflKwuVd7dlMFc4eaCw8ub9E+oUBE+lveWZc4mlAk5jhITpOcVU2oB0qpFqXUSqXUcqWU3lEXZ0LtEfJG+4XME6kWcvHQ6Yxt9D/Hed0ZMVlDXybSaM++oglBcu4VsiyERGSOiLwqIgUi0ikixxntS0TkAvuXqDFLqGwJ3mhNyBz1HfW0O9vDHp8iKXy/KPBF7pyirQihN6G2O9up70g+U0ssiNTHWdhUGNHf2E60JhQCQ8h8jdsv9DzuEt8eOoFb7VuaxipmAxNACyGzRKqBnD5sBofVBL5Ijm0s4xiTJjkdnOCfSJPyupSLPXV7bFpNZGhNKDS/Bp5VSn2D3iW3N+PeR6SJE1aKrukNq+aI1BdzTV3oTAfnucxFyWmTnH/s8JclQoScS7kizpje5zUhYAbwqvHat7hdEzAy4hVpwsaKEGp1tGpntwkiyVQwM2sK8w9sCNnvzFJzF0CtCfWmpauFZkfkxel21cXfL1TXUYdThc54Eoxk3LBqVQhVAYFsB7MAnZQsjlgxx4EOTjBDJJkKFneZy1SeU1fE8IxhIftpIdQbu7TDRNCEws0Z501/0IReAR4RkVO92pSI5AI/A160bWUay1jRhED7hcwQriZ03LBpXLh7jen+MweNC9lHm+N6Y5c2v69hH13dXbbMFS6RBiVA//AJ/RLYAHzCIa1nGe7M2luBX9m3NI1VrAohrQmFJpyLXHpKOg+WFSO9LNaBmalCh2pr82lv7Mqp51RO9tbvtWWucLGjblQyakJWi9p1AheJyFnAObhLN9QBq5RSK6OwPo0FtCZkP+GYwK7LmsHhBe9aGnNUe2hTqjbH9cZO7XBn7U6OHn20bfNZZVvNtojnSEZNyLQQEndFrXNx1w0aazSX4M4h96H9S9NYxapPqKCxQBdLC0JzV7Nlp/eUwRO4cZv1f4ejagphaIj1OJpp7momKyPL8vx9lYoW+9JPxTM4waVcfFb6WcTzdLm6ku43YkoIicixuKPijgC6gRrc9YRGAalAnogsUkr1zk2iiRlWNquCewNkWWsZE4dMjNKKkptwNI+bHQPJ6O60PG5S7QGyRh1Fc4gbibKWMo4ceaTl+fsqdmpCO2p22DaXVbbXbLfNlFbXUZdUQiikT0hExgIfAO3AhcAQpdQEpdR4IAu4COgCPhCRMdFcrCY4VtL2eNAmucBYFUKTB43n3L2fhn2+owZNCNlHm+R6YqefbE/9nrALykXKJyWf2DZXspnkzAQm3IpbAJ2mlPpAKXUwhEQp1amUeg843ehzS3SWqQmFUsp0PSFvtBAKjNW77GsZerBUQzjMlNCbVnWE3CEcLgc1HfaVPXcpF+sr1ts2nxU+LQ3/5sWXZAtOMCOEzgP+qpQKeIuglGoAnsSdUVsTB1odrSgL0VgetBAKjBWtY8zAUVyy++OIzndUe2hNtrCxMKJz9CUqWitwKVfojhaIhxCqaa+xNYlqX9SEpgEbTfT72uiriQNWgxI8aCEUmANNB0z3vSZ9LOkR7jOZWRN6r3dhU2FE5+hLRKMm1lflX9k+Zyg+Lfk0rBvIQPRFTWgY0GiiXzMh43s00SIcUxzAvsZ9KGXfP0BfIq8+z1S/zLRMrtoTeWTTYTX7GRKizLQWQoeIhn+soKEg5hdxO/1BkHype8wIIaF3nrhgfQMfFJkkIh+JyC4R2SEitxvtI0VkpYjkGc8jvMbcJyL5IrJHRBZ6tR8vItuMY48bIeSIyACj1ES+iHwlIlNMrj2pCVcTanO22bbhry/R0tVi2v9y4pApDOoM7/v3RlAcGSI4obK1Muwbjr5GNH63CsW6inW2zxsIR7eDteVrbZ2zL2pC4I58qwr2AN4zMY8T+IlSaibu/UY3i8hRwL24N7xOB1YZ7zGOLcKdl+584K8i4knI9SRwIzDdeHj8UdcD9UqpacAfgN+Y/IxJTbhCCHTmBH9Y+U5OddinSR4lmUGPK5QlM2FfJlo3T+vLY+MX+rTkUxa9u8jyJvNQJJtPyMw+oYftOplSqhwoN143i8guYCJwCXCG0e05YA3uXHSXAK8YmRr2i0g+cIKIFAJDlVJrAUTkeeBS3ILwEuAhY643gD+LiKg+bnNqd4RflGtfwz5OzzndxtUkP1ZSuCwo223beU0FJzQVMnPUTNvOmaxEK1w92pqQw+Xg9tW3W46Iu3zEbD5uK6G2M3hxw2TThEIKIaWUbULIG8NMdizwFTDWEFAopcq99htNBL70GlZitDmM177tnjHFxlxOEWnEvam2RyyniNyIW5Ni8uTJdn2suBHOHiEPWhPqjVl/0JTBE8jZ/2XojiaZVVsEQ4L32d+437bzJTPRCEwAt5CvbK1k7OCxoTuHwVNbn7IsgNIkjTt3r+XWlDTum34MXzYELsKXbJqQ5fLediAiQ4A3gTuChX7j38ekgrQHG9OzQamnlFLzlFLzsrOzQy054YlEpd/XGFl55L5IXoM5IbQgfZSt551SvY/BaYOC9tFh2m6i6cuMlja0o2YHT2992vK4E4dNY3hbHaNbqvj75lXMzDosYN9mR3PcM4JbIeZCSETScQugF5VS/zaaK0VkvHF8PO66ReDWcCZ5Dc8Byoz2HD/tPcaISBru6L7k0k/DIBJntQ7T7o1ZTejUJnt/WoJi5uDgaZR0hJz7br8zjPRIZvmg8APb5+zs7uT+z+4Pq3Ddws5D+6FSlIsFKcEDkZPJJBdTIWREsD0D7FJK/d7r0HJgsfF6Me7yEJ72RUbE21TcAQjrDNNds4icZMx5jc8Yz1xXAqv7uj8I3FFukYzVZQIOUdlaaSp9y4DUAcwr2mT7+WeFCE4obCrs92H10Y7o/Lz0c9sv5P+38//Csjqkp6Rz9v6ewRKnNAQv+5BMJrlYa0ILgO8DZ4nIZuNxIfAocK6I5OHO1P0ogFJqB/AasBN4H7hZqYN5UW4CngbygQIORec9A4wyghjuwoi06+tEGrar/UKHMGuKm5c1lYGODtvPH6qsQ7uz3ZYCaMlMtHPoOZWT/+z7j61zLs1fGta4U4ZOY2h7z62ac4u3kJkW+GYlmfYKWaonFClKqc8IvJfo7ABjlgBL/LRvAHoV/1BKdQBXRbDMpCQSTQjcfqHTck6zaTXJjVlT3AJndO7hZtUUuVMDB2F/437GDQ5djbWvEq2gBG+WFyzne0d9z5a5ttdsD9uMurDD0astvbuL44ccxmcN/iMztSakiTlaE7IPs0JofnXoNDvhMLlmP1npwUPk+nuEXCw2WO+q20V+vT3/F28XvB3WuIyUDM7cv8HvsZOD3AQlkyakhVAfIWJNqEFHyHkwY44blDaI6ZWBw2QjQVDMDJE5ob8HJ8TKHLl83/KI53C6nLxf+H5YY4/OmsyQDv/+yZOrAt+IaE1IE3Mi3XVd0Kgj5MB9wTAjkGcPzomobEMoZoUo69Dfw7RjYY4DeHffuxFn6o4kyCE3SJDK9Mo9ZA8c6feYFkKamBOpOa7V0aoj5ICipiK6XKH3WBxD6No/kXBUW/DghP1N2hwXC6raqthQ4d8cZpblBeFrU7ldwX+LJ2f6D+fX5jhNzGl3hp+2x4P2C7mra5phbnN092HMqikMerw/JzJ1dDtieqf/XqGZtJj+ae5q5uOS8OtM5TYFD8U+qd3//73WhDQxx585bkbWYYwaMMJPb//oTatuZ3QoBOGYsp1RXcek2gMMzQgcIqdQ/TY4obKt0tb6O6H48MCHOF3WN5gCvF/4ftibagVhelXw/8m5AY5rTUgTc3wDE4akD+b3pcVcmpkTYERvtF8IdteGTkZ6+JCJvfZtRIOZmeODHje7n6mvEevSIw2dDawtC6/cwrL8ZaE7BWDioLEhS4Tk1BYxyE+ap8bOxrAFZ6zRQqiP4GuOe4RsJtUWckXRdiR4maeDxFITKmkuYWOlmYK9sWV3XWghNDfdvHYZCUeGCE6wK3w42YhVUII34US3FTYWsqV6S9jnzB3gP+jAG0ExbVDv/WIKlTSpe7QQ6gO0O9t7RPAsGjGHc/e6qzVOqj3AycNzTc1T0FAQ9XQwdR11nPLSKVzw7wtY/P5iVhSuiOr5rFDRWkF9iDT5AMd0RC9nmTczOoL7+fqrDy8e2SI+KvrIclLQSAISAHJdqaE7AdNT/VfjTRa/kBZCfQBff9CZ9T2dmVe1mkstE4sqq2uK19DsaD74/sEvHkyYIm1mtCCAY6pj44uZUVca9Hi/NcfFIYqz2dFsqfyCS7l4e194G1Q9TG9rDt0JyHX4N7sli19IC6E+gG9Bu3GtPe/mz8hfG3A/gS/RvrteVbSqx/sWRws/WfOTqGZENouZoIThGcOYWh2bjb1TqwsYkBrYJFfVVmUq0Wpfo6It9uY4gPf2m4+SW1exLmKzYW5dSehOwPSmGr/tWhPSxAzfoIQxjT1//GkuJ5cOCF4ewEM0Mye0Olr5sqx3Abg99Xt4cvOTUTuvWcwEJcwdPAGJUWRWmsvJtMHBMyf0R79QPHxC4L6BMquF/Tvv36E7BSEzdSCTawtN9c1N8gg5LYT6AN7muMFpgxjS2VuNP6/SnAkpmprQp6WfBtwI+n+7/i9uFxcPZsxxC7piW0JhRmrwHHL90S9k5ndyy9Cj+VPaYdw7eCaXj5jNaBNO/lA4XU6e3/l8yH7bqrfx/v7w0vR4OHzweFJMZmoY1t7A2MzRvdq1JqSJGd6a0JgA+4JmlO80ZZKLZoTc6gOrAx7r7O7kiU1PRO3coWjsbKSsNXR5gNNLzfmN7OLIrt4ZlL0xm2y1r9DmaAtpgswZNI7rt63grLxP+e72D3h447us3r2F552jGJExLKLzv5n3Jo2dgcPzXcrFkq+WRLyPKTfEzYcv0wf4EUJaE9LECu+d82ODZF9eECDFhzcFjdGJkHN0O0I6dt/Z9w576qKTFDQUZvxB04ZMYkJ9dDJnB2JmY3XQ4/1NEzKjBd2oskjz2SMjKI4t3sQS5xDTWxb80e5s56VdLwU8/sbeN9hRuyPs+T0ECjYI2J/0Xm1aE9LEjB6akPT+MXo4tTX4xjdw/5OZ0Qis8mX5l7Q4gp/fpVz84es/2H5uM5jxB52WNjwGK+lJblUeKRL437S/ZbkIJYQmDxrPxbvWBDx+WsFafjC8VxkyS7y0+yW/abIaOhp4fNPjEc3tIddiWqjp7b1TOGlNSBMzvH1CY12B7/JOLtpMqoTee7ClKvwNdoFYU7zGVL/Pyz6PizZkRhM6vS72PqtBnS1M9rMZ0UN9Zz017f6jo/oiobYQ/Mg1OGR289u2fMAxQ48Iew0NnQ38/LOf83np5zhcDpq7mnl+x/Nc/e7VQU11ZhGEmRV7LY3Jre9946g1IU3M8L4rG+sM7EMY2t7InKwpIef7qPgjO5bVg/WV6033DbcMciSECkrISh/C3GL7hbMZjswInqGhP/mFgoVnTxw0lgt3h04WmuZy8pO6hojWsfLASn704Y/4xivf4JzXz+G3G35LSYu5kOpQHDZ4PFkd1oTZ1Op9pKX0LJTd0NlAtyt65UbsQguhPkAPn1BH8MzKpxK4PomHz0o/w9Ed3CFuhfqOekvJNt/d9y4Ol33nD0VFawX7GoOHpi8YclgvP0OsmBHiOtKf/ELBzHHnZYwxXePp2OJNHD10asTraXY0R1xQ0pfZGdYj+dJdDqYO6plr0KVcpjKAxBsthPoA3ua4Ma3BbcmnVofOTtDiaGF9hXnNJRSbqjZZ6l/fWc/HxeGnv7fKhwc+DNnn9Pb4baad0RL8rr0/CaFg5riFldYyb3y/MzEvf7O7wtNejkzvHfmXDCa5xPwraCzhfSc2tjl4NNXMsp2myjusLg4cTm2VcBKVvpX/lm3nD8XKAyuDHheEBUVbY7Sa3swu2xU0OGFrdfzWFmsqW/3njZs4aCyzyrZbmuu8vZ/63V8Tb2b78e+YYbqzd1RrMgQnaCHUB/CY49JT0hnZEtxJLSi+MSh0eQezgQRmsKoJgbskcnVbcIFqBzXtNWyu3hy0z/QhkxjZGj/n/7D2BqYPmRTweH5Dfr+pLRTIHHdexhjLc6W5nFydNjbSJdlKRkoGR1aEF5gzvbW3xqw1IU1MaHW6zXFjBo40lVLmvIbQF9TKtkpb9jt0ODvYWWe9AFy36o44C7EZVhet7pGB3B/Hp0W2wdEOjk8dGvR4ImUjjxZ1HXV0dPtPxmvVFOfhyry1ZKaF9pPGihlDcki3mK3bw/Ta3nvYkqGcgxZCfQBPAtMxaeZ2WZ9Y+LWpneOriyI3yW2r2RZ2ca2Xdr8U9cSmvglV/THPZDbjaDKvNfgaVhzo+0KoqMn/RuFwTHEehrU3cH7WtEiWZStHp/gvy2CGcQ2lZPlsVteakCYmeHxCY1MHmuqf5nJy1uDJIfvZEaodSeG6qrYqXtn9SsRrCERjZyPrKtaF7Hd8aeg9RNHm+NLg2uTe+r0UNhbGZjFxoqjZvxAKxxTnzeXV9oRW28HRfjadWmG6z54y7RPSxASPT2iMMlcEC2BhfWh/S159HmUtkWVP2FgVWfXUZ7Y906tekl18XPJxSC3t8CE5jGqJvm8qFCNbazhiSHBfXl/XhgJpQmfVBK+7FIq5xVuYFsTnFkvm1ERWW2t6Sk/TYlVbVYCeiYMWQn0Az0V6jNO82euEwq8ZOSB0GpqPS8IPle52dUdU3hjc4dpmMheHw9sFoYuOzYtRKW8zHB9iLX3dL+RPE8pMHcis0sh9l5eTFfEckTI0I4vDaiIrpZLrk/C2uLk4ovligRZCfYCD5riu4OWgvUlV3Zw9KPTdXyT7dfbW77VFi3l+x/M0dES2w92X/Y37+ar8q5D95rXZp4WplDQ2TV5MxcRzUWE4w0OtZU/9noSpUhsNipt6X1DnDJlMug0bm79VsI6MlIyI54mEowcFrx1lhuk+CW8rWitiuvE7HLQQSnKUUnQ43RFDY9usVdlcWOd/z4U36yvW98jIYAUzF3kztDhaeHH3i7bM5eHVPa+aSrc/r8ye0g2uzNH8vxFLuGzvQk4quJbjOv9O3qQrLc1hZi3v7ns33CUmPP40oeMIXHnWCsPb6jh7WK4tc4XLaU7z5vRATPOp+tutuiltjsxcGW20EEpy2pxtBy+mY1usOSHnHdjEyBAbV7tcXawtXxvW2sId549Xd796UNhGSpujjeX5ocO/Dxs8geymyJOWto0+hitdv+KfpYc0z3pHGhfvu4TmMfNMz5PdVMFhISqt/jvv30mRL8wqjZ2NfusIHddon8/jqrr4+f6mDJ7Id3aEjtQMRVZHI+Mzs3u0BQroSBS0EEpyPFqKIGQ3mis97CFVdXOOiY2r4Zjkurq7IoqM86W+s55l+ctsmeudfe/Q7Agddj0vY1RE51EImyYt5vjyn7KxsXf4fHt3KlfU3kT3kPF+Roe3psq2yoj8eImKv6CEtJQ0jrHBH+RhfuF6jhsWn3Dte9qxxawIvQvcBQroSBRiKoRE5J8iUiUi273aRorIShHJM55HeB27T0TyRWSPiCz0aj9eRLYZxx4XETHaB4jIq0b7VyIyJZafLx54/EEjBwwP60d8Xn3oO8lPSz+1XOhuY9XGgBsLw+WFXS+E3Fhqhpd3v2yq30mt4fuDnFk5PDr611yWt5D27sBmlr2tmfwy/aem5z2tObTJ9fW9r5ueL1nwdzd/1JDJZHbZmzz0lobY7wk7ffhMTiuwz2ownZ7ZtLUm1JNngfN92u4FVimlpgOrjPeIyFHAImCWMeavIgeL4TwJ3AhMNx6eOa8H6pVS04A/AL+J2idJEA6GZ4dZtnhe4caQUXI17TVsr7G2GXBtmX3/VB4ONB3go6LI9i6tPLDSVMLPzLRMTt9vPYmrkhS2TfouJzYu4e8lofdiAbxUPt60We6UA18zIDW4H+SLsi8obUlsP4BV/PqDUqyVwDbD/ML1nBhD39CgtEH8rNha7aBQ+Ba400LIC6XUJ4BvHolLgOeM188Bl3q1v6KU6lRK7QfygRNEZDwwVCm1Vrlvz5/3GeOZ6w3gbI+W1FfxRJ+NTR0U1nizUXJWN65GQwgB/GvHv8Ieu616Gz//7Oem+p6RdQSDuqxpQip9MI+NXsK38r5JbVfgCrf+WJq6MHQnILOrjZOyDg/ax6VcvLn3TUvnT3RKmntvKD0uRHbxcLmlNrobPAekDuDa4bN5Ro3ls337mFxjb96/6fU9zfL+ogoTiUTwCY1VSpUDGM+e7c8TAe9vr8Rom2i89m3vMUYp5QQaAb9GdBG5UUQ2iMiG6ur4b0YMF485brSJiqmBOM/ExtVlBctMO7zrO+pDFokLly3VW3hq61OWxxU3F3PL6lv8lmX2xzcbrV3g1IBh3DfkEZ4sPszy2gAeLZ6BK9NcHZkzTaT6/3fev+kKMwdZIuLr1xCE42z0B3kzt3gTpw2fGZW5jxiSw0vNqdy16V1OKFwfdp64YEytLuhR4K6spSzs1FmxIBGEUCD8aTAqSHuwMb0blXpKKTVPKTUvOzvbX5ekwCOEsiNwlcw3sXG1qq3KtMP7q/KvTIU/h8ufN/2ZDwo/MN2/q7uLm1fdbDqZ4/CMYZxiwRSnMoZw24BHeKXcfICBL63OVLaP/qapvt84sBXx+1M/RG1HLb/b8Luw15No+JqUjhiSw7C26BVse2D/DoZlBE8aa5WzRxzFy3s2k1sZnRs0D74F7pzKGXHmk2iSCEKo0jCxYTx7POUlgLedKAcoM9pz/LT3GCMiacAwepv/+hQen9BoR/h3VKmqm7NMmOTMOrztDM32h0Lxi89+wbbqbab6P7/zeUulDs4dbG0D5Iox1/F2VeQ3Mr+rPRkVQrgAjG6pYvbQ4CY5cAdg2JGENt60Olp73UAclx4620ckjGso4RGXfdkyDhs8gV/t+Mz2QIpA5PoUuEtkv1AiCKHlwGLj9WJgmVf7IiPibSruAIR1hsmuWUROMvw91/iM8cx1JbBaWQ3rSjIOCiEL2RL8YSaX3BdlX4S8o+p2dfN56ecRrcUMHd0d3LzqZgoaCoL2q26r5h9b/2Fp7gtrzO8N6hh1FLfsO9HS/IH4pG44jeNOMtX3TBNl2gEe+OKBoCWxPTR2NvK3LX+z/F3FAn8hxnPbI/u9m+GsvE+5evjsiOdJT0nnsbpmBnW22LAqc+T6FLhL5DDtWIdovwysBY4UkRIRuR54FDhXRPKAc433KKV2AK8BO4H3gZuVOlhA/ibgadzBCgXAe0b7M8AoEckH7sKItOvLHDTHtVvLluCLGZOcS7l4Y+8bQfusPLCSyrbQmRjsoL6znh+u+GHQf7A/bfxTj8qzoRiXmc3xReb2NymER1zX43DZF/vyppxrqt9Z5Xmm+jV2NnLHR3cETGSZV5/H/3z5P5z7xrn8ZfNfeGLTEzEtrW4Gf3fxx1bGpqT5T7d+SO4Qc1GOgbh90HSOKovMf6VS0nhq3ENsnPQDXJmh96/ltvQ0VSZyDrm00F3sQyl1dYBDZwfovwRY4qd9A3C0n/YO4KpI1phseKLjRrdEZnX0mOTe6AzukF+av5Qfz/1xD8enN//c/s+I1mGV6vZqblhxAz874We0O9tp7mpmxIARTBs+jRZHi+XCeN/KGGeqMCDA/pxLeSk/fD+QP35flMu1Q0eS0h7873l4VR5Tjj6ZwtbQodg7andw1dtX8atTf8WCiQto7GxkVdEqluUv65XlXKG4/7P7efWiV8nJCr2RORb4XkCzB44kZ3/warh2kdHdya+q67h6cHpYOdhOHz6TazaZ918G4uOJN/KrvFwgl8FpZ/Px5GcYXbYmYP/cmkIYdSgXXiLnFIypENLYz0FzXHPk6UsW1lcRXM9xX/T/tuVv3HLsLb2OfV76ObvqQtfeGZYxlFHpWQxJHcDWpsiyBgOUt5Zzx0d3RDyPIFxWbO6OVaWkc3vlhRGf05fW7hR2jT6fWcUvhex7ftpI/oa5/UB1HXXc9OFNHJN9DNtrtuNUgaOlmrqauGvNXfzxzD8yYUjkSTUjxVfTnZs5HoiNEAI4smInNx1zAY83WdNmxmaOZsme9aZvagJRP24B1+YvOPi+1ZnKj2qv5vW0r5AA0Z5jmioYMX429V2NQGJrQongE9JEQJuzjWEZQ20J9ZxvYuMqwN+3/p238t7q1f7M9mdCjj19+Ew+27OdZdvX8uKWNTzFOCYOGhvWeu3muGHTmFRbaKpvyYSFbGsOvwpmMJ5oONlUvwvKrG1yVCg2V28OKoA87KrbxTff+iYPfP6A3z06scQ33P8YR+zdvNdtXcExQ48w3T9N0nisxZ0YNRJcA0fwXzXXolRPk++Gxiw+H39N0LHTMw/9X5W2lCZsTkEthJKcog5gaQAAHk1JREFUdmc72QGyJXQPHkfnCPO7v81uXAV4ZO0jfFH6xcH3W6u3sr4ieFhzZlomvyjsWSH05P3r+HfeTi4eEbkDOFIus1BJ/LEmc76bcHi/ehSt2XND9ju8Ki9if0UwnC4nb+W/xVVvX8XXlV9H7TzBaO5qZk/9nh5tx9Zby5FoB6mqm0eLCxg9wNxertuGHMlxJn2Lwfg6+zJ2tfjfiP7f+0/FMSxwlGSuHMqs4XA5KG+N/fdmBi2EkpxWRyuj03r/SFVqBvdn3MNJNb8gf9IVpudbaCKXHLj3Htz20W18661vcdmyy7j9o9tDjrll4FTG1/c2CwzqamXJxne51oZIpHAZnDaI80zm72oce5ItIdnB+CDDnJC7ICX6xdhaHC3c9OFNMYl69GVT1aYe+QIHpg5gZlnwUufRIqeuiL/XdzA0I/B3npaSxoODjuTare8F7GMWJaksqQwcLdnqTOXPA64LeDy3s+ddVaKGaWshlOS0OdoYLb1TxPx73B28Wj6Oekca5+RdwWsTf2ZqPncuOXP7Izq7OylsKiS/IZ+a9pqgfWcNncp3t68M2ueuTe/y06xZps5tN+dnHWF6D8e/1EVRXg08WnI0Kj20ue98kz6sSGl3tnPr6lujlo4pEBsqNvR4f9SQSbZlmw6H3Mrd/LUtjUw/RQlHDhjOU92juHJH8N+5WarGn8nmpuD58R4vnopjqP8sHbkNPUPz8+tjE1FoFS2Ekpw2ZxvZPvbigklX8JOCnuacewqO4UDOxSHnS1Xd/DB9nK1rBPhZXROpKrRNevHW97hm+Bzbzx+Ky6vM+T26hk/jT8VTo7waqOpMZ9e40H+vnLoiUxtX7cDhcnDfp/eFvOGwkw2VPYXQsWK9Iq3dHFO8hffK6/gHY7l/8AweGpTLm22DWL1nB/MLrSe9DcQ/u84J2Ucp4cthF/g9dkR1Aale6by21my1bW12ooVQktPqaGWUs+fF/Y+Np/vtu6jkcrpNRDtdvf1DZmZNsWN5gNvhf2zxJtP979zyPnMtOIEjZeGIWcwp2RKyn0L4TeoPezmJo8Uvqs5EBQiF9+Z818AYrMZNbUct9396v+XSHuHQ5mhjV23PaMu5zeZy+qn0QagUa0lkrTCqpZqT9q/n6u0ruGLHh+RW7jZ1k2WWruFH8FSpOf/sYxXHo/zkjhzoaGeSV9DPlurQv/F4oIVQktPubCfbccj2q9IH837NaL99yzsyeGzgbSFTw6Sqbh6orSdF7Pl5XN9sbXd7msvJbw/sZUSY5SmsMCxjKPft3RC6I7Bz0iKeMXlhsIONjUMomhA6DPzyvC8Ylxm7/Idry9eaioSMlM1VvSP55paF3gLQOfJILlCPc3j7s5zGP/lx1uP834Sfs3nSNaZuwhKBVUO+ZfpmZ1vzYOrGner3WG7GIdN6RWtFwE3L8UQLoSTGpVw0dTWR3XEoHUjTyNlBd/D/vWQyeyZ9O+TcR5du46rhkftncodM5vQwCnaNayjlfzsHkpka3bv8u1PGMqoldMqiruFH8F+F/s0e0eSR+vNC3jQM6Wjiwc6MoH3s5i+b/mI6d1+4+JricodMDhny3DZ6DufW/4zdLYNQSijuGMh/qkfzi32zuDTvfObUP8abE+/GOTR2NxNWcQ0cwYPFx1oa87rrTL/tud09fzuJqA1pIZTEVLVV4XQ5GdV66B8zP2NGyHHfPXAhjmGh/Rq37/yMUSaDFAJxvSN8k8j8wvU82ZXFYD/Rf3ZwyvAjuWTXqpD9lKRwP7fQ6Ij93u5VtSOpmuA3oUgPTi1Yy6UxDHN3Kif3fnrvwc3S0cA3LHxBWnDNuH3ULM6qvoui9sA3Lq3dKfyk4FjOaHrEVBh8PFib/W2qOq393/yp5Ahcg3pbQGb61FzaWp14fiEthJIYT/XM7OZDjuIvOkP7Umq70nko5WZUCHNbVkcjd4p/054ZcgaNY+GeT8IeD3B80dc83ZYeNCw2HMZnZrMkz9xdYfHEb/JGRfw21D7Waq7Ewz07P2PMwPD/XlYpai7i1+t+HZW5O5wdbKvpqWmdGmT7gBowjB+03kqFSY2wpGMAZ1bdSdPYEyJap92oAUP5abG5zcretHenssVPKZDjSrf3SLGlNSGNrZS2lDIwdQBZHY0H25bWmLN5v1g+ga053w3Z7+Jdq8MOEvhx92BbnLVHl25zh8XaZJoblDaIJ+raGN0S2j6uUtK5u8acEIgWb1aOpWLieSH7ZXU08ttWAub1iwZL85daqu1klq3VW3vkahuUNohji/yn6lEIfx7+U75qsFb/p6ozndPKbqFpzPyI1mon68Z8m/KO8Eyr/69yQa9AliEdTczNOmT12FW7K6wceNFEC6EkprSllFFeaXYcw6ZQ0GY+hPW/9p9H09jgZQgExc+rKnuEepphRtZhXLR7jaUxwTimeAu/U6NJk8gusCmSwq/J5siK0A5ugL0TL7N8cYsG99RfaipS7riijdyXOS0GKzrEg188aKlekxmWFSzr8f6EIYcF3B+0adJi/vdAeDdKjY40Lq6+CcewKWGNtxOVMYSfFC8I3TEAGxuHUDa+9ybnBa5DQq2ju4O9ddbSPUUbLYSSmLKWMrLTDm1mK8+y5hNodaZyXsVNtI0OPm5G+U4WDbMWpHBHiyPixI2+nF7wBQ8PmBq2IJo+ZDJ/V2M4K+9TU/1VWiZ3lIfWQGLBJ3XD2TvxMlN9v719BVfG0D/U6mjljo/usM0/VNtey/v73+/RdmqAfHFdww/n+/tC76cJRmH7QH7ouBs1IPrRmMH4aOwPKOkYELpjEP7Y2lsInVbVM4P25urYJX81gxZCSUxpSymjUw/9aLdgPk+ch4rODC6qu5Ou4cHvnu/aupI5JjdFnjg8lwX7vrS8FjNcvGsVr7WmM3/YdNNjMlMH8ovBM3h9+1pO2r/O9LhN478TMG9XPLi9fKGpLAoA929ewVUxFET7Gvfxi89/Yctcr+99nS5Xz4S8C8r8l8R+PP0GWrsjv4ytqRvBkqz7URnRSUobii2Tv891eadEPM/rFeNoyT6uR9uRFTvJHngo512iBSdoIZTElLWUMdqrGsfKpvDCTve1DeQW5x1+N7x5yOju5A+Fe0ImcExLSePOSvOVScNheuUe/rl5Ff+bMYUpg4P7wEYOGMEzHQP5zvYVlvxTrdlz+f7+0FFpsWR3yyBWjQucK8ybdJeDBza+y5MpExkzMHQRtHGZ2Vww4mgWjgg/LH/lgZU8uu7RiDayOlwOXtvzWo+2wwaPJ6eud96zqgln8+fiKWGfy5enSybx3xm/CZgGJ1rsmfQdLtlrX/j/y6nf6tW2IHPiwdeJFpyg6wklKU6Xk4rWCkZnuUOoVfogPgiwSdUMK2pGUjD9UqYVvxmwz5jGcv4wdCzXZfgv8JUiKfw6bTKzytaEvQ4rnLfnE86WVJbNPIP/ZAhpkkKGpNChuql1tpORkspvi/f7vYAFwzUom0UNN9PqtOYHiwU35J3MR9OKmVqy1FT/UwvWsnxAFh8ccSLLMlxsbtrH+MxspmWMJFelMau1kVnV+xm3/1A49CVHnMwjA7qoaA+9f8qXF3e9SHNXM4+c8gipKda/vxWFK6j2Oe+C9N6/a5U2kFvr7K9fuaJmJOdmPsjScU8zvOKL0AMsogZksWvMRSxrP4Y2VyodrlTeyLc38vKxolyuHTWRtOZDtaYWtLTg+cWUtpRS217LKBMVWmOBFkJJSmVbJd2qm2yH22zRPHI2nc2RKbY/LruQDzLeR7paA/aZW7yZN8ZM57GJM/i8oaeJ5JeZ0znfpuSNZklV3Vy+cxWX2zSfSknnwYH3sK0uPmYZM1y4/wq+zKlgWKU5k+fgzmYu3/khlwOOlHTSXYVB+59WsJalA7L4ZOrxbBg0mC87ayhqM18GYHnBclodrfz6tF/7TfQZjJd29S7md46f0OxN4xfxVV50AkYK2wdy/IEf8+y0OZxa+jTiCl1/KRTdg8fywYj/4sGiuVTnRS+dEIDDJawb/k1OaX7qYNvJxVtIHT+CbsMasLV6K2dO9r/BNdZoc1ySUtZSBsDoTrczeE9G5NkN9rZm8tnY74fsd3hVHn/btIK/yQRuH3o0tww9mt9mHG5b9uB48uq4n/JC2cTQHeNIe3cq36z877DMRmYzUA/ubOaC3Wv45cZ3eWfHOv6cOslSqP6qolV89z/ftVRW+i+b/397Zx4fVXnu8e8zyZCQACECgQBBiCJFlovKolSLG7a4VK/6QdAqtlqvxbVugF5bsVpFrveKHxfccOlta3Hf6sIVsQi4AAKCgJMFSAIhECD7Pu/945zIZDIkk8yZOQk838/nfM7Me97znt+cPJlnzrs8z5PNgmyO7nFMs6CgxpvEnQWnhd1ue2gwHq70/Yw5KfOo6tX+/y2TkMKSgTdxYul8ZmaNY09tdB1QIw8VjmvSvZ5SdYDRPQ5O1e5IXXL6JNRJacx22bvSWhG9tNqZabkzcyeyttdHeEu2tVr3pzlf0tYJpb6MS3m69FT6eStJ91Yw0ptPZs0WeuzbiNQd+gksFizLmMlsn/vJ9cIhvzqBP6bezINyF+Jg4MxQCIZJWSuYBCwdehr3x5VSXLO/1fN8+31Mf386cybMYcqQKS2uX3pp40ssXL+wWfl/lFc3K9uYfjHZP8Qmmvaru9J5lXuY0b+AGxI/Im1n6xE2GinpezIz9v+GdVktp2OIBt+VJbMn8/Qmes+vi6MxjHBHiqgtsYiG29EZO3asWb06vCCWHYUn1z3JwvULWVpcS++yPUzwL2pzqI9DkZlUzRtpL5Ba6FwSMxOfyOK0W5mVEzpNQ4q3npsGZHO+ZyV9C5chMV5Qtynjcs7zRT9PkNMsHvop4/OiH0w0kP3JvfjTsPEs2R9+LqO+SX25bNhlXHDMBfRLPpgqpLKuksVbF/PomkebnTOixxBeXf95kzITn8gUnmCLS7MW7xm8lWsOLMBTHTqat/F4qew1guUJk7ghexwNxr3OppsH5XBb0cEZi9XerkzOPJYDtSUkxSexcvrKdo3bBSIia4wxYyNqQ51Q53RCdy+/my/y/8XnWzdS1Xskx+fPcbT9OPHz92M/Y1zeoojX+/gTU7kr8Q9hh74Z3q2S+9K/YlzxW3gqo5u7xni8LB1wPddmnRyzFA1OkuDx823/+STtjX33ynvDz+TPDbsob+MT7DEpxzAhfQLby7azunA1NQ2h86oviB/Emb4vmpRtzpjGFF/reZaiyZge5czv+wnVJLCHnhQ19GB3fTJ5tcksKe7lSozBUMSJn629ZxNfdjBX1uNjzuO5Eisc0usXvM6wo4ZFdA0nnFDHuFtKmykoL2Bs8kCE78ju6nwSuAbjYarvLG4/ejA3HpiP1JS2r53kNH4nf+CTwpandgeyuTyJy3xnkBz/M+4d9D0XVb9N4r7wIhy0hbqUwczmFt7wuRcXLlJq/B4uL72BZ/v/o01dRU5wwealnJQ6iLuPHsqaEl/Y52WXZJNdkt1ineHdj+aMDU0XFZu4BObsPrNdWp1kXWk3Jpc6NRUmejQYD1/1PI+flj3zY9m03LW82Lsr9f561u9ZH7ETcgKdmNBJ2Vmxk3G11ljA8tq2L1INl0e3H8OVcfOoSW27sdb3GMRV/rl8sjd8BxRIRX0cs3NG8ZOd9/JQ74cp6Xtyu9oJpixtLC+l38uYvQ/wxu7O64AaWVfajfE513DvUfNjHhm6//4dvLhuKfcmDaO715mxj55dUpi/M79ZAosv+v+61XTXSlPuyjsZf9LBXFNpJbv4RYoVab+jTE5QJ9QJqfPXUVRZxPiibRiE1/dENzfKF/tSGL/3HrZkXBb2OYX9JzOpdC4r9jsTCuWZ/EH82/abmZX632wb+Ms2r2yv7z6AtYOu5prkJxi14zbuyx3uyEr7jsRfdg5gdP4dvD3wDvyJPVs/wSEEw9RNS3incB8Xp47CG0FG0y6eLiyo8nL03qax6Kp6jeDa7NCJ25RDU1CdwMsp1zcpu7LQmrHYUSIn6JgQnW9MKK80jyv/eQXLtqynNnUox+2aG7Nr35CxjZsaXiFh39aQY0X+pD58dNSvmJkV3cjEqd56bhroY2x8Lhl1uXSv2EZcVTFSf3A2lfF4KUw/g1dqT+fZ/EGuDhLHmqHJVczpv5YxdetJLV6LtBLXzXiT2Nd7HPvi0xhyYFWTcYS2sjulP69knsjblbmU1paFfV6cxPHnLoM5d8tnTbV54rm526O8VxS77LGHG2uGLKTXroNpVWaMOZNvS7JZPm05KRHEzNOJCQ7R2ZzQqp2reHP1Auav/RBfxqVM9sW+f3pochWX9dnBEO8+elCBCLxTPpy/7Up39cu+V5c6kjwNGISKhjj2d5BBYjfxegw/Sa5gWFI5fbtUs78+gb11CdQb6BZXT7zAx8W9mkSImNJnL6d130VG3H76UUyv+kK6VebjLcsLe/FmTXwiS449hfe7etlQkU9ZXXnIeoJwdurx3JjvI7Moq9nxNRm/5hJf88CcSviMTSnjNf/vf/wx8unQ07i1fjtPnfUUpw1s/5ornZhwhLKzfCfjaqwvgi/r3RlY9FV05YEK9wc1gymu9VJMbBYEdhbq/MJ3Zd34riz88ZQP9/Tmwz0hMnV2q2TugFWM3fsOnqqWZy4m1Fdz/pbPOB8r509u2jH8kDqQHYlJFMQJKQaOrqlhdHEeQ3M/DNnGVxnXMi2rY6zs78ysLunOy0NuZ0bhg4jxc0bWCgYcfxIb9m6IyAk5gTqhTkhBeQEXFOVgEN4ojm2wReXIZnN5ElN9Z5EcfzrT+u7krKRsjq/bSMretU26QoMRDJlFWSGfdEJh4hN5qc+dzPUNd0r6Ec99ucPxZs7m8l0P4zF+rvD04ruS8CNaRAt1Qp2Men893+/+lpv3ZLM1YyrrfDpbSIk9FfVxvFCQwQtkAKeT4q3n8n75nNN1K8dVriNp36Z2xVwzXZLZ1PdC7iuaxOpcZ1O6K3BPzkgkcxbTd83j339YQXZabBMghkKdUCfj5U0vk1JXTUO3dGbsONdtOYoCWBlKn84bzNMMBn5Ony51nJq6n9FdiznOW0SmP5fe5T8QX1EICHg8+Lv0oK5LTyoS+rDdm8m3tYNYVDiEAl9kid2Ulrk7ZxSSOYtpu+ZxcQcYM3VfQRQQkV8AC4A44HljzMMuS3KEvLI8Fm1cxCN13Xg6+XcU7m1fLnpFiTZ7ar28tTuNt0gDhgOT3JakBDAnZxSezLuYuq/lRcOx4LBzQiISBzwJTAbygW9E5F1jzPfuKouc59cs4Jly4Sh6csV29x+jFUXpvMzKGU1533Fc47KOw84JAeOBLGNMDoCIvApcCETNCRljrGyS9nR3E7B+RhAQwePx4Pf7Mcb/476xnh8wRjD4wTTg99dTXl1CWVUpFdXlVNVVUVJ9gLNK+vFR4m18fiCNkQN0ar2iKJFRnOD+2qvD0QkNAPIC3ucDE4Irich1wHX223IR2dqOa/UGohthM3w6ipaOogNUSyhUR3OOWC0fALMi0xHx9NzD0QmFCoXc7LHBGPMs8GyIuuFfSGR1pAu1nKKjaOkoOkC1qI7wUC3u6jgc45jkA4HB1AYCO13SoiiKorTA4eiEvgGGisgQEekCTAPedVmToiiKEoLDrjvOGFMvIjcCH2NN0V5kjAk/BWTbiKg7z2E6ipaOogNUSyhUR3NUS3NipkMDmCqKoiiucTh2xymKoiidBHVCiqIoins0LrQ8EjasWXOfAZuBTcAtdvlRwBLAZ+9T7fLJwBrgO3t/ZkBbJ9nlWcDj2F2bIa7ZrJ6tYy1QhTV9fJEbOoLuSb6t5b9c1PIcUAZUAzVAZQy0PIi1rqw8yE6WAaW2jm3A4HbqaNa+S3bSbh1RsJNItThpJ+FqiZqdAElYS3a2YH0vPeyGnUSqI+j4pbaWsa1+L7fny7yzbkA6cKL9ujvwA3A88Agw2y6fDcyzX58A9LdfjwQKAtr6GjjFNoIPgSmHuGazeraO84DRwN+wppDHXEfAPTkV+JddZ7vLWhr/PncAJTHQcrJ93cAvl3TgIWChbSe77Dbao6NZ+y7ZSbt1RMFOnNDilJ2EqyVqdoL15X+G/boLsBwXvk8i1RFwrLttJ1+iTqhVp/QO1q+CrUB6gGFtDVFXgGIgwa6zJeDYdOCZEOe0Wg94yf6DuqYDeAw4H+tX3edu3xO7fKW9RU1L0PnlQe8/Bk6xX7+L9UXXJh0ttR9LO3FKhxN24uQ9idROwtUSSzuxjy0AfuumnUSiI8hOWnVCR+yYkIgMxvpF8BXQ1xizC8Dep4U45RLgW2NMDVZooPyAY/l2WTDh1OsGDHFLh4icAGQYY94HEoFhbmlpRESOBo7FWmgcTS0tMQDIs+1kDNY/ar826mjLtaJpJxHrcNBOItbSiAN24gSO2omI9AQuAD49xLViYift1RFkJ2Fx2K0TCgcR6Qa8AdxqjCkVCRXpp0n9EcA84JzGohDVTKhTW6pn6zgdeNENHSLiAf4HuNrWMgK43817YnOVvY/236fFZrG6J/4O3ArMb/WE5jracq1gnLSTiHQ4bCcRaQl6H6mdOIFjdiIi8XY7jxs7AHOIawXjuJ20V0egnbR44SCOuCchEfFiOaC/GmPetIt3i0i6fTwdKAqoPxB4C7jKGNOYfCMf69dXIwOBnSISJyLr7O3+Q9UL0pGD9avFDR3dsfqElwF7sH7h/l5ExrpxTwLuy53AqzH4+7REAfAK8FesbpYUoLCNOkLigp1EqsNJO4n4ngTcl0jtJFwtLeGknTwL+Iwxj7X1njhsJ+3V8aOdiMg2rHG0d207OTTh9IMeLhuWB38FeCyofD5NB/AesV/3BNYDl4Ro6xv7JjcOzJ17iGs2qxeoA6sP91I3dATfEwL6cF3U8jbWbCMJqB81LQH1AwecBesfeYP9fhqwuD06QrXvhp1EosNpO3FIiyN2Eq6WaNsJ8ACWE/G4aSeR6AhR50c7abGtcG784bJhze4xwAZgnb2dC/TC6vv02fuj7Pr/CVQE1F0HpNnHxgIbgWzgicB/hqBrNqsXoKMWaADqsWYbxVRHiHtSjjWYGfN7EqSlKIZ/n0ewftn57f19AToOYE29rQB+004dzdp3yU7arSMKduKUFifsJFwtUbMTrCcJg7V0pLH82ljbSaQ6QtRZRhhOSMP2KIqiKK5xxI0JKYqiKB0HdUKKoiiKa6gTUhRFUVxDnZCiKIriGuqEFEVRFNdQJ6QoDiIi14iIsRcDBpbPs8t/FVQ+2S6f6KCG0+02RzrVpqJEC3VCiuIsK+19sFOZCFQeorwGK6S+ohxxqBNSFGfZAuwjwNnYIVVOwlrVHsoJrTbOBdRUlE6FOiFFcRBjrf5eRVNncwLWyvangFEi0h3ADvg4gYNPT4jIhSKyWkSqRaRQRB6xnRgBdUaKyAciUmZvr4lIv5Z0icg0EakVkeud+aSK4gzqhBTFeVYCY0Skq/3+FKzuto1YIV4m2OUjsAJergAQkanAm1j5YH4JzAWuw0qchl3nWLt+InAlVsTiEcB7coiwySJyNdZT2HXGmIUOfUZFcYQjMpWDokSZlYAXGIeVYXIisMoYY0TkS/v9/3HwaWml7UDmA68YY2Y2NiQiNcCTIvKQMaYY+CNQiJXJstauswGrG/BcrPTMBJx/PVZysquMMa9G6wMrSnvRJyFFcZ6vsYJINjqZiVhddGClPA4s9xlj9gDHAYOAxSIS37gBS7Geehpnup2NFYLfH1AnF9iGFVQykJuxIitPUwekdFTUCSmKwxhjKrEiEE+0p2oP5KATWgWcbI8HTcTuigN62/t/AnUBW65dnhFQb1ZQnTogM6BOI5cAWVhPXYrSIdHuOEWJDiuBy7EczTZjp1nGyj/THZiElZp6nl2+z95fB3wbor3cgHpvAc+HqLM36P0VwNNY40VTjDFV7fgcihJV1AkpSnRYgdUdNoODT0EYY8pEZBNwh13UODNuK1aWzsHGmOdaaPdTrK65Nab1PCz5wFnAcuB1EbnIGFPX5k+iKFFEnZCiRIfGbrYpwC1Bx1YBvwX2YyUQwxjjF5Hbgb+ISA+sbJW1WN1sF2Fly6zESqb2NfCBiCzCevoZAEwGXjLGLAu8kDEmR0TOxpog8b8iMt0Y43f4sypKu9ExIUWJAsaYAmAH1vqgVUGHVzWWBz7NGGP+AVwIjAFew5quPRNYi+WQMMb8gJVWuRJ4FstZzcWKupB1CC2bgXOAnwPPHWoqt6K4gWZWVRRFUVxDn4QURVEU11AnpCiKoriGOiFFURTFNdQJKYqiKK6hTkhRFEVxDXVCiqIoimuoE1IURVFcQ52QoiiK4hr/D4urO+tqzcx2AAAAAElFTkSuQmCC\n",
      "text/plain": [
       "<Figure size 432x288 with 1 Axes>"
      ]
     },
     "metadata": {
      "needs_background": "light"
     },
     "output_type": "display_data"
    }
   ],
   "source": [
    "import matplotlib.pyplot as plt\n",
    "y=[list(covidDeathsFemale.values()), list(covidDeathsMale.values()), list(covidDeathsAll.values())]\n",
    "plt.stackplot(weeksDatetime,y, labels=['Female','Male','All'])\n",
    "plt.legend(loc='upper left')\n",
    "plt.title(\"COVID Deaths\", fontsize = 20) \n",
    "plt.xlabel(\"Week\", fontsize = 15)\n",
    "plt.ylabel(\"Deaths\", fontsize = 15)\n",
    "#plt.figure(figsize=(4,1))\n",
    "plt.rcParams['figure.figsize'] = [12,9]\n",
    "plt.show()"
   ]
  },
  {
   "cell_type": "markdown",
   "metadata": {},
   "source": [
    "Once we start using `pandas`, we can do everything above in a much shorter code block!"
   ]
  },
  {
   "cell_type": "code",
   "execution_count": 73,
   "metadata": {},
   "outputs": [
    {
     "data": {
      "text/plain": [
       "<matplotlib.axes._subplots.AxesSubplot at 0x7f8ca992d710>"
      ]
     },
     "execution_count": 73,
     "metadata": {},
     "output_type": "execute_result"
    },
    {
     "data": {
      "image/png": "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