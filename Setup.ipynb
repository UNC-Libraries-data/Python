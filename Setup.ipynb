{
 "cells": [
  {
   "cell_type": "markdown",
   "metadata": {},
   "source": [
    "<center> <h1>Setup</h1> </center>\n",
    "\n",
    "\n",
    "### Why not work with an existing installation?\n",
    "\n",
    "If you use macOS or Linux, then you most likely already have Python on your computer!  Python does not come with Windows, but it may be on your machine as part of other software (e.g. ArcGIS Desktop).\n",
    "\n",
    "However, unless you've worked with Python already, your pre-existing installation may only include the bare minimum and may be an out of date version.  Therefore, we recommend installing a distribution, with Python and many useful add-ons already setup, for all operating systems.\n",
    "\n",
    "## Anaconda or Miniconda\n",
    "\n",
    "We'll install Anaconda **or** Miniconda depending on the space available on your computer.\n",
    "\n",
    "### Anaconda\n",
    "\n",
    "Anaconda packages the current version of Python 2 or 3 with over 150 packages included in the installation and supports hundreds of others.  This includes many of the most heavily used packages supporting data transformation and analysis, and software to manage and add new packages, create virtual environments, and more. [Read more here](https://docs.anaconda.com/anaconda/packages/pkg-docs).\n",
    "\n",
    "&nbsp;&nbsp;&nbsp;&nbsp;&nbsp;**The full Anaconda download needs approximately 5GB of space on your computer to download and install.**\n",
    "\n",
    "&nbsp;&nbsp;&nbsp;&nbsp;&nbsp;**See [Anaconda installation below](#Anaconda-Installation).**\n",
    "    \n",
    "\n",
    "### Miniconda\n",
    "\n",
    "If you don't have enough space for Anaconda, you can download [Miniconda](https://docs.conda.io/en/latest/miniconda.html), which is less than **100 MB**.  Miniconda includes Python and the same package manager systems as Anaconda, but *does not come packaged with any additional packages*.  You'll need to install them one by one as needed.\n",
    "\n",
    "&nbsp;&nbsp;&nbsp;&nbsp;&nbsp;**See [Miniconda installation below](#Miniconda-Installation).**\n",
    "\n",
    "### Alternative: repl.it\n",
    "\n",
    "> If you would like to use Python for the duration of this workshop without downloading anything (or have problems downloading Anaconda), we recommend using [repl.it](https://repl.it/).  repl.it will let you write and evaluate basic Python code in your browser without installing any software.<br>\n",
    "&nbsp;&nbsp;&nbsp;&nbsp;&nbsp; To start your own instance click \"Start coding\", choose \"Python\" as the language, then click \"Create repl\".<br>\n",
    "If you would like to save your work and continue to use Python on your computer, we recommend downloading Anaconda.\n",
    "\n",
    "### Alternative: Open OnDemand (UNC Research Computing)\n",
    "\n",
    "> If you have access to UNC's [Longleaf cluster](https://help.rc.unc.edu/request-a-cluster-account/), you can use Python with the Spyder IDE or Jupyter Lab in a web browser on Research Computing's [Open OnDemand service](https://help.rc.unc.edu/ondemand/).  This service runs on the Longleaf cluster so it's a great option for complex or long-running Python scripts.\n",
    "\n",
    "\n",
    "##  Anaconda Installation\n",
    "\n",
    "[Download Anaconda](https://www.anaconda.com/download#downloads)\n",
    "\n",
    "**Select your operating system.  Mac Users pay special attention to whether you need the M1 version.**\n",
    "\n",
    "<table>\n",
    "<tr>\n",
    "<th> <h3>Mac Installation</h3> </th>\n",
    "<th> <h3>PC Installation</h3> </th>\n",
    "</tr>\n",
    "<tr><td>\n",
    "\n",
    "Leave the default settings and click through to install.\n",
    "    \n",
    "</td>\n",
    "<td>\n",
    "<strong>1. PATH</strong><br>\n",
    "\n",
    "&nbsp;&nbsp;&nbsp;Do not add Anaconda to your PATH variable. This may interfere with any existing Python-dependent software on your computer.<br>\n",
    "    \n",
    "&nbsp;&nbsp;&nbsp;<img src = \"Intro/images/Anaconda_install_settings.png\" alt=\"Anaconda_install_settings\" height = 388, width = 499/><br> \n",
    "  \n",
    "<strong>2. Registering Python</strong><br>\n",
    "    \n",
    "&nbsp;&nbsp;&nbsp;If you are installing Python for the first time, select \"Register Anaconda as the system Python\"<br>\n",
    "    \n",
    "&nbsp;&nbsp;&nbsp;If you have Python-dependent software (e.g. ArcGIS, CAD software, etc), do not check \"Register Anaconda as the system Python\" or it may cause issues.<br>\n",
    "\n",
    "<blockquote>If you're unsure, open your PC's Command Line (Start>Windows System>Command Prompt) or Mac's Terminal (Applications>Utilities>Terminal) and type `python` and press Enter.  If you already have Python you should see something like the image below - do not check Register Anaconda as the system Python.</blockquote>\n",
    "    \n",
    "&nbsp;&nbsp;&nbsp;<img src = \"Intro/images/Test_CMD.png\" alt=\"Command Prompt Python\" height = 87, width = 781/><br>  \n",
    "\n",
    " \n",
    "</td>\n",
    "</tr>\n",
    "</table>\n",
    "  \n",
    "\n",
    "\n",
    "## Miniconda Installation\n",
    "\n",
    "[Download and install miniconda](https://docs.conda.io/projects/miniconda/en/latest/)\n",
    "\n",
    "* (Mac Users, be careful of whether or not you need the M1 version).\n",
    "* Leave the default settings and click through to install, *regardless of your operating system*.\n",
    "\n",
    "You will need these additional packages on top of Miniconda:\n",
    "\n",
    "\n",
    "<table>\n",
    "<tr>\n",
    "<th> <h3>Mac Package Installation</h3> </th>\n",
    "<th> <h3>PC Package Installation</h3> </th>\n",
    "</tr>\n",
    "<tr><td>\n",
    "\n",
    "<strong>1. Open Finder > Applications > Utilities > Terminal. Run the following:</strong><br>\n",
    "<center><code>conda install -c conda-forge jupyterlab</code></center><br>\n",
    "&nbsp;&nbsp;&nbsp;When prompted, type `y` to Proceed.  This will install Jupyter Lab and all of its dependencies.<br>\n",
    "&nbsp;<br>\n",
    " \n",
    "<strong>2. In the same window, run the following to install conda's graphical interface, Anaconda Navigator.</strong><br>\n",
    "<center><code>conda install -c anaconda anaconda-navigator</code></center><br>\n",
    "&nbsp;&nbsp;&nbsp;When prompted type `y` to Proceed.  You can open the Anaconda Navigator from Finder (Mac) or the Start Menu (PC).\n",
    "    \n",
    "</td>\n",
    "<td>\n",
    "\n",
    "Follow the steps for full Anaconda installation <a href=\"#PC-Installation\">above</a> as appropriate.<br>\n",
    "  \n",
    "<strong>1. Open Start Menu > Anaconda3 > Anaconda Prompt. Run the following:</strong><br>\n",
    "<center><code>conda install -c conda-forge jupyterlab</code></center><br>\n",
    "&nbsp;&nbsp;&nbsp;When prompted, type `y` to Proceed.  This will install Jupyter Lab and all of its dependencies.<br>\n",
    "&nbsp;<br>\n",
    "\n",
    "<strong>2. In the same window, run the following to install conda's graphical interface, Anaconda Navigator.</strong><br>\n",
    "<center><code>conda install -c anaconda anaconda-navigator</code></center><br>\n",
    "&nbsp;&nbsp;&nbsp;When prompted type `y` to Proceed.  You can open the Anaconda Navigator from Finder (Mac) or the Start Menu (PC).\n",
    "    \n",
    "</td>\n",
    "</tr>\n",
    "</table>\n",
    "\n",
    "\n",
    "### More Help\n",
    "\n",
    "[Further documentation about the installation process is available from Anaconda.](https://docs.anaconda.com/free/anaconda/install/index.html)"
   ]
  },
  {
   "cell_type": "code",
   "execution_count": 4,
   "metadata": {
    "tags": [
     "hide-input"
    ]
   },
   "outputs": [
    {
     "data": {
      "text/html": [
       "<style type=\"text/css\"> \n",
       "table td, table th, table tr { border: 1px black solid !important; color: black !important; } \n",
       "table td, table tr {text-align:left !important; font-size:14px; vertical-align:top !important;}\n",
       "table th {text-align:center !important; font-size:15px; }\n",
       "</style> \n"
      ],
      "text/plain": [
       "<IPython.core.display.HTML object>"
      ]
     },
     "metadata": {},
     "output_type": "display_data"
    }
   ],
   "source": [
    "%%HTML\n",
    "<style type=\"text/css\"> \n",
    "table td, table th, table tr { border: 1px black solid !important; color: black !important; } \n",
    "table td, table tr {text-align:left !important; font-size:14px; vertical-align:top !important;}\n",
    "table th {text-align:center !important; font-size:15px; }\n",
    "</style> "
   ]
  },
  {
   "cell_type": "code",
   "execution_count": 5,
   "metadata": {
    "tags": [
     "hide-input"
    ]
   },
   "outputs": [],
   "source": [
    "# #convert with the following code in the anaconda prompt:\n",
    "# jupyter nbconvert Setup.ipynb --TagRemovePreprocessor.enabled=True  --TagRemovePreprocessor.remove_input_tags hide-input --to html"
   ]
  }
 ],
 "metadata": {
  "kernelspec": {
   "display_name": "Python 3 (ipykernel)",
   "language": "python",
   "name": "python3"
  },
  "language_info": {
   "codemirror_mode": {
    "name": "ipython",
    "version": 3
   },
   "file_extension": ".py",
   "mimetype": "text/x-python",
   "name": "python",
   "nbconvert_exporter": "python",
   "pygments_lexer": "ipython3",
   "version": "3.11.5"
  },
  "toc": {
   "base_numbering": 1,
   "nav_menu": {},
   "number_sections": false,
   "sideBar": true,
   "skip_h1_title": true,
   "title_cell": "Table of Contents",
   "title_sidebar": "Contents",
   "toc_cell": false,
   "toc_position": {},
   "toc_section_display": true,
   "toc_window_display": true
  }
 },
 "nbformat": 4,
 "nbformat_minor": 4
}
