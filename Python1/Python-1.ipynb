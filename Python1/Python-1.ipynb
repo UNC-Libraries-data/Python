{
 "cells": [
  {
   "cell_type": "markdown",
   "metadata": {},
   "source": [
    "# Python I\n",
    "\n",
    "[*Matt Jansen, Davis Library Research Hub*](https://guides.lib.unc.edu/mattjansen)\n",
    "\n",
    "October 23, 2018"
   ]
  },
  {
   "cell_type": "markdown",
   "metadata": {},
   "source": [
    "**<font color=red>Note:</font>** Please begin downloading the [Anaconda distribution of Python](https://www.anaconda.com/download/) as soon as you can.  It's a large download and can be somewhat slow with a large number of attendees downloading at the same time over wifi.  If needed, we also have a limited number of thumb drives with the Anaconda installers.  Please flag one of the staff if you need to copy the installer.\n",
    "\n",
    "** Goals:**\n",
    "\n",
    "* Get the Anaconda Distribution of Python 3.7 downloaded and installed on your computer\n",
    "* Learn the types of projects Python can help you with\n",
    "* Learn how to write and execute basic Python code with Spyder\n",
    "\n",
    "# 0. Installing Python\n",
    "\n",
    "If you use macOS or Linux, then you most likely already have Python on your computer!  Python does not come with Windows, but it may be on your machine if you have certain software installed.\n",
    "\n",
    "### Why not work with an existing installation?\n",
    "\n",
    "Unless you've worked with Python already, your pre-existing installation may only include the bare minimum and may be an out of date version.  Therefore, we recommend installing a distribution, with Python and many useful add-ons.\n",
    "\n",
    "## Anaconda distribution\n",
    "\n",
    "Anaconda packages the current version of Python 2 or 3 with over 150 packages included in the installation and hundreds of other supported.  This includes many of the most heavily used packages supporting data transformation and analysis, and software to manage and add new packages.\n",
    "\n",
    "[Read more here](https://docs.anaconda.com/anaconda/packages/pkg-docs)\n",
    "    \n",
    "[Download Anaconda Here](https://www.anaconda.com/download/)\n",
    "\n",
    "Download Python 3.7, 64-bit.\n",
    "\n",
    "![Download](https://github.com/UNC-Libraries-data/Python/raw/master/Python1/images/Conda_dl.png)\n",
    "\n",
    "####  PATH Variables and Default Installation\n",
    "\n",
    "In most cases, it is best to leave the default settings for installation. \n",
    "\n",
    "\n",
    "* If you are installing Python for the first time, select \"Register Anaconda as the system Python\"\n",
    "\n",
    "![Anaconda_install_settings.png](https://github.com/UNC-Libraries-data/Python/raw/master/Python1/images/Anaconda_install_settings.png)\n",
    "\n",
    "* If you have Python-dependent software (e.g. ArcGIS, CAD software, etc), do not check \"Register Anaconda as the system Python\" or it may cause issues with your other programs.\n",
    "    + If you're unsure, open your PC's Command Line (Start>Windows System>Command Prompt) or Mac's Terminal (Applications>Utilities>Terminal) and type `python` and press Enter.  If you already have Python you should see something like the image below - do not check Register Anaconda as the system Python.\n",
    "![Command Prompt Python](https://github.com/UNC-Libraries-data/Python/raw/master/Python1/images/Test_CMD.png)\n",
    "\n",
    "\n",
    "####  Python 2 vs Python 3\n",
    "\n",
    "Both Python 2 and Python 3 are widely used in research.  Unfortunately, while both Python 2 and 3 are very similar, they are not completely compatible.  Python 3 was released in 2008, and as of 2017 nearly all important tools had been re-written or updated for Python 3.  Python 2 will no longer be supported after 2020.  This workshop will focus on Python 3.\n",
    "\n",
    "### Anaconda Alternative - Pyfiddle\n",
    "\n",
    "If you have problems installing Anaconda, you can also follow along today with [pyfiddle.io](https://pyfiddle.io/).  Make sure you set Python version to 3.6 on the left side of the screen.\n",
    "\n",
    "## Integrated Development Environments (IDEs)\n",
    "\n",
    "While not required, an IDE can make Python easier to use.  As you gain experience, you can choose whether an IDE is right for your uses.  For the purposes of this workshop, we will use the Spyder IDE, which comes packaged with Anaconda.\n",
    "\n",
    "![SpyderIDE.png](https://github.com/UNC-Libraries-data/Python/raw/master/Python1/images/SpyderIDE.png)\n",
    "\n",
    "Spyder's default interface provides three panes:\n",
    "\n",
    "* The Editor pane (left) is a scripting window for writing Python code.\n",
    "* The Console pane (bottom right) contains a console for executing code.\n",
    "* The Explorer pane (top right) contains other helpful tools listing defined variables, files in the working directory, and other help.\n",
    "\n"
   ]
  },
  {
   "cell_type": "markdown",
   "metadata": {},
   "source": [
    "# 1. Entering code\n",
    "\n",
    "We'll begin by using Python as a simple calculator.  \n",
    "\n",
    "For the purposes of this workshop, Python code will be presented in numbered grey cells as below.  Any output generated will also be displayed."
   ]
  },
  {
   "cell_type": "code",
   "execution_count": 2,
   "metadata": {
    "scrolled": true
   },
   "outputs": [
    {
     "data": {
      "text/plain": [
       "4"
      ]
     },
     "execution_count": 2,
     "metadata": {},
     "output_type": "execute_result"
    }
   ],
   "source": [
    "2+2"
   ]
  },
  {
   "cell_type": "markdown",
   "metadata": {},
   "source": [
    "To execute this in Spyder, copy or type the code yourself into the Ipython console pane. Press `Enter` to execute.\n",
    "\n",
    "![2+2_console.png](https://github.com/UNC-Libraries-data/Python/raw/master/Python1/images/2+2_console.png)\n",
    "\n",
    "Alternatively, you can enter code into the Editor pane.  This is particularly useful when writing more complicated or reusable code.  The code you write in the Editor pane will be saved as a .py file to run or revise later. \n",
    "\n",
    "To use the Editor pane to save and execute code, type the code in the Editor pane, highlight the line(s) you want to execute and click:\n",
    "\n",
    "* Run > Run Selection or Current Line\n",
    "* **Shortcut:**  **F9** (or **FN+F9** on many laptops)\n",
    "\n",
    "The code will then execute in the Console pane.\n",
    "\n",
    "Standard arithmetic operations are available in Python."
   ]
  },
  {
   "cell_type": "code",
   "execution_count": 3,
   "metadata": {},
   "outputs": [
    {
     "data": {
      "text/plain": [
       "9"
      ]
     },
     "execution_count": 3,
     "metadata": {},
     "output_type": "execute_result"
    }
   ],
   "source": [
    "3*3"
   ]
  },
  {
   "cell_type": "markdown",
   "metadata": {},
   "source": [
    "**Note:** We can annotate our code with comments.  Python uses `#` to denote comments.  Anything typed after a `#` will be ignored on execution of the code."
   ]
  },
  {
   "cell_type": "code",
   "execution_count": 4,
   "metadata": {},
   "outputs": [
    {
     "data": {
      "text/plain": [
       "2.5"
      ]
     },
     "execution_count": 4,
     "metadata": {},
     "output_type": "execute_result"
    }
   ],
   "source": [
    "#1+2\n",
    "5/2 #division"
   ]
  },
  {
   "cell_type": "markdown",
   "metadata": {},
   "source": [
    "**Exercises**\n",
    "\n",
    "1. What is 126544 squared? (Note: exponentiation is denoted `**`)\n",
    "\n",
    "2. What is 5 divided by 0?\n",
    "\n",
    "3. Does Python follow the usual order of operations (PEMDAS)?"
   ]
  },
  {
   "cell_type": "markdown",
   "metadata": {
    "collapsed": true
   },
   "source": [
    "# 2. Variables\n",
    "\n",
    "Ultimately, we need Python to store various values and objects for future re-use. Python has many default data types available.  We will focus on a few common examples.\n",
    "\n",
    "## Strings and Numbers\n",
    "\n",
    "We assign a value to a variable using `=`.  We do not need to declare a type or give any other information."
   ]
  },
  {
   "cell_type": "code",
   "execution_count": 5,
   "metadata": {},
   "outputs": [],
   "source": [
    "text=\"Hello, World\"\n",
    "number=42"
   ]
  },
  {
   "cell_type": "markdown",
   "metadata": {
    "collapsed": true
   },
   "source": [
    "String objects, like `text` above, contain textual values.  These are identified to Python by quotes; you can use either ' or \" as long as you use the same type to begin and end your string.\n",
    "\n",
    "Python uses several different numeric data types for storing different values. Examples include integers, long integers, and floating point numbers (decimals).  Numbers can also be stored in string values using quotes.\n",
    "\n",
    "For example:"
   ]
  },
  {
   "cell_type": "code",
   "execution_count": 6,
   "metadata": {},
   "outputs": [],
   "source": [
    "notnumber=\"42\""
   ]
  },
  {
   "cell_type": "markdown",
   "metadata": {
    "collapsed": true
   },
   "source": [
    "Once we have defined an object, we can use it again, most simply by printing it."
   ]
  },
  {
   "cell_type": "code",
   "execution_count": 7,
   "metadata": {},
   "outputs": [
    {
     "name": "stdout",
     "output_type": "stream",
     "text": [
      "Hello, World\n"
     ]
    }
   ],
   "source": [
    "print(text)"
   ]
  },
  {
   "cell_type": "markdown",
   "metadata": {},
   "source": [
    "**Note:** The print command is one of the most basic differences between Python 2 and Python 3. In Python 2, print does not require parentheses:\n",
    "\n",
    "`print text`\n",
    "\n",
    "We can also modify the contents of objects in various ways such as redefining them or changing their type. In some cases this is crucial to how Python can work with them.  For example:"
   ]
  },
  {
   "cell_type": "code",
   "execution_count": 8,
   "metadata": {},
   "outputs": [
    {
     "name": "stdout",
     "output_type": "stream",
     "text": [
      "100\n"
     ]
    }
   ],
   "source": [
    "print(number+58)\n",
    "#print(number+notnumber)"
   ]
  },
  {
   "cell_type": "markdown",
   "metadata": {},
   "source": [
    "So we can add a value, 58, to our number object, but we can't add our notnumber object.  Let's double check what notnumber contains:"
   ]
  },
  {
   "cell_type": "code",
   "execution_count": 9,
   "metadata": {},
   "outputs": [
    {
     "name": "stdout",
     "output_type": "stream",
     "text": [
      "42\n"
     ]
    }
   ],
   "source": [
    "print(notnumber)"
   ]
  },
  {
   "cell_type": "code",
   "execution_count": 10,
   "metadata": {},
   "outputs": [
    {
     "name": "stdout",
     "output_type": "stream",
     "text": [
      "42\n"
     ]
    }
   ],
   "source": [
    "print(number)"
   ]
  },
  {
   "cell_type": "markdown",
   "metadata": {},
   "source": [
    "Even those these appear the same to our eye, Python uses them very differently.  Remember how we defined notnumber?  Let's check what data type Python is using with `type`."
   ]
  },
  {
   "cell_type": "code",
   "execution_count": 11,
   "metadata": {},
   "outputs": [
    {
     "data": {
      "text/plain": [
       "str"
      ]
     },
     "execution_count": 11,
     "metadata": {},
     "output_type": "execute_result"
    }
   ],
   "source": [
    "type(notnumber)"
   ]
  },
  {
   "cell_type": "markdown",
   "metadata": {},
   "source": [
    "Fortunately Python provides a set of *functions* to convert objects between different data types.  A function packages a set of prewritten commands to accomplish a particular task.  Most functions take one or more objects as inputs or 'arguments' and produce some new object as output.\n",
    "\n",
    "The `int` function takes an object as an argument and converts it to an `int` (integer) numeric object.  The usage is as follows:"
   ]
  },
  {
   "cell_type": "code",
   "execution_count": 12,
   "metadata": {},
   "outputs": [
    {
     "name": "stdout",
     "output_type": "stream",
     "text": [
      "42\n"
     ]
    },
    {
     "data": {
      "text/plain": [
       "int"
      ]
     },
     "execution_count": 12,
     "metadata": {},
     "output_type": "execute_result"
    }
   ],
   "source": [
    "newnumber=int(notnumber)\n",
    "print(newnumber)\n",
    "type(newnumber)"
   ]
  },
  {
   "cell_type": "markdown",
   "metadata": {},
   "source": [
    "`int` objects can only hold integer values.  If you have decimal values, use the `float` (floating decimal) type instead."
   ]
  },
  {
   "cell_type": "code",
   "execution_count": 13,
   "metadata": {},
   "outputs": [
    {
     "name": "stdout",
     "output_type": "stream",
     "text": [
      "42.5\n"
     ]
    }
   ],
   "source": [
    "myfloat=float(newnumber)+0.5\n",
    "print(myfloat)"
   ]
  },
  {
   "cell_type": "markdown",
   "metadata": {},
   "source": [
    "Now we can try adding objects again."
   ]
  },
  {
   "cell_type": "code",
   "execution_count": 14,
   "metadata": {},
   "outputs": [
    {
     "name": "stdout",
     "output_type": "stream",
     "text": [
      "84\n"
     ]
    }
   ],
   "source": [
    "print(number+newnumber)"
   ]
  },
  {
   "cell_type": "markdown",
   "metadata": {},
   "source": [
    "**Exercise**\n",
    "1. Define two variables, `j` and `k` with values 37 and 52 respectively.\n",
    "2. What is the sum of `j` and `k`? The product?  Write code for each of these in the editor window.\n",
    "3. Now define `j` and `k` to be 8 and 3.  Re-use your code from the editor to determine their sum and product.\n",
    "\n",
    "## Lists\n",
    "\n",
    "Python's lists store objects in a sequence.  For example, we can save numbers and characters:"
   ]
  },
  {
   "cell_type": "code",
   "execution_count": 15,
   "metadata": {},
   "outputs": [
    {
     "name": "stdout",
     "output_type": "stream",
     "text": [
      "[1, 2, 3, 'four']\n"
     ]
    }
   ],
   "source": [
    "my_list=[1,2,3,\"four\"]\n",
    "print(my_list)"
   ]
  },
  {
   "cell_type": "markdown",
   "metadata": {},
   "source": [
    "We can also directly place previously defined objects into a list (even other lists!):"
   ]
  },
  {
   "cell_type": "code",
   "execution_count": 16,
   "metadata": {},
   "outputs": [
    {
     "name": "stdout",
     "output_type": "stream",
     "text": [
      "[12, 'cat', ['a', 'b', 'c']]\n"
     ]
    }
   ],
   "source": [
    "obj0=12\n",
    "obj1=\"cat\"\n",
    "obj2=[\"a\",\"b\",\"c\"]\n",
    "my_list1=[obj0,obj1,obj2]\n",
    "print(my_list1)"
   ]
  },
  {
   "cell_type": "markdown",
   "metadata": {},
   "source": [
    "Once we've defined a list, we can add more elements to it with the `.append` function."
   ]
  },
  {
   "cell_type": "code",
   "execution_count": 17,
   "metadata": {},
   "outputs": [
    {
     "name": "stdout",
     "output_type": "stream",
     "text": [
      "[12, 'cat', ['a', 'b', 'c'], 'dog']\n"
     ]
    }
   ],
   "source": [
    "my_list1.append(\"dog\")\n",
    "print(my_list1)"
   ]
  },
  {
   "cell_type": "markdown",
   "metadata": {
    "collapsed": true
   },
   "source": [
    "**Exercise** \n",
    "\n",
    "Create a list of:\n",
    " * your favorite color\n",
    " * your two favorite holidays (as a list within the list)\n",
    "\n",
    "### Indexing\n",
    "\n",
    "Python retains the order of elements in our list and uses that order to retrieve objects in lists.  These numbered positions are called indices.\n",
    "\n",
    "We use `[` and `]` to contain indices.\n",
    "\n",
    "** Most importantly, ** Python starts counting at **zero**.  So confusingly, the first element in your list is denoted `[0]`, the second `[1]`, the third `[2]` and so on."
   ]
  },
  {
   "cell_type": "code",
   "execution_count": 18,
   "metadata": {},
   "outputs": [
    {
     "name": "stdout",
     "output_type": "stream",
     "text": [
      "parrot\n"
     ]
    }
   ],
   "source": [
    "my_list2 = [\"cat\",\"dog\",\"parrot\"]\n",
    "print(my_list2[2])"
   ]
  },
  {
   "cell_type": "markdown",
   "metadata": {},
   "source": [
    "We can use multiple indices for lists within lists, one after the other:"
   ]
  },
  {
   "cell_type": "code",
   "execution_count": 19,
   "metadata": {},
   "outputs": [
    {
     "name": "stdout",
     "output_type": "stream",
     "text": [
      "b\n"
     ]
    }
   ],
   "source": [
    "#recall\n",
    "my_list1=[12, 'cat', ['a', 'b', 'c']]\n",
    "print(my_list1[2][1]) #i.e. the second element of the list held in the third element of my_list1"
   ]
  },
  {
   "cell_type": "markdown",
   "metadata": {},
   "source": [
    "The `len` function provides the length of an object in Python."
   ]
  },
  {
   "cell_type": "code",
   "execution_count": 20,
   "metadata": {},
   "outputs": [
    {
     "name": "stdout",
     "output_type": "stream",
     "text": [
      "3\n"
     ]
    }
   ],
   "source": [
    "print(len(my_list1))"
   ]
  },
  {
   "cell_type": "markdown",
   "metadata": {},
   "source": [
    "If `len(my_new_list)=10` that means there are ten elements in the list, so the indices are 0 through 9.  We can use the `range` function with `len` to generate a list of indices."
   ]
  },
  {
   "cell_type": "code",
   "execution_count": 21,
   "metadata": {},
   "outputs": [
    {
     "name": "stdout",
     "output_type": "stream",
     "text": [
      "[0, 1, 2]\n"
     ]
    }
   ],
   "source": [
    "my_indices1 = list(range(len(my_list1)))\n",
    "print(my_indices1)"
   ]
  },
  {
   "cell_type": "markdown",
   "metadata": {},
   "source": [
    "#### Indexing beyond lists\n",
    "\n",
    "Indexes can also be used with any sequential data type, which includes strings.\n",
    "\n",
    "For example:"
   ]
  },
  {
   "cell_type": "code",
   "execution_count": 22,
   "metadata": {},
   "outputs": [
    {
     "name": "stdout",
     "output_type": "stream",
     "text": [
      "q\n",
      "quick\n"
     ]
    }
   ],
   "source": [
    "my_str=\"The quick brown fox jumps over the lazy dog.\"\n",
    "print(my_str[4])\n",
    "print(my_str[4:9]) #4:9 indicates characters 4-8"
   ]
  },
  {
   "cell_type": "markdown",
   "metadata": {},
   "source": [
    "We can also work from right to left using negative numbers.  Furthermore, using `:` ranges with one end blank will automatically go to the end of the object."
   ]
  },
  {
   "cell_type": "code",
   "execution_count": 23,
   "metadata": {},
   "outputs": [
    {
     "name": "stdout",
     "output_type": "stream",
     "text": [
      "dog.\n",
      "The \n"
     ]
    }
   ],
   "source": [
    "print(my_str[-4:])\n",
    "print(my_str[:4])"
   ]
  },
  {
   "cell_type": "markdown",
   "metadata": {},
   "source": [
    "We can still use multiple nested indices across sequential data types.  For instance, a list of strings:"
   ]
  },
  {
   "cell_type": "code",
   "execution_count": 24,
   "metadata": {},
   "outputs": [
    {
     "data": {
      "text/plain": [
       "'hom'"
      ]
     },
     "execution_count": 24,
     "metadata": {},
     "output_type": "execute_result"
    }
   ],
   "source": [
    "[\"home\",\"away\"][0][0:3]"
   ]
  },
  {
   "cell_type": "markdown",
   "metadata": {},
   "source": [
    "Unfortunately, not all data types are sequential - indices will not work on numeric values:  \n",
    "\n",
    "**Exercise**\n",
    "\n",
    "1. Try to use indexing to get the tenth digit of `my_pi` as defined below"
   ]
  },
  {
   "cell_type": "code",
   "execution_count": 25,
   "metadata": {},
   "outputs": [],
   "source": [
    "my_pi=3.141592653589793"
   ]
  },
  {
   "cell_type": "markdown",
   "metadata": {},
   "source": [
    "2. Can you think of a way we could change pi to make indexing work on it?"
   ]
  },
  {
   "cell_type": "markdown",
   "metadata": {},
   "source": [
    "3. Below is a list of lists containing the NATO phonetic codes for each letter of the alphabet.  Each list within `nato` contains a letter of the alphabet and its corresponding code."
   ]
  },
  {
   "cell_type": "code",
   "execution_count": 26,
   "metadata": {},
   "outputs": [],
   "source": [
    "nato=[[\"A\",\"Alfa\"],\n",
    "      [\"B\",\"Bravo\"],\n",
    "      [\"C\",\"Charlie\"],\n",
    "      [\"D\",\"Delta\"],\n",
    "      [\"E\",\"Echo\"],\n",
    "      [\"F\",\"Foxtrot\"],\n",
    "      [\"G\",\"Golf\"],\n",
    "      [\"H\",\"Hotel\"],\n",
    "      [\"I\",\"India\"],\n",
    "      [\"J\",\"Juliett\"],\n",
    "      [\"K\",\"Kilo\"],\n",
    "      [\"L\",\"Lima\"],\n",
    "      [\"M\",\"Mike\"],\n",
    "      [\"N\",\"November\"],\n",
    "      [\"O\",\"Oscar\"],\n",
    "      [\"P\",\"Papa\"],\n",
    "      [\"Q\",\"Quebec\"],\n",
    "      [\"R\",\"Romeo\"],\n",
    "      [\"S\",\"Sierra\"],\n",
    "      [\"T\",\"Tango\"],\n",
    "      [\"U\",\"Uniform\"],\n",
    "      [\"V\",\"Victor\"],\n",
    "      [\"W\",\"Whiskey\"],\n",
    "      [\"X\",\"X-ray\"],\n",
    "      [\"Y\",\"Yankee\"],\n",
    "      [\"Z\",\"Zulu\"]]"
   ]
  },
  {
   "cell_type": "markdown",
   "metadata": {},
   "source": [
    "* What is the fifteenth letter of the alphabet?\n",
    "* What is the code for the twenty-third letter of the alphabet?\n",
    "* What is the fourth letter of the code for the eighth letter of the alphabet?"
   ]
  },
  {
   "cell_type": "markdown",
   "metadata": {},
   "source": [
    "There are several other important data types we won't cover today.  We will cover Python's data type for mapping between values, dictionaries, in Python II.\n",
    "\n",
    "Read more about Python's built-in data types <a href=https://docs.python.org/3/library/stdtypes.html>here</a>.\n",
    "\n",
    "# 3. Conditionals\n",
    "\n",
    "## Conditions and Booleans\n",
    "\n",
    "Conditionals allow for more flexible instructions, letting our code react differently as our inputs change.\n",
    "\n",
    "Conditions often arise from comparisons:\n",
    "\n",
    "        <          strictly less than\n",
    "        <= \t    less than or equal\n",
    "        > \t     strictly greater than\n",
    "        >= \t    greater than or equal\n",
    "        == \t    equal\n",
    "        != \t    not equal\n",
    "        is \t    object identity\n",
    "        is not \tnegated object identity\n",
    "        in \t    sequence membership\n",
    "        not in \tsequence non-membership\n",
    "\n",
    "**Note:** `=` is used for assignment, whereas `==` checks if two objects are equal.\n",
    "\n",
    "Each condition considered evaluates to a Boolean value - `True` or `False`."
   ]
  },
  {
   "cell_type": "code",
   "execution_count": 27,
   "metadata": {},
   "outputs": [
    {
     "data": {
      "text/plain": [
       "False"
      ]
     },
     "execution_count": 27,
     "metadata": {},
     "output_type": "execute_result"
    }
   ],
   "source": [
    "num=5\n",
    "num<3"
   ]
  },
  {
   "cell_type": "code",
   "execution_count": 28,
   "metadata": {},
   "outputs": [
    {
     "data": {
      "text/plain": [
       "True"
      ]
     },
     "execution_count": 28,
     "metadata": {},
     "output_type": "execute_result"
    }
   ],
   "source": [
    "letter=\"a\"\n",
    "letter in [\"a\",\"b\",\"c\"]"
   ]
  },
  {
   "cell_type": "markdown",
   "metadata": {},
   "source": [
    "## Conditional Statements\n",
    "\n",
    "A conditional statement allows your code to branch and behave differently based on these conditions.\n",
    "\n",
    "A simple conditional statement takes the form:\n",
    "\n",
    "```\n",
    "if <condition>:\n",
    "    <do something only if condition1 is true>\n",
    "```\n",
    "\n",
    "Your instructions can be as long as necessary, provided they remain indented.  Indentation is very important in Python as it groups lines of code without using explict characters like `{` and `}` as in many other language.  You can indent with spaces or tabs, but you must be **consistent**.\n",
    " \n",
    "We can supply alternate steps if the condition is false with `else`, or even consider multiple conditions with `elif` (i.e. else if).\n",
    "\n",
    "```\n",
    "if <condition1>:\n",
    "    <do something if condition1 is true>\n",
    "elif <condition2>:\n",
    "    <do a different thing if condition1 is false and condition2 is true>\n",
    "else\n",
    "    <do a third thing if neither condition is true>\n",
    "```"
   ]
  },
  {
   "cell_type": "code",
   "execution_count": 29,
   "metadata": {},
   "outputs": [
    {
     "name": "stdout",
     "output_type": "stream",
     "text": [
      "This number is greater than four\n"
     ]
    }
   ],
   "source": [
    "num=5\n",
    "if num>4:\n",
    "    print(\"This number is greater than four\")"
   ]
  },
  {
   "cell_type": "code",
   "execution_count": 30,
   "metadata": {},
   "outputs": [],
   "source": [
    "num=3\n",
    "if num>4:\n",
    "    print(\"This number is greater than four\")"
   ]
  },
  {
   "cell_type": "markdown",
   "metadata": {},
   "source": [
    "Adding `else` lets us give instructions if our condition is `False`."
   ]
  },
  {
   "cell_type": "code",
   "execution_count": 31,
   "metadata": {},
   "outputs": [
    {
     "name": "stdout",
     "output_type": "stream",
     "text": [
      "This number is less than or equal to four\n"
     ]
    }
   ],
   "source": [
    "num=3\n",
    "if num>4:\n",
    "    print(\"This number is greater than than four\")\n",
    "else:\n",
    "    print(\"This number is less than or equal to four\")"
   ]
  },
  {
   "cell_type": "markdown",
   "metadata": {},
   "source": [
    "Finally, the `elif` command lets us split the possible values of `num` into more groups."
   ]
  },
  {
   "cell_type": "code",
   "execution_count": 32,
   "metadata": {},
   "outputs": [
    {
     "name": "stdout",
     "output_type": "stream",
     "text": [
      "This number is greater than or equal to three and less than ten\n"
     ]
    }
   ],
   "source": [
    "num=8\n",
    "if num<3:\n",
    "    print(\"This number is less than three\")\n",
    "elif num<10:\n",
    "    print(\"This number is greater than or equal to three and less than ten\")\n",
    "else:\n",
    "    print(\"This number is greater than ten\")"
   ]
  },
  {
   "cell_type": "markdown",
   "metadata": {},
   "source": [
    "## Compound Conditions\n",
    "\n",
    "As our needs become more complex, we can combine conditions using Boolean Algebra operators `and` and `or`."
   ]
  },
  {
   "cell_type": "code",
   "execution_count": 33,
   "metadata": {},
   "outputs": [
    {
     "data": {
      "text/plain": [
       "False"
      ]
     },
     "execution_count": 33,
     "metadata": {},
     "output_type": "execute_result"
    }
   ],
   "source": [
    "num=5\n",
    "letter=\"a\"\n",
    "(letter in [\"a\",\"b\",\"c\"]) and num<3 "
   ]
  },
  {
   "cell_type": "markdown",
   "metadata": {},
   "source": [
    "This is equivalent to using Boolean values directly:"
   ]
  },
  {
   "cell_type": "code",
   "execution_count": 34,
   "metadata": {},
   "outputs": [
    {
     "data": {
      "text/plain": [
       "False"
      ]
     },
     "execution_count": 34,
     "metadata": {},
     "output_type": "execute_result"
    }
   ],
   "source": [
    "True and False"
   ]
  },
  {
   "cell_type": "markdown",
   "metadata": {},
   "source": [
    "Similarly:"
   ]
  },
  {
   "cell_type": "code",
   "execution_count": 35,
   "metadata": {},
   "outputs": [
    {
     "data": {
      "text/plain": [
       "True"
      ]
     },
     "execution_count": 35,
     "metadata": {},
     "output_type": "execute_result"
    }
   ],
   "source": [
    "(letter in [\"a\",\"b\",\"c\"]) or num<3 "
   ]
  },
  {
   "cell_type": "code",
   "execution_count": 36,
   "metadata": {},
   "outputs": [
    {
     "data": {
      "text/plain": [
       "True"
      ]
     },
     "execution_count": 36,
     "metadata": {},
     "output_type": "execute_result"
    }
   ],
   "source": [
    "True or False"
   ]
  },
  {
   "cell_type": "markdown",
   "metadata": {},
   "source": [
    "Conditions can be grouped with "
   ]
  },
  {
   "cell_type": "code",
   "execution_count": 37,
   "metadata": {},
   "outputs": [
    {
     "data": {
      "text/plain": [
       "True"
      ]
     },
     "execution_count": 37,
     "metadata": {},
     "output_type": "execute_result"
    }
   ],
   "source": [
    "True or (False and False)"
   ]
  },
  {
   "cell_type": "code",
   "execution_count": 38,
   "metadata": {},
   "outputs": [
    {
     "data": {
      "text/plain": [
       "False"
      ]
     },
     "execution_count": 38,
     "metadata": {},
     "output_type": "execute_result"
    }
   ],
   "source": [
    "(True or False) and False"
   ]
  },
  {
   "cell_type": "markdown",
   "metadata": {},
   "source": [
    "Remember, complex conditions can be simplified: `(True or False) and False` is equivalent to `True and False` since `(True or False)` evaluates to `True`.\n",
    "\n",
    "Conditions become far more powerful, when combined with Loops."
   ]
  },
  {
   "cell_type": "markdown",
   "metadata": {},
   "source": [
    "# 4. Loops \n",
    "\n",
    "## For Loops\n",
    "\n",
    "A \"for loop\" allows us to apply the same steps to each element in a list or other iterable.  In essence, loops let us automate tasks relative to some sequence that we might otherwise write like this:"
   ]
  },
  {
   "cell_type": "code",
   "execution_count": 39,
   "metadata": {},
   "outputs": [
    {
     "name": "stdout",
     "output_type": "stream",
     "text": [
      "26\n"
     ]
    }
   ],
   "source": [
    "sales=[5,2,7,9,3]\n",
    "total_sales=0\n",
    "total_sales=total_sales+sales[0]\n",
    "total_sales=total_sales+sales[1]\n",
    "total_sales=total_sales+sales[2]\n",
    "total_sales=total_sales+sales[3]\n",
    "total_sales=total_sales+sales[4]\n",
    "print(total_sales)"
   ]
  },
  {
   "cell_type": "markdown",
   "metadata": {},
   "source": [
    "Loops take the form:\n",
    "\n",
    "\n",
    "`for <name> in <list>:`\n",
    "\n",
    "        do something based on name\n",
    "        \n",
    "    \n",
    "* `<name>` is **completely arbitrary**, though i,j,k, and n are relatively common\n",
    "* `<list>` is a pre-defined list or other iterable object.\n",
    "* **Reminder: Indentation is very important in Python and must be used consistently across the loop(s)** Only the code indented under the loop will be run in each iteration."
   ]
  },
  {
   "cell_type": "code",
   "execution_count": 40,
   "metadata": {},
   "outputs": [
    {
     "name": "stdout",
     "output_type": "stream",
     "text": [
      "0\n",
      "1\n",
      "2\n",
      "3\n",
      "4\n",
      "5\n"
     ]
    }
   ],
   "source": [
    "my_nums=list(range(6))\n",
    "\n",
    "for n in my_nums:\n",
    "    print(n)"
   ]
  },
  {
   "cell_type": "markdown",
   "metadata": {},
   "source": [
    "We can also loop within loops.  Indentation is key to control which blocks of code are executed within which loop."
   ]
  },
  {
   "cell_type": "code",
   "execution_count": 41,
   "metadata": {},
   "outputs": [
    {
     "name": "stdout",
     "output_type": "stream",
     "text": [
      "[[['A', 'Alfa'], 5], [['B', 'Bravo'], 6], [['C', 'Charlie'], 8], [['D', 'Delta'], 6], [['E', 'Echo'], 5]]\n"
     ]
    }
   ],
   "source": [
    "#Nesting loops - indentation is key!\n",
    "newnato=[] #initialize an empty list\n",
    "for index in range(5):\n",
    "    total=0 #resets to zero each loop\n",
    "    for entry in nato[index]:\n",
    "        total=total+len(entry) #add up length of both strings in each entry\n",
    "    new=[nato[index],total]\n",
    "    newnato.append(new)\n",
    "print(newnato)"
   ]
  },
  {
   "cell_type": "markdown",
   "metadata": {},
   "source": [
    "## While Loops\n",
    "\n",
    "The while loop behaves a little differently, though it has a similar format, using `while` instead of `for`.  Instead of looping through a pre-defined set, a while loop continues running until a certain condition is no longer true."
   ]
  },
  {
   "cell_type": "code",
   "execution_count": 42,
   "metadata": {},
   "outputs": [
    {
     "name": "stdout",
     "output_type": "stream",
     "text": [
      "1\n",
      "2\n",
      "3\n",
      "4\n",
      "5\n"
     ]
    }
   ],
   "source": [
    "a=0\n",
    "while a<5:\n",
    "    a=a+1\n",
    "    print(a)"
   ]
  },
  {
   "cell_type": "markdown",
   "metadata": {},
   "source": [
    "Because there isn't a pre-defined end to a while loop, they can also be dangerous to your code!  If you aren't careful your while loop can go on forever.  A trivial example uses `while True:`."
   ]
  },
  {
   "cell_type": "code",
   "execution_count": 43,
   "metadata": {},
   "outputs": [],
   "source": [
    "#Warning: this will run forever...\n",
    "#while True:\n",
    "#    print(\"oops\")"
   ]
  },
  {
   "cell_type": "markdown",
   "metadata": {},
   "source": [
    "If you run something like this, or need to stop code currently executing for any reason, you can either:\n",
    " * Press the red square at the top corner of the console window in Spyder\n",
    " * Press CTRL+c"
   ]
  },
  {
   "cell_type": "markdown",
   "metadata": {},
   "source": [
    "## Loops with Conditionals\n",
    "\n",
    "Loops become even more useful when combined with conditionals, to perform different steps based on each value in the loop."
   ]
  },
  {
   "cell_type": "code",
   "execution_count": 44,
   "metadata": {},
   "outputs": [
    {
     "name": "stdout",
     "output_type": "stream",
     "text": [
      "0\n",
      "2\n",
      "4\n",
      "6\n",
      "8\n"
     ]
    }
   ],
   "source": [
    "for number in range(10):\n",
    "    if number % 2 == 0: # % denotes the modulo operation - the result is the remainder after dividing by 2\n",
    "        print(number)"
   ]
  },
  {
   "cell_type": "markdown",
   "metadata": {},
   "source": [
    "Recall that we can combine multiple conditions with `and`."
   ]
  },
  {
   "cell_type": "code",
   "execution_count": 45,
   "metadata": {},
   "outputs": [
    {
     "name": "stdout",
     "output_type": "stream",
     "text": [
      "[[95, 'A'], [90, 'A'], [66, 'D'], [83, 'B'], [71, 'C'], [78, 'C'], [93, 'A'], [81, 'B'], [87, 'B'], [81, 'B']]\n"
     ]
    }
   ],
   "source": [
    "scores=[95,90,66,83,71,78,93,81,87,81]\n",
    "grades=[]\n",
    "for score in scores:\n",
    "    if score<80 and score>=70:\n",
    "        grade=\"C\"\n",
    "    elif score>=90:\n",
    "        grade=\"A\"\n",
    "    elif score<90 and score>=80:\n",
    "        grade=\"B\"\n",
    "    elif score<70 and score>=60:\n",
    "        grade=\"D\"\n",
    "    else:\n",
    "        grade=\"F\"\n",
    "    grades.append([score,grade])       \n",
    "print(grades)"
   ]
  },
  {
   "cell_type": "markdown",
   "metadata": {},
   "source": [
    "** Exercise: **\n",
    "1. How could I change the `for scores in scores` loop above to no longer need the `and` statements?  (Remember how `elif` works!).\n",
    "2. How many numbers between 1 and 100 are divisible by 7?\n",
    "3. Make a new list of NATO codes keeping only those that use the letter \"a\" in their code."
   ]
  },
  {
   "cell_type": "markdown",
   "metadata": {},
   "source": [
    "## Next Up (Python II):\n",
    "* Reading and writing external files \n",
    "* Saving and executing .py scripts outside Spyder\n",
    "* Dictionaries\n",
    "* Comprehensions\n",
    "* User-defined Functions\n",
    "* Error handling with Try and Except\n",
    "* Survey of useful packages for Data Analysis\n",
    "\n",
    "## Questions?\n",
    "\n",
    "If you're planning to attend Python II next week, please feel free to share any ideas or topics you'd like to see covered.  \n",
    "\n",
    "You can also share ideas while filling out our [**Feedback Survey**](unc.libsurveys.com/davishubfeedback).\n",
    "\n",
    "I'm available for one-on-one consultations on Python if you need help.  [Contact me here.](http://guides.lib.unc.edu/mattjansen)\n",
    "\n",
    "Thanks for coming!"
   ]
  },
  {
   "cell_type": "markdown",
   "metadata": {},
   "source": [
    "## References and Resources\n",
    "\n",
    "* <a href=\"https://automatetheboringstuff.com/\">Automate the Boring Stuff with Python</a>\n",
    "\n",
    "* <a href=\"https://stackoverflow.com/questions/tagged/python-3.x?sort=frequent&pageSize=15\">Stack Overflow</a>\n",
    "\n",
    "* <a href=\"https://www.google.com/\">Google!</a>\n",
    "\n",
    "* <a href=\"http://www.karsdorp.io/python-course/\">Python Programming for the Humanities</a>"
   ]
  }
 ],
 "metadata": {
  "anaconda-cloud": {},
  "kernelspec": {
   "display_name": "Python 3",
   "language": "python",
   "name": "python3"
  },
  "language_info": {
   "codemirror_mode": {
    "name": "ipython",
    "version": 3
   },
   "file_extension": ".py",
   "mimetype": "text/x-python",
   "name": "python",
   "nbconvert_exporter": "python",
   "pygments_lexer": "ipython3",
   "version": "3.6.5"
  }
 },
 "nbformat": 4,
 "nbformat_minor": 2
}
